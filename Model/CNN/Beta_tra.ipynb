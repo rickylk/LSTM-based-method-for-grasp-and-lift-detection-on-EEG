{
 "cells": [
  {
   "cell_type": "code",
   "execution_count": 1,
   "metadata": {},
   "outputs": [
    {
     "name": "stderr",
     "output_type": "stream",
     "text": [
      "2022-06-13 19:53:19.947820: W tensorflow/stream_executor/platform/default/dso_loader.cc:64] Could not load dynamic library 'libcudart.so.11.0'; dlerror: libcudart.so.11.0: cannot open shared object file: No such file or directory; LD_LIBRARY_PATH: /home/neaf-2070/.mujoco/mujoco200_linux/bin:/usr/local/cuda-10.2/lib64:/usr/local/cuda/lib64:/home/neaf-2070/.mujoco/mujoco200_linux/bin:/usr/local/cuda-10.2/lib64:/usr/local/cuda/lib64:\n",
      "2022-06-13 19:53:19.947839: I tensorflow/stream_executor/cuda/cudart_stub.cc:29] Ignore above cudart dlerror if you do not have a GPU set up on your machine.\n"
     ]
    }
   ],
   "source": [
    "import pandas as pd\n",
    "from pandas.core.frame import DataFrame\n",
    "import glob\n",
    "import numpy as np\n",
    "import pickle\n",
    "from sklearn.preprocessing import StandardScaler\n",
    "from sklearn.model_selection import train_test_split\n",
    "from scipy.fft import fft, fftfreq\n",
    "from scipy.signal import firwin, lfilter, butter\n",
    "# import asrpy\n",
    "import matplotlib.pyplot as plt\n",
    "\n",
    "import tensorflow as tf\n",
    "from tensorflow import keras\n",
    "from tensorflow.keras.utils import to_categorical\n",
    "from tensorflow.keras.models import Sequential\n",
    "from tensorflow.keras.layers import Dense, Flatten, Conv2D, BatchNormalization, Activation, MaxPooling2D\n",
    "from keras import backend as K #转换为张量\n"
   ]
  },
  {
   "cell_type": "code",
   "execution_count": 2,
   "metadata": {},
   "outputs": [],
   "source": [
    "with open('labels.pickle', 'rb') as f:\n",
    "    labels = pickle.load(f)\n",
    "\n",
    "with open('dataset_Beta_tragards.pickle', 'rb') as f:\n",
    "    dataset = pickle.load(f)\n"
   ]
  },
  {
   "cell_type": "markdown",
   "metadata": {},
   "source": [
    "把000000的labelindex挑出來"
   ]
  },
  {
   "cell_type": "code",
   "execution_count": 4,
   "metadata": {},
   "outputs": [],
   "source": [
    "c_0 = []\n",
    "c = []\n",
    "for i in range(0,len(labels)):\n",
    "    if labels[i].sum() == 0:\n",
    "        c_0.append(i)\n",
    "    else:\n",
    "        c.append(i)"
   ]
  },
  {
   "cell_type": "markdown",
   "metadata": {},
   "source": [
    "把000000的label跟data分開和其他label跟data分開"
   ]
  },
  {
   "cell_type": "code",
   "execution_count": 6,
   "metadata": {},
   "outputs": [],
   "source": [
    "label_0 = []\n",
    "label_1 = []\n",
    "data_0 = []\n",
    "data_1 = []\n",
    "for i in c_0:\n",
    "    label_0.append(np.array(labels[i]))\n",
    "    data_0.append(dataset[i])\n",
    "for i in c:\n",
    "    label_1.append(np.array(labels[i]))\n",
    "    data_1.append(dataset[i])"
   ]
  },
  {
   "cell_type": "code",
   "execution_count": 8,
   "metadata": {},
   "outputs": [
    {
     "data": {
      "text/plain": [
       "349"
      ]
     },
     "execution_count": 8,
     "metadata": {},
     "output_type": "execute_result"
    }
   ],
   "source": [
    "datax, data_00 = train_test_split(data_0,test_size=0.0035,train_size=1-0.0035)\n",
    "datax = []\n",
    "len(data_00)"
   ]
  },
  {
   "cell_type": "code",
   "execution_count": 9,
   "metadata": {},
   "outputs": [],
   "source": [
    "data = data_00+data_1\n",
    "label = label_0[:len(data_00)]+label_1"
   ]
  },
  {
   "cell_type": "code",
   "execution_count": 11,
   "metadata": {},
   "outputs": [],
   "source": [
    "data = np.array(data)\n",
    "label = np.array(label)"
   ]
  },
  {
   "cell_type": "markdown",
   "metadata": {},
   "source": [
    "把000000的label跟data分開和其他label跟data分開"
   ]
  },
  {
   "cell_type": "code",
   "execution_count": 12,
   "metadata": {},
   "outputs": [],
   "source": [
    "datax, data, labelx, label = train_test_split(data, label,test_size=0.99,train_size=0.01)"
   ]
  },
  {
   "cell_type": "code",
   "execution_count": 14,
   "metadata": {},
   "outputs": [],
   "source": [
    "X_data = data.astype('float64')\n",
    "Y_data = label.astype('int64')\n",
    "# X_train = np.array(dataset_fft)\n",
    "X_data = X_data.reshape(len(X_data), X_data[0].shape[0], X_data[0].shape[1], 1)\n",
    "# Y_train = np.array(labels)"
   ]
  },
  {
   "cell_type": "markdown",
   "metadata": {},
   "source": [
    "建立模型架構"
   ]
  },
  {
   "cell_type": "code",
   "execution_count": 27,
   "metadata": {},
   "outputs": [],
   "source": [
    "\n",
    "def new_model():\n",
    "    model = Sequential()\n",
    "    model.add(Conv2D(filters = 32, padding = \"same\", kernel_size = (X_data.shape[1],3), activation = \"relu\", input_shape = (X_data.shape[1], X_data.shape[2], 1)))\n",
    "    model.add(BatchNormalization())\n",
    "    model.add(Conv2D(filters = 64, padding = \"same\", kernel_size = (1,X_data.shape[2]), activation = \"relu\", input_shape = (X_data.shape[1], X_data.shape[2], 1)))\n",
    "    model.add(BatchNormalization())\n",
    "    # model.add(Conv2D(filters = 64, padding = \"same\", kernel_size = (3,3), activation = \"relu\", input_shape = (X_data.shape[1], X_data.shape[2], 1)))\n",
    "    # model.add(BatchNormalization())\n",
    "    model.add(Flatten())\n",
    "    model.add(Dense(256, activation = \"relu\"))\n",
    "    model.add(BatchNormalization())\n",
    "    model.add(Dense(64, activation = \"relu\"))\n",
    "    model.add(BatchNormalization())\n",
    "    model.add(Dense(6, activation = \"sigmoid\"))\n",
    "\n",
    "    adam = keras.optimizers.Adam(lr=0.001)\n",
    "    model.compile(optimizer = adam, loss = \"binary_crossentropy\", metrics = [\"accuracy\"])\n",
    "    \n",
    "    return model"
   ]
  },
  {
   "cell_type": "code",
   "execution_count": 28,
   "metadata": {},
   "outputs": [
    {
     "name": "stdout",
     "output_type": "stream",
     "text": [
      "Model: \"sequential_1\"\n",
      "_________________________________________________________________\n",
      " Layer (type)                Output Shape              Param #   \n",
      "=================================================================\n",
      " conv2d_2 (Conv2D)           (None, 18, 14, 32)        1760      \n",
      "                                                                 \n",
      " batch_normalization_4 (Batc  (None, 18, 14, 32)       128       \n",
      " hNormalization)                                                 \n",
      "                                                                 \n",
      " conv2d_3 (Conv2D)           (None, 18, 14, 64)        28736     \n",
      "                                                                 \n",
      " batch_normalization_5 (Batc  (None, 18, 14, 64)       256       \n",
      " hNormalization)                                                 \n",
      "                                                                 \n",
      " flatten_1 (Flatten)         (None, 16128)             0         \n",
      "                                                                 \n",
      " dense_3 (Dense)             (None, 256)               4129024   \n",
      "                                                                 \n",
      " batch_normalization_6 (Batc  (None, 256)              1024      \n",
      " hNormalization)                                                 \n",
      "                                                                 \n",
      " dense_4 (Dense)             (None, 64)                16448     \n",
      "                                                                 \n",
      " batch_normalization_7 (Batc  (None, 64)               256       \n",
      " hNormalization)                                                 \n",
      "                                                                 \n",
      " dense_5 (Dense)             (None, 6)                 390       \n",
      "                                                                 \n",
      "=================================================================\n",
      "Total params: 4,178,022\n",
      "Trainable params: 4,177,190\n",
      "Non-trainable params: 832\n",
      "_________________________________________________________________\n"
     ]
    }
   ],
   "source": [
    "data_fft_model = new_model()\n",
    "data_fft_model.summary()"
   ]
  },
  {
   "cell_type": "code",
   "execution_count": 29,
   "metadata": {},
   "outputs": [
    {
     "name": "stdout",
     "output_type": "stream",
     "text": [
      "Epoch 1/20\n",
      "31/31 [==============================] - 1s 32ms/step - loss: 0.7628 - accuracy: 0.2128 - val_loss: 0.6689 - val_accuracy: 0.0569\n",
      "Epoch 2/20\n",
      "31/31 [==============================] - 1s 29ms/step - loss: 0.5953 - accuracy: 0.4165 - val_loss: 0.5745 - val_accuracy: 0.0508\n",
      "Epoch 3/20\n",
      "31/31 [==============================] - 1s 29ms/step - loss: 0.5083 - accuracy: 0.5799 - val_loss: 0.5588 - val_accuracy: 0.0508\n",
      "Epoch 4/20\n",
      "31/31 [==============================] - 1s 29ms/step - loss: 0.4133 - accuracy: 0.7098 - val_loss: 0.4970 - val_accuracy: 0.0793\n",
      "Epoch 5/20\n",
      "31/31 [==============================] - 1s 29ms/step - loss: 0.3160 - accuracy: 0.7994 - val_loss: 0.4211 - val_accuracy: 0.5427\n",
      "Epoch 6/20\n",
      "31/31 [==============================] - 1s 29ms/step - loss: 0.2293 - accuracy: 0.8620 - val_loss: 0.4154 - val_accuracy: 0.5427\n",
      "Epoch 7/20\n",
      "31/31 [==============================] - 1s 29ms/step - loss: 0.1608 - accuracy: 0.8819 - val_loss: 0.4108 - val_accuracy: 0.5427\n",
      "Epoch 8/20\n",
      "31/31 [==============================] - 1s 29ms/step - loss: 0.1108 - accuracy: 0.8824 - val_loss: 0.4101 - val_accuracy: 0.5427\n",
      "Epoch 9/20\n",
      "31/31 [==============================] - 1s 29ms/step - loss: 0.0804 - accuracy: 0.8793 - val_loss: 0.4152 - val_accuracy: 0.5427\n",
      "Epoch 10/20\n",
      "31/31 [==============================] - 1s 29ms/step - loss: 0.0561 - accuracy: 0.8778 - val_loss: 0.4282 - val_accuracy: 0.5427\n",
      "Epoch 11/20\n",
      "31/31 [==============================] - 1s 29ms/step - loss: 0.0398 - accuracy: 0.8870 - val_loss: 0.4543 - val_accuracy: 0.5427\n",
      "Epoch 12/20\n",
      "31/31 [==============================] - 1s 29ms/step - loss: 0.0304 - accuracy: 0.8702 - val_loss: 0.4128 - val_accuracy: 0.5305\n",
      "Epoch 13/20\n",
      "31/31 [==============================] - 1s 29ms/step - loss: 0.0223 - accuracy: 0.8702 - val_loss: 0.4229 - val_accuracy: 0.5163\n",
      "Epoch 14/20\n",
      "31/31 [==============================] - 1s 29ms/step - loss: 0.0170 - accuracy: 0.8773 - val_loss: 0.4303 - val_accuracy: 0.5224\n",
      "Epoch 15/20\n",
      "31/31 [==============================] - 1s 29ms/step - loss: 0.0138 - accuracy: 0.8697 - val_loss: 0.4390 - val_accuracy: 0.4898\n",
      "Epoch 16/20\n",
      "31/31 [==============================] - 1s 29ms/step - loss: 0.0115 - accuracy: 0.8681 - val_loss: 0.4568 - val_accuracy: 0.4837\n",
      "Epoch 17/20\n",
      "31/31 [==============================] - 1s 29ms/step - loss: 0.0101 - accuracy: 0.8702 - val_loss: 0.4699 - val_accuracy: 0.4837\n",
      "Epoch 18/20\n",
      "31/31 [==============================] - 1s 29ms/step - loss: 0.0086 - accuracy: 0.8686 - val_loss: 0.4854 - val_accuracy: 0.4675\n",
      "Epoch 19/20\n",
      "31/31 [==============================] - 1s 29ms/step - loss: 0.0076 - accuracy: 0.8635 - val_loss: 0.5120 - val_accuracy: 0.4593\n",
      "Epoch 20/20\n",
      "31/31 [==============================] - 1s 29ms/step - loss: 0.0067 - accuracy: 0.8610 - val_loss: 0.5265 - val_accuracy: 0.4553\n"
     ]
    }
   ],
   "source": [
    "train_history = data_fft_model.fit(X_data, Y_data, epochs=20, batch_size=64, validation_split=0.2)"
   ]
  },
  {
   "cell_type": "markdown",
   "metadata": {},
   "source": [
    "載入test data 並測試"
   ]
  },
  {
   "cell_type": "code",
   "execution_count": 30,
   "metadata": {},
   "outputs": [],
   "source": [
    "with open('test_labels.pickle', 'rb') as f:\n",
    "    tlabels = pickle.load(f)\n",
    "    \n",
    "with open('test_Beta_tragards.pickle', 'rb') as f:\n",
    "    tdataset = pickle.load(f)"
   ]
  },
  {
   "cell_type": "code",
   "execution_count": 31,
   "metadata": {},
   "outputs": [],
   "source": [
    "c_0 = []\n",
    "c = []\n",
    "for i in range(0,len(tlabels)):\n",
    "    if tlabels[i].sum() == 0:\n",
    "        c_0.append(i)\n",
    "    else:\n",
    "        c.append(i)"
   ]
  },
  {
   "cell_type": "code",
   "execution_count": 32,
   "metadata": {},
   "outputs": [],
   "source": [
    "label_0 = []\n",
    "label_1 = []\n",
    "data_0 = []\n",
    "data_1 = []\n",
    "for i in c_0:\n",
    "    label_0.append(np.array(tlabels[i]))\n",
    "    data_0.append(np.array(tdataset[i]))\n",
    "for i in c:\n",
    "    label_1.append(np.array(tlabels[i]))\n",
    "    data_1.append(np.array(tdataset[i]))\n",
    "    \n",
    "label_1 = np.array(label_1)\n",
    "data_1 = np.array(data_1)\n",
    "label_1 = label_1.astype('float64')\n",
    "data_1 = data_1.astype('int64')"
   ]
  },
  {
   "cell_type": "code",
   "execution_count": 33,
   "metadata": {},
   "outputs": [],
   "source": [
    "t_labels = []\n",
    "t_dataset = []\n",
    "for i in range(len(tlabels)):\n",
    "    t_labels.append(np.array(tlabels[i]))\n",
    "    t_dataset.append(np.array(tdataset[i]))\n",
    "    \n",
    "tdataset = np.array(t_dataset)\n",
    "tlabels = np.array(t_labels)\n",
    "t_labels = []\n",
    "t_dataset = []"
   ]
  },
  {
   "cell_type": "code",
   "execution_count": 34,
   "metadata": {},
   "outputs": [],
   "source": [
    "tdataset = tdataset.astype('float64')\n",
    "tlabels = tlabels.astype('int64')"
   ]
  },
  {
   "cell_type": "code",
   "execution_count": 35,
   "metadata": {},
   "outputs": [
    {
     "name": "stdout",
     "output_type": "stream",
     "text": [
      "556/556 [==============================] - 2s 4ms/step - loss: 0.2508 - accuracy: 0.6282\n",
      "\n",
      "accuracy 0.6282209753990173\n"
     ]
    }
   ],
   "source": [
    "scores=data_fft_model.evaluate(tdataset,tlabels)\n",
    "print()\n",
    "print('accuracy',scores[1])"
   ]
  },
  {
   "cell_type": "markdown",
   "metadata": {},
   "source": [
    "把000000的test data 去掉看表現"
   ]
  },
  {
   "cell_type": "code",
   "execution_count": 36,
   "metadata": {},
   "outputs": [
    {
     "name": "stdout",
     "output_type": "stream",
     "text": [
      "24/24 [==============================] - 0s 4ms/step - loss: 0.7181 - accuracy: 0.4340\n",
      "\n",
      "accuracy 0.4340369403362274\n"
     ]
    }
   ],
   "source": [
    "scores=data_fft_model.evaluate(data_1,label_1)\n",
    "print()\n",
    "print('accuracy',scores[1])"
   ]
  },
  {
   "cell_type": "code",
   "execution_count": 38,
   "metadata": {},
   "outputs": [],
   "source": [
    "# 模型結構存檔\n",
    "from keras.models import model_from_json\n",
    "json_string = data_fft_model.to_json()\n",
    "with open(\"Beta_tra.config\", \"w\") as text_file:\n",
    "    text_file.write(json_string)\n",
    "\n",
    "    \n",
    "# 模型訓練結果存檔\n",
    "data_fft_model.save_weights(\"Beta_tra.weight\")"
   ]
  }
 ],
 "metadata": {
  "kernelspec": {
   "display_name": "Python 3 (ipykernel)",
   "language": "python",
   "name": "python3"
  },
  "language_info": {
   "codemirror_mode": {
    "name": "ipython",
    "version": 3
   },
   "file_extension": ".py",
   "mimetype": "text/x-python",
   "name": "python",
   "nbconvert_exporter": "python",
   "pygments_lexer": "ipython3",
   "version": "3.8.10"
  }
 },
 "nbformat": 4,
 "nbformat_minor": 4
}
