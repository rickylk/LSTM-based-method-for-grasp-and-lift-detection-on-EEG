{
 "cells": [
  {
   "cell_type": "code",
   "execution_count": 1,
   "metadata": {},
   "outputs": [
    {
     "name": "stderr",
     "output_type": "stream",
     "text": [
      "2022-06-13 20:04:21.194489: W tensorflow/stream_executor/platform/default/dso_loader.cc:64] Could not load dynamic library 'libcudart.so.11.0'; dlerror: libcudart.so.11.0: cannot open shared object file: No such file or directory; LD_LIBRARY_PATH: /home/neaf-2070/.mujoco/mujoco200_linux/bin:/usr/local/cuda-10.2/lib64:/usr/local/cuda/lib64:/home/neaf-2070/.mujoco/mujoco200_linux/bin:/usr/local/cuda-10.2/lib64:/usr/local/cuda/lib64:\n",
      "2022-06-13 20:04:21.194509: I tensorflow/stream_executor/cuda/cudart_stub.cc:29] Ignore above cudart dlerror if you do not have a GPU set up on your machine.\n"
     ]
    }
   ],
   "source": [
    "import pandas as pd\n",
    "from pandas.core.frame import DataFrame\n",
    "import glob\n",
    "import numpy as np\n",
    "import pickle\n",
    "from sklearn.preprocessing import StandardScaler\n",
    "from sklearn.model_selection import train_test_split\n",
    "from scipy.fft import fft, fftfreq\n",
    "from scipy.signal import firwin, lfilter, butter\n",
    "# import asrpy\n",
    "import matplotlib.pyplot as plt\n",
    "\n",
    "import tensorflow as tf\n",
    "from tensorflow import keras\n",
    "from tensorflow.keras.utils import to_categorical\n",
    "from tensorflow.keras.models import Sequential\n",
    "from tensorflow.keras.layers import Dense, Flatten, Conv2D, BatchNormalization, Activation, MaxPooling2D\n",
    "from keras import backend as K #转换为张量\n"
   ]
  },
  {
   "cell_type": "code",
   "execution_count": 2,
   "metadata": {},
   "outputs": [],
   "source": [
    "with open('labels.pickle', 'rb') as f:\n",
    "    labels = pickle.load(f)\n",
    "\n",
    "with open('dataset_Bandpass.pickle', 'rb') as f:\n",
    "    dataset = pickle.load(f)\n"
   ]
  },
  {
   "cell_type": "markdown",
   "metadata": {},
   "source": [
    "把000000的labelindex挑出來"
   ]
  },
  {
   "cell_type": "code",
   "execution_count": 4,
   "metadata": {},
   "outputs": [],
   "source": [
    "c_0 = []\n",
    "c = []\n",
    "for i in range(0,len(labels)):\n",
    "    if labels[i].sum() == 0:\n",
    "        c_0.append(i)\n",
    "    else:\n",
    "        c.append(i)"
   ]
  },
  {
   "cell_type": "markdown",
   "metadata": {},
   "source": [
    "把000000的label跟data分開和其他label跟data分開"
   ]
  },
  {
   "cell_type": "code",
   "execution_count": 6,
   "metadata": {},
   "outputs": [],
   "source": [
    "label_0 = []\n",
    "label_1 = []\n",
    "data_0 = []\n",
    "data_1 = []\n",
    "for i in c_0:\n",
    "    label_0.append(np.array(labels[i]))\n",
    "    data_0.append(dataset[i])\n",
    "for i in c:\n",
    "    label_1.append(np.array(labels[i]))\n",
    "    data_1.append(dataset[i])"
   ]
  },
  {
   "cell_type": "markdown",
   "metadata": {},
   "source": [
    "減少屬於000000label 的data數量，使數量跟其他label接近"
   ]
  },
  {
   "cell_type": "code",
   "execution_count": 8,
   "metadata": {},
   "outputs": [
    {
     "data": {
      "text/plain": [
       "349"
      ]
     },
     "execution_count": 8,
     "metadata": {},
     "output_type": "execute_result"
    }
   ],
   "source": [
    "datax, data_00 = train_test_split(data_0,test_size=0.0035,train_size=1-0.0035)\n",
    "datax = []\n",
    "len(data_00)"
   ]
  },
  {
   "cell_type": "code",
   "execution_count": 9,
   "metadata": {},
   "outputs": [],
   "source": [
    "data = data_00+data_1\n",
    "label = label_0[:len(data_00)]+label_1"
   ]
  },
  {
   "cell_type": "code",
   "execution_count": 11,
   "metadata": {},
   "outputs": [],
   "source": [
    "data = np.array(data)\n",
    "label = np.array(label)"
   ]
  },
  {
   "cell_type": "markdown",
   "metadata": {},
   "source": [
    "打亂訓練數據"
   ]
  },
  {
   "cell_type": "code",
   "execution_count": 12,
   "metadata": {},
   "outputs": [],
   "source": [
    "datax, data, labelx, label = train_test_split(data, label,test_size=0.99,train_size=0.01)"
   ]
  },
  {
   "cell_type": "code",
   "execution_count": 14,
   "metadata": {},
   "outputs": [],
   "source": [
    "X_data = data.astype('float64')\n",
    "Y_data = label.astype('int64')\n",
    "# X_train = np.array(dataset_fft)\n",
    "X_data = X_data.reshape(len(X_data), X_data[0].shape[0], X_data[0].shape[1], 1)\n",
    "# Y_train = np.array(labels)"
   ]
  },
  {
   "cell_type": "markdown",
   "metadata": {},
   "source": [
    "打亂訓練數據"
   ]
  },
  {
   "cell_type": "code",
   "execution_count": 21,
   "metadata": {},
   "outputs": [],
   "source": [
    "\n",
    "def new_model():\n",
    "    model = Sequential()\n",
    "    model.add(Conv2D(filters = 32, padding = \"same\", kernel_size = (X_data.shape[1],3), activation = \"relu\", input_shape = (X_data.shape[1], X_data.shape[2], 1)))\n",
    "    model.add(BatchNormalization())\n",
    "    model.add(Conv2D(filters = 64, padding = \"same\", kernel_size = (1,X_data.shape[2]), activation = \"relu\", input_shape = (X_data.shape[1], X_data.shape[2], 1)))\n",
    "    model.add(BatchNormalization())\n",
    "    # model.add(Conv2D(filters = 64, padding = \"same\", kernel_size = (3,3), activation = \"relu\", input_shape = (X_data.shape[1], X_data.shape[2], 1)))\n",
    "    # model.add(BatchNormalization())\n",
    "    model.add(Flatten())\n",
    "    model.add(Dense(256, activation = \"relu\"))\n",
    "    model.add(BatchNormalization())\n",
    "    model.add(Dense(64, activation = \"relu\"))\n",
    "    model.add(BatchNormalization())\n",
    "    model.add(Dense(6, activation = \"sigmoid\"))\n",
    "\n",
    "    adam = keras.optimizers.Adam(lr=0.001)\n",
    "    model.compile(optimizer = adam, loss = \"binary_crossentropy\", metrics = [\"accuracy\"])\n",
    "    \n",
    "    return model"
   ]
  },
  {
   "cell_type": "code",
   "execution_count": 22,
   "metadata": {},
   "outputs": [
    {
     "name": "stdout",
     "output_type": "stream",
     "text": [
      "Model: \"sequential_2\"\n",
      "_________________________________________________________________\n",
      " Layer (type)                Output Shape              Param #   \n",
      "=================================================================\n",
      " conv2d_4 (Conv2D)           (None, 100, 32, 32)       9632      \n",
      "                                                                 \n",
      " batch_normalization_8 (Batc  (None, 100, 32, 32)      128       \n",
      " hNormalization)                                                 \n",
      "                                                                 \n",
      " conv2d_5 (Conv2D)           (None, 100, 32, 64)       65600     \n",
      "                                                                 \n",
      " batch_normalization_9 (Batc  (None, 100, 32, 64)      256       \n",
      " hNormalization)                                                 \n",
      "                                                                 \n",
      " flatten_2 (Flatten)         (None, 204800)            0         \n",
      "                                                                 \n",
      " dense_6 (Dense)             (None, 256)               52429056  \n",
      "                                                                 \n",
      " batch_normalization_10 (Bat  (None, 256)              1024      \n",
      " chNormalization)                                                \n",
      "                                                                 \n",
      " dense_7 (Dense)             (None, 64)                16448     \n",
      "                                                                 \n",
      " batch_normalization_11 (Bat  (None, 64)               256       \n",
      " chNormalization)                                                \n",
      "                                                                 \n",
      " dense_8 (Dense)             (None, 6)                 390       \n",
      "                                                                 \n",
      "=================================================================\n",
      "Total params: 52,522,790\n",
      "Trainable params: 52,521,958\n",
      "Non-trainable params: 832\n",
      "_________________________________________________________________\n"
     ]
    }
   ],
   "source": [
    "data_fft_model = new_model()\n",
    "data_fft_model.summary()"
   ]
  },
  {
   "cell_type": "code",
   "execution_count": 23,
   "metadata": {},
   "outputs": [
    {
     "name": "stdout",
     "output_type": "stream",
     "text": [
      "Epoch 1/10\n",
      "31/31 [==============================] - 20s 616ms/step - loss: 0.7377 - accuracy: 0.2032 - val_loss: 0.6276 - val_accuracy: 0.1463\n",
      "Epoch 2/10\n",
      "31/31 [==============================] - 19s 624ms/step - loss: 0.6186 - accuracy: 0.3432 - val_loss: 0.5793 - val_accuracy: 0.2358\n",
      "Epoch 3/10\n",
      "31/31 [==============================] - 19s 625ms/step - loss: 0.5468 - accuracy: 0.4695 - val_loss: 0.5450 - val_accuracy: 0.2337\n",
      "Epoch 4/10\n",
      "31/31 [==============================] - 19s 626ms/step - loss: 0.4600 - accuracy: 0.5916 - val_loss: 0.4909 - val_accuracy: 0.2358\n",
      "Epoch 5/10\n",
      "31/31 [==============================] - 19s 625ms/step - loss: 0.3703 - accuracy: 0.6787 - val_loss: 0.4367 - val_accuracy: 0.3028\n",
      "Epoch 6/10\n",
      "31/31 [==============================] - 19s 626ms/step - loss: 0.2822 - accuracy: 0.7581 - val_loss: 0.4091 - val_accuracy: 0.4390\n",
      "Epoch 7/10\n",
      "31/31 [==============================] - 19s 630ms/step - loss: 0.2066 - accuracy: 0.8086 - val_loss: 0.3929 - val_accuracy: 0.4797\n",
      "Epoch 8/10\n",
      "31/31 [==============================] - 19s 628ms/step - loss: 0.1524 - accuracy: 0.8508 - val_loss: 0.4097 - val_accuracy: 0.2703\n",
      "Epoch 9/10\n",
      "31/31 [==============================] - 19s 627ms/step - loss: 0.1523 - accuracy: 0.8279 - val_loss: 0.4510 - val_accuracy: 0.2561\n",
      "Epoch 10/10\n",
      "31/31 [==============================] - 19s 627ms/step - loss: 0.1447 - accuracy: 0.8228 - val_loss: 0.3947 - val_accuracy: 0.4329\n"
     ]
    }
   ],
   "source": [
    "train_history = data_fft_model.fit(X_data, Y_data, epochs=10, batch_size=64, validation_split=0.2)"
   ]
  },
  {
   "cell_type": "markdown",
   "metadata": {},
   "source": [
    "打亂訓練數據"
   ]
  },
  {
   "cell_type": "code",
   "execution_count": 24,
   "metadata": {},
   "outputs": [],
   "source": [
    "with open('test_labels.pickle', 'rb') as f:\n",
    "    tlabels = pickle.load(f)\n",
    "    \n",
    "with open('test_Bandpass.pickle', 'rb') as f:\n",
    "    tdataset = pickle.load(f)"
   ]
  },
  {
   "cell_type": "code",
   "execution_count": 25,
   "metadata": {},
   "outputs": [],
   "source": [
    "c_0 = []\n",
    "c = []\n",
    "for i in range(0,len(tlabels)):\n",
    "    if tlabels[i].sum() == 0:\n",
    "        c_0.append(i)\n",
    "    else:\n",
    "        c.append(i)"
   ]
  },
  {
   "cell_type": "code",
   "execution_count": 26,
   "metadata": {},
   "outputs": [],
   "source": [
    "label_0 = []\n",
    "label_1 = []\n",
    "data_0 = []\n",
    "data_1 = []\n",
    "for i in c_0:\n",
    "    label_0.append(np.array(tlabels[i]))\n",
    "    data_0.append(np.array(tdataset[i]))\n",
    "for i in c:\n",
    "    label_1.append(np.array(tlabels[i]))\n",
    "    data_1.append(np.array(tdataset[i]))\n",
    "    \n",
    "label_1 = np.array(label_1)\n",
    "data_1 = np.array(data_1)\n",
    "label_1 = label_1.astype('float64')\n",
    "data_1 = data_1.astype('int64')"
   ]
  },
  {
   "cell_type": "code",
   "execution_count": 27,
   "metadata": {},
   "outputs": [],
   "source": [
    "t_labels = []\n",
    "t_dataset = []\n",
    "for i in range(len(tlabels)):\n",
    "    t_labels.append(np.array(tlabels[i]))\n",
    "    t_dataset.append(np.array(tdataset[i]))\n",
    "    \n",
    "tdataset = np.array(t_dataset)\n",
    "tlabels = np.array(t_labels)\n",
    "t_labels = []\n",
    "t_dataset = []"
   ]
  },
  {
   "cell_type": "code",
   "execution_count": 28,
   "metadata": {},
   "outputs": [],
   "source": [
    "tdataset = tdataset.astype('float64')\n",
    "tlabels = tlabels.astype('int64')"
   ]
  },
  {
   "cell_type": "code",
   "execution_count": 29,
   "metadata": {},
   "outputs": [
    {
     "name": "stdout",
     "output_type": "stream",
     "text": [
      "556/556 [==============================] - 34s 62ms/step - loss: 0.1902 - accuracy: 0.5705\n",
      "\n",
      "accuracy 0.5704962015151978\n"
     ]
    }
   ],
   "source": [
    "scores=data_fft_model.evaluate(tdataset,tlabels)\n",
    "print()\n",
    "print('accuracy',scores[1])"
   ]
  },
  {
   "cell_type": "markdown",
   "metadata": {},
   "source": [
    "打亂訓練數據"
   ]
  },
  {
   "cell_type": "code",
   "execution_count": 30,
   "metadata": {},
   "outputs": [
    {
     "name": "stdout",
     "output_type": "stream",
     "text": [
      "24/24 [==============================] - 2s 61ms/step - loss: 0.4985 - accuracy: 0.3034\n",
      "\n",
      "accuracy 0.30343008041381836\n"
     ]
    }
   ],
   "source": [
    "scores=data_fft_model.evaluate(data_1,label_1)\n",
    "print()\n",
    "print('accuracy',scores[1])"
   ]
  },
  {
   "cell_type": "code",
   "execution_count": null,
   "metadata": {},
   "outputs": [],
   "source": []
  },
  {
   "cell_type": "code",
   "execution_count": 31,
   "metadata": {},
   "outputs": [],
   "source": [
    "# 模型結構存檔\n",
    "from keras.models import model_from_json\n",
    "json_string = data_fft_model.to_json()\n",
    "with open(\"Bandpass.config\", \"w\") as text_file:\n",
    "    text_file.write(json_string)\n",
    "\n",
    "    \n",
    "# 模型訓練結果存檔\n",
    "data_fft_model.save_weights(\"Bandpass.weight\")"
   ]
  },
  {
   "cell_type": "code",
   "execution_count": null,
   "metadata": {},
   "outputs": [],
   "source": []
  }
 ],
 "metadata": {
  "kernelspec": {
   "display_name": "Python 3 (ipykernel)",
   "language": "python",
   "name": "python3"
  },
  "language_info": {
   "codemirror_mode": {
    "name": "ipython",
    "version": 3
   },
   "file_extension": ".py",
   "mimetype": "text/x-python",
   "name": "python",
   "nbconvert_exporter": "python",
   "pygments_lexer": "ipython3",
   "version": "3.8.10"
  }
 },
 "nbformat": 4,
 "nbformat_minor": 4
}
