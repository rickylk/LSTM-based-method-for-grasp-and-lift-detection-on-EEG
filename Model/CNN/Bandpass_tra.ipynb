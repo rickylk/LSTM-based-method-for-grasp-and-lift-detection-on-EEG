{
 "cells": [
  {
   "cell_type": "code",
   "execution_count": 1,
   "metadata": {},
   "outputs": [
    {
     "name": "stderr",
     "output_type": "stream",
     "text": [
      "2022-06-13 20:22:10.609611: W tensorflow/stream_executor/platform/default/dso_loader.cc:64] Could not load dynamic library 'libcudart.so.11.0'; dlerror: libcudart.so.11.0: cannot open shared object file: No such file or directory; LD_LIBRARY_PATH: /home/neaf-2070/.mujoco/mujoco200_linux/bin:/usr/local/cuda-10.2/lib64:/usr/local/cuda/lib64:/home/neaf-2070/.mujoco/mujoco200_linux/bin:/usr/local/cuda-10.2/lib64:/usr/local/cuda/lib64:\n",
      "2022-06-13 20:22:10.609632: I tensorflow/stream_executor/cuda/cudart_stub.cc:29] Ignore above cudart dlerror if you do not have a GPU set up on your machine.\n"
     ]
    }
   ],
   "source": [
    "import pandas as pd\n",
    "from pandas.core.frame import DataFrame\n",
    "import glob\n",
    "import numpy as np\n",
    "import pickle\n",
    "from sklearn.preprocessing import StandardScaler\n",
    "from sklearn.model_selection import train_test_split\n",
    "from scipy.fft import fft, fftfreq\n",
    "from scipy.signal import firwin, lfilter, butter\n",
    "# import asrpy\n",
    "import matplotlib.pyplot as plt\n",
    "\n",
    "import tensorflow as tf\n",
    "from tensorflow import keras\n",
    "from tensorflow.keras.utils import to_categorical\n",
    "from tensorflow.keras.models import Sequential\n",
    "from tensorflow.keras.layers import Dense, Flatten, Conv2D, BatchNormalization, Activation, MaxPooling2D\n",
    "from keras import backend as K #转换为张量\n"
   ]
  },
  {
   "cell_type": "code",
   "execution_count": 2,
   "metadata": {},
   "outputs": [],
   "source": [
    "with open('labels.pickle', 'rb') as f:\n",
    "    labels = pickle.load(f)\n",
    "\n",
    "with open('dataset_Bandpass_tragards.pickle', 'rb') as f:\n",
    "    dataset = pickle.load(f)\n"
   ]
  },
  {
   "cell_type": "markdown",
   "metadata": {},
   "source": [
    "把000000的labelindex挑出來"
   ]
  },
  {
   "cell_type": "code",
   "execution_count": 5,
   "metadata": {},
   "outputs": [],
   "source": [
    "c_0 = []\n",
    "c = []\n",
    "for i in range(0,len(labels)):\n",
    "    if labels[i].sum() == 0:\n",
    "        c_0.append(i)\n",
    "    else:\n",
    "        c.append(i)"
   ]
  },
  {
   "cell_type": "markdown",
   "metadata": {},
   "source": [
    "把000000的label跟data分開和其他label跟data分開"
   ]
  },
  {
   "cell_type": "code",
   "execution_count": 7,
   "metadata": {},
   "outputs": [],
   "source": [
    "label_0 = []\n",
    "label_1 = []\n",
    "data_0 = []\n",
    "data_1 = []\n",
    "for i in c_0:\n",
    "    label_0.append(np.array(labels[i]))\n",
    "    data_0.append(dataset[i])\n",
    "for i in c:\n",
    "    label_1.append(np.array(labels[i]))\n",
    "    data_1.append(dataset[i])"
   ]
  },
  {
   "cell_type": "markdown",
   "metadata": {},
   "source": [
    "減少屬於000000label 的data數量，使數量跟其他label接近"
   ]
  },
  {
   "cell_type": "code",
   "execution_count": 9,
   "metadata": {},
   "outputs": [
    {
     "data": {
      "text/plain": [
       "349"
      ]
     },
     "execution_count": 9,
     "metadata": {},
     "output_type": "execute_result"
    }
   ],
   "source": [
    "datax, data_00 = train_test_split(data_0,test_size=0.0035,train_size=1-0.0035)\n",
    "datax = []\n",
    "len(data_00)"
   ]
  },
  {
   "cell_type": "code",
   "execution_count": 10,
   "metadata": {},
   "outputs": [],
   "source": [
    "data = data_00+data_1\n",
    "label = label_0[:len(data_00)]+label_1"
   ]
  },
  {
   "cell_type": "code",
   "execution_count": 12,
   "metadata": {},
   "outputs": [],
   "source": [
    "data = np.array(data)\n",
    "label = np.array(label)"
   ]
  },
  {
   "cell_type": "markdown",
   "metadata": {},
   "source": [
    "打亂訓練數據"
   ]
  },
  {
   "cell_type": "code",
   "execution_count": 13,
   "metadata": {},
   "outputs": [],
   "source": [
    "datax, data, labelx, label = train_test_split(data, label,test_size=0.99,train_size=0.01)"
   ]
  },
  {
   "cell_type": "code",
   "execution_count": 15,
   "metadata": {},
   "outputs": [],
   "source": [
    "X_data = data.astype('float64')\n",
    "Y_data = label.astype('int64')\n",
    "# X_train = np.array(dataset_fft)\n",
    "X_data = X_data.reshape(len(X_data), X_data[0].shape[0], X_data[0].shape[1], 1)\n",
    "# Y_train = np.array(labels)"
   ]
  },
  {
   "cell_type": "markdown",
   "metadata": {},
   "source": [
    "打亂訓練數據"
   ]
  },
  {
   "cell_type": "code",
   "execution_count": 16,
   "metadata": {},
   "outputs": [],
   "source": [
    "\n",
    "def new_model():\n",
    "    model = Sequential()\n",
    "    model.add(Conv2D(filters = 32, padding = \"same\", kernel_size = (X_data.shape[1],3), activation = \"relu\", input_shape = (X_data.shape[1], X_data.shape[2], 1)))\n",
    "    model.add(BatchNormalization())\n",
    "    model.add(Conv2D(filters = 64, padding = \"same\", kernel_size = (1,X_data.shape[2]), activation = \"relu\", input_shape = (X_data.shape[1], X_data.shape[2], 1)))\n",
    "    model.add(BatchNormalization())\n",
    "    # model.add(Conv2D(filters = 64, padding = \"same\", kernel_size = (3,3), activation = \"relu\", input_shape = (X_data.shape[1], X_data.shape[2], 1)))\n",
    "    # model.add(BatchNormalization())\n",
    "    model.add(Flatten())\n",
    "    model.add(Dense(256, activation = \"relu\"))\n",
    "    model.add(BatchNormalization())\n",
    "    model.add(Dense(64, activation = \"relu\"))\n",
    "    model.add(BatchNormalization())\n",
    "    model.add(Dense(6, activation = \"sigmoid\"))\n",
    "\n",
    "    adam = keras.optimizers.Adam(lr=0.001)\n",
    "    model.compile(optimizer = adam, loss = \"binary_crossentropy\", metrics = [\"accuracy\"])\n",
    "    \n",
    "    return model"
   ]
  },
  {
   "cell_type": "code",
   "execution_count": 17,
   "metadata": {},
   "outputs": [
    {
     "name": "stderr",
     "output_type": "stream",
     "text": [
      "2022-06-13 20:22:24.540851: I tensorflow/stream_executor/cuda/cuda_gpu_executor.cc:939] successful NUMA node read from SysFS had negative value (-1), but there must be at least one NUMA node, so returning NUMA node zero\n",
      "2022-06-13 20:22:24.541163: W tensorflow/stream_executor/platform/default/dso_loader.cc:64] Could not load dynamic library 'libcudart.so.11.0'; dlerror: libcudart.so.11.0: cannot open shared object file: No such file or directory; LD_LIBRARY_PATH: /home/neaf-2070/.mujoco/mujoco200_linux/bin:/usr/local/cuda-10.2/lib64:/usr/local/cuda/lib64:/home/neaf-2070/.mujoco/mujoco200_linux/bin:/usr/local/cuda-10.2/lib64:/usr/local/cuda/lib64:\n",
      "2022-06-13 20:22:24.541213: W tensorflow/stream_executor/platform/default/dso_loader.cc:64] Could not load dynamic library 'libcublas.so.11'; dlerror: libcublas.so.11: cannot open shared object file: No such file or directory; LD_LIBRARY_PATH: /home/neaf-2070/.mujoco/mujoco200_linux/bin:/usr/local/cuda-10.2/lib64:/usr/local/cuda/lib64:/home/neaf-2070/.mujoco/mujoco200_linux/bin:/usr/local/cuda-10.2/lib64:/usr/local/cuda/lib64:\n",
      "2022-06-13 20:22:24.541260: W tensorflow/stream_executor/platform/default/dso_loader.cc:64] Could not load dynamic library 'libcublasLt.so.11'; dlerror: libcublasLt.so.11: cannot open shared object file: No such file or directory; LD_LIBRARY_PATH: /home/neaf-2070/.mujoco/mujoco200_linux/bin:/usr/local/cuda-10.2/lib64:/usr/local/cuda/lib64:/home/neaf-2070/.mujoco/mujoco200_linux/bin:/usr/local/cuda-10.2/lib64:/usr/local/cuda/lib64:\n",
      "2022-06-13 20:22:24.542415: W tensorflow/stream_executor/platform/default/dso_loader.cc:64] Could not load dynamic library 'libcusolver.so.11'; dlerror: libcusolver.so.11: cannot open shared object file: No such file or directory; LD_LIBRARY_PATH: /home/neaf-2070/.mujoco/mujoco200_linux/bin:/usr/local/cuda-10.2/lib64:/usr/local/cuda/lib64:/home/neaf-2070/.mujoco/mujoco200_linux/bin:/usr/local/cuda-10.2/lib64:/usr/local/cuda/lib64:\n",
      "2022-06-13 20:22:24.542468: W tensorflow/stream_executor/platform/default/dso_loader.cc:64] Could not load dynamic library 'libcusparse.so.11'; dlerror: libcusparse.so.11: cannot open shared object file: No such file or directory; LD_LIBRARY_PATH: /home/neaf-2070/.mujoco/mujoco200_linux/bin:/usr/local/cuda-10.2/lib64:/usr/local/cuda/lib64:/home/neaf-2070/.mujoco/mujoco200_linux/bin:/usr/local/cuda-10.2/lib64:/usr/local/cuda/lib64:\n",
      "2022-06-13 20:22:24.542516: W tensorflow/stream_executor/platform/default/dso_loader.cc:64] Could not load dynamic library 'libcudnn.so.8'; dlerror: libcudnn.so.8: cannot open shared object file: No such file or directory; LD_LIBRARY_PATH: /home/neaf-2070/.mujoco/mujoco200_linux/bin:/usr/local/cuda-10.2/lib64:/usr/local/cuda/lib64:/home/neaf-2070/.mujoco/mujoco200_linux/bin:/usr/local/cuda-10.2/lib64:/usr/local/cuda/lib64:\n",
      "2022-06-13 20:22:24.542524: W tensorflow/core/common_runtime/gpu/gpu_device.cc:1850] Cannot dlopen some GPU libraries. Please make sure the missing libraries mentioned above are installed properly if you would like to use GPU. Follow the guide at https://www.tensorflow.org/install/gpu for how to download and setup the required libraries for your platform.\n",
      "Skipping registering GPU devices...\n",
      "2022-06-13 20:22:24.542809: I tensorflow/core/platform/cpu_feature_guard.cc:151] This TensorFlow binary is optimized with oneAPI Deep Neural Network Library (oneDNN) to use the following CPU instructions in performance-critical operations:  AVX2 FMA\n",
      "To enable them in other operations, rebuild TensorFlow with the appropriate compiler flags.\n",
      "2022-06-13 20:22:24.577992: W tensorflow/core/framework/cpu_allocator_impl.cc:82] Allocation of 91750400 exceeds 10% of free system memory.\n",
      "2022-06-13 20:22:24.594200: W tensorflow/core/framework/cpu_allocator_impl.cc:82] Allocation of 91750400 exceeds 10% of free system memory.\n",
      "2022-06-13 20:22:24.716448: W tensorflow/core/framework/cpu_allocator_impl.cc:82] Allocation of 91750400 exceeds 10% of free system memory.\n"
     ]
    },
    {
     "name": "stdout",
     "output_type": "stream",
     "text": [
      "Model: \"sequential\"\n",
      "_________________________________________________________________\n",
      " Layer (type)                Output Shape              Param #   \n",
      "=================================================================\n",
      " conv2d (Conv2D)             (None, 100, 14, 32)       9632      \n",
      "                                                                 \n",
      " batch_normalization (BatchN  (None, 100, 14, 32)      128       \n",
      " ormalization)                                                   \n",
      "                                                                 \n",
      " conv2d_1 (Conv2D)           (None, 100, 14, 64)       28736     \n",
      "                                                                 \n",
      " batch_normalization_1 (Batc  (None, 100, 14, 64)      256       \n",
      " hNormalization)                                                 \n",
      "                                                                 \n",
      " flatten (Flatten)           (None, 89600)             0         \n",
      "                                                                 \n",
      " dense (Dense)               (None, 256)               22937856  \n",
      "                                                                 \n",
      " batch_normalization_2 (Batc  (None, 256)              1024      \n",
      " hNormalization)                                                 \n",
      "                                                                 \n",
      " dense_1 (Dense)             (None, 64)                16448     \n",
      "                                                                 \n",
      " batch_normalization_3 (Batc  (None, 64)               256       \n",
      " hNormalization)                                                 \n",
      "                                                                 \n",
      " dense_2 (Dense)             (None, 6)                 390       \n",
      "                                                                 \n",
      "=================================================================\n",
      "Total params: 22,994,726\n",
      "Trainable params: 22,993,894\n",
      "Non-trainable params: 832\n",
      "_________________________________________________________________\n"
     ]
    },
    {
     "name": "stderr",
     "output_type": "stream",
     "text": [
      "/usr/local/lib/python3.8/dist-packages/keras/optimizer_v2/adam.py:105: UserWarning: The `lr` argument is deprecated, use `learning_rate` instead.\n",
      "  super(Adam, self).__init__(name, **kwargs)\n"
     ]
    }
   ],
   "source": [
    "data_fft_model = new_model()\n",
    "data_fft_model.summary()"
   ]
  },
  {
   "cell_type": "code",
   "execution_count": 18,
   "metadata": {},
   "outputs": [
    {
     "name": "stdout",
     "output_type": "stream",
     "text": [
      "Epoch 1/10\n"
     ]
    },
    {
     "name": "stderr",
     "output_type": "stream",
     "text": [
      "2022-06-13 20:22:25.142604: W tensorflow/core/framework/cpu_allocator_impl.cc:82] Allocation of 91750400 exceeds 10% of free system memory.\n",
      "2022-06-13 20:22:25.151973: W tensorflow/core/framework/cpu_allocator_impl.cc:82] Allocation of 91750400 exceeds 10% of free system memory.\n"
     ]
    },
    {
     "name": "stdout",
     "output_type": "stream",
     "text": [
      "31/31 [==============================] - 10s 323ms/step - loss: 0.7224 - accuracy: 0.2363 - val_loss: 0.6639 - val_accuracy: 0.3008\n",
      "Epoch 2/10\n",
      "31/31 [==============================] - 6s 188ms/step - loss: 0.6028 - accuracy: 0.3880 - val_loss: 0.6032 - val_accuracy: 0.4634\n",
      "Epoch 3/10\n",
      "31/31 [==============================] - 6s 188ms/step - loss: 0.5351 - accuracy: 0.4766 - val_loss: 0.5534 - val_accuracy: 0.5061\n",
      "Epoch 4/10\n",
      "31/31 [==============================] - 6s 189ms/step - loss: 0.4569 - accuracy: 0.5565 - val_loss: 0.4896 - val_accuracy: 0.5142\n",
      "Epoch 5/10\n",
      "31/31 [==============================] - 6s 188ms/step - loss: 0.3753 - accuracy: 0.6319 - val_loss: 0.4431 - val_accuracy: 0.4878\n",
      "Epoch 6/10\n",
      "31/31 [==============================] - 6s 188ms/step - loss: 0.3102 - accuracy: 0.6899 - val_loss: 0.4232 - val_accuracy: 0.2947\n",
      "Epoch 7/10\n",
      "31/31 [==============================] - 6s 188ms/step - loss: 0.2297 - accuracy: 0.7653 - val_loss: 0.4144 - val_accuracy: 0.3598\n",
      "Epoch 8/10\n",
      "31/31 [==============================] - 6s 191ms/step - loss: 0.1690 - accuracy: 0.8060 - val_loss: 0.4040 - val_accuracy: 0.4898\n",
      "Epoch 9/10\n",
      "31/31 [==============================] - 6s 193ms/step - loss: 0.1176 - accuracy: 0.8350 - val_loss: 0.4059 - val_accuracy: 0.4329\n",
      "Epoch 10/10\n",
      "31/31 [==============================] - 6s 192ms/step - loss: 0.0819 - accuracy: 0.8452 - val_loss: 0.4051 - val_accuracy: 0.5102\n"
     ]
    }
   ],
   "source": [
    "train_history = data_fft_model.fit(X_data, Y_data, epochs=10, batch_size=64, validation_split=0.2)"
   ]
  },
  {
   "cell_type": "markdown",
   "metadata": {},
   "source": [
    "打亂訓練數據"
   ]
  },
  {
   "cell_type": "code",
   "execution_count": 19,
   "metadata": {},
   "outputs": [],
   "source": [
    "with open('test_labels.pickle', 'rb') as f:\n",
    "    tlabels = pickle.load(f)\n",
    "    \n",
    "with open('test_Bandpass_tragards.pickle', 'rb') as f:\n",
    "    tdataset = pickle.load(f)"
   ]
  },
  {
   "cell_type": "code",
   "execution_count": 21,
   "metadata": {},
   "outputs": [],
   "source": [
    "c_0 = []\n",
    "c = []\n",
    "for i in range(0,len(tlabels)):\n",
    "    if tlabels[i].sum() == 0:\n",
    "        c_0.append(i)\n",
    "    else:\n",
    "        c.append(i)"
   ]
  },
  {
   "cell_type": "code",
   "execution_count": 22,
   "metadata": {},
   "outputs": [],
   "source": [
    "label_0 = []\n",
    "label_1 = []\n",
    "data_0 = []\n",
    "data_1 = []\n",
    "for i in c_0:\n",
    "    label_0.append(np.array(tlabels[i]))\n",
    "    data_0.append(np.array(tdataset[i]))\n",
    "for i in c:\n",
    "    label_1.append(np.array(tlabels[i]))\n",
    "    data_1.append(np.array(tdataset[i]))\n",
    "    \n",
    "label_1 = np.array(label_1)\n",
    "data_1 = np.array(data_1)\n",
    "label_1 = label_1.astype('float64')\n",
    "data_1 = data_1.astype('int64')"
   ]
  },
  {
   "cell_type": "code",
   "execution_count": 23,
   "metadata": {},
   "outputs": [],
   "source": [
    "t_labels = []\n",
    "t_dataset = []\n",
    "for i in range(len(tlabels)):\n",
    "    t_labels.append(np.array(tlabels[i]))\n",
    "    t_dataset.append(np.array(tdataset[i]))\n",
    "    \n",
    "tdataset = np.array(t_dataset)\n",
    "tlabels = np.array(t_labels)\n",
    "t_labels = []\n",
    "t_dataset = []"
   ]
  },
  {
   "cell_type": "code",
   "execution_count": 24,
   "metadata": {},
   "outputs": [],
   "source": [
    "tdataset = tdataset.astype('float64')\n",
    "tlabels = tlabels.astype('int64')"
   ]
  },
  {
   "cell_type": "code",
   "execution_count": 25,
   "metadata": {},
   "outputs": [
    {
     "name": "stdout",
     "output_type": "stream",
     "text": [
      "556/556 [==============================] - 13s 23ms/step - loss: 0.2156 - accuracy: 0.8343\n",
      "\n",
      "accuracy 0.8343085646629333\n"
     ]
    }
   ],
   "source": [
    "scores=data_fft_model.evaluate(tdataset,tlabels)\n",
    "print()\n",
    "print('accuracy',scores[1])"
   ]
  },
  {
   "cell_type": "markdown",
   "metadata": {},
   "source": [
    "打亂訓練數據"
   ]
  },
  {
   "cell_type": "code",
   "execution_count": 26,
   "metadata": {},
   "outputs": [
    {
     "name": "stdout",
     "output_type": "stream",
     "text": [
      "24/24 [==============================] - 1s 23ms/step - loss: 0.4762 - accuracy: 0.3786\n",
      "\n",
      "accuracy 0.3786279559135437\n"
     ]
    }
   ],
   "source": [
    "scores=data_fft_model.evaluate(data_1,label_1)\n",
    "print()\n",
    "print('accuracy',scores[1])"
   ]
  },
  {
   "cell_type": "code",
   "execution_count": 27,
   "metadata": {},
   "outputs": [],
   "source": [
    "# 模型結構存檔\n",
    "from keras.models import model_from_json\n",
    "json_string = data_fft_model.to_json()\n",
    "with open(\"Bandpass_tra.config\", \"w\") as text_file:\n",
    "    text_file.write(json_string)\n",
    "\n",
    "    \n",
    "# 模型訓練結果存檔\n",
    "data_fft_model.save_weights(\"Bandpass_tra.weight\")"
   ]
  },
  {
   "cell_type": "code",
   "execution_count": null,
   "metadata": {},
   "outputs": [],
   "source": []
  }
 ],
 "metadata": {
  "kernelspec": {
   "display_name": "Python 3 (ipykernel)",
   "language": "python",
   "name": "python3"
  },
  "language_info": {
   "codemirror_mode": {
    "name": "ipython",
    "version": 3
   },
   "file_extension": ".py",
   "mimetype": "text/x-python",
   "name": "python",
   "nbconvert_exporter": "python",
   "pygments_lexer": "ipython3",
   "version": "3.8.10"
  }
 },
 "nbformat": 4,
 "nbformat_minor": 4
}
