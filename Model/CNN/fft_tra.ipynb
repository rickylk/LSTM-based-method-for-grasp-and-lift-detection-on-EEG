{
 "cells": [
  {
   "cell_type": "code",
   "execution_count": 1,
   "metadata": {},
   "outputs": [
    {
     "name": "stderr",
     "output_type": "stream",
     "text": [
      "2022-06-13 19:58:39.860293: W tensorflow/stream_executor/platform/default/dso_loader.cc:64] Could not load dynamic library 'libcudart.so.11.0'; dlerror: libcudart.so.11.0: cannot open shared object file: No such file or directory; LD_LIBRARY_PATH: /home/neaf-2070/.mujoco/mujoco200_linux/bin:/usr/local/cuda-10.2/lib64:/usr/local/cuda/lib64:/home/neaf-2070/.mujoco/mujoco200_linux/bin:/usr/local/cuda-10.2/lib64:/usr/local/cuda/lib64:\n",
      "2022-06-13 19:58:39.860311: I tensorflow/stream_executor/cuda/cudart_stub.cc:29] Ignore above cudart dlerror if you do not have a GPU set up on your machine.\n"
     ]
    }
   ],
   "source": [
    "import pandas as pd\n",
    "from pandas.core.frame import DataFrame\n",
    "import glob\n",
    "import numpy as np\n",
    "import pickle\n",
    "from sklearn.preprocessing import StandardScaler\n",
    "from sklearn.model_selection import train_test_split\n",
    "from scipy.fft import fft, fftfreq\n",
    "from scipy.signal import firwin, lfilter, butter\n",
    "# import asrpy\n",
    "import matplotlib.pyplot as plt\n",
    "\n",
    "import tensorflow as tf\n",
    "from tensorflow import keras\n",
    "from tensorflow.keras.utils import to_categorical\n",
    "from tensorflow.keras.models import Sequential\n",
    "from tensorflow.keras.layers import Dense, Flatten, Conv2D, BatchNormalization, Activation, MaxPooling2D\n",
    "from keras import backend as K #转换为张量\n"
   ]
  },
  {
   "cell_type": "code",
   "execution_count": 2,
   "metadata": {},
   "outputs": [],
   "source": [
    "with open('labels.pickle', 'rb') as f:\n",
    "    labels = pickle.load(f)\n",
    "\n",
    "with open('dataset_fft_tragards.pickle', 'rb') as f:\n",
    "    dataset = pickle.load(f)\n"
   ]
  },
  {
   "cell_type": "markdown",
   "metadata": {},
   "source": [
    "把000000的labelindex挑出來"
   ]
  },
  {
   "cell_type": "code",
   "execution_count": 4,
   "metadata": {},
   "outputs": [],
   "source": [
    "c_0 = []\n",
    "c = []\n",
    "for i in range(0,len(labels)):\n",
    "    if labels[i].sum() == 0:\n",
    "        c_0.append(i)\n",
    "    else:\n",
    "        c.append(i)"
   ]
  },
  {
   "cell_type": "markdown",
   "metadata": {},
   "source": [
    "把000000的label跟data分開和其他label跟data分開"
   ]
  },
  {
   "cell_type": "code",
   "execution_count": 6,
   "metadata": {},
   "outputs": [],
   "source": [
    "label_0 = []\n",
    "label_1 = []\n",
    "data_0 = []\n",
    "data_1 = []\n",
    "for i in c_0:\n",
    "    label_0.append(np.array(labels[i]))\n",
    "    data_0.append(dataset[i])\n",
    "for i in c:\n",
    "    label_1.append(np.array(labels[i]))\n",
    "    data_1.append(dataset[i])"
   ]
  },
  {
   "cell_type": "markdown",
   "metadata": {},
   "source": [
    "減少屬於000000label 的data數量，使數量跟其他label接近"
   ]
  },
  {
   "cell_type": "code",
   "execution_count": 8,
   "metadata": {},
   "outputs": [
    {
     "data": {
      "text/plain": [
       "349"
      ]
     },
     "execution_count": 8,
     "metadata": {},
     "output_type": "execute_result"
    }
   ],
   "source": [
    "datax, data_00 = train_test_split(data_0,test_size=0.0035,train_size=1-0.0035)\n",
    "datax = []\n",
    "len(data_00)"
   ]
  },
  {
   "cell_type": "code",
   "execution_count": 9,
   "metadata": {},
   "outputs": [],
   "source": [
    "data = data_00+data_1\n",
    "label = label_0[:len(data_00)]+label_1"
   ]
  },
  {
   "cell_type": "code",
   "execution_count": 11,
   "metadata": {},
   "outputs": [],
   "source": [
    "data = np.array(data)\n",
    "label = np.array(label)"
   ]
  },
  {
   "cell_type": "markdown",
   "metadata": {},
   "source": [
    "打亂訓練數據"
   ]
  },
  {
   "cell_type": "code",
   "execution_count": 12,
   "metadata": {},
   "outputs": [],
   "source": [
    "datax, data, labelx, label = train_test_split(data, label,test_size=0.99,train_size=0.01)"
   ]
  },
  {
   "cell_type": "code",
   "execution_count": 14,
   "metadata": {},
   "outputs": [],
   "source": [
    "X_data = data.astype('float64')\n",
    "Y_data = label.astype('int64')\n",
    "# X_train = np.array(dataset_fft)\n",
    "X_data = X_data.reshape(len(X_data), X_data[0].shape[0], X_data[0].shape[1], 1)\n",
    "# Y_train = np.array(labels)"
   ]
  },
  {
   "cell_type": "markdown",
   "metadata": {},
   "source": [
    "建立模型架構"
   ]
  },
  {
   "cell_type": "code",
   "execution_count": 15,
   "metadata": {},
   "outputs": [],
   "source": [
    "\n",
    "def new_model():\n",
    "    model = Sequential()\n",
    "    model.add(Conv2D(filters = 32, padding = \"same\", kernel_size = (X_data.shape[1],3), activation = \"relu\", input_shape = (X_data.shape[1], X_data.shape[2], 1)))\n",
    "    model.add(BatchNormalization())\n",
    "    model.add(Conv2D(filters = 64, padding = \"same\", kernel_size = (1,X_data.shape[2]), activation = \"relu\", input_shape = (X_data.shape[1], X_data.shape[2], 1)))\n",
    "    model.add(BatchNormalization())\n",
    "    # model.add(Conv2D(filters = 64, padding = \"same\", kernel_size = (3,3), activation = \"relu\", input_shape = (X_data.shape[1], X_data.shape[2], 1)))\n",
    "    # model.add(BatchNormalization())\n",
    "    model.add(Flatten())\n",
    "    model.add(Dense(256, activation = \"relu\"))\n",
    "    model.add(BatchNormalization())\n",
    "    model.add(Dense(64, activation = \"relu\"))\n",
    "    model.add(BatchNormalization())\n",
    "    model.add(Dense(6, activation = \"sigmoid\"))\n",
    "\n",
    "    adam = keras.optimizers.Adam(lr=0.001)\n",
    "    model.compile(optimizer = adam, loss = \"binary_crossentropy\", metrics = [\"accuracy\"])\n",
    "    \n",
    "    return model"
   ]
  },
  {
   "cell_type": "code",
   "execution_count": 16,
   "metadata": {},
   "outputs": [
    {
     "name": "stdout",
     "output_type": "stream",
     "text": [
      "Model: \"sequential\"\n",
      "_________________________________________________________________\n",
      " Layer (type)                Output Shape              Param #   \n",
      "=================================================================\n",
      " conv2d (Conv2D)             (None, 49, 14, 32)        4736      \n",
      "                                                                 \n",
      " batch_normalization (BatchN  (None, 49, 14, 32)       128       \n",
      " ormalization)                                                   \n",
      "                                                                 \n",
      " conv2d_1 (Conv2D)           (None, 49, 14, 64)        28736     \n",
      "                                                                 \n",
      " batch_normalization_1 (Batc  (None, 49, 14, 64)       256       \n",
      " hNormalization)                                                 \n",
      "                                                                 \n",
      " flatten (Flatten)           (None, 43904)             0         \n",
      "                                                                 \n",
      " dense (Dense)               (None, 256)               11239680  \n",
      "                                                                 \n",
      " batch_normalization_2 (Batc  (None, 256)              1024      \n",
      " hNormalization)                                                 \n",
      "                                                                 \n",
      " dense_1 (Dense)             (None, 64)                16448     \n",
      "                                                                 \n",
      " batch_normalization_3 (Batc  (None, 64)               256       \n",
      " hNormalization)                                                 \n",
      "                                                                 \n",
      " dense_2 (Dense)             (None, 6)                 390       \n",
      "                                                                 \n",
      "=================================================================\n",
      "Total params: 11,291,654\n",
      "Trainable params: 11,290,822\n",
      "Non-trainable params: 832\n",
      "_________________________________________________________________\n"
     ]
    },
    {
     "name": "stderr",
     "output_type": "stream",
     "text": [
      "2022-06-13 19:58:50.892867: I tensorflow/stream_executor/cuda/cuda_gpu_executor.cc:939] successful NUMA node read from SysFS had negative value (-1), but there must be at least one NUMA node, so returning NUMA node zero\n",
      "2022-06-13 19:58:50.893176: W tensorflow/stream_executor/platform/default/dso_loader.cc:64] Could not load dynamic library 'libcudart.so.11.0'; dlerror: libcudart.so.11.0: cannot open shared object file: No such file or directory; LD_LIBRARY_PATH: /home/neaf-2070/.mujoco/mujoco200_linux/bin:/usr/local/cuda-10.2/lib64:/usr/local/cuda/lib64:/home/neaf-2070/.mujoco/mujoco200_linux/bin:/usr/local/cuda-10.2/lib64:/usr/local/cuda/lib64:\n",
      "2022-06-13 19:58:50.893230: W tensorflow/stream_executor/platform/default/dso_loader.cc:64] Could not load dynamic library 'libcublas.so.11'; dlerror: libcublas.so.11: cannot open shared object file: No such file or directory; LD_LIBRARY_PATH: /home/neaf-2070/.mujoco/mujoco200_linux/bin:/usr/local/cuda-10.2/lib64:/usr/local/cuda/lib64:/home/neaf-2070/.mujoco/mujoco200_linux/bin:/usr/local/cuda-10.2/lib64:/usr/local/cuda/lib64:\n",
      "2022-06-13 19:58:50.893278: W tensorflow/stream_executor/platform/default/dso_loader.cc:64] Could not load dynamic library 'libcublasLt.so.11'; dlerror: libcublasLt.so.11: cannot open shared object file: No such file or directory; LD_LIBRARY_PATH: /home/neaf-2070/.mujoco/mujoco200_linux/bin:/usr/local/cuda-10.2/lib64:/usr/local/cuda/lib64:/home/neaf-2070/.mujoco/mujoco200_linux/bin:/usr/local/cuda-10.2/lib64:/usr/local/cuda/lib64:\n",
      "2022-06-13 19:58:50.894417: W tensorflow/stream_executor/platform/default/dso_loader.cc:64] Could not load dynamic library 'libcusolver.so.11'; dlerror: libcusolver.so.11: cannot open shared object file: No such file or directory; LD_LIBRARY_PATH: /home/neaf-2070/.mujoco/mujoco200_linux/bin:/usr/local/cuda-10.2/lib64:/usr/local/cuda/lib64:/home/neaf-2070/.mujoco/mujoco200_linux/bin:/usr/local/cuda-10.2/lib64:/usr/local/cuda/lib64:\n",
      "2022-06-13 19:58:50.894469: W tensorflow/stream_executor/platform/default/dso_loader.cc:64] Could not load dynamic library 'libcusparse.so.11'; dlerror: libcusparse.so.11: cannot open shared object file: No such file or directory; LD_LIBRARY_PATH: /home/neaf-2070/.mujoco/mujoco200_linux/bin:/usr/local/cuda-10.2/lib64:/usr/local/cuda/lib64:/home/neaf-2070/.mujoco/mujoco200_linux/bin:/usr/local/cuda-10.2/lib64:/usr/local/cuda/lib64:\n",
      "2022-06-13 19:58:50.894518: W tensorflow/stream_executor/platform/default/dso_loader.cc:64] Could not load dynamic library 'libcudnn.so.8'; dlerror: libcudnn.so.8: cannot open shared object file: No such file or directory; LD_LIBRARY_PATH: /home/neaf-2070/.mujoco/mujoco200_linux/bin:/usr/local/cuda-10.2/lib64:/usr/local/cuda/lib64:/home/neaf-2070/.mujoco/mujoco200_linux/bin:/usr/local/cuda-10.2/lib64:/usr/local/cuda/lib64:\n",
      "2022-06-13 19:58:50.894525: W tensorflow/core/common_runtime/gpu/gpu_device.cc:1850] Cannot dlopen some GPU libraries. Please make sure the missing libraries mentioned above are installed properly if you would like to use GPU. Follow the guide at https://www.tensorflow.org/install/gpu for how to download and setup the required libraries for your platform.\n",
      "Skipping registering GPU devices...\n",
      "2022-06-13 19:58:50.894845: I tensorflow/core/platform/cpu_feature_guard.cc:151] This TensorFlow binary is optimized with oneAPI Deep Neural Network Library (oneDNN) to use the following CPU instructions in performance-critical operations:  AVX2 FMA\n",
      "To enable them in other operations, rebuild TensorFlow with the appropriate compiler flags.\n",
      "/usr/local/lib/python3.8/dist-packages/keras/optimizer_v2/adam.py:105: UserWarning: The `lr` argument is deprecated, use `learning_rate` instead.\n",
      "  super(Adam, self).__init__(name, **kwargs)\n"
     ]
    }
   ],
   "source": [
    "data_fft_model = new_model()\n",
    "data_fft_model.summary()\n",
    "train_history = 0"
   ]
  },
  {
   "cell_type": "code",
   "execution_count": 17,
   "metadata": {},
   "outputs": [
    {
     "name": "stdout",
     "output_type": "stream",
     "text": [
      "Epoch 1/30\n",
      "31/31 [==============================] - 3s 88ms/step - loss: 0.7236 - accuracy: 0.2566 - val_loss: 0.7799 - val_accuracy: 0.1768\n",
      "Epoch 2/30\n",
      "31/31 [==============================] - 3s 85ms/step - loss: 0.5840 - accuracy: 0.5081 - val_loss: 0.7752 - val_accuracy: 0.1667\n",
      "Epoch 3/30\n",
      "31/31 [==============================] - 3s 85ms/step - loss: 0.4918 - accuracy: 0.6441 - val_loss: 0.8657 - val_accuracy: 0.0000e+00\n",
      "Epoch 4/30\n",
      "31/31 [==============================] - 3s 85ms/step - loss: 0.3906 - accuracy: 0.7459 - val_loss: 1.0817 - val_accuracy: 0.0854\n",
      "Epoch 5/30\n",
      "31/31 [==============================] - 3s 86ms/step - loss: 0.2932 - accuracy: 0.8187 - val_loss: 0.9491 - val_accuracy: 0.0854\n",
      "Epoch 6/30\n",
      "31/31 [==============================] - 3s 85ms/step - loss: 0.2100 - accuracy: 0.8442 - val_loss: 0.9202 - val_accuracy: 0.0854\n",
      "Epoch 7/30\n",
      "31/31 [==============================] - 3s 85ms/step - loss: 0.1451 - accuracy: 0.8737 - val_loss: 0.8756 - val_accuracy: 0.0874\n",
      "Epoch 8/30\n",
      "31/31 [==============================] - 3s 85ms/step - loss: 0.0990 - accuracy: 0.8768 - val_loss: 0.7532 - val_accuracy: 0.1829\n",
      "Epoch 9/30\n",
      "31/31 [==============================] - 3s 85ms/step - loss: 0.0689 - accuracy: 0.8641 - val_loss: 0.6890 - val_accuracy: 0.1626\n",
      "Epoch 10/30\n",
      "31/31 [==============================] - 3s 85ms/step - loss: 0.0480 - accuracy: 0.8641 - val_loss: 0.6352 - val_accuracy: 0.1972\n",
      "Epoch 11/30\n",
      "31/31 [==============================] - 3s 85ms/step - loss: 0.0349 - accuracy: 0.8707 - val_loss: 0.4738 - val_accuracy: 0.1992\n",
      "Epoch 12/30\n",
      "31/31 [==============================] - 3s 85ms/step - loss: 0.0268 - accuracy: 0.8605 - val_loss: 0.4149 - val_accuracy: 0.5488\n",
      "Epoch 13/30\n",
      "31/31 [==============================] - 3s 85ms/step - loss: 0.0199 - accuracy: 0.8549 - val_loss: 0.3845 - val_accuracy: 0.5752\n",
      "Epoch 14/30\n",
      "31/31 [==============================] - 3s 85ms/step - loss: 0.0152 - accuracy: 0.8585 - val_loss: 0.3597 - val_accuracy: 0.5894\n",
      "Epoch 15/30\n",
      "31/31 [==============================] - 3s 85ms/step - loss: 0.0126 - accuracy: 0.8503 - val_loss: 0.3418 - val_accuracy: 0.6362\n",
      "Epoch 16/30\n",
      "31/31 [==============================] - 3s 85ms/step - loss: 0.0100 - accuracy: 0.8610 - val_loss: 0.3121 - val_accuracy: 0.6585\n",
      "Epoch 17/30\n",
      "31/31 [==============================] - 3s 85ms/step - loss: 0.0090 - accuracy: 0.8554 - val_loss: 0.2953 - val_accuracy: 0.6890\n",
      "Epoch 18/30\n",
      "31/31 [==============================] - 3s 87ms/step - loss: 0.0078 - accuracy: 0.8518 - val_loss: 0.2785 - val_accuracy: 0.7134\n",
      "Epoch 19/30\n",
      "31/31 [==============================] - 3s 86ms/step - loss: 0.0066 - accuracy: 0.8630 - val_loss: 0.2676 - val_accuracy: 0.7256\n",
      "Epoch 20/30\n",
      "31/31 [==============================] - 3s 87ms/step - loss: 0.0061 - accuracy: 0.8630 - val_loss: 0.2634 - val_accuracy: 0.7256\n",
      "Epoch 21/30\n",
      "31/31 [==============================] - 3s 86ms/step - loss: 0.0056 - accuracy: 0.8646 - val_loss: 0.2600 - val_accuracy: 0.7276\n",
      "Epoch 22/30\n",
      "31/31 [==============================] - 3s 86ms/step - loss: 0.0048 - accuracy: 0.8569 - val_loss: 0.2548 - val_accuracy: 0.7439\n",
      "Epoch 23/30\n",
      "31/31 [==============================] - 3s 86ms/step - loss: 0.0042 - accuracy: 0.8544 - val_loss: 0.2578 - val_accuracy: 0.7419\n",
      "Epoch 24/30\n",
      "31/31 [==============================] - 3s 86ms/step - loss: 0.0040 - accuracy: 0.8600 - val_loss: 0.2548 - val_accuracy: 0.7317\n",
      "Epoch 25/30\n",
      "31/31 [==============================] - 3s 86ms/step - loss: 0.0035 - accuracy: 0.8523 - val_loss: 0.2599 - val_accuracy: 0.7378\n",
      "Epoch 26/30\n",
      "31/31 [==============================] - 3s 87ms/step - loss: 0.0033 - accuracy: 0.8427 - val_loss: 0.2591 - val_accuracy: 0.7378\n",
      "Epoch 27/30\n",
      "31/31 [==============================] - 3s 87ms/step - loss: 0.0030 - accuracy: 0.8590 - val_loss: 0.2676 - val_accuracy: 0.7398\n",
      "Epoch 28/30\n",
      "31/31 [==============================] - 3s 87ms/step - loss: 0.0027 - accuracy: 0.8508 - val_loss: 0.2674 - val_accuracy: 0.7297\n",
      "Epoch 29/30\n",
      "31/31 [==============================] - 3s 87ms/step - loss: 0.0025 - accuracy: 0.8595 - val_loss: 0.2759 - val_accuracy: 0.7378\n",
      "Epoch 30/30\n",
      "31/31 [==============================] - 3s 87ms/step - loss: 0.0023 - accuracy: 0.8559 - val_loss: 0.2694 - val_accuracy: 0.7378\n"
     ]
    }
   ],
   "source": [
    "train_history = data_fft_model.fit(X_data, Y_data, epochs=30, batch_size=64, validation_split=0.2)"
   ]
  },
  {
   "cell_type": "markdown",
   "metadata": {},
   "source": [
    "載入test data 並測試"
   ]
  },
  {
   "cell_type": "code",
   "execution_count": 21,
   "metadata": {},
   "outputs": [],
   "source": [
    "with open('test_labels.pickle', 'rb') as f:\n",
    "    tlabels = pickle.load(f)\n",
    "    \n",
    "with open('test_fft_tragards.pickle', 'rb') as f:\n",
    "    tdataset = pickle.load(f)"
   ]
  },
  {
   "cell_type": "code",
   "execution_count": 22,
   "metadata": {},
   "outputs": [],
   "source": [
    "c_0 = []\n",
    "c = []\n",
    "for i in range(0,len(tlabels)):\n",
    "    if tlabels[i].sum() == 0:\n",
    "        c_0.append(i)\n",
    "    else:\n",
    "        c.append(i)"
   ]
  },
  {
   "cell_type": "code",
   "execution_count": 23,
   "metadata": {},
   "outputs": [],
   "source": [
    "t_labels = []\n",
    "t_dataset = []\n",
    "for i in range(len(tlabels)):\n",
    "    t_labels.append(np.array(tlabels[i]))\n",
    "    t_dataset.append(np.array(tdataset[i]))\n",
    "    \n",
    "tdataset = np.array(t_dataset)\n",
    "tlabels = np.array(t_labels)\n",
    "t_labels = []\n",
    "t_dataset = []"
   ]
  },
  {
   "cell_type": "code",
   "execution_count": 24,
   "metadata": {},
   "outputs": [],
   "source": [
    "label_0 = []\n",
    "label_1 = []\n",
    "data_0 = []\n",
    "data_1 = []\n",
    "for i in c_0:\n",
    "    label_0.append(np.array(tlabels[i]))\n",
    "    data_0.append(np.array(tdataset[i]))\n",
    "for i in c:\n",
    "    label_1.append(np.array(tlabels[i]))\n",
    "    data_1.append(np.array(tdataset[i]))\n",
    "    \n",
    "label_1 = np.array(label_1)\n",
    "data_1 = np.array(data_1)\n",
    "label_1 = label_1.astype('float64')\n",
    "data_1 = data_1.astype('int64')"
   ]
  },
  {
   "cell_type": "code",
   "execution_count": 25,
   "metadata": {},
   "outputs": [],
   "source": [
    "tdataset = tdataset.astype('float64')\n",
    "tlabels = tlabels.astype('int64')"
   ]
  },
  {
   "cell_type": "code",
   "execution_count": 26,
   "metadata": {},
   "outputs": [
    {
     "name": "stdout",
     "output_type": "stream",
     "text": [
      "556/556 [==============================] - 6s 10ms/step - loss: 0.2549 - accuracy: 0.5277\n",
      "\n",
      "accuracy 0.5276808738708496\n"
     ]
    }
   ],
   "source": [
    "scores=data_fft_model.evaluate(tdataset,tlabels)\n",
    "print()\n",
    "print('accuracy',scores[1])"
   ]
  },
  {
   "cell_type": "markdown",
   "metadata": {},
   "source": [
    "把000000的test data 去掉看表現"
   ]
  },
  {
   "cell_type": "code",
   "execution_count": 27,
   "metadata": {},
   "outputs": [
    {
     "name": "stdout",
     "output_type": "stream",
     "text": [
      "24/24 [==============================] - 0s 10ms/step - loss: 47.6852 - accuracy: 0.1953\n",
      "\n",
      "accuracy 0.19525066018104553\n"
     ]
    }
   ],
   "source": [
    "scores=data_fft_model.evaluate(data_1,label_1)\n",
    "print()\n",
    "print('accuracy',scores[1])"
   ]
  },
  {
   "cell_type": "code",
   "execution_count": 28,
   "metadata": {},
   "outputs": [],
   "source": [
    "# 模型結構存檔\n",
    "from keras.models import model_from_json\n",
    "json_string = data_fft_model.to_json()\n",
    "with open(\"fft_traget.config\", \"w\") as text_file:\n",
    "    text_file.write(json_string)\n",
    "\n",
    "    \n",
    "# 模型訓練結果存檔\n",
    "data_fft_model.save_weights(\"ffttraget.weight\")"
   ]
  },
  {
   "cell_type": "code",
   "execution_count": null,
   "metadata": {},
   "outputs": [],
   "source": []
  },
  {
   "cell_type": "code",
   "execution_count": null,
   "metadata": {},
   "outputs": [],
   "source": []
  }
 ],
 "metadata": {
  "kernelspec": {
   "display_name": "Python 3 (ipykernel)",
   "language": "python",
   "name": "python3"
  },
  "language_info": {
   "codemirror_mode": {
    "name": "ipython",
    "version": 3
   },
   "file_extension": ".py",
   "mimetype": "text/x-python",
   "name": "python",
   "nbconvert_exporter": "python",
   "pygments_lexer": "ipython3",
   "version": "3.8.10"
  }
 },
 "nbformat": 4,
 "nbformat_minor": 4
}
