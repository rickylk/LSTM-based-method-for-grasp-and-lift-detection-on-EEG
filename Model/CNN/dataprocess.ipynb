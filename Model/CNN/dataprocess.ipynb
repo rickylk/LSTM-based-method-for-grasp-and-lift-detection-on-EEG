{
 "cells": [
  {
   "cell_type": "code",
   "execution_count": 1,
   "metadata": {},
   "outputs": [
    {
     "name": "stderr",
     "output_type": "stream",
     "text": [
      "2022-06-11 18:45:34.442551: W tensorflow/stream_executor/platform/default/dso_loader.cc:64] Could not load dynamic library 'libcudart.so.11.0'; dlerror: libcudart.so.11.0: cannot open shared object file: No such file or directory; LD_LIBRARY_PATH: /home/neaf-2070/.mujoco/mujoco200_linux/bin:/usr/local/cuda-10.2/lib64:/usr/local/cuda/lib64:/home/neaf-2070/.mujoco/mujoco200_linux/bin:/usr/local/cuda-10.2/lib64:/usr/local/cuda/lib64:\n",
      "2022-06-11 18:45:34.442571: I tensorflow/stream_executor/cuda/cudart_stub.cc:29] Ignore above cudart dlerror if you do not have a GPU set up on your machine.\n"
     ]
    }
   ],
   "source": [
    "import pandas as pd\n",
    "import csv\n",
    "import pandas as pd\n",
    "import glob\n",
    "import numpy as np\n",
    "from sklearn.preprocessing import StandardScaler\n",
    "from scipy.fft import fft, fftfreq\n",
    "from scipy.signal import firwin, lfilter, butter\n",
    "# import asrpy\n",
    "import matplotlib.pyplot as plt\n",
    "import tensorflow as tf\n",
    "from tensorflow import keras\n",
    "from tensorflow.keras.utils import to_categorical\n",
    "from tensorflow.keras.models import Sequential\n",
    "from tensorflow.keras.layers import Dense, Flatten, Conv2D, BatchNormalization, Activation, MaxPooling2D\n",
    "# import cv2"
   ]
  },
  {
   "cell_type": "code",
   "execution_count": 2,
   "metadata": {},
   "outputs": [],
   "source": [
    "fs = 500"
   ]
  },
  {
   "cell_type": "code",
   "execution_count": 3,
   "metadata": {},
   "outputs": [],
   "source": [
    "data_pf = pd.read_csv(\"combine_all_df.csv\")"
   ]
  },
  {
   "cell_type": "code",
   "execution_count": 4,
   "metadata": {},
   "outputs": [],
   "source": [
    "data_l = [\"HandStart\", \"FirstDigitTouch\", \"BothStartLoadPhase\", \"LiftOff\", \"Replace\", \"BothReleased\"]\n",
    "data_f = [\"FC1\", \"FC2\", \"FC5\", \"FC6\"]\n",
    "data_m = [\"C3\", \"C4\", \"T7\", \"T8\"]\n",
    "data_b = [\"TP9\", \"TP10\", \"CP1\", \"CP2\", \"CP5\", \"CP6\"]\n",
    "data_u = [\"Unnamed: 0\", \"Unnamed: 0_x\", \"id\"]"
   ]
  },
  {
   "cell_type": "code",
   "execution_count": 5,
   "metadata": {},
   "outputs": [],
   "source": [
    "def datacut(data, chi, chf):\n",
    "    c_sum = 0\n",
    "    step = 0\n",
    "    dataset = []\n",
    "    labels = []\n",
    "    for i in range(1,len(data)):\n",
    "        if (data.iloc[i,-6:] - data.iloc[i-1,-6:]).sum() == 0:\n",
    "            c_sum = c_sum + 1\n",
    "        else:\n",
    "            c_sum = 0\n",
    "        if c_sum > 100:\n",
    "            step += 1\n",
    "        if c_sum == 100 or step == 10:\n",
    "            step = 0\n",
    "            dataset.append(data.iloc[i-100:i,chi:chf])\n",
    "            labels.append(data.iloc[i-50,-6:])\n",
    "    return dataset,labels\n",
    "\n",
    "\n",
    "def bandpass(input_x, lf, hf, fs):\n",
    "    nyq = 0.5 * fs\n",
    "    low = lf / nyq\n",
    "    high = hf / nyq\n",
    "    b, a = butter(5, [low, high], btype='band')\n",
    "    output_x = lfilter(b, a, input_x)\n",
    "    return output_x\n",
    "\n",
    "def preprocessing(data_list ,fs,chf,chi):\n",
    "    data_fft_list = []\n",
    "    data_Beta_list = []\n",
    "    data_Bandpass_list = []\n",
    "    for j in range(0,len(data_list)):\n",
    "        aa = data_list[j]\n",
    "        a = np.array(aa.iloc[:,0])\n",
    "        data_Bandpass = bandpass(a,1,50,fs)\n",
    "        fft = np.fft.fft(a)\n",
    "        data_Beta = abs(fft[12:30])/np.linalg.norm(abs(fft[12:30]))\n",
    "        data_fft = abs(fft[1:50])/np.linalg.norm(abs(fft[1:50]))\n",
    "        for i in range(1,chf-chi):\n",
    "            a = np.array(aa.iloc[:,i])\n",
    "            a = bandpass(a,1,50,fs)\n",
    "            fft = np.fft.fft(a)\n",
    "            Beta = abs(fft[12:30])/np.linalg.norm(abs(fft[12:30]))\n",
    "            fft = abs(fft[1:50])/np.linalg.norm(abs(fft[1:50]))\n",
    "            \n",
    "            data_fft = np.vstack([data_fft,fft])\n",
    "            data_Beta = np.vstack([data_Beta,Beta])\n",
    "            data_Bandpass = np.vstack([data_Bandpass,a])\n",
    "\n",
    "        \n",
    "        data_fft = data_fft.T\n",
    "        data_Beta = data_Beta.T\n",
    "        data_Bandpass = data_Bandpass.T\n",
    "        \n",
    "        scaler = StandardScaler().fit(data_fft)\n",
    "        data_fft = scaler.transform(data_fft)\n",
    "        scaler = StandardScaler().fit(data_Beta)\n",
    "        data_Beta = scaler.transform(data_Beta)\n",
    "        scaler = StandardScaler().fit(data_Bandpass)\n",
    "        data_Bandpass = scaler.transform(data_Bandpass)\n",
    "        \n",
    "        data_fft_list.append(data_fft)\n",
    "        data_Beta_list.append(data_Beta)\n",
    "        data_Bandpass_list.append(data_Bandpass)\n",
    "    return data_fft_list, data_Beta_list, data_Bandpass_list\n",
    "\n",
    "\n",
    "def extracts(data,fs,chi,chf):\n",
    "    dataset, labels           = datacut(data,chi,chf)\n",
    "    dataset_fft_list, dataset_Beta_list, dataset_Bandpass_list= preprocessing(dataset, fs, chf, chi)\n",
    "\n",
    "    \n",
    "    return [dataset_fft_list, dataset_Beta_list, dataset_Bandpass_list, labels]\n",
    "\n",
    "\n",
    "\n"
   ]
  },
  {
   "cell_type": "code",
   "execution_count": null,
   "metadata": {},
   "outputs": [],
   "source": [
    "[data_fft_list, data_Beta_list, data_Bandpass_list, labels] = extracts(data_pf,fs,3,35)\n",
    "\n"
   ]
  },
  {
   "cell_type": "code",
   "execution_count": null,
   "metadata": {},
   "outputs": [],
   "source": [
    "len(data_fft_list)"
   ]
  },
  {
   "cell_type": "code",
   "execution_count": null,
   "metadata": {},
   "outputs": [],
   "source": [
    "data_fft_list[0].shape"
   ]
  },
  {
   "cell_type": "code",
   "execution_count": null,
   "metadata": {},
   "outputs": [],
   "source": [
    "data_traget = data_pf[data_u+ data_f+ data_m+ data_b+ data_l]"
   ]
  },
  {
   "cell_type": "code",
   "execution_count": null,
   "metadata": {},
   "outputs": [],
   "source": [
    "[data_traget_fft_list, data_traget_Beta_list, data_traget_Bandpass_list, labels_x] = extracts(data_traget,fs,3,17)\n"
   ]
  },
  {
   "cell_type": "code",
   "execution_count": null,
   "metadata": {},
   "outputs": [],
   "source": [
    "import pickle\n",
    "\n",
    "with open('dataset_fft.pickle', 'wb') as f:\n",
    "    pickle.dump(data_fft_list, f)\n",
    "with open('dataset_Beta.pickle', 'wb') as f:\n",
    "    pickle.dump(data_Beta_list, f)\n",
    "with open('dataset_Bandpass.pickle', 'wb') as f:\n",
    "    pickle.dump(data_Bandpass_list, f)\n",
    "\n",
    "with open('dataset_fft_tragards.pickle', 'wb') as f:\n",
    "    pickle.dump(data_traget_fft_list, f)\n",
    "with open('dataset_Beta_tragards.pickle', 'wb') as f:\n",
    "    pickle.dump(data_traget_Beta_list, f)\n",
    "with open('dataset_Bandpass_tragards.pickle', 'wb') as f:\n",
    "    pickle.dump(data_traget_Bandpass_list, f)\n",
    "\n",
    "with open('labels.pickle', 'wb') as f:\n",
    "    pickle.dump(labels, f)"
   ]
  },
  {
   "cell_type": "code",
   "execution_count": null,
   "metadata": {},
   "outputs": [],
   "source": [
    "\n",
    "\n",
    "\n"
   ]
  }
 ],
 "metadata": {
  "kernelspec": {
   "display_name": "Python 3 (ipykernel)",
   "language": "python",
   "name": "python3"
  },
  "language_info": {
   "codemirror_mode": {
    "name": "ipython",
    "version": 3
   },
   "file_extension": ".py",
   "mimetype": "text/x-python",
   "name": "python",
   "nbconvert_exporter": "python",
   "pygments_lexer": "ipython3",
   "version": "3.8.10"
  }
 },
 "nbformat": 4,
 "nbformat_minor": 4
}
