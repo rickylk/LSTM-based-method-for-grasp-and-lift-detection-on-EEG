{
 "cells": [
  {
   "cell_type": "markdown",
   "id": "5b6ccc89",
   "metadata": {},
   "source": [
    "# Reference"
   ]
  },
  {
   "cell_type": "markdown",
   "id": "4c4f45af",
   "metadata": {},
   "source": [
    "https://github.com/khushwant18/Grasp-and-Lift-EEG-detection/blob/master/LSTM.ipynb"
   ]
  },
  {
   "cell_type": "code",
   "execution_count": 1,
   "id": "4ce2c045",
   "metadata": {},
   "outputs": [
    {
     "name": "stderr",
     "output_type": "stream",
     "text": [
      "C:\\Users\\User\\anaconda3\\envs\\modelop_gpu\\lib\\site-packages\\numpy\\_distributor_init.py:30: UserWarning: loaded more than 1 DLL from .libs:\n",
      "C:\\Users\\User\\anaconda3\\envs\\modelop_gpu\\lib\\site-packages\\numpy\\.libs\\libopenblas.NOIJJG62EMASZI6NYURL6JBKM4EVBGM7.gfortran-win_amd64.dll\n",
      "C:\\Users\\User\\anaconda3\\envs\\modelop_gpu\\lib\\site-packages\\numpy\\.libs\\libopenblas.PYQHXLVVQ7VESDPUVUADXEVJOBGHJPAY.gfortran-win_amd64.dll\n",
      "  warnings.warn(\"loaded more than 1 DLL from .libs:\\n%s\" %\n"
     ]
    }
   ],
   "source": [
    "import numpy as np\n",
    "import pandas as pd\n",
    "from sklearn.preprocessing import StandardScaler\n",
    "from sklearn.model_selection import train_test_split\n",
    "from tensorflow.keras.models import Sequential, Model, load_model\n",
    "from tensorflow.keras.layers import Conv2D, Flatten, MaxPooling2D, Dense,BatchNormalization, Dropout, Input\n",
    "from tensorflow.keras.layers import LSTM, Dense,BatchNormalization, Dropout, Input\n",
    "from tensorflow.keras.optimizers import Adam\n",
    "from sklearn.metrics import accuracy_score, precision_score, recall_score, f1_score, roc_auc_score\n",
    "import matplotlib.pyplot as plt\n",
    "from sklearn import metrics\n",
    "import glob\n",
    "from scipy import signal\n",
    "from scipy.fft import fft, fftfreq\n",
    "from sklearn.decomposition import PCA\n",
    "from sklearn.linear_model import LinearRegression\n",
    "from sklearn.preprocessing import PolynomialFeatures\n",
    "from sklearn import utils"
   ]
  },
  {
   "cell_type": "markdown",
   "id": "531b99e0",
   "metadata": {},
   "source": [
    "# Without preprocessing"
   ]
  },
  {
   "cell_type": "markdown",
   "id": "2cfd6b50",
   "metadata": {},
   "source": [
    "Training data"
   ]
  },
  {
   "cell_type": "code",
   "execution_count": 2,
   "id": "25872ab7",
   "metadata": {},
   "outputs": [],
   "source": [
    "#read csv file from the path\n",
    "xpath = 'grasp-and-lift-eeg-detection/subject1/train/data' \n",
    "xfiles = glob.glob(xpath + \"/*.csv\")\n",
    "ypath = 'grasp-and-lift-eeg-detection/subject1/train/event' \n",
    "yfiles = glob.glob(ypath + \"/*.csv\")\n",
    "\n",
    "xli = []\n",
    "yli = []\n",
    "\n",
    "for f in xfiles:\n",
    "    df = pd.read_csv(f, index_col=None, header=0)\n",
    "    xli.append(df)\n",
    "\n",
    "for f in yfiles:\n",
    "    df = pd.read_csv(f, index_col=None, header=0)\n",
    "    yli.append(df)\n",
    "    \n",
    "#concatatenate all the dataframes in the li\n",
    "x_all_df = pd.concat(xli, axis=0, ignore_index=True)\n",
    "x_all_df = x_all_df.iloc[:,1:]\n",
    "x_all_data=x_all_df.values\n",
    "\n",
    "y_df = pd.concat(yli, axis=0, ignore_index=True)\n",
    "y_df = y_df.iloc[:,1:]\n",
    "y_data=y_df.values"
   ]
  },
  {
   "cell_type": "code",
   "execution_count": 3,
   "id": "88a25164",
   "metadata": {},
   "outputs": [
    {
     "data": {
      "text/plain": [
       "(1185498, 32)"
      ]
     },
     "execution_count": 3,
     "metadata": {},
     "output_type": "execute_result"
    }
   ],
   "source": [
    "x_all_data.shape"
   ]
  },
  {
   "cell_type": "markdown",
   "id": "0319fe64",
   "metadata": {},
   "source": [
    "Choose our target 11 channels:['T7','C3','Cz','C4','T8','TP9','CP5','CP1','CP2','CP6','TP10']"
   ]
  },
  {
   "cell_type": "code",
   "execution_count": 4,
   "id": "492281b4",
   "metadata": {},
   "outputs": [
    {
     "name": "stdout",
     "output_type": "stream",
     "text": [
      "[11, 12, 13, 14, 15, 16, 17, 18, 19, 20, 21]\n"
     ]
    }
   ],
   "source": [
    "target_channels = ['T7','C3','Cz','C4','T8','TP9','CP5','CP1','CP2','CP6','TP10']\n",
    "target_channels_index = []\n",
    "all_channels = list(x_all_df.keys())\n",
    "for item in target_channels:\n",
    "    index = all_channels.index(item)\n",
    "    target_channels_index.append(index)\n",
    "\n",
    "print(target_channels_index)"
   ]
  },
  {
   "cell_type": "code",
   "execution_count": 5,
   "id": "68281a33",
   "metadata": {},
   "outputs": [],
   "source": [
    "x_target_channels = []\n",
    "for index in target_channels_index:\n",
    "    x_target_channels.append(x_all_data[:,index])\n",
    "    \n",
    "x_target_channels = np.array(x_target_channels).T"
   ]
  },
  {
   "cell_type": "code",
   "execution_count": 6,
   "id": "0c07d050",
   "metadata": {},
   "outputs": [],
   "source": [
    "x_data = x_target_channels"
   ]
  },
  {
   "cell_type": "code",
   "execution_count": 7,
   "id": "3efc291a",
   "metadata": {},
   "outputs": [
    {
     "data": {
      "text/plain": [
       "(1185498, 11)"
      ]
     },
     "execution_count": 7,
     "metadata": {},
     "output_type": "execute_result"
    }
   ],
   "source": [
    "x_data.shape"
   ]
  },
  {
   "cell_type": "code",
   "execution_count": 8,
   "id": "7667d2dc",
   "metadata": {},
   "outputs": [
    {
     "data": {
      "text/html": [
       "<div>\n",
       "<style scoped>\n",
       "    .dataframe tbody tr th:only-of-type {\n",
       "        vertical-align: middle;\n",
       "    }\n",
       "\n",
       "    .dataframe tbody tr th {\n",
       "        vertical-align: top;\n",
       "    }\n",
       "\n",
       "    .dataframe thead th {\n",
       "        text-align: right;\n",
       "    }\n",
       "</style>\n",
       "<table border=\"1\" class=\"dataframe\">\n",
       "  <thead>\n",
       "    <tr style=\"text-align: right;\">\n",
       "      <th></th>\n",
       "      <th>0</th>\n",
       "      <th>1</th>\n",
       "      <th>2</th>\n",
       "      <th>3</th>\n",
       "      <th>4</th>\n",
       "      <th>5</th>\n",
       "      <th>6</th>\n",
       "      <th>7</th>\n",
       "      <th>8</th>\n",
       "      <th>9</th>\n",
       "      <th>10</th>\n",
       "    </tr>\n",
       "  </thead>\n",
       "  <tbody>\n",
       "    <tr>\n",
       "      <th>0</th>\n",
       "      <td>-166</td>\n",
       "      <td>192</td>\n",
       "      <td>230</td>\n",
       "      <td>573</td>\n",
       "      <td>860</td>\n",
       "      <td>128</td>\n",
       "      <td>59</td>\n",
       "      <td>272</td>\n",
       "      <td>473</td>\n",
       "      <td>325</td>\n",
       "      <td>379</td>\n",
       "    </tr>\n",
       "    <tr>\n",
       "      <th>1</th>\n",
       "      <td>-138</td>\n",
       "      <td>201</td>\n",
       "      <td>233</td>\n",
       "      <td>554</td>\n",
       "      <td>846</td>\n",
       "      <td>185</td>\n",
       "      <td>47</td>\n",
       "      <td>269</td>\n",
       "      <td>455</td>\n",
       "      <td>307</td>\n",
       "      <td>368</td>\n",
       "    </tr>\n",
       "    <tr>\n",
       "      <th>2</th>\n",
       "      <td>-163</td>\n",
       "      <td>198</td>\n",
       "      <td>207</td>\n",
       "      <td>542</td>\n",
       "      <td>768</td>\n",
       "      <td>145</td>\n",
       "      <td>52</td>\n",
       "      <td>250</td>\n",
       "      <td>452</td>\n",
       "      <td>273</td>\n",
       "      <td>273</td>\n",
       "    </tr>\n",
       "    <tr>\n",
       "      <th>3</th>\n",
       "      <td>-310</td>\n",
       "      <td>212</td>\n",
       "      <td>221</td>\n",
       "      <td>542</td>\n",
       "      <td>808</td>\n",
       "      <td>115</td>\n",
       "      <td>41</td>\n",
       "      <td>276</td>\n",
       "      <td>432</td>\n",
       "      <td>258</td>\n",
       "      <td>241</td>\n",
       "    </tr>\n",
       "    <tr>\n",
       "      <th>4</th>\n",
       "      <td>-320</td>\n",
       "      <td>242</td>\n",
       "      <td>230</td>\n",
       "      <td>545</td>\n",
       "      <td>865</td>\n",
       "      <td>180</td>\n",
       "      <td>89</td>\n",
       "      <td>288</td>\n",
       "      <td>444</td>\n",
       "      <td>275</td>\n",
       "      <td>275</td>\n",
       "    </tr>\n",
       "    <tr>\n",
       "      <th>...</th>\n",
       "      <td>...</td>\n",
       "      <td>...</td>\n",
       "      <td>...</td>\n",
       "      <td>...</td>\n",
       "      <td>...</td>\n",
       "      <td>...</td>\n",
       "      <td>...</td>\n",
       "      <td>...</td>\n",
       "      <td>...</td>\n",
       "      <td>...</td>\n",
       "      <td>...</td>\n",
       "    </tr>\n",
       "    <tr>\n",
       "      <th>1185493</th>\n",
       "      <td>-351</td>\n",
       "      <td>164</td>\n",
       "      <td>-229</td>\n",
       "      <td>51</td>\n",
       "      <td>-148</td>\n",
       "      <td>-32</td>\n",
       "      <td>-384</td>\n",
       "      <td>-83</td>\n",
       "      <td>-66</td>\n",
       "      <td>-143</td>\n",
       "      <td>-128</td>\n",
       "    </tr>\n",
       "    <tr>\n",
       "      <th>1185494</th>\n",
       "      <td>-387</td>\n",
       "      <td>167</td>\n",
       "      <td>-230</td>\n",
       "      <td>37</td>\n",
       "      <td>-215</td>\n",
       "      <td>-85</td>\n",
       "      <td>-392</td>\n",
       "      <td>-92</td>\n",
       "      <td>-75</td>\n",
       "      <td>-192</td>\n",
       "      <td>-167</td>\n",
       "    </tr>\n",
       "    <tr>\n",
       "      <th>1185495</th>\n",
       "      <td>-309</td>\n",
       "      <td>162</td>\n",
       "      <td>-233</td>\n",
       "      <td>51</td>\n",
       "      <td>-274</td>\n",
       "      <td>-97</td>\n",
       "      <td>-421</td>\n",
       "      <td>-104</td>\n",
       "      <td>-85</td>\n",
       "      <td>-184</td>\n",
       "      <td>-180</td>\n",
       "    </tr>\n",
       "    <tr>\n",
       "      <th>1185496</th>\n",
       "      <td>-348</td>\n",
       "      <td>135</td>\n",
       "      <td>-229</td>\n",
       "      <td>70</td>\n",
       "      <td>-202</td>\n",
       "      <td>-51</td>\n",
       "      <td>-457</td>\n",
       "      <td>-103</td>\n",
       "      <td>-74</td>\n",
       "      <td>-152</td>\n",
       "      <td>-150</td>\n",
       "    </tr>\n",
       "    <tr>\n",
       "      <th>1185497</th>\n",
       "      <td>-404</td>\n",
       "      <td>144</td>\n",
       "      <td>-228</td>\n",
       "      <td>56</td>\n",
       "      <td>-158</td>\n",
       "      <td>-84</td>\n",
       "      <td>-448</td>\n",
       "      <td>-114</td>\n",
       "      <td>-100</td>\n",
       "      <td>-188</td>\n",
       "      <td>-175</td>\n",
       "    </tr>\n",
       "  </tbody>\n",
       "</table>\n",
       "<p>1185498 rows × 11 columns</p>\n",
       "</div>"
      ],
      "text/plain": [
       "          0    1    2    3    4    5    6    7    8    9    10\n",
       "0       -166  192  230  573  860  128   59  272  473  325  379\n",
       "1       -138  201  233  554  846  185   47  269  455  307  368\n",
       "2       -163  198  207  542  768  145   52  250  452  273  273\n",
       "3       -310  212  221  542  808  115   41  276  432  258  241\n",
       "4       -320  242  230  545  865  180   89  288  444  275  275\n",
       "...      ...  ...  ...  ...  ...  ...  ...  ...  ...  ...  ...\n",
       "1185493 -351  164 -229   51 -148  -32 -384  -83  -66 -143 -128\n",
       "1185494 -387  167 -230   37 -215  -85 -392  -92  -75 -192 -167\n",
       "1185495 -309  162 -233   51 -274  -97 -421 -104  -85 -184 -180\n",
       "1185496 -348  135 -229   70 -202  -51 -457 -103  -74 -152 -150\n",
       "1185497 -404  144 -228   56 -158  -84 -448 -114 -100 -188 -175\n",
       "\n",
       "[1185498 rows x 11 columns]"
      ]
     },
     "execution_count": 8,
     "metadata": {},
     "output_type": "execute_result"
    }
   ],
   "source": [
    "x_df = pd.DataFrame(x_data)\n",
    "x_df"
   ]
  },
  {
   "cell_type": "markdown",
   "id": "7cbedca4",
   "metadata": {},
   "source": [
    "Testing data"
   ]
  },
  {
   "cell_type": "code",
   "execution_count": 9,
   "id": "a95e1c5c",
   "metadata": {},
   "outputs": [],
   "source": [
    "#read csv file from the path\n",
    "xtestpath = 'grasp-and-lift-eeg-detection/subject1/test/data' \n",
    "xtestfiles = glob.glob(xtestpath + \"/*.csv\")\n",
    "ytestpath = 'grasp-and-lift-eeg-detection/subject1/test/event' \n",
    "ytestfiles = glob.glob(ytestpath + \"/*.csv\")\n",
    "\n",
    "xtestli = []\n",
    "ytestli = []\n",
    "\n",
    "for f in xtestfiles:\n",
    "    df = pd.read_csv(f, index_col=None, header=0)\n",
    "    xtestli.append(df)\n",
    "\n",
    "for f in ytestfiles:\n",
    "    df = pd.read_csv(f, index_col=None, header=0)\n",
    "    ytestli.append(df)\n",
    "    \n",
    "#concatatenate all the dataframes in the li\n",
    "x_ts_all_df = pd.concat(xtestli, axis=0, ignore_index=True)\n",
    "x_ts_all_df = x_ts_all_df.iloc[:,1:]\n",
    "x_ts_all_data=x_ts_all_df.values\n",
    "# x_val_data=x_ts_df.values\n",
    "# x_val_data=StandardScaler().fit_transform(x_val_data)\n",
    "\n",
    "y_ts_df = pd.concat(ytestli, axis=0, ignore_index=True)\n",
    "y_ts_df = y_ts_df.iloc[:,1:]\n",
    "y_ts_data=y_ts_df.values"
   ]
  },
  {
   "cell_type": "code",
   "execution_count": 10,
   "id": "6e42c625",
   "metadata": {},
   "outputs": [
    {
     "data": {
      "text/plain": [
       "(236894, 32)"
      ]
     },
     "execution_count": 10,
     "metadata": {},
     "output_type": "execute_result"
    }
   ],
   "source": [
    "x_ts_all_data.shape"
   ]
  },
  {
   "cell_type": "markdown",
   "id": "61ff5524",
   "metadata": {},
   "source": [
    "Choose our target 11 channels:['T7','C3','Cz','C4','T8','TP9','CP5','CP1','CP2','CP6','TP10']"
   ]
  },
  {
   "cell_type": "code",
   "execution_count": 11,
   "id": "76447240",
   "metadata": {},
   "outputs": [],
   "source": [
    "x_ts_target_channels = []\n",
    "for index in target_channels_index:\n",
    "    x_ts_target_channels.append(x_ts_all_data[:,index])\n",
    "    \n",
    "x_ts_target_channels = np.array(x_ts_target_channels).T"
   ]
  },
  {
   "cell_type": "code",
   "execution_count": 12,
   "id": "88c428c3",
   "metadata": {},
   "outputs": [],
   "source": [
    "x_ts_data = x_ts_target_channels"
   ]
  },
  {
   "cell_type": "code",
   "execution_count": 13,
   "id": "0ed0fbd6",
   "metadata": {},
   "outputs": [
    {
     "data": {
      "text/plain": [
       "(236894, 11)"
      ]
     },
     "execution_count": 13,
     "metadata": {},
     "output_type": "execute_result"
    }
   ],
   "source": [
    "x_ts_data.shape"
   ]
  },
  {
   "cell_type": "code",
   "execution_count": 14,
   "id": "52d06425",
   "metadata": {},
   "outputs": [
    {
     "data": {
      "text/html": [
       "<div>\n",
       "<style scoped>\n",
       "    .dataframe tbody tr th:only-of-type {\n",
       "        vertical-align: middle;\n",
       "    }\n",
       "\n",
       "    .dataframe tbody tr th {\n",
       "        vertical-align: top;\n",
       "    }\n",
       "\n",
       "    .dataframe thead th {\n",
       "        text-align: right;\n",
       "    }\n",
       "</style>\n",
       "<table border=\"1\" class=\"dataframe\">\n",
       "  <thead>\n",
       "    <tr style=\"text-align: right;\">\n",
       "      <th></th>\n",
       "      <th>0</th>\n",
       "      <th>1</th>\n",
       "      <th>2</th>\n",
       "      <th>3</th>\n",
       "      <th>4</th>\n",
       "      <th>5</th>\n",
       "      <th>6</th>\n",
       "      <th>7</th>\n",
       "      <th>8</th>\n",
       "      <th>9</th>\n",
       "      <th>10</th>\n",
       "    </tr>\n",
       "  </thead>\n",
       "  <tbody>\n",
       "    <tr>\n",
       "      <th>0</th>\n",
       "      <td>67</td>\n",
       "      <td>270</td>\n",
       "      <td>-215</td>\n",
       "      <td>89</td>\n",
       "      <td>-37</td>\n",
       "      <td>-153</td>\n",
       "      <td>34</td>\n",
       "      <td>-39</td>\n",
       "      <td>114</td>\n",
       "      <td>15</td>\n",
       "      <td>-25</td>\n",
       "    </tr>\n",
       "    <tr>\n",
       "      <th>1</th>\n",
       "      <td>81</td>\n",
       "      <td>272</td>\n",
       "      <td>-220</td>\n",
       "      <td>102</td>\n",
       "      <td>29</td>\n",
       "      <td>-118</td>\n",
       "      <td>37</td>\n",
       "      <td>-44</td>\n",
       "      <td>124</td>\n",
       "      <td>22</td>\n",
       "      <td>36</td>\n",
       "    </tr>\n",
       "    <tr>\n",
       "      <th>2</th>\n",
       "      <td>76</td>\n",
       "      <td>285</td>\n",
       "      <td>-195</td>\n",
       "      <td>113</td>\n",
       "      <td>76</td>\n",
       "      <td>13</td>\n",
       "      <td>80</td>\n",
       "      <td>-20</td>\n",
       "      <td>134</td>\n",
       "      <td>56</td>\n",
       "      <td>152</td>\n",
       "    </tr>\n",
       "    <tr>\n",
       "      <th>3</th>\n",
       "      <td>69</td>\n",
       "      <td>249</td>\n",
       "      <td>-202</td>\n",
       "      <td>89</td>\n",
       "      <td>160</td>\n",
       "      <td>-159</td>\n",
       "      <td>5</td>\n",
       "      <td>-39</td>\n",
       "      <td>106</td>\n",
       "      <td>37</td>\n",
       "      <td>75</td>\n",
       "    </tr>\n",
       "    <tr>\n",
       "      <th>4</th>\n",
       "      <td>125</td>\n",
       "      <td>257</td>\n",
       "      <td>-221</td>\n",
       "      <td>121</td>\n",
       "      <td>200</td>\n",
       "      <td>-62</td>\n",
       "      <td>39</td>\n",
       "      <td>-38</td>\n",
       "      <td>125</td>\n",
       "      <td>62</td>\n",
       "      <td>69</td>\n",
       "    </tr>\n",
       "    <tr>\n",
       "      <th>...</th>\n",
       "      <td>...</td>\n",
       "      <td>...</td>\n",
       "      <td>...</td>\n",
       "      <td>...</td>\n",
       "      <td>...</td>\n",
       "      <td>...</td>\n",
       "      <td>...</td>\n",
       "      <td>...</td>\n",
       "      <td>...</td>\n",
       "      <td>...</td>\n",
       "      <td>...</td>\n",
       "    </tr>\n",
       "    <tr>\n",
       "      <th>236889</th>\n",
       "      <td>13</td>\n",
       "      <td>322</td>\n",
       "      <td>-45</td>\n",
       "      <td>226</td>\n",
       "      <td>238</td>\n",
       "      <td>74</td>\n",
       "      <td>-11</td>\n",
       "      <td>-30</td>\n",
       "      <td>-3</td>\n",
       "      <td>135</td>\n",
       "      <td>298</td>\n",
       "    </tr>\n",
       "    <tr>\n",
       "      <th>236890</th>\n",
       "      <td>37</td>\n",
       "      <td>320</td>\n",
       "      <td>-23</td>\n",
       "      <td>229</td>\n",
       "      <td>231</td>\n",
       "      <td>32</td>\n",
       "      <td>-13</td>\n",
       "      <td>1</td>\n",
       "      <td>-6</td>\n",
       "      <td>128</td>\n",
       "      <td>287</td>\n",
       "    </tr>\n",
       "    <tr>\n",
       "      <th>236891</th>\n",
       "      <td>79</td>\n",
       "      <td>315</td>\n",
       "      <td>-40</td>\n",
       "      <td>218</td>\n",
       "      <td>182</td>\n",
       "      <td>29</td>\n",
       "      <td>-41</td>\n",
       "      <td>-18</td>\n",
       "      <td>-31</td>\n",
       "      <td>91</td>\n",
       "      <td>252</td>\n",
       "    </tr>\n",
       "    <tr>\n",
       "      <th>236892</th>\n",
       "      <td>80</td>\n",
       "      <td>302</td>\n",
       "      <td>-42</td>\n",
       "      <td>204</td>\n",
       "      <td>176</td>\n",
       "      <td>61</td>\n",
       "      <td>-55</td>\n",
       "      <td>-24</td>\n",
       "      <td>-28</td>\n",
       "      <td>88</td>\n",
       "      <td>294</td>\n",
       "    </tr>\n",
       "    <tr>\n",
       "      <th>236893</th>\n",
       "      <td>59</td>\n",
       "      <td>287</td>\n",
       "      <td>-52</td>\n",
       "      <td>209</td>\n",
       "      <td>151</td>\n",
       "      <td>26</td>\n",
       "      <td>-64</td>\n",
       "      <td>-47</td>\n",
       "      <td>-63</td>\n",
       "      <td>86</td>\n",
       "      <td>254</td>\n",
       "    </tr>\n",
       "  </tbody>\n",
       "</table>\n",
       "<p>236894 rows × 11 columns</p>\n",
       "</div>"
      ],
      "text/plain": [
       "         0    1    2    3    4    5   6   7    8    9    10\n",
       "0        67  270 -215   89  -37 -153  34 -39  114   15  -25\n",
       "1        81  272 -220  102   29 -118  37 -44  124   22   36\n",
       "2        76  285 -195  113   76   13  80 -20  134   56  152\n",
       "3        69  249 -202   89  160 -159   5 -39  106   37   75\n",
       "4       125  257 -221  121  200  -62  39 -38  125   62   69\n",
       "...     ...  ...  ...  ...  ...  ...  ..  ..  ...  ...  ...\n",
       "236889   13  322  -45  226  238   74 -11 -30   -3  135  298\n",
       "236890   37  320  -23  229  231   32 -13   1   -6  128  287\n",
       "236891   79  315  -40  218  182   29 -41 -18  -31   91  252\n",
       "236892   80  302  -42  204  176   61 -55 -24  -28   88  294\n",
       "236893   59  287  -52  209  151   26 -64 -47  -63   86  254\n",
       "\n",
       "[236894 rows x 11 columns]"
      ]
     },
     "execution_count": 14,
     "metadata": {},
     "output_type": "execute_result"
    }
   ],
   "source": [
    "x_ts_df = pd.DataFrame(x_ts_data)\n",
    "x_ts_df"
   ]
  },
  {
   "cell_type": "markdown",
   "id": "eb3198d6",
   "metadata": {},
   "source": [
    "Filter [0 0 0 0 0 0] from the data"
   ]
  },
  {
   "cell_type": "code",
   "execution_count": 15,
   "id": "1005488b",
   "metadata": {},
   "outputs": [],
   "source": [
    "time_steps=1000\n",
    "subsample=50"
   ]
  },
  {
   "cell_type": "code",
   "execution_count": 16,
   "id": "5f8f5cc4",
   "metadata": {},
   "outputs": [],
   "source": [
    "def filter_dataset(x_dataset, y_dataset):\n",
    "    x_data_filter = []\n",
    "    y_data_filter = []\n",
    "    for i in range(x_dataset.shape[0]-time_steps):\n",
    "        if 1 in y_dataset[i+time_steps]:\n",
    "            x_data_filter.append(x_dataset[i:i+time_steps:subsample])\n",
    "            y_data_filter.append(y_dataset[i+time_steps])\n",
    "    x_data_filter = np.array(x_data_filter)\n",
    "    y_data_filter = np.array(y_data_filter)\n",
    "    return x_data_filter, y_data_filter"
   ]
  },
  {
   "cell_type": "code",
   "execution_count": 17,
   "id": "2e0d52eb",
   "metadata": {},
   "outputs": [],
   "source": [
    "x_data_filter, y_data_filter = filter_dataset(x_data, y_data)"
   ]
  },
  {
   "cell_type": "code",
   "execution_count": 18,
   "id": "69b89823",
   "metadata": {},
   "outputs": [
    {
     "data": {
      "text/plain": [
       "(132965, 20, 11)"
      ]
     },
     "execution_count": 18,
     "metadata": {},
     "output_type": "execute_result"
    }
   ],
   "source": [
    "x_data_filter.shape"
   ]
  },
  {
   "cell_type": "code",
   "execution_count": 19,
   "id": "5fe9a808",
   "metadata": {},
   "outputs": [
    {
     "data": {
      "text/plain": [
       "(132965, 6)"
      ]
     },
     "execution_count": 19,
     "metadata": {},
     "output_type": "execute_result"
    }
   ],
   "source": [
    "y_data_filter.shape"
   ]
  },
  {
   "cell_type": "code",
   "execution_count": 20,
   "id": "25f9316d",
   "metadata": {},
   "outputs": [],
   "source": [
    "x_ts_data_filter, y_ts_data_filter = filter_dataset(x_ts_data, y_ts_data)"
   ]
  },
  {
   "cell_type": "code",
   "execution_count": 21,
   "id": "075ff4f3",
   "metadata": {},
   "outputs": [
    {
     "data": {
      "text/plain": [
       "(45838, 20, 11)"
      ]
     },
     "execution_count": 21,
     "metadata": {},
     "output_type": "execute_result"
    }
   ],
   "source": [
    "x_ts_data_filter.shape"
   ]
  },
  {
   "cell_type": "code",
   "execution_count": 22,
   "id": "f5faef71",
   "metadata": {},
   "outputs": [
    {
     "data": {
      "text/plain": [
       "(45838, 6)"
      ]
     },
     "execution_count": 22,
     "metadata": {},
     "output_type": "execute_result"
    }
   ],
   "source": [
    "y_ts_data_filter.shape"
   ]
  },
  {
   "cell_type": "markdown",
   "id": "4256b8a5",
   "metadata": {},
   "source": [
    "Shuffle"
   ]
  },
  {
   "cell_type": "code",
   "execution_count": 23,
   "id": "a7edac34",
   "metadata": {},
   "outputs": [],
   "source": [
    "x_data_filter, y_data_filter = utils.shuffle(x_data_filter, y_data_filter)"
   ]
  },
  {
   "cell_type": "code",
   "execution_count": 24,
   "id": "33f9a949",
   "metadata": {},
   "outputs": [
    {
     "data": {
      "text/plain": [
       "(132965, 20, 11)"
      ]
     },
     "execution_count": 24,
     "metadata": {},
     "output_type": "execute_result"
    }
   ],
   "source": [
    "x_data_filter.shape"
   ]
  },
  {
   "cell_type": "code",
   "execution_count": 25,
   "id": "ce740626",
   "metadata": {},
   "outputs": [
    {
     "data": {
      "text/plain": [
       "(132965, 6)"
      ]
     },
     "execution_count": 25,
     "metadata": {},
     "output_type": "execute_result"
    }
   ],
   "source": [
    "y_data_filter.shape"
   ]
  },
  {
   "cell_type": "markdown",
   "id": "79edf282",
   "metadata": {},
   "source": [
    "Model"
   ]
  },
  {
   "cell_type": "code",
   "execution_count": 26,
   "id": "f5b6b0e3",
   "metadata": {},
   "outputs": [],
   "source": [
    "def LSTM_model(featr):\n",
    "    model = Sequential()\n",
    "    model.add(LSTM(128, return_sequences = True, input_shape = (time_steps//subsample, featr)))\n",
    "    model.add(Dropout(0.5))\n",
    "    model.add(LSTM(128, return_sequences = True, input_shape = (time_steps//subsample, featr)))\n",
    "    model.add(Dropout(0.5))\n",
    "    model.add(LSTM(128, return_sequences = True, input_shape = (time_steps//subsample, featr)))\n",
    "    model.add(Dropout(0.5))\n",
    "    model.add(LSTM(128))\n",
    "    model.add(Dense(32, activation = \"relu\"))\n",
    "    model.add(Dense(6, activation = \"sigmoid\"))\n",
    "    \n",
    "    optimizer = Adam(lr = 0.001)\n",
    "    model.compile(optimizer=optimizer, loss='binary_crossentropy', metrics=['accuracy'])\n",
    "    model.summary()\n",
    "    \n",
    "    return model"
   ]
  },
  {
   "cell_type": "code",
   "execution_count": 28,
   "id": "6f36d707",
   "metadata": {},
   "outputs": [
    {
     "name": "stdout",
     "output_type": "stream",
     "text": [
      "Model: \"sequential_1\"\n",
      "_________________________________________________________________\n",
      "Layer (type)                 Output Shape              Param #   \n",
      "=================================================================\n",
      "lstm_4 (LSTM)                (None, 20, 128)           71680     \n",
      "_________________________________________________________________\n",
      "dropout_3 (Dropout)          (None, 20, 128)           0         \n",
      "_________________________________________________________________\n",
      "lstm_5 (LSTM)                (None, 20, 128)           131584    \n",
      "_________________________________________________________________\n",
      "dropout_4 (Dropout)          (None, 20, 128)           0         \n",
      "_________________________________________________________________\n",
      "lstm_6 (LSTM)                (None, 20, 128)           131584    \n",
      "_________________________________________________________________\n",
      "dropout_5 (Dropout)          (None, 20, 128)           0         \n",
      "_________________________________________________________________\n",
      "lstm_7 (LSTM)                (None, 128)               131584    \n",
      "_________________________________________________________________\n",
      "dense_2 (Dense)              (None, 32)                4128      \n",
      "_________________________________________________________________\n",
      "dense_3 (Dense)              (None, 6)                 198       \n",
      "=================================================================\n",
      "Total params: 470,758\n",
      "Trainable params: 470,758\n",
      "Non-trainable params: 0\n",
      "_________________________________________________________________\n",
      "Epoch 1/30\n",
      "1870/1870 [==============================] - 44s 17ms/step - loss: 0.2864 - accuracy: 0.5894 - val_loss: 0.1723 - val_accuracy: 0.7685\n",
      "Epoch 2/30\n",
      "1870/1870 [==============================] - 30s 16ms/step - loss: 0.1860 - accuracy: 0.7298 - val_loss: 0.1351 - val_accuracy: 0.7812\n",
      "Epoch 3/30\n",
      "1870/1870 [==============================] - 29s 15ms/step - loss: 0.1571 - accuracy: 0.7623 - val_loss: 0.1072 - val_accuracy: 0.8103\n",
      "Epoch 4/30\n",
      "1870/1870 [==============================] - 29s 15ms/step - loss: 0.1428 - accuracy: 0.7776 - val_loss: 0.1007 - val_accuracy: 0.8050\n",
      "Epoch 5/30\n",
      "1870/1870 [==============================] - 29s 16ms/step - loss: 0.1310 - accuracy: 0.7884 - val_loss: 0.0886 - val_accuracy: 0.8410\n",
      "Epoch 6/30\n",
      "1870/1870 [==============================] - 29s 15ms/step - loss: 0.1211 - accuracy: 0.7991 - val_loss: 0.0827 - val_accuracy: 0.8185\n",
      "Epoch 7/30\n",
      "1870/1870 [==============================] - 30s 16ms/step - loss: 0.1150 - accuracy: 0.8048 - val_loss: 0.0747 - val_accuracy: 0.8416\n",
      "Epoch 8/30\n",
      "1870/1870 [==============================] - 30s 16ms/step - loss: 0.1100 - accuracy: 0.8085 - val_loss: 0.0762 - val_accuracy: 0.8501\n",
      "Epoch 9/30\n",
      "1870/1870 [==============================] - 30s 16ms/step - loss: 0.1043 - accuracy: 0.8121 - val_loss: 0.0690 - val_accuracy: 0.8353\n",
      "Epoch 10/30\n",
      "1870/1870 [==============================] - 30s 16ms/step - loss: 0.1008 - accuracy: 0.8158 - val_loss: 0.0702 - val_accuracy: 0.8467\n",
      "Epoch 11/30\n",
      "1870/1870 [==============================] - 30s 16ms/step - loss: 0.0971 - accuracy: 0.8166 - val_loss: 0.0623 - val_accuracy: 0.8548\n",
      "Epoch 12/30\n",
      "1870/1870 [==============================] - 30s 16ms/step - loss: 0.0932 - accuracy: 0.8226 - val_loss: 0.0619 - val_accuracy: 0.8533\n",
      "Epoch 13/30\n",
      "1870/1870 [==============================] - 30s 16ms/step - loss: 0.0928 - accuracy: 0.8229 - val_loss: 0.0584 - val_accuracy: 0.8481\n",
      "Epoch 14/30\n",
      "1870/1870 [==============================] - 30s 16ms/step - loss: 0.0911 - accuracy: 0.8239 - val_loss: 0.0584 - val_accuracy: 0.8580\n",
      "Epoch 15/30\n",
      "1870/1870 [==============================] - 30s 16ms/step - loss: 0.0875 - accuracy: 0.8277 - val_loss: 0.0577 - val_accuracy: 0.8397\n",
      "Epoch 16/30\n",
      "1870/1870 [==============================] - 30s 16ms/step - loss: 0.0860 - accuracy: 0.8265 - val_loss: 0.0555 - val_accuracy: 0.8587\n",
      "Epoch 17/30\n",
      "1870/1870 [==============================] - 29s 16ms/step - loss: 0.0835 - accuracy: 0.8274 - val_loss: 0.0531 - val_accuracy: 0.8458\n",
      "Epoch 18/30\n",
      "1870/1870 [==============================] - 30s 16ms/step - loss: 0.0816 - accuracy: 0.8290 - val_loss: 0.0512 - val_accuracy: 0.8509\n",
      "Epoch 19/30\n",
      "1870/1870 [==============================] - 30s 16ms/step - loss: 0.0825 - accuracy: 0.8300 - val_loss: 0.0537 - val_accuracy: 0.8603\n",
      "Epoch 20/30\n",
      "1870/1870 [==============================] - 30s 16ms/step - loss: 0.0799 - accuracy: 0.8273 - val_loss: 0.0507 - val_accuracy: 0.8531\n",
      "Epoch 21/30\n",
      "1870/1870 [==============================] - 30s 16ms/step - loss: 0.0797 - accuracy: 0.8299 - val_loss: 0.0525 - val_accuracy: 0.8649\n",
      "Epoch 22/30\n",
      "1870/1870 [==============================] - 30s 16ms/step - loss: 0.0777 - accuracy: 0.8314 - val_loss: 0.0511 - val_accuracy: 0.8602\n",
      "Epoch 23/30\n",
      "1870/1870 [==============================] - 30s 16ms/step - loss: 0.0750 - accuracy: 0.8329 - val_loss: 0.0499 - val_accuracy: 0.8642\n",
      "Epoch 24/30\n",
      "1870/1870 [==============================] - 30s 16ms/step - loss: 0.0754 - accuracy: 0.8308 - val_loss: 0.0496 - val_accuracy: 0.8609\n",
      "Epoch 25/30\n",
      "1870/1870 [==============================] - 31s 17ms/step - loss: 0.0750 - accuracy: 0.8342 - val_loss: 0.0465 - val_accuracy: 0.8602\n",
      "Epoch 26/30\n",
      "1870/1870 [==============================] - 30s 16ms/step - loss: 0.0728 - accuracy: 0.8373 - val_loss: 0.0461 - val_accuracy: 0.8578\n",
      "Epoch 27/30\n",
      "1870/1870 [==============================] - 30s 16ms/step - loss: 0.0720 - accuracy: 0.8349 - val_loss: 0.0483 - val_accuracy: 0.8608\n",
      "Epoch 28/30\n",
      "1870/1870 [==============================] - 30s 16ms/step - loss: 0.0703 - accuracy: 0.8363 - val_loss: 0.0447 - val_accuracy: 0.8663\n",
      "Epoch 29/30\n",
      "1870/1870 [==============================] - 30s 16ms/step - loss: 0.0711 - accuracy: 0.8349 - val_loss: 0.0462 - val_accuracy: 0.8664\n",
      "Epoch 30/30\n",
      "1870/1870 [==============================] - 30s 16ms/step - loss: 0.0697 - accuracy: 0.8340 - val_loss: 0.0455 - val_accuracy: 0.8625\n"
     ]
    },
    {
     "data": {
      "text/plain": [
       "<tensorflow.python.keras.callbacks.History at 0x2a00fc19820>"
      ]
     },
     "execution_count": 28,
     "metadata": {},
     "output_type": "execute_result"
    }
   ],
   "source": [
    "model_without_preprocessing = LSTM_model(11)\n",
    "model_without_preprocessing.fit(x_data_filter, y_data_filter, epochs=30, batch_size=64, validation_split=0.1)"
   ]
  },
  {
   "cell_type": "code",
   "execution_count": 29,
   "id": "b93185c2",
   "metadata": {},
   "outputs": [],
   "source": [
    "model_without_preprocessing.save(\"modelop/LSTM/LSTM_without_preprocessing.h5\")"
   ]
  },
  {
   "cell_type": "markdown",
   "id": "a9491541",
   "metadata": {},
   "source": [
    "Evaluate"
   ]
  },
  {
   "cell_type": "code",
   "execution_count": 30,
   "id": "9be07e7b",
   "metadata": {},
   "outputs": [
    {
     "name": "stdout",
     "output_type": "stream",
     "text": [
      "Model: \"sequential_1\"\n",
      "_________________________________________________________________\n",
      "Layer (type)                 Output Shape              Param #   \n",
      "=================================================================\n",
      "lstm_4 (LSTM)                (None, 20, 128)           71680     \n",
      "_________________________________________________________________\n",
      "dropout_3 (Dropout)          (None, 20, 128)           0         \n",
      "_________________________________________________________________\n",
      "lstm_5 (LSTM)                (None, 20, 128)           131584    \n",
      "_________________________________________________________________\n",
      "dropout_4 (Dropout)          (None, 20, 128)           0         \n",
      "_________________________________________________________________\n",
      "lstm_6 (LSTM)                (None, 20, 128)           131584    \n",
      "_________________________________________________________________\n",
      "dropout_5 (Dropout)          (None, 20, 128)           0         \n",
      "_________________________________________________________________\n",
      "lstm_7 (LSTM)                (None, 128)               131584    \n",
      "_________________________________________________________________\n",
      "dense_2 (Dense)              (None, 32)                4128      \n",
      "_________________________________________________________________\n",
      "dense_3 (Dense)              (None, 6)                 198       \n",
      "=================================================================\n",
      "Total params: 470,758\n",
      "Trainable params: 470,758\n",
      "Non-trainable params: 0\n",
      "_________________________________________________________________\n"
     ]
    }
   ],
   "source": [
    "model = load_model(\"modelop/LSTM/LSTM_without_preprocessing.h5\")\n",
    "model.summary()"
   ]
  },
  {
   "cell_type": "code",
   "execution_count": 31,
   "id": "43065171",
   "metadata": {},
   "outputs": [
    {
     "name": "stdout",
     "output_type": "stream",
     "text": [
      "1433/1433 [==============================] - 14s 9ms/step - loss: 1.5203 - accuracy: 0.3589\n"
     ]
    },
    {
     "data": {
      "text/plain": [
       "[1.5203118324279785, 0.3589380085468292]"
      ]
     },
     "execution_count": 31,
     "metadata": {},
     "output_type": "execute_result"
    }
   ],
   "source": [
    "model.evaluate(x_ts_data_filter, y_ts_data_filter)"
   ]
  },
  {
   "cell_type": "markdown",
   "id": "c60a650c",
   "metadata": {},
   "source": [
    "# With lowpass filter"
   ]
  },
  {
   "cell_type": "markdown",
   "id": "afcadfee",
   "metadata": {},
   "source": [
    "Training data with filter"
   ]
  },
  {
   "cell_type": "code",
   "execution_count": 55,
   "id": "876c27aa",
   "metadata": {},
   "outputs": [],
   "source": [
    "x_data_df=x_df.copy()"
   ]
  },
  {
   "cell_type": "code",
   "execution_count": 56,
   "id": "2d1733d6",
   "metadata": {},
   "outputs": [],
   "source": [
    "fs = 500  # Sampling frequency\n",
    "fc = 35  # Cut-off frequency of the filter\n",
    "w = fc / (fs / 2) # Normalize the frequency\n",
    "for col in x_data_df.columns:\n",
    "    b, a = signal.butter(8, w, 'low')\n",
    "    x_data_df[col] = signal.filtfilt(b, a, x_data_df[col].values)"
   ]
  },
  {
   "cell_type": "code",
   "execution_count": 57,
   "id": "eac77414",
   "metadata": {},
   "outputs": [
    {
     "data": {
      "text/plain": [
       "array([[-166.82819025,  192.51980174,  230.36361371, ...,  473.48230623,\n",
       "         326.06142442,  379.98444149],\n",
       "       [-174.27948695,  200.77913259,  225.6359968 , ...,  465.44873684,\n",
       "         321.13388838,  367.72668921],\n",
       "       [-181.06571617,  208.07644964,  220.75248357, ...,  457.52450939,\n",
       "         315.48595846,  354.82668766],\n",
       "       ...,\n",
       "       [-354.29637221,  165.51670265, -229.37401964, ...,  -87.2687435 ,\n",
       "        -177.82331846, -162.28588387],\n",
       "       [-377.90769853,  154.77682066, -228.63186945, ...,  -92.2583437 ,\n",
       "        -182.62525868, -169.08319706],\n",
       "       [-402.48216844,  144.31783962, -227.76996076, ...,  -97.85267257,\n",
       "        -187.13373086, -175.5942452 ]])"
      ]
     },
     "execution_count": 57,
     "metadata": {},
     "output_type": "execute_result"
    }
   ],
   "source": [
    "x_data_df.values"
   ]
  },
  {
   "cell_type": "code",
   "execution_count": 58,
   "id": "ba5d0fdc",
   "metadata": {},
   "outputs": [
    {
     "data": {
      "text/plain": [
       "(1185498, 11)"
      ]
     },
     "execution_count": 58,
     "metadata": {},
     "output_type": "execute_result"
    }
   ],
   "source": [
    "x_data_df.values.shape"
   ]
  },
  {
   "cell_type": "markdown",
   "id": "10aebf65",
   "metadata": {},
   "source": [
    "Testing data with filter"
   ]
  },
  {
   "cell_type": "code",
   "execution_count": 59,
   "id": "5d1fa31a",
   "metadata": {},
   "outputs": [],
   "source": [
    "x_test_df=x_ts_df.copy()"
   ]
  },
  {
   "cell_type": "code",
   "execution_count": 60,
   "id": "8a5e0d36",
   "metadata": {},
   "outputs": [],
   "source": [
    "for col in x_test_df.columns:\n",
    "    b, a = signal.butter(8, w, 'low')\n",
    "    x_test_df[col] = signal.filtfilt(b, a, x_test_df[col].values)"
   ]
  },
  {
   "cell_type": "code",
   "execution_count": 61,
   "id": "7ede443c",
   "metadata": {},
   "outputs": [
    {
     "data": {
      "text/plain": [
       "array([[  67.34267675,  269.65820415, -215.17929161, ...,  114.10565348,\n",
       "          14.28476537,  -25.1310076 ],\n",
       "       [  78.59154509,  266.38083786, -212.51578362, ...,  115.51932772,\n",
       "          24.89164716,   13.46311616],\n",
       "       [  88.78362445,  262.88488934, -210.11379572, ...,  116.59767179,\n",
       "          34.84600294,   48.26187557],\n",
       "       ...,\n",
       "       [  89.56179842,  310.27267273,  -44.44579712, ...,  -37.19078695,\n",
       "         105.28696398,  283.62657741],\n",
       "       [  75.77247933,  299.05110992,  -48.21155977, ...,  -49.07019079,\n",
       "          97.92210305,  270.45770314],\n",
       "       [  60.49225403,  287.30892857,  -51.93974335, ...,  -61.86529521,\n",
       "          89.00335433,  255.38677467]])"
      ]
     },
     "execution_count": 61,
     "metadata": {},
     "output_type": "execute_result"
    }
   ],
   "source": [
    "x_test_df.values"
   ]
  },
  {
   "cell_type": "code",
   "execution_count": 62,
   "id": "57539fbd",
   "metadata": {},
   "outputs": [
    {
     "data": {
      "text/plain": [
       "(236894, 11)"
      ]
     },
     "execution_count": 62,
     "metadata": {},
     "output_type": "execute_result"
    }
   ],
   "source": [
    "x_test_df.values.shape"
   ]
  },
  {
   "cell_type": "markdown",
   "id": "9a6bd7cd",
   "metadata": {},
   "source": [
    "Filter [0 0 0 0 0 0] from the data"
   ]
  },
  {
   "cell_type": "code",
   "execution_count": 40,
   "id": "6711d0f7",
   "metadata": {},
   "outputs": [],
   "source": [
    "x_data_filter, y_data_filter = filter_dataset(x_data_df.values, y_data)"
   ]
  },
  {
   "cell_type": "code",
   "execution_count": 41,
   "id": "8723b46a",
   "metadata": {},
   "outputs": [
    {
     "data": {
      "text/plain": [
       "(132965, 20, 11)"
      ]
     },
     "execution_count": 41,
     "metadata": {},
     "output_type": "execute_result"
    }
   ],
   "source": [
    "x_data_filter.shape"
   ]
  },
  {
   "cell_type": "code",
   "execution_count": 42,
   "id": "cfb8580b",
   "metadata": {},
   "outputs": [
    {
     "data": {
      "text/plain": [
       "(132965, 6)"
      ]
     },
     "execution_count": 42,
     "metadata": {},
     "output_type": "execute_result"
    }
   ],
   "source": [
    "y_data_filter.shape"
   ]
  },
  {
   "cell_type": "code",
   "execution_count": 43,
   "id": "6c57e543",
   "metadata": {},
   "outputs": [],
   "source": [
    "x_ts_data_filter, y_ts_data_filter = filter_dataset(x_test_df.values, y_ts_data)"
   ]
  },
  {
   "cell_type": "code",
   "execution_count": 44,
   "id": "81d28b40",
   "metadata": {},
   "outputs": [
    {
     "data": {
      "text/plain": [
       "(45838, 20, 11)"
      ]
     },
     "execution_count": 44,
     "metadata": {},
     "output_type": "execute_result"
    }
   ],
   "source": [
    "x_ts_data_filter.shape"
   ]
  },
  {
   "cell_type": "code",
   "execution_count": 45,
   "id": "52158456",
   "metadata": {},
   "outputs": [
    {
     "data": {
      "text/plain": [
       "(45838, 6)"
      ]
     },
     "execution_count": 45,
     "metadata": {},
     "output_type": "execute_result"
    }
   ],
   "source": [
    "y_ts_data_filter.shape"
   ]
  },
  {
   "cell_type": "markdown",
   "id": "9db41b4c",
   "metadata": {},
   "source": [
    "Shuffle"
   ]
  },
  {
   "cell_type": "code",
   "execution_count": 46,
   "id": "98ff4e78",
   "metadata": {},
   "outputs": [],
   "source": [
    "x_data_filter, y_data_filter = utils.shuffle(x_data_filter, y_data_filter)"
   ]
  },
  {
   "cell_type": "code",
   "execution_count": 47,
   "id": "7bce066d",
   "metadata": {},
   "outputs": [
    {
     "data": {
      "text/plain": [
       "(132965, 20, 11)"
      ]
     },
     "execution_count": 47,
     "metadata": {},
     "output_type": "execute_result"
    }
   ],
   "source": [
    "x_data_filter.shape"
   ]
  },
  {
   "cell_type": "code",
   "execution_count": 48,
   "id": "e247e1b2",
   "metadata": {},
   "outputs": [
    {
     "data": {
      "text/plain": [
       "(132965, 6)"
      ]
     },
     "execution_count": 48,
     "metadata": {},
     "output_type": "execute_result"
    }
   ],
   "source": [
    "y_data_filter.shape"
   ]
  },
  {
   "cell_type": "markdown",
   "id": "dab695f4",
   "metadata": {},
   "source": [
    "Model"
   ]
  },
  {
   "cell_type": "code",
   "execution_count": 49,
   "id": "9fa46fa6",
   "metadata": {},
   "outputs": [
    {
     "name": "stdout",
     "output_type": "stream",
     "text": [
      "Model: \"sequential_2\"\n",
      "_________________________________________________________________\n",
      "Layer (type)                 Output Shape              Param #   \n",
      "=================================================================\n",
      "lstm_8 (LSTM)                (None, 20, 128)           71680     \n",
      "_________________________________________________________________\n",
      "dropout_6 (Dropout)          (None, 20, 128)           0         \n",
      "_________________________________________________________________\n",
      "lstm_9 (LSTM)                (None, 20, 128)           131584    \n",
      "_________________________________________________________________\n",
      "dropout_7 (Dropout)          (None, 20, 128)           0         \n",
      "_________________________________________________________________\n",
      "lstm_10 (LSTM)               (None, 20, 128)           131584    \n",
      "_________________________________________________________________\n",
      "dropout_8 (Dropout)          (None, 20, 128)           0         \n",
      "_________________________________________________________________\n",
      "lstm_11 (LSTM)               (None, 128)               131584    \n",
      "_________________________________________________________________\n",
      "dense_4 (Dense)              (None, 32)                4128      \n",
      "_________________________________________________________________\n",
      "dense_5 (Dense)              (None, 6)                 198       \n",
      "=================================================================\n",
      "Total params: 470,758\n",
      "Trainable params: 470,758\n",
      "Non-trainable params: 0\n",
      "_________________________________________________________________\n",
      "Epoch 1/30\n",
      "1870/1870 [==============================] - 35s 16ms/step - loss: 0.2609 - accuracy: 0.6259 - val_loss: 0.1373 - val_accuracy: 0.7909\n",
      "Epoch 2/30\n",
      "1870/1870 [==============================] - 30s 16ms/step - loss: 0.1580 - accuracy: 0.7643 - val_loss: 0.1041 - val_accuracy: 0.8003\n",
      "Epoch 3/30\n",
      "1870/1870 [==============================] - 30s 16ms/step - loss: 0.1293 - accuracy: 0.7913 - val_loss: 0.0842 - val_accuracy: 0.8244\n",
      "Epoch 4/30\n",
      "1870/1870 [==============================] - 30s 16ms/step - loss: 0.1149 - accuracy: 0.8068 - val_loss: 0.0762 - val_accuracy: 0.8208\n",
      "Epoch 5/30\n",
      "1870/1870 [==============================] - 30s 16ms/step - loss: 0.1071 - accuracy: 0.8151 - val_loss: 0.0669 - val_accuracy: 0.8488\n",
      "Epoch 6/30\n",
      "1870/1870 [==============================] - 31s 17ms/step - loss: 0.0999 - accuracy: 0.8200 - val_loss: 0.0644 - val_accuracy: 0.8459\n",
      "Epoch 7/30\n",
      "1870/1870 [==============================] - 30s 16ms/step - loss: 0.0928 - accuracy: 0.8257 - val_loss: 0.0559 - val_accuracy: 0.8456\n",
      "Epoch 8/30\n",
      "1870/1870 [==============================] - 30s 16ms/step - loss: 0.0881 - accuracy: 0.8286 - val_loss: 0.0573 - val_accuracy: 0.8670\n",
      "Epoch 9/30\n",
      "1870/1870 [==============================] - 30s 16ms/step - loss: 0.0853 - accuracy: 0.8320 - val_loss: 0.0562 - val_accuracy: 0.8751\n",
      "Epoch 10/30\n",
      "1870/1870 [==============================] - 31s 16ms/step - loss: 0.0802 - accuracy: 0.8343 - val_loss: 0.0517 - val_accuracy: 0.8586\n",
      "Epoch 11/30\n",
      "1870/1870 [==============================] - 31s 17ms/step - loss: 0.0790 - accuracy: 0.8376 - val_loss: 0.0458 - val_accuracy: 0.8564\n",
      "Epoch 12/30\n",
      "1870/1870 [==============================] - 31s 16ms/step - loss: 0.0766 - accuracy: 0.8371 - val_loss: 0.0473 - val_accuracy: 0.8493\n",
      "Epoch 13/30\n",
      "1870/1870 [==============================] - 30s 16ms/step - loss: 0.0745 - accuracy: 0.8380 - val_loss: 0.0449 - val_accuracy: 0.8559\n",
      "Epoch 14/30\n",
      "1870/1870 [==============================] - 30s 16ms/step - loss: 0.0732 - accuracy: 0.8392 - val_loss: 0.0433 - val_accuracy: 0.8556\n",
      "Epoch 15/30\n",
      "1870/1870 [==============================] - 30s 16ms/step - loss: 0.0701 - accuracy: 0.8405 - val_loss: 0.0392 - val_accuracy: 0.8573\n",
      "Epoch 16/30\n",
      "1870/1870 [==============================] - 31s 16ms/step - loss: 0.0693 - accuracy: 0.8395 - val_loss: 0.0402 - val_accuracy: 0.8444\n",
      "Epoch 17/30\n",
      "1870/1870 [==============================] - 31s 16ms/step - loss: 0.0671 - accuracy: 0.8410 - val_loss: 0.0396 - val_accuracy: 0.8445\n",
      "Epoch 18/30\n",
      "1870/1870 [==============================] - 30s 16ms/step - loss: 0.0661 - accuracy: 0.8418 - val_loss: 0.0388 - val_accuracy: 0.8677\n",
      "Epoch 19/30\n",
      "1870/1870 [==============================] - 31s 16ms/step - loss: 0.0640 - accuracy: 0.8455 - val_loss: 0.0369 - val_accuracy: 0.8743\n",
      "Epoch 20/30\n",
      "1870/1870 [==============================] - 30s 16ms/step - loss: 0.0624 - accuracy: 0.8458 - val_loss: 0.0385 - val_accuracy: 0.8647\n",
      "Epoch 21/30\n",
      "1870/1870 [==============================] - 31s 17ms/step - loss: 0.0615 - accuracy: 0.8456 - val_loss: 0.0356 - val_accuracy: 0.8533\n",
      "Epoch 22/30\n",
      "1870/1870 [==============================] - 31s 16ms/step - loss: 0.0622 - accuracy: 0.8436 - val_loss: 0.0343 - val_accuracy: 0.8549\n",
      "Epoch 23/30\n",
      "1870/1870 [==============================] - 31s 16ms/step - loss: 0.0599 - accuracy: 0.8457 - val_loss: 0.0367 - val_accuracy: 0.8773\n",
      "Epoch 24/30\n",
      "1870/1870 [==============================] - 30s 16ms/step - loss: 0.0601 - accuracy: 0.8472 - val_loss: 0.0386 - val_accuracy: 0.8705\n",
      "Epoch 25/30\n",
      "1870/1870 [==============================] - 30s 16ms/step - loss: 0.0596 - accuracy: 0.8471 - val_loss: 0.0372 - val_accuracy: 0.8640\n",
      "Epoch 26/30\n",
      "1870/1870 [==============================] - 30s 16ms/step - loss: 0.0590 - accuracy: 0.8449 - val_loss: 0.0311 - val_accuracy: 0.8697\n",
      "Epoch 27/30\n",
      "1870/1870 [==============================] - 31s 16ms/step - loss: 0.0564 - accuracy: 0.8471 - val_loss: 0.0342 - val_accuracy: 0.8706\n",
      "Epoch 28/30\n",
      "1870/1870 [==============================] - 30s 16ms/step - loss: 0.0550 - accuracy: 0.8473 - val_loss: 0.0329 - val_accuracy: 0.8705\n",
      "Epoch 29/30\n",
      "1870/1870 [==============================] - 31s 17ms/step - loss: 0.0550 - accuracy: 0.8468 - val_loss: 0.0299 - val_accuracy: 0.8617\n",
      "Epoch 30/30\n",
      "1870/1870 [==============================] - 32s 17ms/step - loss: 0.0548 - accuracy: 0.8471 - val_loss: 0.0317 - val_accuracy: 0.8685\n"
     ]
    },
    {
     "data": {
      "text/plain": [
       "<tensorflow.python.keras.callbacks.History at 0x2a061244310>"
      ]
     },
     "execution_count": 49,
     "metadata": {},
     "output_type": "execute_result"
    }
   ],
   "source": [
    "model_with_filter = LSTM_model(11)\n",
    "model_with_filter.fit(x_data_filter, y_data_filter, epochs=30, batch_size=64, validation_split=0.1)"
   ]
  },
  {
   "cell_type": "code",
   "execution_count": 50,
   "id": "fcd2fd0c",
   "metadata": {},
   "outputs": [],
   "source": [
    "model_with_filter.save(\"modelop/LSTM/LSTM_with_filter.h5\")"
   ]
  },
  {
   "cell_type": "markdown",
   "id": "afb58248",
   "metadata": {},
   "source": [
    "Evaluate"
   ]
  },
  {
   "cell_type": "code",
   "execution_count": 51,
   "id": "fe29de28",
   "metadata": {},
   "outputs": [
    {
     "name": "stdout",
     "output_type": "stream",
     "text": [
      "Model: \"sequential_2\"\n",
      "_________________________________________________________________\n",
      "Layer (type)                 Output Shape              Param #   \n",
      "=================================================================\n",
      "lstm_8 (LSTM)                (None, 20, 128)           71680     \n",
      "_________________________________________________________________\n",
      "dropout_6 (Dropout)          (None, 20, 128)           0         \n",
      "_________________________________________________________________\n",
      "lstm_9 (LSTM)                (None, 20, 128)           131584    \n",
      "_________________________________________________________________\n",
      "dropout_7 (Dropout)          (None, 20, 128)           0         \n",
      "_________________________________________________________________\n",
      "lstm_10 (LSTM)               (None, 20, 128)           131584    \n",
      "_________________________________________________________________\n",
      "dropout_8 (Dropout)          (None, 20, 128)           0         \n",
      "_________________________________________________________________\n",
      "lstm_11 (LSTM)               (None, 128)               131584    \n",
      "_________________________________________________________________\n",
      "dense_4 (Dense)              (None, 32)                4128      \n",
      "_________________________________________________________________\n",
      "dense_5 (Dense)              (None, 6)                 198       \n",
      "=================================================================\n",
      "Total params: 470,758\n",
      "Trainable params: 470,758\n",
      "Non-trainable params: 0\n",
      "_________________________________________________________________\n"
     ]
    }
   ],
   "source": [
    "model = load_model(\"modelop/LSTM/LSTM_with_filter.h5\")\n",
    "model.summary()"
   ]
  },
  {
   "cell_type": "code",
   "execution_count": 52,
   "id": "6f2db7e3",
   "metadata": {},
   "outputs": [
    {
     "name": "stdout",
     "output_type": "stream",
     "text": [
      "1433/1433 [==============================] - 14s 9ms/step - loss: 1.3859 - accuracy: 0.3900\n"
     ]
    },
    {
     "data": {
      "text/plain": [
       "[1.3858853578567505, 0.38996028900146484]"
      ]
     },
     "execution_count": 52,
     "metadata": {},
     "output_type": "execute_result"
    }
   ],
   "source": [
    "model.evaluate(x_ts_data_filter, y_ts_data_filter)"
   ]
  },
  {
   "cell_type": "markdown",
   "id": "80d34584",
   "metadata": {},
   "source": [
    "# With lowpass filter and standardization"
   ]
  },
  {
   "cell_type": "markdown",
   "id": "40d8f1d4",
   "metadata": {},
   "source": [
    "Training data with filter and standardization"
   ]
  },
  {
   "cell_type": "code",
   "execution_count": 53,
   "id": "ac4b4756",
   "metadata": {},
   "outputs": [],
   "source": [
    "Xsc = StandardScaler().fit_transform(x_data_df.values)\n",
    "Xsc=pd.DataFrame(Xsc)\n",
    "y=pd.DataFrame(y_data)"
   ]
  },
  {
   "cell_type": "code",
   "execution_count": 54,
   "id": "b796a6b5",
   "metadata": {},
   "outputs": [
    {
     "data": {
      "text/plain": [
       "array([[-0.92215592, -0.72194023,  2.71379359, ...,  2.30970005,\n",
       "         1.71593394,  0.56826548],\n",
       "       [-0.94840043, -0.65151327,  2.66568898, ...,  2.25704488,\n",
       "         1.68692048,  0.53007825],\n",
       "       [-0.97230248, -0.58928937,  2.61599808, ...,  2.20510639,\n",
       "         1.65366532,  0.48989018],\n",
       "       ...,\n",
       "       [-1.5824451 , -0.9521945 , -1.96414498, ..., -1.3656823 ,\n",
       "        -1.25095259, -1.1210983 ],\n",
       "       [-1.6656075 , -1.04377301, -1.95659342, ..., -1.39838609,\n",
       "        -1.27922654, -1.14227434],\n",
       "       [-1.75216222, -1.13295629, -1.9478233 , ..., -1.43505352,\n",
       "        -1.30577254, -1.16255856]])"
      ]
     },
     "execution_count": 54,
     "metadata": {},
     "output_type": "execute_result"
    }
   ],
   "source": [
    "Xsc.values"
   ]
  },
  {
   "cell_type": "code",
   "execution_count": 55,
   "id": "fcb3c75b",
   "metadata": {},
   "outputs": [
    {
     "data": {
      "text/plain": [
       "(1185498, 11)"
      ]
     },
     "execution_count": 55,
     "metadata": {},
     "output_type": "execute_result"
    }
   ],
   "source": [
    "Xsc.values.shape"
   ]
  },
  {
   "cell_type": "markdown",
   "id": "44db79a2",
   "metadata": {},
   "source": [
    "Testing data with filter and standardization"
   ]
  },
  {
   "cell_type": "code",
   "execution_count": 56,
   "id": "54843ac6",
   "metadata": {},
   "outputs": [],
   "source": [
    "x_test_sc=StandardScaler().fit_transform(x_test_df.values)\n",
    "x_test_sc=pd.DataFrame(x_test_sc)\n",
    "y_test=pd.DataFrame(y_ts_data)"
   ]
  },
  {
   "cell_type": "code",
   "execution_count": 57,
   "id": "8a601c1f",
   "metadata": {},
   "outputs": [
    {
     "data": {
      "text/plain": [
       "array([[-0.30725723, -0.61228674, -1.9309016 , ...,  0.77142367,\n",
       "         0.19211797, -0.68288217],\n",
       "       [-0.23340494, -0.64543689, -1.90234217, ...,  0.78691927,\n",
       "         0.27681223, -0.51723425],\n",
       "       [-0.1664908 , -0.68079798, -1.87658689, ...,  0.79873924,\n",
       "         0.35629617, -0.36787623],\n",
       "       ...,\n",
       "       [-0.16138185, -0.20147644, -0.10021382, ..., -0.88697048,\n",
       "         0.91875602,  0.64232089],\n",
       "       [-0.25191298, -0.31498115, -0.14059217, ..., -1.01718328,\n",
       "         0.85994878,  0.58579942],\n",
       "       [-0.35223236, -0.43375185, -0.18056757, ..., -1.15743328,\n",
       "         0.78873399,  0.52111424]])"
      ]
     },
     "execution_count": 57,
     "metadata": {},
     "output_type": "execute_result"
    }
   ],
   "source": [
    "x_test_sc.values"
   ]
  },
  {
   "cell_type": "code",
   "execution_count": 58,
   "id": "90416c12",
   "metadata": {},
   "outputs": [
    {
     "data": {
      "text/plain": [
       "(236894, 11)"
      ]
     },
     "execution_count": 58,
     "metadata": {},
     "output_type": "execute_result"
    }
   ],
   "source": [
    "x_test_sc.values.shape"
   ]
  },
  {
   "cell_type": "markdown",
   "id": "6addb00a",
   "metadata": {},
   "source": [
    "Filter [0 0 0 0 0 0] from the data"
   ]
  },
  {
   "cell_type": "code",
   "execution_count": 59,
   "id": "1b535ff8",
   "metadata": {},
   "outputs": [],
   "source": [
    "x_data_filter, y_data_filter = filter_dataset(Xsc.values, y_data)"
   ]
  },
  {
   "cell_type": "code",
   "execution_count": 60,
   "id": "e3e9c843",
   "metadata": {},
   "outputs": [
    {
     "data": {
      "text/plain": [
       "(132965, 20, 11)"
      ]
     },
     "execution_count": 60,
     "metadata": {},
     "output_type": "execute_result"
    }
   ],
   "source": [
    "x_data_filter.shape"
   ]
  },
  {
   "cell_type": "code",
   "execution_count": 61,
   "id": "b077681b",
   "metadata": {},
   "outputs": [
    {
     "data": {
      "text/plain": [
       "(132965, 6)"
      ]
     },
     "execution_count": 61,
     "metadata": {},
     "output_type": "execute_result"
    }
   ],
   "source": [
    "y_data_filter.shape"
   ]
  },
  {
   "cell_type": "code",
   "execution_count": 62,
   "id": "9fce5a95",
   "metadata": {},
   "outputs": [],
   "source": [
    "x_ts_data_filter, y_ts_data_filter = filter_dataset(x_test_sc.values, y_ts_data)"
   ]
  },
  {
   "cell_type": "code",
   "execution_count": 63,
   "id": "5d01c5a9",
   "metadata": {},
   "outputs": [
    {
     "data": {
      "text/plain": [
       "(45838, 20, 11)"
      ]
     },
     "execution_count": 63,
     "metadata": {},
     "output_type": "execute_result"
    }
   ],
   "source": [
    "x_ts_data_filter.shape"
   ]
  },
  {
   "cell_type": "code",
   "execution_count": 64,
   "id": "142fb41e",
   "metadata": {},
   "outputs": [
    {
     "data": {
      "text/plain": [
       "(45838, 6)"
      ]
     },
     "execution_count": 64,
     "metadata": {},
     "output_type": "execute_result"
    }
   ],
   "source": [
    "y_ts_data_filter.shape"
   ]
  },
  {
   "cell_type": "markdown",
   "id": "67dd2f26",
   "metadata": {},
   "source": [
    "Shuffle"
   ]
  },
  {
   "cell_type": "code",
   "execution_count": 65,
   "id": "9c202648",
   "metadata": {},
   "outputs": [],
   "source": [
    "x_data_filter, y_data_filter = utils.shuffle(x_data_filter, y_data_filter)"
   ]
  },
  {
   "cell_type": "code",
   "execution_count": 66,
   "id": "7396b1de",
   "metadata": {},
   "outputs": [
    {
     "data": {
      "text/plain": [
       "(132965, 20, 11)"
      ]
     },
     "execution_count": 66,
     "metadata": {},
     "output_type": "execute_result"
    }
   ],
   "source": [
    "x_data_filter.shape"
   ]
  },
  {
   "cell_type": "code",
   "execution_count": 67,
   "id": "33795ffe",
   "metadata": {},
   "outputs": [
    {
     "data": {
      "text/plain": [
       "(132965, 6)"
      ]
     },
     "execution_count": 67,
     "metadata": {},
     "output_type": "execute_result"
    }
   ],
   "source": [
    "y_data_filter.shape"
   ]
  },
  {
   "cell_type": "markdown",
   "id": "ac4edc94",
   "metadata": {},
   "source": [
    "Model"
   ]
  },
  {
   "cell_type": "code",
   "execution_count": 68,
   "id": "ea4fff6f",
   "metadata": {},
   "outputs": [
    {
     "name": "stderr",
     "output_type": "stream",
     "text": [
      "C:\\Users\\User\\anaconda3\\envs\\modelop_gpu\\lib\\site-packages\\tensorflow\\python\\keras\\optimizer_v2\\optimizer_v2.py:374: UserWarning: The `lr` argument is deprecated, use `learning_rate` instead.\n",
      "  warnings.warn(\n"
     ]
    },
    {
     "name": "stdout",
     "output_type": "stream",
     "text": [
      "Model: \"sequential_3\"\n",
      "_________________________________________________________________\n",
      "Layer (type)                 Output Shape              Param #   \n",
      "=================================================================\n",
      "lstm_12 (LSTM)               (None, 20, 128)           71680     \n",
      "_________________________________________________________________\n",
      "dropout_9 (Dropout)          (None, 20, 128)           0         \n",
      "_________________________________________________________________\n",
      "lstm_13 (LSTM)               (None, 20, 128)           131584    \n",
      "_________________________________________________________________\n",
      "dropout_10 (Dropout)         (None, 20, 128)           0         \n",
      "_________________________________________________________________\n",
      "lstm_14 (LSTM)               (None, 20, 128)           131584    \n",
      "_________________________________________________________________\n",
      "dropout_11 (Dropout)         (None, 20, 128)           0         \n",
      "_________________________________________________________________\n",
      "lstm_15 (LSTM)               (None, 128)               131584    \n",
      "_________________________________________________________________\n",
      "dense_6 (Dense)              (None, 32)                4128      \n",
      "_________________________________________________________________\n",
      "dense_7 (Dense)              (None, 6)                 198       \n",
      "=================================================================\n",
      "Total params: 470,758\n",
      "Trainable params: 470,758\n",
      "Non-trainable params: 0\n",
      "_________________________________________________________________\n",
      "Epoch 1/30\n",
      "1870/1870 [==============================] - 34s 16ms/step - loss: 0.2345 - accuracy: 0.6475 - val_loss: 0.1167 - val_accuracy: 0.8183\n",
      "Epoch 2/30\n",
      "1870/1870 [==============================] - 29s 15ms/step - loss: 0.0988 - accuracy: 0.8192 - val_loss: 0.0690 - val_accuracy: 0.8438\n",
      "Epoch 3/30\n",
      "1870/1870 [==============================] - 30s 16ms/step - loss: 0.0731 - accuracy: 0.8398 - val_loss: 0.0521 - val_accuracy: 0.8508\n",
      "Epoch 4/30\n",
      "1870/1870 [==============================] - 29s 16ms/step - loss: 0.0600 - accuracy: 0.8438 - val_loss: 0.0475 - val_accuracy: 0.8361\n",
      "Epoch 5/30\n",
      "1870/1870 [==============================] - 30s 16ms/step - loss: 0.0528 - accuracy: 0.8452 - val_loss: 0.0438 - val_accuracy: 0.8436\n",
      "Epoch 6/30\n",
      "1870/1870 [==============================] - 30s 16ms/step - loss: 0.0467 - accuracy: 0.8465 - val_loss: 0.0375 - val_accuracy: 0.8504\n",
      "Epoch 7/30\n",
      "1870/1870 [==============================] - 30s 16ms/step - loss: 0.0425 - accuracy: 0.8528 - val_loss: 0.0340 - val_accuracy: 0.8513\n",
      "Epoch 8/30\n",
      "1870/1870 [==============================] - 30s 16ms/step - loss: 0.0381 - accuracy: 0.8549 - val_loss: 0.0369 - val_accuracy: 0.8498\n",
      "Epoch 9/30\n",
      "1870/1870 [==============================] - 30s 16ms/step - loss: 0.0355 - accuracy: 0.8515 - val_loss: 0.0274 - val_accuracy: 0.8585\n",
      "Epoch 10/30\n",
      "1870/1870 [==============================] - 30s 16ms/step - loss: 0.0328 - accuracy: 0.8578 - val_loss: 0.0243 - val_accuracy: 0.8640\n",
      "Epoch 11/30\n",
      "1870/1870 [==============================] - 30s 16ms/step - loss: 0.0309 - accuracy: 0.8600 - val_loss: 0.0226 - val_accuracy: 0.8694\n",
      "Epoch 12/30\n",
      "1870/1870 [==============================] - 30s 16ms/step - loss: 0.0288 - accuracy: 0.8634 - val_loss: 0.0241 - val_accuracy: 0.8715\n",
      "Epoch 13/30\n",
      "1870/1870 [==============================] - 30s 16ms/step - loss: 0.0265 - accuracy: 0.8643 - val_loss: 0.0291 - val_accuracy: 0.8689\n",
      "Epoch 14/30\n",
      "1870/1870 [==============================] - 31s 16ms/step - loss: 0.0252 - accuracy: 0.8669 - val_loss: 0.0200 - val_accuracy: 0.8516\n",
      "Epoch 15/30\n",
      "1870/1870 [==============================] - 30s 16ms/step - loss: 0.0245 - accuracy: 0.8639 - val_loss: 0.0418 - val_accuracy: 0.8754\n",
      "Epoch 16/30\n",
      "1870/1870 [==============================] - 30s 16ms/step - loss: 0.0225 - accuracy: 0.8691 - val_loss: 0.0170 - val_accuracy: 0.8818\n",
      "Epoch 17/30\n",
      "1870/1870 [==============================] - 31s 16ms/step - loss: 0.0217 - accuracy: 0.8687 - val_loss: 0.0154 - val_accuracy: 0.8780\n",
      "Epoch 18/30\n",
      "1870/1870 [==============================] - 30s 16ms/step - loss: 0.0218 - accuracy: 0.8677 - val_loss: 0.0137 - val_accuracy: 0.8803\n",
      "Epoch 19/30\n",
      "1870/1870 [==============================] - 30s 16ms/step - loss: 0.0197 - accuracy: 0.8691 - val_loss: 0.0150 - val_accuracy: 0.8661\n",
      "Epoch 20/30\n",
      "1870/1870 [==============================] - 29s 16ms/step - loss: 0.0195 - accuracy: 0.8650 - val_loss: 0.0147 - val_accuracy: 0.8791\n",
      "Epoch 21/30\n",
      "1870/1870 [==============================] - 30s 16ms/step - loss: 0.0180 - accuracy: 0.8670 - val_loss: 0.0171 - val_accuracy: 0.8709\n",
      "Epoch 22/30\n",
      "1870/1870 [==============================] - 29s 16ms/step - loss: 0.0182 - accuracy: 0.8684 - val_loss: 0.0139 - val_accuracy: 0.8558\n",
      "Epoch 23/30\n",
      "1870/1870 [==============================] - 30s 16ms/step - loss: 0.0179 - accuracy: 0.8719 - val_loss: 0.0155 - val_accuracy: 0.8809\n",
      "Epoch 24/30\n",
      "1870/1870 [==============================] - 30s 16ms/step - loss: 0.0171 - accuracy: 0.8729 - val_loss: 0.0149 - val_accuracy: 0.8639\n",
      "Epoch 25/30\n",
      "1870/1870 [==============================] - 30s 16ms/step - loss: 0.0165 - accuracy: 0.8741 - val_loss: 0.0121 - val_accuracy: 0.8846\n",
      "Epoch 26/30\n",
      "1870/1870 [==============================] - 29s 16ms/step - loss: 0.0158 - accuracy: 0.8738 - val_loss: 0.0113 - val_accuracy: 0.8756\n",
      "Epoch 27/30\n",
      "1870/1870 [==============================] - 30s 16ms/step - loss: 0.0162 - accuracy: 0.8703 - val_loss: 0.0181 - val_accuracy: 0.8895\n",
      "Epoch 28/30\n",
      "1870/1870 [==============================] - 31s 16ms/step - loss: 0.0156 - accuracy: 0.8741 - val_loss: 0.0113 - val_accuracy: 0.8759\n",
      "Epoch 29/30\n",
      "1870/1870 [==============================] - 30s 16ms/step - loss: 0.0162 - accuracy: 0.8657 - val_loss: 0.0116 - val_accuracy: 0.8770\n",
      "Epoch 30/30\n",
      "1870/1870 [==============================] - 31s 16ms/step - loss: 0.0147 - accuracy: 0.8639 - val_loss: 0.0161 - val_accuracy: 0.8725\n"
     ]
    },
    {
     "data": {
      "text/plain": [
       "<tensorflow.python.keras.callbacks.History at 0x2a081c38250>"
      ]
     },
     "execution_count": 68,
     "metadata": {},
     "output_type": "execute_result"
    }
   ],
   "source": [
    "model_with_filter_standard = LSTM_model(11)\n",
    "model_with_filter_standard.fit(x_data_filter, y_data_filter, epochs=30, batch_size=64, validation_split=0.1)"
   ]
  },
  {
   "cell_type": "code",
   "execution_count": 69,
   "id": "e4759d5d",
   "metadata": {},
   "outputs": [],
   "source": [
    "model_with_filter_standard.save(\"modelop/LSTM/LSTM_with_filter_standard.h5\")"
   ]
  },
  {
   "cell_type": "markdown",
   "id": "33d6a211",
   "metadata": {},
   "source": [
    "Evaluate"
   ]
  },
  {
   "cell_type": "code",
   "execution_count": 70,
   "id": "927f675d",
   "metadata": {},
   "outputs": [
    {
     "name": "stdout",
     "output_type": "stream",
     "text": [
      "Model: \"sequential_3\"\n",
      "_________________________________________________________________\n",
      "Layer (type)                 Output Shape              Param #   \n",
      "=================================================================\n",
      "lstm_12 (LSTM)               (None, 20, 128)           71680     \n",
      "_________________________________________________________________\n",
      "dropout_9 (Dropout)          (None, 20, 128)           0         \n",
      "_________________________________________________________________\n",
      "lstm_13 (LSTM)               (None, 20, 128)           131584    \n",
      "_________________________________________________________________\n",
      "dropout_10 (Dropout)         (None, 20, 128)           0         \n",
      "_________________________________________________________________\n",
      "lstm_14 (LSTM)               (None, 20, 128)           131584    \n",
      "_________________________________________________________________\n",
      "dropout_11 (Dropout)         (None, 20, 128)           0         \n",
      "_________________________________________________________________\n",
      "lstm_15 (LSTM)               (None, 128)               131584    \n",
      "_________________________________________________________________\n",
      "dense_6 (Dense)              (None, 32)                4128      \n",
      "_________________________________________________________________\n",
      "dense_7 (Dense)              (None, 6)                 198       \n",
      "=================================================================\n",
      "Total params: 470,758\n",
      "Trainable params: 470,758\n",
      "Non-trainable params: 0\n",
      "_________________________________________________________________\n"
     ]
    }
   ],
   "source": [
    "model = load_model(\"modelop/LSTM/LSTM_with_filter_standard.h5\")\n",
    "model.summary()"
   ]
  },
  {
   "cell_type": "code",
   "execution_count": 71,
   "id": "9288d3ac",
   "metadata": {},
   "outputs": [
    {
     "name": "stdout",
     "output_type": "stream",
     "text": [
      "1433/1433 [==============================] - 13s 9ms/step - loss: 1.6988 - accuracy: 0.4310\n"
     ]
    },
    {
     "data": {
      "text/plain": [
       "[1.6987732648849487, 0.4310397505760193]"
      ]
     },
     "execution_count": 71,
     "metadata": {},
     "output_type": "execute_result"
    }
   ],
   "source": [
    "model.evaluate(x_ts_data_filter, y_ts_data_filter)"
   ]
  },
  {
   "cell_type": "markdown",
   "id": "922af633",
   "metadata": {},
   "source": [
    "# With lowpass filter 、linear regression and standardization (segment length = 50)"
   ]
  },
  {
   "cell_type": "markdown",
   "id": "bd90176e",
   "metadata": {},
   "source": [
    "Training data with filter, Linear regression and standardization"
   ]
  },
  {
   "cell_type": "code",
   "execution_count": 27,
   "id": "89b43f8d",
   "metadata": {},
   "outputs": [],
   "source": [
    "def linearregression_seg(signal):\n",
    "    model = LinearRegression(fit_intercept=True)\n",
    "    time = np.arange(0, len(signal), 1)\n",
    "    model.fit(time[:, np.newaxis], signal)\n",
    "    xfit = np.linspace(time[0], time[len(time)-1], len(signal))\n",
    "    yfit = model.predict(xfit[:, np.newaxis])\n",
    "    \n",
    "    return yfit\n",
    "\n",
    "def linearregression_allsignal(signal, seg_length):\n",
    "    new_signal = []\n",
    "    for i in range((len(signal)//seg_length)+1):\n",
    "        if (i+1)*seg_length<len(signal):\n",
    "            new_signal += linearregression_seg(signal[i*seg_length:(i+1)*seg_length]).tolist()\n",
    "        else:\n",
    "            new_signal += linearregression_seg(signal[i*seg_length:len(signal)]).tolist()\n",
    "    \n",
    "    return np.asarray(new_signal)"
   ]
  },
  {
   "cell_type": "code",
   "execution_count": 73,
   "id": "09e2cb23",
   "metadata": {},
   "outputs": [],
   "source": [
    "x_train_filter_LR = linearregression_allsignal(x_data_df.values, 50)"
   ]
  },
  {
   "cell_type": "code",
   "execution_count": 74,
   "id": "dbb2a1d6",
   "metadata": {},
   "outputs": [
    {
     "data": {
      "text/plain": [
       "array([[-174.26169504,  215.27043477,  208.61237137, ...,  437.85560613,\n",
       "         249.5223138 ,  279.04812703],\n",
       "       [-174.38144154,  215.04221594,  207.25176311, ...,  436.96043371,\n",
       "         249.02018265,  277.75359057],\n",
       "       [-174.50118804,  214.81399712,  205.89115485, ...,  436.06526129,\n",
       "         248.51805149,  276.45905411],\n",
       "       ...,\n",
       "       [-315.63144689,  234.17528534, -247.14962021, ...,  -74.5968628 ,\n",
       "        -149.64146428, -144.19563708],\n",
       "       [-319.65550708,  234.3081823 , -249.03301887, ...,  -75.17422211,\n",
       "        -151.55910395, -146.94694633],\n",
       "       [-323.67956727,  234.44107926, -250.91641752, ...,  -75.75158142,\n",
       "        -153.47674362, -149.69825559]])"
      ]
     },
     "execution_count": 74,
     "metadata": {},
     "output_type": "execute_result"
    }
   ],
   "source": [
    "x_train_filter_LR"
   ]
  },
  {
   "cell_type": "code",
   "execution_count": 75,
   "id": "330cc303",
   "metadata": {},
   "outputs": [
    {
     "data": {
      "text/plain": [
       "(1185498, 11)"
      ]
     },
     "execution_count": 75,
     "metadata": {},
     "output_type": "execute_result"
    }
   ],
   "source": [
    "x_train_filter_LR.shape"
   ]
  },
  {
   "cell_type": "code",
   "execution_count": 76,
   "id": "3b2bf251",
   "metadata": {},
   "outputs": [],
   "source": [
    "x_train_filter_LR_st = StandardScaler().fit_transform(x_train_filter_LR)\n",
    "x_train_filter_LR_st = pd.DataFrame(x_train_filter_LR_st)\n",
    "y=pd.DataFrame(y_data)"
   ]
  },
  {
   "cell_type": "code",
   "execution_count": 77,
   "id": "0e0adfde",
   "metadata": {},
   "outputs": [
    {
     "data": {
      "text/plain": [
       "array([[-0.96133839, -0.53839238,  2.51757981, ...,  2.105295  ,\n",
       "         1.29395529,  0.25646106],\n",
       "       [-0.96176593, -0.5403769 ,  2.50359582, ...,  2.09934544,\n",
       "         1.29093169,  0.25238604],\n",
       "       [-0.96219348, -0.54236141,  2.48961184, ...,  2.09339587,\n",
       "         1.2879081 ,  0.24831103],\n",
       "       ...,\n",
       "       [-1.46608841, -0.37400206, -2.16662572, ..., -1.3006071 ,\n",
       "        -1.10961611, -1.0758486 ],\n",
       "       [-1.48045602, -0.37284643, -2.18598281, ..., -1.30444439,\n",
       "        -1.12116321, -1.08450932],\n",
       "       [-1.49482362, -0.3716908 , -2.2053399 , ..., -1.30828168,\n",
       "        -1.13271031, -1.09317004]])"
      ]
     },
     "execution_count": 77,
     "metadata": {},
     "output_type": "execute_result"
    }
   ],
   "source": [
    "x_train_filter_LR_st.values"
   ]
  },
  {
   "cell_type": "code",
   "execution_count": 78,
   "id": "c3374910",
   "metadata": {},
   "outputs": [
    {
     "data": {
      "text/plain": [
       "(1185498, 11)"
      ]
     },
     "execution_count": 78,
     "metadata": {},
     "output_type": "execute_result"
    }
   ],
   "source": [
    "x_train_filter_LR_st.shape"
   ]
  },
  {
   "cell_type": "markdown",
   "id": "27df3f79",
   "metadata": {},
   "source": [
    "Testing data with filter, Linear regression and standardization"
   ]
  },
  {
   "cell_type": "code",
   "execution_count": 79,
   "id": "f59ce09b",
   "metadata": {},
   "outputs": [],
   "source": [
    "x_test_filter_LR = linearregression_allsignal(x_test_df.values, 50)"
   ]
  },
  {
   "cell_type": "code",
   "execution_count": 80,
   "id": "688ca38b",
   "metadata": {},
   "outputs": [
    {
     "data": {
      "text/plain": [
       "array([[  55.79972655,  234.50475845, -219.80506913, ...,   98.4959142 ,\n",
       "          25.02874466,   44.13973947],\n",
       "       [  56.75109696,  234.63054497, -219.85635771, ...,  100.2700706 ,\n",
       "          28.14686971,   47.11614045],\n",
       "       [  57.70246737,  234.75633149, -219.90764629, ...,  102.04422701,\n",
       "          31.26499476,   50.09254144],\n",
       "       ...,\n",
       "       [ 101.99392811,  345.02764695,  -27.01159925, ...,  -25.92839233,\n",
       "          89.30772653,  263.88332668],\n",
       "       [ 103.79377216,  345.22757456,  -28.01039187, ...,  -26.50458388,\n",
       "          90.64330536,  266.2304748 ],\n",
       "       [ 105.59361621,  345.42750216,  -29.0091845 , ...,  -27.08077543,\n",
       "          91.97888419,  268.57762292]])"
      ]
     },
     "execution_count": 80,
     "metadata": {},
     "output_type": "execute_result"
    }
   ],
   "source": [
    "x_test_filter_LR"
   ]
  },
  {
   "cell_type": "code",
   "execution_count": 81,
   "id": "75a2068e",
   "metadata": {},
   "outputs": [
    {
     "data": {
      "text/plain": [
       "(236894, 11)"
      ]
     },
     "execution_count": 81,
     "metadata": {},
     "output_type": "execute_result"
    }
   ],
   "source": [
    "x_test_filter_LR.shape"
   ]
  },
  {
   "cell_type": "code",
   "execution_count": 82,
   "id": "5734d074",
   "metadata": {},
   "outputs": [],
   "source": [
    "x_test_filter_LR_st = StandardScaler().fit_transform(x_test_filter_LR)\n",
    "x_test_filter_LR_st = pd.DataFrame(x_test_filter_LR_st)\n",
    "y_test=pd.DataFrame(y_ts_data)"
   ]
  },
  {
   "cell_type": "code",
   "execution_count": 83,
   "id": "fb7b1a3a",
   "metadata": {},
   "outputs": [
    {
     "data": {
      "text/plain": [
       "array([[-0.40073606, -0.99420311, -2.00016447, ...,  0.62259952,\n",
       "         0.28859987, -0.39251709],\n",
       "       [-0.39420147, -0.99289617, -2.00071987, ...,  0.64276812,\n",
       "         0.31445558, -0.37951201],\n",
       "       [-0.38766687, -0.99158922, -2.00127527, ...,  0.66293671,\n",
       "         0.34031129, -0.36650693],\n",
       "       ...,\n",
       "       [-0.08344591,  0.15415037,  0.08758517, ..., -0.79185481,\n",
       "         0.82160574,  0.56763021],\n",
       "       [-0.07108348,  0.15622765,  0.0767693 , ..., -0.79840495,\n",
       "         0.83268045,  0.57788584],\n",
       "       [-0.05872105,  0.15830494,  0.06595343, ..., -0.80495509,\n",
       "         0.84375516,  0.58814146]])"
      ]
     },
     "execution_count": 83,
     "metadata": {},
     "output_type": "execute_result"
    }
   ],
   "source": [
    "x_test_filter_LR_st.values"
   ]
  },
  {
   "cell_type": "code",
   "execution_count": 84,
   "id": "ee20eb69",
   "metadata": {},
   "outputs": [
    {
     "data": {
      "text/plain": [
       "(236894, 11)"
      ]
     },
     "execution_count": 84,
     "metadata": {},
     "output_type": "execute_result"
    }
   ],
   "source": [
    "x_test_filter_LR_st.shape"
   ]
  },
  {
   "cell_type": "markdown",
   "id": "d5950022",
   "metadata": {},
   "source": [
    "Filter [0 0 0 0 0 0] from the data"
   ]
  },
  {
   "cell_type": "code",
   "execution_count": 85,
   "id": "327539e2",
   "metadata": {},
   "outputs": [],
   "source": [
    "x_data_filter, y_data_filter = filter_dataset(x_train_filter_LR_st.values, y_data)"
   ]
  },
  {
   "cell_type": "code",
   "execution_count": 86,
   "id": "fe5042c2",
   "metadata": {},
   "outputs": [
    {
     "data": {
      "text/plain": [
       "(132965, 20, 11)"
      ]
     },
     "execution_count": 86,
     "metadata": {},
     "output_type": "execute_result"
    }
   ],
   "source": [
    "x_data_filter.shape"
   ]
  },
  {
   "cell_type": "code",
   "execution_count": 87,
   "id": "7af411ea",
   "metadata": {},
   "outputs": [
    {
     "data": {
      "text/plain": [
       "(132965, 6)"
      ]
     },
     "execution_count": 87,
     "metadata": {},
     "output_type": "execute_result"
    }
   ],
   "source": [
    "y_data_filter.shape"
   ]
  },
  {
   "cell_type": "code",
   "execution_count": 88,
   "id": "a24739a5",
   "metadata": {},
   "outputs": [],
   "source": [
    "x_ts_data_filter, y_ts_data_filter = filter_dataset(x_test_filter_LR_st.values, y_ts_data)"
   ]
  },
  {
   "cell_type": "code",
   "execution_count": 89,
   "id": "4ed2dbb2",
   "metadata": {},
   "outputs": [
    {
     "data": {
      "text/plain": [
       "(45838, 20, 11)"
      ]
     },
     "execution_count": 89,
     "metadata": {},
     "output_type": "execute_result"
    }
   ],
   "source": [
    "x_ts_data_filter.shape"
   ]
  },
  {
   "cell_type": "code",
   "execution_count": 90,
   "id": "c9c1cd04",
   "metadata": {},
   "outputs": [
    {
     "data": {
      "text/plain": [
       "(45838, 6)"
      ]
     },
     "execution_count": 90,
     "metadata": {},
     "output_type": "execute_result"
    }
   ],
   "source": [
    "y_ts_data_filter.shape"
   ]
  },
  {
   "cell_type": "markdown",
   "id": "846a7e59",
   "metadata": {},
   "source": [
    "Shuffle"
   ]
  },
  {
   "cell_type": "code",
   "execution_count": 91,
   "id": "6a64cbd9",
   "metadata": {},
   "outputs": [],
   "source": [
    "x_data_filter, y_data_filter = utils.shuffle(x_data_filter, y_data_filter)"
   ]
  },
  {
   "cell_type": "code",
   "execution_count": 92,
   "id": "61ac2877",
   "metadata": {},
   "outputs": [
    {
     "data": {
      "text/plain": [
       "(132965, 20, 11)"
      ]
     },
     "execution_count": 92,
     "metadata": {},
     "output_type": "execute_result"
    }
   ],
   "source": [
    "x_data_filter.shape"
   ]
  },
  {
   "cell_type": "code",
   "execution_count": 93,
   "id": "156bdb02",
   "metadata": {},
   "outputs": [
    {
     "data": {
      "text/plain": [
       "(132965, 6)"
      ]
     },
     "execution_count": 93,
     "metadata": {},
     "output_type": "execute_result"
    }
   ],
   "source": [
    "y_data_filter.shape"
   ]
  },
  {
   "cell_type": "markdown",
   "id": "61b1c68d",
   "metadata": {},
   "source": [
    "Model"
   ]
  },
  {
   "cell_type": "code",
   "execution_count": 94,
   "id": "955eb49a",
   "metadata": {},
   "outputs": [
    {
     "name": "stderr",
     "output_type": "stream",
     "text": [
      "C:\\Users\\User\\anaconda3\\envs\\modelop_gpu\\lib\\site-packages\\tensorflow\\python\\keras\\optimizer_v2\\optimizer_v2.py:374: UserWarning: The `lr` argument is deprecated, use `learning_rate` instead.\n",
      "  warnings.warn(\n"
     ]
    },
    {
     "name": "stdout",
     "output_type": "stream",
     "text": [
      "Model: \"sequential_4\"\n",
      "_________________________________________________________________\n",
      "Layer (type)                 Output Shape              Param #   \n",
      "=================================================================\n",
      "lstm_16 (LSTM)               (None, 20, 128)           71680     \n",
      "_________________________________________________________________\n",
      "dropout_12 (Dropout)         (None, 20, 128)           0         \n",
      "_________________________________________________________________\n",
      "lstm_17 (LSTM)               (None, 20, 128)           131584    \n",
      "_________________________________________________________________\n",
      "dropout_13 (Dropout)         (None, 20, 128)           0         \n",
      "_________________________________________________________________\n",
      "lstm_18 (LSTM)               (None, 20, 128)           131584    \n",
      "_________________________________________________________________\n",
      "dropout_14 (Dropout)         (None, 20, 128)           0         \n",
      "_________________________________________________________________\n",
      "lstm_19 (LSTM)               (None, 128)               131584    \n",
      "_________________________________________________________________\n",
      "dense_8 (Dense)              (None, 32)                4128      \n",
      "_________________________________________________________________\n",
      "dense_9 (Dense)              (None, 6)                 198       \n",
      "=================================================================\n",
      "Total params: 470,758\n",
      "Trainable params: 470,758\n",
      "Non-trainable params: 0\n",
      "_________________________________________________________________\n",
      "Epoch 1/30\n",
      "1870/1870 [==============================] - 34s 16ms/step - loss: 0.2083 - accuracy: 0.6804 - val_loss: 0.0878 - val_accuracy: 0.8191\n",
      "Epoch 2/30\n",
      "1870/1870 [==============================] - 29s 16ms/step - loss: 0.0765 - accuracy: 0.8364 - val_loss: 0.0546 - val_accuracy: 0.8480\n",
      "Epoch 3/30\n",
      "1870/1870 [==============================] - 30s 16ms/step - loss: 0.0573 - accuracy: 0.8455 - val_loss: 0.0496 - val_accuracy: 0.8384\n",
      "Epoch 4/30\n",
      "1870/1870 [==============================] - 30s 16ms/step - loss: 0.0473 - accuracy: 0.8471 - val_loss: 0.0347 - val_accuracy: 0.8312\n",
      "Epoch 5/30\n",
      "1870/1870 [==============================] - 30s 16ms/step - loss: 0.0426 - accuracy: 0.8461 - val_loss: 0.0341 - val_accuracy: 0.8506\n",
      "Epoch 6/30\n",
      "1870/1870 [==============================] - 30s 16ms/step - loss: 0.0395 - accuracy: 0.8473 - val_loss: 0.0254 - val_accuracy: 0.8468\n",
      "Epoch 7/30\n",
      "1870/1870 [==============================] - 30s 16ms/step - loss: 0.0352 - accuracy: 0.8476 - val_loss: 0.0234 - val_accuracy: 0.8642\n",
      "Epoch 8/30\n",
      "1870/1870 [==============================] - 30s 16ms/step - loss: 0.0319 - accuracy: 0.8490 - val_loss: 0.0255 - val_accuracy: 0.8606\n",
      "Epoch 9/30\n",
      "1870/1870 [==============================] - 30s 16ms/step - loss: 0.0305 - accuracy: 0.8503 - val_loss: 0.0213 - val_accuracy: 0.8548\n",
      "Epoch 10/30\n",
      "1870/1870 [==============================] - 30s 16ms/step - loss: 0.0296 - accuracy: 0.8510 - val_loss: 0.0252 - val_accuracy: 0.8555\n",
      "Epoch 11/30\n",
      "1870/1870 [==============================] - 30s 16ms/step - loss: 0.0276 - accuracy: 0.8547 - val_loss: 0.0234 - val_accuracy: 0.8588\n",
      "Epoch 12/30\n",
      "1870/1870 [==============================] - 31s 16ms/step - loss: 0.0265 - accuracy: 0.8508 - val_loss: 0.0208 - val_accuracy: 0.8497\n",
      "Epoch 13/30\n",
      "1870/1870 [==============================] - 30s 16ms/step - loss: 0.0253 - accuracy: 0.8501 - val_loss: 0.0265 - val_accuracy: 0.8376\n",
      "Epoch 14/30\n",
      "1870/1870 [==============================] - 31s 17ms/step - loss: 0.0252 - accuracy: 0.8530 - val_loss: 0.0212 - val_accuracy: 0.8491\n",
      "Epoch 15/30\n",
      "1870/1870 [==============================] - 30s 16ms/step - loss: 0.0246 - accuracy: 0.8517 - val_loss: 0.0218 - val_accuracy: 0.8483\n",
      "Epoch 16/30\n",
      "1870/1870 [==============================] - 31s 16ms/step - loss: 0.0222 - accuracy: 0.8470 - val_loss: 0.0174 - val_accuracy: 0.8516\n",
      "Epoch 17/30\n",
      "1870/1870 [==============================] - 31s 16ms/step - loss: 0.0221 - accuracy: 0.8505 - val_loss: 0.0191 - val_accuracy: 0.8473\n",
      "Epoch 18/30\n",
      "1870/1870 [==============================] - 30s 16ms/step - loss: 0.0215 - accuracy: 0.8482 - val_loss: 0.0145 - val_accuracy: 0.8540\n",
      "Epoch 19/30\n",
      "1870/1870 [==============================] - 31s 16ms/step - loss: 0.0210 - accuracy: 0.8562 - val_loss: 0.0181 - val_accuracy: 0.8671\n",
      "Epoch 20/30\n",
      "1870/1870 [==============================] - 30s 16ms/step - loss: 0.0203 - accuracy: 0.8556 - val_loss: 0.0142 - val_accuracy: 0.8520\n",
      "Epoch 21/30\n",
      "1870/1870 [==============================] - 31s 16ms/step - loss: 0.0190 - accuracy: 0.8565 - val_loss: 0.0145 - val_accuracy: 0.8540\n",
      "Epoch 22/30\n",
      "1870/1870 [==============================] - 31s 16ms/step - loss: 0.0190 - accuracy: 0.8511 - val_loss: 0.0175 - val_accuracy: 0.8527\n",
      "Epoch 23/30\n",
      "1870/1870 [==============================] - 31s 16ms/step - loss: 0.0190 - accuracy: 0.8555 - val_loss: 0.0176 - val_accuracy: 0.8544\n",
      "Epoch 24/30\n",
      "1870/1870 [==============================] - 30s 16ms/step - loss: 0.0185 - accuracy: 0.8574 - val_loss: 0.0138 - val_accuracy: 0.8634\n",
      "Epoch 25/30\n",
      "1870/1870 [==============================] - 31s 16ms/step - loss: 0.0182 - accuracy: 0.8617 - val_loss: 0.0129 - val_accuracy: 0.8543\n",
      "Epoch 26/30\n",
      "1870/1870 [==============================] - 30s 16ms/step - loss: 0.0169 - accuracy: 0.8600 - val_loss: 0.0137 - val_accuracy: 0.8540\n",
      "Epoch 27/30\n",
      "1870/1870 [==============================] - 30s 16ms/step - loss: 0.0180 - accuracy: 0.8552 - val_loss: 0.0137 - val_accuracy: 0.8566\n",
      "Epoch 28/30\n",
      "1870/1870 [==============================] - 31s 16ms/step - loss: 0.0185 - accuracy: 0.8572 - val_loss: 0.0112 - val_accuracy: 0.8609\n",
      "Epoch 29/30\n",
      "1870/1870 [==============================] - 31s 17ms/step - loss: 0.0171 - accuracy: 0.8606 - val_loss: 0.0145 - val_accuracy: 0.8593\n",
      "Epoch 30/30\n",
      "1870/1870 [==============================] - 31s 16ms/step - loss: 0.0162 - accuracy: 0.8608 - val_loss: 0.0125 - val_accuracy: 0.8576\n"
     ]
    },
    {
     "data": {
      "text/plain": [
       "<tensorflow.python.keras.callbacks.History at 0x2a076063790>"
      ]
     },
     "execution_count": 94,
     "metadata": {},
     "output_type": "execute_result"
    }
   ],
   "source": [
    "model_with_filter_LG_standard = LSTM_model(11)\n",
    "model_with_filter_LG_standard.fit(x_data_filter, y_data_filter, epochs=30, batch_size=64, validation_split=0.1)"
   ]
  },
  {
   "cell_type": "code",
   "execution_count": 95,
   "id": "78c5d943",
   "metadata": {},
   "outputs": [],
   "source": [
    "model_with_filter_LG_standard.save(\"modelop/LSTM/LSTM_with_filter_LR50_standard.h5\")"
   ]
  },
  {
   "cell_type": "markdown",
   "id": "d1c44128",
   "metadata": {},
   "source": [
    "Evaluate"
   ]
  },
  {
   "cell_type": "code",
   "execution_count": 96,
   "id": "eea67dfc",
   "metadata": {},
   "outputs": [
    {
     "name": "stdout",
     "output_type": "stream",
     "text": [
      "Model: \"sequential_4\"\n",
      "_________________________________________________________________\n",
      "Layer (type)                 Output Shape              Param #   \n",
      "=================================================================\n",
      "lstm_16 (LSTM)               (None, 20, 128)           71680     \n",
      "_________________________________________________________________\n",
      "dropout_12 (Dropout)         (None, 20, 128)           0         \n",
      "_________________________________________________________________\n",
      "lstm_17 (LSTM)               (None, 20, 128)           131584    \n",
      "_________________________________________________________________\n",
      "dropout_13 (Dropout)         (None, 20, 128)           0         \n",
      "_________________________________________________________________\n",
      "lstm_18 (LSTM)               (None, 20, 128)           131584    \n",
      "_________________________________________________________________\n",
      "dropout_14 (Dropout)         (None, 20, 128)           0         \n",
      "_________________________________________________________________\n",
      "lstm_19 (LSTM)               (None, 128)               131584    \n",
      "_________________________________________________________________\n",
      "dense_8 (Dense)              (None, 32)                4128      \n",
      "_________________________________________________________________\n",
      "dense_9 (Dense)              (None, 6)                 198       \n",
      "=================================================================\n",
      "Total params: 470,758\n",
      "Trainable params: 470,758\n",
      "Non-trainable params: 0\n",
      "_________________________________________________________________\n"
     ]
    }
   ],
   "source": [
    "model = load_model(\"modelop/LSTM/LSTM_with_filter_LR50_standard.h5\")\n",
    "model.summary()"
   ]
  },
  {
   "cell_type": "code",
   "execution_count": 97,
   "id": "ed68a501",
   "metadata": {},
   "outputs": [
    {
     "name": "stdout",
     "output_type": "stream",
     "text": [
      "1433/1433 [==============================] - 12s 8ms/step - loss: 1.7347 - accuracy: 0.4690\n"
     ]
    },
    {
     "data": {
      "text/plain": [
       "[1.7346899509429932, 0.4689558744430542]"
      ]
     },
     "execution_count": 97,
     "metadata": {},
     "output_type": "execute_result"
    }
   ],
   "source": [
    "model.evaluate(x_ts_data_filter, y_ts_data_filter)"
   ]
  },
  {
   "cell_type": "markdown",
   "id": "c6c9f3ac",
   "metadata": {},
   "source": [
    "# With lowpass filter 、linear regression and standardization (segment length = 100)"
   ]
  },
  {
   "cell_type": "markdown",
   "id": "75803693",
   "metadata": {},
   "source": [
    "Training data with filter, Linear regression and standardization"
   ]
  },
  {
   "cell_type": "code",
   "execution_count": 98,
   "id": "1371f26a",
   "metadata": {},
   "outputs": [],
   "source": [
    "x_train_filter_LR = linearregression_allsignal(x_data_df.values, 100)"
   ]
  },
  {
   "cell_type": "code",
   "execution_count": 99,
   "id": "bcd5c371",
   "metadata": {},
   "outputs": [
    {
     "data": {
      "text/plain": [
       "array([[-188.31563189,  198.52856702,  186.7549258 , ...,  429.22093657,\n",
       "         241.51255544,  263.67050519],\n",
       "       [-188.05050895,  198.7971032 ,  186.42028041, ...,  428.75346893,\n",
       "         241.19964664,  263.00912785],\n",
       "       [-187.78538602,  199.06563938,  186.08563503, ...,  428.2860013 ,\n",
       "         240.88673785,  262.34775051],\n",
       "       ...,\n",
       "       [-274.45948826,  209.56165424, -243.37021402, ...,  -72.71941712,\n",
       "        -126.56051834, -111.85208223],\n",
       "       [-276.19298292,  208.66612723, -245.54662226, ...,  -73.13039832,\n",
       "        -127.12166467, -112.50007615],\n",
       "       [-277.92647758,  207.77060021, -247.72303049, ...,  -73.54137951,\n",
       "        -127.682811  , -113.14807007]])"
      ]
     },
     "execution_count": 99,
     "metadata": {},
     "output_type": "execute_result"
    }
   ],
   "source": [
    "x_train_filter_LR"
   ]
  },
  {
   "cell_type": "code",
   "execution_count": 100,
   "id": "b32bddeb",
   "metadata": {},
   "outputs": [
    {
     "data": {
      "text/plain": [
       "(1185498, 11)"
      ]
     },
     "execution_count": 100,
     "metadata": {},
     "output_type": "execute_result"
    }
   ],
   "source": [
    "x_train_filter_LR.shape"
   ]
  },
  {
   "cell_type": "code",
   "execution_count": 101,
   "id": "0d32f547",
   "metadata": {},
   "outputs": [],
   "source": [
    "x_train_filter_LR_st = StandardScaler().fit_transform(x_train_filter_LR)\n",
    "x_train_filter_LR_st = pd.DataFrame(x_train_filter_LR_st)\n",
    "y=pd.DataFrame(y_data)"
   ]
  },
  {
   "cell_type": "code",
   "execution_count": 102,
   "id": "bcd90512",
   "metadata": {},
   "outputs": [
    {
     "data": {
      "text/plain": [
       "array([[-1.01824116, -0.69136649,  2.31261873, ...,  2.06875722,\n",
       "         1.26444687,  0.20967836],\n",
       "       [-1.01728827, -0.68900615,  2.30914981, ...,  2.06561867,\n",
       "         1.26253437,  0.20758019],\n",
       "       [-1.01633537, -0.68664581,  2.30568088, ...,  2.06248011,\n",
       "         1.26062187,  0.20548202],\n",
       "       ...,\n",
       "       [-1.32785593, -0.5943895 , -2.14604833, ..., -1.30124408,\n",
       "        -0.98522185, -0.98163791],\n",
       "       [-1.33408639, -0.60226087, -2.16860893, ..., -1.30400339,\n",
       "        -0.98865158, -0.98369362],\n",
       "       [-1.34031685, -0.61013224, -2.19116953, ..., -1.30676269,\n",
       "        -0.99208132, -0.98574934]])"
      ]
     },
     "execution_count": 102,
     "metadata": {},
     "output_type": "execute_result"
    }
   ],
   "source": [
    "x_train_filter_LR_st.values"
   ]
  },
  {
   "cell_type": "code",
   "execution_count": 103,
   "id": "50fa950e",
   "metadata": {},
   "outputs": [
    {
     "data": {
      "text/plain": [
       "(1185498, 11)"
      ]
     },
     "execution_count": 103,
     "metadata": {},
     "output_type": "execute_result"
    }
   ],
   "source": [
    "x_train_filter_LR_st.shape"
   ]
  },
  {
   "cell_type": "markdown",
   "id": "8752730c",
   "metadata": {},
   "source": [
    "Testing data with filter, Linear regression and standardization"
   ]
  },
  {
   "cell_type": "code",
   "execution_count": 104,
   "id": "eb4a6f58",
   "metadata": {},
   "outputs": [],
   "source": [
    "x_test_filter_LR = linearregression_allsignal(x_test_df.values, 100)"
   ]
  },
  {
   "cell_type": "code",
   "execution_count": 105,
   "id": "9b980ad8",
   "metadata": {},
   "outputs": [
    {
     "data": {
      "text/plain": [
       "array([[  91.25055841,  242.63802923, -225.82540226, ...,  134.69518214,\n",
       "          95.53546924,  116.63384089],\n",
       "       [  90.59443823,  242.53798665, -225.68413539, ...,  134.68162001,\n",
       "          95.26789232,  116.17283597],\n",
       "       [  89.93831805,  242.43794408, -225.54286851, ...,  134.66805789,\n",
       "          95.00031541,  115.71183105],\n",
       "       ...,\n",
       "       [  74.36783913,  341.92477945,  -13.73262517, ...,  -12.89820709,\n",
       "          71.43136741,  219.77734593],\n",
       "       [  74.88840944,  342.10043768,  -13.90136348, ...,  -12.83657942,\n",
       "          71.71127048,  219.72800511],\n",
       "       [  75.40897975,  342.2760959 ,  -14.07010178, ...,  -12.77495175,\n",
       "          71.99117355,  219.67866429]])"
      ]
     },
     "execution_count": 105,
     "metadata": {},
     "output_type": "execute_result"
    }
   ],
   "source": [
    "x_test_filter_LR"
   ]
  },
  {
   "cell_type": "code",
   "execution_count": 106,
   "id": "3b3b3aac",
   "metadata": {},
   "outputs": [
    {
     "data": {
      "text/plain": [
       "(236894, 11)"
      ]
     },
     "execution_count": 106,
     "metadata": {},
     "output_type": "execute_result"
    }
   ],
   "source": [
    "x_test_filter_LR.shape"
   ]
  },
  {
   "cell_type": "code",
   "execution_count": 107,
   "id": "2e87bd9a",
   "metadata": {},
   "outputs": [],
   "source": [
    "x_test_filter_LR_st = StandardScaler().fit_transform(x_test_filter_LR)\n",
    "x_test_filter_LR_st = pd.DataFrame(x_test_filter_LR_st)\n",
    "y_test=pd.DataFrame(y_ts_data)"
   ]
  },
  {
   "cell_type": "code",
   "execution_count": 108,
   "id": "3a79b639",
   "metadata": {},
   "outputs": [
    {
     "data": {
      "text/plain": [
       "array([[-0.16128384, -0.9239655 , -2.08167486, ...,  1.0613791 ,\n",
       "         0.89622237, -0.07677653],\n",
       "       [-0.16590644, -0.92502126, -2.080133  , ...,  1.06122086,\n",
       "         0.89394523, -0.07881783],\n",
       "       [-0.17052903, -0.92607703, -2.07859114, ...,  1.06106262,\n",
       "         0.89166808, -0.08085913],\n",
       "       ...,\n",
       "       [-0.2802285 ,  0.12382317,  0.23321038, ..., -0.66070108,\n",
       "         0.69109065,  0.37993672],\n",
       "       [-0.2765609 ,  0.12567692,  0.23136869, ..., -0.65998202,\n",
       "         0.69347269,  0.37971824],\n",
       "       [-0.2728933 ,  0.12753066,  0.22952699, ..., -0.65926297,\n",
       "         0.69585474,  0.37949977]])"
      ]
     },
     "execution_count": 108,
     "metadata": {},
     "output_type": "execute_result"
    }
   ],
   "source": [
    "x_test_filter_LR_st.values"
   ]
  },
  {
   "cell_type": "code",
   "execution_count": 109,
   "id": "834d1d92",
   "metadata": {},
   "outputs": [
    {
     "data": {
      "text/plain": [
       "(236894, 11)"
      ]
     },
     "execution_count": 109,
     "metadata": {},
     "output_type": "execute_result"
    }
   ],
   "source": [
    "x_test_filter_LR_st.shape"
   ]
  },
  {
   "cell_type": "markdown",
   "id": "b8bbdea1",
   "metadata": {},
   "source": [
    "Filter [0 0 0 0 0 0] from the data"
   ]
  },
  {
   "cell_type": "code",
   "execution_count": 110,
   "id": "96dbaf85",
   "metadata": {},
   "outputs": [],
   "source": [
    "x_data_filter, y_data_filter = filter_dataset(x_train_filter_LR_st.values, y_data)"
   ]
  },
  {
   "cell_type": "code",
   "execution_count": 111,
   "id": "7accfdb1",
   "metadata": {},
   "outputs": [
    {
     "data": {
      "text/plain": [
       "(132965, 20, 11)"
      ]
     },
     "execution_count": 111,
     "metadata": {},
     "output_type": "execute_result"
    }
   ],
   "source": [
    "x_data_filter.shape"
   ]
  },
  {
   "cell_type": "code",
   "execution_count": 112,
   "id": "ef6b6cc1",
   "metadata": {},
   "outputs": [
    {
     "data": {
      "text/plain": [
       "(132965, 6)"
      ]
     },
     "execution_count": 112,
     "metadata": {},
     "output_type": "execute_result"
    }
   ],
   "source": [
    "y_data_filter.shape"
   ]
  },
  {
   "cell_type": "code",
   "execution_count": 113,
   "id": "5e878bc1",
   "metadata": {},
   "outputs": [],
   "source": [
    "x_ts_data_filter, y_ts_data_filter = filter_dataset(x_test_filter_LR_st.values, y_ts_data)"
   ]
  },
  {
   "cell_type": "code",
   "execution_count": 114,
   "id": "fae34d01",
   "metadata": {},
   "outputs": [
    {
     "data": {
      "text/plain": [
       "(45838, 20, 11)"
      ]
     },
     "execution_count": 114,
     "metadata": {},
     "output_type": "execute_result"
    }
   ],
   "source": [
    "x_ts_data_filter.shape"
   ]
  },
  {
   "cell_type": "code",
   "execution_count": 115,
   "id": "2bcf6f6a",
   "metadata": {},
   "outputs": [
    {
     "data": {
      "text/plain": [
       "(45838, 6)"
      ]
     },
     "execution_count": 115,
     "metadata": {},
     "output_type": "execute_result"
    }
   ],
   "source": [
    "y_ts_data_filter.shape"
   ]
  },
  {
   "cell_type": "markdown",
   "id": "7a810fbb",
   "metadata": {},
   "source": [
    "Shuffle"
   ]
  },
  {
   "cell_type": "code",
   "execution_count": 116,
   "id": "114e77f4",
   "metadata": {},
   "outputs": [],
   "source": [
    "x_data_filter, y_data_filter = utils.shuffle(x_data_filter, y_data_filter)"
   ]
  },
  {
   "cell_type": "code",
   "execution_count": 117,
   "id": "537cd648",
   "metadata": {},
   "outputs": [
    {
     "data": {
      "text/plain": [
       "(132965, 20, 11)"
      ]
     },
     "execution_count": 117,
     "metadata": {},
     "output_type": "execute_result"
    }
   ],
   "source": [
    "x_data_filter.shape"
   ]
  },
  {
   "cell_type": "code",
   "execution_count": 118,
   "id": "7e18a718",
   "metadata": {},
   "outputs": [
    {
     "data": {
      "text/plain": [
       "(132965, 6)"
      ]
     },
     "execution_count": 118,
     "metadata": {},
     "output_type": "execute_result"
    }
   ],
   "source": [
    "y_data_filter.shape"
   ]
  },
  {
   "cell_type": "markdown",
   "id": "26e64711",
   "metadata": {},
   "source": [
    "Model"
   ]
  },
  {
   "cell_type": "code",
   "execution_count": 119,
   "id": "2679bba2",
   "metadata": {},
   "outputs": [
    {
     "name": "stderr",
     "output_type": "stream",
     "text": [
      "C:\\Users\\User\\anaconda3\\envs\\modelop_gpu\\lib\\site-packages\\tensorflow\\python\\keras\\optimizer_v2\\optimizer_v2.py:374: UserWarning: The `lr` argument is deprecated, use `learning_rate` instead.\n",
      "  warnings.warn(\n"
     ]
    },
    {
     "name": "stdout",
     "output_type": "stream",
     "text": [
      "Model: \"sequential_5\"\n",
      "_________________________________________________________________\n",
      "Layer (type)                 Output Shape              Param #   \n",
      "=================================================================\n",
      "lstm_20 (LSTM)               (None, 20, 128)           71680     \n",
      "_________________________________________________________________\n",
      "dropout_15 (Dropout)         (None, 20, 128)           0         \n",
      "_________________________________________________________________\n",
      "lstm_21 (LSTM)               (None, 20, 128)           131584    \n",
      "_________________________________________________________________\n",
      "dropout_16 (Dropout)         (None, 20, 128)           0         \n",
      "_________________________________________________________________\n",
      "lstm_22 (LSTM)               (None, 20, 128)           131584    \n",
      "_________________________________________________________________\n",
      "dropout_17 (Dropout)         (None, 20, 128)           0         \n",
      "_________________________________________________________________\n",
      "lstm_23 (LSTM)               (None, 128)               131584    \n",
      "_________________________________________________________________\n",
      "dense_10 (Dense)             (None, 32)                4128      \n",
      "_________________________________________________________________\n",
      "dense_11 (Dense)             (None, 6)                 198       \n",
      "=================================================================\n",
      "Total params: 470,758\n",
      "Trainable params: 470,758\n",
      "Non-trainable params: 0\n",
      "_________________________________________________________________\n",
      "Epoch 1/30\n",
      "1870/1870 [==============================] - 35s 17ms/step - loss: 0.2057 - accuracy: 0.6916 - val_loss: 0.0758 - val_accuracy: 0.8288\n",
      "Epoch 2/30\n",
      "1870/1870 [==============================] - 30s 16ms/step - loss: 0.0741 - accuracy: 0.8403 - val_loss: 0.0537 - val_accuracy: 0.8289\n",
      "Epoch 3/30\n",
      "1870/1870 [==============================] - 29s 16ms/step - loss: 0.0572 - accuracy: 0.8477 - val_loss: 0.0419 - val_accuracy: 0.8503\n",
      "Epoch 4/30\n",
      "1870/1870 [==============================] - 30s 16ms/step - loss: 0.0490 - accuracy: 0.8512 - val_loss: 0.0357 - val_accuracy: 0.8515\n",
      "Epoch 5/30\n",
      "1870/1870 [==============================] - 29s 16ms/step - loss: 0.0428 - accuracy: 0.8529 - val_loss: 0.0349 - val_accuracy: 0.8631\n",
      "Epoch 6/30\n",
      "1870/1870 [==============================] - 29s 16ms/step - loss: 0.0390 - accuracy: 0.8541 - val_loss: 0.0311 - val_accuracy: 0.8635\n",
      "Epoch 7/30\n",
      "1870/1870 [==============================] - 31s 16ms/step - loss: 0.0364 - accuracy: 0.8572 - val_loss: 0.0329 - val_accuracy: 0.8466\n",
      "Epoch 8/30\n",
      "1870/1870 [==============================] - 30s 16ms/step - loss: 0.0338 - accuracy: 0.8575 - val_loss: 0.0253 - val_accuracy: 0.8616\n",
      "Epoch 9/30\n",
      "1870/1870 [==============================] - 30s 16ms/step - loss: 0.0308 - accuracy: 0.8596 - val_loss: 0.0264 - val_accuracy: 0.8532\n",
      "Epoch 10/30\n",
      "1870/1870 [==============================] - 29s 16ms/step - loss: 0.0297 - accuracy: 0.8647 - val_loss: 0.0217 - val_accuracy: 0.8668\n",
      "Epoch 11/30\n",
      "1870/1870 [==============================] - 30s 16ms/step - loss: 0.0279 - accuracy: 0.8641 - val_loss: 0.0221 - val_accuracy: 0.8548\n",
      "Epoch 12/30\n",
      "1870/1870 [==============================] - 30s 16ms/step - loss: 0.0271 - accuracy: 0.8640 - val_loss: 0.0321 - val_accuracy: 0.8848\n",
      "Epoch 13/30\n",
      "1870/1870 [==============================] - 30s 16ms/step - loss: 0.0278 - accuracy: 0.8633 - val_loss: 0.0248 - val_accuracy: 0.8625\n",
      "Epoch 14/30\n",
      "1870/1870 [==============================] - 30s 16ms/step - loss: 0.0259 - accuracy: 0.8662 - val_loss: 0.0228 - val_accuracy: 0.8661\n",
      "Epoch 15/30\n",
      "1870/1870 [==============================] - 30s 16ms/step - loss: 0.0253 - accuracy: 0.8707 - val_loss: 0.0200 - val_accuracy: 0.8794\n",
      "Epoch 16/30\n",
      "1870/1870 [==============================] - 31s 16ms/step - loss: 0.0248 - accuracy: 0.8719 - val_loss: 0.0208 - val_accuracy: 0.8720\n",
      "Epoch 17/30\n",
      "1870/1870 [==============================] - 30s 16ms/step - loss: 0.0240 - accuracy: 0.8647 - val_loss: 0.0238 - val_accuracy: 0.8537\n",
      "Epoch 18/30\n",
      "1870/1870 [==============================] - 31s 16ms/step - loss: 0.0220 - accuracy: 0.8658 - val_loss: 0.0194 - val_accuracy: 0.8649\n",
      "Epoch 19/30\n",
      "1870/1870 [==============================] - 30s 16ms/step - loss: 0.0218 - accuracy: 0.8654 - val_loss: 0.0190 - val_accuracy: 0.8534\n",
      "Epoch 20/30\n",
      "1870/1870 [==============================] - 30s 16ms/step - loss: 0.0222 - accuracy: 0.8649 - val_loss: 0.0194 - val_accuracy: 0.8788\n",
      "Epoch 21/30\n",
      "1870/1870 [==============================] - 30s 16ms/step - loss: 0.0214 - accuracy: 0.8705 - val_loss: 0.0197 - val_accuracy: 0.8685\n",
      "Epoch 22/30\n",
      "1870/1870 [==============================] - 30s 16ms/step - loss: 0.0197 - accuracy: 0.8705 - val_loss: 0.0177 - val_accuracy: 0.8761\n",
      "Epoch 23/30\n",
      "1870/1870 [==============================] - 30s 16ms/step - loss: 0.0196 - accuracy: 0.8663 - val_loss: 0.0148 - val_accuracy: 0.8679\n",
      "Epoch 24/30\n",
      "1870/1870 [==============================] - 30s 16ms/step - loss: 0.0191 - accuracy: 0.8728 - val_loss: 0.0166 - val_accuracy: 0.8662\n",
      "Epoch 25/30\n",
      "1870/1870 [==============================] - 30s 16ms/step - loss: 0.0190 - accuracy: 0.8698 - val_loss: 0.0168 - val_accuracy: 0.8816\n",
      "Epoch 26/30\n",
      "1870/1870 [==============================] - 30s 16ms/step - loss: 0.0194 - accuracy: 0.8734 - val_loss: 0.0169 - val_accuracy: 0.8591\n",
      "Epoch 27/30\n",
      "1870/1870 [==============================] - 30s 16ms/step - loss: 0.0183 - accuracy: 0.8699 - val_loss: 0.0162 - val_accuracy: 0.8727\n",
      "Epoch 28/30\n",
      "1870/1870 [==============================] - 30s 16ms/step - loss: 0.0185 - accuracy: 0.8701 - val_loss: 0.0131 - val_accuracy: 0.8614\n",
      "Epoch 29/30\n",
      "1870/1870 [==============================] - 30s 16ms/step - loss: 0.0171 - accuracy: 0.8670 - val_loss: 0.0148 - val_accuracy: 0.8640\n",
      "Epoch 30/30\n",
      "1870/1870 [==============================] - 30s 16ms/step - loss: 0.0178 - accuracy: 0.8722 - val_loss: 0.0139 - val_accuracy: 0.8584\n"
     ]
    },
    {
     "data": {
      "text/plain": [
       "<tensorflow.python.keras.callbacks.History at 0x2a076176b20>"
      ]
     },
     "execution_count": 119,
     "metadata": {},
     "output_type": "execute_result"
    }
   ],
   "source": [
    "model_with_filter_LG_standard = LSTM_model(11)\n",
    "model_with_filter_LG_standard.fit(x_data_filter, y_data_filter, epochs=30, batch_size=64, validation_split=0.1)"
   ]
  },
  {
   "cell_type": "code",
   "execution_count": 120,
   "id": "429b2693",
   "metadata": {},
   "outputs": [],
   "source": [
    "model_with_filter_LG_standard.save(\"modelop/LSTM/LSTM_with_filter_LR100_standard.h5\")"
   ]
  },
  {
   "cell_type": "markdown",
   "id": "13b702f2",
   "metadata": {},
   "source": [
    "Evaluate"
   ]
  },
  {
   "cell_type": "code",
   "execution_count": 121,
   "id": "bce3ed03",
   "metadata": {},
   "outputs": [
    {
     "name": "stdout",
     "output_type": "stream",
     "text": [
      "Model: \"sequential_5\"\n",
      "_________________________________________________________________\n",
      "Layer (type)                 Output Shape              Param #   \n",
      "=================================================================\n",
      "lstm_20 (LSTM)               (None, 20, 128)           71680     \n",
      "_________________________________________________________________\n",
      "dropout_15 (Dropout)         (None, 20, 128)           0         \n",
      "_________________________________________________________________\n",
      "lstm_21 (LSTM)               (None, 20, 128)           131584    \n",
      "_________________________________________________________________\n",
      "dropout_16 (Dropout)         (None, 20, 128)           0         \n",
      "_________________________________________________________________\n",
      "lstm_22 (LSTM)               (None, 20, 128)           131584    \n",
      "_________________________________________________________________\n",
      "dropout_17 (Dropout)         (None, 20, 128)           0         \n",
      "_________________________________________________________________\n",
      "lstm_23 (LSTM)               (None, 128)               131584    \n",
      "_________________________________________________________________\n",
      "dense_10 (Dense)             (None, 32)                4128      \n",
      "_________________________________________________________________\n",
      "dense_11 (Dense)             (None, 6)                 198       \n",
      "=================================================================\n",
      "Total params: 470,758\n",
      "Trainable params: 470,758\n",
      "Non-trainable params: 0\n",
      "_________________________________________________________________\n"
     ]
    }
   ],
   "source": [
    "model = load_model(\"modelop/LSTM/LSTM_with_filter_LR100_standard.h5\")\n",
    "model.summary()"
   ]
  },
  {
   "cell_type": "code",
   "execution_count": 122,
   "id": "b8fff70e",
   "metadata": {},
   "outputs": [
    {
     "name": "stdout",
     "output_type": "stream",
     "text": [
      "1433/1433 [==============================] - 14s 9ms/step - loss: 1.5767 - accuracy: 0.4789\n"
     ]
    },
    {
     "data": {
      "text/plain": [
       "[1.5766746997833252, 0.47892579436302185]"
      ]
     },
     "execution_count": 122,
     "metadata": {},
     "output_type": "execute_result"
    }
   ],
   "source": [
    "model.evaluate(x_ts_data_filter, y_ts_data_filter)"
   ]
  },
  {
   "cell_type": "markdown",
   "id": "38bd3bf0",
   "metadata": {},
   "source": [
    "# With lowpass filter 、linear regression and standardization (segment length = 25)"
   ]
  },
  {
   "cell_type": "markdown",
   "id": "16973f92",
   "metadata": {},
   "source": [
    "Training data with filter, Linear regression and standardization"
   ]
  },
  {
   "cell_type": "code",
   "execution_count": 123,
   "id": "b1984408",
   "metadata": {},
   "outputs": [],
   "source": [
    "x_train_filter_LR = linearregression_allsignal(x_data_df.values, 25)"
   ]
  },
  {
   "cell_type": "code",
   "execution_count": 124,
   "id": "ec80c423",
   "metadata": {},
   "outputs": [
    {
     "data": {
      "text/plain": [
       "array([[-193.86041918,  202.19067761,  219.60198596, ...,  457.04038024,\n",
       "         312.86905409,  339.67607895],\n",
       "       [-192.6283537 ,  202.96425892,  217.21591506, ...,  454.16349918,\n",
       "         306.27167493,  332.62619476],\n",
       "       [-191.39628822,  203.73784022,  214.82984417, ...,  451.28661813,\n",
       "         299.67429576,  325.57631056],\n",
       "       ...,\n",
       "       [-327.29509528,  193.62120008, -230.35346638, ...,  -90.86146283,\n",
       "        -158.19623261, -144.93869853],\n",
       "       [-333.56886036,  187.96626555, -231.46545684, ...,  -93.91025203,\n",
       "        -162.24272074, -147.8897084 ],\n",
       "       [-339.84262544,  182.31133102, -232.5774473 , ...,  -96.95904123,\n",
       "        -166.28920887, -150.84071827]])"
      ]
     },
     "execution_count": 124,
     "metadata": {},
     "output_type": "execute_result"
    }
   ],
   "source": [
    "x_train_filter_LR"
   ]
  },
  {
   "cell_type": "code",
   "execution_count": 125,
   "id": "5a02509b",
   "metadata": {},
   "outputs": [
    {
     "data": {
      "text/plain": [
       "(1185498, 11)"
      ]
     },
     "execution_count": 125,
     "metadata": {},
     "output_type": "execute_result"
    }
   ],
   "source": [
    "x_train_filter_LR.shape"
   ]
  },
  {
   "cell_type": "code",
   "execution_count": 126,
   "id": "16dc6c3b",
   "metadata": {},
   "outputs": [],
   "source": [
    "x_train_filter_LR_st = StandardScaler().fit_transform(x_train_filter_LR)\n",
    "x_train_filter_LR_st = pd.DataFrame(x_train_filter_LR_st)\n",
    "y=pd.DataFrame(y_data)"
   ]
  },
  {
   "cell_type": "code",
   "execution_count": 127,
   "id": "44a579aa",
   "metadata": {},
   "outputs": [
    {
     "data": {
      "text/plain": [
       "array([[-1.02561802, -0.64613525,  2.61642159, ...,  2.21566011,\n",
       "         1.65521987,  0.44492722],\n",
       "       [-1.02124332, -0.63947028,  2.59202967, ...,  2.19668635,\n",
       "         1.61597211,  0.42285338],\n",
       "       [-1.01686862, -0.6328053 ,  2.56763775, ...,  2.1777126 ,\n",
       "         1.57672435,  0.40077954],\n",
       "       ...,\n",
       "       [-1.49940511, -0.71996763, -1.98330595, ..., -1.39789088,\n",
       "        -1.1471439 , -1.07244663],\n",
       "       [-1.5216814 , -0.76868907, -1.99467342, ..., -1.41799842,\n",
       "        -1.17121643, -1.08168652],\n",
       "       [-1.54395768, -0.8174105 , -2.00604089, ..., -1.43810595,\n",
       "        -1.19528895, -1.0909264 ]])"
      ]
     },
     "execution_count": 127,
     "metadata": {},
     "output_type": "execute_result"
    }
   ],
   "source": [
    "x_train_filter_LR_st.values"
   ]
  },
  {
   "cell_type": "code",
   "execution_count": 128,
   "id": "e2f78ff6",
   "metadata": {},
   "outputs": [
    {
     "data": {
      "text/plain": [
       "(1185498, 11)"
      ]
     },
     "execution_count": 128,
     "metadata": {},
     "output_type": "execute_result"
    }
   ],
   "source": [
    "x_train_filter_LR_st.shape"
   ]
  },
  {
   "cell_type": "markdown",
   "id": "8a79bd1d",
   "metadata": {},
   "source": [
    "Testing data with filter, Linear regression and standardization"
   ]
  },
  {
   "cell_type": "code",
   "execution_count": 129,
   "id": "9b08db55",
   "metadata": {},
   "outputs": [],
   "source": [
    "x_test_filter_LR = linearregression_allsignal(x_test_df.values, 25)"
   ]
  },
  {
   "cell_type": "code",
   "execution_count": 130,
   "id": "522f4cf9",
   "metadata": {},
   "outputs": [
    {
     "data": {
      "text/plain": [
       "array([[  87.17712512,  251.72521793, -208.93502212, ...,  107.47006315,\n",
       "          21.68458679,   26.33306532],\n",
       "       [  85.31335753,  250.57686109, -209.89488147, ...,  108.3517209 ,\n",
       "          25.11603257,   31.60198384],\n",
       "       [  83.44958993,  249.42850426, -210.85474082, ...,  109.23337865,\n",
       "          28.54747836,   36.87090237],\n",
       "       ...,\n",
       "       [  85.32765873,  316.48669496,  -40.48320542, ...,  -28.78687805,\n",
       "         102.74472893,  279.6035681 ],\n",
       "       [  85.65246175,  313.08447658,  -43.31860354, ...,  -30.78666366,\n",
       "         104.91771381,  284.6576509 ],\n",
       "       [  85.97726478,  309.68225819,  -46.15400165, ...,  -32.78644927,\n",
       "         107.09069869,  289.7117337 ]])"
      ]
     },
     "execution_count": 130,
     "metadata": {},
     "output_type": "execute_result"
    }
   ],
   "source": [
    "x_test_filter_LR"
   ]
  },
  {
   "cell_type": "code",
   "execution_count": 131,
   "id": "c8c54980",
   "metadata": {},
   "outputs": [
    {
     "data": {
      "text/plain": [
       "(236894, 11)"
      ]
     },
     "execution_count": 131,
     "metadata": {},
     "output_type": "execute_result"
    }
   ],
   "source": [
    "x_test_filter_LR.shape"
   ]
  },
  {
   "cell_type": "code",
   "execution_count": 132,
   "id": "a3e7e6e4",
   "metadata": {},
   "outputs": [],
   "source": [
    "x_test_filter_LR_st = StandardScaler().fit_transform(x_test_filter_LR)\n",
    "x_test_filter_LR_st = pd.DataFrame(x_test_filter_LR_st)\n",
    "y_test=pd.DataFrame(y_ts_data)"
   ]
  },
  {
   "cell_type": "code",
   "execution_count": 133,
   "id": "f0d9c448",
   "metadata": {},
   "outputs": [
    {
     "data": {
      "text/plain": [
       "array([[-0.18169856, -0.8049283 , -1.87292641, ...,  0.71040256,\n",
       "         0.25555138, -0.46609141],\n",
       "       [-0.19425689, -0.81670845, -1.88326807, ...,  0.72022862,\n",
       "         0.28342506, -0.44327647],\n",
       "       [-0.20681522, -0.82848861, -1.89360972, ...,  0.73005468,\n",
       "         0.31129875, -0.42046153],\n",
       "       ...,\n",
       "       [-0.19416053, -0.14058757, -0.05800305, ..., -0.80817857,\n",
       "         0.91400419,  0.63059508],\n",
       "       [-0.19197196, -0.17548844, -0.08855203, ..., -0.83046614,\n",
       "         0.93165538,  0.65247976],\n",
       "       [-0.18978339, -0.21038932, -0.119101  , ..., -0.85275371,\n",
       "         0.94930657,  0.67436444]])"
      ]
     },
     "execution_count": 133,
     "metadata": {},
     "output_type": "execute_result"
    }
   ],
   "source": [
    "x_test_filter_LR_st.values"
   ]
  },
  {
   "cell_type": "code",
   "execution_count": 134,
   "id": "71be0293",
   "metadata": {},
   "outputs": [
    {
     "data": {
      "text/plain": [
       "(236894, 11)"
      ]
     },
     "execution_count": 134,
     "metadata": {},
     "output_type": "execute_result"
    }
   ],
   "source": [
    "x_test_filter_LR_st.shape"
   ]
  },
  {
   "cell_type": "markdown",
   "id": "f2aca48f",
   "metadata": {},
   "source": [
    "Filter [0 0 0 0 0 0] from the data"
   ]
  },
  {
   "cell_type": "code",
   "execution_count": 135,
   "id": "28e1653b",
   "metadata": {},
   "outputs": [],
   "source": [
    "x_data_filter, y_data_filter = filter_dataset(x_train_filter_LR_st.values, y_data)"
   ]
  },
  {
   "cell_type": "code",
   "execution_count": 136,
   "id": "b2d65ea2",
   "metadata": {},
   "outputs": [
    {
     "data": {
      "text/plain": [
       "(132965, 20, 11)"
      ]
     },
     "execution_count": 136,
     "metadata": {},
     "output_type": "execute_result"
    }
   ],
   "source": [
    "x_data_filter.shape"
   ]
  },
  {
   "cell_type": "code",
   "execution_count": 137,
   "id": "cb32760d",
   "metadata": {},
   "outputs": [
    {
     "data": {
      "text/plain": [
       "(132965, 6)"
      ]
     },
     "execution_count": 137,
     "metadata": {},
     "output_type": "execute_result"
    }
   ],
   "source": [
    "y_data_filter.shape"
   ]
  },
  {
   "cell_type": "code",
   "execution_count": 138,
   "id": "a435393a",
   "metadata": {},
   "outputs": [],
   "source": [
    "x_ts_data_filter, y_ts_data_filter = filter_dataset(x_test_filter_LR_st.values, y_ts_data)"
   ]
  },
  {
   "cell_type": "code",
   "execution_count": 139,
   "id": "a5ebab3b",
   "metadata": {},
   "outputs": [
    {
     "data": {
      "text/plain": [
       "(45838, 20, 11)"
      ]
     },
     "execution_count": 139,
     "metadata": {},
     "output_type": "execute_result"
    }
   ],
   "source": [
    "x_ts_data_filter.shape"
   ]
  },
  {
   "cell_type": "code",
   "execution_count": 140,
   "id": "432022ab",
   "metadata": {},
   "outputs": [
    {
     "data": {
      "text/plain": [
       "(45838, 6)"
      ]
     },
     "execution_count": 140,
     "metadata": {},
     "output_type": "execute_result"
    }
   ],
   "source": [
    "y_ts_data_filter.shape"
   ]
  },
  {
   "cell_type": "markdown",
   "id": "d94ea3e5",
   "metadata": {},
   "source": [
    "Shuffle"
   ]
  },
  {
   "cell_type": "code",
   "execution_count": 141,
   "id": "d16e79f1",
   "metadata": {},
   "outputs": [],
   "source": [
    "x_data_filter, y_data_filter = utils.shuffle(x_data_filter, y_data_filter)"
   ]
  },
  {
   "cell_type": "code",
   "execution_count": 142,
   "id": "de2c56ca",
   "metadata": {},
   "outputs": [
    {
     "data": {
      "text/plain": [
       "(132965, 20, 11)"
      ]
     },
     "execution_count": 142,
     "metadata": {},
     "output_type": "execute_result"
    }
   ],
   "source": [
    "x_data_filter.shape"
   ]
  },
  {
   "cell_type": "code",
   "execution_count": 143,
   "id": "27ae9612",
   "metadata": {},
   "outputs": [
    {
     "data": {
      "text/plain": [
       "(132965, 6)"
      ]
     },
     "execution_count": 143,
     "metadata": {},
     "output_type": "execute_result"
    }
   ],
   "source": [
    "y_data_filter.shape"
   ]
  },
  {
   "cell_type": "markdown",
   "id": "8afbdc01",
   "metadata": {},
   "source": [
    "Model"
   ]
  },
  {
   "cell_type": "code",
   "execution_count": 144,
   "id": "2cc6b57f",
   "metadata": {},
   "outputs": [
    {
     "name": "stderr",
     "output_type": "stream",
     "text": [
      "C:\\Users\\User\\anaconda3\\envs\\modelop_gpu\\lib\\site-packages\\tensorflow\\python\\keras\\optimizer_v2\\optimizer_v2.py:374: UserWarning: The `lr` argument is deprecated, use `learning_rate` instead.\n",
      "  warnings.warn(\n"
     ]
    },
    {
     "name": "stdout",
     "output_type": "stream",
     "text": [
      "Model: \"sequential_6\"\n",
      "_________________________________________________________________\n",
      "Layer (type)                 Output Shape              Param #   \n",
      "=================================================================\n",
      "lstm_24 (LSTM)               (None, 20, 128)           71680     \n",
      "_________________________________________________________________\n",
      "dropout_18 (Dropout)         (None, 20, 128)           0         \n",
      "_________________________________________________________________\n",
      "lstm_25 (LSTM)               (None, 20, 128)           131584    \n",
      "_________________________________________________________________\n",
      "dropout_19 (Dropout)         (None, 20, 128)           0         \n",
      "_________________________________________________________________\n",
      "lstm_26 (LSTM)               (None, 20, 128)           131584    \n",
      "_________________________________________________________________\n",
      "dropout_20 (Dropout)         (None, 20, 128)           0         \n",
      "_________________________________________________________________\n",
      "lstm_27 (LSTM)               (None, 128)               131584    \n",
      "_________________________________________________________________\n",
      "dense_12 (Dense)             (None, 32)                4128      \n",
      "_________________________________________________________________\n",
      "dense_13 (Dense)             (None, 6)                 198       \n",
      "=================================================================\n",
      "Total params: 470,758\n",
      "Trainable params: 470,758\n",
      "Non-trainable params: 0\n",
      "_________________________________________________________________\n",
      "Epoch 1/30\n",
      "1870/1870 [==============================] - 34s 16ms/step - loss: 0.2274 - accuracy: 0.6591 - val_loss: 0.1047 - val_accuracy: 0.7948\n",
      "Epoch 2/30\n",
      "1870/1870 [==============================] - 30s 16ms/step - loss: 0.0914 - accuracy: 0.8262 - val_loss: 0.0607 - val_accuracy: 0.8492\n",
      "Epoch 3/30\n",
      "1870/1870 [==============================] - 29s 15ms/step - loss: 0.0668 - accuracy: 0.8504 - val_loss: 0.0460 - val_accuracy: 0.8484\n",
      "Epoch 4/30\n",
      "1870/1870 [==============================] - 30s 16ms/step - loss: 0.0547 - accuracy: 0.8542 - val_loss: 0.0385 - val_accuracy: 0.8582\n",
      "Epoch 5/30\n",
      "1870/1870 [==============================] - 30s 16ms/step - loss: 0.0480 - accuracy: 0.8565 - val_loss: 0.0346 - val_accuracy: 0.8706\n",
      "Epoch 6/30\n",
      "1870/1870 [==============================] - 30s 16ms/step - loss: 0.0414 - accuracy: 0.8597 - val_loss: 0.0363 - val_accuracy: 0.8481\n",
      "Epoch 7/30\n",
      "1870/1870 [==============================] - 29s 16ms/step - loss: 0.0383 - accuracy: 0.8596 - val_loss: 0.0273 - val_accuracy: 0.8524\n",
      "Epoch 8/30\n",
      "1870/1870 [==============================] - 31s 16ms/step - loss: 0.0374 - accuracy: 0.8596 - val_loss: 0.0271 - val_accuracy: 0.8527\n",
      "Epoch 9/30\n",
      "1870/1870 [==============================] - 31s 16ms/step - loss: 0.0320 - accuracy: 0.8660 - val_loss: 0.0286 - val_accuracy: 0.8396\n",
      "Epoch 10/30\n",
      "1870/1870 [==============================] - 30s 16ms/step - loss: 0.0308 - accuracy: 0.8662 - val_loss: 0.0233 - val_accuracy: 0.8703\n",
      "Epoch 11/30\n",
      "1870/1870 [==============================] - 30s 16ms/step - loss: 0.0286 - accuracy: 0.8648 - val_loss: 0.0249 - val_accuracy: 0.8422\n",
      "Epoch 12/30\n",
      "1870/1870 [==============================] - 29s 16ms/step - loss: 0.0263 - accuracy: 0.8691 - val_loss: 0.0299 - val_accuracy: 0.8606\n",
      "Epoch 13/30\n",
      "1870/1870 [==============================] - 30s 16ms/step - loss: 0.0269 - accuracy: 0.8748 - val_loss: 0.0239 - val_accuracy: 0.8794\n",
      "Epoch 14/30\n",
      "1870/1870 [==============================] - 29s 16ms/step - loss: 0.0244 - accuracy: 0.8750 - val_loss: 0.0178 - val_accuracy: 0.8746\n",
      "Epoch 15/30\n",
      "1870/1870 [==============================] - 30s 16ms/step - loss: 0.0225 - accuracy: 0.8716 - val_loss: 0.0214 - val_accuracy: 0.8667\n",
      "Epoch 16/30\n",
      "1870/1870 [==============================] - 30s 16ms/step - loss: 0.0218 - accuracy: 0.8741 - val_loss: 0.0159 - val_accuracy: 0.8599\n",
      "Epoch 17/30\n",
      "1870/1870 [==============================] - 30s 16ms/step - loss: 0.0212 - accuracy: 0.8741 - val_loss: 0.0173 - val_accuracy: 0.8742\n",
      "Epoch 18/30\n",
      "1870/1870 [==============================] - 30s 16ms/step - loss: 0.0202 - accuracy: 0.8728 - val_loss: 0.0145 - val_accuracy: 0.8845\n",
      "Epoch 19/30\n",
      "1870/1870 [==============================] - 31s 17ms/step - loss: 0.0193 - accuracy: 0.8745 - val_loss: 0.0149 - val_accuracy: 0.8768\n",
      "Epoch 20/30\n",
      "1870/1870 [==============================] - 31s 16ms/step - loss: 0.0193 - accuracy: 0.8803 - val_loss: 0.0136 - val_accuracy: 0.8710\n",
      "Epoch 21/30\n",
      "1870/1870 [==============================] - 31s 16ms/step - loss: 0.0197 - accuracy: 0.8746 - val_loss: 0.0160 - val_accuracy: 0.8734\n",
      "Epoch 22/30\n",
      "1870/1870 [==============================] - 31s 17ms/step - loss: 0.0184 - accuracy: 0.8728 - val_loss: 0.0138 - val_accuracy: 0.8643\n",
      "Epoch 23/30\n",
      "1870/1870 [==============================] - 30s 16ms/step - loss: 0.0168 - accuracy: 0.8727 - val_loss: 0.0139 - val_accuracy: 0.8655\n",
      "Epoch 24/30\n",
      "1870/1870 [==============================] - 31s 16ms/step - loss: 0.0179 - accuracy: 0.8710 - val_loss: 0.0142 - val_accuracy: 0.8878\n",
      "Epoch 25/30\n",
      "1870/1870 [==============================] - 31s 17ms/step - loss: 0.0170 - accuracy: 0.8741 - val_loss: 0.0115 - val_accuracy: 0.8770\n",
      "Epoch 26/30\n",
      "1870/1870 [==============================] - 32s 17ms/step - loss: 0.0164 - accuracy: 0.8684 - val_loss: 0.0134 - val_accuracy: 0.8772\n",
      "Epoch 27/30\n",
      "1870/1870 [==============================] - 31s 17ms/step - loss: 0.0160 - accuracy: 0.8743 - val_loss: 0.0136 - val_accuracy: 0.8549\n",
      "Epoch 28/30\n",
      "1870/1870 [==============================] - 31s 17ms/step - loss: 0.0163 - accuracy: 0.8731 - val_loss: 0.0108 - val_accuracy: 0.8729\n",
      "Epoch 29/30\n",
      "1870/1870 [==============================] - 31s 16ms/step - loss: 0.0157 - accuracy: 0.8734 - val_loss: 0.0153 - val_accuracy: 0.8624\n",
      "Epoch 30/30\n",
      "1870/1870 [==============================] - 31s 16ms/step - loss: 0.0152 - accuracy: 0.8716 - val_loss: 0.0126 - val_accuracy: 0.8894\n"
     ]
    },
    {
     "data": {
      "text/plain": [
       "<tensorflow.python.keras.callbacks.History at 0x2a0d187faf0>"
      ]
     },
     "execution_count": 144,
     "metadata": {},
     "output_type": "execute_result"
    }
   ],
   "source": [
    "model_with_filter_LG_standard = LSTM_model(11)\n",
    "model_with_filter_LG_standard.fit(x_data_filter, y_data_filter, epochs=30, batch_size=64, validation_split=0.1)"
   ]
  },
  {
   "cell_type": "code",
   "execution_count": 145,
   "id": "75a10eb2",
   "metadata": {},
   "outputs": [],
   "source": [
    "model_with_filter_LG_standard.save(\"modelop/LSTM/LSTM_with_filter_LR25_standard.h5\")"
   ]
  },
  {
   "cell_type": "markdown",
   "id": "495a9cb3",
   "metadata": {},
   "source": [
    "Evaluate"
   ]
  },
  {
   "cell_type": "code",
   "execution_count": 146,
   "id": "f91e58c3",
   "metadata": {},
   "outputs": [
    {
     "name": "stdout",
     "output_type": "stream",
     "text": [
      "Model: \"sequential_6\"\n",
      "_________________________________________________________________\n",
      "Layer (type)                 Output Shape              Param #   \n",
      "=================================================================\n",
      "lstm_24 (LSTM)               (None, 20, 128)           71680     \n",
      "_________________________________________________________________\n",
      "dropout_18 (Dropout)         (None, 20, 128)           0         \n",
      "_________________________________________________________________\n",
      "lstm_25 (LSTM)               (None, 20, 128)           131584    \n",
      "_________________________________________________________________\n",
      "dropout_19 (Dropout)         (None, 20, 128)           0         \n",
      "_________________________________________________________________\n",
      "lstm_26 (LSTM)               (None, 20, 128)           131584    \n",
      "_________________________________________________________________\n",
      "dropout_20 (Dropout)         (None, 20, 128)           0         \n",
      "_________________________________________________________________\n",
      "lstm_27 (LSTM)               (None, 128)               131584    \n",
      "_________________________________________________________________\n",
      "dense_12 (Dense)             (None, 32)                4128      \n",
      "_________________________________________________________________\n",
      "dense_13 (Dense)             (None, 6)                 198       \n",
      "=================================================================\n",
      "Total params: 470,758\n",
      "Trainable params: 470,758\n",
      "Non-trainable params: 0\n",
      "_________________________________________________________________\n"
     ]
    }
   ],
   "source": [
    "model = load_model(\"modelop/LSTM/LSTM_with_filter_LR25_standard.h5\")\n",
    "model.summary()"
   ]
  },
  {
   "cell_type": "code",
   "execution_count": 147,
   "id": "ef0c9d3c",
   "metadata": {},
   "outputs": [
    {
     "name": "stdout",
     "output_type": "stream",
     "text": [
      "1433/1433 [==============================] - 14s 9ms/step - loss: 1.3832 - accuracy: 0.4807\n"
     ]
    },
    {
     "data": {
      "text/plain": [
       "[1.3831630945205688, 0.4806710481643677]"
      ]
     },
     "execution_count": 147,
     "metadata": {},
     "output_type": "execute_result"
    }
   ],
   "source": [
    "model.evaluate(x_ts_data_filter, y_ts_data_filter)"
   ]
  },
  {
   "cell_type": "markdown",
   "id": "67919cb7",
   "metadata": {},
   "source": [
    "# With linear regression and standardization (segment length = 25)"
   ]
  },
  {
   "cell_type": "markdown",
   "id": "8636ca63",
   "metadata": {},
   "source": [
    "Training data with Linear regression and standardization"
   ]
  },
  {
   "cell_type": "code",
   "execution_count": 148,
   "id": "59e5db0d",
   "metadata": {},
   "outputs": [],
   "source": [
    "x_train_filter_LR = linearregression_allsignal(x_data, 25)"
   ]
  },
  {
   "cell_type": "code",
   "execution_count": 149,
   "id": "744b2693",
   "metadata": {},
   "outputs": [
    {
     "data": {
      "text/plain": [
       "array([[-190.36      ,  199.33538462,  219.60615385, ...,  453.62153846,\n",
       "         298.28615385,  326.82153846],\n",
       "       [-190.        ,  200.46076923,  217.30230769, ...,  451.02307692,\n",
       "         292.86230769,  320.49307692],\n",
       "       [-189.64      ,  201.58615385,  214.99846154, ...,  448.42461538,\n",
       "         287.43846154,  314.16461538],\n",
       "       ...,\n",
       "       [-326.54644269,  189.16106719, -232.01284585, ...,  -89.19466403,\n",
       "        -157.97332016, -150.86857708],\n",
       "       [-332.93083004,  183.22727273, -233.38142292, ...,  -92.34189723,\n",
       "        -162.14426877, -154.8201581 ],\n",
       "       [-339.31521739,  177.29347826, -234.75      , ...,  -95.48913043,\n",
       "        -166.31521739, -158.77173913]])"
      ]
     },
     "execution_count": 149,
     "metadata": {},
     "output_type": "execute_result"
    }
   ],
   "source": [
    "x_train_filter_LR"
   ]
  },
  {
   "cell_type": "code",
   "execution_count": 150,
   "id": "a3d2b9cc",
   "metadata": {},
   "outputs": [
    {
     "data": {
      "text/plain": [
       "(1185498, 11)"
      ]
     },
     "execution_count": 150,
     "metadata": {},
     "output_type": "execute_result"
    }
   ],
   "source": [
    "x_train_filter_LR.shape"
   ]
  },
  {
   "cell_type": "code",
   "execution_count": 151,
   "id": "10294d8d",
   "metadata": {},
   "outputs": [],
   "source": [
    "x_train_filter_LR_st = StandardScaler().fit_transform(x_train_filter_LR)\n",
    "x_train_filter_LR_st = pd.DataFrame(x_train_filter_LR_st)\n",
    "y=pd.DataFrame(y_data)"
   ]
  },
  {
   "cell_type": "code",
   "execution_count": 152,
   "id": "1fafefaf",
   "metadata": {},
   "outputs": [
    {
     "data": {
      "text/plain": [
       "array([[-1.0123548 , -0.67048552,  2.61601355, ...,  2.19277581,\n",
       "         1.56758053,  0.40453946],\n",
       "       [-1.01107759, -0.66079311,  2.59246624, ...,  2.17564092,\n",
       "         1.53533233,  0.38473128],\n",
       "       [-1.00980039, -0.6511007 ,  2.56891893, ...,  2.15850604,\n",
       "         1.50308414,  0.3649231 ],\n",
       "       ...,\n",
       "       [-1.49551447, -0.75811211, -1.99992473, ..., -1.38668544,\n",
       "        -1.1451702 , -1.0906379 ],\n",
       "       [-1.51816488, -0.80921708, -2.01391278, ..., -1.40743905,\n",
       "        -1.16996913, -1.10300641],\n",
       "       [-1.54081529, -0.86032205, -2.02790083, ..., -1.42819267,\n",
       "        -1.19476805, -1.11537492]])"
      ]
     },
     "execution_count": 152,
     "metadata": {},
     "output_type": "execute_result"
    }
   ],
   "source": [
    "x_train_filter_LR_st.values"
   ]
  },
  {
   "cell_type": "code",
   "execution_count": 153,
   "id": "283bbcb8",
   "metadata": {},
   "outputs": [
    {
     "data": {
      "text/plain": [
       "(1185498, 11)"
      ]
     },
     "execution_count": 153,
     "metadata": {},
     "output_type": "execute_result"
    }
   ],
   "source": [
    "x_train_filter_LR_st.shape"
   ]
  },
  {
   "cell_type": "markdown",
   "id": "f1b6494f",
   "metadata": {},
   "source": [
    "Testing data with Linear regression and standardization"
   ]
  },
  {
   "cell_type": "code",
   "execution_count": 154,
   "id": "489f6f86",
   "metadata": {},
   "outputs": [],
   "source": [
    "x_test_filter_LR = linearregression_allsignal(x_ts_data, 25)"
   ]
  },
  {
   "cell_type": "code",
   "execution_count": 155,
   "id": "854ce8f3",
   "metadata": {},
   "outputs": [
    {
     "data": {
      "text/plain": [
       "array([[  87.78153846,  255.60615385, -207.40615385, ...,  111.90153846,\n",
       "          24.72923077,   47.77846154],\n",
       "       [  85.70307692,  254.13230769, -208.56230769, ...,  112.38307692,\n",
       "          27.86846154,   51.20692308],\n",
       "       [  83.62461538,  252.65846154, -209.71846154, ...,  112.86461538,\n",
       "          31.00769231,   54.63538462],\n",
       "       ...,\n",
       "       [  73.18070175,  316.60350877,  -39.08596491, ...,  -24.58070175,\n",
       "         101.59298246,  275.82982456],\n",
       "       [  71.37192982,  313.18596491,  -41.72982456, ...,  -26.34035088,\n",
       "         103.40701754,  279.72280702],\n",
       "       [  69.56315789,  309.76842105,  -44.37368421, ...,  -28.1       ,\n",
       "         105.22105263,  283.61578947]])"
      ]
     },
     "execution_count": 155,
     "metadata": {},
     "output_type": "execute_result"
    }
   ],
   "source": [
    "x_test_filter_LR"
   ]
  },
  {
   "cell_type": "code",
   "execution_count": 156,
   "id": "7c7ebbb5",
   "metadata": {},
   "outputs": [
    {
     "data": {
      "text/plain": [
       "(236894, 11)"
      ]
     },
     "execution_count": 156,
     "metadata": {},
     "output_type": "execute_result"
    }
   ],
   "source": [
    "x_test_filter_LR.shape"
   ]
  },
  {
   "cell_type": "code",
   "execution_count": 157,
   "id": "1f4cab74",
   "metadata": {},
   "outputs": [],
   "source": [
    "x_test_filter_LR_st = StandardScaler().fit_transform(x_test_filter_LR)\n",
    "x_test_filter_LR_st = pd.DataFrame(x_test_filter_LR_st)\n",
    "y_test=pd.DataFrame(y_ts_data)"
   ]
  },
  {
   "cell_type": "code",
   "execution_count": 158,
   "id": "832bcfbe",
   "metadata": {},
   "outputs": [
    {
     "data": {
      "text/plain": [
       "array([[-0.17729599, -0.76481738, -1.85610736, ...,  0.75949226,\n",
       "         0.28014457, -0.37301442],\n",
       "       [-0.19127505, -0.77993057, -1.86856159, ...,  0.7648569 ,\n",
       "         0.30563204, -0.35817751],\n",
       "       [-0.20525412, -0.79504375, -1.88101583, ...,  0.77022154,\n",
       "         0.3311195 , -0.34334061],\n",
       "       ...,\n",
       "       [-0.27549651, -0.1393354 , -0.04294129, ..., -0.76100588,\n",
       "         0.9042027 ,  0.61389367],\n",
       "       [-0.28766173, -0.17437974, -0.07142127, ..., -0.78060948,\n",
       "         0.91893088,  0.63074083],\n",
       "       [-0.29982694, -0.20942408, -0.09990126, ..., -0.80021308,\n",
       "         0.93365907,  0.64758798]])"
      ]
     },
     "execution_count": 158,
     "metadata": {},
     "output_type": "execute_result"
    }
   ],
   "source": [
    "x_test_filter_LR_st.values"
   ]
  },
  {
   "cell_type": "code",
   "execution_count": 159,
   "id": "aaf15008",
   "metadata": {},
   "outputs": [
    {
     "data": {
      "text/plain": [
       "(236894, 11)"
      ]
     },
     "execution_count": 159,
     "metadata": {},
     "output_type": "execute_result"
    }
   ],
   "source": [
    "x_test_filter_LR_st.shape"
   ]
  },
  {
   "cell_type": "markdown",
   "id": "421aa82c",
   "metadata": {},
   "source": [
    "Filter [0 0 0 0 0 0] from the data"
   ]
  },
  {
   "cell_type": "code",
   "execution_count": 160,
   "id": "7aff6654",
   "metadata": {},
   "outputs": [],
   "source": [
    "x_data_filter, y_data_filter = filter_dataset(x_train_filter_LR_st.values, y_data)"
   ]
  },
  {
   "cell_type": "code",
   "execution_count": 161,
   "id": "1567d976",
   "metadata": {},
   "outputs": [
    {
     "data": {
      "text/plain": [
       "(132965, 20, 11)"
      ]
     },
     "execution_count": 161,
     "metadata": {},
     "output_type": "execute_result"
    }
   ],
   "source": [
    "x_data_filter.shape"
   ]
  },
  {
   "cell_type": "code",
   "execution_count": 162,
   "id": "f2e9f1d4",
   "metadata": {},
   "outputs": [
    {
     "data": {
      "text/plain": [
       "(132965, 6)"
      ]
     },
     "execution_count": 162,
     "metadata": {},
     "output_type": "execute_result"
    }
   ],
   "source": [
    "y_data_filter.shape"
   ]
  },
  {
   "cell_type": "code",
   "execution_count": 163,
   "id": "ab0bff13",
   "metadata": {},
   "outputs": [],
   "source": [
    "x_ts_data_filter, y_ts_data_filter = filter_dataset(x_test_filter_LR_st.values, y_ts_data)"
   ]
  },
  {
   "cell_type": "code",
   "execution_count": 164,
   "id": "f8e87992",
   "metadata": {},
   "outputs": [
    {
     "data": {
      "text/plain": [
       "(45838, 20, 11)"
      ]
     },
     "execution_count": 164,
     "metadata": {},
     "output_type": "execute_result"
    }
   ],
   "source": [
    "x_ts_data_filter.shape"
   ]
  },
  {
   "cell_type": "code",
   "execution_count": 165,
   "id": "b8ade8bd",
   "metadata": {},
   "outputs": [
    {
     "data": {
      "text/plain": [
       "(45838, 6)"
      ]
     },
     "execution_count": 165,
     "metadata": {},
     "output_type": "execute_result"
    }
   ],
   "source": [
    "y_ts_data_filter.shape"
   ]
  },
  {
   "cell_type": "markdown",
   "id": "fa18c0b0",
   "metadata": {},
   "source": [
    "Shuffle"
   ]
  },
  {
   "cell_type": "code",
   "execution_count": 166,
   "id": "6a932a1d",
   "metadata": {},
   "outputs": [],
   "source": [
    "x_data_filter, y_data_filter = utils.shuffle(x_data_filter, y_data_filter)"
   ]
  },
  {
   "cell_type": "code",
   "execution_count": 167,
   "id": "9f77e63c",
   "metadata": {},
   "outputs": [
    {
     "data": {
      "text/plain": [
       "(132965, 20, 11)"
      ]
     },
     "execution_count": 167,
     "metadata": {},
     "output_type": "execute_result"
    }
   ],
   "source": [
    "x_data_filter.shape"
   ]
  },
  {
   "cell_type": "code",
   "execution_count": 168,
   "id": "7a2ef94d",
   "metadata": {},
   "outputs": [
    {
     "data": {
      "text/plain": [
       "(132965, 6)"
      ]
     },
     "execution_count": 168,
     "metadata": {},
     "output_type": "execute_result"
    }
   ],
   "source": [
    "y_data_filter.shape"
   ]
  },
  {
   "cell_type": "markdown",
   "id": "7fe3e440",
   "metadata": {},
   "source": [
    "Model"
   ]
  },
  {
   "cell_type": "code",
   "execution_count": 169,
   "id": "8db2f0c7",
   "metadata": {},
   "outputs": [
    {
     "name": "stderr",
     "output_type": "stream",
     "text": [
      "C:\\Users\\User\\anaconda3\\envs\\modelop_gpu\\lib\\site-packages\\tensorflow\\python\\keras\\optimizer_v2\\optimizer_v2.py:374: UserWarning: The `lr` argument is deprecated, use `learning_rate` instead.\n",
      "  warnings.warn(\n"
     ]
    },
    {
     "name": "stdout",
     "output_type": "stream",
     "text": [
      "Model: \"sequential_7\"\n",
      "_________________________________________________________________\n",
      "Layer (type)                 Output Shape              Param #   \n",
      "=================================================================\n",
      "lstm_28 (LSTM)               (None, 20, 128)           71680     \n",
      "_________________________________________________________________\n",
      "dropout_21 (Dropout)         (None, 20, 128)           0         \n",
      "_________________________________________________________________\n",
      "lstm_29 (LSTM)               (None, 20, 128)           131584    \n",
      "_________________________________________________________________\n",
      "dropout_22 (Dropout)         (None, 20, 128)           0         \n",
      "_________________________________________________________________\n",
      "lstm_30 (LSTM)               (None, 20, 128)           131584    \n",
      "_________________________________________________________________\n",
      "dropout_23 (Dropout)         (None, 20, 128)           0         \n",
      "_________________________________________________________________\n",
      "lstm_31 (LSTM)               (None, 128)               131584    \n",
      "_________________________________________________________________\n",
      "dense_14 (Dense)             (None, 32)                4128      \n",
      "_________________________________________________________________\n",
      "dense_15 (Dense)             (None, 6)                 198       \n",
      "=================================================================\n",
      "Total params: 470,758\n",
      "Trainable params: 470,758\n",
      "Non-trainable params: 0\n",
      "_________________________________________________________________\n",
      "Epoch 1/30\n",
      "1870/1870 [==============================] - 35s 17ms/step - loss: 0.2214 - accuracy: 0.6698 - val_loss: 0.0877 - val_accuracy: 0.8361\n",
      "Epoch 2/30\n",
      "1870/1870 [==============================] - 30s 16ms/step - loss: 0.0850 - accuracy: 0.8341 - val_loss: 0.0598 - val_accuracy: 0.8612\n",
      "Epoch 3/30\n",
      "1870/1870 [==============================] - 30s 16ms/step - loss: 0.0638 - accuracy: 0.8457 - val_loss: 0.0475 - val_accuracy: 0.8609\n",
      "Epoch 4/30\n",
      "1870/1870 [==============================] - 30s 16ms/step - loss: 0.0537 - accuracy: 0.8504 - val_loss: 0.0407 - val_accuracy: 0.8594\n",
      "Epoch 5/30\n",
      "1870/1870 [==============================] - 31s 17ms/step - loss: 0.0466 - accuracy: 0.8534 - val_loss: 0.0365 - val_accuracy: 0.8643\n",
      "Epoch 6/30\n",
      "1870/1870 [==============================] - 31s 17ms/step - loss: 0.0423 - accuracy: 0.8538 - val_loss: 0.0331 - val_accuracy: 0.8533\n",
      "Epoch 7/30\n",
      "1870/1870 [==============================] - 29s 16ms/step - loss: 0.0377 - accuracy: 0.8559 - val_loss: 0.0281 - val_accuracy: 0.8603\n",
      "Epoch 8/30\n",
      "1870/1870 [==============================] - 30s 16ms/step - loss: 0.0343 - accuracy: 0.8583 - val_loss: 0.0258 - val_accuracy: 0.8658\n",
      "Epoch 9/30\n",
      "1870/1870 [==============================] - 30s 16ms/step - loss: 0.0320 - accuracy: 0.8597 - val_loss: 0.0226 - val_accuracy: 0.8609\n",
      "Epoch 10/30\n",
      "1870/1870 [==============================] - 30s 16ms/step - loss: 0.0291 - accuracy: 0.8599 - val_loss: 0.0200 - val_accuracy: 0.8628\n",
      "Epoch 11/30\n",
      "1870/1870 [==============================] - 30s 16ms/step - loss: 0.0281 - accuracy: 0.8603 - val_loss: 0.0211 - val_accuracy: 0.8687\n",
      "Epoch 12/30\n",
      "1870/1870 [==============================] - 30s 16ms/step - loss: 0.0261 - accuracy: 0.8645 - val_loss: 0.0206 - val_accuracy: 0.8643\n",
      "Epoch 13/30\n",
      "1870/1870 [==============================] - 30s 16ms/step - loss: 0.0252 - accuracy: 0.8591 - val_loss: 0.0195 - val_accuracy: 0.8518\n",
      "Epoch 14/30\n",
      "1870/1870 [==============================] - 30s 16ms/step - loss: 0.0233 - accuracy: 0.8570 - val_loss: 0.0177 - val_accuracy: 0.8530\n",
      "Epoch 15/30\n",
      "1870/1870 [==============================] - 31s 17ms/step - loss: 0.0230 - accuracy: 0.8617 - val_loss: 0.0178 - val_accuracy: 0.8739\n",
      "Epoch 16/30\n",
      "1870/1870 [==============================] - 31s 16ms/step - loss: 0.0217 - accuracy: 0.8632 - val_loss: 0.0186 - val_accuracy: 0.8587\n",
      "Epoch 17/30\n",
      "1870/1870 [==============================] - 31s 17ms/step - loss: 0.0213 - accuracy: 0.8562 - val_loss: 0.0160 - val_accuracy: 0.8714\n",
      "Epoch 18/30\n",
      "1870/1870 [==============================] - 30s 16ms/step - loss: 0.0206 - accuracy: 0.8542 - val_loss: 0.0141 - val_accuracy: 0.8473\n",
      "Epoch 19/30\n",
      "1870/1870 [==============================] - 32s 17ms/step - loss: 0.0187 - accuracy: 0.8524 - val_loss: 0.0139 - val_accuracy: 0.8531\n",
      "Epoch 20/30\n",
      "1870/1870 [==============================] - 32s 17ms/step - loss: 0.0203 - accuracy: 0.8513 - val_loss: 0.0129 - val_accuracy: 0.8512\n",
      "Epoch 21/30\n",
      "1870/1870 [==============================] - 32s 17ms/step - loss: 0.0187 - accuracy: 0.8499 - val_loss: 0.0144 - val_accuracy: 0.8372\n",
      "Epoch 22/30\n",
      "1870/1870 [==============================] - 31s 16ms/step - loss: 0.0180 - accuracy: 0.8465 - val_loss: 0.0134 - val_accuracy: 0.8509\n",
      "Epoch 23/30\n",
      "1870/1870 [==============================] - 31s 17ms/step - loss: 0.0182 - accuracy: 0.8618 - val_loss: 0.0129 - val_accuracy: 0.8596\n",
      "Epoch 24/30\n",
      "1870/1870 [==============================] - 31s 16ms/step - loss: 0.0171 - accuracy: 0.8570 - val_loss: 0.0135 - val_accuracy: 0.8669\n",
      "Epoch 25/30\n",
      "1870/1870 [==============================] - 31s 16ms/step - loss: 0.0167 - accuracy: 0.8585 - val_loss: 0.0110 - val_accuracy: 0.8640\n",
      "Epoch 26/30\n",
      "1870/1870 [==============================] - 31s 16ms/step - loss: 0.0167 - accuracy: 0.8607 - val_loss: 0.0117 - val_accuracy: 0.8583\n",
      "Epoch 27/30\n",
      "1870/1870 [==============================] - 31s 16ms/step - loss: 0.0156 - accuracy: 0.8539 - val_loss: 0.0109 - val_accuracy: 0.8658\n",
      "Epoch 28/30\n",
      "1870/1870 [==============================] - 31s 17ms/step - loss: 0.0159 - accuracy: 0.8546 - val_loss: 0.0138 - val_accuracy: 0.8576\n",
      "Epoch 29/30\n",
      "1870/1870 [==============================] - 30s 16ms/step - loss: 0.0170 - accuracy: 0.8588 - val_loss: 0.0130 - val_accuracy: 0.8728\n",
      "Epoch 30/30\n",
      "1870/1870 [==============================] - 31s 17ms/step - loss: 0.0142 - accuracy: 0.8618 - val_loss: 0.0103 - val_accuracy: 0.8506\n"
     ]
    },
    {
     "data": {
      "text/plain": [
       "<tensorflow.python.keras.callbacks.History at 0x2a0d529eb80>"
      ]
     },
     "execution_count": 169,
     "metadata": {},
     "output_type": "execute_result"
    }
   ],
   "source": [
    "model_with_LG_standard = LSTM_model(11)\n",
    "model_with_LG_standard.fit(x_data_filter, y_data_filter, epochs=30, batch_size=64, validation_split=0.1)"
   ]
  },
  {
   "cell_type": "code",
   "execution_count": 170,
   "id": "6908fd7f",
   "metadata": {},
   "outputs": [],
   "source": [
    "model_with_LG_standard.save(\"modelop/LSTM/LSTM_with_LR25_standard.h5\")"
   ]
  },
  {
   "cell_type": "markdown",
   "id": "24f38eb3",
   "metadata": {},
   "source": [
    "Evaluate"
   ]
  },
  {
   "cell_type": "code",
   "execution_count": 171,
   "id": "fac78aa8",
   "metadata": {},
   "outputs": [
    {
     "name": "stdout",
     "output_type": "stream",
     "text": [
      "Model: \"sequential_7\"\n",
      "_________________________________________________________________\n",
      "Layer (type)                 Output Shape              Param #   \n",
      "=================================================================\n",
      "lstm_28 (LSTM)               (None, 20, 128)           71680     \n",
      "_________________________________________________________________\n",
      "dropout_21 (Dropout)         (None, 20, 128)           0         \n",
      "_________________________________________________________________\n",
      "lstm_29 (LSTM)               (None, 20, 128)           131584    \n",
      "_________________________________________________________________\n",
      "dropout_22 (Dropout)         (None, 20, 128)           0         \n",
      "_________________________________________________________________\n",
      "lstm_30 (LSTM)               (None, 20, 128)           131584    \n",
      "_________________________________________________________________\n",
      "dropout_23 (Dropout)         (None, 20, 128)           0         \n",
      "_________________________________________________________________\n",
      "lstm_31 (LSTM)               (None, 128)               131584    \n",
      "_________________________________________________________________\n",
      "dense_14 (Dense)             (None, 32)                4128      \n",
      "_________________________________________________________________\n",
      "dense_15 (Dense)             (None, 6)                 198       \n",
      "=================================================================\n",
      "Total params: 470,758\n",
      "Trainable params: 470,758\n",
      "Non-trainable params: 0\n",
      "_________________________________________________________________\n"
     ]
    }
   ],
   "source": [
    "model = load_model(\"modelop/LSTM/LSTM_with_LR25_standard.h5\")\n",
    "model.summary()"
   ]
  },
  {
   "cell_type": "code",
   "execution_count": 172,
   "id": "2adee2e0",
   "metadata": {},
   "outputs": [
    {
     "name": "stdout",
     "output_type": "stream",
     "text": [
      "1433/1433 [==============================] - 13s 9ms/step - loss: 1.5244 - accuracy: 0.4758\n"
     ]
    },
    {
     "data": {
      "text/plain": [
       "[1.5244489908218384, 0.4758497178554535]"
      ]
     },
     "execution_count": 172,
     "metadata": {},
     "output_type": "execute_result"
    }
   ],
   "source": [
    "model.evaluate(x_ts_data_filter, y_ts_data_filter)"
   ]
  },
  {
   "cell_type": "markdown",
   "id": "26724e77",
   "metadata": {},
   "source": [
    "# With linear regression and standardization (segment length = 50)"
   ]
  },
  {
   "cell_type": "markdown",
   "id": "3959b856",
   "metadata": {},
   "source": [
    "Training data with Linear regression and standardization"
   ]
  },
  {
   "cell_type": "code",
   "execution_count": 173,
   "id": "8b2b53a4",
   "metadata": {},
   "outputs": [],
   "source": [
    "x_train_filter_LR = linearregression_allsignal(x_data, 50)"
   ]
  },
  {
   "cell_type": "code",
   "execution_count": 174,
   "id": "929e563e",
   "metadata": {},
   "outputs": [
    {
     "data": {
      "text/plain": [
       "array([[-173.35764706,  216.29882353,  209.52941176, ...,  437.19058824,\n",
       "         242.23058824,  270.54352941],\n",
       "       [-173.65080432,  216.0082593 ,  208.13392557, ...,  436.29954382,\n",
       "         242.01138055,  269.54583433],\n",
       "       [-173.94396158,  215.71769508,  206.73843938, ...,  435.4084994 ,\n",
       "         241.79217287,  268.54813926],\n",
       "       ...,\n",
       "       [-315.30997612,  231.89472065, -247.01461861, ...,  -71.82944348,\n",
       "        -148.36191924, -143.97812636],\n",
       "       [-319.36799826,  231.96734332, -248.88060863, ...,  -72.28759589,\n",
       "        -150.22177594, -146.68931828],\n",
       "       [-323.42602041,  232.03996599, -250.74659864, ...,  -72.7457483 ,\n",
       "        -152.08163265, -149.4005102 ]])"
      ]
     },
     "execution_count": 174,
     "metadata": {},
     "output_type": "execute_result"
    }
   ],
   "source": [
    "x_train_filter_LR"
   ]
  },
  {
   "cell_type": "code",
   "execution_count": 175,
   "id": "1b7c8b2c",
   "metadata": {},
   "outputs": [
    {
     "data": {
      "text/plain": [
       "(1185498, 11)"
      ]
     },
     "execution_count": 175,
     "metadata": {},
     "output_type": "execute_result"
    }
   ],
   "source": [
    "x_train_filter_LR.shape"
   ]
  },
  {
   "cell_type": "code",
   "execution_count": 176,
   "id": "ead574e4",
   "metadata": {},
   "outputs": [],
   "source": [
    "x_train_filter_LR_st = StandardScaler().fit_transform(x_train_filter_LR)\n",
    "x_train_filter_LR_st = pd.DataFrame(x_train_filter_LR_st)\n",
    "y=pd.DataFrame(y_data)"
   ]
  },
  {
   "cell_type": "code",
   "execution_count": 177,
   "id": "59a00801",
   "metadata": {},
   "outputs": [
    {
     "data": {
      "text/plain": [
       "array([[-0.95791647, -0.5294007 ,  2.52691159, ...,  2.10078859,\n",
       "         1.24983654,  0.22967138],\n",
       "       [-0.95896295, -0.53192712,  2.51256967, ...,  2.09486671,\n",
       "         1.2485168 ,  0.22653104],\n",
       "       [-0.96000943, -0.53445354,  2.49822774, ...,  2.08894482,\n",
       "         1.24719706,  0.22339069],\n",
       "       ...,\n",
       "       [-1.46464392, -0.39379646, -2.16515832, ..., -1.28216136,\n",
       "        -1.10172432, -1.07507608],\n",
       "       [-1.47912985, -0.39316502, -2.18433578, ..., -1.28520625,\n",
       "        -1.11292159, -1.08360982],\n",
       "       [-1.49361577, -0.39253358, -2.20351324, ..., -1.28825113,\n",
       "        -1.12411885, -1.09214357]])"
      ]
     },
     "execution_count": 177,
     "metadata": {},
     "output_type": "execute_result"
    }
   ],
   "source": [
    "x_train_filter_LR_st.values"
   ]
  },
  {
   "cell_type": "code",
   "execution_count": 178,
   "id": "b8c0258f",
   "metadata": {},
   "outputs": [
    {
     "data": {
      "text/plain": [
       "(1185498, 11)"
      ]
     },
     "execution_count": 178,
     "metadata": {},
     "output_type": "execute_result"
    }
   ],
   "source": [
    "x_train_filter_LR_st.shape"
   ]
  },
  {
   "cell_type": "markdown",
   "id": "a2737468",
   "metadata": {},
   "source": [
    "Testing data with Linear regression and standardization"
   ]
  },
  {
   "cell_type": "code",
   "execution_count": 179,
   "id": "bdf56459",
   "metadata": {},
   "outputs": [],
   "source": [
    "x_test_filter_LR = linearregression_allsignal(x_ts_data, 50)"
   ]
  },
  {
   "cell_type": "code",
   "execution_count": 180,
   "id": "7c567f6b",
   "metadata": {},
   "outputs": [
    {
     "data": {
      "text/plain": [
       "array([[  55.34823529,  236.25647059, -219.95294118, ...,   99.72      ,\n",
       "          26.75529412,   50.63058824],\n",
       "       [  56.29647059,  236.3104922 , -219.99812725, ...,  101.45469388,\n",
       "          29.78569028,   53.41627851],\n",
       "       [  57.24470588,  236.36451381, -220.04331333, ...,  103.18938776,\n",
       "          32.81608643,   56.20196879],\n",
       "       ...,\n",
       "       [ 101.7615222 ,  345.65221987,  -26.7832981 , ...,  -23.82980973,\n",
       "          88.99196617,  263.86215645],\n",
       "       [ 103.65954898,  345.89429175,  -27.7931642 , ...,  -24.36187456,\n",
       "          90.27477097,  266.16744186],\n",
       "       [ 105.55757576,  346.13636364,  -28.8030303 , ...,  -24.89393939,\n",
       "          91.55757576,  268.47272727]])"
      ]
     },
     "execution_count": 180,
     "metadata": {},
     "output_type": "execute_result"
    }
   ],
   "source": [
    "x_test_filter_LR"
   ]
  },
  {
   "cell_type": "code",
   "execution_count": 181,
   "id": "e7aead93",
   "metadata": {},
   "outputs": [
    {
     "data": {
      "text/plain": [
       "(236894, 11)"
      ]
     },
     "execution_count": 181,
     "metadata": {},
     "output_type": "execute_result"
    }
   ],
   "source": [
    "x_test_filter_LR.shape"
   ]
  },
  {
   "cell_type": "code",
   "execution_count": 182,
   "id": "c714de0d",
   "metadata": {},
   "outputs": [],
   "source": [
    "x_test_filter_LR_st = StandardScaler().fit_transform(x_test_filter_LR)\n",
    "x_test_filter_LR_st = pd.DataFrame(x_test_filter_LR_st)\n",
    "y_test=pd.DataFrame(y_ts_data)"
   ]
  },
  {
   "cell_type": "code",
   "execution_count": 183,
   "id": "b16b957f",
   "metadata": {},
   "outputs": [
    {
     "data": {
      "text/plain": [
       "array([[-0.40370491, -0.97595244, -2.00170815, ...,  0.63647018,\n",
       "         0.30290783, -0.36410687],\n",
       "       [-0.39719396, -0.97539118, -2.00219745, ...,  0.65618885,\n",
       "         0.32803541, -0.35193678],\n",
       "       [-0.390683  , -0.97482991, -2.00268675, ...,  0.67590752,\n",
       "         0.35316299, -0.33976669],\n",
       "       ...,\n",
       "       [-0.08501328,  0.16063062,  0.09005449, ..., -0.76794943,\n",
       "         0.81896481,  0.56745652],\n",
       "       [-0.07198069,  0.16314566,  0.07911903, ..., -0.77399753,\n",
       "         0.82960164,  0.57752782],\n",
       "       [-0.0589481 ,  0.1656607 ,  0.06818356, ..., -0.78004564,\n",
       "         0.84023846,  0.58759912]])"
      ]
     },
     "execution_count": 183,
     "metadata": {},
     "output_type": "execute_result"
    }
   ],
   "source": [
    "x_test_filter_LR_st.values"
   ]
  },
  {
   "cell_type": "code",
   "execution_count": 184,
   "id": "430befe5",
   "metadata": {},
   "outputs": [
    {
     "data": {
      "text/plain": [
       "(236894, 11)"
      ]
     },
     "execution_count": 184,
     "metadata": {},
     "output_type": "execute_result"
    }
   ],
   "source": [
    "x_test_filter_LR_st.shape"
   ]
  },
  {
   "cell_type": "markdown",
   "id": "8c25f9da",
   "metadata": {},
   "source": [
    "Filter [0 0 0 0 0 0] from the data"
   ]
  },
  {
   "cell_type": "code",
   "execution_count": 185,
   "id": "bf3929e1",
   "metadata": {},
   "outputs": [],
   "source": [
    "x_data_filter, y_data_filter = filter_dataset(x_train_filter_LR_st.values, y_data)"
   ]
  },
  {
   "cell_type": "code",
   "execution_count": 186,
   "id": "1b7c0572",
   "metadata": {},
   "outputs": [
    {
     "data": {
      "text/plain": [
       "(132965, 20, 11)"
      ]
     },
     "execution_count": 186,
     "metadata": {},
     "output_type": "execute_result"
    }
   ],
   "source": [
    "x_data_filter.shape"
   ]
  },
  {
   "cell_type": "code",
   "execution_count": 187,
   "id": "a9f9322f",
   "metadata": {},
   "outputs": [
    {
     "data": {
      "text/plain": [
       "(132965, 6)"
      ]
     },
     "execution_count": 187,
     "metadata": {},
     "output_type": "execute_result"
    }
   ],
   "source": [
    "y_data_filter.shape"
   ]
  },
  {
   "cell_type": "code",
   "execution_count": 188,
   "id": "7a96de45",
   "metadata": {},
   "outputs": [],
   "source": [
    "x_ts_data_filter, y_ts_data_filter = filter_dataset(x_test_filter_LR_st.values, y_ts_data)"
   ]
  },
  {
   "cell_type": "code",
   "execution_count": 189,
   "id": "bb3a0efd",
   "metadata": {},
   "outputs": [
    {
     "data": {
      "text/plain": [
       "(45838, 20, 11)"
      ]
     },
     "execution_count": 189,
     "metadata": {},
     "output_type": "execute_result"
    }
   ],
   "source": [
    "x_ts_data_filter.shape"
   ]
  },
  {
   "cell_type": "code",
   "execution_count": 190,
   "id": "be8b7e3e",
   "metadata": {},
   "outputs": [
    {
     "data": {
      "text/plain": [
       "(45838, 6)"
      ]
     },
     "execution_count": 190,
     "metadata": {},
     "output_type": "execute_result"
    }
   ],
   "source": [
    "y_ts_data_filter.shape"
   ]
  },
  {
   "cell_type": "markdown",
   "id": "7c5aee29",
   "metadata": {},
   "source": [
    "Shuffle"
   ]
  },
  {
   "cell_type": "code",
   "execution_count": 191,
   "id": "d5fbbfae",
   "metadata": {},
   "outputs": [],
   "source": [
    "x_data_filter, y_data_filter = utils.shuffle(x_data_filter, y_data_filter)"
   ]
  },
  {
   "cell_type": "code",
   "execution_count": 192,
   "id": "20891ec4",
   "metadata": {},
   "outputs": [
    {
     "data": {
      "text/plain": [
       "(132965, 20, 11)"
      ]
     },
     "execution_count": 192,
     "metadata": {},
     "output_type": "execute_result"
    }
   ],
   "source": [
    "x_data_filter.shape"
   ]
  },
  {
   "cell_type": "code",
   "execution_count": 193,
   "id": "6e3f8700",
   "metadata": {},
   "outputs": [
    {
     "data": {
      "text/plain": [
       "(132965, 6)"
      ]
     },
     "execution_count": 193,
     "metadata": {},
     "output_type": "execute_result"
    }
   ],
   "source": [
    "y_data_filter.shape"
   ]
  },
  {
   "cell_type": "markdown",
   "id": "68e8e89a",
   "metadata": {},
   "source": [
    "Model"
   ]
  },
  {
   "cell_type": "code",
   "execution_count": 194,
   "id": "4216e4eb",
   "metadata": {},
   "outputs": [
    {
     "name": "stderr",
     "output_type": "stream",
     "text": [
      "C:\\Users\\User\\anaconda3\\envs\\modelop_gpu\\lib\\site-packages\\tensorflow\\python\\keras\\optimizer_v2\\optimizer_v2.py:374: UserWarning: The `lr` argument is deprecated, use `learning_rate` instead.\n",
      "  warnings.warn(\n"
     ]
    },
    {
     "name": "stdout",
     "output_type": "stream",
     "text": [
      "Model: \"sequential_8\"\n",
      "_________________________________________________________________\n",
      "Layer (type)                 Output Shape              Param #   \n",
      "=================================================================\n",
      "lstm_32 (LSTM)               (None, 20, 128)           71680     \n",
      "_________________________________________________________________\n",
      "dropout_24 (Dropout)         (None, 20, 128)           0         \n",
      "_________________________________________________________________\n",
      "lstm_33 (LSTM)               (None, 20, 128)           131584    \n",
      "_________________________________________________________________\n",
      "dropout_25 (Dropout)         (None, 20, 128)           0         \n",
      "_________________________________________________________________\n",
      "lstm_34 (LSTM)               (None, 20, 128)           131584    \n",
      "_________________________________________________________________\n",
      "dropout_26 (Dropout)         (None, 20, 128)           0         \n",
      "_________________________________________________________________\n",
      "lstm_35 (LSTM)               (None, 128)               131584    \n",
      "_________________________________________________________________\n",
      "dense_16 (Dense)             (None, 32)                4128      \n",
      "_________________________________________________________________\n",
      "dense_17 (Dense)             (None, 6)                 198       \n",
      "=================================================================\n",
      "Total params: 470,758\n",
      "Trainable params: 470,758\n",
      "Non-trainable params: 0\n",
      "_________________________________________________________________\n",
      "Epoch 1/30\n",
      "1870/1870 [==============================] - 34s 16ms/step - loss: 0.2062 - accuracy: 0.6831 - val_loss: 0.0853 - val_accuracy: 0.8448\n",
      "Epoch 2/30\n",
      "1870/1870 [==============================] - 30s 16ms/step - loss: 0.0764 - accuracy: 0.8384 - val_loss: 0.0570 - val_accuracy: 0.8479\n",
      "Epoch 3/30\n",
      "1870/1870 [==============================] - 31s 16ms/step - loss: 0.0563 - accuracy: 0.8483 - val_loss: 0.0400 - val_accuracy: 0.8556\n",
      "Epoch 4/30\n",
      "1870/1870 [==============================] - 30s 16ms/step - loss: 0.0476 - accuracy: 0.8551 - val_loss: 0.0372 - val_accuracy: 0.8605\n",
      "Epoch 5/30\n",
      "1870/1870 [==============================] - 31s 16ms/step - loss: 0.0422 - accuracy: 0.8561 - val_loss: 0.0341 - val_accuracy: 0.8485\n",
      "Epoch 6/30\n",
      "1870/1870 [==============================] - 31s 17ms/step - loss: 0.0380 - accuracy: 0.8594 - val_loss: 0.0283 - val_accuracy: 0.8613\n",
      "Epoch 7/30\n",
      "1870/1870 [==============================] - 31s 17ms/step - loss: 0.0358 - accuracy: 0.8577 - val_loss: 0.0293 - val_accuracy: 0.8625\n",
      "Epoch 8/30\n",
      "1870/1870 [==============================] - 31s 17ms/step - loss: 0.0329 - accuracy: 0.8585 - val_loss: 0.0269 - val_accuracy: 0.8640\n",
      "Epoch 9/30\n",
      "1870/1870 [==============================] - 31s 17ms/step - loss: 0.0310 - accuracy: 0.8619 - val_loss: 0.0266 - val_accuracy: 0.8621\n",
      "Epoch 10/30\n",
      "1870/1870 [==============================] - 31s 16ms/step - loss: 0.0282 - accuracy: 0.8614 - val_loss: 0.0209 - val_accuracy: 0.8612\n",
      "Epoch 11/30\n",
      "1870/1870 [==============================] - 32s 17ms/step - loss: 0.0276 - accuracy: 0.8578 - val_loss: 0.0208 - val_accuracy: 0.8648\n",
      "Epoch 12/30\n",
      "1870/1870 [==============================] - 31s 17ms/step - loss: 0.0273 - accuracy: 0.8590 - val_loss: 0.0208 - val_accuracy: 0.8653\n",
      "Epoch 13/30\n",
      "1870/1870 [==============================] - 32s 17ms/step - loss: 0.0254 - accuracy: 0.8676 - val_loss: 0.0213 - val_accuracy: 0.8628\n",
      "Epoch 14/30\n",
      "1870/1870 [==============================] - 31s 16ms/step - loss: 0.0245 - accuracy: 0.8678 - val_loss: 0.0324 - val_accuracy: 0.8637\n",
      "Epoch 15/30\n",
      "1870/1870 [==============================] - 31s 16ms/step - loss: 0.0226 - accuracy: 0.8676 - val_loss: 0.0211 - val_accuracy: 0.8593\n",
      "Epoch 16/30\n",
      "1870/1870 [==============================] - 31s 16ms/step - loss: 0.0231 - accuracy: 0.8661 - val_loss: 0.0161 - val_accuracy: 0.8679\n",
      "Epoch 17/30\n",
      "1870/1870 [==============================] - 30s 16ms/step - loss: 0.0215 - accuracy: 0.8704 - val_loss: 0.0175 - val_accuracy: 0.8754\n",
      "Epoch 18/30\n",
      "1870/1870 [==============================] - 31s 16ms/step - loss: 0.0218 - accuracy: 0.8736 - val_loss: 0.0163 - val_accuracy: 0.8734\n",
      "Epoch 19/30\n",
      "1870/1870 [==============================] - 30s 16ms/step - loss: 0.0206 - accuracy: 0.8714 - val_loss: 0.0152 - val_accuracy: 0.8635\n",
      "Epoch 20/30\n",
      "1870/1870 [==============================] - 31s 16ms/step - loss: 0.0188 - accuracy: 0.8683 - val_loss: 0.0166 - val_accuracy: 0.8649\n",
      "Epoch 21/30\n",
      "1870/1870 [==============================] - 31s 17ms/step - loss: 0.0193 - accuracy: 0.8646 - val_loss: 0.0162 - val_accuracy: 0.8681\n",
      "Epoch 22/30\n",
      "1870/1870 [==============================] - 31s 17ms/step - loss: 0.0194 - accuracy: 0.8703 - val_loss: 0.0143 - val_accuracy: 0.8634\n",
      "Epoch 23/30\n",
      "1870/1870 [==============================] - 31s 17ms/step - loss: 0.0188 - accuracy: 0.8715 - val_loss: 0.0139 - val_accuracy: 0.8735\n",
      "Epoch 24/30\n",
      "1870/1870 [==============================] - 31s 16ms/step - loss: 0.0178 - accuracy: 0.8749 - val_loss: 0.0139 - val_accuracy: 0.8726\n",
      "Epoch 25/30\n",
      "1870/1870 [==============================] - 30s 16ms/step - loss: 0.0171 - accuracy: 0.8759 - val_loss: 0.0143 - val_accuracy: 0.8572\n",
      "Epoch 26/30\n",
      "1870/1870 [==============================] - 30s 16ms/step - loss: 0.0174 - accuracy: 0.8704 - val_loss: 0.0153 - val_accuracy: 0.8765\n",
      "Epoch 27/30\n",
      "1870/1870 [==============================] - 31s 17ms/step - loss: 0.0176 - accuracy: 0.8722 - val_loss: 0.0137 - val_accuracy: 0.8725\n",
      "Epoch 28/30\n",
      "1870/1870 [==============================] - 31s 16ms/step - loss: 0.0163 - accuracy: 0.8766 - val_loss: 0.0134 - val_accuracy: 0.8837\n",
      "Epoch 29/30\n",
      "1870/1870 [==============================] - 31s 17ms/step - loss: 0.0165 - accuracy: 0.8725 - val_loss: 0.0159 - val_accuracy: 0.8713\n",
      "Epoch 30/30\n",
      "1870/1870 [==============================] - 31s 16ms/step - loss: 0.0164 - accuracy: 0.8737 - val_loss: 0.0130 - val_accuracy: 0.8741\n"
     ]
    },
    {
     "data": {
      "text/plain": [
       "<tensorflow.python.keras.callbacks.History at 0x2a0dffb6040>"
      ]
     },
     "execution_count": 194,
     "metadata": {},
     "output_type": "execute_result"
    }
   ],
   "source": [
    "model_with_LG_standard = LSTM_model(11)\n",
    "model_with_LG_standard.fit(x_data_filter, y_data_filter, epochs=30, batch_size=64, validation_split=0.1)"
   ]
  },
  {
   "cell_type": "code",
   "execution_count": 195,
   "id": "ab842020",
   "metadata": {},
   "outputs": [],
   "source": [
    "model_with_LG_standard.save(\"modelop/LSTM/LSTM_with_LR50_standard.h5\")"
   ]
  },
  {
   "cell_type": "markdown",
   "id": "c54fd66a",
   "metadata": {},
   "source": [
    "Evaluate"
   ]
  },
  {
   "cell_type": "code",
   "execution_count": 196,
   "id": "450b6da8",
   "metadata": {},
   "outputs": [
    {
     "name": "stdout",
     "output_type": "stream",
     "text": [
      "Model: \"sequential_8\"\n",
      "_________________________________________________________________\n",
      "Layer (type)                 Output Shape              Param #   \n",
      "=================================================================\n",
      "lstm_32 (LSTM)               (None, 20, 128)           71680     \n",
      "_________________________________________________________________\n",
      "dropout_24 (Dropout)         (None, 20, 128)           0         \n",
      "_________________________________________________________________\n",
      "lstm_33 (LSTM)               (None, 20, 128)           131584    \n",
      "_________________________________________________________________\n",
      "dropout_25 (Dropout)         (None, 20, 128)           0         \n",
      "_________________________________________________________________\n",
      "lstm_34 (LSTM)               (None, 20, 128)           131584    \n",
      "_________________________________________________________________\n",
      "dropout_26 (Dropout)         (None, 20, 128)           0         \n",
      "_________________________________________________________________\n",
      "lstm_35 (LSTM)               (None, 128)               131584    \n",
      "_________________________________________________________________\n",
      "dense_16 (Dense)             (None, 32)                4128      \n",
      "_________________________________________________________________\n",
      "dense_17 (Dense)             (None, 6)                 198       \n",
      "=================================================================\n",
      "Total params: 470,758\n",
      "Trainable params: 470,758\n",
      "Non-trainable params: 0\n",
      "_________________________________________________________________\n"
     ]
    }
   ],
   "source": [
    "model = load_model(\"modelop/LSTM/LSTM_with_LR50_standard.h5\")\n",
    "model.summary()"
   ]
  },
  {
   "cell_type": "code",
   "execution_count": 197,
   "id": "2034c688",
   "metadata": {},
   "outputs": [
    {
     "name": "stdout",
     "output_type": "stream",
     "text": [
      "1433/1433 [==============================] - 14s 9ms/step - loss: 1.4945 - accuracy: 0.5181\n"
     ]
    },
    {
     "data": {
      "text/plain": [
       "[1.494529366493225, 0.5181072354316711]"
      ]
     },
     "execution_count": 197,
     "metadata": {},
     "output_type": "execute_result"
    }
   ],
   "source": [
    "model.evaluate(x_ts_data_filter, y_ts_data_filter)"
   ]
  },
  {
   "cell_type": "markdown",
   "id": "057096f6",
   "metadata": {},
   "source": [
    "# With linear regression and standardization (segment length = 100)"
   ]
  },
  {
   "cell_type": "markdown",
   "id": "ca532950",
   "metadata": {},
   "source": [
    "Training data with Linear regression and standardization"
   ]
  },
  {
   "cell_type": "code",
   "execution_count": 28,
   "id": "a9b18046",
   "metadata": {},
   "outputs": [],
   "source": [
    "x_train_filter_LR = linearregression_allsignal(x_data, 100)"
   ]
  },
  {
   "cell_type": "code",
   "execution_count": 29,
   "id": "27806cb7",
   "metadata": {},
   "outputs": [
    {
     "data": {
      "text/plain": [
       "array([[-188.5229703 ,  198.40811881,  186.82851485, ...,  428.25267327,\n",
       "         239.16079208,  260.28475248],\n",
       "       [-188.27927393,  198.67987399,  186.4970297 , ...,  427.80534653,\n",
       "         238.87794779,  259.67192919],\n",
       "       [-188.03557756,  198.95162916,  186.16554455, ...,  427.3580198 ,\n",
       "         238.59510351,  259.05910591],\n",
       "       ...,\n",
       "       [-273.28774171,  208.55591684, -243.63119943, ...,  -71.28556127,\n",
       "        -125.75016736, -111.48866744],\n",
       "       [-274.99482942,  207.64994358, -245.81374443, ...,  -71.66782702,\n",
       "        -126.29252338, -112.11910181],\n",
       "       [-276.70191713,  206.74397032, -247.99628942, ...,  -72.05009276,\n",
       "        -126.83487941, -112.74953618]])"
      ]
     },
     "execution_count": 29,
     "metadata": {},
     "output_type": "execute_result"
    }
   ],
   "source": [
    "x_train_filter_LR"
   ]
  },
  {
   "cell_type": "code",
   "execution_count": 30,
   "id": "b361e172",
   "metadata": {},
   "outputs": [
    {
     "data": {
      "text/plain": [
       "(1185498, 11)"
      ]
     },
     "execution_count": 30,
     "metadata": {},
     "output_type": "execute_result"
    }
   ],
   "source": [
    "x_train_filter_LR.shape"
   ]
  },
  {
   "cell_type": "code",
   "execution_count": 31,
   "id": "5d3718d9",
   "metadata": {},
   "outputs": [],
   "source": [
    "x_train_filter_LR_st = StandardScaler().fit_transform(x_train_filter_LR)\n",
    "x_train_filter_LR_st = pd.DataFrame(x_train_filter_LR_st)\n",
    "y=pd.DataFrame(y_data)"
   ]
  },
  {
   "cell_type": "code",
   "execution_count": 32,
   "id": "1035ce92",
   "metadata": {},
   "outputs": [
    {
     "data": {
      "text/plain": [
       "array([[-1.01892734, -0.69241475,  2.31338299, ...,  2.06223554,\n",
       "         1.25000457,  0.19893308],\n",
       "       [-1.01805151, -0.69002615,  2.30994682, ...,  2.05923224,\n",
       "         1.24827592,  0.19698899],\n",
       "       [-1.01717567, -0.68763755,  2.30651065, ...,  2.05622894,\n",
       "         1.24654726,  0.1950449 ],\n",
       "       ...,\n",
       "       [-1.32356783, -0.60322045, -2.14875512, ..., -1.29160432,\n",
       "        -0.98021489, -0.98046252],\n",
       "       [-1.32970302, -0.61118352, -2.17137934, ..., -1.29417081,\n",
       "        -0.9835296 , -0.98246248],\n",
       "       [-1.33583822, -0.61914659, -2.19400357, ..., -1.2967373 ,\n",
       "        -0.9868443 , -0.98446244]])"
      ]
     },
     "execution_count": 32,
     "metadata": {},
     "output_type": "execute_result"
    }
   ],
   "source": [
    "x_train_filter_LR_st.values"
   ]
  },
  {
   "cell_type": "code",
   "execution_count": 33,
   "id": "fc6719bb",
   "metadata": {},
   "outputs": [
    {
     "data": {
      "text/plain": [
       "(1185498, 11)"
      ]
     },
     "execution_count": 33,
     "metadata": {},
     "output_type": "execute_result"
    }
   ],
   "source": [
    "x_train_filter_LR_st.shape"
   ]
  },
  {
   "cell_type": "markdown",
   "id": "d3832012",
   "metadata": {},
   "source": [
    "Testing data with Linear regression and standardization"
   ]
  },
  {
   "cell_type": "code",
   "execution_count": 34,
   "id": "bc7f4502",
   "metadata": {},
   "outputs": [],
   "source": [
    "x_test_filter_LR = linearregression_allsignal(x_ts_data, 100)"
   ]
  },
  {
   "cell_type": "code",
   "execution_count": 35,
   "id": "9c89d385",
   "metadata": {},
   "outputs": [
    {
     "data": {
      "text/plain": [
       "array([[  90.58653465,  243.36019802, -225.88316832, ...,  134.99168317,\n",
       "          95.65306931,  120.79584158],\n",
       "       [  89.94155416,  243.24706271, -225.74088209, ...,  134.97791179,\n",
       "          95.38735074,  120.26138014],\n",
       "       [  89.29657366,  243.13392739, -225.59859586, ...,  134.96414041,\n",
       "          95.12163216,  119.72691869],\n",
       "       ...,\n",
       "       [  73.1834122 ,  342.38908355,  -13.72867103, ...,  -11.61580031,\n",
       "          71.71336199,  219.15663042],\n",
       "       [  73.68621898,  342.57808041,  -13.90330528, ...,  -11.53544775,\n",
       "          71.99833833,  219.07719539],\n",
       "       [  74.18902576,  342.76707727,  -14.07793953, ...,  -11.45509518,\n",
       "          72.28331467,  218.99776036]])"
      ]
     },
     "execution_count": 35,
     "metadata": {},
     "output_type": "execute_result"
    }
   ],
   "source": [
    "x_test_filter_LR"
   ]
  },
  {
   "cell_type": "code",
   "execution_count": 36,
   "id": "12a1df63",
   "metadata": {},
   "outputs": [
    {
     "data": {
      "text/plain": [
       "(236894, 11)"
      ]
     },
     "execution_count": 36,
     "metadata": {},
     "output_type": "execute_result"
    }
   ],
   "source": [
    "x_test_filter_LR.shape"
   ]
  },
  {
   "cell_type": "code",
   "execution_count": 37,
   "id": "c47a0c82",
   "metadata": {},
   "outputs": [],
   "source": [
    "x_test_filter_LR_st = StandardScaler().fit_transform(x_test_filter_LR)\n",
    "x_test_filter_LR_st = pd.DataFrame(x_test_filter_LR_st)\n",
    "y_test=pd.DataFrame(y_ts_data)"
   ]
  },
  {
   "cell_type": "code",
   "execution_count": 38,
   "id": "1ad9753b",
   "metadata": {},
   "outputs": [
    {
     "data": {
      "text/plain": [
       "array([[-0.16594993, -0.91630073, -2.0822818 , ...,  1.0647969 ,\n",
       "         0.89723834, -0.05834776],\n",
       "       [-0.17049375, -0.91749461, -2.08072884, ...,  1.06463623,\n",
       "         0.89497697, -0.06071426],\n",
       "       [-0.17503757, -0.91868848, -2.07917587, ...,  1.06447555,\n",
       "         0.8927156 , -0.06308076],\n",
       "       ...,\n",
       "       [-0.28855305,  0.12871598,  0.23325053, ..., -0.64571696,\n",
       "         0.69350208,  0.37717656],\n",
       "       [-0.28501083,  0.1307104 ,  0.23134451, ..., -0.64477946,\n",
       "         0.69592734,  0.37682483],\n",
       "       [-0.28146861,  0.13270481,  0.22943848, ..., -0.64384196,\n",
       "         0.6983526 ,  0.37647311]])"
      ]
     },
     "execution_count": 38,
     "metadata": {},
     "output_type": "execute_result"
    }
   ],
   "source": [
    "x_test_filter_LR_st.values"
   ]
  },
  {
   "cell_type": "code",
   "execution_count": 39,
   "id": "fcbd49a6",
   "metadata": {},
   "outputs": [
    {
     "data": {
      "text/plain": [
       "(236894, 11)"
      ]
     },
     "execution_count": 39,
     "metadata": {},
     "output_type": "execute_result"
    }
   ],
   "source": [
    "x_test_filter_LR_st.shape"
   ]
  },
  {
   "cell_type": "markdown",
   "id": "36b3607d",
   "metadata": {},
   "source": [
    "Filter [0 0 0 0 0 0] from the data"
   ]
  },
  {
   "cell_type": "code",
   "execution_count": 40,
   "id": "df59d4a0",
   "metadata": {},
   "outputs": [],
   "source": [
    "x_data_filter, y_data_filter = filter_dataset(x_train_filter_LR_st.values, y_data)"
   ]
  },
  {
   "cell_type": "code",
   "execution_count": 41,
   "id": "8f173900",
   "metadata": {},
   "outputs": [
    {
     "data": {
      "text/plain": [
       "(132965, 20, 11)"
      ]
     },
     "execution_count": 41,
     "metadata": {},
     "output_type": "execute_result"
    }
   ],
   "source": [
    "x_data_filter.shape"
   ]
  },
  {
   "cell_type": "code",
   "execution_count": 42,
   "id": "678e4a3f",
   "metadata": {},
   "outputs": [
    {
     "data": {
      "text/plain": [
       "(132965, 6)"
      ]
     },
     "execution_count": 42,
     "metadata": {},
     "output_type": "execute_result"
    }
   ],
   "source": [
    "y_data_filter.shape"
   ]
  },
  {
   "cell_type": "code",
   "execution_count": 43,
   "id": "f8d72b79",
   "metadata": {},
   "outputs": [],
   "source": [
    "x_ts_data_filter, y_ts_data_filter = filter_dataset(x_test_filter_LR_st.values, y_ts_data)"
   ]
  },
  {
   "cell_type": "code",
   "execution_count": 44,
   "id": "3b099394",
   "metadata": {},
   "outputs": [
    {
     "data": {
      "text/plain": [
       "(45838, 20, 11)"
      ]
     },
     "execution_count": 44,
     "metadata": {},
     "output_type": "execute_result"
    }
   ],
   "source": [
    "x_ts_data_filter.shape"
   ]
  },
  {
   "cell_type": "code",
   "execution_count": 45,
   "id": "c1d94045",
   "metadata": {},
   "outputs": [
    {
     "data": {
      "text/plain": [
       "(45838, 6)"
      ]
     },
     "execution_count": 45,
     "metadata": {},
     "output_type": "execute_result"
    }
   ],
   "source": [
    "y_ts_data_filter.shape"
   ]
  },
  {
   "cell_type": "markdown",
   "id": "214692a7",
   "metadata": {},
   "source": [
    "Shuffle"
   ]
  },
  {
   "cell_type": "code",
   "execution_count": 46,
   "id": "6dc4471f",
   "metadata": {},
   "outputs": [],
   "source": [
    "x_data_filter, y_data_filter = utils.shuffle(x_data_filter, y_data_filter)"
   ]
  },
  {
   "cell_type": "code",
   "execution_count": 47,
   "id": "4409e964",
   "metadata": {},
   "outputs": [
    {
     "data": {
      "text/plain": [
       "(132965, 20, 11)"
      ]
     },
     "execution_count": 47,
     "metadata": {},
     "output_type": "execute_result"
    }
   ],
   "source": [
    "x_data_filter.shape"
   ]
  },
  {
   "cell_type": "code",
   "execution_count": 48,
   "id": "ca26eedf",
   "metadata": {},
   "outputs": [
    {
     "data": {
      "text/plain": [
       "(132965, 6)"
      ]
     },
     "execution_count": 48,
     "metadata": {},
     "output_type": "execute_result"
    }
   ],
   "source": [
    "y_data_filter.shape"
   ]
  },
  {
   "cell_type": "markdown",
   "id": "00b5565c",
   "metadata": {},
   "source": [
    "Model"
   ]
  },
  {
   "cell_type": "code",
   "execution_count": 49,
   "id": "88e9c41c",
   "metadata": {},
   "outputs": [
    {
     "name": "stderr",
     "output_type": "stream",
     "text": [
      "C:\\Users\\User\\anaconda3\\envs\\modelop_gpu\\lib\\site-packages\\tensorflow\\python\\keras\\optimizer_v2\\optimizer_v2.py:374: UserWarning: The `lr` argument is deprecated, use `learning_rate` instead.\n",
      "  warnings.warn(\n"
     ]
    },
    {
     "name": "stdout",
     "output_type": "stream",
     "text": [
      "Model: \"sequential\"\n",
      "_________________________________________________________________\n",
      "Layer (type)                 Output Shape              Param #   \n",
      "=================================================================\n",
      "lstm (LSTM)                  (None, 20, 128)           71680     \n",
      "_________________________________________________________________\n",
      "dropout (Dropout)            (None, 20, 128)           0         \n",
      "_________________________________________________________________\n",
      "lstm_1 (LSTM)                (None, 20, 128)           131584    \n",
      "_________________________________________________________________\n",
      "dropout_1 (Dropout)          (None, 20, 128)           0         \n",
      "_________________________________________________________________\n",
      "lstm_2 (LSTM)                (None, 20, 128)           131584    \n",
      "_________________________________________________________________\n",
      "dropout_2 (Dropout)          (None, 20, 128)           0         \n",
      "_________________________________________________________________\n",
      "lstm_3 (LSTM)                (None, 128)               131584    \n",
      "_________________________________________________________________\n",
      "dense (Dense)                (None, 32)                4128      \n",
      "_________________________________________________________________\n",
      "dense_1 (Dense)              (None, 6)                 198       \n",
      "=================================================================\n",
      "Total params: 470,758\n",
      "Trainable params: 470,758\n",
      "Non-trainable params: 0\n",
      "_________________________________________________________________\n",
      "Epoch 1/30\n",
      "1870/1870 [==============================] - 36s 15ms/step - loss: 0.2369 - accuracy: 0.6471 - val_loss: 0.1210 - val_accuracy: 0.7948\n",
      "Epoch 2/30\n",
      "1870/1870 [==============================] - 29s 16ms/step - loss: 0.0885 - accuracy: 0.8276 - val_loss: 0.0603 - val_accuracy: 0.8279\n",
      "Epoch 3/30\n",
      "1870/1870 [==============================] - 28s 15ms/step - loss: 0.0645 - accuracy: 0.8458 - val_loss: 0.0442 - val_accuracy: 0.8640\n",
      "Epoch 4/30\n",
      "1870/1870 [==============================] - 25s 13ms/step - loss: 0.0538 - accuracy: 0.8475 - val_loss: 0.0393 - val_accuracy: 0.8582\n",
      "Epoch 5/30\n",
      "1870/1870 [==============================] - 25s 13ms/step - loss: 0.0473 - accuracy: 0.8499 - val_loss: 0.0335 - val_accuracy: 0.8556\n",
      "Epoch 6/30\n",
      "1870/1870 [==============================] - 25s 13ms/step - loss: 0.0425 - accuracy: 0.8551 - val_loss: 0.0379 - val_accuracy: 0.8483\n",
      "Epoch 7/30\n",
      "1870/1870 [==============================] - 25s 13ms/step - loss: 0.0396 - accuracy: 0.8546 - val_loss: 0.0300 - val_accuracy: 0.8649\n",
      "Epoch 8/30\n",
      "1870/1870 [==============================] - 26s 14ms/step - loss: 0.0366 - accuracy: 0.8538 - val_loss: 0.0261 - val_accuracy: 0.8549\n",
      "Epoch 9/30\n",
      "1870/1870 [==============================] - 26s 14ms/step - loss: 0.0337 - accuracy: 0.8587 - val_loss: 0.0235 - val_accuracy: 0.8661\n",
      "Epoch 10/30\n",
      "1870/1870 [==============================] - 26s 14ms/step - loss: 0.0320 - accuracy: 0.8622 - val_loss: 0.0239 - val_accuracy: 0.8679\n",
      "Epoch 11/30\n",
      "1870/1870 [==============================] - 25s 14ms/step - loss: 0.0303 - accuracy: 0.8612 - val_loss: 0.0232 - val_accuracy: 0.8715\n",
      "Epoch 12/30\n",
      "1870/1870 [==============================] - 26s 14ms/step - loss: 0.0300 - accuracy: 0.8608 - val_loss: 0.0237 - val_accuracy: 0.8650\n",
      "Epoch 13/30\n",
      "1870/1870 [==============================] - 25s 14ms/step - loss: 0.0270 - accuracy: 0.8613 - val_loss: 0.0241 - val_accuracy: 0.8590\n",
      "Epoch 14/30\n",
      "1870/1870 [==============================] - 26s 14ms/step - loss: 0.0265 - accuracy: 0.8647 - val_loss: 0.0223 - val_accuracy: 0.8688\n",
      "Epoch 15/30\n",
      "1870/1870 [==============================] - 26s 14ms/step - loss: 0.0256 - accuracy: 0.8656 - val_loss: 0.0192 - val_accuracy: 0.8728\n",
      "Epoch 16/30\n",
      "1870/1870 [==============================] - 25s 13ms/step - loss: 0.0260 - accuracy: 0.8658 - val_loss: 0.0201 - val_accuracy: 0.8674\n",
      "Epoch 17/30\n",
      "1870/1870 [==============================] - 26s 14ms/step - loss: 0.0236 - accuracy: 0.8656 - val_loss: 0.0189 - val_accuracy: 0.8676\n",
      "Epoch 18/30\n",
      "1870/1870 [==============================] - 26s 14ms/step - loss: 0.0247 - accuracy: 0.8660 - val_loss: 0.0192 - val_accuracy: 0.8862\n",
      "Epoch 19/30\n",
      "1870/1870 [==============================] - 26s 14ms/step - loss: 0.0231 - accuracy: 0.8690 - val_loss: 0.0183 - val_accuracy: 0.8707\n",
      "Epoch 20/30\n",
      "1870/1870 [==============================] - 26s 14ms/step - loss: 0.0222 - accuracy: 0.8701 - val_loss: 0.0173 - val_accuracy: 0.8758\n",
      "Epoch 21/30\n",
      "1870/1870 [==============================] - 26s 14ms/step - loss: 0.0239 - accuracy: 0.8716 - val_loss: 0.0205 - val_accuracy: 0.8806\n",
      "Epoch 22/30\n",
      "1870/1870 [==============================] - 26s 14ms/step - loss: 0.0215 - accuracy: 0.8678 - val_loss: 0.0176 - val_accuracy: 0.8755\n",
      "Epoch 23/30\n",
      "1870/1870 [==============================] - 26s 14ms/step - loss: 0.0211 - accuracy: 0.8705 - val_loss: 0.0206 - val_accuracy: 0.8693\n",
      "Epoch 24/30\n",
      "1870/1870 [==============================] - 26s 14ms/step - loss: 0.0219 - accuracy: 0.8729 - val_loss: 0.0185 - val_accuracy: 0.8775\n",
      "Epoch 25/30\n",
      "1870/1870 [==============================] - 26s 14ms/step - loss: 0.0196 - accuracy: 0.8777 - val_loss: 0.0164 - val_accuracy: 0.8763\n",
      "Epoch 26/30\n",
      "1870/1870 [==============================] - 27s 14ms/step - loss: 0.0208 - accuracy: 0.8739 - val_loss: 0.0154 - val_accuracy: 0.8716\n",
      "Epoch 27/30\n",
      "1870/1870 [==============================] - 26s 14ms/step - loss: 0.0206 - accuracy: 0.8718 - val_loss: 0.0262 - val_accuracy: 0.9022\n",
      "Epoch 28/30\n",
      "1870/1870 [==============================] - 26s 14ms/step - loss: 0.0191 - accuracy: 0.8781 - val_loss: 0.0174 - val_accuracy: 0.8813\n",
      "Epoch 29/30\n",
      "1870/1870 [==============================] - 26s 14ms/step - loss: 0.0193 - accuracy: 0.8780 - val_loss: 0.0161 - val_accuracy: 0.8834\n",
      "Epoch 30/30\n",
      "1870/1870 [==============================] - 27s 14ms/step - loss: 0.0192 - accuracy: 0.8791 - val_loss: 0.0161 - val_accuracy: 0.8716\n"
     ]
    },
    {
     "data": {
      "text/plain": [
       "<tensorflow.python.keras.callbacks.History at 0x25aa54b2f70>"
      ]
     },
     "execution_count": 49,
     "metadata": {},
     "output_type": "execute_result"
    }
   ],
   "source": [
    "model_with_LG_standard = LSTM_model(11)\n",
    "model_with_LG_standard.fit(x_data_filter, y_data_filter, epochs=30, batch_size=64, validation_split=0.1)"
   ]
  },
  {
   "cell_type": "code",
   "execution_count": 50,
   "id": "ac4c6a16",
   "metadata": {},
   "outputs": [],
   "source": [
    "model_with_LG_standard.save(\"modelop/LSTM/LSTM_with_LR100_standard.h5\")"
   ]
  },
  {
   "cell_type": "markdown",
   "id": "73e435cf",
   "metadata": {},
   "source": [
    "Evaluate"
   ]
  },
  {
   "cell_type": "code",
   "execution_count": 51,
   "id": "1e155d6d",
   "metadata": {},
   "outputs": [
    {
     "name": "stdout",
     "output_type": "stream",
     "text": [
      "Model: \"sequential\"\n",
      "_________________________________________________________________\n",
      "Layer (type)                 Output Shape              Param #   \n",
      "=================================================================\n",
      "lstm (LSTM)                  (None, 20, 128)           71680     \n",
      "_________________________________________________________________\n",
      "dropout (Dropout)            (None, 20, 128)           0         \n",
      "_________________________________________________________________\n",
      "lstm_1 (LSTM)                (None, 20, 128)           131584    \n",
      "_________________________________________________________________\n",
      "dropout_1 (Dropout)          (None, 20, 128)           0         \n",
      "_________________________________________________________________\n",
      "lstm_2 (LSTM)                (None, 20, 128)           131584    \n",
      "_________________________________________________________________\n",
      "dropout_2 (Dropout)          (None, 20, 128)           0         \n",
      "_________________________________________________________________\n",
      "lstm_3 (LSTM)                (None, 128)               131584    \n",
      "_________________________________________________________________\n",
      "dense (Dense)                (None, 32)                4128      \n",
      "_________________________________________________________________\n",
      "dense_1 (Dense)              (None, 6)                 198       \n",
      "=================================================================\n",
      "Total params: 470,758\n",
      "Trainable params: 470,758\n",
      "Non-trainable params: 0\n",
      "_________________________________________________________________\n"
     ]
    }
   ],
   "source": [
    "model = load_model(\"modelop/LSTM/LSTM_with_LR100_standard.h5\")\n",
    "model.summary()"
   ]
  },
  {
   "cell_type": "code",
   "execution_count": 52,
   "id": "09493fe6",
   "metadata": {},
   "outputs": [
    {
     "name": "stdout",
     "output_type": "stream",
     "text": [
      "1433/1433 [==============================] - 12s 7ms/step - loss: 1.5650 - accuracy: 0.4998\n"
     ]
    },
    {
     "data": {
      "text/plain": [
       "[1.5650213956832886, 0.49984729290008545]"
      ]
     },
     "execution_count": 52,
     "metadata": {},
     "output_type": "execute_result"
    }
   ],
   "source": [
    "model.evaluate(x_ts_data_filter, y_ts_data_filter)"
   ]
  },
  {
   "cell_type": "markdown",
   "id": "f6659498",
   "metadata": {},
   "source": [
    "# With lowpass filter 、Polyregression and standardization (segment length = 100)"
   ]
  },
  {
   "cell_type": "markdown",
   "id": "b4e9e2e4",
   "metadata": {},
   "source": [
    "Training data with filter, Polyregression and standardization"
   ]
  },
  {
   "cell_type": "code",
   "execution_count": 53,
   "id": "456d25a6",
   "metadata": {},
   "outputs": [],
   "source": [
    "def polyregression_seg(signal):\n",
    "    y = signal\n",
    "    X = np.arange(0, len(signal), 1)\n",
    "    poly = PolynomialFeatures(degree = 2, include_bias=False)\n",
    "    X_poly = poly.fit_transform(X.reshape(-1, 1))\n",
    "\n",
    "    poly.fit(X_poly, y)\n",
    "    lin2 = LinearRegression()\n",
    "    lin2.fit(X_poly, y)\n",
    "    yfit = lin2.predict(X_poly)\n",
    "    \n",
    "    return yfit\n",
    "\n",
    "def polyregression_allsignal(signal, seg_length):\n",
    "    new_signal = []\n",
    "    for i in range((len(signal)//seg_length)+1):\n",
    "        if (i+1)*seg_length<=len(signal):\n",
    "            new_signal += polyregression_seg(signal[i*seg_length:(i+1)*seg_length]).tolist()\n",
    "        else:\n",
    "            new_signal += polyregression_seg(signal[i*seg_length:len(signal)]).tolist()\n",
    "    \n",
    "    return np.asarray(new_signal)"
   ]
  },
  {
   "cell_type": "code",
   "execution_count": 63,
   "id": "a4c5472f",
   "metadata": {},
   "outputs": [],
   "source": [
    "x_train_filter_PR = polyregression_allsignal(x_data_df.values, 100)"
   ]
  },
  {
   "cell_type": "code",
   "execution_count": 64,
   "id": "560b60ae",
   "metadata": {},
   "outputs": [
    {
     "data": {
      "text/plain": [
       "array([[-172.17726401,  223.75790443,  204.65407652, ...,  429.69234858,\n",
       "         260.21880471,  285.14911664],\n",
       "       [-172.89022398,  222.49738985,  203.23463412, ...,  429.19631052,\n",
       "         258.77218383,  283.18600527],\n",
       "       [-173.58322307,  221.26808039,  201.83733044, ...,  428.70085553,\n",
       "         257.34869994,  281.2494599 ],\n",
       "       ...,\n",
       "       [-316.81767288,  234.85455852, -262.05456808, ...,  -75.21469373,\n",
       "        -147.84660063, -131.37827069],\n",
       "       [-321.47456648,  235.70465045, -265.52049855, ...,  -75.79788932,\n",
       "        -149.87683047, -133.37388701],\n",
       "       [-326.19366005,  236.59188321, -269.01386567, ...,  -76.38474904,\n",
       "        -151.9383174 , -135.39817615]])"
      ]
     },
     "execution_count": 64,
     "metadata": {},
     "output_type": "execute_result"
    }
   ],
   "source": [
    "x_train_filter_PR"
   ]
  },
  {
   "cell_type": "code",
   "execution_count": 65,
   "id": "f08e04f1",
   "metadata": {},
   "outputs": [
    {
     "data": {
      "text/plain": [
       "(1185498, 11)"
      ]
     },
     "execution_count": 65,
     "metadata": {},
     "output_type": "execute_result"
    }
   ],
   "source": [
    "x_train_filter_PR.shape"
   ]
  },
  {
   "cell_type": "code",
   "execution_count": 66,
   "id": "4e6de793",
   "metadata": {},
   "outputs": [],
   "source": [
    "x_train_filter_PR_st = StandardScaler().fit_transform(x_train_filter_PR)\n",
    "x_train_filter_PR_st = pd.DataFrame(x_train_filter_PR_st)\n",
    "y=pd.DataFrame(y_data)"
   ]
  },
  {
   "cell_type": "code",
   "execution_count": 67,
   "id": "3e1f9491",
   "metadata": {},
   "outputs": [
    {
     "data": {
      "text/plain": [
       "array([[-0.95625689, -0.46669287,  2.48490557, ...,  2.05938217,\n",
       "         1.36637765,  0.27642212],\n",
       "       [-0.95880876, -0.47770355,  2.47026974, ...,  2.05607196,\n",
       "         1.35761541,  0.27022558],\n",
       "       [-0.96128918, -0.48844164,  2.45586218, ...,  2.05276563,\n",
       "         1.34899332,  0.2641129 ],\n",
       "       ...,\n",
       "       [-1.47396266, -0.3697629 , -2.32731521, ..., -1.3100202 ,\n",
       "        -1.10529041, -1.03834134],\n",
       "       [-1.4906309 , -0.36233729, -2.36305233, ..., -1.31391205,\n",
       "        -1.11758759, -1.04464048],\n",
       "       [-1.50752177, -0.35458726, -2.39907235, ..., -1.31782835,\n",
       "        -1.13007409, -1.05103012]])"
      ]
     },
     "execution_count": 67,
     "metadata": {},
     "output_type": "execute_result"
    }
   ],
   "source": [
    "x_train_filter_PR_st.values"
   ]
  },
  {
   "cell_type": "code",
   "execution_count": 68,
   "id": "5a092d71",
   "metadata": {},
   "outputs": [
    {
     "data": {
      "text/plain": [
       "(1185498, 11)"
      ]
     },
     "execution_count": 68,
     "metadata": {},
     "output_type": "execute_result"
    }
   ],
   "source": [
    "x_train_filter_PR_st.shape"
   ]
  },
  {
   "cell_type": "markdown",
   "id": "9b6f48f8",
   "metadata": {},
   "source": [
    "Testing data with filter, Polyregression and standardization"
   ]
  },
  {
   "cell_type": "code",
   "execution_count": 69,
   "id": "68efcefb",
   "metadata": {},
   "outputs": [],
   "source": [
    "x_test_filter_PR = polyregression_allsignal(x_test_df.values, 100)"
   ]
  },
  {
   "cell_type": "code",
   "execution_count": 70,
   "id": "1186ddc0",
   "metadata": {},
   "outputs": [
    {
     "data": {
      "text/plain": [
       "array([[  67.28836454,  235.16827811, -213.47829667, ...,  112.01776968,\n",
       "          41.87910261,   58.69253474],\n",
       "       [  68.08449854,  235.52094773, -214.08533922, ...,  113.37859619,\n",
       "          44.8634267 ,   61.74312413],\n",
       "       [  68.85099469,  235.86437832, -214.67711016, ...,  114.71137395,\n",
       "          47.78138547,   64.72204833],\n",
       "       ...,\n",
       "       [ 107.00095614,  345.63926265,  -24.33930397, ...,  -28.37433879,\n",
       "          83.56787729,  260.16926227],\n",
       "       [ 109.88244328,  346.08365358,  -25.27540649, ...,  -29.43236695,\n",
       "          84.72582369,  263.04216621],\n",
       "       [ 112.81639523,  346.53401635,  -26.22856155, ...,  -30.51527635,\n",
       "          85.90328215,  265.98000891]])"
      ]
     },
     "execution_count": 70,
     "metadata": {},
     "output_type": "execute_result"
    }
   ],
   "source": [
    "x_test_filter_PR"
   ]
  },
  {
   "cell_type": "code",
   "execution_count": 71,
   "id": "9f2bab37",
   "metadata": {},
   "outputs": [
    {
     "data": {
      "text/plain": [
       "(236894, 11)"
      ]
     },
     "execution_count": 71,
     "metadata": {},
     "output_type": "execute_result"
    }
   ],
   "source": [
    "x_test_filter_PR.shape"
   ]
  },
  {
   "cell_type": "code",
   "execution_count": 72,
   "id": "ab078f63",
   "metadata": {},
   "outputs": [],
   "source": [
    "x_test_filter_PR_st = StandardScaler().fit_transform(x_test_filter_PR)\n",
    "x_test_filter_PR_st = pd.DataFrame(x_test_filter_PR_st)\n",
    "y_test=pd.DataFrame(y_ts_data)"
   ]
  },
  {
   "cell_type": "code",
   "execution_count": 73,
   "id": "2087457b",
   "metadata": {},
   "outputs": [
    {
     "data": {
      "text/plain": [
       "array([[-0.32496181, -0.9938056 , -1.93800551, ...,  0.78530828,\n",
       "         0.43307123, -0.33060759],\n",
       "       [-0.31944018, -0.99011718, -1.94460076, ...,  0.80095733,\n",
       "         0.45809172, -0.31721038],\n",
       "       [-0.31412409, -0.98652539, -1.95103009, ...,  0.81628384,\n",
       "         0.48255579, -0.30412789],\n",
       "       ...,\n",
       "       [-0.0495327 ,  0.16156131,  0.11690656, ..., -0.82915481,\n",
       "         0.78258866,  0.554214  ],\n",
       "       [-0.02954797,  0.16620899,  0.10673621, ..., -0.84132178,\n",
       "         0.79229684,  0.56683088],\n",
       "       [-0.00919936,  0.17091914,  0.0963806 , ..., -0.85377489,\n",
       "         0.80216862,  0.57973295]])"
      ]
     },
     "execution_count": 73,
     "metadata": {},
     "output_type": "execute_result"
    }
   ],
   "source": [
    "x_test_filter_PR_st.values"
   ]
  },
  {
   "cell_type": "code",
   "execution_count": 74,
   "id": "712f30e2",
   "metadata": {},
   "outputs": [
    {
     "data": {
      "text/plain": [
       "(236894, 11)"
      ]
     },
     "execution_count": 74,
     "metadata": {},
     "output_type": "execute_result"
    }
   ],
   "source": [
    "x_test_filter_PR_st.shape"
   ]
  },
  {
   "cell_type": "markdown",
   "id": "7527c6bc",
   "metadata": {},
   "source": [
    "Filter [0 0 0 0 0 0] from the data"
   ]
  },
  {
   "cell_type": "code",
   "execution_count": 75,
   "id": "fd486591",
   "metadata": {},
   "outputs": [],
   "source": [
    "x_data_filter, y_data_filter = filter_dataset(x_train_filter_PR_st.values, y_data)"
   ]
  },
  {
   "cell_type": "code",
   "execution_count": 76,
   "id": "927b9058",
   "metadata": {},
   "outputs": [
    {
     "data": {
      "text/plain": [
       "(132965, 20, 11)"
      ]
     },
     "execution_count": 76,
     "metadata": {},
     "output_type": "execute_result"
    }
   ],
   "source": [
    "x_data_filter.shape"
   ]
  },
  {
   "cell_type": "code",
   "execution_count": 77,
   "id": "71fa2eea",
   "metadata": {},
   "outputs": [
    {
     "data": {
      "text/plain": [
       "(132965, 6)"
      ]
     },
     "execution_count": 77,
     "metadata": {},
     "output_type": "execute_result"
    }
   ],
   "source": [
    "y_data_filter.shape"
   ]
  },
  {
   "cell_type": "code",
   "execution_count": 78,
   "id": "fadcca28",
   "metadata": {},
   "outputs": [],
   "source": [
    "x_ts_data_filter, y_ts_data_filter = filter_dataset(x_test_filter_PR_st.values, y_ts_data)"
   ]
  },
  {
   "cell_type": "code",
   "execution_count": 79,
   "id": "af92f495",
   "metadata": {},
   "outputs": [
    {
     "data": {
      "text/plain": [
       "(45838, 20, 11)"
      ]
     },
     "execution_count": 79,
     "metadata": {},
     "output_type": "execute_result"
    }
   ],
   "source": [
    "x_ts_data_filter.shape"
   ]
  },
  {
   "cell_type": "code",
   "execution_count": 80,
   "id": "397a6ad6",
   "metadata": {},
   "outputs": [
    {
     "data": {
      "text/plain": [
       "(45838, 6)"
      ]
     },
     "execution_count": 80,
     "metadata": {},
     "output_type": "execute_result"
    }
   ],
   "source": [
    "y_ts_data_filter.shape"
   ]
  },
  {
   "cell_type": "markdown",
   "id": "d5ee4d31",
   "metadata": {},
   "source": [
    "Shuffle"
   ]
  },
  {
   "cell_type": "code",
   "execution_count": 81,
   "id": "3d060a1c",
   "metadata": {},
   "outputs": [],
   "source": [
    "x_data_filter, y_data_filter = utils.shuffle(x_data_filter, y_data_filter)"
   ]
  },
  {
   "cell_type": "code",
   "execution_count": 82,
   "id": "5377688e",
   "metadata": {},
   "outputs": [
    {
     "data": {
      "text/plain": [
       "(132965, 20, 11)"
      ]
     },
     "execution_count": 82,
     "metadata": {},
     "output_type": "execute_result"
    }
   ],
   "source": [
    "x_data_filter.shape"
   ]
  },
  {
   "cell_type": "code",
   "execution_count": 83,
   "id": "f915ffd2",
   "metadata": {},
   "outputs": [
    {
     "data": {
      "text/plain": [
       "(132965, 6)"
      ]
     },
     "execution_count": 83,
     "metadata": {},
     "output_type": "execute_result"
    }
   ],
   "source": [
    "y_data_filter.shape"
   ]
  },
  {
   "cell_type": "markdown",
   "id": "2745f70d",
   "metadata": {},
   "source": [
    "Model"
   ]
  },
  {
   "cell_type": "code",
   "execution_count": 84,
   "id": "88f9273f",
   "metadata": {},
   "outputs": [
    {
     "name": "stderr",
     "output_type": "stream",
     "text": [
      "C:\\Users\\User\\anaconda3\\envs\\modelop_gpu\\lib\\site-packages\\tensorflow\\python\\keras\\optimizer_v2\\optimizer_v2.py:374: UserWarning: The `lr` argument is deprecated, use `learning_rate` instead.\n",
      "  warnings.warn(\n"
     ]
    },
    {
     "name": "stdout",
     "output_type": "stream",
     "text": [
      "Model: \"sequential_1\"\n",
      "_________________________________________________________________\n",
      "Layer (type)                 Output Shape              Param #   \n",
      "=================================================================\n",
      "lstm_4 (LSTM)                (None, 20, 128)           71680     \n",
      "_________________________________________________________________\n",
      "dropout_3 (Dropout)          (None, 20, 128)           0         \n",
      "_________________________________________________________________\n",
      "lstm_5 (LSTM)                (None, 20, 128)           131584    \n",
      "_________________________________________________________________\n",
      "dropout_4 (Dropout)          (None, 20, 128)           0         \n",
      "_________________________________________________________________\n",
      "lstm_6 (LSTM)                (None, 20, 128)           131584    \n",
      "_________________________________________________________________\n",
      "dropout_5 (Dropout)          (None, 20, 128)           0         \n",
      "_________________________________________________________________\n",
      "lstm_7 (LSTM)                (None, 128)               131584    \n",
      "_________________________________________________________________\n",
      "dense_2 (Dense)              (None, 32)                4128      \n",
      "_________________________________________________________________\n",
      "dense_3 (Dense)              (None, 6)                 198       \n",
      "=================================================================\n",
      "Total params: 470,758\n",
      "Trainable params: 470,758\n",
      "Non-trainable params: 0\n",
      "_________________________________________________________________\n",
      "Epoch 1/30\n",
      "1870/1870 [==============================] - 30s 14ms/step - loss: 0.2123 - accuracy: 0.6827 - val_loss: 0.0879 - val_accuracy: 0.8224\n",
      "Epoch 2/30\n",
      "1870/1870 [==============================] - 24s 13ms/step - loss: 0.0766 - accuracy: 0.8379 - val_loss: 0.0461 - val_accuracy: 0.8618\n",
      "Epoch 3/30\n",
      "1870/1870 [==============================] - 25s 13ms/step - loss: 0.0558 - accuracy: 0.8498 - val_loss: 0.0496 - val_accuracy: 0.8583\n",
      "Epoch 4/30\n",
      "1870/1870 [==============================] - 25s 13ms/step - loss: 0.0492 - accuracy: 0.8532 - val_loss: 0.0329 - val_accuracy: 0.8634\n",
      "Epoch 5/30\n",
      "1870/1870 [==============================] - 25s 13ms/step - loss: 0.0421 - accuracy: 0.8562 - val_loss: 0.0408 - val_accuracy: 0.8543\n",
      "Epoch 6/30\n",
      "1870/1870 [==============================] - 25s 14ms/step - loss: 0.0388 - accuracy: 0.8608 - val_loss: 0.0365 - val_accuracy: 0.8607\n",
      "Epoch 7/30\n",
      "1870/1870 [==============================] - 26s 14ms/step - loss: 0.0358 - accuracy: 0.8612 - val_loss: 0.0289 - val_accuracy: 0.8582\n",
      "Epoch 8/30\n",
      "1870/1870 [==============================] - 26s 14ms/step - loss: 0.0327 - accuracy: 0.8602 - val_loss: 0.0383 - val_accuracy: 0.8454\n",
      "Epoch 9/30\n",
      "1870/1870 [==============================] - 26s 14ms/step - loss: 0.0308 - accuracy: 0.8558 - val_loss: 0.0242 - val_accuracy: 0.8537\n",
      "Epoch 10/30\n",
      "1870/1870 [==============================] - 26s 14ms/step - loss: 0.0298 - accuracy: 0.8634 - val_loss: 0.0228 - val_accuracy: 0.8613\n",
      "Epoch 11/30\n",
      "1870/1870 [==============================] - 26s 14ms/step - loss: 0.0274 - accuracy: 0.8689 - val_loss: 0.0222 - val_accuracy: 0.8603\n",
      "Epoch 12/30\n",
      "1870/1870 [==============================] - 26s 14ms/step - loss: 0.0267 - accuracy: 0.8623 - val_loss: 0.0206 - val_accuracy: 0.8621\n",
      "Epoch 13/30\n",
      "1870/1870 [==============================] - 26s 14ms/step - loss: 0.0240 - accuracy: 0.8639 - val_loss: 0.0214 - val_accuracy: 0.8678\n",
      "Epoch 14/30\n",
      "1870/1870 [==============================] - 26s 14ms/step - loss: 0.0263 - accuracy: 0.8659 - val_loss: 0.0180 - val_accuracy: 0.8713\n",
      "Epoch 15/30\n",
      "1870/1870 [==============================] - 26s 14ms/step - loss: 0.0218 - accuracy: 0.8678 - val_loss: 0.0169 - val_accuracy: 0.8703\n",
      "Epoch 16/30\n",
      "1870/1870 [==============================] - 26s 14ms/step - loss: 0.0226 - accuracy: 0.8654 - val_loss: 0.0158 - val_accuracy: 0.8723\n",
      "Epoch 17/30\n",
      "1870/1870 [==============================] - 26s 14ms/step - loss: 0.0219 - accuracy: 0.8640 - val_loss: 0.0189 - val_accuracy: 0.8610\n",
      "Epoch 18/30\n",
      "1870/1870 [==============================] - 25s 14ms/step - loss: 0.0212 - accuracy: 0.8732 - val_loss: 0.0204 - val_accuracy: 0.8770\n",
      "Epoch 19/30\n",
      "1870/1870 [==============================] - 26s 14ms/step - loss: 0.0200 - accuracy: 0.8715 - val_loss: 0.0166 - val_accuracy: 0.8603\n",
      "Epoch 20/30\n",
      "1870/1870 [==============================] - 26s 14ms/step - loss: 0.0205 - accuracy: 0.8727 - val_loss: 0.0153 - val_accuracy: 0.8697\n",
      "Epoch 21/30\n",
      "1870/1870 [==============================] - 26s 14ms/step - loss: 0.0194 - accuracy: 0.8727 - val_loss: 0.0148 - val_accuracy: 0.8725\n",
      "Epoch 22/30\n",
      "1870/1870 [==============================] - 26s 14ms/step - loss: 0.0181 - accuracy: 0.8737 - val_loss: 0.0126 - val_accuracy: 0.8758\n",
      "Epoch 23/30\n",
      "1870/1870 [==============================] - 26s 14ms/step - loss: 0.0192 - accuracy: 0.8726 - val_loss: 0.0154 - val_accuracy: 0.8752\n",
      "Epoch 24/30\n",
      "1870/1870 [==============================] - 26s 14ms/step - loss: 0.0194 - accuracy: 0.8652 - val_loss: 0.0207 - val_accuracy: 0.8406\n",
      "Epoch 25/30\n",
      "1870/1870 [==============================] - 26s 14ms/step - loss: 0.0176 - accuracy: 0.8670 - val_loss: 0.0169 - val_accuracy: 0.8723\n",
      "Epoch 26/30\n",
      "1870/1870 [==============================] - 26s 14ms/step - loss: 0.0174 - accuracy: 0.8780 - val_loss: 0.0192 - val_accuracy: 0.8779\n",
      "Epoch 27/30\n",
      "1870/1870 [==============================] - 27s 14ms/step - loss: 0.0170 - accuracy: 0.8736 - val_loss: 0.0155 - val_accuracy: 0.8667\n",
      "Epoch 28/30\n",
      "1870/1870 [==============================] - 26s 14ms/step - loss: 0.0172 - accuracy: 0.8699 - val_loss: 0.0133 - val_accuracy: 0.8670\n",
      "Epoch 29/30\n",
      "1870/1870 [==============================] - 26s 14ms/step - loss: 0.0173 - accuracy: 0.8690 - val_loss: 0.0113 - val_accuracy: 0.8660\n",
      "Epoch 30/30\n",
      "1870/1870 [==============================] - 26s 14ms/step - loss: 0.0154 - accuracy: 0.8748 - val_loss: 0.0132 - val_accuracy: 0.8734\n"
     ]
    },
    {
     "data": {
      "text/plain": [
       "<tensorflow.python.keras.callbacks.History at 0x25ab2013700>"
      ]
     },
     "execution_count": 84,
     "metadata": {},
     "output_type": "execute_result"
    }
   ],
   "source": [
    "model_with_filter_PR_standard = LSTM_model(11)\n",
    "model_with_filter_PR_standard.fit(x_data_filter, y_data_filter, epochs=30, batch_size=64, validation_split=0.1)"
   ]
  },
  {
   "cell_type": "code",
   "execution_count": 85,
   "id": "146a7b2b",
   "metadata": {},
   "outputs": [],
   "source": [
    "model_with_filter_PR_standard.save(\"modelop/LSTM/LSTM_with_filter_PR100_standard.h5\")"
   ]
  },
  {
   "cell_type": "markdown",
   "id": "8adf87ef",
   "metadata": {},
   "source": [
    "Evaluate"
   ]
  },
  {
   "cell_type": "code",
   "execution_count": 86,
   "id": "6a79ab47",
   "metadata": {},
   "outputs": [
    {
     "name": "stdout",
     "output_type": "stream",
     "text": [
      "Model: \"sequential_1\"\n",
      "_________________________________________________________________\n",
      "Layer (type)                 Output Shape              Param #   \n",
      "=================================================================\n",
      "lstm_4 (LSTM)                (None, 20, 128)           71680     \n",
      "_________________________________________________________________\n",
      "dropout_3 (Dropout)          (None, 20, 128)           0         \n",
      "_________________________________________________________________\n",
      "lstm_5 (LSTM)                (None, 20, 128)           131584    \n",
      "_________________________________________________________________\n",
      "dropout_4 (Dropout)          (None, 20, 128)           0         \n",
      "_________________________________________________________________\n",
      "lstm_6 (LSTM)                (None, 20, 128)           131584    \n",
      "_________________________________________________________________\n",
      "dropout_5 (Dropout)          (None, 20, 128)           0         \n",
      "_________________________________________________________________\n",
      "lstm_7 (LSTM)                (None, 128)               131584    \n",
      "_________________________________________________________________\n",
      "dense_2 (Dense)              (None, 32)                4128      \n",
      "_________________________________________________________________\n",
      "dense_3 (Dense)              (None, 6)                 198       \n",
      "=================================================================\n",
      "Total params: 470,758\n",
      "Trainable params: 470,758\n",
      "Non-trainable params: 0\n",
      "_________________________________________________________________\n"
     ]
    }
   ],
   "source": [
    "model = load_model(\"modelop/LSTM/LSTM_with_filter_PR100_standard.h5\")\n",
    "model.summary()"
   ]
  },
  {
   "cell_type": "code",
   "execution_count": 87,
   "id": "b8addb6e",
   "metadata": {},
   "outputs": [
    {
     "name": "stdout",
     "output_type": "stream",
     "text": [
      "1433/1433 [==============================] - 11s 7ms/step - loss: 1.6065 - accuracy: 0.5099\n"
     ]
    },
    {
     "data": {
      "text/plain": [
       "[1.606486439704895, 0.5098826289176941]"
      ]
     },
     "execution_count": 87,
     "metadata": {},
     "output_type": "execute_result"
    }
   ],
   "source": [
    "model.evaluate(x_ts_data_filter, y_ts_data_filter)"
   ]
  },
  {
   "cell_type": "markdown",
   "id": "f311e327",
   "metadata": {},
   "source": [
    "# With lowpass filter 、Polyregression and standardization (segment length = 50)"
   ]
  },
  {
   "cell_type": "markdown",
   "id": "d10287b8",
   "metadata": {},
   "source": [
    "Training data with filter, Polyregression and standardization"
   ]
  },
  {
   "cell_type": "code",
   "execution_count": 88,
   "id": "2d219fe3",
   "metadata": {},
   "outputs": [],
   "source": [
    "x_train_filter_PR = polyregression_allsignal(x_data_df.values, 50)"
   ]
  },
  {
   "cell_type": "code",
   "execution_count": 89,
   "id": "4d2fe6cc",
   "metadata": {},
   "outputs": [
    {
     "data": {
      "text/plain": [
       "array([[-207.3694826 ,  193.65720302,  213.07902993, ...,  439.59712764,\n",
       "         295.87952842,  328.41857029],\n",
       "       [-203.4352143 ,  196.07550237,  211.17148389, ...,  438.48870769,\n",
       "         289.70100364,  321.07867343],\n",
       "       [-199.66986329,  198.38353013,  209.28672692, ...,  437.38917305,\n",
       "         283.75899526,  313.99066659],\n",
       "       ...,\n",
       "       [-330.2074663 ,  203.56457899, -207.90302292, ...,  -83.93090088,\n",
       "        -153.26394529, -153.65811388],\n",
       "       [-336.60394889,  198.71521548, -203.39856603, ...,  -86.02748711,\n",
       "        -155.77118729, -157.94955499],\n",
       "       [-343.10826886,  193.63938558, -198.60375208, ...,  -88.1931291 ,\n",
       "        -158.3052294 , -162.3110021 ]])"
      ]
     },
     "execution_count": 89,
     "metadata": {},
     "output_type": "execute_result"
    }
   ],
   "source": [
    "x_train_filter_PR"
   ]
  },
  {
   "cell_type": "code",
   "execution_count": 90,
   "id": "b3c2fd72",
   "metadata": {},
   "outputs": [
    {
     "data": {
      "text/plain": [
       "(1185498, 11)"
      ]
     },
     "execution_count": 90,
     "metadata": {},
     "output_type": "execute_result"
    }
   ],
   "source": [
    "x_train_filter_PR.shape"
   ]
  },
  {
   "cell_type": "code",
   "execution_count": 91,
   "id": "944af32a",
   "metadata": {},
   "outputs": [],
   "source": [
    "x_train_filter_PR_st = StandardScaler().fit_transform(x_train_filter_PR)\n",
    "x_train_filter_PR_st = pd.DataFrame(x_train_filter_PR_st)\n",
    "y=pd.DataFrame(y_data)"
   ]
  },
  {
   "cell_type": "code",
   "execution_count": 92,
   "id": "7e203d5a",
   "metadata": {},
   "outputs": [
    {
     "data": {
      "text/plain": [
       "array([[-1.07593722, -0.72220081,  2.55383813, ...,  2.10618437,\n",
       "         1.56111325,  0.41041755],\n",
       "       [-1.06193718, -0.70129174,  2.53430665, ...,  2.09885468,\n",
       "         1.52419255,  0.38739421],\n",
       "       [-1.04853824, -0.6813361 ,  2.51500851, ...,  2.09158376,\n",
       "         1.4886852 ,  0.36516099],\n",
       "       ...,\n",
       "       [-1.51305434, -0.63653978, -1.75662236, ..., -1.35576553,\n",
       "        -1.12281048, -1.10173071],\n",
       "       [-1.53581613, -0.67846829, -1.71050096, ..., -1.36962969,\n",
       "        -1.13779288, -1.11519184],\n",
       "       [-1.55896165, -0.72235487, -1.66140657, ..., -1.3839505 ,\n",
       "        -1.15293542, -1.12887255]])"
      ]
     },
     "execution_count": 92,
     "metadata": {},
     "output_type": "execute_result"
    }
   ],
   "source": [
    "x_train_filter_PR_st.values"
   ]
  },
  {
   "cell_type": "code",
   "execution_count": 93,
   "id": "5be14f65",
   "metadata": {},
   "outputs": [
    {
     "data": {
      "text/plain": [
       "(1185498, 11)"
      ]
     },
     "execution_count": 93,
     "metadata": {},
     "output_type": "execute_result"
    }
   ],
   "source": [
    "x_train_filter_PR_st.shape"
   ]
  },
  {
   "cell_type": "markdown",
   "id": "bf49c7f9",
   "metadata": {},
   "source": [
    "Testing data with filter, Polyregression and standardization"
   ]
  },
  {
   "cell_type": "code",
   "execution_count": 94,
   "id": "2b518751",
   "metadata": {},
   "outputs": [],
   "source": [
    "x_test_filter_PR = polyregression_allsignal(x_test_df.values, 50)"
   ]
  },
  {
   "cell_type": "code",
   "execution_count": 95,
   "id": "579ac069",
   "metadata": {},
   "outputs": [
    {
     "data": {
      "text/plain": [
       "array([[  98.9022333 ,  266.36599317, -204.46177503, ...,  107.75919981,\n",
       "          23.64617778,   44.60135661],\n",
       "       [  94.57574574,  262.59040401, -206.39183431, ...,  108.39907634,\n",
       "          26.93359673,   47.52123304],\n",
       "       [  90.46916893,  258.97737217, -208.24361148, ...,  109.08621453,\n",
       "          30.21396177,   50.44346467],\n",
       "       ...,\n",
       "       [  87.88780133,  316.39941413,  -41.25326577, ...,  -20.98827899,\n",
       "         111.97748229,  281.27677281],\n",
       "       [  87.11118386,  311.37044077,  -44.85327602, ...,  -20.66216673,\n",
       "         117.45365578,  286.80080607],\n",
       "       [  86.20574331,  306.08002236,  -48.58334715, ...,  -20.29093929,\n",
       "         123.13685901,  292.48368359]])"
      ]
     },
     "execution_count": 95,
     "metadata": {},
     "output_type": "execute_result"
    }
   ],
   "source": [
    "x_test_filter_PR"
   ]
  },
  {
   "cell_type": "code",
   "execution_count": 96,
   "id": "b18042a7",
   "metadata": {},
   "outputs": [
    {
     "data": {
      "text/plain": [
       "(236894, 11)"
      ]
     },
     "execution_count": 96,
     "metadata": {},
     "output_type": "execute_result"
    }
   ],
   "source": [
    "x_test_filter_PR.shape"
   ]
  },
  {
   "cell_type": "code",
   "execution_count": 97,
   "id": "22dd774f",
   "metadata": {},
   "outputs": [],
   "source": [
    "x_test_filter_PR_st = StandardScaler().fit_transform(x_test_filter_PR)\n",
    "x_test_filter_PR_st = pd.DataFrame(x_test_filter_PR_st)\n",
    "y_test=pd.DataFrame(y_ts_data)"
   ]
  },
  {
   "cell_type": "code",
   "execution_count": 98,
   "id": "cd1baea9",
   "metadata": {},
   "outputs": [
    {
     "data": {
      "text/plain": [
       "array([[-0.10346207, -0.6580225 , -1.82776926, ...,  0.71874116,\n",
       "         0.27357312, -0.38817354],\n",
       "       [-0.13283285, -0.69694773, -1.84859861, ...,  0.7259237 ,\n",
       "         0.30048222, -0.37549145],\n",
       "       [-0.16071075, -0.73419704, -1.86858313, ...,  0.73363674,\n",
       "         0.32733359, -0.36279913],\n",
       "       ...,\n",
       "       [-0.17823461, -0.14219239, -0.06641018, ..., -0.72643426,\n",
       "         0.99660735,  0.63979444],\n",
       "       [-0.18350676, -0.19403965, -0.10526178, ..., -0.72277368,\n",
       "         1.04143247,  0.66378733],\n",
       "       [-0.18965343, -0.24858234, -0.145517  , ..., -0.7186067 ,\n",
       "         1.08795222,  0.68847015]])"
      ]
     },
     "execution_count": 98,
     "metadata": {},
     "output_type": "execute_result"
    }
   ],
   "source": [
    "x_test_filter_PR_st.values"
   ]
  },
  {
   "cell_type": "code",
   "execution_count": 99,
   "id": "b2edf853",
   "metadata": {},
   "outputs": [
    {
     "data": {
      "text/plain": [
       "(236894, 11)"
      ]
     },
     "execution_count": 99,
     "metadata": {},
     "output_type": "execute_result"
    }
   ],
   "source": [
    "x_test_filter_PR_st.shape"
   ]
  },
  {
   "cell_type": "markdown",
   "id": "e9ad7bf7",
   "metadata": {},
   "source": [
    "Filter [0 0 0 0 0 0] from the data"
   ]
  },
  {
   "cell_type": "code",
   "execution_count": 100,
   "id": "e073f0e6",
   "metadata": {},
   "outputs": [],
   "source": [
    "x_data_filter, y_data_filter = filter_dataset(x_train_filter_PR_st.values, y_data)"
   ]
  },
  {
   "cell_type": "code",
   "execution_count": 101,
   "id": "29c65009",
   "metadata": {},
   "outputs": [
    {
     "data": {
      "text/plain": [
       "(132965, 20, 11)"
      ]
     },
     "execution_count": 101,
     "metadata": {},
     "output_type": "execute_result"
    }
   ],
   "source": [
    "x_data_filter.shape"
   ]
  },
  {
   "cell_type": "code",
   "execution_count": 102,
   "id": "5feee508",
   "metadata": {},
   "outputs": [
    {
     "data": {
      "text/plain": [
       "(132965, 6)"
      ]
     },
     "execution_count": 102,
     "metadata": {},
     "output_type": "execute_result"
    }
   ],
   "source": [
    "y_data_filter.shape"
   ]
  },
  {
   "cell_type": "code",
   "execution_count": 103,
   "id": "f9778643",
   "metadata": {},
   "outputs": [],
   "source": [
    "x_ts_data_filter, y_ts_data_filter = filter_dataset(x_test_filter_PR_st.values, y_ts_data)"
   ]
  },
  {
   "cell_type": "code",
   "execution_count": 104,
   "id": "1a93c6f9",
   "metadata": {},
   "outputs": [
    {
     "data": {
      "text/plain": [
       "(45838, 20, 11)"
      ]
     },
     "execution_count": 104,
     "metadata": {},
     "output_type": "execute_result"
    }
   ],
   "source": [
    "x_ts_data_filter.shape"
   ]
  },
  {
   "cell_type": "code",
   "execution_count": 105,
   "id": "635430e5",
   "metadata": {},
   "outputs": [
    {
     "data": {
      "text/plain": [
       "(45838, 6)"
      ]
     },
     "execution_count": 105,
     "metadata": {},
     "output_type": "execute_result"
    }
   ],
   "source": [
    "y_ts_data_filter.shape"
   ]
  },
  {
   "cell_type": "markdown",
   "id": "0f676330",
   "metadata": {},
   "source": [
    "Shuffle"
   ]
  },
  {
   "cell_type": "code",
   "execution_count": 106,
   "id": "9c5a4f85",
   "metadata": {},
   "outputs": [],
   "source": [
    "x_data_filter, y_data_filter = utils.shuffle(x_data_filter, y_data_filter)"
   ]
  },
  {
   "cell_type": "code",
   "execution_count": 107,
   "id": "4d8893d9",
   "metadata": {},
   "outputs": [
    {
     "data": {
      "text/plain": [
       "(132965, 20, 11)"
      ]
     },
     "execution_count": 107,
     "metadata": {},
     "output_type": "execute_result"
    }
   ],
   "source": [
    "x_data_filter.shape"
   ]
  },
  {
   "cell_type": "code",
   "execution_count": 108,
   "id": "ce9d41c2",
   "metadata": {},
   "outputs": [
    {
     "data": {
      "text/plain": [
       "(132965, 6)"
      ]
     },
     "execution_count": 108,
     "metadata": {},
     "output_type": "execute_result"
    }
   ],
   "source": [
    "y_data_filter.shape"
   ]
  },
  {
   "cell_type": "markdown",
   "id": "b9a343f9",
   "metadata": {},
   "source": [
    "Model"
   ]
  },
  {
   "cell_type": "code",
   "execution_count": 109,
   "id": "02978b09",
   "metadata": {},
   "outputs": [
    {
     "name": "stderr",
     "output_type": "stream",
     "text": [
      "C:\\Users\\User\\anaconda3\\envs\\modelop_gpu\\lib\\site-packages\\tensorflow\\python\\keras\\optimizer_v2\\optimizer_v2.py:374: UserWarning: The `lr` argument is deprecated, use `learning_rate` instead.\n",
      "  warnings.warn(\n"
     ]
    },
    {
     "name": "stdout",
     "output_type": "stream",
     "text": [
      "Model: \"sequential_2\"\n",
      "_________________________________________________________________\n",
      "Layer (type)                 Output Shape              Param #   \n",
      "=================================================================\n",
      "lstm_8 (LSTM)                (None, 20, 128)           71680     \n",
      "_________________________________________________________________\n",
      "dropout_6 (Dropout)          (None, 20, 128)           0         \n",
      "_________________________________________________________________\n",
      "lstm_9 (LSTM)                (None, 20, 128)           131584    \n",
      "_________________________________________________________________\n",
      "dropout_7 (Dropout)          (None, 20, 128)           0         \n",
      "_________________________________________________________________\n",
      "lstm_10 (LSTM)               (None, 20, 128)           131584    \n",
      "_________________________________________________________________\n",
      "dropout_8 (Dropout)          (None, 20, 128)           0         \n",
      "_________________________________________________________________\n",
      "lstm_11 (LSTM)               (None, 128)               131584    \n",
      "_________________________________________________________________\n",
      "dense_4 (Dense)              (None, 32)                4128      \n",
      "_________________________________________________________________\n",
      "dense_5 (Dense)              (None, 6)                 198       \n",
      "=================================================================\n",
      "Total params: 470,758\n",
      "Trainable params: 470,758\n",
      "Non-trainable params: 0\n",
      "_________________________________________________________________\n",
      "Epoch 1/30\n",
      "1870/1870 [==============================] - 31s 15ms/step - loss: 0.2186 - accuracy: 0.6672 - val_loss: 0.1116 - val_accuracy: 0.7966\n",
      "Epoch 2/30\n",
      "1870/1870 [==============================] - 25s 13ms/step - loss: 0.0876 - accuracy: 0.8301 - val_loss: 0.0559 - val_accuracy: 0.8497\n",
      "Epoch 3/30\n",
      "1870/1870 [==============================] - 25s 13ms/step - loss: 0.0629 - accuracy: 0.8453 - val_loss: 0.0534 - val_accuracy: 0.8306\n",
      "Epoch 4/30\n",
      "1870/1870 [==============================] - 25s 13ms/step - loss: 0.0528 - accuracy: 0.8499 - val_loss: 0.0365 - val_accuracy: 0.8558\n",
      "Epoch 5/30\n",
      "1870/1870 [==============================] - 26s 14ms/step - loss: 0.0442 - accuracy: 0.8516 - val_loss: 0.0456 - val_accuracy: 0.8262\n",
      "Epoch 6/30\n",
      "1870/1870 [==============================] - 25s 14ms/step - loss: 0.0398 - accuracy: 0.8516 - val_loss: 0.0280 - val_accuracy: 0.8553\n",
      "Epoch 7/30\n",
      "1870/1870 [==============================] - 26s 14ms/step - loss: 0.0360 - accuracy: 0.8555 - val_loss: 0.0289 - val_accuracy: 0.8485\n",
      "Epoch 8/30\n",
      "1870/1870 [==============================] - 26s 14ms/step - loss: 0.0335 - accuracy: 0.8568 - val_loss: 0.0234 - val_accuracy: 0.8626\n",
      "Epoch 9/30\n",
      "1870/1870 [==============================] - 26s 14ms/step - loss: 0.0319 - accuracy: 0.8579 - val_loss: 0.0222 - val_accuracy: 0.8720\n",
      "Epoch 10/30\n",
      "1870/1870 [==============================] - 26s 14ms/step - loss: 0.0278 - accuracy: 0.8603 - val_loss: 0.0213 - val_accuracy: 0.8579\n",
      "Epoch 11/30\n",
      "1870/1870 [==============================] - 27s 14ms/step - loss: 0.0271 - accuracy: 0.8616 - val_loss: 0.0196 - val_accuracy: 0.8718\n",
      "Epoch 12/30\n",
      "1870/1870 [==============================] - 26s 14ms/step - loss: 0.0247 - accuracy: 0.8624 - val_loss: 0.0271 - val_accuracy: 0.8679\n",
      "Epoch 13/30\n",
      "1870/1870 [==============================] - 26s 14ms/step - loss: 0.0253 - accuracy: 0.8621 - val_loss: 0.0176 - val_accuracy: 0.8695\n",
      "Epoch 14/30\n",
      "1870/1870 [==============================] - 26s 14ms/step - loss: 0.0228 - accuracy: 0.8632 - val_loss: 0.0304 - val_accuracy: 0.8635\n",
      "Epoch 15/30\n",
      "1870/1870 [==============================] - 26s 14ms/step - loss: 0.0229 - accuracy: 0.8613 - val_loss: 0.0199 - val_accuracy: 0.8726\n",
      "Epoch 16/30\n",
      "1870/1870 [==============================] - 26s 14ms/step - loss: 0.0222 - accuracy: 0.8657 - val_loss: 0.0171 - val_accuracy: 0.8842\n",
      "Epoch 17/30\n",
      "1870/1870 [==============================] - 26s 14ms/step - loss: 0.0210 - accuracy: 0.8710 - val_loss: 0.0155 - val_accuracy: 0.8657\n",
      "Epoch 18/30\n",
      "1870/1870 [==============================] - 26s 14ms/step - loss: 0.0195 - accuracy: 0.8667 - val_loss: 0.0135 - val_accuracy: 0.8698\n",
      "Epoch 19/30\n",
      "1870/1870 [==============================] - 27s 15ms/step - loss: 0.0197 - accuracy: 0.8653 - val_loss: 0.0146 - val_accuracy: 0.8706\n",
      "Epoch 20/30\n",
      "1870/1870 [==============================] - 27s 14ms/step - loss: 0.0198 - accuracy: 0.8622 - val_loss: 0.0145 - val_accuracy: 0.8592\n",
      "Epoch 21/30\n",
      "1870/1870 [==============================] - 27s 14ms/step - loss: 0.0181 - accuracy: 0.8656 - val_loss: 0.0138 - val_accuracy: 0.8674\n",
      "Epoch 22/30\n",
      "1870/1870 [==============================] - 26s 14ms/step - loss: 0.0187 - accuracy: 0.8647 - val_loss: 0.0150 - val_accuracy: 0.8673\n",
      "Epoch 23/30\n",
      "1870/1870 [==============================] - 27s 14ms/step - loss: 0.0172 - accuracy: 0.8676 - val_loss: 0.0134 - val_accuracy: 0.8882\n",
      "Epoch 24/30\n",
      "1870/1870 [==============================] - 26s 14ms/step - loss: 0.0172 - accuracy: 0.8691 - val_loss: 0.0140 - val_accuracy: 0.8667\n",
      "Epoch 25/30\n",
      "1870/1870 [==============================] - 26s 14ms/step - loss: 0.0173 - accuracy: 0.8711 - val_loss: 0.0130 - val_accuracy: 0.8762\n",
      "Epoch 26/30\n",
      "1870/1870 [==============================] - 26s 14ms/step - loss: 0.0169 - accuracy: 0.8745 - val_loss: 0.0124 - val_accuracy: 0.8755\n",
      "Epoch 27/30\n",
      "1870/1870 [==============================] - 26s 14ms/step - loss: 0.0160 - accuracy: 0.8781 - val_loss: 0.0110 - val_accuracy: 0.8673\n",
      "Epoch 28/30\n",
      "1870/1870 [==============================] - 26s 14ms/step - loss: 0.0155 - accuracy: 0.8720 - val_loss: 0.0119 - val_accuracy: 0.8662\n",
      "Epoch 29/30\n",
      "1870/1870 [==============================] - 26s 14ms/step - loss: 0.0152 - accuracy: 0.8680 - val_loss: 0.0123 - val_accuracy: 0.8657\n",
      "Epoch 30/30\n",
      "1870/1870 [==============================] - 26s 14ms/step - loss: 0.0151 - accuracy: 0.8694 - val_loss: 0.0116 - val_accuracy: 0.8750\n"
     ]
    },
    {
     "data": {
      "text/plain": [
       "<tensorflow.python.keras.callbacks.History at 0x25bedaa5d00>"
      ]
     },
     "execution_count": 109,
     "metadata": {},
     "output_type": "execute_result"
    }
   ],
   "source": [
    "model_with_filter_PR_standard = LSTM_model(11)\n",
    "model_with_filter_PR_standard.fit(x_data_filter, y_data_filter, epochs=30, batch_size=64, validation_split=0.1)"
   ]
  },
  {
   "cell_type": "code",
   "execution_count": 110,
   "id": "5b7758be",
   "metadata": {},
   "outputs": [],
   "source": [
    "model_with_filter_PR_standard.save(\"modelop/LSTM/LSTM_with_filter_PR50_standard.h5\")"
   ]
  },
  {
   "cell_type": "markdown",
   "id": "0974f1fc",
   "metadata": {},
   "source": [
    "Evaluate"
   ]
  },
  {
   "cell_type": "code",
   "execution_count": 111,
   "id": "a9ed17f1",
   "metadata": {},
   "outputs": [
    {
     "name": "stdout",
     "output_type": "stream",
     "text": [
      "Model: \"sequential_2\"\n",
      "_________________________________________________________________\n",
      "Layer (type)                 Output Shape              Param #   \n",
      "=================================================================\n",
      "lstm_8 (LSTM)                (None, 20, 128)           71680     \n",
      "_________________________________________________________________\n",
      "dropout_6 (Dropout)          (None, 20, 128)           0         \n",
      "_________________________________________________________________\n",
      "lstm_9 (LSTM)                (None, 20, 128)           131584    \n",
      "_________________________________________________________________\n",
      "dropout_7 (Dropout)          (None, 20, 128)           0         \n",
      "_________________________________________________________________\n",
      "lstm_10 (LSTM)               (None, 20, 128)           131584    \n",
      "_________________________________________________________________\n",
      "dropout_8 (Dropout)          (None, 20, 128)           0         \n",
      "_________________________________________________________________\n",
      "lstm_11 (LSTM)               (None, 128)               131584    \n",
      "_________________________________________________________________\n",
      "dense_4 (Dense)              (None, 32)                4128      \n",
      "_________________________________________________________________\n",
      "dense_5 (Dense)              (None, 6)                 198       \n",
      "=================================================================\n",
      "Total params: 470,758\n",
      "Trainable params: 470,758\n",
      "Non-trainable params: 0\n",
      "_________________________________________________________________\n"
     ]
    }
   ],
   "source": [
    "model = load_model(\"modelop/LSTM/LSTM_with_filter_PR50_standard.h5\")\n",
    "model.summary()"
   ]
  },
  {
   "cell_type": "code",
   "execution_count": 112,
   "id": "8ed5b053",
   "metadata": {},
   "outputs": [
    {
     "name": "stdout",
     "output_type": "stream",
     "text": [
      "1433/1433 [==============================] - 12s 7ms/step - loss: 1.7234 - accuracy: 0.4786\n"
     ]
    },
    {
     "data": {
      "text/plain": [
       "[1.7234293222427368, 0.47859853506088257]"
      ]
     },
     "execution_count": 112,
     "metadata": {},
     "output_type": "execute_result"
    }
   ],
   "source": [
    "model.evaluate(x_ts_data_filter, y_ts_data_filter)"
   ]
  },
  {
   "cell_type": "markdown",
   "id": "3e6084ef",
   "metadata": {},
   "source": [
    "# With lowpass filter 、Polyregression and standardization (segment length = 25)"
   ]
  },
  {
   "cell_type": "markdown",
   "id": "eef393c7",
   "metadata": {},
   "source": [
    "Training data with filter, Polyregression and standardization"
   ]
  },
  {
   "cell_type": "code",
   "execution_count": 113,
   "id": "231d4c37",
   "metadata": {},
   "outputs": [],
   "source": [
    "x_train_filter_PR = polyregression_allsignal(x_data_df.values, 25)"
   ]
  },
  {
   "cell_type": "code",
   "execution_count": 114,
   "id": "e7d0794b",
   "metadata": {},
   "outputs": [
    {
     "data": {
      "text/plain": [
       "array([[-180.77159145,  206.7278568 ,  222.60515821, ...,  459.66327971,\n",
       "         339.11245424,  382.12785358],\n",
       "       [-182.81173291,  206.36714331,  219.46829425, ...,  456.13067378,\n",
       "         325.95422504,  364.46502573],\n",
       "       [-184.56733463,  206.10506415,  216.39671664, ...,  452.65508741,\n",
       "         313.36650454,  347.72506254],\n",
       "       ...,\n",
       "       [-353.80567014,  165.25584067, -229.96648337, ...,  -90.26035574,\n",
       "        -179.76947918, -160.66879602],\n",
       "       [-373.69297366,  145.03491078, -230.87975283, ...,  -93.00046833,\n",
       "        -194.89412096, -171.69742352],\n",
       "       [-395.01328123,  123.28071821, -231.7721043 , ...,  -95.70808864,\n",
       "        -211.18488416, -183.57632656]])"
      ]
     },
     "execution_count": 114,
     "metadata": {},
     "output_type": "execute_result"
    }
   ],
   "source": [
    "x_train_filter_PR"
   ]
  },
  {
   "cell_type": "code",
   "execution_count": 115,
   "id": "3c592a3d",
   "metadata": {},
   "outputs": [
    {
     "data": {
      "text/plain": [
       "(1185498, 11)"
      ]
     },
     "execution_count": 115,
     "metadata": {},
     "output_type": "execute_result"
    }
   ],
   "source": [
    "x_train_filter_PR.shape"
   ]
  },
  {
   "cell_type": "code",
   "execution_count": 116,
   "id": "82cac75f",
   "metadata": {},
   "outputs": [],
   "source": [
    "x_train_filter_PR_st = StandardScaler().fit_transform(x_train_filter_PR)\n",
    "x_train_filter_PR_st = pd.DataFrame(x_train_filter_PR_st)\n",
    "y=pd.DataFrame(y_data)"
   ]
  },
  {
   "cell_type": "code",
   "execution_count": 117,
   "id": "4085f710",
   "metadata": {},
   "outputs": [
    {
     "data": {
      "text/plain": [
       "array([[-0.97530169, -0.60360124,  2.64045035, ...,  2.2247401 ,\n",
       "         1.80040352,  0.57629557],\n",
       "       [-0.9825172 , -0.60669142,  2.60846418, ...,  2.20152742,\n",
       "         1.72259801,  0.52114016],\n",
       "       [-0.98872637, -0.60893662,  2.57714371, ...,  2.17868942,\n",
       "         1.64816596,  0.46886657],\n",
       "       ...,\n",
       "       [-1.58728392, -0.95888678, -1.97436141, ..., -1.3887959 ,\n",
       "        -1.26778072, -1.11868613],\n",
       "       [-1.6576208 , -1.13211695, -1.98367389, ..., -1.40680112,\n",
       "        -1.35721376, -1.15312503],\n",
       "       [-1.73302588, -1.31848238, -1.99277308, ..., -1.42459283,\n",
       "        -1.45354216, -1.19021908]])"
      ]
     },
     "execution_count": 117,
     "metadata": {},
     "output_type": "execute_result"
    }
   ],
   "source": [
    "x_train_filter_PR_st.values"
   ]
  },
  {
   "cell_type": "code",
   "execution_count": 118,
   "id": "f7aaffa1",
   "metadata": {},
   "outputs": [
    {
     "data": {
      "text/plain": [
       "(1185498, 11)"
      ]
     },
     "execution_count": 118,
     "metadata": {},
     "output_type": "execute_result"
    }
   ],
   "source": [
    "x_train_filter_PR_st.shape"
   ]
  },
  {
   "cell_type": "markdown",
   "id": "ed1241fc",
   "metadata": {},
   "source": [
    "Testing data with filter, Polyregression and standardization"
   ]
  },
  {
   "cell_type": "code",
   "execution_count": 119,
   "id": "57985f07",
   "metadata": {},
   "outputs": [],
   "source": [
    "x_test_filter_PR = polyregression_allsignal(x_test_df.values, 25)"
   ]
  },
  {
   "cell_type": "code",
   "execution_count": 120,
   "id": "e07e0e92",
   "metadata": {},
   "outputs": [
    {
     "data": {
      "text/plain": [
       "array([[ 114.17482304,  275.96321018, -203.72513522, ...,  120.71047486,\n",
       "          38.71786132,   39.3555655 ],\n",
       "       [ 105.56163097,  268.75535528, -205.98746629, ...,  118.28202968,\n",
       "          37.89098847,   41.36885898],\n",
       "       [  97.53534537,  262.07441326, -208.13653896, ...,  116.14141954,\n",
       "          37.4344042 ,   43.66525028],\n",
       "       ...,\n",
       "       [  88.30356036,  310.59315586,  -44.05697222, ...,  -37.54222551,\n",
       "         102.88667737,  282.11160873],\n",
       "       [  90.97775941,  302.53814344,  -49.71376518, ...,  -46.45412753,\n",
       "         105.1717268 ,  289.14572361],\n",
       "       [  93.96521126,  293.86275848,  -55.74674411, ...,  -56.28764509,\n",
       "         107.47171817,  296.44384277]])"
      ]
     },
     "execution_count": 120,
     "metadata": {},
     "output_type": "execute_result"
    }
   ],
   "source": [
    "x_test_filter_PR"
   ]
  },
  {
   "cell_type": "code",
   "execution_count": 121,
   "id": "040c9dad",
   "metadata": {},
   "outputs": [
    {
     "data": {
      "text/plain": [
       "(236894, 11)"
      ]
     },
     "execution_count": 121,
     "metadata": {},
     "output_type": "execute_result"
    }
   ],
   "source": [
    "x_test_filter_PR.shape"
   ]
  },
  {
   "cell_type": "code",
   "execution_count": 122,
   "id": "ea68c526",
   "metadata": {},
   "outputs": [],
   "source": [
    "x_test_filter_PR_st = StandardScaler().fit_transform(x_test_filter_PR)\n",
    "x_test_filter_PR_st = pd.DataFrame(x_test_filter_PR_st)\n",
    "y_test=pd.DataFrame(y_ts_data)"
   ]
  },
  {
   "cell_type": "code",
   "execution_count": 123,
   "id": "475801ad",
   "metadata": {},
   "outputs": [
    {
     "data": {
      "text/plain": [
       "array([[ 2.12981887e-04, -5.51931816e-01, -1.81206849e+00, ...,\n",
       "         8.49497206e-01,  3.89852114e-01, -4.07781197e-01],\n",
       "       [-5.70724194e-02, -6.25292872e-01, -1.83637975e+00, ...,\n",
       "         8.22699404e-01,  3.83204654e-01, -3.99104322e-01],\n",
       "       [-1.10454370e-01, -6.93291045e-01, -1.85947393e+00, ...,\n",
       "         7.99077850e-01,  3.79534047e-01, -3.89207354e-01],\n",
       "       ...,\n",
       "       [-1.71853965e-01, -1.99470587e-01, -9.62562783e-02, ...,\n",
       "        -8.96815486e-01,  9.05722949e-01,  6.38446742e-01],\n",
       "       [-1.54068159e-01, -2.81453955e-01, -1.57044818e-01, ...,\n",
       "        -9.95157995e-01,  9.24093093e-01,  6.68762311e-01],\n",
       "       [-1.34198942e-01, -3.69751432e-01, -2.21875894e-01, ...,\n",
       "        -1.10367050e+00,  9.42583358e-01,  7.00215683e-01]])"
      ]
     },
     "execution_count": 123,
     "metadata": {},
     "output_type": "execute_result"
    }
   ],
   "source": [
    "x_test_filter_PR_st.values"
   ]
  },
  {
   "cell_type": "code",
   "execution_count": 124,
   "id": "b8563d10",
   "metadata": {},
   "outputs": [
    {
     "data": {
      "text/plain": [
       "(236894, 11)"
      ]
     },
     "execution_count": 124,
     "metadata": {},
     "output_type": "execute_result"
    }
   ],
   "source": [
    "x_test_filter_PR_st.shape"
   ]
  },
  {
   "cell_type": "markdown",
   "id": "d0600e1f",
   "metadata": {},
   "source": [
    "Filter [0 0 0 0 0 0] from the data"
   ]
  },
  {
   "cell_type": "code",
   "execution_count": 125,
   "id": "7cb36851",
   "metadata": {},
   "outputs": [],
   "source": [
    "x_data_filter, y_data_filter = filter_dataset(x_train_filter_PR_st.values, y_data)"
   ]
  },
  {
   "cell_type": "code",
   "execution_count": 126,
   "id": "68fabd45",
   "metadata": {},
   "outputs": [
    {
     "data": {
      "text/plain": [
       "(132965, 20, 11)"
      ]
     },
     "execution_count": 126,
     "metadata": {},
     "output_type": "execute_result"
    }
   ],
   "source": [
    "x_data_filter.shape"
   ]
  },
  {
   "cell_type": "code",
   "execution_count": 127,
   "id": "1d398ca6",
   "metadata": {},
   "outputs": [
    {
     "data": {
      "text/plain": [
       "(132965, 6)"
      ]
     },
     "execution_count": 127,
     "metadata": {},
     "output_type": "execute_result"
    }
   ],
   "source": [
    "y_data_filter.shape"
   ]
  },
  {
   "cell_type": "code",
   "execution_count": 128,
   "id": "79609cb6",
   "metadata": {},
   "outputs": [],
   "source": [
    "x_ts_data_filter, y_ts_data_filter = filter_dataset(x_test_filter_PR_st.values, y_ts_data)"
   ]
  },
  {
   "cell_type": "code",
   "execution_count": 129,
   "id": "57028039",
   "metadata": {},
   "outputs": [
    {
     "data": {
      "text/plain": [
       "(45838, 20, 11)"
      ]
     },
     "execution_count": 129,
     "metadata": {},
     "output_type": "execute_result"
    }
   ],
   "source": [
    "x_ts_data_filter.shape"
   ]
  },
  {
   "cell_type": "code",
   "execution_count": 130,
   "id": "036046ca",
   "metadata": {},
   "outputs": [
    {
     "data": {
      "text/plain": [
       "(45838, 6)"
      ]
     },
     "execution_count": 130,
     "metadata": {},
     "output_type": "execute_result"
    }
   ],
   "source": [
    "y_ts_data_filter.shape"
   ]
  },
  {
   "cell_type": "markdown",
   "id": "d536a657",
   "metadata": {},
   "source": [
    "Shuffle"
   ]
  },
  {
   "cell_type": "code",
   "execution_count": 131,
   "id": "3e763e3f",
   "metadata": {},
   "outputs": [],
   "source": [
    "x_data_filter, y_data_filter = utils.shuffle(x_data_filter, y_data_filter)"
   ]
  },
  {
   "cell_type": "code",
   "execution_count": 132,
   "id": "2db60c1e",
   "metadata": {},
   "outputs": [
    {
     "data": {
      "text/plain": [
       "(132965, 20, 11)"
      ]
     },
     "execution_count": 132,
     "metadata": {},
     "output_type": "execute_result"
    }
   ],
   "source": [
    "x_data_filter.shape"
   ]
  },
  {
   "cell_type": "code",
   "execution_count": 133,
   "id": "2a8d4179",
   "metadata": {},
   "outputs": [
    {
     "data": {
      "text/plain": [
       "(132965, 6)"
      ]
     },
     "execution_count": 133,
     "metadata": {},
     "output_type": "execute_result"
    }
   ],
   "source": [
    "y_data_filter.shape"
   ]
  },
  {
   "cell_type": "markdown",
   "id": "83f74e22",
   "metadata": {},
   "source": [
    "Model"
   ]
  },
  {
   "cell_type": "code",
   "execution_count": 134,
   "id": "df815f50",
   "metadata": {},
   "outputs": [
    {
     "name": "stderr",
     "output_type": "stream",
     "text": [
      "C:\\Users\\User\\anaconda3\\envs\\modelop_gpu\\lib\\site-packages\\tensorflow\\python\\keras\\optimizer_v2\\optimizer_v2.py:374: UserWarning: The `lr` argument is deprecated, use `learning_rate` instead.\n",
      "  warnings.warn(\n"
     ]
    },
    {
     "name": "stdout",
     "output_type": "stream",
     "text": [
      "Model: \"sequential_3\"\n",
      "_________________________________________________________________\n",
      "Layer (type)                 Output Shape              Param #   \n",
      "=================================================================\n",
      "lstm_12 (LSTM)               (None, 20, 128)           71680     \n",
      "_________________________________________________________________\n",
      "dropout_9 (Dropout)          (None, 20, 128)           0         \n",
      "_________________________________________________________________\n",
      "lstm_13 (LSTM)               (None, 20, 128)           131584    \n",
      "_________________________________________________________________\n",
      "dropout_10 (Dropout)         (None, 20, 128)           0         \n",
      "_________________________________________________________________\n",
      "lstm_14 (LSTM)               (None, 20, 128)           131584    \n",
      "_________________________________________________________________\n",
      "dropout_11 (Dropout)         (None, 20, 128)           0         \n",
      "_________________________________________________________________\n",
      "lstm_15 (LSTM)               (None, 128)               131584    \n",
      "_________________________________________________________________\n",
      "dense_6 (Dense)              (None, 32)                4128      \n",
      "_________________________________________________________________\n",
      "dense_7 (Dense)              (None, 6)                 198       \n",
      "=================================================================\n",
      "Total params: 470,758\n",
      "Trainable params: 470,758\n",
      "Non-trainable params: 0\n",
      "_________________________________________________________________\n",
      "Epoch 1/30\n",
      "1870/1870 [==============================] - 31s 15ms/step - loss: 0.2218 - accuracy: 0.6663 - val_loss: 0.1018 - val_accuracy: 0.8236\n",
      "Epoch 2/30\n",
      "1870/1870 [==============================] - 25s 13ms/step - loss: 0.0935 - accuracy: 0.8256 - val_loss: 0.0696 - val_accuracy: 0.8322\n",
      "Epoch 3/30\n",
      "1870/1870 [==============================] - 25s 13ms/step - loss: 0.0707 - accuracy: 0.8439 - val_loss: 0.0590 - val_accuracy: 0.8391\n",
      "Epoch 4/30\n",
      "1870/1870 [==============================] - 25s 14ms/step - loss: 0.0586 - accuracy: 0.8502 - val_loss: 0.0459 - val_accuracy: 0.8573\n",
      "Epoch 5/30\n",
      "1870/1870 [==============================] - 26s 14ms/step - loss: 0.0515 - accuracy: 0.8492 - val_loss: 0.0369 - val_accuracy: 0.8580\n",
      "Epoch 6/30\n",
      "1870/1870 [==============================] - 25s 14ms/step - loss: 0.0454 - accuracy: 0.8519 - val_loss: 0.0348 - val_accuracy: 0.8586\n",
      "Epoch 7/30\n",
      "1870/1870 [==============================] - 25s 14ms/step - loss: 0.0394 - accuracy: 0.8558 - val_loss: 0.0313 - val_accuracy: 0.8677\n",
      "Epoch 8/30\n",
      "1870/1870 [==============================] - 26s 14ms/step - loss: 0.0373 - accuracy: 0.8537 - val_loss: 0.0274 - val_accuracy: 0.8591\n",
      "Epoch 9/30\n",
      "1870/1870 [==============================] - 26s 14ms/step - loss: 0.0352 - accuracy: 0.8570 - val_loss: 0.0274 - val_accuracy: 0.8555\n",
      "Epoch 10/30\n",
      "1870/1870 [==============================] - 26s 14ms/step - loss: 0.0298 - accuracy: 0.8597 - val_loss: 0.0248 - val_accuracy: 0.8634\n",
      "Epoch 11/30\n",
      "1870/1870 [==============================] - 26s 14ms/step - loss: 0.0286 - accuracy: 0.8621 - val_loss: 0.0242 - val_accuracy: 0.8548\n",
      "Epoch 12/30\n",
      "1870/1870 [==============================] - 26s 14ms/step - loss: 0.0282 - accuracy: 0.8584 - val_loss: 0.0206 - val_accuracy: 0.8672\n",
      "Epoch 13/30\n",
      "1870/1870 [==============================] - 26s 14ms/step - loss: 0.0257 - accuracy: 0.8605 - val_loss: 0.0228 - val_accuracy: 0.8696\n",
      "Epoch 14/30\n",
      "1870/1870 [==============================] - 26s 14ms/step - loss: 0.0245 - accuracy: 0.8589 - val_loss: 0.0197 - val_accuracy: 0.8708\n",
      "Epoch 15/30\n",
      "1870/1870 [==============================] - 26s 14ms/step - loss: 0.0227 - accuracy: 0.8603 - val_loss: 0.0198 - val_accuracy: 0.8673\n",
      "Epoch 16/30\n",
      "1870/1870 [==============================] - 26s 14ms/step - loss: 0.0243 - accuracy: 0.8597 - val_loss: 0.0171 - val_accuracy: 0.8709\n",
      "Epoch 17/30\n",
      "1870/1870 [==============================] - 26s 14ms/step - loss: 0.0204 - accuracy: 0.8628 - val_loss: 0.0215 - val_accuracy: 0.8628\n",
      "Epoch 18/30\n",
      "1870/1870 [==============================] - 26s 14ms/step - loss: 0.0201 - accuracy: 0.8647 - val_loss: 0.0163 - val_accuracy: 0.8651\n",
      "Epoch 19/30\n",
      "1870/1870 [==============================] - 26s 14ms/step - loss: 0.0204 - accuracy: 0.8613 - val_loss: 0.0154 - val_accuracy: 0.8676\n",
      "Epoch 20/30\n",
      "1870/1870 [==============================] - 26s 14ms/step - loss: 0.0189 - accuracy: 0.8632 - val_loss: 0.0153 - val_accuracy: 0.8700\n",
      "Epoch 21/30\n",
      "1870/1870 [==============================] - 26s 14ms/step - loss: 0.0177 - accuracy: 0.8640 - val_loss: 0.0143 - val_accuracy: 0.8626\n",
      "Epoch 22/30\n",
      "1870/1870 [==============================] - 26s 14ms/step - loss: 0.0180 - accuracy: 0.8659 - val_loss: 0.0135 - val_accuracy: 0.8717\n",
      "Epoch 23/30\n",
      "1870/1870 [==============================] - 26s 14ms/step - loss: 0.0174 - accuracy: 0.8647 - val_loss: 0.0152 - val_accuracy: 0.8653\n",
      "Epoch 24/30\n",
      "1870/1870 [==============================] - 26s 14ms/step - loss: 0.0165 - accuracy: 0.8708 - val_loss: 0.0137 - val_accuracy: 0.8694\n",
      "Epoch 25/30\n",
      "1870/1870 [==============================] - 26s 14ms/step - loss: 0.0178 - accuracy: 0.8703 - val_loss: 0.0143 - val_accuracy: 0.8644\n",
      "Epoch 26/30\n",
      "1870/1870 [==============================] - 26s 14ms/step - loss: 0.0161 - accuracy: 0.8686 - val_loss: 0.0147 - val_accuracy: 0.8791\n",
      "Epoch 27/30\n",
      "1870/1870 [==============================] - 26s 14ms/step - loss: 0.0157 - accuracy: 0.8714 - val_loss: 0.0118 - val_accuracy: 0.8812\n",
      "Epoch 28/30\n",
      "1870/1870 [==============================] - 26s 14ms/step - loss: 0.0149 - accuracy: 0.8692 - val_loss: 0.0143 - val_accuracy: 0.8703\n",
      "Epoch 29/30\n",
      "1870/1870 [==============================] - 26s 14ms/step - loss: 0.0149 - accuracy: 0.8704 - val_loss: 0.0140 - val_accuracy: 0.8727\n",
      "Epoch 30/30\n",
      "1870/1870 [==============================] - 26s 14ms/step - loss: 0.0159 - accuracy: 0.8709 - val_loss: 0.0129 - val_accuracy: 0.8802\n"
     ]
    },
    {
     "data": {
      "text/plain": [
       "<tensorflow.python.keras.callbacks.History at 0x25aa4492d30>"
      ]
     },
     "execution_count": 134,
     "metadata": {},
     "output_type": "execute_result"
    }
   ],
   "source": [
    "model_with_filter_PR_standard = LSTM_model(11)\n",
    "model_with_filter_PR_standard.fit(x_data_filter, y_data_filter, epochs=30, batch_size=64, validation_split=0.1)"
   ]
  },
  {
   "cell_type": "code",
   "execution_count": 135,
   "id": "5675bc2c",
   "metadata": {},
   "outputs": [],
   "source": [
    "model_with_filter_PR_standard.save(\"modelop/LSTM/LSTM_with_filter_PR25_standard.h5\")"
   ]
  },
  {
   "cell_type": "markdown",
   "id": "ba8167fe",
   "metadata": {},
   "source": [
    "Evaluate"
   ]
  },
  {
   "cell_type": "code",
   "execution_count": 136,
   "id": "6f5d3b92",
   "metadata": {},
   "outputs": [
    {
     "name": "stdout",
     "output_type": "stream",
     "text": [
      "Model: \"sequential_3\"\n",
      "_________________________________________________________________\n",
      "Layer (type)                 Output Shape              Param #   \n",
      "=================================================================\n",
      "lstm_12 (LSTM)               (None, 20, 128)           71680     \n",
      "_________________________________________________________________\n",
      "dropout_9 (Dropout)          (None, 20, 128)           0         \n",
      "_________________________________________________________________\n",
      "lstm_13 (LSTM)               (None, 20, 128)           131584    \n",
      "_________________________________________________________________\n",
      "dropout_10 (Dropout)         (None, 20, 128)           0         \n",
      "_________________________________________________________________\n",
      "lstm_14 (LSTM)               (None, 20, 128)           131584    \n",
      "_________________________________________________________________\n",
      "dropout_11 (Dropout)         (None, 20, 128)           0         \n",
      "_________________________________________________________________\n",
      "lstm_15 (LSTM)               (None, 128)               131584    \n",
      "_________________________________________________________________\n",
      "dense_6 (Dense)              (None, 32)                4128      \n",
      "_________________________________________________________________\n",
      "dense_7 (Dense)              (None, 6)                 198       \n",
      "=================================================================\n",
      "Total params: 470,758\n",
      "Trainable params: 470,758\n",
      "Non-trainable params: 0\n",
      "_________________________________________________________________\n"
     ]
    }
   ],
   "source": [
    "model = load_model(\"modelop/LSTM/LSTM_with_filter_PR25_standard.h5\")\n",
    "model.summary()"
   ]
  },
  {
   "cell_type": "code",
   "execution_count": 137,
   "id": "68dda4eb",
   "metadata": {},
   "outputs": [
    {
     "name": "stdout",
     "output_type": "stream",
     "text": [
      "1433/1433 [==============================] - 12s 7ms/step - loss: 1.4905 - accuracy: 0.4818\n"
     ]
    },
    {
     "data": {
      "text/plain": [
       "[1.4904829263687134, 0.4818055033683777]"
      ]
     },
     "execution_count": 137,
     "metadata": {},
     "output_type": "execute_result"
    }
   ],
   "source": [
    "model.evaluate(x_ts_data_filter, y_ts_data_filter)"
   ]
  },
  {
   "cell_type": "markdown",
   "id": "a9af56f2",
   "metadata": {},
   "source": [
    "# With Polyregression and standardization (segment length = 100)"
   ]
  },
  {
   "cell_type": "markdown",
   "id": "6e2ffa8b",
   "metadata": {},
   "source": [
    "Training data with Polyregression and standardization"
   ]
  },
  {
   "cell_type": "code",
   "execution_count": 138,
   "id": "195ec441",
   "metadata": {},
   "outputs": [],
   "source": [
    "x_train_filter_PR = polyregression_allsignal(x_data, 100)"
   ]
  },
  {
   "cell_type": "code",
   "execution_count": 139,
   "id": "cbeb7cf5",
   "metadata": {},
   "outputs": [
    {
     "data": {
      "text/plain": [
       "array([[-178.52687245,  223.94754805,  205.76235294, ...,  428.8198544 ,\n",
       "         253.46760629,  276.8306756 ],\n",
       "       [-178.88900019,  222.67145903,  204.28336245, ...,  428.33815305,\n",
       "         252.31768236,  275.2150691 ],\n",
       "       [-179.23876418,  221.42695866,  202.82779044, ...,  427.85715323,\n",
       "         251.18545393,  273.61992756],\n",
       "       ...,\n",
       "       [-316.00431976,  231.51246031, -262.21939421, ...,  -73.52699252,\n",
       "        -147.34888109, -132.8850011 ],\n",
       "       [-320.65954134,  232.19085936, -265.6848249 , ...,  -74.06395323,\n",
       "        -149.38189724, -134.9921281 ],\n",
       "       [-325.37748918,  232.90296846, -269.17755102, ...,  -74.60420532,\n",
       "        -151.44662956, -137.13067409]])"
      ]
     },
     "execution_count": 139,
     "metadata": {},
     "output_type": "execute_result"
    }
   ],
   "source": [
    "x_train_filter_PR"
   ]
  },
  {
   "cell_type": "code",
   "execution_count": 140,
   "id": "83a00dcc",
   "metadata": {},
   "outputs": [
    {
     "data": {
      "text/plain": [
       "(1185498, 11)"
      ]
     },
     "execution_count": 140,
     "metadata": {},
     "output_type": "execute_result"
    }
   ],
   "source": [
    "x_train_filter_PR.shape"
   ]
  },
  {
   "cell_type": "code",
   "execution_count": 141,
   "id": "2ee6e53f",
   "metadata": {},
   "outputs": [],
   "source": [
    "x_train_filter_PR_st = StandardScaler().fit_transform(x_train_filter_PR)\n",
    "x_train_filter_PR_st = pd.DataFrame(x_train_filter_PR_st)\n",
    "y=pd.DataFrame(y_data)"
   ]
  },
  {
   "cell_type": "code",
   "execution_count": 142,
   "id": "dfaf2298",
   "metadata": {},
   "outputs": [
    {
     "data": {
      "text/plain": [
       "array([[-0.97887761, -0.46501503,  2.49628836, ...,  2.05352432,\n",
       "         1.3253811 ,  0.2501536 ],\n",
       "       [-0.98017362, -0.47616124,  2.4810388 , ...,  2.05030983,\n",
       "         1.31841652,  0.24505419],\n",
       "       [-0.98142538, -0.48703154,  2.4660307 , ...,  2.04710002,\n",
       "         1.31155911,  0.24001938],\n",
       "       ...,\n",
       "       [-1.47089195, -0.39893803, -2.32897318, ..., -1.29873535,\n",
       "        -1.10218844, -1.04304814],\n",
       "       [-1.48755239, -0.39301244, -2.36470451, ..., -1.30231859,\n",
       "        -1.11450153, -1.04969895],\n",
       "       [-1.50443733, -0.3867924 , -2.40071728, ..., -1.3059238 ,\n",
       "        -1.12700671, -1.05644892]])"
      ]
     },
     "execution_count": 142,
     "metadata": {},
     "output_type": "execute_result"
    }
   ],
   "source": [
    "x_train_filter_PR_st.values"
   ]
  },
  {
   "cell_type": "code",
   "execution_count": 143,
   "id": "13550896",
   "metadata": {},
   "outputs": [
    {
     "data": {
      "text/plain": [
       "(1185498, 11)"
      ]
     },
     "execution_count": 143,
     "metadata": {},
     "output_type": "execute_result"
    }
   ],
   "source": [
    "x_train_filter_PR_st.shape"
   ]
  },
  {
   "cell_type": "markdown",
   "id": "6321a27c",
   "metadata": {},
   "source": [
    "Testing data with Polyregression and standardization"
   ]
  },
  {
   "cell_type": "code",
   "execution_count": 144,
   "id": "4d7bca43",
   "metadata": {},
   "outputs": [],
   "source": [
    "x_test_filter_PR = polyregression_allsignal(x_ts_data, 100)"
   ]
  },
  {
   "cell_type": "code",
   "execution_count": 145,
   "id": "580bf878",
   "metadata": {},
   "outputs": [
    {
     "data": {
      "text/plain": [
       "array([[  66.40592895,  236.25588818, -213.46563774, ...,  113.78914968,\n",
       "          43.03850903,   65.2039371 ],\n",
       "       [  67.2264397 ,  236.5733171 , -214.07592912, ...,  115.06038033,\n",
       "          45.96155168,   68.03868199],\n",
       "       [  68.01704247,  236.88195899, -214.67086178, ...,  116.30538645,\n",
       "          48.81951758,   70.80466756],\n",
       "       ...,\n",
       "       [ 103.63016025,  345.51137293,  -23.25581156, ...,  -25.34219965,\n",
       "          84.01507714,  262.1437621 ],\n",
       "       [ 106.33570603,  345.9262589 ,  -24.1197084 , ...,  -26.25491457,\n",
       "          85.19004895,  265.17432856],\n",
       "       [ 109.09020157,  346.34616461,  -24.99892217, ...,  -27.18969765,\n",
       "          86.38479843,  268.27400616]])"
      ]
     },
     "execution_count": 145,
     "metadata": {},
     "output_type": "execute_result"
    }
   ],
   "source": [
    "x_test_filter_PR"
   ]
  },
  {
   "cell_type": "code",
   "execution_count": 146,
   "id": "2be0eefd",
   "metadata": {},
   "outputs": [
    {
     "data": {
      "text/plain": [
       "(236894, 11)"
      ]
     },
     "execution_count": 146,
     "metadata": {},
     "output_type": "execute_result"
    }
   ],
   "source": [
    "x_test_filter_PR.shape"
   ]
  },
  {
   "cell_type": "code",
   "execution_count": 147,
   "id": "7b3cd71c",
   "metadata": {},
   "outputs": [],
   "source": [
    "x_test_filter_PR_st = StandardScaler().fit_transform(x_test_filter_PR)\n",
    "x_test_filter_PR_st = pd.DataFrame(x_test_filter_PR_st)\n",
    "y_test=pd.DataFrame(y_ts_data)"
   ]
  },
  {
   "cell_type": "code",
   "execution_count": 148,
   "id": "b2dcbbd2",
   "metadata": {},
   "outputs": [
    {
     "data": {
      "text/plain": [
       "array([[-0.33102689, -0.982391  , -1.93783558, ...,  0.80562739,\n",
       "         0.44278126, -0.30198632],\n",
       "       [-0.32533711, -0.97907129, -1.94446602, ...,  0.82024524,\n",
       "         0.46728741, -0.28953814],\n",
       "       [-0.31985473, -0.97584348, -1.95092959, ...,  0.83456153,\n",
       "         0.49124798, -0.2773919 ],\n",
       "       ...,\n",
       "       [-0.07289784,  0.16021634,  0.12867572, ..., -0.79424055,\n",
       "         0.78631992,  0.56283306],\n",
       "       [-0.0541364 ,  0.16455526,  0.11929002, ..., -0.80473584,\n",
       "         0.79617062,  0.57614115],\n",
       "       [-0.03503553,  0.16894669,  0.10973791, ..., -0.81548488,\n",
       "         0.80618714,  0.58975272]])"
      ]
     },
     "execution_count": 148,
     "metadata": {},
     "output_type": "execute_result"
    }
   ],
   "source": [
    "x_test_filter_PR_st.values"
   ]
  },
  {
   "cell_type": "code",
   "execution_count": 149,
   "id": "cca4db1a",
   "metadata": {},
   "outputs": [
    {
     "data": {
      "text/plain": [
       "(236894, 11)"
      ]
     },
     "execution_count": 149,
     "metadata": {},
     "output_type": "execute_result"
    }
   ],
   "source": [
    "x_test_filter_PR_st.shape"
   ]
  },
  {
   "cell_type": "markdown",
   "id": "4285f9e2",
   "metadata": {},
   "source": [
    "Filter [0 0 0 0 0 0] from the data"
   ]
  },
  {
   "cell_type": "code",
   "execution_count": 150,
   "id": "10e88f53",
   "metadata": {},
   "outputs": [],
   "source": [
    "x_data_filter, y_data_filter = filter_dataset(x_train_filter_PR_st.values, y_data)"
   ]
  },
  {
   "cell_type": "code",
   "execution_count": 151,
   "id": "43087af0",
   "metadata": {},
   "outputs": [
    {
     "data": {
      "text/plain": [
       "(132965, 20, 11)"
      ]
     },
     "execution_count": 151,
     "metadata": {},
     "output_type": "execute_result"
    }
   ],
   "source": [
    "x_data_filter.shape"
   ]
  },
  {
   "cell_type": "code",
   "execution_count": 152,
   "id": "068bcc63",
   "metadata": {},
   "outputs": [
    {
     "data": {
      "text/plain": [
       "(132965, 6)"
      ]
     },
     "execution_count": 152,
     "metadata": {},
     "output_type": "execute_result"
    }
   ],
   "source": [
    "y_data_filter.shape"
   ]
  },
  {
   "cell_type": "code",
   "execution_count": 153,
   "id": "a136d80c",
   "metadata": {},
   "outputs": [],
   "source": [
    "x_ts_data_filter, y_ts_data_filter = filter_dataset(x_test_filter_PR_st.values, y_ts_data)"
   ]
  },
  {
   "cell_type": "code",
   "execution_count": 154,
   "id": "5aeb69f1",
   "metadata": {},
   "outputs": [
    {
     "data": {
      "text/plain": [
       "(45838, 20, 11)"
      ]
     },
     "execution_count": 154,
     "metadata": {},
     "output_type": "execute_result"
    }
   ],
   "source": [
    "x_ts_data_filter.shape"
   ]
  },
  {
   "cell_type": "code",
   "execution_count": 155,
   "id": "e598f5b0",
   "metadata": {},
   "outputs": [
    {
     "data": {
      "text/plain": [
       "(45838, 6)"
      ]
     },
     "execution_count": 155,
     "metadata": {},
     "output_type": "execute_result"
    }
   ],
   "source": [
    "y_ts_data_filter.shape"
   ]
  },
  {
   "cell_type": "markdown",
   "id": "7da2a088",
   "metadata": {},
   "source": [
    "Shuffle"
   ]
  },
  {
   "cell_type": "code",
   "execution_count": 156,
   "id": "73d0e04d",
   "metadata": {},
   "outputs": [],
   "source": [
    "x_data_filter, y_data_filter = utils.shuffle(x_data_filter, y_data_filter)"
   ]
  },
  {
   "cell_type": "code",
   "execution_count": 157,
   "id": "e60f20fb",
   "metadata": {},
   "outputs": [
    {
     "data": {
      "text/plain": [
       "(132965, 20, 11)"
      ]
     },
     "execution_count": 157,
     "metadata": {},
     "output_type": "execute_result"
    }
   ],
   "source": [
    "x_data_filter.shape"
   ]
  },
  {
   "cell_type": "code",
   "execution_count": 158,
   "id": "2c94f335",
   "metadata": {},
   "outputs": [
    {
     "data": {
      "text/plain": [
       "(132965, 6)"
      ]
     },
     "execution_count": 158,
     "metadata": {},
     "output_type": "execute_result"
    }
   ],
   "source": [
    "y_data_filter.shape"
   ]
  },
  {
   "cell_type": "markdown",
   "id": "38f0ca81",
   "metadata": {},
   "source": [
    "Model"
   ]
  },
  {
   "cell_type": "code",
   "execution_count": 159,
   "id": "4c8b8233",
   "metadata": {},
   "outputs": [
    {
     "name": "stderr",
     "output_type": "stream",
     "text": [
      "C:\\Users\\User\\anaconda3\\envs\\modelop_gpu\\lib\\site-packages\\tensorflow\\python\\keras\\optimizer_v2\\optimizer_v2.py:374: UserWarning: The `lr` argument is deprecated, use `learning_rate` instead.\n",
      "  warnings.warn(\n"
     ]
    },
    {
     "name": "stdout",
     "output_type": "stream",
     "text": [
      "Model: \"sequential_4\"\n",
      "_________________________________________________________________\n",
      "Layer (type)                 Output Shape              Param #   \n",
      "=================================================================\n",
      "lstm_16 (LSTM)               (None, 20, 128)           71680     \n",
      "_________________________________________________________________\n",
      "dropout_12 (Dropout)         (None, 20, 128)           0         \n",
      "_________________________________________________________________\n",
      "lstm_17 (LSTM)               (None, 20, 128)           131584    \n",
      "_________________________________________________________________\n",
      "dropout_13 (Dropout)         (None, 20, 128)           0         \n",
      "_________________________________________________________________\n",
      "lstm_18 (LSTM)               (None, 20, 128)           131584    \n",
      "_________________________________________________________________\n",
      "dropout_14 (Dropout)         (None, 20, 128)           0         \n",
      "_________________________________________________________________\n",
      "lstm_19 (LSTM)               (None, 128)               131584    \n",
      "_________________________________________________________________\n",
      "dense_8 (Dense)              (None, 32)                4128      \n",
      "_________________________________________________________________\n",
      "dense_9 (Dense)              (None, 6)                 198       \n",
      "=================================================================\n",
      "Total params: 470,758\n",
      "Trainable params: 470,758\n",
      "Non-trainable params: 0\n",
      "_________________________________________________________________\n",
      "Epoch 1/30\n",
      "1870/1870 [==============================] - 30s 14ms/step - loss: 0.2075 - accuracy: 0.6810 - val_loss: 0.0795 - val_accuracy: 0.8460\n",
      "Epoch 2/30\n",
      "1870/1870 [==============================] - 25s 13ms/step - loss: 0.0776 - accuracy: 0.8361 - val_loss: 0.0535 - val_accuracy: 0.8350\n",
      "Epoch 3/30\n",
      "1870/1870 [==============================] - 25s 14ms/step - loss: 0.0571 - accuracy: 0.8506 - val_loss: 0.0414 - val_accuracy: 0.8658\n",
      "Epoch 4/30\n",
      "1870/1870 [==============================] - 26s 14ms/step - loss: 0.0483 - accuracy: 0.8528 - val_loss: 0.0366 - val_accuracy: 0.8518\n",
      "Epoch 5/30\n",
      "1870/1870 [==============================] - 26s 14ms/step - loss: 0.0425 - accuracy: 0.8539 - val_loss: 0.0340 - val_accuracy: 0.8609\n",
      "Epoch 6/30\n",
      "1870/1870 [==============================] - 25s 14ms/step - loss: 0.0386 - accuracy: 0.8531 - val_loss: 0.0296 - val_accuracy: 0.8507\n",
      "Epoch 7/30\n",
      "1870/1870 [==============================] - 26s 14ms/step - loss: 0.0362 - accuracy: 0.8551 - val_loss: 0.0304 - val_accuracy: 0.8555\n",
      "Epoch 8/30\n",
      "1870/1870 [==============================] - 26s 14ms/step - loss: 0.0319 - accuracy: 0.8574 - val_loss: 0.0263 - val_accuracy: 0.8537\n",
      "Epoch 9/30\n",
      "1870/1870 [==============================] - 26s 14ms/step - loss: 0.0311 - accuracy: 0.8567 - val_loss: 0.0226 - val_accuracy: 0.8480\n",
      "Epoch 10/30\n",
      "1870/1870 [==============================] - 26s 14ms/step - loss: 0.0298 - accuracy: 0.8579 - val_loss: 0.0222 - val_accuracy: 0.8609\n",
      "Epoch 11/30\n",
      "1870/1870 [==============================] - 26s 14ms/step - loss: 0.0269 - accuracy: 0.8612 - val_loss: 0.0231 - val_accuracy: 0.8506\n",
      "Epoch 12/30\n",
      "1870/1870 [==============================] - 26s 14ms/step - loss: 0.0266 - accuracy: 0.8552 - val_loss: 0.0205 - val_accuracy: 0.8426\n",
      "Epoch 13/30\n",
      "1870/1870 [==============================] - 26s 14ms/step - loss: 0.0252 - accuracy: 0.8562 - val_loss: 0.0184 - val_accuracy: 0.8518\n",
      "Epoch 14/30\n",
      "1870/1870 [==============================] - 26s 14ms/step - loss: 0.0237 - accuracy: 0.8592 - val_loss: 0.0178 - val_accuracy: 0.8543\n",
      "Epoch 15/30\n",
      "1870/1870 [==============================] - 26s 14ms/step - loss: 0.0242 - accuracy: 0.8623 - val_loss: 0.0200 - val_accuracy: 0.8582\n",
      "Epoch 16/30\n",
      "1870/1870 [==============================] - 25s 14ms/step - loss: 0.0219 - accuracy: 0.8642 - val_loss: 0.0173 - val_accuracy: 0.8592\n",
      "Epoch 17/30\n",
      "1870/1870 [==============================] - 26s 14ms/step - loss: 0.0206 - accuracy: 0.8694 - val_loss: 0.0183 - val_accuracy: 0.8776\n",
      "Epoch 18/30\n",
      "1870/1870 [==============================] - 26s 14ms/step - loss: 0.0220 - accuracy: 0.8618 - val_loss: 0.0145 - val_accuracy: 0.8696\n",
      "Epoch 19/30\n",
      "1870/1870 [==============================] - 26s 14ms/step - loss: 0.0199 - accuracy: 0.8654 - val_loss: 0.0184 - val_accuracy: 0.8673\n",
      "Epoch 20/30\n",
      "1870/1870 [==============================] - 26s 14ms/step - loss: 0.0194 - accuracy: 0.8637 - val_loss: 0.0151 - val_accuracy: 0.8591\n",
      "Epoch 21/30\n",
      "1870/1870 [==============================] - 26s 14ms/step - loss: 0.0202 - accuracy: 0.8661 - val_loss: 0.0173 - val_accuracy: 0.8586\n",
      "Epoch 22/30\n",
      "1870/1870 [==============================] - 26s 14ms/step - loss: 0.0184 - accuracy: 0.8713 - val_loss: 0.0137 - val_accuracy: 0.8791\n",
      "Epoch 23/30\n",
      "1870/1870 [==============================] - 26s 14ms/step - loss: 0.0185 - accuracy: 0.8681 - val_loss: 0.0147 - val_accuracy: 0.8602\n",
      "Epoch 24/30\n",
      "1870/1870 [==============================] - 26s 14ms/step - loss: 0.0174 - accuracy: 0.8707 - val_loss: 0.0146 - val_accuracy: 0.8701\n",
      "Epoch 25/30\n",
      "1870/1870 [==============================] - 26s 14ms/step - loss: 0.0178 - accuracy: 0.8615 - val_loss: 0.0138 - val_accuracy: 0.8506\n",
      "Epoch 26/30\n",
      "1870/1870 [==============================] - 26s 14ms/step - loss: 0.0172 - accuracy: 0.8640 - val_loss: 0.0147 - val_accuracy: 0.8556\n",
      "Epoch 27/30\n",
      "1870/1870 [==============================] - 26s 14ms/step - loss: 0.0180 - accuracy: 0.8695 - val_loss: 0.0139 - val_accuracy: 0.8906\n",
      "Epoch 28/30\n",
      "1870/1870 [==============================] - 26s 14ms/step - loss: 0.0155 - accuracy: 0.8723 - val_loss: 0.0123 - val_accuracy: 0.8677\n",
      "Epoch 29/30\n",
      "1870/1870 [==============================] - 26s 14ms/step - loss: 0.0167 - accuracy: 0.8673 - val_loss: 0.0190 - val_accuracy: 0.8506\n",
      "Epoch 30/30\n",
      "1870/1870 [==============================] - 26s 14ms/step - loss: 0.0156 - accuracy: 0.8668 - val_loss: 0.0129 - val_accuracy: 0.8383\n"
     ]
    },
    {
     "data": {
      "text/plain": [
       "<tensorflow.python.keras.callbacks.History at 0x25abf417be0>"
      ]
     },
     "execution_count": 159,
     "metadata": {},
     "output_type": "execute_result"
    }
   ],
   "source": [
    "model_with_PR_standard = LSTM_model(11)\n",
    "model_with_PR_standard.fit(x_data_filter, y_data_filter, epochs=30, batch_size=64, validation_split=0.1)"
   ]
  },
  {
   "cell_type": "code",
   "execution_count": 160,
   "id": "a97a7710",
   "metadata": {},
   "outputs": [],
   "source": [
    "model_with_PR_standard.save(\"modelop/LSTM/LSTM_with_PR100_standard.h5\")"
   ]
  },
  {
   "cell_type": "markdown",
   "id": "fd71953a",
   "metadata": {},
   "source": [
    "Evaluate"
   ]
  },
  {
   "cell_type": "code",
   "execution_count": 161,
   "id": "150e415e",
   "metadata": {},
   "outputs": [
    {
     "name": "stdout",
     "output_type": "stream",
     "text": [
      "Model: \"sequential_4\"\n",
      "_________________________________________________________________\n",
      "Layer (type)                 Output Shape              Param #   \n",
      "=================================================================\n",
      "lstm_16 (LSTM)               (None, 20, 128)           71680     \n",
      "_________________________________________________________________\n",
      "dropout_12 (Dropout)         (None, 20, 128)           0         \n",
      "_________________________________________________________________\n",
      "lstm_17 (LSTM)               (None, 20, 128)           131584    \n",
      "_________________________________________________________________\n",
      "dropout_13 (Dropout)         (None, 20, 128)           0         \n",
      "_________________________________________________________________\n",
      "lstm_18 (LSTM)               (None, 20, 128)           131584    \n",
      "_________________________________________________________________\n",
      "dropout_14 (Dropout)         (None, 20, 128)           0         \n",
      "_________________________________________________________________\n",
      "lstm_19 (LSTM)               (None, 128)               131584    \n",
      "_________________________________________________________________\n",
      "dense_8 (Dense)              (None, 32)                4128      \n",
      "_________________________________________________________________\n",
      "dense_9 (Dense)              (None, 6)                 198       \n",
      "=================================================================\n",
      "Total params: 470,758\n",
      "Trainable params: 470,758\n",
      "Non-trainable params: 0\n",
      "_________________________________________________________________\n"
     ]
    }
   ],
   "source": [
    "model = load_model(\"modelop/LSTM/LSTM_with_PR100_standard.h5\")\n",
    "model.summary()"
   ]
  },
  {
   "cell_type": "code",
   "execution_count": 162,
   "id": "34a29a82",
   "metadata": {},
   "outputs": [
    {
     "name": "stdout",
     "output_type": "stream",
     "text": [
      "1433/1433 [==============================] - 12s 7ms/step - loss: 1.7956 - accuracy: 0.4630\n"
     ]
    },
    {
     "data": {
      "text/plain": [
       "[1.7956410646438599, 0.463043749332428]"
      ]
     },
     "execution_count": 162,
     "metadata": {},
     "output_type": "execute_result"
    }
   ],
   "source": [
    "model.evaluate(x_ts_data_filter, y_ts_data_filter)"
   ]
  },
  {
   "cell_type": "markdown",
   "id": "efa82b42",
   "metadata": {},
   "source": [
    "# With Polyregression and standardization (segment length = 50)"
   ]
  },
  {
   "cell_type": "markdown",
   "id": "c6035f22",
   "metadata": {},
   "source": [
    "Training data with Polyregression and standardization"
   ]
  },
  {
   "cell_type": "code",
   "execution_count": 163,
   "id": "29ca9c29",
   "metadata": {},
   "outputs": [],
   "source": [
    "x_train_filter_PR = polyregression_allsignal(x_data, 50)"
   ]
  },
  {
   "cell_type": "code",
   "execution_count": 164,
   "id": "3cc9e221",
   "metadata": {},
   "outputs": [
    {
     "data": {
      "text/plain": [
       "array([[-220.64361991,  191.84497738,  214.09230769, ...,  436.06027149,\n",
       "         286.69303167,  316.02723982],\n",
       "       [-215.14665805,  194.54876166,  212.13809955, ...,  435.30763321,\n",
       "         281.02944316,  309.46011081],\n",
       "       [-209.89095115,  197.12778142,  210.20717148, ...,  434.549228  ,\n",
       "         275.59270385,  303.12504156],\n",
       "       ...,\n",
       "       [-326.73358686,  198.43389577, -209.19269172, ...,  -81.00019139,\n",
       "        -152.01546895, -155.67886334],\n",
       "       [-332.65093899,  193.06036691, -204.90270842, ...,  -82.95099327,\n",
       "        -154.4699848 , -160.29449088],\n",
       "       [-338.65280612,  187.43928571, -200.33290816, ...,  -84.96964286,\n",
       "        -156.95153061, -164.99668367]])"
      ]
     },
     "execution_count": 164,
     "metadata": {},
     "output_type": "execute_result"
    }
   ],
   "source": [
    "x_train_filter_PR"
   ]
  },
  {
   "cell_type": "code",
   "execution_count": 165,
   "id": "c19dc589",
   "metadata": {},
   "outputs": [
    {
     "data": {
      "text/plain": [
       "(1185498, 11)"
      ]
     },
     "execution_count": 165,
     "metadata": {},
     "output_type": "execute_result"
    }
   ],
   "source": [
    "x_train_filter_PR.shape"
   ]
  },
  {
   "cell_type": "code",
   "execution_count": 166,
   "id": "c0408f73",
   "metadata": {},
   "outputs": [],
   "source": [
    "x_train_filter_PR_st = StandardScaler().fit_transform(x_train_filter_PR)\n",
    "x_train_filter_PR_st = pd.DataFrame(x_train_filter_PR_st)\n",
    "y=pd.DataFrame(y_data)"
   ]
  },
  {
   "cell_type": "code",
   "execution_count": 167,
   "id": "f2f0dc28",
   "metadata": {},
   "outputs": [
    {
     "data": {
      "text/plain": [
       "array([[-1.12269422, -0.737704  ,  2.56396783, ...,  2.08261224,\n",
       "         1.50571395,  0.37147893],\n",
       "       [-1.1031417 , -0.71433181,  2.54396049, ...,  2.07763568,\n",
       "         1.47188166,  0.35088347],\n",
       "       [-1.08444732, -0.69203812,  2.52419149, ...,  2.07262099,\n",
       "         1.43940449,  0.33101579],\n",
       "       ...,\n",
       "       [-1.50005286, -0.68074774, -1.76965812, ..., -1.33626769,\n",
       "        -1.11497629, -1.10785868],\n",
       "       [-1.52110069, -0.72719786, -1.72573693, ..., -1.34916668,\n",
       "        -1.12963871, -1.12233395],\n",
       "       [-1.54244914, -0.77578789, -1.67895094, ..., -1.36251428,\n",
       "        -1.14446259, -1.1370807 ]])"
      ]
     },
     "execution_count": 167,
     "metadata": {},
     "output_type": "execute_result"
    }
   ],
   "source": [
    "x_train_filter_PR_st.values"
   ]
  },
  {
   "cell_type": "code",
   "execution_count": 168,
   "id": "fcf9d152",
   "metadata": {},
   "outputs": [
    {
     "data": {
      "text/plain": [
       "(1185498, 11)"
      ]
     },
     "execution_count": 168,
     "metadata": {},
     "output_type": "execute_result"
    }
   ],
   "source": [
    "x_train_filter_PR_st.shape"
   ]
  },
  {
   "cell_type": "markdown",
   "id": "d9278a46",
   "metadata": {},
   "source": [
    "Testing data with Polyregression and standardization"
   ]
  },
  {
   "cell_type": "code",
   "execution_count": 169,
   "id": "b1a2342a",
   "metadata": {},
   "outputs": [],
   "source": [
    "x_test_filter_PR = polyregression_allsignal(x_ts_data, 50)"
   ]
  },
  {
   "cell_type": "code",
   "execution_count": 170,
   "id": "b6383923",
   "metadata": {},
   "outputs": [
    {
     "data": {
      "text/plain": [
       "array([[  95.37674208,  267.96506787, -204.36923077, ...,  110.17701357,\n",
       "          24.16434389,   59.98126697],\n",
       "       [  91.42352756,  264.1364041 , -206.32262628, ...,  110.63125681,\n",
       "          27.51199926,   61.62197618],\n",
       "       [  87.67454012,  260.46951888, -208.19651307, ...,  111.13885216,\n",
       "          30.8464355 ,   63.31039293],\n",
       "       ...,\n",
       "       [  79.45138668,  316.84471721,  -39.52256641, ...,  -14.9647092 ,\n",
       "         113.3041305 ,  283.35617507],\n",
       "       [  77.27450286,  311.82514477,  -42.85923951, ...,  -13.8775776 ,\n",
       "         119.02751325,  289.22201183],\n",
       "       [  74.89387352,  306.54249012,  -46.31225296, ...,  -12.70948617,\n",
       "         124.9729249 ,  295.26587615]])"
      ]
     },
     "execution_count": 170,
     "metadata": {},
     "output_type": "execute_result"
    }
   ],
   "source": [
    "x_test_filter_PR"
   ]
  },
  {
   "cell_type": "code",
   "execution_count": 171,
   "id": "5f796675",
   "metadata": {},
   "outputs": [
    {
     "data": {
      "text/plain": [
       "(236894, 11)"
      ]
     },
     "execution_count": 171,
     "metadata": {},
     "output_type": "execute_result"
    }
   ],
   "source": [
    "x_test_filter_PR.shape"
   ]
  },
  {
   "cell_type": "code",
   "execution_count": 172,
   "id": "a2a657b4",
   "metadata": {},
   "outputs": [],
   "source": [
    "x_test_filter_PR_st = StandardScaler().fit_transform(x_test_filter_PR)\n",
    "x_test_filter_PR_st = pd.DataFrame(x_test_filter_PR_st)\n",
    "y_test=pd.DataFrame(y_ts_data)"
   ]
  },
  {
   "cell_type": "code",
   "execution_count": 173,
   "id": "4a390555",
   "metadata": {},
   "outputs": [
    {
     "data": {
      "text/plain": [
       "array([[-0.12726705, -0.64141725, -1.82660636, ...,  0.74573384,\n",
       "         0.2777384 , -0.32127788],\n",
       "       [-0.15407712, -0.68088228, -1.84768566, ...,  0.75083168,\n",
       "         0.30513312, -0.31415383],\n",
       "       [-0.17950216, -0.71867973, -1.86790697, ...,  0.75652828,\n",
       "         0.33241965, -0.30682263],\n",
       "       ...,\n",
       "       [-0.23527027, -0.1375765 , -0.04772837, ..., -0.65869499,\n",
       "         1.00719187,  0.64862864],\n",
       "       [-0.25003355, -0.18931715, -0.08373476, ..., -0.64649444,\n",
       "         1.05402777,  0.67409844],\n",
       "       [-0.2661786 , -0.2437696 , -0.1209966 , ..., -0.63338529,\n",
       "         1.10268058,  0.70034124]])"
      ]
     },
     "execution_count": 173,
     "metadata": {},
     "output_type": "execute_result"
    }
   ],
   "source": [
    "x_test_filter_PR_st.values"
   ]
  },
  {
   "cell_type": "code",
   "execution_count": 174,
   "id": "c6010d31",
   "metadata": {},
   "outputs": [
    {
     "data": {
      "text/plain": [
       "(236894, 11)"
      ]
     },
     "execution_count": 174,
     "metadata": {},
     "output_type": "execute_result"
    }
   ],
   "source": [
    "x_test_filter_PR_st.shape"
   ]
  },
  {
   "cell_type": "markdown",
   "id": "7f575975",
   "metadata": {},
   "source": [
    "Filter [0 0 0 0 0 0] from the data"
   ]
  },
  {
   "cell_type": "code",
   "execution_count": 175,
   "id": "4a7f2e64",
   "metadata": {},
   "outputs": [],
   "source": [
    "x_data_filter, y_data_filter = filter_dataset(x_train_filter_PR_st.values, y_data)"
   ]
  },
  {
   "cell_type": "code",
   "execution_count": 176,
   "id": "4978315f",
   "metadata": {},
   "outputs": [
    {
     "data": {
      "text/plain": [
       "(132965, 20, 11)"
      ]
     },
     "execution_count": 176,
     "metadata": {},
     "output_type": "execute_result"
    }
   ],
   "source": [
    "x_data_filter.shape"
   ]
  },
  {
   "cell_type": "code",
   "execution_count": 177,
   "id": "c851eac7",
   "metadata": {},
   "outputs": [
    {
     "data": {
      "text/plain": [
       "(132965, 6)"
      ]
     },
     "execution_count": 177,
     "metadata": {},
     "output_type": "execute_result"
    }
   ],
   "source": [
    "y_data_filter.shape"
   ]
  },
  {
   "cell_type": "code",
   "execution_count": 178,
   "id": "8d3d8d62",
   "metadata": {},
   "outputs": [],
   "source": [
    "x_ts_data_filter, y_ts_data_filter = filter_dataset(x_test_filter_PR_st.values, y_ts_data)"
   ]
  },
  {
   "cell_type": "code",
   "execution_count": 179,
   "id": "62bee2c9",
   "metadata": {},
   "outputs": [
    {
     "data": {
      "text/plain": [
       "(45838, 20, 11)"
      ]
     },
     "execution_count": 179,
     "metadata": {},
     "output_type": "execute_result"
    }
   ],
   "source": [
    "x_ts_data_filter.shape"
   ]
  },
  {
   "cell_type": "code",
   "execution_count": 180,
   "id": "3ce23c85",
   "metadata": {},
   "outputs": [
    {
     "data": {
      "text/plain": [
       "(45838, 6)"
      ]
     },
     "execution_count": 180,
     "metadata": {},
     "output_type": "execute_result"
    }
   ],
   "source": [
    "y_ts_data_filter.shape"
   ]
  },
  {
   "cell_type": "markdown",
   "id": "1f82427a",
   "metadata": {},
   "source": [
    "Shuffle"
   ]
  },
  {
   "cell_type": "code",
   "execution_count": 181,
   "id": "c72ee9d7",
   "metadata": {},
   "outputs": [],
   "source": [
    "x_data_filter, y_data_filter = utils.shuffle(x_data_filter, y_data_filter)"
   ]
  },
  {
   "cell_type": "code",
   "execution_count": 182,
   "id": "7327089e",
   "metadata": {},
   "outputs": [
    {
     "data": {
      "text/plain": [
       "(132965, 20, 11)"
      ]
     },
     "execution_count": 182,
     "metadata": {},
     "output_type": "execute_result"
    }
   ],
   "source": [
    "x_data_filter.shape"
   ]
  },
  {
   "cell_type": "code",
   "execution_count": 183,
   "id": "eeb8894c",
   "metadata": {},
   "outputs": [
    {
     "data": {
      "text/plain": [
       "(132965, 6)"
      ]
     },
     "execution_count": 183,
     "metadata": {},
     "output_type": "execute_result"
    }
   ],
   "source": [
    "y_data_filter.shape"
   ]
  },
  {
   "cell_type": "markdown",
   "id": "d676cf9d",
   "metadata": {},
   "source": [
    "Model"
   ]
  },
  {
   "cell_type": "code",
   "execution_count": 184,
   "id": "fb89e27a",
   "metadata": {},
   "outputs": [
    {
     "name": "stderr",
     "output_type": "stream",
     "text": [
      "C:\\Users\\User\\anaconda3\\envs\\modelop_gpu\\lib\\site-packages\\tensorflow\\python\\keras\\optimizer_v2\\optimizer_v2.py:374: UserWarning: The `lr` argument is deprecated, use `learning_rate` instead.\n",
      "  warnings.warn(\n"
     ]
    },
    {
     "name": "stdout",
     "output_type": "stream",
     "text": [
      "Model: \"sequential_5\"\n",
      "_________________________________________________________________\n",
      "Layer (type)                 Output Shape              Param #   \n",
      "=================================================================\n",
      "lstm_20 (LSTM)               (None, 20, 128)           71680     \n",
      "_________________________________________________________________\n",
      "dropout_15 (Dropout)         (None, 20, 128)           0         \n",
      "_________________________________________________________________\n",
      "lstm_21 (LSTM)               (None, 20, 128)           131584    \n",
      "_________________________________________________________________\n",
      "dropout_16 (Dropout)         (None, 20, 128)           0         \n",
      "_________________________________________________________________\n",
      "lstm_22 (LSTM)               (None, 20, 128)           131584    \n",
      "_________________________________________________________________\n",
      "dropout_17 (Dropout)         (None, 20, 128)           0         \n",
      "_________________________________________________________________\n",
      "lstm_23 (LSTM)               (None, 128)               131584    \n",
      "_________________________________________________________________\n",
      "dense_10 (Dense)             (None, 32)                4128      \n",
      "_________________________________________________________________\n",
      "dense_11 (Dense)             (None, 6)                 198       \n",
      "=================================================================\n",
      "Total params: 470,758\n",
      "Trainable params: 470,758\n",
      "Non-trainable params: 0\n",
      "_________________________________________________________________\n",
      "Epoch 1/30\n",
      "1870/1870 [==============================] - 30s 14ms/step - loss: 0.2306 - accuracy: 0.6539 - val_loss: 0.1034 - val_accuracy: 0.8433\n",
      "Epoch 2/30\n",
      "1870/1870 [==============================] - 25s 13ms/step - loss: 0.0874 - accuracy: 0.8331 - val_loss: 0.0631 - val_accuracy: 0.8358\n",
      "Epoch 3/30\n",
      "1870/1870 [==============================] - 25s 13ms/step - loss: 0.0653 - accuracy: 0.8444 - val_loss: 0.0471 - val_accuracy: 0.8568\n",
      "Epoch 4/30\n",
      "1870/1870 [==============================] - 25s 14ms/step - loss: 0.0546 - accuracy: 0.8470 - val_loss: 0.0408 - val_accuracy: 0.8640\n",
      "Epoch 5/30\n",
      "1870/1870 [==============================] - 26s 14ms/step - loss: 0.0484 - accuracy: 0.8499 - val_loss: 0.0366 - val_accuracy: 0.8615\n",
      "Epoch 6/30\n",
      "1870/1870 [==============================] - 26s 14ms/step - loss: 0.0424 - accuracy: 0.8498 - val_loss: 0.0302 - val_accuracy: 0.8555\n",
      "Epoch 7/30\n",
      "1870/1870 [==============================] - 26s 14ms/step - loss: 0.0367 - accuracy: 0.8541 - val_loss: 0.0295 - val_accuracy: 0.8497\n",
      "Epoch 8/30\n",
      "1870/1870 [==============================] - 27s 14ms/step - loss: 0.0348 - accuracy: 0.8572 - val_loss: 0.0284 - val_accuracy: 0.8613\n",
      "Epoch 9/30\n",
      "1870/1870 [==============================] - 26s 14ms/step - loss: 0.0322 - accuracy: 0.8594 - val_loss: 0.0244 - val_accuracy: 0.8615\n",
      "Epoch 10/30\n",
      "1870/1870 [==============================] - 26s 14ms/step - loss: 0.0286 - accuracy: 0.8576 - val_loss: 0.0204 - val_accuracy: 0.8625\n",
      "Epoch 11/30\n",
      "1870/1870 [==============================] - 26s 14ms/step - loss: 0.0293 - accuracy: 0.8561 - val_loss: 0.0240 - val_accuracy: 0.8540\n",
      "Epoch 12/30\n",
      "1870/1870 [==============================] - 26s 14ms/step - loss: 0.0273 - accuracy: 0.8564 - val_loss: 0.0201 - val_accuracy: 0.8534\n",
      "Epoch 13/30\n",
      "1870/1870 [==============================] - 26s 14ms/step - loss: 0.0259 - accuracy: 0.8596 - val_loss: 0.0161 - val_accuracy: 0.8717\n",
      "Epoch 14/30\n",
      "1870/1870 [==============================] - 26s 14ms/step - loss: 0.0240 - accuracy: 0.8559 - val_loss: 0.0196 - val_accuracy: 0.8667\n",
      "Epoch 15/30\n",
      "1870/1870 [==============================] - 26s 14ms/step - loss: 0.0226 - accuracy: 0.8535 - val_loss: 0.0171 - val_accuracy: 0.8479\n",
      "Epoch 16/30\n",
      "1870/1870 [==============================] - 26s 14ms/step - loss: 0.0220 - accuracy: 0.8513 - val_loss: 0.0161 - val_accuracy: 0.8582\n",
      "Epoch 17/30\n",
      "1870/1870 [==============================] - 26s 14ms/step - loss: 0.0216 - accuracy: 0.8570 - val_loss: 0.0163 - val_accuracy: 0.8514\n",
      "Epoch 18/30\n",
      "1870/1870 [==============================] - 26s 14ms/step - loss: 0.0201 - accuracy: 0.8569 - val_loss: 0.0148 - val_accuracy: 0.8580\n",
      "Epoch 19/30\n",
      "1870/1870 [==============================] - 26s 14ms/step - loss: 0.0208 - accuracy: 0.8589 - val_loss: 0.0153 - val_accuracy: 0.8675\n",
      "Epoch 20/30\n",
      "1870/1870 [==============================] - 26s 14ms/step - loss: 0.0189 - accuracy: 0.8540 - val_loss: 0.0162 - val_accuracy: 0.8636\n",
      "Epoch 21/30\n",
      "1870/1870 [==============================] - 26s 14ms/step - loss: 0.0189 - accuracy: 0.8545 - val_loss: 0.0146 - val_accuracy: 0.8540\n",
      "Epoch 22/30\n",
      "1870/1870 [==============================] - 26s 14ms/step - loss: 0.0176 - accuracy: 0.8640 - val_loss: 0.0140 - val_accuracy: 0.8674\n",
      "Epoch 23/30\n",
      "1870/1870 [==============================] - 26s 14ms/step - loss: 0.0178 - accuracy: 0.8588 - val_loss: 0.0130 - val_accuracy: 0.8619\n",
      "Epoch 24/30\n",
      "1870/1870 [==============================] - 26s 14ms/step - loss: 0.0174 - accuracy: 0.8617 - val_loss: 0.0126 - val_accuracy: 0.8705\n",
      "Epoch 25/30\n",
      "1870/1870 [==============================] - 26s 14ms/step - loss: 0.0166 - accuracy: 0.8589 - val_loss: 0.0165 - val_accuracy: 0.8654\n",
      "Epoch 26/30\n",
      "1870/1870 [==============================] - 26s 14ms/step - loss: 0.0165 - accuracy: 0.8580 - val_loss: 0.0145 - val_accuracy: 0.8652\n",
      "Epoch 27/30\n",
      "1870/1870 [==============================] - 26s 14ms/step - loss: 0.0163 - accuracy: 0.8585 - val_loss: 0.0126 - val_accuracy: 0.8476\n",
      "Epoch 28/30\n",
      "1870/1870 [==============================] - 26s 14ms/step - loss: 0.0158 - accuracy: 0.8630 - val_loss: 0.0119 - val_accuracy: 0.8572\n",
      "Epoch 29/30\n",
      "1870/1870 [==============================] - 26s 14ms/step - loss: 0.0163 - accuracy: 0.8604 - val_loss: 0.0115 - val_accuracy: 0.8571\n",
      "Epoch 30/30\n",
      "1870/1870 [==============================] - 26s 14ms/step - loss: 0.0155 - accuracy: 0.8661 - val_loss: 0.0119 - val_accuracy: 0.8603\n"
     ]
    },
    {
     "data": {
      "text/plain": [
       "<tensorflow.python.keras.callbacks.History at 0x25aa7516dc0>"
      ]
     },
     "execution_count": 184,
     "metadata": {},
     "output_type": "execute_result"
    }
   ],
   "source": [
    "model_with_PR_standard = LSTM_model(11)\n",
    "model_with_PR_standard.fit(x_data_filter, y_data_filter, epochs=30, batch_size=64, validation_split=0.1)"
   ]
  },
  {
   "cell_type": "code",
   "execution_count": 185,
   "id": "e41de247",
   "metadata": {},
   "outputs": [],
   "source": [
    "model_with_PR_standard.save(\"modelop/LSTM/LSTM_with_PR50_standard.h5\")"
   ]
  },
  {
   "cell_type": "markdown",
   "id": "76324e4e",
   "metadata": {},
   "source": [
    "Evaluate"
   ]
  },
  {
   "cell_type": "code",
   "execution_count": 186,
   "id": "4f009524",
   "metadata": {},
   "outputs": [
    {
     "name": "stdout",
     "output_type": "stream",
     "text": [
      "Model: \"sequential_5\"\n",
      "_________________________________________________________________\n",
      "Layer (type)                 Output Shape              Param #   \n",
      "=================================================================\n",
      "lstm_20 (LSTM)               (None, 20, 128)           71680     \n",
      "_________________________________________________________________\n",
      "dropout_15 (Dropout)         (None, 20, 128)           0         \n",
      "_________________________________________________________________\n",
      "lstm_21 (LSTM)               (None, 20, 128)           131584    \n",
      "_________________________________________________________________\n",
      "dropout_16 (Dropout)         (None, 20, 128)           0         \n",
      "_________________________________________________________________\n",
      "lstm_22 (LSTM)               (None, 20, 128)           131584    \n",
      "_________________________________________________________________\n",
      "dropout_17 (Dropout)         (None, 20, 128)           0         \n",
      "_________________________________________________________________\n",
      "lstm_23 (LSTM)               (None, 128)               131584    \n",
      "_________________________________________________________________\n",
      "dense_10 (Dense)             (None, 32)                4128      \n",
      "_________________________________________________________________\n",
      "dense_11 (Dense)             (None, 6)                 198       \n",
      "=================================================================\n",
      "Total params: 470,758\n",
      "Trainable params: 470,758\n",
      "Non-trainable params: 0\n",
      "_________________________________________________________________\n"
     ]
    }
   ],
   "source": [
    "model = load_model(\"modelop/LSTM/LSTM_with_PR50_standard.h5\")\n",
    "model.summary()"
   ]
  },
  {
   "cell_type": "code",
   "execution_count": 187,
   "id": "829452a7",
   "metadata": {},
   "outputs": [
    {
     "name": "stdout",
     "output_type": "stream",
     "text": [
      "1433/1433 [==============================] - 12s 7ms/step - loss: 1.5170 - accuracy: 0.4607\n"
     ]
    },
    {
     "data": {
      "text/plain": [
       "[1.5169981718063354, 0.46068763732910156]"
      ]
     },
     "execution_count": 187,
     "metadata": {},
     "output_type": "execute_result"
    }
   ],
   "source": [
    "model.evaluate(x_ts_data_filter, y_ts_data_filter)"
   ]
  },
  {
   "cell_type": "markdown",
   "id": "75d92f01",
   "metadata": {},
   "source": [
    "# With Polyregression and standardization (segment length = 25)"
   ]
  },
  {
   "cell_type": "markdown",
   "id": "944f9fb7",
   "metadata": {},
   "source": [
    "Training data with Polyregression and standardization"
   ]
  },
  {
   "cell_type": "code",
   "execution_count": 188,
   "id": "528e5129",
   "metadata": {},
   "outputs": [],
   "source": [
    "x_train_filter_PR = polyregression_allsignal(x_data, 25)"
   ]
  },
  {
   "cell_type": "code",
   "execution_count": 189,
   "id": "21754b80",
   "metadata": {},
   "outputs": [
    {
     "data": {
      "text/plain": [
       "array([[-209.36854701,  210.29435897,  226.73948718, ...,  455.96      ,\n",
       "         322.3357265 ,  353.45230769],\n",
       "       [-204.25641026,  208.68      ,  222.65230769, ...,  452.77692308,\n",
       "         310.89948718,  340.46615385],\n",
       "       [-199.55750279,  207.3038796 ,  218.72020067, ...,  449.64468227,\n",
       "         299.98606466,  328.05892977],\n",
       "       ...,\n",
       "       [-348.82478826,  157.78836815, -230.27775268, ...,  -83.48170525,\n",
       "        -176.09621683, -159.46674195],\n",
       "       [-366.64940711,  135.74426877, -230.75533597, ...,  -83.69525692,\n",
       "        -189.57351779, -167.83359684],\n",
       "       [-385.67826087,  112.00434783, -231.13913043, ...,  -83.6       ,\n",
       "        -204.03043478, -176.66521739]])"
      ]
     },
     "execution_count": 189,
     "metadata": {},
     "output_type": "execute_result"
    }
   ],
   "source": [
    "x_train_filter_PR"
   ]
  },
  {
   "cell_type": "code",
   "execution_count": 190,
   "id": "714c6116",
   "metadata": {},
   "outputs": [
    {
     "data": {
      "text/plain": [
       "(1185498, 11)"
      ]
     },
     "execution_count": 190,
     "metadata": {},
     "output_type": "execute_result"
    }
   ],
   "source": [
    "x_train_filter_PR.shape"
   ]
  },
  {
   "cell_type": "code",
   "execution_count": 191,
   "id": "85f4ad3e",
   "metadata": {},
   "outputs": [],
   "source": [
    "x_train_filter_PR_st = StandardScaler().fit_transform(x_train_filter_PR)\n",
    "x_train_filter_PR_st = pd.DataFrame(x_train_filter_PR_st)\n",
    "y=pd.DataFrame(y_data)"
   ]
  },
  {
   "cell_type": "code",
   "execution_count": 192,
   "id": "143d8afe",
   "metadata": {},
   "outputs": [
    {
     "data": {
      "text/plain": [
       "array([[-1.07460686, -0.57260448,  2.68164928, ...,  2.19970468,\n",
       "         1.69921921,  0.48638668],\n",
       "       [-1.05655723, -0.5864238 ,  2.63998775, ...,  2.17879542,\n",
       "         1.63167476,  0.44586542],\n",
       "       [-1.0399666 , -0.59820374,  2.59990691, ...,  2.1582201 ,\n",
       "         1.56721816,  0.40715061],\n",
       "       ...,\n",
       "       [-1.56699081, -1.02206918, -1.97682905, ..., -1.34382525,\n",
       "        -1.24460797, -1.1140973 ],\n",
       "       [-1.62992493, -1.2107723 , -1.98169716, ..., -1.34522804,\n",
       "        -1.3242073 , -1.14020476],\n",
       "       [-1.69711089, -1.41399209, -1.98560926, ..., -1.34460231,\n",
       "        -1.4095924 , -1.16776246]])"
      ]
     },
     "execution_count": 192,
     "metadata": {},
     "output_type": "execute_result"
    }
   ],
   "source": [
    "x_train_filter_PR_st.values"
   ]
  },
  {
   "cell_type": "code",
   "execution_count": 193,
   "id": "89ffb702",
   "metadata": {},
   "outputs": [
    {
     "data": {
      "text/plain": [
       "(1185498, 11)"
      ]
     },
     "execution_count": 193,
     "metadata": {},
     "output_type": "execute_result"
    }
   ],
   "source": [
    "x_train_filter_PR_st.shape"
   ]
  },
  {
   "cell_type": "markdown",
   "id": "e1e067e5",
   "metadata": {},
   "source": [
    "Testing data with Polyregression and standardization"
   ]
  },
  {
   "cell_type": "code",
   "execution_count": 194,
   "id": "053c07bb",
   "metadata": {},
   "outputs": [],
   "source": [
    "x_test_filter_PR = polyregression_allsignal(x_ts_data, 25)"
   ]
  },
  {
   "cell_type": "code",
   "execution_count": 195,
   "id": "c4333be3",
   "metadata": {},
   "outputs": [
    {
     "data": {
      "text/plain": [
       "array([[ 106.18153846,  277.37025641, -206.44376068, ...,  121.54940171,\n",
       "          39.33606838,   53.5374359 ],\n",
       "       [  99.50307692,  270.45538462, -207.84051282, ...,  119.61897436,\n",
       "          38.82358974,   55.52615385],\n",
       "       [  93.22461538,  264.01364548, -209.21634337, ...,  117.89828317,\n",
       "          38.62865106,   57.64006689],\n",
       "       ...,\n",
       "       [  82.3445673 ,  311.74916704,  -41.82125903, ...,  -28.99666814,\n",
       "         104.66301047,  285.8004128 ],\n",
       "       [  87.77042607,  304.49924812,  -46.6245614 , ...,  -34.24260652,\n",
       "         108.90075188,  297.56491228],\n",
       "       [  94.16090226,  296.73834586,  -51.71578947, ...,  -39.95338346,\n",
       "         113.46165414,  310.37894737]])"
      ]
     },
     "execution_count": 195,
     "metadata": {},
     "output_type": "execute_result"
    }
   ],
   "source": [
    "x_test_filter_PR"
   ]
  },
  {
   "cell_type": "code",
   "execution_count": 196,
   "id": "4a325361",
   "metadata": {},
   "outputs": [
    {
     "data": {
      "text/plain": [
       "(236894, 11)"
      ]
     },
     "execution_count": 196,
     "metadata": {},
     "output_type": "execute_result"
    }
   ],
   "source": [
    "x_test_filter_PR.shape"
   ]
  },
  {
   "cell_type": "code",
   "execution_count": 197,
   "id": "25f54e79",
   "metadata": {},
   "outputs": [],
   "source": [
    "x_test_filter_PR_st = StandardScaler().fit_transform(x_test_filter_PR)\n",
    "x_test_filter_PR_st = pd.DataFrame(x_test_filter_PR_st)\n",
    "y_test=pd.DataFrame(y_ts_data)"
   ]
  },
  {
   "cell_type": "code",
   "execution_count": 198,
   "id": "b9c4547d",
   "metadata": {},
   "outputs": [
    {
     "data": {
      "text/plain": [
       "array([[-0.05273639, -0.537134  , -1.84059905, ...,  0.85808266,\n",
       "         0.39441335, -0.34624059],\n",
       "       [-0.09697646, -0.60745055, -1.85560313, ...,  0.83679708,\n",
       "         0.39029765, -0.33768006],\n",
       "       [-0.13856682, -0.67295586, -1.87038247, ...,  0.81782412,\n",
       "         0.38873211, -0.32858061],\n",
       "       ...,\n",
       "       [-0.21063942, -0.18753876, -0.07220453, ..., -0.801892  ,\n",
       "         0.91905175,  0.65354735],\n",
       "       [-0.17469695, -0.26126236, -0.12380217, ..., -0.85973558,\n",
       "         0.9530849 ,  0.70418825],\n",
       "       [-0.13236458, -0.3401821 , -0.17849275, ..., -0.92270465,\n",
       "         0.98971335,  0.75934692]])"
      ]
     },
     "execution_count": 198,
     "metadata": {},
     "output_type": "execute_result"
    }
   ],
   "source": [
    "x_test_filter_PR_st.values"
   ]
  },
  {
   "cell_type": "code",
   "execution_count": 199,
   "id": "5805515e",
   "metadata": {},
   "outputs": [
    {
     "data": {
      "text/plain": [
       "(236894, 11)"
      ]
     },
     "execution_count": 199,
     "metadata": {},
     "output_type": "execute_result"
    }
   ],
   "source": [
    "x_test_filter_PR_st.shape"
   ]
  },
  {
   "cell_type": "markdown",
   "id": "cb2f25b7",
   "metadata": {},
   "source": [
    "Filter [0 0 0 0 0 0] from the data"
   ]
  },
  {
   "cell_type": "code",
   "execution_count": 200,
   "id": "88273a28",
   "metadata": {},
   "outputs": [],
   "source": [
    "x_data_filter, y_data_filter = filter_dataset(x_train_filter_PR_st.values, y_data)"
   ]
  },
  {
   "cell_type": "code",
   "execution_count": 201,
   "id": "ffeae0b1",
   "metadata": {},
   "outputs": [
    {
     "data": {
      "text/plain": [
       "(132965, 20, 11)"
      ]
     },
     "execution_count": 201,
     "metadata": {},
     "output_type": "execute_result"
    }
   ],
   "source": [
    "x_data_filter.shape"
   ]
  },
  {
   "cell_type": "code",
   "execution_count": 202,
   "id": "19e2888e",
   "metadata": {},
   "outputs": [
    {
     "data": {
      "text/plain": [
       "(132965, 6)"
      ]
     },
     "execution_count": 202,
     "metadata": {},
     "output_type": "execute_result"
    }
   ],
   "source": [
    "y_data_filter.shape"
   ]
  },
  {
   "cell_type": "code",
   "execution_count": 203,
   "id": "b07e80c3",
   "metadata": {},
   "outputs": [],
   "source": [
    "x_ts_data_filter, y_ts_data_filter = filter_dataset(x_test_filter_PR_st.values, y_ts_data)"
   ]
  },
  {
   "cell_type": "code",
   "execution_count": 204,
   "id": "cbf13e5b",
   "metadata": {},
   "outputs": [
    {
     "data": {
      "text/plain": [
       "(45838, 20, 11)"
      ]
     },
     "execution_count": 204,
     "metadata": {},
     "output_type": "execute_result"
    }
   ],
   "source": [
    "x_ts_data_filter.shape"
   ]
  },
  {
   "cell_type": "code",
   "execution_count": 205,
   "id": "a28aee94",
   "metadata": {},
   "outputs": [
    {
     "data": {
      "text/plain": [
       "(45838, 6)"
      ]
     },
     "execution_count": 205,
     "metadata": {},
     "output_type": "execute_result"
    }
   ],
   "source": [
    "y_ts_data_filter.shape"
   ]
  },
  {
   "cell_type": "markdown",
   "id": "254b5018",
   "metadata": {},
   "source": [
    "Shuffle"
   ]
  },
  {
   "cell_type": "code",
   "execution_count": 206,
   "id": "125728ca",
   "metadata": {},
   "outputs": [],
   "source": [
    "x_data_filter, y_data_filter = utils.shuffle(x_data_filter, y_data_filter)"
   ]
  },
  {
   "cell_type": "code",
   "execution_count": 207,
   "id": "7c1e817a",
   "metadata": {},
   "outputs": [
    {
     "data": {
      "text/plain": [
       "(132965, 20, 11)"
      ]
     },
     "execution_count": 207,
     "metadata": {},
     "output_type": "execute_result"
    }
   ],
   "source": [
    "x_data_filter.shape"
   ]
  },
  {
   "cell_type": "code",
   "execution_count": 208,
   "id": "82a4d26d",
   "metadata": {},
   "outputs": [
    {
     "data": {
      "text/plain": [
       "(132965, 6)"
      ]
     },
     "execution_count": 208,
     "metadata": {},
     "output_type": "execute_result"
    }
   ],
   "source": [
    "y_data_filter.shape"
   ]
  },
  {
   "cell_type": "markdown",
   "id": "fb05b37c",
   "metadata": {},
   "source": [
    "Model"
   ]
  },
  {
   "cell_type": "code",
   "execution_count": 209,
   "id": "e48fe3a8",
   "metadata": {},
   "outputs": [
    {
     "name": "stderr",
     "output_type": "stream",
     "text": [
      "C:\\Users\\User\\anaconda3\\envs\\modelop_gpu\\lib\\site-packages\\tensorflow\\python\\keras\\optimizer_v2\\optimizer_v2.py:374: UserWarning: The `lr` argument is deprecated, use `learning_rate` instead.\n",
      "  warnings.warn(\n"
     ]
    },
    {
     "name": "stdout",
     "output_type": "stream",
     "text": [
      "Model: \"sequential_6\"\n",
      "_________________________________________________________________\n",
      "Layer (type)                 Output Shape              Param #   \n",
      "=================================================================\n",
      "lstm_24 (LSTM)               (None, 20, 128)           71680     \n",
      "_________________________________________________________________\n",
      "dropout_18 (Dropout)         (None, 20, 128)           0         \n",
      "_________________________________________________________________\n",
      "lstm_25 (LSTM)               (None, 20, 128)           131584    \n",
      "_________________________________________________________________\n",
      "dropout_19 (Dropout)         (None, 20, 128)           0         \n",
      "_________________________________________________________________\n",
      "lstm_26 (LSTM)               (None, 20, 128)           131584    \n",
      "_________________________________________________________________\n",
      "dropout_20 (Dropout)         (None, 20, 128)           0         \n",
      "_________________________________________________________________\n",
      "lstm_27 (LSTM)               (None, 128)               131584    \n",
      "_________________________________________________________________\n",
      "dense_12 (Dense)             (None, 32)                4128      \n",
      "_________________________________________________________________\n",
      "dense_13 (Dense)             (None, 6)                 198       \n",
      "=================================================================\n",
      "Total params: 470,758\n",
      "Trainable params: 470,758\n",
      "Non-trainable params: 0\n",
      "_________________________________________________________________\n",
      "Epoch 1/30\n",
      "1870/1870 [==============================] - 30s 14ms/step - loss: 0.2269 - accuracy: 0.6559 - val_loss: 0.1034 - val_accuracy: 0.8028\n",
      "Epoch 2/30\n",
      "1870/1870 [==============================] - 25s 13ms/step - loss: 0.0972 - accuracy: 0.8263 - val_loss: 0.0733 - val_accuracy: 0.8307\n",
      "Epoch 3/30\n",
      "1870/1870 [==============================] - 25s 13ms/step - loss: 0.0720 - accuracy: 0.8462 - val_loss: 0.0515 - val_accuracy: 0.8630\n",
      "Epoch 4/30\n",
      "1870/1870 [==============================] - 25s 13ms/step - loss: 0.0600 - accuracy: 0.8506 - val_loss: 0.0511 - val_accuracy: 0.8506\n",
      "Epoch 5/30\n",
      "1870/1870 [==============================] - 25s 14ms/step - loss: 0.0520 - accuracy: 0.8545 - val_loss: 0.0390 - val_accuracy: 0.8585\n",
      "Epoch 6/30\n",
      "1870/1870 [==============================] - 26s 14ms/step - loss: 0.0443 - accuracy: 0.8552 - val_loss: 0.0356 - val_accuracy: 0.8609\n",
      "Epoch 7/30\n",
      "1870/1870 [==============================] - 26s 14ms/step - loss: 0.0410 - accuracy: 0.8552 - val_loss: 0.0345 - val_accuracy: 0.8487\n",
      "Epoch 8/30\n",
      "1870/1870 [==============================] - 26s 14ms/step - loss: 0.0370 - accuracy: 0.8576 - val_loss: 0.0274 - val_accuracy: 0.8567\n",
      "Epoch 9/30\n",
      "1870/1870 [==============================] - 26s 14ms/step - loss: 0.0346 - accuracy: 0.8577 - val_loss: 0.0305 - val_accuracy: 0.8722\n",
      "Epoch 10/30\n",
      "1870/1870 [==============================] - 26s 14ms/step - loss: 0.0325 - accuracy: 0.8594 - val_loss: 0.0287 - val_accuracy: 0.8567\n",
      "Epoch 11/30\n",
      "1870/1870 [==============================] - 26s 14ms/step - loss: 0.0295 - accuracy: 0.8631 - val_loss: 0.0218 - val_accuracy: 0.8539\n",
      "Epoch 12/30\n",
      "1870/1870 [==============================] - 25s 14ms/step - loss: 0.0270 - accuracy: 0.8667 - val_loss: 0.0208 - val_accuracy: 0.8707\n",
      "Epoch 13/30\n",
      "1870/1870 [==============================] - 25s 14ms/step - loss: 0.0261 - accuracy: 0.8606 - val_loss: 0.0247 - val_accuracy: 0.8513\n",
      "Epoch 14/30\n",
      "1870/1870 [==============================] - 26s 14ms/step - loss: 0.0245 - accuracy: 0.8626 - val_loss: 0.0230 - val_accuracy: 0.8461\n",
      "Epoch 15/30\n",
      "1870/1870 [==============================] - 26s 14ms/step - loss: 0.0240 - accuracy: 0.8598 - val_loss: 0.0184 - val_accuracy: 0.8649\n",
      "Epoch 16/30\n",
      "1870/1870 [==============================] - 26s 14ms/step - loss: 0.0221 - accuracy: 0.8660 - val_loss: 0.0163 - val_accuracy: 0.8573\n",
      "Epoch 17/30\n",
      "1870/1870 [==============================] - 26s 14ms/step - loss: 0.0214 - accuracy: 0.8655 - val_loss: 0.0175 - val_accuracy: 0.8543\n",
      "Epoch 18/30\n",
      "1870/1870 [==============================] - 26s 14ms/step - loss: 0.0212 - accuracy: 0.8647 - val_loss: 0.0179 - val_accuracy: 0.8837\n",
      "Epoch 19/30\n",
      "1870/1870 [==============================] - 26s 14ms/step - loss: 0.0196 - accuracy: 0.8648 - val_loss: 0.0147 - val_accuracy: 0.8633\n",
      "Epoch 20/30\n",
      "1870/1870 [==============================] - 26s 14ms/step - loss: 0.0192 - accuracy: 0.8620 - val_loss: 0.0134 - val_accuracy: 0.8615\n",
      "Epoch 21/30\n",
      "1870/1870 [==============================] - 26s 14ms/step - loss: 0.0184 - accuracy: 0.8696 - val_loss: 0.0183 - val_accuracy: 0.8810\n",
      "Epoch 22/30\n",
      "1870/1870 [==============================] - 26s 14ms/step - loss: 0.0183 - accuracy: 0.8654 - val_loss: 0.0139 - val_accuracy: 0.8727\n",
      "Epoch 23/30\n",
      "1870/1870 [==============================] - 26s 14ms/step - loss: 0.0175 - accuracy: 0.8571 - val_loss: 0.0145 - val_accuracy: 0.8630\n",
      "Epoch 24/30\n",
      "1870/1870 [==============================] - 27s 14ms/step - loss: 0.0166 - accuracy: 0.8641 - val_loss: 0.0137 - val_accuracy: 0.8764\n",
      "Epoch 25/30\n",
      "1870/1870 [==============================] - 25s 13ms/step - loss: 0.0169 - accuracy: 0.8732 - val_loss: 0.0116 - val_accuracy: 0.8758\n",
      "Epoch 26/30\n",
      "1870/1870 [==============================] - 24s 13ms/step - loss: 0.0164 - accuracy: 0.8658 - val_loss: 0.0132 - val_accuracy: 0.8752\n",
      "Epoch 27/30\n",
      "1870/1870 [==============================] - 25s 13ms/step - loss: 0.0154 - accuracy: 0.8682 - val_loss: 0.0124 - val_accuracy: 0.8654\n",
      "Epoch 28/30\n",
      "1870/1870 [==============================] - 26s 14ms/step - loss: 0.0148 - accuracy: 0.8658 - val_loss: 0.0141 - val_accuracy: 0.8634\n",
      "Epoch 29/30\n",
      "1870/1870 [==============================] - 26s 14ms/step - loss: 0.0152 - accuracy: 0.8668 - val_loss: 0.0117 - val_accuracy: 0.8692\n",
      "Epoch 30/30\n",
      "1870/1870 [==============================] - 26s 14ms/step - loss: 0.0139 - accuracy: 0.8691 - val_loss: 0.0127 - val_accuracy: 0.8673\n"
     ]
    },
    {
     "data": {
      "text/plain": [
       "<tensorflow.python.keras.callbacks.History at 0x25b7dfa73d0>"
      ]
     },
     "execution_count": 209,
     "metadata": {},
     "output_type": "execute_result"
    }
   ],
   "source": [
    "model_with_PR_standard = LSTM_model(11)\n",
    "model_with_PR_standard.fit(x_data_filter, y_data_filter, epochs=30, batch_size=64, validation_split=0.1)"
   ]
  },
  {
   "cell_type": "code",
   "execution_count": 210,
   "id": "0dba9f6d",
   "metadata": {},
   "outputs": [],
   "source": [
    "model_with_PR_standard.save(\"modelop/LSTM/LSTM_with_PR25_standard.h5\")"
   ]
  },
  {
   "cell_type": "markdown",
   "id": "25dbaeac",
   "metadata": {},
   "source": [
    "Evaluate"
   ]
  },
  {
   "cell_type": "code",
   "execution_count": 211,
   "id": "dbe1a14c",
   "metadata": {},
   "outputs": [
    {
     "name": "stdout",
     "output_type": "stream",
     "text": [
      "Model: \"sequential_6\"\n",
      "_________________________________________________________________\n",
      "Layer (type)                 Output Shape              Param #   \n",
      "=================================================================\n",
      "lstm_24 (LSTM)               (None, 20, 128)           71680     \n",
      "_________________________________________________________________\n",
      "dropout_18 (Dropout)         (None, 20, 128)           0         \n",
      "_________________________________________________________________\n",
      "lstm_25 (LSTM)               (None, 20, 128)           131584    \n",
      "_________________________________________________________________\n",
      "dropout_19 (Dropout)         (None, 20, 128)           0         \n",
      "_________________________________________________________________\n",
      "lstm_26 (LSTM)               (None, 20, 128)           131584    \n",
      "_________________________________________________________________\n",
      "dropout_20 (Dropout)         (None, 20, 128)           0         \n",
      "_________________________________________________________________\n",
      "lstm_27 (LSTM)               (None, 128)               131584    \n",
      "_________________________________________________________________\n",
      "dense_12 (Dense)             (None, 32)                4128      \n",
      "_________________________________________________________________\n",
      "dense_13 (Dense)             (None, 6)                 198       \n",
      "=================================================================\n",
      "Total params: 470,758\n",
      "Trainable params: 470,758\n",
      "Non-trainable params: 0\n",
      "_________________________________________________________________\n"
     ]
    }
   ],
   "source": [
    "model = load_model(\"modelop/LSTM/LSTM_with_PR25_standard.h5\")\n",
    "model.summary()"
   ]
  },
  {
   "cell_type": "code",
   "execution_count": 212,
   "id": "5e9863f8",
   "metadata": {},
   "outputs": [
    {
     "name": "stdout",
     "output_type": "stream",
     "text": [
      "1433/1433 [==============================] - 12s 7ms/step - loss: 1.5436 - accuracy: 0.4877\n"
     ]
    },
    {
     "data": {
      "text/plain": [
       "[1.5436309576034546, 0.4877176284790039]"
      ]
     },
     "execution_count": 212,
     "metadata": {},
     "output_type": "execute_result"
    }
   ],
   "source": [
    "model.evaluate(x_ts_data_filter, y_ts_data_filter)"
   ]
  },
  {
   "cell_type": "code",
   "execution_count": null,
   "id": "d7b1e8a7",
   "metadata": {},
   "outputs": [],
   "source": []
  }
 ],
 "metadata": {
  "kernelspec": {
   "display_name": "Python 3 (ipykernel)",
   "language": "python",
   "name": "python3"
  },
  "language_info": {
   "codemirror_mode": {
    "name": "ipython",
    "version": 3
   },
   "file_extension": ".py",
   "mimetype": "text/x-python",
   "name": "python",
   "nbconvert_exporter": "python",
   "pygments_lexer": "ipython3",
   "version": "3.8.13"
  }
 },
 "nbformat": 4,
 "nbformat_minor": 5
}
