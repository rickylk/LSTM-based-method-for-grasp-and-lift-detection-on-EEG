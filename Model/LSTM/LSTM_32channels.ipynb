{
 "cells": [
  {
   "cell_type": "markdown",
   "id": "5b6ccc89",
   "metadata": {},
   "source": [
    "# Reference"
   ]
  },
  {
   "cell_type": "markdown",
   "id": "4c4f45af",
   "metadata": {},
   "source": [
    "https://github.com/khushwant18/Grasp-and-Lift-EEG-detection/blob/master/LSTM.ipynb"
   ]
  },
  {
   "cell_type": "code",
   "execution_count": 1,
   "id": "4ce2c045",
   "metadata": {},
   "outputs": [
    {
     "name": "stderr",
     "output_type": "stream",
     "text": [
      "C:\\Users\\User\\anaconda3\\envs\\modelop_gpu\\lib\\site-packages\\numpy\\_distributor_init.py:30: UserWarning: loaded more than 1 DLL from .libs:\n",
      "C:\\Users\\User\\anaconda3\\envs\\modelop_gpu\\lib\\site-packages\\numpy\\.libs\\libopenblas.NOIJJG62EMASZI6NYURL6JBKM4EVBGM7.gfortran-win_amd64.dll\n",
      "C:\\Users\\User\\anaconda3\\envs\\modelop_gpu\\lib\\site-packages\\numpy\\.libs\\libopenblas.PYQHXLVVQ7VESDPUVUADXEVJOBGHJPAY.gfortran-win_amd64.dll\n",
      "  warnings.warn(\"loaded more than 1 DLL from .libs:\\n%s\" %\n"
     ]
    }
   ],
   "source": [
    "import numpy as np\n",
    "import pandas as pd\n",
    "from sklearn.preprocessing import StandardScaler\n",
    "from sklearn.model_selection import train_test_split\n",
    "from tensorflow.keras.models import Sequential, Model, load_model\n",
    "from tensorflow.keras.layers import Conv2D, Flatten, MaxPooling2D, Dense,BatchNormalization, Dropout, Input\n",
    "from tensorflow.keras.layers import LSTM, Dense,BatchNormalization, Dropout, Input\n",
    "from tensorflow.keras.optimizers import Adam\n",
    "from sklearn.metrics import accuracy_score, precision_score, recall_score, f1_score, roc_auc_score\n",
    "import matplotlib.pyplot as plt\n",
    "from sklearn import metrics\n",
    "import glob\n",
    "from scipy import signal\n",
    "from scipy.fft import fft, fftfreq\n",
    "from sklearn.decomposition import PCA\n",
    "from sklearn.linear_model import LinearRegression\n",
    "from sklearn.preprocessing import PolynomialFeatures\n",
    "from sklearn import utils"
   ]
  },
  {
   "cell_type": "markdown",
   "id": "531b99e0",
   "metadata": {},
   "source": [
    "# Without preprocessing"
   ]
  },
  {
   "cell_type": "markdown",
   "id": "2cfd6b50",
   "metadata": {},
   "source": [
    "Training data"
   ]
  },
  {
   "cell_type": "code",
   "execution_count": 2,
   "id": "25872ab7",
   "metadata": {},
   "outputs": [],
   "source": [
    "#read csv file from the path\n",
    "xpath = 'grasp-and-lift-eeg-detection/subject1/train/data' \n",
    "xfiles = glob.glob(xpath + \"/*.csv\")\n",
    "ypath = 'grasp-and-lift-eeg-detection/subject1/train/event' \n",
    "yfiles = glob.glob(ypath + \"/*.csv\")\n",
    "\n",
    "xli = []\n",
    "yli = []\n",
    "\n",
    "for f in xfiles:\n",
    "    df = pd.read_csv(f, index_col=None, header=0)\n",
    "    xli.append(df)\n",
    "\n",
    "for f in yfiles:\n",
    "    df = pd.read_csv(f, index_col=None, header=0)\n",
    "    yli.append(df)\n",
    "    \n",
    "#concatatenate all the dataframes in the li\n",
    "x_df = pd.concat(xli, axis=0, ignore_index=True)\n",
    "x_df = x_df.iloc[:,1:]\n",
    "x_data=x_df.values\n",
    "\n",
    "y_df = pd.concat(yli, axis=0, ignore_index=True)\n",
    "y_df = y_df.iloc[:,1:]\n",
    "y_data=y_df.values"
   ]
  },
  {
   "cell_type": "code",
   "execution_count": 3,
   "id": "88a25164",
   "metadata": {},
   "outputs": [
    {
     "data": {
      "text/plain": [
       "(1185498, 32)"
      ]
     },
     "execution_count": 3,
     "metadata": {},
     "output_type": "execute_result"
    }
   ],
   "source": [
    "x_data.shape"
   ]
  },
  {
   "cell_type": "markdown",
   "id": "7cbedca4",
   "metadata": {},
   "source": [
    "Testing data"
   ]
  },
  {
   "cell_type": "code",
   "execution_count": 4,
   "id": "a95e1c5c",
   "metadata": {},
   "outputs": [],
   "source": [
    "#read csv file from the path\n",
    "xtestpath = 'grasp-and-lift-eeg-detection/subject1/test/data' \n",
    "xtestfiles = glob.glob(xtestpath + \"/*.csv\")\n",
    "ytestpath = 'grasp-and-lift-eeg-detection/subject1/test/event' \n",
    "ytestfiles = glob.glob(ytestpath + \"/*.csv\")\n",
    "\n",
    "xtestli = []\n",
    "ytestli = []\n",
    "\n",
    "for f in xtestfiles:\n",
    "    df = pd.read_csv(f, index_col=None, header=0)\n",
    "    xtestli.append(df)\n",
    "\n",
    "for f in ytestfiles:\n",
    "    df = pd.read_csv(f, index_col=None, header=0)\n",
    "    ytestli.append(df)\n",
    "    \n",
    "#concatatenate all the dataframes in the li\n",
    "x_ts_df = pd.concat(xtestli, axis=0, ignore_index=True)\n",
    "x_ts_df = x_ts_df.iloc[:,1:]\n",
    "x_ts_data=x_ts_df.values\n",
    "# x_val_data=x_ts_df.values\n",
    "# x_val_data=StandardScaler().fit_transform(x_val_data)\n",
    "\n",
    "y_ts_df = pd.concat(ytestli, axis=0, ignore_index=True)\n",
    "y_ts_df = y_ts_df.iloc[:,1:]\n",
    "y_ts_data=y_ts_df.values"
   ]
  },
  {
   "cell_type": "code",
   "execution_count": 5,
   "id": "6e42c625",
   "metadata": {},
   "outputs": [
    {
     "data": {
      "text/plain": [
       "(236894, 32)"
      ]
     },
     "execution_count": 5,
     "metadata": {},
     "output_type": "execute_result"
    }
   ],
   "source": [
    "x_ts_data.shape"
   ]
  },
  {
   "cell_type": "markdown",
   "id": "eb3198d6",
   "metadata": {},
   "source": [
    "Filter [0 0 0 0 0 0] from the data"
   ]
  },
  {
   "cell_type": "code",
   "execution_count": 6,
   "id": "1005488b",
   "metadata": {},
   "outputs": [],
   "source": [
    "time_steps=1000\n",
    "subsample=50"
   ]
  },
  {
   "cell_type": "code",
   "execution_count": 7,
   "id": "9faed056",
   "metadata": {},
   "outputs": [],
   "source": [
    "def filter_dataset(x_dataset, y_dataset):\n",
    "    x_data_filter = []\n",
    "    y_data_filter = []\n",
    "    for i in range(x_dataset.shape[0]-time_steps):\n",
    "        if 1 in y_dataset[i+time_steps]:\n",
    "            x_data_filter.append(x_dataset[i:i+time_steps:subsample])\n",
    "            y_data_filter.append(y_dataset[i+time_steps])\n",
    "    x_data_filter = np.array(x_data_filter)\n",
    "    y_data_filter = np.array(y_data_filter)\n",
    "    return x_data_filter, y_data_filter"
   ]
  },
  {
   "cell_type": "code",
   "execution_count": 8,
   "id": "50cfb7c4",
   "metadata": {},
   "outputs": [],
   "source": [
    "x_data_filter, y_data_filter = filter_dataset(x_data, y_data)"
   ]
  },
  {
   "cell_type": "code",
   "execution_count": 9,
   "id": "0832e172",
   "metadata": {},
   "outputs": [
    {
     "data": {
      "text/plain": [
       "(132965, 20, 32)"
      ]
     },
     "execution_count": 9,
     "metadata": {},
     "output_type": "execute_result"
    }
   ],
   "source": [
    "x_data_filter.shape"
   ]
  },
  {
   "cell_type": "code",
   "execution_count": 10,
   "id": "bda8ca26",
   "metadata": {},
   "outputs": [
    {
     "data": {
      "text/plain": [
       "(132965, 6)"
      ]
     },
     "execution_count": 10,
     "metadata": {},
     "output_type": "execute_result"
    }
   ],
   "source": [
    "y_data_filter.shape"
   ]
  },
  {
   "cell_type": "code",
   "execution_count": 11,
   "id": "a8e6299b",
   "metadata": {},
   "outputs": [],
   "source": [
    "x_ts_data_filter, y_ts_data_filter = filter_dataset(x_ts_data, y_ts_data)"
   ]
  },
  {
   "cell_type": "code",
   "execution_count": 12,
   "id": "0f8c28c5",
   "metadata": {},
   "outputs": [
    {
     "data": {
      "text/plain": [
       "(45838, 20, 32)"
      ]
     },
     "execution_count": 12,
     "metadata": {},
     "output_type": "execute_result"
    }
   ],
   "source": [
    "x_ts_data_filter.shape"
   ]
  },
  {
   "cell_type": "code",
   "execution_count": 13,
   "id": "6a4a4a6a",
   "metadata": {},
   "outputs": [
    {
     "data": {
      "text/plain": [
       "(45838, 6)"
      ]
     },
     "execution_count": 13,
     "metadata": {},
     "output_type": "execute_result"
    }
   ],
   "source": [
    "y_ts_data_filter.shape"
   ]
  },
  {
   "cell_type": "markdown",
   "id": "80c0b6bd",
   "metadata": {},
   "source": [
    "Shuffle"
   ]
  },
  {
   "cell_type": "code",
   "execution_count": 14,
   "id": "c0bbd47a",
   "metadata": {},
   "outputs": [],
   "source": [
    "x_data_filter, y_data_filter = utils.shuffle(x_data_filter, y_data_filter)"
   ]
  },
  {
   "cell_type": "code",
   "execution_count": 15,
   "id": "4823512f",
   "metadata": {},
   "outputs": [
    {
     "data": {
      "text/plain": [
       "(132965, 20, 32)"
      ]
     },
     "execution_count": 15,
     "metadata": {},
     "output_type": "execute_result"
    }
   ],
   "source": [
    "x_data_filter.shape"
   ]
  },
  {
   "cell_type": "code",
   "execution_count": 16,
   "id": "665d550d",
   "metadata": {},
   "outputs": [
    {
     "data": {
      "text/plain": [
       "(132965, 6)"
      ]
     },
     "execution_count": 16,
     "metadata": {},
     "output_type": "execute_result"
    }
   ],
   "source": [
    "y_data_filter.shape"
   ]
  },
  {
   "cell_type": "markdown",
   "id": "79edf282",
   "metadata": {},
   "source": [
    "Model"
   ]
  },
  {
   "cell_type": "code",
   "execution_count": 17,
   "id": "f5b6b0e3",
   "metadata": {},
   "outputs": [],
   "source": [
    "def LSTM_model(featr):\n",
    "    model = Sequential()\n",
    "    model.add(LSTM(128, return_sequences = True, input_shape = (time_steps//subsample, featr)))\n",
    "    model.add(Dropout(0.5))\n",
    "    model.add(LSTM(128, return_sequences = True, input_shape = (time_steps//subsample, featr)))\n",
    "    model.add(Dropout(0.5))\n",
    "    model.add(LSTM(128, return_sequences = True, input_shape = (time_steps//subsample, featr)))\n",
    "    model.add(Dropout(0.5))\n",
    "    model.add(LSTM(128))\n",
    "    model.add(Dense(32, activation = \"relu\"))\n",
    "    model.add(Dense(6, activation = \"sigmoid\"))\n",
    "    \n",
    "    optimizer = Adam(lr = 0.001)\n",
    "    model.compile(optimizer=optimizer, loss='binary_crossentropy', metrics=['accuracy'])\n",
    "    model.summary()\n",
    "    \n",
    "    return model"
   ]
  },
  {
   "cell_type": "code",
   "execution_count": 18,
   "id": "6f36d707",
   "metadata": {},
   "outputs": [
    {
     "name": "stderr",
     "output_type": "stream",
     "text": [
      "C:\\Users\\User\\anaconda3\\envs\\modelop_gpu\\lib\\site-packages\\tensorflow\\python\\keras\\optimizer_v2\\optimizer_v2.py:374: UserWarning: The `lr` argument is deprecated, use `learning_rate` instead.\n",
      "  warnings.warn(\n"
     ]
    },
    {
     "name": "stdout",
     "output_type": "stream",
     "text": [
      "Model: \"sequential\"\n",
      "_________________________________________________________________\n",
      "Layer (type)                 Output Shape              Param #   \n",
      "=================================================================\n",
      "lstm (LSTM)                  (None, 20, 128)           82432     \n",
      "_________________________________________________________________\n",
      "dropout (Dropout)            (None, 20, 128)           0         \n",
      "_________________________________________________________________\n",
      "lstm_1 (LSTM)                (None, 20, 128)           131584    \n",
      "_________________________________________________________________\n",
      "dropout_1 (Dropout)          (None, 20, 128)           0         \n",
      "_________________________________________________________________\n",
      "lstm_2 (LSTM)                (None, 20, 128)           131584    \n",
      "_________________________________________________________________\n",
      "dropout_2 (Dropout)          (None, 20, 128)           0         \n",
      "_________________________________________________________________\n",
      "lstm_3 (LSTM)                (None, 128)               131584    \n",
      "_________________________________________________________________\n",
      "dense (Dense)                (None, 32)                4128      \n",
      "_________________________________________________________________\n",
      "dense_1 (Dense)              (None, 6)                 198       \n",
      "=================================================================\n",
      "Total params: 481,510\n",
      "Trainable params: 481,510\n",
      "Non-trainable params: 0\n",
      "_________________________________________________________________\n",
      "Epoch 1/30\n",
      "1870/1870 [==============================] - 36s 17ms/step - loss: 0.2115 - accuracy: 0.7072 - val_loss: 0.1108 - val_accuracy: 0.8530\n",
      "Epoch 2/30\n",
      "1870/1870 [==============================] - 31s 17ms/step - loss: 0.1317 - accuracy: 0.8146 - val_loss: 0.0957 - val_accuracy: 0.8646\n",
      "Epoch 3/30\n",
      "1870/1870 [==============================] - 31s 17ms/step - loss: 0.1157 - accuracy: 0.8260 - val_loss: 0.0805 - val_accuracy: 0.8476\n",
      "Epoch 4/30\n",
      "1870/1870 [==============================] - 32s 17ms/step - loss: 0.1037 - accuracy: 0.8354 - val_loss: 0.0803 - val_accuracy: 0.8110\n",
      "Epoch 5/30\n",
      "1870/1870 [==============================] - 32s 17ms/step - loss: 0.0984 - accuracy: 0.8346 - val_loss: 0.0784 - val_accuracy: 0.8600\n",
      "Epoch 6/30\n",
      "1870/1870 [==============================] - 32s 17ms/step - loss: 0.0935 - accuracy: 0.8379 - val_loss: 0.0657 - val_accuracy: 0.8461\n",
      "Epoch 7/30\n",
      "1870/1870 [==============================] - 32s 17ms/step - loss: 0.0893 - accuracy: 0.8379 - val_loss: 0.0688 - val_accuracy: 0.8412\n",
      "Epoch 8/30\n",
      "1870/1870 [==============================] - 33s 17ms/step - loss: 0.0836 - accuracy: 0.8431 - val_loss: 0.0628 - val_accuracy: 0.8686\n",
      "Epoch 9/30\n",
      "1870/1870 [==============================] - 33s 18ms/step - loss: 0.0815 - accuracy: 0.8428 - val_loss: 0.0604 - val_accuracy: 0.8497\n",
      "Epoch 10/30\n",
      "1870/1870 [==============================] - 33s 17ms/step - loss: 0.0813 - accuracy: 0.8425 - val_loss: 0.0599 - val_accuracy: 0.8491\n",
      "Epoch 11/30\n",
      "1870/1870 [==============================] - 33s 17ms/step - loss: 0.0759 - accuracy: 0.8492 - val_loss: 0.0563 - val_accuracy: 0.8634\n",
      "Epoch 12/30\n",
      "1870/1870 [==============================] - 33s 17ms/step - loss: 0.0748 - accuracy: 0.8482 - val_loss: 0.0543 - val_accuracy: 0.8617\n",
      "Epoch 13/30\n",
      "1870/1870 [==============================] - 33s 17ms/step - loss: 0.0713 - accuracy: 0.8493 - val_loss: 0.0529 - val_accuracy: 0.8533\n",
      "Epoch 14/30\n",
      "1870/1870 [==============================] - 33s 18ms/step - loss: 0.0712 - accuracy: 0.8494 - val_loss: 0.0510 - val_accuracy: 0.8627\n",
      "Epoch 15/30\n",
      "1870/1870 [==============================] - 33s 17ms/step - loss: 0.0694 - accuracy: 0.8499 - val_loss: 0.0494 - val_accuracy: 0.8568\n",
      "Epoch 16/30\n",
      "1870/1870 [==============================] - 33s 17ms/step - loss: 0.0668 - accuracy: 0.8495 - val_loss: 0.0499 - val_accuracy: 0.8615\n",
      "Epoch 17/30\n",
      "1870/1870 [==============================] - 33s 18ms/step - loss: 0.0664 - accuracy: 0.8512 - val_loss: 0.0476 - val_accuracy: 0.8612\n",
      "Epoch 18/30\n",
      "1870/1870 [==============================] - 33s 18ms/step - loss: 0.0653 - accuracy: 0.8495 - val_loss: 0.0465 - val_accuracy: 0.8467\n",
      "Epoch 19/30\n",
      "1870/1870 [==============================] - 33s 17ms/step - loss: 0.0640 - accuracy: 0.8525 - val_loss: 0.0478 - val_accuracy: 0.8791\n",
      "Epoch 20/30\n",
      "1870/1870 [==============================] - 33s 18ms/step - loss: 0.0647 - accuracy: 0.8519 - val_loss: 0.0430 - val_accuracy: 0.8711\n",
      "Epoch 21/30\n",
      "1870/1870 [==============================] - 33s 18ms/step - loss: 0.0621 - accuracy: 0.8532 - val_loss: 0.0445 - val_accuracy: 0.8534\n",
      "Epoch 22/30\n",
      "1870/1870 [==============================] - 33s 18ms/step - loss: 0.0615 - accuracy: 0.8510 - val_loss: 0.0431 - val_accuracy: 0.8576\n",
      "Epoch 23/30\n",
      "1870/1870 [==============================] - 33s 18ms/step - loss: 0.0594 - accuracy: 0.8516 - val_loss: 0.0407 - val_accuracy: 0.8546\n",
      "Epoch 24/30\n",
      "1870/1870 [==============================] - 33s 18ms/step - loss: 0.0580 - accuracy: 0.8517 - val_loss: 0.0409 - val_accuracy: 0.8655\n",
      "Epoch 25/30\n",
      "1870/1870 [==============================] - 33s 18ms/step - loss: 0.0594 - accuracy: 0.8530 - val_loss: 0.0402 - val_accuracy: 0.8671\n",
      "Epoch 26/30\n",
      "1870/1870 [==============================] - 33s 18ms/step - loss: 0.0594 - accuracy: 0.8526 - val_loss: 0.0406 - val_accuracy: 0.8681\n",
      "Epoch 27/30\n",
      "1870/1870 [==============================] - 33s 17ms/step - loss: 0.0578 - accuracy: 0.8533 - val_loss: 0.0400 - val_accuracy: 0.8576\n",
      "Epoch 28/30\n",
      "1870/1870 [==============================] - 33s 18ms/step - loss: 0.0576 - accuracy: 0.8539 - val_loss: 0.0406 - val_accuracy: 0.8675\n",
      "Epoch 29/30\n",
      "1870/1870 [==============================] - 33s 18ms/step - loss: 0.0564 - accuracy: 0.8557 - val_loss: 0.0395 - val_accuracy: 0.8665\n",
      "Epoch 30/30\n",
      "1870/1870 [==============================] - 33s 18ms/step - loss: 0.0563 - accuracy: 0.8570 - val_loss: 0.0391 - val_accuracy: 0.8720\n"
     ]
    },
    {
     "data": {
      "text/plain": [
       "<tensorflow.python.keras.callbacks.History at 0x238890f16a0>"
      ]
     },
     "execution_count": 18,
     "metadata": {},
     "output_type": "execute_result"
    }
   ],
   "source": [
    "model_without_preprocessing = LSTM_model(32)\n",
    "model_without_preprocessing.fit(x_data_filter, y_data_filter, epochs=30, batch_size=64, validation_split=0.1)"
   ]
  },
  {
   "cell_type": "code",
   "execution_count": 19,
   "id": "b93185c2",
   "metadata": {},
   "outputs": [],
   "source": [
    "model_without_preprocessing.save(\"modelop/LSTM/LSTM_without_preprocessing.h5\")"
   ]
  },
  {
   "cell_type": "markdown",
   "id": "a9491541",
   "metadata": {},
   "source": [
    "Evaluate"
   ]
  },
  {
   "cell_type": "code",
   "execution_count": 20,
   "id": "9be07e7b",
   "metadata": {},
   "outputs": [
    {
     "name": "stdout",
     "output_type": "stream",
     "text": [
      "Model: \"sequential\"\n",
      "_________________________________________________________________\n",
      "Layer (type)                 Output Shape              Param #   \n",
      "=================================================================\n",
      "lstm (LSTM)                  (None, 20, 128)           82432     \n",
      "_________________________________________________________________\n",
      "dropout (Dropout)            (None, 20, 128)           0         \n",
      "_________________________________________________________________\n",
      "lstm_1 (LSTM)                (None, 20, 128)           131584    \n",
      "_________________________________________________________________\n",
      "dropout_1 (Dropout)          (None, 20, 128)           0         \n",
      "_________________________________________________________________\n",
      "lstm_2 (LSTM)                (None, 20, 128)           131584    \n",
      "_________________________________________________________________\n",
      "dropout_2 (Dropout)          (None, 20, 128)           0         \n",
      "_________________________________________________________________\n",
      "lstm_3 (LSTM)                (None, 128)               131584    \n",
      "_________________________________________________________________\n",
      "dense (Dense)                (None, 32)                4128      \n",
      "_________________________________________________________________\n",
      "dense_1 (Dense)              (None, 6)                 198       \n",
      "=================================================================\n",
      "Total params: 481,510\n",
      "Trainable params: 481,510\n",
      "Non-trainable params: 0\n",
      "_________________________________________________________________\n"
     ]
    }
   ],
   "source": [
    "model = load_model(\"modelop/LSTM/LSTM_without_preprocessing.h5\")\n",
    "model.summary()"
   ]
  },
  {
   "cell_type": "code",
   "execution_count": 21,
   "id": "5d99ca03",
   "metadata": {},
   "outputs": [
    {
     "name": "stdout",
     "output_type": "stream",
     "text": [
      "1433/1433 [==============================] - 16s 10ms/step - loss: 0.5815 - accuracy: 0.6798\n"
     ]
    },
    {
     "data": {
      "text/plain": [
       "[0.5815373063087463, 0.6797634959220886]"
      ]
     },
     "execution_count": 21,
     "metadata": {},
     "output_type": "execute_result"
    }
   ],
   "source": [
    "model.evaluate(x_ts_data_filter, y_ts_data_filter)"
   ]
  },
  {
   "cell_type": "markdown",
   "id": "c60a650c",
   "metadata": {},
   "source": [
    "# With lowpass filter"
   ]
  },
  {
   "cell_type": "markdown",
   "id": "afcadfee",
   "metadata": {},
   "source": [
    "Training data with filter"
   ]
  },
  {
   "cell_type": "code",
   "execution_count": 18,
   "id": "876c27aa",
   "metadata": {},
   "outputs": [],
   "source": [
    "x_data_df=x_df.copy()"
   ]
  },
  {
   "cell_type": "code",
   "execution_count": 19,
   "id": "2d1733d6",
   "metadata": {},
   "outputs": [],
   "source": [
    "fs = 500  # Sampling frequency\n",
    "fc = 35  # Cut-off frequency of the filter\n",
    "w = fc / (fs / 2) # Normalize the frequency\n",
    "for col in x_data_df.columns:\n",
    "    b, a = signal.butter(8, w, 'low')\n",
    "    x_data_df[col] = signal.filtfilt(b, a, x_data_df[col].values)"
   ]
  },
  {
   "cell_type": "code",
   "execution_count": 20,
   "id": "eac77414",
   "metadata": {},
   "outputs": [
    {
     "data": {
      "text/plain": [
       "array([[ -31.62582713,  368.39071745,  211.47707742, ...,  172.78507556,\n",
       "         120.51075076,  704.97925546],\n",
       "       [ -76.07565546,  325.68090395,  188.87485875, ...,  173.26799587,\n",
       "         113.53506986,  693.9428322 ],\n",
       "       [-114.68293296,  286.41130889,  169.55635893, ...,  173.40583768,\n",
       "         106.38561518,  682.60595466],\n",
       "       ...,\n",
       "       [ 170.19434836,   43.28088984,   63.64375512, ..., -257.65043159,\n",
       "        -230.29635042, -278.40120478],\n",
       "       [ 164.03662925,   16.02791762,   74.66580244, ..., -279.13142422,\n",
       "        -246.47929981, -299.15333712],\n",
       "       [ 156.97928734,  -14.68984266,   88.0355826 , ..., -301.69847804,\n",
       "        -263.87398205, -321.66220475]])"
      ]
     },
     "execution_count": 20,
     "metadata": {},
     "output_type": "execute_result"
    }
   ],
   "source": [
    "x_data_df.values"
   ]
  },
  {
   "cell_type": "code",
   "execution_count": 21,
   "id": "ba5d0fdc",
   "metadata": {},
   "outputs": [
    {
     "data": {
      "text/plain": [
       "(1185498, 32)"
      ]
     },
     "execution_count": 21,
     "metadata": {},
     "output_type": "execute_result"
    }
   ],
   "source": [
    "x_data_df.values.shape"
   ]
  },
  {
   "cell_type": "markdown",
   "id": "10aebf65",
   "metadata": {},
   "source": [
    "Testing data with filter"
   ]
  },
  {
   "cell_type": "code",
   "execution_count": 22,
   "id": "5d1fa31a",
   "metadata": {},
   "outputs": [],
   "source": [
    "x_test_df=x_ts_df.copy()"
   ]
  },
  {
   "cell_type": "code",
   "execution_count": 23,
   "id": "8a5e0d36",
   "metadata": {},
   "outputs": [],
   "source": [
    "for col in x_test_df.columns:\n",
    "    b, a = signal.butter(8, w, 'low')\n",
    "    x_test_df[col] = signal.filtfilt(b, a, x_test_df[col].values)"
   ]
  },
  {
   "cell_type": "code",
   "execution_count": 24,
   "id": "7ede443c",
   "metadata": {},
   "outputs": [
    {
     "data": {
      "text/plain": [
       "array([[-170.66182563,  135.38743339,  353.32775601, ..., -182.36360743,\n",
       "         -10.56813655, -112.45719972],\n",
       "       [-147.8709151 ,  118.38532223,  353.36214175, ..., -176.94995958,\n",
       "          -5.89847699,  -95.25205859],\n",
       "       [-126.66368758,  102.67240275,  353.83063837, ..., -172.39239948,\n",
       "          -1.89969443,  -79.4583339 ],\n",
       "       ...,\n",
       "       [ 207.14173229,  347.36445471,  417.56289338, ...,  121.44378851,\n",
       "         245.99908441,  210.77484768],\n",
       "       [ 182.79632991,  310.98162743,  411.0147638 , ...,   92.94635083,\n",
       "         236.42561723,  227.28619971],\n",
       "       [ 153.07992878,  269.14033758,  402.86840595, ...,   62.01940286,\n",
       "         225.44384717,  243.24602684]])"
      ]
     },
     "execution_count": 24,
     "metadata": {},
     "output_type": "execute_result"
    }
   ],
   "source": [
    "x_test_df.values"
   ]
  },
  {
   "cell_type": "code",
   "execution_count": 25,
   "id": "57539fbd",
   "metadata": {},
   "outputs": [
    {
     "data": {
      "text/plain": [
       "(236894, 32)"
      ]
     },
     "execution_count": 25,
     "metadata": {},
     "output_type": "execute_result"
    }
   ],
   "source": [
    "x_test_df.values.shape"
   ]
  },
  {
   "cell_type": "markdown",
   "id": "7a8de03a",
   "metadata": {},
   "source": [
    "Filter [0 0 0 0 0 0] from the data"
   ]
  },
  {
   "cell_type": "code",
   "execution_count": 26,
   "id": "12b4dd3f",
   "metadata": {},
   "outputs": [],
   "source": [
    "x_data_filter, y_data_filter = filter_dataset(x_data_df.values, y_data)"
   ]
  },
  {
   "cell_type": "code",
   "execution_count": 27,
   "id": "6f9e572e",
   "metadata": {},
   "outputs": [
    {
     "data": {
      "text/plain": [
       "(132965, 20, 32)"
      ]
     },
     "execution_count": 27,
     "metadata": {},
     "output_type": "execute_result"
    }
   ],
   "source": [
    "x_data_filter.shape"
   ]
  },
  {
   "cell_type": "code",
   "execution_count": 28,
   "id": "286defa3",
   "metadata": {},
   "outputs": [
    {
     "data": {
      "text/plain": [
       "(132965, 6)"
      ]
     },
     "execution_count": 28,
     "metadata": {},
     "output_type": "execute_result"
    }
   ],
   "source": [
    "y_data_filter.shape"
   ]
  },
  {
   "cell_type": "code",
   "execution_count": 29,
   "id": "f5580689",
   "metadata": {},
   "outputs": [],
   "source": [
    "x_ts_data_filter, y_ts_data_filter = filter_dataset(x_test_df.values, y_ts_data)"
   ]
  },
  {
   "cell_type": "code",
   "execution_count": 30,
   "id": "ef0973cf",
   "metadata": {},
   "outputs": [
    {
     "data": {
      "text/plain": [
       "(45838, 20, 32)"
      ]
     },
     "execution_count": 30,
     "metadata": {},
     "output_type": "execute_result"
    }
   ],
   "source": [
    "x_ts_data_filter.shape"
   ]
  },
  {
   "cell_type": "code",
   "execution_count": 31,
   "id": "babcfb31",
   "metadata": {},
   "outputs": [
    {
     "data": {
      "text/plain": [
       "(45838, 6)"
      ]
     },
     "execution_count": 31,
     "metadata": {},
     "output_type": "execute_result"
    }
   ],
   "source": [
    "y_ts_data_filter.shape"
   ]
  },
  {
   "cell_type": "markdown",
   "id": "e3c810e4",
   "metadata": {},
   "source": [
    "Shuffle"
   ]
  },
  {
   "cell_type": "code",
   "execution_count": 32,
   "id": "7144fe39",
   "metadata": {},
   "outputs": [],
   "source": [
    "x_data_filter, y_data_filter = utils.shuffle(x_data_filter, y_data_filter)"
   ]
  },
  {
   "cell_type": "code",
   "execution_count": 33,
   "id": "3dc05f93",
   "metadata": {},
   "outputs": [
    {
     "data": {
      "text/plain": [
       "(132965, 20, 32)"
      ]
     },
     "execution_count": 33,
     "metadata": {},
     "output_type": "execute_result"
    }
   ],
   "source": [
    "x_data_filter.shape"
   ]
  },
  {
   "cell_type": "code",
   "execution_count": 34,
   "id": "ea69faa3",
   "metadata": {},
   "outputs": [
    {
     "data": {
      "text/plain": [
       "(132965, 6)"
      ]
     },
     "execution_count": 34,
     "metadata": {},
     "output_type": "execute_result"
    }
   ],
   "source": [
    "y_data_filter.shape"
   ]
  },
  {
   "cell_type": "markdown",
   "id": "dab695f4",
   "metadata": {},
   "source": [
    "Model"
   ]
  },
  {
   "cell_type": "code",
   "execution_count": 35,
   "id": "9fa46fa6",
   "metadata": {},
   "outputs": [
    {
     "name": "stderr",
     "output_type": "stream",
     "text": [
      "C:\\Users\\User\\anaconda3\\envs\\modelop_gpu\\lib\\site-packages\\tensorflow\\python\\keras\\optimizer_v2\\optimizer_v2.py:374: UserWarning: The `lr` argument is deprecated, use `learning_rate` instead.\n",
      "  warnings.warn(\n"
     ]
    },
    {
     "name": "stdout",
     "output_type": "stream",
     "text": [
      "Model: \"sequential\"\n",
      "_________________________________________________________________\n",
      "Layer (type)                 Output Shape              Param #   \n",
      "=================================================================\n",
      "lstm (LSTM)                  (None, 20, 128)           82432     \n",
      "_________________________________________________________________\n",
      "dropout (Dropout)            (None, 20, 128)           0         \n",
      "_________________________________________________________________\n",
      "lstm_1 (LSTM)                (None, 20, 128)           131584    \n",
      "_________________________________________________________________\n",
      "dropout_1 (Dropout)          (None, 20, 128)           0         \n",
      "_________________________________________________________________\n",
      "lstm_2 (LSTM)                (None, 20, 128)           131584    \n",
      "_________________________________________________________________\n",
      "dropout_2 (Dropout)          (None, 20, 128)           0         \n",
      "_________________________________________________________________\n",
      "lstm_3 (LSTM)                (None, 128)               131584    \n",
      "_________________________________________________________________\n",
      "dense (Dense)                (None, 32)                4128      \n",
      "_________________________________________________________________\n",
      "dense_1 (Dense)              (None, 6)                 198       \n",
      "=================================================================\n",
      "Total params: 481,510\n",
      "Trainable params: 481,510\n",
      "Non-trainable params: 0\n",
      "_________________________________________________________________\n",
      "Epoch 1/30\n",
      "1870/1870 [==============================] - 33s 15ms/step - loss: 0.1955 - accuracy: 0.7266 - val_loss: 0.1047 - val_accuracy: 0.8521\n",
      "Epoch 2/30\n",
      "1870/1870 [==============================] - 26s 14ms/step - loss: 0.1231 - accuracy: 0.8237 - val_loss: 0.0890 - val_accuracy: 0.8127\n",
      "Epoch 3/30\n",
      "1870/1870 [==============================] - 25s 13ms/step - loss: 0.1051 - accuracy: 0.8358 - val_loss: 0.0744 - val_accuracy: 0.8750\n",
      "Epoch 4/30\n",
      "1870/1870 [==============================] - 25s 13ms/step - loss: 0.0954 - accuracy: 0.8395 - val_loss: 0.0622 - val_accuracy: 0.8562\n",
      "Epoch 5/30\n",
      "1870/1870 [==============================] - 25s 14ms/step - loss: 0.0874 - accuracy: 0.8427 - val_loss: 0.0611 - val_accuracy: 0.8635\n",
      "Epoch 6/30\n",
      "1870/1870 [==============================] - 25s 13ms/step - loss: 0.0846 - accuracy: 0.8441 - val_loss: 0.0573 - val_accuracy: 0.8719\n",
      "Epoch 7/30\n",
      "1870/1870 [==============================] - 26s 14ms/step - loss: 0.0770 - accuracy: 0.8497 - val_loss: 0.0526 - val_accuracy: 0.8576\n",
      "Epoch 8/30\n",
      "1870/1870 [==============================] - 26s 14ms/step - loss: 0.0726 - accuracy: 0.8495 - val_loss: 0.0501 - val_accuracy: 0.8667\n",
      "Epoch 9/30\n",
      "1870/1870 [==============================] - 26s 14ms/step - loss: 0.0699 - accuracy: 0.8516 - val_loss: 0.0526 - val_accuracy: 0.8592\n",
      "Epoch 10/30\n",
      "1870/1870 [==============================] - 26s 14ms/step - loss: 0.0680 - accuracy: 0.8512 - val_loss: 0.0483 - val_accuracy: 0.8682\n",
      "Epoch 11/30\n",
      "1870/1870 [==============================] - 26s 14ms/step - loss: 0.0658 - accuracy: 0.8531 - val_loss: 0.0452 - val_accuracy: 0.8776\n",
      "Epoch 12/30\n",
      "1870/1870 [==============================] - 26s 14ms/step - loss: 0.0628 - accuracy: 0.8546 - val_loss: 0.0434 - val_accuracy: 0.8787\n",
      "Epoch 13/30\n",
      "1870/1870 [==============================] - 26s 14ms/step - loss: 0.0613 - accuracy: 0.8557 - val_loss: 0.0412 - val_accuracy: 0.8681\n",
      "Epoch 14/30\n",
      "1870/1870 [==============================] - 26s 14ms/step - loss: 0.0586 - accuracy: 0.8573 - val_loss: 0.0424 - val_accuracy: 0.8755\n",
      "Epoch 15/30\n",
      "1870/1870 [==============================] - 26s 14ms/step - loss: 0.0596 - accuracy: 0.8547 - val_loss: 0.0416 - val_accuracy: 0.8512\n",
      "Epoch 16/30\n",
      "1870/1870 [==============================] - 26s 14ms/step - loss: 0.0578 - accuracy: 0.8555 - val_loss: 0.0390 - val_accuracy: 0.8764\n",
      "Epoch 17/30\n",
      "1870/1870 [==============================] - 26s 14ms/step - loss: 0.0545 - accuracy: 0.8586 - val_loss: 0.0360 - val_accuracy: 0.8705\n",
      "Epoch 18/30\n",
      "1870/1870 [==============================] - 26s 14ms/step - loss: 0.0537 - accuracy: 0.8586 - val_loss: 0.0379 - val_accuracy: 0.8779\n",
      "Epoch 19/30\n",
      "1870/1870 [==============================] - 26s 14ms/step - loss: 0.0547 - accuracy: 0.8565 - val_loss: 0.0342 - val_accuracy: 0.8754\n",
      "Epoch 20/30\n",
      "1870/1870 [==============================] - 26s 14ms/step - loss: 0.0531 - accuracy: 0.8587 - val_loss: 0.0336 - val_accuracy: 0.8773\n",
      "Epoch 21/30\n",
      "1870/1870 [==============================] - 26s 14ms/step - loss: 0.0501 - accuracy: 0.8603 - val_loss: 0.0339 - val_accuracy: 0.8700\n",
      "Epoch 22/30\n",
      "1870/1870 [==============================] - 26s 14ms/step - loss: 0.0506 - accuracy: 0.8574 - val_loss: 0.0320 - val_accuracy: 0.8703\n",
      "Epoch 23/30\n",
      "1870/1870 [==============================] - 26s 14ms/step - loss: 0.0495 - accuracy: 0.8603 - val_loss: 0.0320 - val_accuracy: 0.8766\n",
      "Epoch 24/30\n",
      "1870/1870 [==============================] - 27s 14ms/step - loss: 0.0499 - accuracy: 0.8604 - val_loss: 0.0345 - val_accuracy: 0.8592\n",
      "Epoch 25/30\n",
      "1870/1870 [==============================] - 26s 14ms/step - loss: 0.0502 - accuracy: 0.8571 - val_loss: 0.0329 - val_accuracy: 0.8636\n",
      "Epoch 26/30\n",
      "1870/1870 [==============================] - 26s 14ms/step - loss: 0.0484 - accuracy: 0.8582 - val_loss: 0.0304 - val_accuracy: 0.8676\n",
      "Epoch 27/30\n",
      "1870/1870 [==============================] - 26s 14ms/step - loss: 0.0477 - accuracy: 0.8579 - val_loss: 0.0294 - val_accuracy: 0.8702\n",
      "Epoch 28/30\n",
      "1870/1870 [==============================] - 26s 14ms/step - loss: 0.0480 - accuracy: 0.8584 - val_loss: 0.0312 - val_accuracy: 0.8693\n",
      "Epoch 29/30\n",
      "1870/1870 [==============================] - 26s 14ms/step - loss: 0.0456 - accuracy: 0.8567 - val_loss: 0.0316 - val_accuracy: 0.8704\n",
      "Epoch 30/30\n",
      "1870/1870 [==============================] - 26s 14ms/step - loss: 0.0471 - accuracy: 0.8585 - val_loss: 0.0280 - val_accuracy: 0.8767\n"
     ]
    },
    {
     "data": {
      "text/plain": [
       "<tensorflow.python.keras.callbacks.History at 0x1dbad0b04f0>"
      ]
     },
     "execution_count": 35,
     "metadata": {},
     "output_type": "execute_result"
    }
   ],
   "source": [
    "model_with_filter = LSTM_model(32)\n",
    "model_with_filter.fit(x_data_filter, y_data_filter, epochs=30, batch_size=64, validation_split=0.1)"
   ]
  },
  {
   "cell_type": "code",
   "execution_count": 36,
   "id": "fcd2fd0c",
   "metadata": {},
   "outputs": [],
   "source": [
    "model_with_filter.save(\"modelop/LSTM/LSTM_with_filter.h5\")"
   ]
  },
  {
   "cell_type": "markdown",
   "id": "afb58248",
   "metadata": {},
   "source": [
    "Evaluate"
   ]
  },
  {
   "cell_type": "code",
   "execution_count": 37,
   "id": "fe29de28",
   "metadata": {},
   "outputs": [
    {
     "name": "stdout",
     "output_type": "stream",
     "text": [
      "Model: \"sequential\"\n",
      "_________________________________________________________________\n",
      "Layer (type)                 Output Shape              Param #   \n",
      "=================================================================\n",
      "lstm (LSTM)                  (None, 20, 128)           82432     \n",
      "_________________________________________________________________\n",
      "dropout (Dropout)            (None, 20, 128)           0         \n",
      "_________________________________________________________________\n",
      "lstm_1 (LSTM)                (None, 20, 128)           131584    \n",
      "_________________________________________________________________\n",
      "dropout_1 (Dropout)          (None, 20, 128)           0         \n",
      "_________________________________________________________________\n",
      "lstm_2 (LSTM)                (None, 20, 128)           131584    \n",
      "_________________________________________________________________\n",
      "dropout_2 (Dropout)          (None, 20, 128)           0         \n",
      "_________________________________________________________________\n",
      "lstm_3 (LSTM)                (None, 128)               131584    \n",
      "_________________________________________________________________\n",
      "dense (Dense)                (None, 32)                4128      \n",
      "_________________________________________________________________\n",
      "dense_1 (Dense)              (None, 6)                 198       \n",
      "=================================================================\n",
      "Total params: 481,510\n",
      "Trainable params: 481,510\n",
      "Non-trainable params: 0\n",
      "_________________________________________________________________\n"
     ]
    }
   ],
   "source": [
    "model = load_model(\"modelop/LSTM/LSTM_with_filter.h5\")\n",
    "model.summary()"
   ]
  },
  {
   "cell_type": "code",
   "execution_count": 38,
   "id": "ccf44df1",
   "metadata": {},
   "outputs": [
    {
     "name": "stdout",
     "output_type": "stream",
     "text": [
      "1433/1433 [==============================] - 10s 7ms/step - loss: 0.7049 - accuracy: 0.6611\n"
     ]
    },
    {
     "data": {
      "text/plain": [
       "[0.7048527002334595, 0.6611108779907227]"
      ]
     },
     "execution_count": 38,
     "metadata": {},
     "output_type": "execute_result"
    }
   ],
   "source": [
    "model.evaluate(x_ts_data_filter, y_ts_data_filter)"
   ]
  },
  {
   "cell_type": "markdown",
   "id": "80d34584",
   "metadata": {},
   "source": [
    "# With lowpass filter and standardization"
   ]
  },
  {
   "cell_type": "markdown",
   "id": "40d8f1d4",
   "metadata": {},
   "source": [
    "Training data with filter and standardization"
   ]
  },
  {
   "cell_type": "code",
   "execution_count": 39,
   "id": "ac4b4756",
   "metadata": {},
   "outputs": [],
   "source": [
    "Xsc = StandardScaler().fit_transform(x_data_df.values)\n",
    "Xsc=pd.DataFrame(Xsc)\n",
    "y=pd.DataFrame(y_data)"
   ]
  },
  {
   "cell_type": "code",
   "execution_count": 40,
   "id": "b796a6b5",
   "metadata": {},
   "outputs": [
    {
     "data": {
      "text/plain": [
       "array([[-0.65280336,  0.16159786, -0.85254116, ...,  0.66432352,\n",
       "         0.73543988,  2.75377775],\n",
       "       [-0.77843632,  0.01723593, -0.96816935, ...,  0.66700912,\n",
       "         0.69974879,  2.70147775],\n",
       "       [-0.8875559 , -0.11549783, -1.06699873, ...,  0.66777568,\n",
       "         0.66316857,  2.64775394],\n",
       "       ...,\n",
       "       [-0.08237898, -0.93729435, -1.60882533, ..., -1.7293968 ,\n",
       "        -1.05946599, -1.90631912],\n",
       "       [-0.09978315, -1.02941116, -1.55243886, ..., -1.84885602,\n",
       "        -1.14226611, -2.00466045],\n",
       "       [-0.11973002, -1.13323917, -1.48404187, ..., -1.974355  ,\n",
       "        -1.23126607, -2.1113267 ]])"
      ]
     },
     "execution_count": 40,
     "metadata": {},
     "output_type": "execute_result"
    }
   ],
   "source": [
    "Xsc.values"
   ]
  },
  {
   "cell_type": "code",
   "execution_count": 41,
   "id": "fcb3c75b",
   "metadata": {},
   "outputs": [
    {
     "data": {
      "text/plain": [
       "(1185498, 32)"
      ]
     },
     "execution_count": 41,
     "metadata": {},
     "output_type": "execute_result"
    }
   ],
   "source": [
    "Xsc.values.shape"
   ]
  },
  {
   "cell_type": "markdown",
   "id": "44db79a2",
   "metadata": {},
   "source": [
    "Testing data with filter and standardization"
   ]
  },
  {
   "cell_type": "code",
   "execution_count": 42,
   "id": "54843ac6",
   "metadata": {},
   "outputs": [],
   "source": [
    "x_test_sc=StandardScaler().fit_transform(x_test_df.values)\n",
    "x_test_sc=pd.DataFrame(x_test_sc)\n",
    "y_test=pd.DataFrame(y_ts_data)"
   ]
  },
  {
   "cell_type": "code",
   "execution_count": 43,
   "id": "8a601c1f",
   "metadata": {},
   "outputs": [
    {
     "data": {
      "text/plain": [
       "array([[-5.40640011e-01, -2.18556568e-01,  2.83241317e-01, ...,\n",
       "        -1.41721093e+00,  2.21421684e-01, -1.07544893e+00],\n",
       "       [-5.02467038e-01, -3.00638162e-01,  2.83464316e-01, ...,\n",
       "        -1.37768586e+00,  2.49090880e-01, -9.68511065e-01],\n",
       "       [-4.66946609e-01, -3.76495887e-01,  2.86502628e-01, ...,\n",
       "        -1.34441109e+00,  2.72784919e-01, -8.70345805e-01],\n",
       "       ...,\n",
       "       [ 9.21510766e-02,  8.04811155e-01,  6.99821341e-01, ...,\n",
       "         8.00888309e-01,  1.74166284e+00,  9.33586850e-01],\n",
       "       [ 5.13744525e-02,  6.29164706e-01,  6.57355176e-01, ...,\n",
       "         5.92828382e-01,  1.68493705e+00,  1.03621249e+00],\n",
       "       [ 1.60183024e-03,  4.27166276e-01,  6.04524123e-01, ...,\n",
       "         3.67030589e-01,  1.61986662e+00,  1.13541016e+00]])"
      ]
     },
     "execution_count": 43,
     "metadata": {},
     "output_type": "execute_result"
    }
   ],
   "source": [
    "x_test_sc.values"
   ]
  },
  {
   "cell_type": "code",
   "execution_count": 44,
   "id": "90416c12",
   "metadata": {},
   "outputs": [
    {
     "data": {
      "text/plain": [
       "(236894, 32)"
      ]
     },
     "execution_count": 44,
     "metadata": {},
     "output_type": "execute_result"
    }
   ],
   "source": [
    "x_test_sc.values.shape"
   ]
  },
  {
   "cell_type": "markdown",
   "id": "e7165202",
   "metadata": {},
   "source": [
    "Filter [0 0 0 0 0 0] from the data"
   ]
  },
  {
   "cell_type": "code",
   "execution_count": 45,
   "id": "b0ef7e86",
   "metadata": {},
   "outputs": [],
   "source": [
    "x_data_filter, y_data_filter = filter_dataset(Xsc.values, y_data)"
   ]
  },
  {
   "cell_type": "code",
   "execution_count": 46,
   "id": "3de53444",
   "metadata": {},
   "outputs": [
    {
     "data": {
      "text/plain": [
       "(132965, 20, 32)"
      ]
     },
     "execution_count": 46,
     "metadata": {},
     "output_type": "execute_result"
    }
   ],
   "source": [
    "x_data_filter.shape"
   ]
  },
  {
   "cell_type": "code",
   "execution_count": 47,
   "id": "c87cc513",
   "metadata": {},
   "outputs": [
    {
     "data": {
      "text/plain": [
       "(132965, 6)"
      ]
     },
     "execution_count": 47,
     "metadata": {},
     "output_type": "execute_result"
    }
   ],
   "source": [
    "y_data_filter.shape"
   ]
  },
  {
   "cell_type": "code",
   "execution_count": 48,
   "id": "1a7cad53",
   "metadata": {},
   "outputs": [],
   "source": [
    "x_ts_data_filter, y_ts_data_filter = filter_dataset(x_test_sc.values, y_ts_data)"
   ]
  },
  {
   "cell_type": "code",
   "execution_count": 49,
   "id": "138ad634",
   "metadata": {},
   "outputs": [
    {
     "data": {
      "text/plain": [
       "(45838, 20, 32)"
      ]
     },
     "execution_count": 49,
     "metadata": {},
     "output_type": "execute_result"
    }
   ],
   "source": [
    "x_ts_data_filter.shape"
   ]
  },
  {
   "cell_type": "code",
   "execution_count": 50,
   "id": "7fea6cac",
   "metadata": {},
   "outputs": [
    {
     "data": {
      "text/plain": [
       "(45838, 6)"
      ]
     },
     "execution_count": 50,
     "metadata": {},
     "output_type": "execute_result"
    }
   ],
   "source": [
    "y_ts_data_filter.shape"
   ]
  },
  {
   "cell_type": "markdown",
   "id": "5eea7014",
   "metadata": {},
   "source": [
    "Shuffle"
   ]
  },
  {
   "cell_type": "code",
   "execution_count": 51,
   "id": "58dc1ce3",
   "metadata": {},
   "outputs": [],
   "source": [
    "x_data_filter, y_data_filter = utils.shuffle(x_data_filter, y_data_filter)"
   ]
  },
  {
   "cell_type": "code",
   "execution_count": 52,
   "id": "36df5e16",
   "metadata": {},
   "outputs": [
    {
     "data": {
      "text/plain": [
       "(132965, 20, 32)"
      ]
     },
     "execution_count": 52,
     "metadata": {},
     "output_type": "execute_result"
    }
   ],
   "source": [
    "x_data_filter.shape"
   ]
  },
  {
   "cell_type": "code",
   "execution_count": 53,
   "id": "f91bc15c",
   "metadata": {},
   "outputs": [
    {
     "data": {
      "text/plain": [
       "(132965, 6)"
      ]
     },
     "execution_count": 53,
     "metadata": {},
     "output_type": "execute_result"
    }
   ],
   "source": [
    "y_data_filter.shape"
   ]
  },
  {
   "cell_type": "markdown",
   "id": "ac4edc94",
   "metadata": {},
   "source": [
    "Model"
   ]
  },
  {
   "cell_type": "code",
   "execution_count": 54,
   "id": "ea4fff6f",
   "metadata": {},
   "outputs": [
    {
     "name": "stderr",
     "output_type": "stream",
     "text": [
      "C:\\Users\\User\\anaconda3\\envs\\modelop_gpu\\lib\\site-packages\\tensorflow\\python\\keras\\optimizer_v2\\optimizer_v2.py:374: UserWarning: The `lr` argument is deprecated, use `learning_rate` instead.\n",
      "  warnings.warn(\n"
     ]
    },
    {
     "name": "stdout",
     "output_type": "stream",
     "text": [
      "Model: \"sequential_1\"\n",
      "_________________________________________________________________\n",
      "Layer (type)                 Output Shape              Param #   \n",
      "=================================================================\n",
      "lstm_4 (LSTM)                (None, 20, 128)           82432     \n",
      "_________________________________________________________________\n",
      "dropout_3 (Dropout)          (None, 20, 128)           0         \n",
      "_________________________________________________________________\n",
      "lstm_5 (LSTM)                (None, 20, 128)           131584    \n",
      "_________________________________________________________________\n",
      "dropout_4 (Dropout)          (None, 20, 128)           0         \n",
      "_________________________________________________________________\n",
      "lstm_6 (LSTM)                (None, 20, 128)           131584    \n",
      "_________________________________________________________________\n",
      "dropout_5 (Dropout)          (None, 20, 128)           0         \n",
      "_________________________________________________________________\n",
      "lstm_7 (LSTM)                (None, 128)               131584    \n",
      "_________________________________________________________________\n",
      "dense_2 (Dense)              (None, 32)                4128      \n",
      "_________________________________________________________________\n",
      "dense_3 (Dense)              (None, 6)                 198       \n",
      "=================================================================\n",
      "Total params: 481,510\n",
      "Trainable params: 481,510\n",
      "Non-trainable params: 0\n",
      "_________________________________________________________________\n",
      "Epoch 1/30\n",
      "1870/1870 [==============================] - 32s 15ms/step - loss: 0.1328 - accuracy: 0.7764 - val_loss: 0.0641 - val_accuracy: 0.8308\n",
      "Epoch 2/30\n",
      "1870/1870 [==============================] - 26s 14ms/step - loss: 0.0582 - accuracy: 0.8574 - val_loss: 0.0581 - val_accuracy: 0.8454\n",
      "Epoch 3/30\n",
      "1870/1870 [==============================] - 26s 14ms/step - loss: 0.0474 - accuracy: 0.8593 - val_loss: 0.0355 - val_accuracy: 0.8399\n",
      "Epoch 4/30\n",
      "1870/1870 [==============================] - 26s 14ms/step - loss: 0.0391 - accuracy: 0.8618 - val_loss: 0.0312 - val_accuracy: 0.8738\n",
      "Epoch 5/30\n",
      "1870/1870 [==============================] - 25s 13ms/step - loss: 0.0354 - accuracy: 0.8637 - val_loss: 0.0280 - val_accuracy: 0.8465\n",
      "Epoch 6/30\n",
      "1870/1870 [==============================] - 26s 14ms/step - loss: 0.0306 - accuracy: 0.8631 - val_loss: 0.0231 - val_accuracy: 0.8544\n",
      "Epoch 7/30\n",
      "1870/1870 [==============================] - 26s 14ms/step - loss: 0.0279 - accuracy: 0.8676 - val_loss: 0.0219 - val_accuracy: 0.8485\n",
      "Epoch 8/30\n",
      "1870/1870 [==============================] - 26s 14ms/step - loss: 0.0246 - accuracy: 0.8689 - val_loss: 0.0195 - val_accuracy: 0.8692\n",
      "Epoch 9/30\n",
      "1870/1870 [==============================] - 26s 14ms/step - loss: 0.0236 - accuracy: 0.8716 - val_loss: 0.0235 - val_accuracy: 0.8800\n",
      "Epoch 10/30\n",
      "1870/1870 [==============================] - 26s 14ms/step - loss: 0.0215 - accuracy: 0.8727 - val_loss: 0.0181 - val_accuracy: 0.8927\n",
      "Epoch 11/30\n",
      "1870/1870 [==============================] - 26s 14ms/step - loss: 0.0189 - accuracy: 0.8756 - val_loss: 0.0141 - val_accuracy: 0.8803\n",
      "Epoch 12/30\n",
      "1870/1870 [==============================] - 26s 14ms/step - loss: 0.0193 - accuracy: 0.8827 - val_loss: 0.0139 - val_accuracy: 0.8706\n",
      "Epoch 13/30\n",
      "1870/1870 [==============================] - 26s 14ms/step - loss: 0.0176 - accuracy: 0.8747 - val_loss: 0.0134 - val_accuracy: 0.8833\n",
      "Epoch 14/30\n",
      "1870/1870 [==============================] - 26s 14ms/step - loss: 0.0176 - accuracy: 0.8790 - val_loss: 0.0130 - val_accuracy: 0.8719\n",
      "Epoch 15/30\n",
      "1870/1870 [==============================] - 26s 14ms/step - loss: 0.0155 - accuracy: 0.8789 - val_loss: 0.0114 - val_accuracy: 0.8927\n",
      "Epoch 16/30\n",
      "1870/1870 [==============================] - 26s 14ms/step - loss: 0.0155 - accuracy: 0.8849 - val_loss: 0.0115 - val_accuracy: 0.8968\n",
      "Epoch 17/30\n",
      "1870/1870 [==============================] - 26s 14ms/step - loss: 0.0156 - accuracy: 0.8840 - val_loss: 0.0107 - val_accuracy: 0.8838\n",
      "Epoch 18/30\n",
      "1870/1870 [==============================] - 26s 14ms/step - loss: 0.0135 - accuracy: 0.8898 - val_loss: 0.0128 - val_accuracy: 0.8813\n",
      "Epoch 19/30\n",
      "1870/1870 [==============================] - 26s 14ms/step - loss: 0.0138 - accuracy: 0.8824 - val_loss: 0.0140 - val_accuracy: 0.8942\n",
      "Epoch 20/30\n",
      "1870/1870 [==============================] - 26s 14ms/step - loss: 0.0137 - accuracy: 0.8886 - val_loss: 0.0092 - val_accuracy: 0.8898\n",
      "Epoch 21/30\n",
      "1870/1870 [==============================] - 26s 14ms/step - loss: 0.0129 - accuracy: 0.8831 - val_loss: 0.0116 - val_accuracy: 0.8952\n",
      "Epoch 22/30\n",
      "1870/1870 [==============================] - 26s 14ms/step - loss: 0.0125 - accuracy: 0.8860 - val_loss: 0.0080 - val_accuracy: 0.8874\n",
      "Epoch 23/30\n",
      "1870/1870 [==============================] - 27s 14ms/step - loss: 0.0116 - accuracy: 0.8882 - val_loss: 0.0108 - val_accuracy: 0.8902\n",
      "Epoch 24/30\n",
      "1870/1870 [==============================] - 27s 14ms/step - loss: 0.0116 - accuracy: 0.8803 - val_loss: 0.0092 - val_accuracy: 0.9067\n",
      "Epoch 25/30\n",
      "1870/1870 [==============================] - 26s 14ms/step - loss: 0.0119 - accuracy: 0.8870 - val_loss: 0.0085 - val_accuracy: 0.8667\n",
      "Epoch 26/30\n",
      "1870/1870 [==============================] - 27s 14ms/step - loss: 0.0105 - accuracy: 0.8882 - val_loss: 0.0085 - val_accuracy: 0.8696\n",
      "Epoch 27/30\n",
      "1870/1870 [==============================] - 26s 14ms/step - loss: 0.0108 - accuracy: 0.8912 - val_loss: 0.0087 - val_accuracy: 0.8952\n",
      "Epoch 28/30\n",
      "1870/1870 [==============================] - 26s 14ms/step - loss: 0.0111 - accuracy: 0.8922 - val_loss: 0.0085 - val_accuracy: 0.8823\n",
      "Epoch 29/30\n",
      "1870/1870 [==============================] - 26s 14ms/step - loss: 0.0100 - accuracy: 0.8832 - val_loss: 0.0078 - val_accuracy: 0.8910\n",
      "Epoch 30/30\n",
      "1870/1870 [==============================] - 26s 14ms/step - loss: 0.0103 - accuracy: 0.8934 - val_loss: 0.0135 - val_accuracy: 0.8789\n"
     ]
    },
    {
     "data": {
      "text/plain": [
       "<tensorflow.python.keras.callbacks.History at 0x1dbaa5cf730>"
      ]
     },
     "execution_count": 54,
     "metadata": {},
     "output_type": "execute_result"
    }
   ],
   "source": [
    "model_with_filter_standard = LSTM_model(32)\n",
    "model_with_filter_standard.fit(x_data_filter, y_data_filter, epochs=30, batch_size=64, validation_split=0.1)"
   ]
  },
  {
   "cell_type": "code",
   "execution_count": 55,
   "id": "e4759d5d",
   "metadata": {},
   "outputs": [],
   "source": [
    "model_with_filter_standard.save(\"modelop/LSTM/LSTM_with_filter_standard.h5\")"
   ]
  },
  {
   "cell_type": "markdown",
   "id": "33d6a211",
   "metadata": {},
   "source": [
    "Evaluate"
   ]
  },
  {
   "cell_type": "code",
   "execution_count": 56,
   "id": "927f675d",
   "metadata": {},
   "outputs": [
    {
     "name": "stdout",
     "output_type": "stream",
     "text": [
      "Model: \"sequential_1\"\n",
      "_________________________________________________________________\n",
      "Layer (type)                 Output Shape              Param #   \n",
      "=================================================================\n",
      "lstm_4 (LSTM)                (None, 20, 128)           82432     \n",
      "_________________________________________________________________\n",
      "dropout_3 (Dropout)          (None, 20, 128)           0         \n",
      "_________________________________________________________________\n",
      "lstm_5 (LSTM)                (None, 20, 128)           131584    \n",
      "_________________________________________________________________\n",
      "dropout_4 (Dropout)          (None, 20, 128)           0         \n",
      "_________________________________________________________________\n",
      "lstm_6 (LSTM)                (None, 20, 128)           131584    \n",
      "_________________________________________________________________\n",
      "dropout_5 (Dropout)          (None, 20, 128)           0         \n",
      "_________________________________________________________________\n",
      "lstm_7 (LSTM)                (None, 128)               131584    \n",
      "_________________________________________________________________\n",
      "dense_2 (Dense)              (None, 32)                4128      \n",
      "_________________________________________________________________\n",
      "dense_3 (Dense)              (None, 6)                 198       \n",
      "=================================================================\n",
      "Total params: 481,510\n",
      "Trainable params: 481,510\n",
      "Non-trainable params: 0\n",
      "_________________________________________________________________\n"
     ]
    }
   ],
   "source": [
    "model = load_model(\"modelop/LSTM/LSTM_with_filter_standard.h5\")\n",
    "model.summary()"
   ]
  },
  {
   "cell_type": "code",
   "execution_count": 57,
   "id": "bad12fc5",
   "metadata": {},
   "outputs": [
    {
     "name": "stdout",
     "output_type": "stream",
     "text": [
      "1433/1433 [==============================] - 12s 7ms/step - loss: 1.1158 - accuracy: 0.6539\n"
     ]
    },
    {
     "data": {
      "text/plain": [
       "[1.1158223152160645, 0.6538679599761963]"
      ]
     },
     "execution_count": 57,
     "metadata": {},
     "output_type": "execute_result"
    }
   ],
   "source": [
    "model.evaluate(x_ts_data_filter, y_ts_data_filter)"
   ]
  },
  {
   "cell_type": "markdown",
   "id": "6d7f5532",
   "metadata": {},
   "source": [
    "# With lowpass filter, PCA and standardization"
   ]
  },
  {
   "cell_type": "markdown",
   "id": "59d0499d",
   "metadata": {},
   "source": [
    "Training data with filter, PCA and standardization"
   ]
  },
  {
   "cell_type": "code",
   "execution_count": 58,
   "id": "4ba8824f",
   "metadata": {},
   "outputs": [],
   "source": [
    "pca_filter = PCA(n_components = 11)\n",
    "pca_filter.fit(x_data_df)\n",
    "x_train_filter_pca = pca_filter.transform(x_data_df)"
   ]
  },
  {
   "cell_type": "code",
   "execution_count": 59,
   "id": "31cfa278",
   "metadata": {},
   "outputs": [
    {
     "data": {
      "text/plain": [
       "array([[  921.05553383,  -442.24009861,  -151.58020016, ...,\n",
       "         -436.6279772 ,  -257.07678664,   -11.78299407],\n",
       "       [  898.97738209,  -488.63696708,  -144.26271682, ...,\n",
       "         -349.41194285,  -243.69923956,     7.33490012],\n",
       "       [  877.1370104 ,  -528.18506476,  -137.75379474, ...,\n",
       "         -268.07709435,  -231.65156314,    24.88871284],\n",
       "       ...,\n",
       "       [-1284.84105032,   234.35203887,   524.60723009, ...,\n",
       "           67.80792083,   130.53711506,  -182.49230548],\n",
       "       [-1321.93204203,   258.6494262 ,   545.79372655, ...,\n",
       "          124.42249683,   127.84991105,  -175.46293614],\n",
       "       [-1358.75975879,   282.72673896,   568.68465839, ...,\n",
       "          184.18083681,   122.56288793,  -168.6919165 ]])"
      ]
     },
     "execution_count": 59,
     "metadata": {},
     "output_type": "execute_result"
    }
   ],
   "source": [
    "x_train_filter_pca"
   ]
  },
  {
   "cell_type": "code",
   "execution_count": 60,
   "id": "b107e5f1",
   "metadata": {},
   "outputs": [
    {
     "data": {
      "text/plain": [
       "(1185498, 11)"
      ]
     },
     "execution_count": 60,
     "metadata": {},
     "output_type": "execute_result"
    }
   ],
   "source": [
    "x_train_filter_pca.shape"
   ]
  },
  {
   "cell_type": "code",
   "execution_count": 61,
   "id": "bfa98dbe",
   "metadata": {},
   "outputs": [],
   "source": [
    "x_train_filter_pca_st = StandardScaler().fit_transform(x_train_filter_pca)\n",
    "x_train_filter_pca_st = pd.DataFrame(x_train_filter_pca_st)\n",
    "y=pd.DataFrame(y_data)"
   ]
  },
  {
   "cell_type": "code",
   "execution_count": 62,
   "id": "69cfce04",
   "metadata": {},
   "outputs": [
    {
     "data": {
      "text/plain": [
       "array([[ 1.1606786 , -0.86704245, -0.31836441, ..., -2.90264014,\n",
       "        -1.88790535, -0.10091098],\n",
       "       [ 1.13285657, -0.95800674, -0.30299548, ..., -2.32284046,\n",
       "        -1.78966411,  0.06281697],\n",
       "       [ 1.10533418, -1.03554353, -0.28932477, ..., -1.78213806,\n",
       "        -1.70118909,  0.21314994],\n",
       "       ...,\n",
       "       [-1.61910706,  0.45946346,  1.10183436, ...,  0.45077733,\n",
       "         0.95863077, -1.56288613],\n",
       "       [-1.66584769,  0.50710018,  1.14633243, ...,  0.82714291,\n",
       "         0.93889664, -1.50268576],\n",
       "       [-1.71225656,  0.55430542,  1.19441033, ...,  1.22440778,\n",
       "         0.90007011, -1.44469793]])"
      ]
     },
     "execution_count": 62,
     "metadata": {},
     "output_type": "execute_result"
    }
   ],
   "source": [
    "x_train_filter_pca_st.values"
   ]
  },
  {
   "cell_type": "code",
   "execution_count": 63,
   "id": "29c08b70",
   "metadata": {},
   "outputs": [
    {
     "data": {
      "text/plain": [
       "(1185498, 11)"
      ]
     },
     "execution_count": 63,
     "metadata": {},
     "output_type": "execute_result"
    }
   ],
   "source": [
    "x_train_filter_pca_st.values.shape"
   ]
  },
  {
   "cell_type": "markdown",
   "id": "f0c6bbc5",
   "metadata": {},
   "source": [
    "Testing data with filter, PCA and standardization"
   ]
  },
  {
   "cell_type": "code",
   "execution_count": 64,
   "id": "47ca57c3",
   "metadata": {},
   "outputs": [],
   "source": [
    "pca_filter = PCA(n_components = 11)\n",
    "pca_filter.fit(x_test_df)\n",
    "x_test_filter_pca = pca_filter.transform(x_test_df)"
   ]
  },
  {
   "cell_type": "code",
   "execution_count": 65,
   "id": "2d0239e0",
   "metadata": {},
   "outputs": [
    {
     "data": {
      "text/plain": [
       "array([[-372.49762844,  142.72695169, -122.62956333, ...,  190.78705676,\n",
       "         128.89918898,   61.88243639],\n",
       "       [-348.44313597,  115.85373738, -103.79497625, ...,  193.25547153,\n",
       "         137.17612381,   58.36280675],\n",
       "       [-326.3533209 ,   92.00084742,  -86.35993601, ...,  194.75792489,\n",
       "         145.22317763,   55.33152152],\n",
       "       ...,\n",
       "       [ 170.19950485, -332.62500492,  -57.60739029, ...,   49.90134532,\n",
       "          53.50850381,   65.03460981],\n",
       "       [ 119.82505861, -267.3073893 ,  -34.80502321, ...,   86.65755024,\n",
       "          73.20797042,   57.24439099],\n",
       "       [  60.85372164, -194.75930557,   -8.33018609, ...,  126.57748019,\n",
       "          94.14146229,   48.75905246]])"
      ]
     },
     "execution_count": 65,
     "metadata": {},
     "output_type": "execute_result"
    }
   ],
   "source": [
    "x_test_filter_pca"
   ]
  },
  {
   "cell_type": "code",
   "execution_count": 66,
   "id": "d1a02b0a",
   "metadata": {},
   "outputs": [
    {
     "data": {
      "text/plain": [
       "(236894, 11)"
      ]
     },
     "execution_count": 66,
     "metadata": {},
     "output_type": "execute_result"
    }
   ],
   "source": [
    "x_test_filter_pca.shape"
   ]
  },
  {
   "cell_type": "code",
   "execution_count": 67,
   "id": "6a4b7365",
   "metadata": {},
   "outputs": [],
   "source": [
    "x_test_filter_pca_st = StandardScaler().fit_transform(x_test_filter_pca)\n",
    "x_test_filter_pca_st = pd.DataFrame(x_test_filter_pca_st)\n",
    "y_test=pd.DataFrame(y_ts_data)"
   ]
  },
  {
   "cell_type": "code",
   "execution_count": 68,
   "id": "96820460",
   "metadata": {},
   "outputs": [
    {
     "data": {
      "text/plain": [
       "array([[-0.60183272,  0.26098813, -0.4854349 , ...,  1.54095893,\n",
       "         1.11062707,  0.60613747],\n",
       "       [-0.56296863,  0.21184822, -0.4108773 , ...,  1.56089596,\n",
       "         1.18194317,  0.57166275],\n",
       "       [-0.52727881,  0.16823122, -0.34185987, ...,  1.57303105,\n",
       "         1.25127856,  0.54197136],\n",
       "       ...,\n",
       "       [ 0.27498599, -0.60823256, -0.22804157, ...,  0.40304581,\n",
       "         0.46104241,  0.63701295],\n",
       "       [ 0.19359758, -0.48879385, -0.13777732, ...,  0.69992026,\n",
       "         0.63077785,  0.56070789],\n",
       "       [ 0.09831945, -0.35613363, -0.03297543, ...,  1.02234765,\n",
       "         0.81114596,  0.47759413]])"
      ]
     },
     "execution_count": 68,
     "metadata": {},
     "output_type": "execute_result"
    }
   ],
   "source": [
    "x_test_filter_pca_st.values"
   ]
  },
  {
   "cell_type": "code",
   "execution_count": 69,
   "id": "8f3a495d",
   "metadata": {},
   "outputs": [
    {
     "data": {
      "text/plain": [
       "(236894, 11)"
      ]
     },
     "execution_count": 69,
     "metadata": {},
     "output_type": "execute_result"
    }
   ],
   "source": [
    "x_test_filter_pca_st.values.shape"
   ]
  },
  {
   "cell_type": "markdown",
   "id": "8155938c",
   "metadata": {},
   "source": [
    "Filter [0 0 0 0 0 0] from the data"
   ]
  },
  {
   "cell_type": "code",
   "execution_count": 70,
   "id": "ec241621",
   "metadata": {},
   "outputs": [],
   "source": [
    "x_data_filter, y_data_filter = filter_dataset(x_train_filter_pca_st.values, y_data)"
   ]
  },
  {
   "cell_type": "code",
   "execution_count": 71,
   "id": "151c7e87",
   "metadata": {},
   "outputs": [
    {
     "data": {
      "text/plain": [
       "(132965, 20, 11)"
      ]
     },
     "execution_count": 71,
     "metadata": {},
     "output_type": "execute_result"
    }
   ],
   "source": [
    "x_data_filter.shape"
   ]
  },
  {
   "cell_type": "code",
   "execution_count": 72,
   "id": "f6a65c35",
   "metadata": {},
   "outputs": [
    {
     "data": {
      "text/plain": [
       "(132965, 6)"
      ]
     },
     "execution_count": 72,
     "metadata": {},
     "output_type": "execute_result"
    }
   ],
   "source": [
    "y_data_filter.shape"
   ]
  },
  {
   "cell_type": "code",
   "execution_count": 73,
   "id": "51ee6782",
   "metadata": {},
   "outputs": [],
   "source": [
    "x_ts_data_filter, y_ts_data_filter = filter_dataset(x_test_filter_pca_st.values, y_ts_data)"
   ]
  },
  {
   "cell_type": "code",
   "execution_count": 74,
   "id": "a569587e",
   "metadata": {},
   "outputs": [
    {
     "data": {
      "text/plain": [
       "(45838, 20, 11)"
      ]
     },
     "execution_count": 74,
     "metadata": {},
     "output_type": "execute_result"
    }
   ],
   "source": [
    "x_ts_data_filter.shape"
   ]
  },
  {
   "cell_type": "code",
   "execution_count": 75,
   "id": "bcb52876",
   "metadata": {},
   "outputs": [
    {
     "data": {
      "text/plain": [
       "(45838, 6)"
      ]
     },
     "execution_count": 75,
     "metadata": {},
     "output_type": "execute_result"
    }
   ],
   "source": [
    "y_ts_data_filter.shape"
   ]
  },
  {
   "cell_type": "markdown",
   "id": "2a7e0e64",
   "metadata": {},
   "source": [
    "Shuffle"
   ]
  },
  {
   "cell_type": "code",
   "execution_count": 76,
   "id": "54aecb64",
   "metadata": {},
   "outputs": [],
   "source": [
    "x_data_filter, y_data_filter = utils.shuffle(x_data_filter, y_data_filter)"
   ]
  },
  {
   "cell_type": "code",
   "execution_count": 77,
   "id": "4ad9f6bf",
   "metadata": {},
   "outputs": [
    {
     "data": {
      "text/plain": [
       "(132965, 20, 11)"
      ]
     },
     "execution_count": 77,
     "metadata": {},
     "output_type": "execute_result"
    }
   ],
   "source": [
    "x_data_filter.shape"
   ]
  },
  {
   "cell_type": "code",
   "execution_count": 78,
   "id": "f9cc4ade",
   "metadata": {},
   "outputs": [
    {
     "data": {
      "text/plain": [
       "(132965, 6)"
      ]
     },
     "execution_count": 78,
     "metadata": {},
     "output_type": "execute_result"
    }
   ],
   "source": [
    "y_data_filter.shape"
   ]
  },
  {
   "cell_type": "markdown",
   "id": "3842c22b",
   "metadata": {},
   "source": [
    "Model"
   ]
  },
  {
   "cell_type": "code",
   "execution_count": 79,
   "id": "3b0b024f",
   "metadata": {},
   "outputs": [
    {
     "name": "stderr",
     "output_type": "stream",
     "text": [
      "C:\\Users\\User\\anaconda3\\envs\\modelop_gpu\\lib\\site-packages\\tensorflow\\python\\keras\\optimizer_v2\\optimizer_v2.py:374: UserWarning: The `lr` argument is deprecated, use `learning_rate` instead.\n",
      "  warnings.warn(\n"
     ]
    },
    {
     "name": "stdout",
     "output_type": "stream",
     "text": [
      "Model: \"sequential_2\"\n",
      "_________________________________________________________________\n",
      "Layer (type)                 Output Shape              Param #   \n",
      "=================================================================\n",
      "lstm_8 (LSTM)                (None, 20, 128)           71680     \n",
      "_________________________________________________________________\n",
      "dropout_6 (Dropout)          (None, 20, 128)           0         \n",
      "_________________________________________________________________\n",
      "lstm_9 (LSTM)                (None, 20, 128)           131584    \n",
      "_________________________________________________________________\n",
      "dropout_7 (Dropout)          (None, 20, 128)           0         \n",
      "_________________________________________________________________\n",
      "lstm_10 (LSTM)               (None, 20, 128)           131584    \n",
      "_________________________________________________________________\n",
      "dropout_8 (Dropout)          (None, 20, 128)           0         \n",
      "_________________________________________________________________\n",
      "lstm_11 (LSTM)               (None, 128)               131584    \n",
      "_________________________________________________________________\n",
      "dense_4 (Dense)              (None, 32)                4128      \n",
      "_________________________________________________________________\n",
      "dense_5 (Dense)              (None, 6)                 198       \n",
      "=================================================================\n",
      "Total params: 470,758\n",
      "Trainable params: 470,758\n",
      "Non-trainable params: 0\n",
      "_________________________________________________________________\n",
      "Epoch 1/30\n",
      "1870/1870 [==============================] - 32s 15ms/step - loss: 0.1596 - accuracy: 0.7559 - val_loss: 0.0693 - val_accuracy: 0.8573\n",
      "Epoch 2/30\n",
      "1870/1870 [==============================] - 27s 14ms/step - loss: 0.0699 - accuracy: 0.8564 - val_loss: 0.0617 - val_accuracy: 0.8653\n",
      "Epoch 3/30\n",
      "1870/1870 [==============================] - 25s 14ms/step - loss: 0.0574 - accuracy: 0.8628 - val_loss: 0.0448 - val_accuracy: 0.8625\n",
      "Epoch 4/30\n",
      "1870/1870 [==============================] - 25s 13ms/step - loss: 0.0472 - accuracy: 0.8642 - val_loss: 0.0382 - val_accuracy: 0.8636\n",
      "Epoch 5/30\n",
      "1870/1870 [==============================] - 26s 14ms/step - loss: 0.0409 - accuracy: 0.8623 - val_loss: 0.0348 - val_accuracy: 0.8609\n",
      "Epoch 6/30\n",
      "1870/1870 [==============================] - 26s 14ms/step - loss: 0.0367 - accuracy: 0.8614 - val_loss: 0.0295 - val_accuracy: 0.8673\n",
      "Epoch 7/30\n",
      "1870/1870 [==============================] - 26s 14ms/step - loss: 0.0315 - accuracy: 0.8616 - val_loss: 0.0267 - val_accuracy: 0.8691\n",
      "Epoch 8/30\n",
      "1870/1870 [==============================] - 26s 14ms/step - loss: 0.0303 - accuracy: 0.8630 - val_loss: 0.0234 - val_accuracy: 0.8706\n",
      "Epoch 9/30\n",
      "1870/1870 [==============================] - 25s 14ms/step - loss: 0.0265 - accuracy: 0.8621 - val_loss: 0.0230 - val_accuracy: 0.8627\n",
      "Epoch 10/30\n",
      "1870/1870 [==============================] - 26s 14ms/step - loss: 0.0257 - accuracy: 0.8668 - val_loss: 0.0197 - val_accuracy: 0.8898\n",
      "Epoch 11/30\n",
      "1870/1870 [==============================] - 26s 14ms/step - loss: 0.0222 - accuracy: 0.8677 - val_loss: 0.0186 - val_accuracy: 0.8691\n",
      "Epoch 12/30\n",
      "1870/1870 [==============================] - 25s 14ms/step - loss: 0.0218 - accuracy: 0.8665 - val_loss: 0.0175 - val_accuracy: 0.8842\n",
      "Epoch 13/30\n",
      "1870/1870 [==============================] - 25s 14ms/step - loss: 0.0204 - accuracy: 0.8654 - val_loss: 0.0167 - val_accuracy: 0.8691\n",
      "Epoch 14/30\n",
      "1870/1870 [==============================] - 26s 14ms/step - loss: 0.0201 - accuracy: 0.8652 - val_loss: 0.0146 - val_accuracy: 0.8676\n",
      "Epoch 15/30\n",
      "1870/1870 [==============================] - 27s 14ms/step - loss: 0.0177 - accuracy: 0.8617 - val_loss: 0.0136 - val_accuracy: 0.8678\n",
      "Epoch 16/30\n",
      "1870/1870 [==============================] - 26s 14ms/step - loss: 0.0182 - accuracy: 0.8633 - val_loss: 0.0149 - val_accuracy: 0.8742\n",
      "Epoch 17/30\n",
      "1870/1870 [==============================] - 26s 14ms/step - loss: 0.0159 - accuracy: 0.8671 - val_loss: 0.0132 - val_accuracy: 0.8738\n",
      "Epoch 18/30\n",
      "1870/1870 [==============================] - 26s 14ms/step - loss: 0.0169 - accuracy: 0.8680 - val_loss: 0.0128 - val_accuracy: 0.8652\n",
      "Epoch 19/30\n",
      "1870/1870 [==============================] - 26s 14ms/step - loss: 0.0153 - accuracy: 0.8693 - val_loss: 0.0125 - val_accuracy: 0.8853\n",
      "Epoch 20/30\n",
      "1870/1870 [==============================] - 27s 14ms/step - loss: 0.0155 - accuracy: 0.8735 - val_loss: 0.0115 - val_accuracy: 0.8787\n",
      "Epoch 21/30\n",
      "1870/1870 [==============================] - 26s 14ms/step - loss: 0.0139 - accuracy: 0.8731 - val_loss: 0.0128 - val_accuracy: 0.8654\n",
      "Epoch 22/30\n",
      "1870/1870 [==============================] - 27s 14ms/step - loss: 0.0136 - accuracy: 0.8686 - val_loss: 0.0119 - val_accuracy: 0.8434\n",
      "Epoch 23/30\n",
      "1870/1870 [==============================] - 27s 14ms/step - loss: 0.0132 - accuracy: 0.8745 - val_loss: 0.0096 - val_accuracy: 0.8773\n",
      "Epoch 24/30\n",
      "1870/1870 [==============================] - 26s 14ms/step - loss: 0.0130 - accuracy: 0.8734 - val_loss: 0.0105 - val_accuracy: 0.8761\n",
      "Epoch 25/30\n",
      "1870/1870 [==============================] - 26s 14ms/step - loss: 0.0127 - accuracy: 0.8730 - val_loss: 0.0101 - val_accuracy: 0.8782\n",
      "Epoch 26/30\n",
      "1870/1870 [==============================] - 26s 14ms/step - loss: 0.0123 - accuracy: 0.8764 - val_loss: 0.0096 - val_accuracy: 0.8572\n",
      "Epoch 27/30\n",
      "1870/1870 [==============================] - 26s 14ms/step - loss: 0.0130 - accuracy: 0.8724 - val_loss: 0.0129 - val_accuracy: 0.8550\n",
      "Epoch 28/30\n",
      "1870/1870 [==============================] - 26s 14ms/step - loss: 0.0116 - accuracy: 0.8703 - val_loss: 0.0092 - val_accuracy: 0.8854\n",
      "Epoch 29/30\n",
      "1870/1870 [==============================] - 26s 14ms/step - loss: 0.0116 - accuracy: 0.8749 - val_loss: 0.0085 - val_accuracy: 0.8712\n",
      "Epoch 30/30\n",
      "1870/1870 [==============================] - 26s 14ms/step - loss: 0.0114 - accuracy: 0.8668 - val_loss: 0.0108 - val_accuracy: 0.8600\n"
     ]
    },
    {
     "data": {
      "text/plain": [
       "<tensorflow.python.keras.callbacks.History at 0x1dc4732d520>"
      ]
     },
     "execution_count": 79,
     "metadata": {},
     "output_type": "execute_result"
    }
   ],
   "source": [
    "model_with_filter_standard_PCA = LSTM_model(11)\n",
    "model_with_filter_standard_PCA.fit(x_data_filter, y_data_filter, epochs=30, batch_size=64, validation_split=0.1)"
   ]
  },
  {
   "cell_type": "code",
   "execution_count": 80,
   "id": "d2162d5e",
   "metadata": {},
   "outputs": [],
   "source": [
    "model_with_filter_standard_PCA.save(\"modelop/LSTM/LSTM_with_filter_PCA_standard11.h5\")"
   ]
  },
  {
   "cell_type": "markdown",
   "id": "24c09b3c",
   "metadata": {},
   "source": [
    "Evaluate"
   ]
  },
  {
   "cell_type": "code",
   "execution_count": 81,
   "id": "c0f2cfb3",
   "metadata": {},
   "outputs": [
    {
     "name": "stdout",
     "output_type": "stream",
     "text": [
      "Model: \"sequential_2\"\n",
      "_________________________________________________________________\n",
      "Layer (type)                 Output Shape              Param #   \n",
      "=================================================================\n",
      "lstm_8 (LSTM)                (None, 20, 128)           71680     \n",
      "_________________________________________________________________\n",
      "dropout_6 (Dropout)          (None, 20, 128)           0         \n",
      "_________________________________________________________________\n",
      "lstm_9 (LSTM)                (None, 20, 128)           131584    \n",
      "_________________________________________________________________\n",
      "dropout_7 (Dropout)          (None, 20, 128)           0         \n",
      "_________________________________________________________________\n",
      "lstm_10 (LSTM)               (None, 20, 128)           131584    \n",
      "_________________________________________________________________\n",
      "dropout_8 (Dropout)          (None, 20, 128)           0         \n",
      "_________________________________________________________________\n",
      "lstm_11 (LSTM)               (None, 128)               131584    \n",
      "_________________________________________________________________\n",
      "dense_4 (Dense)              (None, 32)                4128      \n",
      "_________________________________________________________________\n",
      "dense_5 (Dense)              (None, 6)                 198       \n",
      "=================================================================\n",
      "Total params: 470,758\n",
      "Trainable params: 470,758\n",
      "Non-trainable params: 0\n",
      "_________________________________________________________________\n"
     ]
    }
   ],
   "source": [
    "model = load_model(\"modelop/LSTM/LSTM_with_filter_PCA_standard11.h5\")\n",
    "model.summary()"
   ]
  },
  {
   "cell_type": "code",
   "execution_count": 82,
   "id": "69cc3815",
   "metadata": {},
   "outputs": [
    {
     "name": "stdout",
     "output_type": "stream",
     "text": [
      "1433/1433 [==============================] - 11s 7ms/step - loss: 2.5084 - accuracy: 0.3205\n"
     ]
    },
    {
     "data": {
      "text/plain": [
       "[2.5083794593811035, 0.3205419182777405]"
      ]
     },
     "execution_count": 82,
     "metadata": {},
     "output_type": "execute_result"
    }
   ],
   "source": [
    "model.evaluate(x_ts_data_filter, y_ts_data_filter)"
   ]
  },
  {
   "cell_type": "markdown",
   "id": "922af633",
   "metadata": {},
   "source": [
    "# With lowpass filter 、linear regression and standardization (segment length = 50)"
   ]
  },
  {
   "cell_type": "markdown",
   "id": "bd90176e",
   "metadata": {},
   "source": [
    "Training data with filter, Linear regression and standardization"
   ]
  },
  {
   "cell_type": "code",
   "execution_count": 83,
   "id": "89b43f8d",
   "metadata": {},
   "outputs": [],
   "source": [
    "def linearregression_seg(signal):\n",
    "    model = LinearRegression(fit_intercept=True)\n",
    "    time = np.arange(0, len(signal), 1)\n",
    "    model.fit(time[:, np.newaxis], signal)\n",
    "    xfit = np.linspace(time[0], time[len(time)-1], len(signal))\n",
    "    yfit = model.predict(xfit[:, np.newaxis])\n",
    "    \n",
    "    return yfit\n",
    "\n",
    "def linearregression_allsignal(signal, seg_length):\n",
    "    new_signal = []\n",
    "    for i in range((len(signal)//seg_length)+1):\n",
    "        if (i+1)*seg_length<len(signal):\n",
    "            new_signal += linearregression_seg(signal[i*seg_length:(i+1)*seg_length]).tolist()\n",
    "        else:\n",
    "            new_signal += linearregression_seg(signal[i*seg_length:len(signal)]).tolist()\n",
    "    \n",
    "    return np.asarray(new_signal)"
   ]
  },
  {
   "cell_type": "code",
   "execution_count": 84,
   "id": "09e2cb23",
   "metadata": {},
   "outputs": [],
   "source": [
    "x_train_filter_LR = linearregression_allsignal(x_data_df.values, 50)"
   ]
  },
  {
   "cell_type": "code",
   "execution_count": 85,
   "id": "dbb2a1d6",
   "metadata": {},
   "outputs": [
    {
     "data": {
      "text/plain": [
       "array([[ -26.8960533 ,  315.58893394,  255.78336452, ...,  137.40034278,\n",
       "          42.77381083,  587.34482109],\n",
       "       [ -23.00706784,  317.99251814,  257.3639416 , ...,  138.33652639,\n",
       "          43.44477935,  588.09039521],\n",
       "       [ -19.11808238,  320.39610234,  258.94451867, ...,  139.27271001,\n",
       "          44.11574788,  588.83596932],\n",
       "       ...,\n",
       "       [ 160.97016719,   71.93279005,  105.08121554, ..., -207.07694522,\n",
       "        -208.20648998, -272.17678639],\n",
       "       [ 160.25232849,   70.79183253,  102.71171145, ..., -209.24112159,\n",
       "        -210.22780682, -273.52382141],\n",
       "       [ 159.53448978,   69.650875  ,  100.34220736, ..., -211.40529796,\n",
       "        -212.24912367, -274.87085643]])"
      ]
     },
     "execution_count": 85,
     "metadata": {},
     "output_type": "execute_result"
    }
   ],
   "source": [
    "x_train_filter_LR"
   ]
  },
  {
   "cell_type": "code",
   "execution_count": 86,
   "id": "330cc303",
   "metadata": {},
   "outputs": [
    {
     "data": {
      "text/plain": [
       "(1185498, 32)"
      ]
     },
     "execution_count": 86,
     "metadata": {},
     "output_type": "execute_result"
    }
   ],
   "source": [
    "x_train_filter_LR.shape"
   ]
  },
  {
   "cell_type": "code",
   "execution_count": 87,
   "id": "3b2bf251",
   "metadata": {},
   "outputs": [],
   "source": [
    "x_train_filter_LR_st = StandardScaler().fit_transform(x_train_filter_LR)\n",
    "x_train_filter_LR_st = pd.DataFrame(x_train_filter_LR_st)\n",
    "y=pd.DataFrame(y_data)"
   ]
  },
  {
   "cell_type": "code",
   "execution_count": 88,
   "id": "0e0adfde",
   "metadata": {},
   "outputs": [
    {
     "data": {
      "text/plain": [
       "array([[-6.53597198e-01, -1.73361800e-02, -6.50629343e-01, ...,\n",
       "         4.83335365e-01,  3.47662697e-01,  2.27764694e+00],\n",
       "       [-6.42361928e-01, -8.99016533e-03, -6.42223694e-01, ...,\n",
       "         4.88717481e-01,  3.51197005e-01,  2.28131093e+00],\n",
       "       [-6.31126658e-01, -6.44150701e-04, -6.33818045e-01, ...,\n",
       "         4.94099596e-01,  3.54731313e-01,  2.28497491e+00],\n",
       "       ...,\n",
       "       [-1.10852128e-01, -8.63388396e-01, -1.45207675e+00, ...,\n",
       "        -1.49706300e+00, -9.74368975e-01, -1.94631417e+00],\n",
       "       [-1.12925962e-01, -8.67350166e-01, -1.46467799e+00, ...,\n",
       "        -1.50950484e+00, -9.85016205e-01, -1.95293392e+00],\n",
       "       [-1.14999796e-01, -8.71311937e-01, -1.47727922e+00, ...,\n",
       "        -1.52194668e+00, -9.95663435e-01, -1.95955368e+00]])"
      ]
     },
     "execution_count": 88,
     "metadata": {},
     "output_type": "execute_result"
    }
   ],
   "source": [
    "x_train_filter_LR_st.values"
   ]
  },
  {
   "cell_type": "code",
   "execution_count": 89,
   "id": "c3374910",
   "metadata": {},
   "outputs": [
    {
     "data": {
      "text/plain": [
       "(1185498, 32)"
      ]
     },
     "execution_count": 89,
     "metadata": {},
     "output_type": "execute_result"
    }
   ],
   "source": [
    "x_train_filter_LR_st.shape"
   ]
  },
  {
   "cell_type": "markdown",
   "id": "27df3f79",
   "metadata": {},
   "source": [
    "Testing data with filter, Linear regression and standardization"
   ]
  },
  {
   "cell_type": "code",
   "execution_count": 90,
   "id": "f59ce09b",
   "metadata": {},
   "outputs": [],
   "source": [
    "x_test_filter_LR = linearregression_allsignal(x_test_df.values, 50)"
   ]
  },
  {
   "cell_type": "code",
   "execution_count": 91,
   "id": "688ca38b",
   "metadata": {},
   "outputs": [
    {
     "data": {
      "text/plain": [
       "array([[-130.53744086,   50.69378828,  343.67956619, ..., -193.29943049,\n",
       "         -22.28747985,  -89.59464607],\n",
       "       [-128.68764924,   52.00554052,  344.58212035, ..., -192.40500777,\n",
       "         -20.33619526,  -87.63478345],\n",
       "       [-126.83785762,   53.31729276,  345.48467452, ..., -191.51058504,\n",
       "         -18.38491067,  -85.67492082],\n",
       "       ...,\n",
       "       [ 134.26335525,  259.16256148,  394.93936179, ...,  161.87268908,\n",
       "         243.4942507 ,  187.27774941],\n",
       "       [ 135.68089435,  259.97380917,  397.06115551, ...,  165.04414294,\n",
       "         246.36244453,  190.50161897],\n",
       "       [ 137.09843346,  260.78505687,  399.18294923, ...,  168.21559681,\n",
       "         249.23063836,  193.72548852]])"
      ]
     },
     "execution_count": 91,
     "metadata": {},
     "output_type": "execute_result"
    }
   ],
   "source": [
    "x_test_filter_LR"
   ]
  },
  {
   "cell_type": "code",
   "execution_count": 92,
   "id": "75a2068e",
   "metadata": {},
   "outputs": [
    {
     "data": {
      "text/plain": [
       "(236894, 32)"
      ]
     },
     "execution_count": 92,
     "metadata": {},
     "output_type": "execute_result"
    }
   ],
   "source": [
    "x_test_filter_LR.shape"
   ]
  },
  {
   "cell_type": "code",
   "execution_count": 93,
   "id": "5734d074",
   "metadata": {},
   "outputs": [],
   "source": [
    "x_test_filter_LR_st = StandardScaler().fit_transform(x_test_filter_LR)\n",
    "x_test_filter_LR_st = pd.DataFrame(x_test_filter_LR_st)\n",
    "y_test=pd.DataFrame(y_ts_data)"
   ]
  },
  {
   "cell_type": "code",
   "execution_count": 94,
   "id": "fb7b1a3a",
   "metadata": {},
   "outputs": [
    {
     "data": {
      "text/plain": [
       "array([[-0.47528772, -0.64999862,  0.22988428, ..., -1.5827742 ,\n",
       "         0.15744958, -0.98094809],\n",
       "       [-0.47217734, -0.64343809,  0.23598195, ..., -1.5758701 ,\n",
       "         0.16942758, -0.96814539],\n",
       "       [-0.46906696, -0.63687756,  0.24207962, ..., -1.568966  ,\n",
       "         0.18140559, -0.95534269],\n",
       "       ...,\n",
       "       [-0.03003152,  0.39262588,  0.57619631, ...,  1.15881993,\n",
       "         1.78895651,  0.82770596],\n",
       "       [-0.02764796,  0.39668321,  0.59053119, ...,  1.18330056,\n",
       "         1.80656298,  0.84876572],\n",
       "       [-0.0252644 ,  0.40074054,  0.60486606, ...,  1.2077812 ,\n",
       "         1.82416945,  0.86982547]])"
      ]
     },
     "execution_count": 94,
     "metadata": {},
     "output_type": "execute_result"
    }
   ],
   "source": [
    "x_test_filter_LR_st.values"
   ]
  },
  {
   "cell_type": "code",
   "execution_count": 95,
   "id": "ee20eb69",
   "metadata": {},
   "outputs": [
    {
     "data": {
      "text/plain": [
       "(236894, 32)"
      ]
     },
     "execution_count": 95,
     "metadata": {},
     "output_type": "execute_result"
    }
   ],
   "source": [
    "x_test_filter_LR_st.shape"
   ]
  },
  {
   "cell_type": "markdown",
   "id": "479755fd",
   "metadata": {},
   "source": [
    "Filter [0 0 0 0 0 0] from the data"
   ]
  },
  {
   "cell_type": "code",
   "execution_count": 96,
   "id": "e513d151",
   "metadata": {},
   "outputs": [],
   "source": [
    "x_data_filter, y_data_filter = filter_dataset(x_train_filter_LR_st.values, y_data)"
   ]
  },
  {
   "cell_type": "code",
   "execution_count": 97,
   "id": "8b94be7c",
   "metadata": {},
   "outputs": [
    {
     "data": {
      "text/plain": [
       "(132965, 20, 32)"
      ]
     },
     "execution_count": 97,
     "metadata": {},
     "output_type": "execute_result"
    }
   ],
   "source": [
    "x_data_filter.shape"
   ]
  },
  {
   "cell_type": "code",
   "execution_count": 98,
   "id": "09763ac6",
   "metadata": {},
   "outputs": [
    {
     "data": {
      "text/plain": [
       "(132965, 6)"
      ]
     },
     "execution_count": 98,
     "metadata": {},
     "output_type": "execute_result"
    }
   ],
   "source": [
    "y_data_filter.shape"
   ]
  },
  {
   "cell_type": "code",
   "execution_count": 99,
   "id": "b26c2ce5",
   "metadata": {},
   "outputs": [],
   "source": [
    "x_ts_data_filter, y_ts_data_filter = filter_dataset(x_test_filter_LR_st.values, y_ts_data)"
   ]
  },
  {
   "cell_type": "code",
   "execution_count": 100,
   "id": "e8282412",
   "metadata": {},
   "outputs": [
    {
     "data": {
      "text/plain": [
       "(45838, 20, 32)"
      ]
     },
     "execution_count": 100,
     "metadata": {},
     "output_type": "execute_result"
    }
   ],
   "source": [
    "x_ts_data_filter.shape"
   ]
  },
  {
   "cell_type": "code",
   "execution_count": 101,
   "id": "ec3ddf41",
   "metadata": {},
   "outputs": [
    {
     "data": {
      "text/plain": [
       "(45838, 6)"
      ]
     },
     "execution_count": 101,
     "metadata": {},
     "output_type": "execute_result"
    }
   ],
   "source": [
    "y_ts_data_filter.shape"
   ]
  },
  {
   "cell_type": "markdown",
   "id": "f6e042bc",
   "metadata": {},
   "source": [
    "Shuffle"
   ]
  },
  {
   "cell_type": "code",
   "execution_count": 102,
   "id": "fca5b836",
   "metadata": {},
   "outputs": [],
   "source": [
    "x_data_filter, y_data_filter = utils.shuffle(x_data_filter, y_data_filter)"
   ]
  },
  {
   "cell_type": "code",
   "execution_count": 103,
   "id": "b108bee9",
   "metadata": {},
   "outputs": [
    {
     "data": {
      "text/plain": [
       "(132965, 20, 32)"
      ]
     },
     "execution_count": 103,
     "metadata": {},
     "output_type": "execute_result"
    }
   ],
   "source": [
    "x_data_filter.shape"
   ]
  },
  {
   "cell_type": "code",
   "execution_count": 104,
   "id": "dd1bb611",
   "metadata": {},
   "outputs": [
    {
     "data": {
      "text/plain": [
       "(132965, 6)"
      ]
     },
     "execution_count": 104,
     "metadata": {},
     "output_type": "execute_result"
    }
   ],
   "source": [
    "y_data_filter.shape"
   ]
  },
  {
   "cell_type": "markdown",
   "id": "61b1c68d",
   "metadata": {},
   "source": [
    "Model"
   ]
  },
  {
   "cell_type": "code",
   "execution_count": 105,
   "id": "955eb49a",
   "metadata": {},
   "outputs": [
    {
     "name": "stderr",
     "output_type": "stream",
     "text": [
      "C:\\Users\\User\\anaconda3\\envs\\modelop_gpu\\lib\\site-packages\\tensorflow\\python\\keras\\optimizer_v2\\optimizer_v2.py:374: UserWarning: The `lr` argument is deprecated, use `learning_rate` instead.\n",
      "  warnings.warn(\n"
     ]
    },
    {
     "name": "stdout",
     "output_type": "stream",
     "text": [
      "Model: \"sequential_3\"\n",
      "_________________________________________________________________\n",
      "Layer (type)                 Output Shape              Param #   \n",
      "=================================================================\n",
      "lstm_12 (LSTM)               (None, 20, 128)           82432     \n",
      "_________________________________________________________________\n",
      "dropout_9 (Dropout)          (None, 20, 128)           0         \n",
      "_________________________________________________________________\n",
      "lstm_13 (LSTM)               (None, 20, 128)           131584    \n",
      "_________________________________________________________________\n",
      "dropout_10 (Dropout)         (None, 20, 128)           0         \n",
      "_________________________________________________________________\n",
      "lstm_14 (LSTM)               (None, 20, 128)           131584    \n",
      "_________________________________________________________________\n",
      "dropout_11 (Dropout)         (None, 20, 128)           0         \n",
      "_________________________________________________________________\n",
      "lstm_15 (LSTM)               (None, 128)               131584    \n",
      "_________________________________________________________________\n",
      "dense_6 (Dense)              (None, 32)                4128      \n",
      "_________________________________________________________________\n",
      "dense_7 (Dense)              (None, 6)                 198       \n",
      "=================================================================\n",
      "Total params: 481,510\n",
      "Trainable params: 481,510\n",
      "Non-trainable params: 0\n",
      "_________________________________________________________________\n",
      "Epoch 1/30\n",
      "1870/1870 [==============================] - 31s 15ms/step - loss: 0.1221 - accuracy: 0.7936 - val_loss: 0.0527 - val_accuracy: 0.8398\n",
      "Epoch 2/30\n",
      "1870/1870 [==============================] - 27s 14ms/step - loss: 0.0529 - accuracy: 0.8598 - val_loss: 0.0349 - val_accuracy: 0.8875\n",
      "Epoch 3/30\n",
      "1870/1870 [==============================] - 27s 14ms/step - loss: 0.0433 - accuracy: 0.8596 - val_loss: 0.0305 - val_accuracy: 0.8713\n",
      "Epoch 4/30\n",
      "1870/1870 [==============================] - 26s 14ms/step - loss: 0.0358 - accuracy: 0.8541 - val_loss: 0.0287 - val_accuracy: 0.8587\n",
      "Epoch 5/30\n",
      "1870/1870 [==============================] - 26s 14ms/step - loss: 0.0337 - accuracy: 0.8622 - val_loss: 0.0258 - val_accuracy: 0.8570\n",
      "Epoch 6/30\n",
      "1870/1870 [==============================] - 26s 14ms/step - loss: 0.0288 - accuracy: 0.8591 - val_loss: 0.0250 - val_accuracy: 0.8728\n",
      "Epoch 7/30\n",
      "1870/1870 [==============================] - 26s 14ms/step - loss: 0.0285 - accuracy: 0.8594 - val_loss: 0.0221 - val_accuracy: 0.8767\n",
      "Epoch 8/30\n",
      "1870/1870 [==============================] - 26s 14ms/step - loss: 0.0247 - accuracy: 0.8587 - val_loss: 0.0180 - val_accuracy: 0.8705\n",
      "Epoch 9/30\n",
      "1870/1870 [==============================] - 26s 14ms/step - loss: 0.0242 - accuracy: 0.8618 - val_loss: 0.0213 - val_accuracy: 0.8558\n",
      "Epoch 10/30\n",
      "1870/1870 [==============================] - 26s 14ms/step - loss: 0.0235 - accuracy: 0.8588 - val_loss: 0.0171 - val_accuracy: 0.8633\n",
      "Epoch 11/30\n",
      "1870/1870 [==============================] - 26s 14ms/step - loss: 0.0214 - accuracy: 0.8638 - val_loss: 0.0185 - val_accuracy: 0.8567\n",
      "Epoch 12/30\n",
      "1870/1870 [==============================] - 26s 14ms/step - loss: 0.0228 - accuracy: 0.8671 - val_loss: 0.0179 - val_accuracy: 0.8763\n",
      "Epoch 13/30\n",
      "1870/1870 [==============================] - 29s 15ms/step - loss: 0.0198 - accuracy: 0.8632 - val_loss: 0.0145 - val_accuracy: 0.8640\n",
      "Epoch 14/30\n",
      "1870/1870 [==============================] - 28s 15ms/step - loss: 0.0195 - accuracy: 0.8651 - val_loss: 0.0173 - val_accuracy: 0.8644\n",
      "Epoch 15/30\n",
      "1870/1870 [==============================] - 28s 15ms/step - loss: 0.0183 - accuracy: 0.8668 - val_loss: 0.0149 - val_accuracy: 0.8755\n",
      "Epoch 16/30\n",
      "1870/1870 [==============================] - 27s 14ms/step - loss: 0.0178 - accuracy: 0.8642 - val_loss: 0.0161 - val_accuracy: 0.8566\n",
      "Epoch 17/30\n",
      "1870/1870 [==============================] - 26s 14ms/step - loss: 0.0177 - accuracy: 0.8652 - val_loss: 0.0151 - val_accuracy: 0.8582\n",
      "Epoch 18/30\n",
      "1870/1870 [==============================] - 26s 14ms/step - loss: 0.0165 - accuracy: 0.8686 - val_loss: 0.0133 - val_accuracy: 0.8803\n",
      "Epoch 19/30\n",
      "1870/1870 [==============================] - 27s 14ms/step - loss: 0.0161 - accuracy: 0.8713 - val_loss: 0.0124 - val_accuracy: 0.8751\n",
      "Epoch 20/30\n",
      "1870/1870 [==============================] - 27s 14ms/step - loss: 0.0159 - accuracy: 0.8682 - val_loss: 0.0288 - val_accuracy: 0.8616\n",
      "Epoch 21/30\n",
      "1870/1870 [==============================] - 26s 14ms/step - loss: 0.0161 - accuracy: 0.8705 - val_loss: 0.0119 - val_accuracy: 0.8688\n",
      "Epoch 22/30\n",
      "1870/1870 [==============================] - 26s 14ms/step - loss: 0.0163 - accuracy: 0.8692 - val_loss: 0.0117 - val_accuracy: 0.8623\n",
      "Epoch 23/30\n",
      "1870/1870 [==============================] - 26s 14ms/step - loss: 0.0147 - accuracy: 0.8618 - val_loss: 0.0145 - val_accuracy: 0.8779\n",
      "Epoch 24/30\n",
      "1870/1870 [==============================] - 26s 14ms/step - loss: 0.0144 - accuracy: 0.8589 - val_loss: 0.0135 - val_accuracy: 0.8458\n",
      "Epoch 25/30\n",
      "1870/1870 [==============================] - 26s 14ms/step - loss: 0.0140 - accuracy: 0.8559 - val_loss: 0.0107 - val_accuracy: 0.8695\n",
      "Epoch 26/30\n",
      "1870/1870 [==============================] - 26s 14ms/step - loss: 0.0140 - accuracy: 0.8625 - val_loss: 0.0255 - val_accuracy: 0.8552\n",
      "Epoch 27/30\n",
      "1870/1870 [==============================] - 26s 14ms/step - loss: 0.0141 - accuracy: 0.8663 - val_loss: 0.0118 - val_accuracy: 0.8629\n",
      "Epoch 28/30\n",
      "1870/1870 [==============================] - 26s 14ms/step - loss: 0.0139 - accuracy: 0.8563 - val_loss: 0.0117 - val_accuracy: 0.8607\n",
      "Epoch 29/30\n",
      "1870/1870 [==============================] - 26s 14ms/step - loss: 0.0132 - accuracy: 0.8753 - val_loss: 0.0117 - val_accuracy: 0.8894\n",
      "Epoch 30/30\n",
      "1870/1870 [==============================] - 26s 14ms/step - loss: 0.0126 - accuracy: 0.8737 - val_loss: 0.0108 - val_accuracy: 0.8816\n"
     ]
    },
    {
     "data": {
      "text/plain": [
       "<tensorflow.python.keras.callbacks.History at 0x1dd76e2a9d0>"
      ]
     },
     "execution_count": 105,
     "metadata": {},
     "output_type": "execute_result"
    }
   ],
   "source": [
    "model_with_filter_LG_standard = LSTM_model(32)\n",
    "model_with_filter_LG_standard.fit(x_data_filter, y_data_filter, epochs=30, batch_size=64, validation_split=0.1)"
   ]
  },
  {
   "cell_type": "code",
   "execution_count": 106,
   "id": "78c5d943",
   "metadata": {},
   "outputs": [],
   "source": [
    "model_with_filter_LG_standard.save(\"modelop/LSTM/LSTM_with_filter_LR50_standard.h5\")"
   ]
  },
  {
   "cell_type": "markdown",
   "id": "d1c44128",
   "metadata": {},
   "source": [
    "Evaluate"
   ]
  },
  {
   "cell_type": "code",
   "execution_count": 107,
   "id": "eea67dfc",
   "metadata": {},
   "outputs": [
    {
     "name": "stdout",
     "output_type": "stream",
     "text": [
      "Model: \"sequential_3\"\n",
      "_________________________________________________________________\n",
      "Layer (type)                 Output Shape              Param #   \n",
      "=================================================================\n",
      "lstm_12 (LSTM)               (None, 20, 128)           82432     \n",
      "_________________________________________________________________\n",
      "dropout_9 (Dropout)          (None, 20, 128)           0         \n",
      "_________________________________________________________________\n",
      "lstm_13 (LSTM)               (None, 20, 128)           131584    \n",
      "_________________________________________________________________\n",
      "dropout_10 (Dropout)         (None, 20, 128)           0         \n",
      "_________________________________________________________________\n",
      "lstm_14 (LSTM)               (None, 20, 128)           131584    \n",
      "_________________________________________________________________\n",
      "dropout_11 (Dropout)         (None, 20, 128)           0         \n",
      "_________________________________________________________________\n",
      "lstm_15 (LSTM)               (None, 128)               131584    \n",
      "_________________________________________________________________\n",
      "dense_6 (Dense)              (None, 32)                4128      \n",
      "_________________________________________________________________\n",
      "dense_7 (Dense)              (None, 6)                 198       \n",
      "=================================================================\n",
      "Total params: 481,510\n",
      "Trainable params: 481,510\n",
      "Non-trainable params: 0\n",
      "_________________________________________________________________\n"
     ]
    }
   ],
   "source": [
    "model = load_model(\"modelop/LSTM/LSTM_with_filter_LR50_standard.h5\")\n",
    "model.summary()"
   ]
  },
  {
   "cell_type": "code",
   "execution_count": 108,
   "id": "3aacbb1d",
   "metadata": {},
   "outputs": [
    {
     "name": "stdout",
     "output_type": "stream",
     "text": [
      "1433/1433 [==============================] - 12s 7ms/step - loss: 1.1085 - accuracy: 0.6956\n"
     ]
    },
    {
     "data": {
      "text/plain": [
       "[1.1084728240966797, 0.6955582499504089]"
      ]
     },
     "execution_count": 108,
     "metadata": {},
     "output_type": "execute_result"
    }
   ],
   "source": [
    "model.evaluate(x_ts_data_filter, y_ts_data_filter)"
   ]
  },
  {
   "cell_type": "markdown",
   "id": "04e750d2",
   "metadata": {},
   "source": [
    "# With lowpass filter 、linear regression and standardization (segment length = 100)"
   ]
  },
  {
   "cell_type": "markdown",
   "id": "f9f93a2c",
   "metadata": {},
   "source": [
    "Training data with filter, Linear regression and standardization"
   ]
  },
  {
   "cell_type": "code",
   "execution_count": 109,
   "id": "7614db6c",
   "metadata": {},
   "outputs": [],
   "source": [
    "x_train_filter_LR = linearregression_allsignal(x_data_df.values, 100)"
   ]
  },
  {
   "cell_type": "code",
   "execution_count": 110,
   "id": "95a2c911",
   "metadata": {},
   "outputs": [
    {
     "data": {
      "text/plain": [
       "array([[  20.15133089,  345.02321821,  276.15973726, ...,  161.39733714,\n",
       "          64.31881661,  595.97368359],\n",
       "       [  21.50066792,  345.87903081,  276.47995694, ...,  161.43100322,\n",
       "          64.12371138,  596.1433851 ],\n",
       "       [  22.85000494,  346.73484341,  276.80017662, ...,  161.46466929,\n",
       "          63.92860616,  596.3130866 ],\n",
       "       ...,\n",
       "       [ 171.6830578 ,   91.67288333,  126.99115007, ..., -193.81412869,\n",
       "        -200.98446484, -277.56176998],\n",
       "       [ 171.62392001,   91.72248097,  125.92100096, ..., -194.86753611,\n",
       "        -202.12998954, -278.36388967],\n",
       "       [ 171.56478222,   91.77207861,  124.85085186, ..., -195.92094353,\n",
       "        -203.27551423, -279.16600936]])"
      ]
     },
     "execution_count": 110,
     "metadata": {},
     "output_type": "execute_result"
    }
   ],
   "source": [
    "x_train_filter_LR"
   ]
  },
  {
   "cell_type": "code",
   "execution_count": 111,
   "id": "0b100b4f",
   "metadata": {},
   "outputs": [
    {
     "data": {
      "text/plain": [
       "(1185498, 32)"
      ]
     },
     "execution_count": 111,
     "metadata": {},
     "output_type": "execute_result"
    }
   ],
   "source": [
    "x_train_filter_LR.shape"
   ]
  },
  {
   "cell_type": "code",
   "execution_count": 112,
   "id": "663cedb4",
   "metadata": {},
   "outputs": [],
   "source": [
    "x_train_filter_LR_st = StandardScaler().fit_transform(x_train_filter_LR)\n",
    "x_train_filter_LR_st = pd.DataFrame(x_train_filter_LR_st)\n",
    "y=pd.DataFrame(y_data)"
   ]
  },
  {
   "cell_type": "code",
   "execution_count": 113,
   "id": "2448feaf",
   "metadata": {},
   "outputs": [
    {
     "data": {
      "text/plain": [
       "array([[-0.5466633 ,  0.08982776, -0.55705691, ...,  0.63888567,\n",
       "         0.47219912,  2.37111458],\n",
       "       [-0.5425468 ,  0.09297304, -0.5553075 , ...,  0.6390847 ,\n",
       "         0.47114679,  2.3719669 ],\n",
       "       [-0.5384303 ,  0.09611832, -0.5535581 , ...,  0.63928372,\n",
       "         0.47009446,  2.37281922],\n",
       "       ...,\n",
       "       [-0.08437653, -0.8412851 , -1.37198664, ..., -1.46104494,\n",
       "        -0.95876065, -2.01619711],\n",
       "       [-0.08455695, -0.84110282, -1.37783302, ..., -1.46727245,\n",
       "        -0.96493924, -2.02022573],\n",
       "       [-0.08473736, -0.84092054, -1.38367941, ..., -1.47349996,\n",
       "        -0.97111783, -2.02425436]])"
      ]
     },
     "execution_count": 113,
     "metadata": {},
     "output_type": "execute_result"
    }
   ],
   "source": [
    "x_train_filter_LR_st.values"
   ]
  },
  {
   "cell_type": "code",
   "execution_count": 114,
   "id": "a2b48668",
   "metadata": {},
   "outputs": [
    {
     "data": {
      "text/plain": [
       "(1185498, 32)"
      ]
     },
     "execution_count": 114,
     "metadata": {},
     "output_type": "execute_result"
    }
   ],
   "source": [
    "x_train_filter_LR_st.shape"
   ]
  },
  {
   "cell_type": "markdown",
   "id": "0a179c3a",
   "metadata": {},
   "source": [
    "Testing data with filter, Linear regression and standardization"
   ]
  },
  {
   "cell_type": "code",
   "execution_count": 115,
   "id": "38c213ba",
   "metadata": {},
   "outputs": [],
   "source": [
    "x_test_filter_LR = linearregression_allsignal(x_test_df.values, 100)"
   ]
  },
  {
   "cell_type": "code",
   "execution_count": 116,
   "id": "6ac2b65a",
   "metadata": {},
   "outputs": [
    {
     "data": {
      "text/plain": [
       "array([[ -78.54690609,  112.02318743,  371.73013214, ..., -167.71335711,\n",
       "          26.90097552,  -37.5413328 ],\n",
       "       [ -78.8513883 ,  110.75630208,  371.61243801, ..., -168.21814338,\n",
       "          26.39253849,  -38.20226546],\n",
       "       [ -79.15587052,  109.48941673,  371.49474387, ..., -168.72292965,\n",
       "          25.88410146,  -38.86319813],\n",
       "       ...,\n",
       "       [ 113.29632415,  250.85313851,  371.10688352, ...,  111.81759164,\n",
       "         198.99933016,  125.93097676],\n",
       "       [ 113.50399117,  251.28553765,  372.12821692, ...,  112.44213785,\n",
       "         199.63026845,  125.88439278],\n",
       "       [ 113.71165819,  251.71793679,  373.14955032, ...,  113.06668405,\n",
       "         200.26120674,  125.83780879]])"
      ]
     },
     "execution_count": 116,
     "metadata": {},
     "output_type": "execute_result"
    }
   ],
   "source": [
    "x_test_filter_LR"
   ]
  },
  {
   "cell_type": "code",
   "execution_count": 117,
   "id": "825f3a04",
   "metadata": {},
   "outputs": [
    {
     "data": {
      "text/plain": [
       "(236894, 32)"
      ]
     },
     "execution_count": 117,
     "metadata": {},
     "output_type": "execute_result"
    }
   ],
   "source": [
    "x_test_filter_LR.shape"
   ]
  },
  {
   "cell_type": "code",
   "execution_count": 118,
   "id": "b0b0bcb6",
   "metadata": {},
   "outputs": [],
   "source": [
    "x_test_filter_LR_st = StandardScaler().fit_transform(x_test_filter_LR)\n",
    "x_test_filter_LR_st = pd.DataFrame(x_test_filter_LR_st)\n",
    "y_test=pd.DataFrame(y_ts_data)"
   ]
  },
  {
   "cell_type": "code",
   "execution_count": 119,
   "id": "2ee16d81",
   "metadata": {},
   "outputs": [
    {
     "data": {
      "text/plain": [
       "array([[-0.39213946, -0.35796947,  0.4309562 , ..., -1.45807036,\n",
       "         0.47422897, -0.66356697],\n",
       "       [-0.39265708, -0.36457695,  0.43013913, ..., -1.46217159,\n",
       "         0.47100713, -0.66803709],\n",
       "       [-0.3931747 , -0.37118442,  0.42932207, ..., -1.46627283,\n",
       "         0.46778529, -0.6725072 ],\n",
       "       ...,\n",
       "       [-0.06600625,  0.36610196,  0.42662944, ...,  0.81303377,\n",
       "         1.56477322,  0.44205328],\n",
       "       [-0.06565322,  0.36835715,  0.43371981, ...,  0.81810802,\n",
       "         1.56877132,  0.44173822],\n",
       "       [-0.06530019,  0.37061234,  0.44081017, ...,  0.82318227,\n",
       "         1.57276942,  0.44142315]])"
      ]
     },
     "execution_count": 119,
     "metadata": {},
     "output_type": "execute_result"
    }
   ],
   "source": [
    "x_test_filter_LR_st.values"
   ]
  },
  {
   "cell_type": "code",
   "execution_count": 120,
   "id": "372e8697",
   "metadata": {},
   "outputs": [
    {
     "data": {
      "text/plain": [
       "(236894, 32)"
      ]
     },
     "execution_count": 120,
     "metadata": {},
     "output_type": "execute_result"
    }
   ],
   "source": [
    "x_test_filter_LR_st.shape"
   ]
  },
  {
   "cell_type": "markdown",
   "id": "75f45456",
   "metadata": {},
   "source": [
    "Filter [0 0 0 0 0 0] from the data"
   ]
  },
  {
   "cell_type": "code",
   "execution_count": 121,
   "id": "4a62b2ef",
   "metadata": {},
   "outputs": [],
   "source": [
    "x_data_filter, y_data_filter = filter_dataset(x_train_filter_LR_st.values, y_data)"
   ]
  },
  {
   "cell_type": "code",
   "execution_count": 122,
   "id": "b5984633",
   "metadata": {},
   "outputs": [
    {
     "data": {
      "text/plain": [
       "(132965, 20, 32)"
      ]
     },
     "execution_count": 122,
     "metadata": {},
     "output_type": "execute_result"
    }
   ],
   "source": [
    "x_data_filter.shape"
   ]
  },
  {
   "cell_type": "code",
   "execution_count": 123,
   "id": "546786ef",
   "metadata": {},
   "outputs": [
    {
     "data": {
      "text/plain": [
       "(132965, 6)"
      ]
     },
     "execution_count": 123,
     "metadata": {},
     "output_type": "execute_result"
    }
   ],
   "source": [
    "y_data_filter.shape"
   ]
  },
  {
   "cell_type": "code",
   "execution_count": 124,
   "id": "d2e5c687",
   "metadata": {},
   "outputs": [],
   "source": [
    "x_ts_data_filter, y_ts_data_filter = filter_dataset(x_test_filter_LR_st.values, y_ts_data)"
   ]
  },
  {
   "cell_type": "code",
   "execution_count": 125,
   "id": "a3065faf",
   "metadata": {},
   "outputs": [
    {
     "data": {
      "text/plain": [
       "(45838, 20, 32)"
      ]
     },
     "execution_count": 125,
     "metadata": {},
     "output_type": "execute_result"
    }
   ],
   "source": [
    "x_ts_data_filter.shape"
   ]
  },
  {
   "cell_type": "code",
   "execution_count": 126,
   "id": "2c397692",
   "metadata": {},
   "outputs": [
    {
     "data": {
      "text/plain": [
       "(45838, 6)"
      ]
     },
     "execution_count": 126,
     "metadata": {},
     "output_type": "execute_result"
    }
   ],
   "source": [
    "y_ts_data_filter.shape"
   ]
  },
  {
   "cell_type": "markdown",
   "id": "d4bc04be",
   "metadata": {},
   "source": [
    "Shuffle"
   ]
  },
  {
   "cell_type": "code",
   "execution_count": 127,
   "id": "ac5c0415",
   "metadata": {},
   "outputs": [],
   "source": [
    "x_data_filter, y_data_filter = utils.shuffle(x_data_filter, y_data_filter)"
   ]
  },
  {
   "cell_type": "code",
   "execution_count": 128,
   "id": "a2829e22",
   "metadata": {},
   "outputs": [
    {
     "data": {
      "text/plain": [
       "(132965, 20, 32)"
      ]
     },
     "execution_count": 128,
     "metadata": {},
     "output_type": "execute_result"
    }
   ],
   "source": [
    "x_data_filter.shape"
   ]
  },
  {
   "cell_type": "code",
   "execution_count": 129,
   "id": "53e04be2",
   "metadata": {},
   "outputs": [
    {
     "data": {
      "text/plain": [
       "(132965, 6)"
      ]
     },
     "execution_count": 129,
     "metadata": {},
     "output_type": "execute_result"
    }
   ],
   "source": [
    "y_data_filter.shape"
   ]
  },
  {
   "cell_type": "markdown",
   "id": "b8f40dfb",
   "metadata": {},
   "source": [
    "Model"
   ]
  },
  {
   "cell_type": "code",
   "execution_count": 130,
   "id": "eebda4c5",
   "metadata": {},
   "outputs": [
    {
     "name": "stderr",
     "output_type": "stream",
     "text": [
      "C:\\Users\\User\\anaconda3\\envs\\modelop_gpu\\lib\\site-packages\\tensorflow\\python\\keras\\optimizer_v2\\optimizer_v2.py:374: UserWarning: The `lr` argument is deprecated, use `learning_rate` instead.\n",
      "  warnings.warn(\n"
     ]
    },
    {
     "name": "stdout",
     "output_type": "stream",
     "text": [
      "Model: \"sequential_4\"\n",
      "_________________________________________________________________\n",
      "Layer (type)                 Output Shape              Param #   \n",
      "=================================================================\n",
      "lstm_16 (LSTM)               (None, 20, 128)           82432     \n",
      "_________________________________________________________________\n",
      "dropout_12 (Dropout)         (None, 20, 128)           0         \n",
      "_________________________________________________________________\n",
      "lstm_17 (LSTM)               (None, 20, 128)           131584    \n",
      "_________________________________________________________________\n",
      "dropout_13 (Dropout)         (None, 20, 128)           0         \n",
      "_________________________________________________________________\n",
      "lstm_18 (LSTM)               (None, 20, 128)           131584    \n",
      "_________________________________________________________________\n",
      "dropout_14 (Dropout)         (None, 20, 128)           0         \n",
      "_________________________________________________________________\n",
      "lstm_19 (LSTM)               (None, 128)               131584    \n",
      "_________________________________________________________________\n",
      "dense_8 (Dense)              (None, 32)                4128      \n",
      "_________________________________________________________________\n",
      "dense_9 (Dense)              (None, 6)                 198       \n",
      "=================================================================\n",
      "Total params: 481,510\n",
      "Trainable params: 481,510\n",
      "Non-trainable params: 0\n",
      "_________________________________________________________________\n",
      "Epoch 1/30\n",
      "1870/1870 [==============================] - 31s 15ms/step - loss: 0.1202 - accuracy: 0.7937 - val_loss: 0.0558 - val_accuracy: 0.8503\n",
      "Epoch 2/30\n",
      "1870/1870 [==============================] - 27s 15ms/step - loss: 0.0525 - accuracy: 0.8560 - val_loss: 0.0440 - val_accuracy: 0.8354\n",
      "Epoch 3/30\n",
      "1870/1870 [==============================] - 25s 13ms/step - loss: 0.0438 - accuracy: 0.8532 - val_loss: 0.0403 - val_accuracy: 0.8587\n",
      "Epoch 4/30\n",
      "1870/1870 [==============================] - 25s 13ms/step - loss: 0.0366 - accuracy: 0.8540 - val_loss: 0.0323 - val_accuracy: 0.8452\n",
      "Epoch 5/30\n",
      "1870/1870 [==============================] - 25s 14ms/step - loss: 0.0350 - accuracy: 0.8515 - val_loss: 0.0272 - val_accuracy: 0.8565\n",
      "Epoch 6/30\n",
      "1870/1870 [==============================] - 26s 14ms/step - loss: 0.0297 - accuracy: 0.8522 - val_loss: 0.0259 - val_accuracy: 0.8561\n",
      "Epoch 7/30\n",
      "1870/1870 [==============================] - 26s 14ms/step - loss: 0.0294 - accuracy: 0.8537 - val_loss: 0.0241 - val_accuracy: 0.8439\n",
      "Epoch 8/30\n",
      "1870/1870 [==============================] - 26s 14ms/step - loss: 0.0264 - accuracy: 0.8566 - val_loss: 0.0216 - val_accuracy: 0.8540\n",
      "Epoch 9/30\n",
      "1870/1870 [==============================] - 26s 14ms/step - loss: 0.0253 - accuracy: 0.8560 - val_loss: 0.0202 - val_accuracy: 0.8549\n",
      "Epoch 10/30\n",
      "1870/1870 [==============================] - 26s 14ms/step - loss: 0.0247 - accuracy: 0.8531 - val_loss: 0.0196 - val_accuracy: 0.8537\n",
      "Epoch 11/30\n",
      "1870/1870 [==============================] - 26s 14ms/step - loss: 0.0227 - accuracy: 0.8509 - val_loss: 0.0179 - val_accuracy: 0.8550\n",
      "Epoch 12/30\n",
      "1870/1870 [==============================] - 26s 14ms/step - loss: 0.0216 - accuracy: 0.8494 - val_loss: 0.0185 - val_accuracy: 0.8576\n",
      "Epoch 13/30\n",
      "1870/1870 [==============================] - 26s 14ms/step - loss: 0.0212 - accuracy: 0.8515 - val_loss: 0.0190 - val_accuracy: 0.8663\n",
      "Epoch 14/30\n",
      "1870/1870 [==============================] - 26s 14ms/step - loss: 0.0205 - accuracy: 0.8498 - val_loss: 0.0201 - val_accuracy: 0.8438\n",
      "Epoch 15/30\n",
      "1870/1870 [==============================] - 26s 14ms/step - loss: 0.0203 - accuracy: 0.8527 - val_loss: 0.0178 - val_accuracy: 0.8680\n",
      "Epoch 16/30\n",
      "1870/1870 [==============================] - 26s 14ms/step - loss: 0.0189 - accuracy: 0.8581 - val_loss: 0.0163 - val_accuracy: 0.8556\n",
      "Epoch 17/30\n",
      "1870/1870 [==============================] - 26s 14ms/step - loss: 0.0181 - accuracy: 0.8548 - val_loss: 0.0156 - val_accuracy: 0.8584\n",
      "Epoch 18/30\n",
      "1870/1870 [==============================] - 26s 14ms/step - loss: 0.0184 - accuracy: 0.8567 - val_loss: 0.0160 - val_accuracy: 0.8521\n",
      "Epoch 19/30\n",
      "1870/1870 [==============================] - 26s 14ms/step - loss: 0.0180 - accuracy: 0.8596 - val_loss: 0.0149 - val_accuracy: 0.8546\n",
      "Epoch 20/30\n",
      "1870/1870 [==============================] - 26s 14ms/step - loss: 0.0179 - accuracy: 0.8611 - val_loss: 0.0159 - val_accuracy: 0.8667\n",
      "Epoch 21/30\n",
      "1870/1870 [==============================] - 26s 14ms/step - loss: 0.0165 - accuracy: 0.8675 - val_loss: 0.0155 - val_accuracy: 0.8598\n",
      "Epoch 22/30\n",
      "1870/1870 [==============================] - 26s 14ms/step - loss: 0.0166 - accuracy: 0.8649 - val_loss: 0.0136 - val_accuracy: 0.8636\n",
      "Epoch 23/30\n",
      "1870/1870 [==============================] - 26s 14ms/step - loss: 0.0168 - accuracy: 0.8650 - val_loss: 0.0130 - val_accuracy: 0.8752\n",
      "Epoch 24/30\n",
      "1870/1870 [==============================] - 26s 14ms/step - loss: 0.0161 - accuracy: 0.8635 - val_loss: 0.0122 - val_accuracy: 0.8758\n",
      "Epoch 25/30\n",
      "1870/1870 [==============================] - 26s 14ms/step - loss: 0.0154 - accuracy: 0.8673 - val_loss: 0.0130 - val_accuracy: 0.8649\n",
      "Epoch 26/30\n",
      "1870/1870 [==============================] - 27s 14ms/step - loss: 0.0172 - accuracy: 0.8653 - val_loss: 0.0141 - val_accuracy: 0.8436\n",
      "Epoch 27/30\n",
      "1870/1870 [==============================] - 26s 14ms/step - loss: 0.0159 - accuracy: 0.8600 - val_loss: 0.0132 - val_accuracy: 0.8692\n",
      "Epoch 28/30\n",
      "1870/1870 [==============================] - 26s 14ms/step - loss: 0.0148 - accuracy: 0.8700 - val_loss: 0.0125 - val_accuracy: 0.8731\n",
      "Epoch 29/30\n",
      "1870/1870 [==============================] - 28s 15ms/step - loss: 0.0150 - accuracy: 0.8680 - val_loss: 0.0132 - val_accuracy: 0.8644\n",
      "Epoch 30/30\n",
      "1870/1870 [==============================] - 26s 14ms/step - loss: 0.0153 - accuracy: 0.8744 - val_loss: 0.0125 - val_accuracy: 0.8656\n"
     ]
    },
    {
     "data": {
      "text/plain": [
       "<tensorflow.python.keras.callbacks.History at 0x1ddffc72d30>"
      ]
     },
     "execution_count": 130,
     "metadata": {},
     "output_type": "execute_result"
    }
   ],
   "source": [
    "model_with_filter_LG_standard = LSTM_model(32)\n",
    "model_with_filter_LG_standard.fit(x_data_filter, y_data_filter, epochs=30, batch_size=64, validation_split=0.1)"
   ]
  },
  {
   "cell_type": "code",
   "execution_count": 131,
   "id": "e6ffe3eb",
   "metadata": {},
   "outputs": [],
   "source": [
    "model_with_filter_LG_standard.save(\"modelop/LSTM/LSTM_with_filter_LR100_standard.h5\")"
   ]
  },
  {
   "cell_type": "markdown",
   "id": "06e697f4",
   "metadata": {},
   "source": [
    "Evaluate"
   ]
  },
  {
   "cell_type": "code",
   "execution_count": 132,
   "id": "206664d9",
   "metadata": {},
   "outputs": [
    {
     "name": "stdout",
     "output_type": "stream",
     "text": [
      "Model: \"sequential_4\"\n",
      "_________________________________________________________________\n",
      "Layer (type)                 Output Shape              Param #   \n",
      "=================================================================\n",
      "lstm_16 (LSTM)               (None, 20, 128)           82432     \n",
      "_________________________________________________________________\n",
      "dropout_12 (Dropout)         (None, 20, 128)           0         \n",
      "_________________________________________________________________\n",
      "lstm_17 (LSTM)               (None, 20, 128)           131584    \n",
      "_________________________________________________________________\n",
      "dropout_13 (Dropout)         (None, 20, 128)           0         \n",
      "_________________________________________________________________\n",
      "lstm_18 (LSTM)               (None, 20, 128)           131584    \n",
      "_________________________________________________________________\n",
      "dropout_14 (Dropout)         (None, 20, 128)           0         \n",
      "_________________________________________________________________\n",
      "lstm_19 (LSTM)               (None, 128)               131584    \n",
      "_________________________________________________________________\n",
      "dense_8 (Dense)              (None, 32)                4128      \n",
      "_________________________________________________________________\n",
      "dense_9 (Dense)              (None, 6)                 198       \n",
      "=================================================================\n",
      "Total params: 481,510\n",
      "Trainable params: 481,510\n",
      "Non-trainable params: 0\n",
      "_________________________________________________________________\n"
     ]
    }
   ],
   "source": [
    "model = load_model(\"modelop/LSTM/LSTM_with_filter_LR100_standard.h5\")\n",
    "model.summary()"
   ]
  },
  {
   "cell_type": "code",
   "execution_count": 133,
   "id": "13f9d3c2",
   "metadata": {},
   "outputs": [
    {
     "name": "stdout",
     "output_type": "stream",
     "text": [
      "1433/1433 [==============================] - 11s 7ms/step - loss: 1.0237 - accuracy: 0.6677\n"
     ]
    },
    {
     "data": {
      "text/plain": [
       "[1.0236544609069824, 0.6676556468009949]"
      ]
     },
     "execution_count": 133,
     "metadata": {},
     "output_type": "execute_result"
    }
   ],
   "source": [
    "model.evaluate(x_ts_data_filter, y_ts_data_filter)"
   ]
  },
  {
   "cell_type": "markdown",
   "id": "fc59705b",
   "metadata": {},
   "source": [
    "# With lowpass filter 、linear regression and standardization (segment length = 25)"
   ]
  },
  {
   "cell_type": "markdown",
   "id": "b7611d3d",
   "metadata": {},
   "source": [
    "Training data with filter, Linear regression and standardization"
   ]
  },
  {
   "cell_type": "code",
   "execution_count": 134,
   "id": "39ce44ec",
   "metadata": {},
   "outputs": [],
   "source": [
    "x_train_filter_LR = linearregression_allsignal(x_data_df.values, 25)"
   ]
  },
  {
   "cell_type": "code",
   "execution_count": 135,
   "id": "ba87183f",
   "metadata": {},
   "outputs": [
    {
     "data": {
      "text/plain": [
       "array([[-124.03175324,  302.31524469,  149.58425983, ...,  165.17063472,\n",
       "         100.18425108,  669.57338561],\n",
       "       [-111.68075164,  306.24203714,  160.36450083, ...,  163.17850035,\n",
       "          95.06149978,  662.16880566],\n",
       "       [ -99.32975004,  310.16882958,  171.14474183, ...,  161.18636599,\n",
       "          89.93874847,  654.76422571],\n",
       "       ...,\n",
       "       [ 166.17866079,   57.5226247 ,   96.59901352, ..., -236.45134008,\n",
       "        -231.28988721, -282.74257547],\n",
       "       [ 165.40211913,   54.74575038,   92.84320756, ..., -243.32746196,\n",
       "        -236.66877604, -286.03433589],\n",
       "       [ 164.62557748,   51.96887606,   89.08740159, ..., -250.20358385,\n",
       "        -242.04766487, -289.32609631]])"
      ]
     },
     "execution_count": 135,
     "metadata": {},
     "output_type": "execute_result"
    }
   ],
   "source": [
    "x_train_filter_LR"
   ]
  },
  {
   "cell_type": "code",
   "execution_count": 136,
   "id": "62046540",
   "metadata": {},
   "outputs": [
    {
     "data": {
      "text/plain": [
       "(1185498, 32)"
      ]
     },
     "execution_count": 136,
     "metadata": {},
     "output_type": "execute_result"
    }
   ],
   "source": [
    "x_train_filter_LR.shape"
   ]
  },
  {
   "cell_type": "code",
   "execution_count": 137,
   "id": "69f42660",
   "metadata": {},
   "outputs": [],
   "source": [
    "x_train_filter_LR_st = StandardScaler().fit_transform(x_train_filter_LR)\n",
    "x_train_filter_LR_st = pd.DataFrame(x_train_filter_LR_st)\n",
    "y=pd.DataFrame(y_data)"
   ]
  },
  {
   "cell_type": "code",
   "execution_count": 138,
   "id": "b4415eef",
   "metadata": {},
   "outputs": [
    {
     "data": {
      "text/plain": [
       "array([[-0.92067856, -0.06241375, -1.19705025, ...,  0.63095218,\n",
       "         0.63940329,  2.63507019],\n",
       "       [-0.88551383, -0.04899642, -1.14058579, ...,  0.61971377,\n",
       "         0.61286213,  2.59931506],\n",
       "       [-0.8503491 , -0.03557909, -1.08412132, ...,  0.60847535,\n",
       "         0.58632097,  2.56355993],\n",
       "       ...,\n",
       "       [-0.09441592, -0.89883754, -1.47457498, ..., -1.63475575,\n",
       "        -1.07797604, -1.96345983],\n",
       "       [-0.09662682, -0.90832575, -1.49424704, ..., -1.67354667,\n",
       "        -1.10584426, -1.97935504],\n",
       "       [-0.09883773, -0.91781396, -1.5139191 , ..., -1.71233758,\n",
       "        -1.13371247, -1.99525025]])"
      ]
     },
     "execution_count": 138,
     "metadata": {},
     "output_type": "execute_result"
    }
   ],
   "source": [
    "x_train_filter_LR_st.values"
   ]
  },
  {
   "cell_type": "code",
   "execution_count": 139,
   "id": "a2676861",
   "metadata": {},
   "outputs": [
    {
     "data": {
      "text/plain": [
       "(1185498, 32)"
      ]
     },
     "execution_count": 139,
     "metadata": {},
     "output_type": "execute_result"
    }
   ],
   "source": [
    "x_train_filter_LR_st.shape"
   ]
  },
  {
   "cell_type": "markdown",
   "id": "092a3a7f",
   "metadata": {},
   "source": [
    "Testing data with filter, Linear regression and standardization"
   ]
  },
  {
   "cell_type": "code",
   "execution_count": 140,
   "id": "70e92ab9",
   "metadata": {},
   "outputs": [],
   "source": [
    "x_test_filter_LR = linearregression_allsignal(x_test_df.values, 25)"
   ]
  },
  {
   "cell_type": "code",
   "execution_count": 141,
   "id": "9ff2b36a",
   "metadata": {},
   "outputs": [
    {
     "data": {
      "text/plain": [
       "array([[-117.75372654,   75.03014112,  373.44757315, ..., -196.4892563 ,\n",
       "         -28.14495596,  -91.70435195],\n",
       "       [-117.35530074,   73.30811413,  371.55695338, ..., -195.21045117,\n",
       "         -25.72976494,  -89.43241647],\n",
       "       [-116.95687493,   71.58608715,  369.6663336 , ..., -193.93164604,\n",
       "         -23.31457391,  -87.160481  ],\n",
       "       ...,\n",
       "       [ 175.01099018,  339.41481693,  402.7725556 , ...,  140.89891948,\n",
       "         254.74090087,  184.79553586],\n",
       "       [ 183.70633316,  353.63192921,  406.13900018, ...,  138.55591359,\n",
       "         256.63879581,  187.37046054],\n",
       "       [ 192.40167615,  367.8490415 ,  409.50544476, ...,  136.21290769,\n",
       "         258.53669075,  189.94538521]])"
      ]
     },
     "execution_count": 141,
     "metadata": {},
     "output_type": "execute_result"
    }
   ],
   "source": [
    "x_test_filter_LR"
   ]
  },
  {
   "cell_type": "code",
   "execution_count": 142,
   "id": "0755afd8",
   "metadata": {},
   "outputs": [
    {
     "data": {
      "text/plain": [
       "(236894, 32)"
      ]
     },
     "execution_count": 142,
     "metadata": {},
     "output_type": "execute_result"
    }
   ],
   "source": [
    "x_test_filter_LR.shape"
   ]
  },
  {
   "cell_type": "code",
   "execution_count": 143,
   "id": "fe3c3204",
   "metadata": {},
   "outputs": [],
   "source": [
    "x_test_filter_LR_st = StandardScaler().fit_transform(x_test_filter_LR)\n",
    "x_test_filter_LR_st = pd.DataFrame(x_test_filter_LR_st)\n",
    "y_test=pd.DataFrame(y_ts_data)"
   ]
  },
  {
   "cell_type": "code",
   "execution_count": 144,
   "id": "cd17bffd",
   "metadata": {},
   "outputs": [
    {
     "data": {
      "text/plain": [
       "array([[-0.45287933, -0.5204245 ,  0.42368563, ..., -1.55725819,\n",
       "         0.1190356 , -0.96979726],\n",
       "       [-0.45221074, -0.52890882,  0.41112926, ..., -1.54769493,\n",
       "         0.13356139, -0.95532795],\n",
       "       [-0.45154214, -0.53739314,  0.3985729 , ..., -1.53813166,\n",
       "         0.14808718, -0.94085865],\n",
       "       ...,\n",
       "       [ 0.03840724,  0.78218245,  0.61844463, ...,  0.96582586,\n",
       "         1.8204083 ,  0.79115144],\n",
       "       [ 0.05299883,  0.85222928,  0.64080254, ...,  0.9483042 ,\n",
       "         1.83182289,  0.8075504 ],\n",
       "       [ 0.06759043,  0.92227611,  0.66316045, ...,  0.93078254,\n",
       "         1.84323749,  0.82394936]])"
      ]
     },
     "execution_count": 144,
     "metadata": {},
     "output_type": "execute_result"
    }
   ],
   "source": [
    "x_test_filter_LR_st.values"
   ]
  },
  {
   "cell_type": "code",
   "execution_count": 145,
   "id": "e4f1efff",
   "metadata": {},
   "outputs": [
    {
     "data": {
      "text/plain": [
       "(236894, 32)"
      ]
     },
     "execution_count": 145,
     "metadata": {},
     "output_type": "execute_result"
    }
   ],
   "source": [
    "x_test_filter_LR_st.shape"
   ]
  },
  {
   "cell_type": "markdown",
   "id": "e75802d1",
   "metadata": {},
   "source": [
    "Filter [0 0 0 0 0 0] from the data"
   ]
  },
  {
   "cell_type": "code",
   "execution_count": 146,
   "id": "1d155cc3",
   "metadata": {},
   "outputs": [],
   "source": [
    "x_data_filter, y_data_filter = filter_dataset(x_train_filter_LR_st.values, y_data)"
   ]
  },
  {
   "cell_type": "code",
   "execution_count": 147,
   "id": "99f87ce5",
   "metadata": {},
   "outputs": [
    {
     "data": {
      "text/plain": [
       "(132965, 20, 32)"
      ]
     },
     "execution_count": 147,
     "metadata": {},
     "output_type": "execute_result"
    }
   ],
   "source": [
    "x_data_filter.shape"
   ]
  },
  {
   "cell_type": "code",
   "execution_count": 148,
   "id": "b84fa2fe",
   "metadata": {},
   "outputs": [
    {
     "data": {
      "text/plain": [
       "(132965, 6)"
      ]
     },
     "execution_count": 148,
     "metadata": {},
     "output_type": "execute_result"
    }
   ],
   "source": [
    "y_data_filter.shape"
   ]
  },
  {
   "cell_type": "code",
   "execution_count": 149,
   "id": "5c87497e",
   "metadata": {},
   "outputs": [],
   "source": [
    "x_ts_data_filter, y_ts_data_filter = filter_dataset(x_test_filter_LR_st.values, y_ts_data)"
   ]
  },
  {
   "cell_type": "code",
   "execution_count": 150,
   "id": "7f645cbc",
   "metadata": {},
   "outputs": [
    {
     "data": {
      "text/plain": [
       "(45838, 20, 32)"
      ]
     },
     "execution_count": 150,
     "metadata": {},
     "output_type": "execute_result"
    }
   ],
   "source": [
    "x_ts_data_filter.shape"
   ]
  },
  {
   "cell_type": "code",
   "execution_count": 151,
   "id": "04f9195e",
   "metadata": {},
   "outputs": [
    {
     "data": {
      "text/plain": [
       "(45838, 6)"
      ]
     },
     "execution_count": 151,
     "metadata": {},
     "output_type": "execute_result"
    }
   ],
   "source": [
    "y_ts_data_filter.shape"
   ]
  },
  {
   "cell_type": "markdown",
   "id": "ebab5b0d",
   "metadata": {},
   "source": [
    "Shuffle"
   ]
  },
  {
   "cell_type": "code",
   "execution_count": 152,
   "id": "c5c224ac",
   "metadata": {},
   "outputs": [],
   "source": [
    "x_data_filter, y_data_filter = utils.shuffle(x_data_filter, y_data_filter)"
   ]
  },
  {
   "cell_type": "code",
   "execution_count": 153,
   "id": "b19fab9c",
   "metadata": {},
   "outputs": [
    {
     "data": {
      "text/plain": [
       "(132965, 20, 32)"
      ]
     },
     "execution_count": 153,
     "metadata": {},
     "output_type": "execute_result"
    }
   ],
   "source": [
    "x_data_filter.shape"
   ]
  },
  {
   "cell_type": "code",
   "execution_count": 154,
   "id": "1328e4d3",
   "metadata": {},
   "outputs": [
    {
     "data": {
      "text/plain": [
       "(132965, 6)"
      ]
     },
     "execution_count": 154,
     "metadata": {},
     "output_type": "execute_result"
    }
   ],
   "source": [
    "y_data_filter.shape"
   ]
  },
  {
   "cell_type": "markdown",
   "id": "29afb64e",
   "metadata": {},
   "source": [
    "Model"
   ]
  },
  {
   "cell_type": "code",
   "execution_count": 155,
   "id": "0cc51f6e",
   "metadata": {},
   "outputs": [
    {
     "name": "stderr",
     "output_type": "stream",
     "text": [
      "C:\\Users\\User\\anaconda3\\envs\\modelop_gpu\\lib\\site-packages\\tensorflow\\python\\keras\\optimizer_v2\\optimizer_v2.py:374: UserWarning: The `lr` argument is deprecated, use `learning_rate` instead.\n",
      "  warnings.warn(\n"
     ]
    },
    {
     "name": "stdout",
     "output_type": "stream",
     "text": [
      "Model: \"sequential_5\"\n",
      "_________________________________________________________________\n",
      "Layer (type)                 Output Shape              Param #   \n",
      "=================================================================\n",
      "lstm_20 (LSTM)               (None, 20, 128)           82432     \n",
      "_________________________________________________________________\n",
      "dropout_15 (Dropout)         (None, 20, 128)           0         \n",
      "_________________________________________________________________\n",
      "lstm_21 (LSTM)               (None, 20, 128)           131584    \n",
      "_________________________________________________________________\n",
      "dropout_16 (Dropout)         (None, 20, 128)           0         \n",
      "_________________________________________________________________\n",
      "lstm_22 (LSTM)               (None, 20, 128)           131584    \n",
      "_________________________________________________________________\n",
      "dropout_17 (Dropout)         (None, 20, 128)           0         \n",
      "_________________________________________________________________\n",
      "lstm_23 (LSTM)               (None, 128)               131584    \n",
      "_________________________________________________________________\n",
      "dense_10 (Dense)             (None, 32)                4128      \n",
      "_________________________________________________________________\n",
      "dense_11 (Dense)             (None, 6)                 198       \n",
      "=================================================================\n",
      "Total params: 481,510\n",
      "Trainable params: 481,510\n",
      "Non-trainable params: 0\n",
      "_________________________________________________________________\n",
      "Epoch 1/30\n",
      "1870/1870 [==============================] - 32s 15ms/step - loss: 0.1296 - accuracy: 0.7822 - val_loss: 0.0561 - val_accuracy: 0.8680\n",
      "Epoch 2/30\n",
      "1870/1870 [==============================] - 28s 15ms/step - loss: 0.0556 - accuracy: 0.8587 - val_loss: 0.0736 - val_accuracy: 0.8320\n",
      "Epoch 3/30\n",
      "1870/1870 [==============================] - 27s 14ms/step - loss: 0.0438 - accuracy: 0.8597 - val_loss: 0.0415 - val_accuracy: 0.8671\n",
      "Epoch 4/30\n",
      "1870/1870 [==============================] - 26s 14ms/step - loss: 0.0372 - accuracy: 0.8567 - val_loss: 0.0276 - val_accuracy: 0.8772\n",
      "Epoch 5/30\n",
      "1870/1870 [==============================] - 26s 14ms/step - loss: 0.0315 - accuracy: 0.8589 - val_loss: 0.0253 - val_accuracy: 0.8679\n",
      "Epoch 6/30\n",
      "1870/1870 [==============================] - 26s 14ms/step - loss: 0.0290 - accuracy: 0.8579 - val_loss: 0.0212 - val_accuracy: 0.8708\n",
      "Epoch 7/30\n",
      "1870/1870 [==============================] - 26s 14ms/step - loss: 0.0255 - accuracy: 0.8555 - val_loss: 0.0197 - val_accuracy: 0.8576\n",
      "Epoch 8/30\n",
      "1870/1870 [==============================] - 26s 14ms/step - loss: 0.0248 - accuracy: 0.8568 - val_loss: 0.0193 - val_accuracy: 0.8589\n",
      "Epoch 9/30\n",
      "1870/1870 [==============================] - 26s 14ms/step - loss: 0.0227 - accuracy: 0.8567 - val_loss: 0.0170 - val_accuracy: 0.8627\n",
      "Epoch 10/30\n",
      "1870/1870 [==============================] - 26s 14ms/step - loss: 0.0211 - accuracy: 0.8562 - val_loss: 0.0176 - val_accuracy: 0.8625\n",
      "Epoch 11/30\n",
      "1870/1870 [==============================] - 26s 14ms/step - loss: 0.0205 - accuracy: 0.8605 - val_loss: 0.0159 - val_accuracy: 0.8563\n",
      "Epoch 12/30\n",
      "1870/1870 [==============================] - 26s 14ms/step - loss: 0.0186 - accuracy: 0.8552 - val_loss: 0.0154 - val_accuracy: 0.8652\n",
      "Epoch 13/30\n",
      "1870/1870 [==============================] - 27s 14ms/step - loss: 0.0183 - accuracy: 0.8561 - val_loss: 0.0168 - val_accuracy: 0.8509\n",
      "Epoch 14/30\n",
      "1870/1870 [==============================] - 27s 15ms/step - loss: 0.0175 - accuracy: 0.8542 - val_loss: 0.0139 - val_accuracy: 0.8582\n",
      "Epoch 15/30\n",
      "1870/1870 [==============================] - 27s 14ms/step - loss: 0.0170 - accuracy: 0.8536 - val_loss: 0.0134 - val_accuracy: 0.8524\n",
      "Epoch 16/30\n",
      "1870/1870 [==============================] - 26s 14ms/step - loss: 0.0154 - accuracy: 0.8585 - val_loss: 0.0118 - val_accuracy: 0.8502\n",
      "Epoch 17/30\n",
      "1870/1870 [==============================] - 27s 14ms/step - loss: 0.0152 - accuracy: 0.8590 - val_loss: 0.0113 - val_accuracy: 0.8498\n",
      "Epoch 18/30\n",
      "1870/1870 [==============================] - 27s 15ms/step - loss: 0.0150 - accuracy: 0.8523 - val_loss: 0.0117 - val_accuracy: 0.8455\n",
      "Epoch 19/30\n",
      "1870/1870 [==============================] - 27s 15ms/step - loss: 0.0142 - accuracy: 0.8585 - val_loss: 0.0122 - val_accuracy: 0.8559\n",
      "Epoch 20/30\n",
      "1870/1870 [==============================] - 27s 15ms/step - loss: 0.0145 - accuracy: 0.8616 - val_loss: 0.0104 - val_accuracy: 0.8722\n",
      "Epoch 21/30\n",
      "1870/1870 [==============================] - 26s 14ms/step - loss: 0.0145 - accuracy: 0.8583 - val_loss: 0.0118 - val_accuracy: 0.8722\n",
      "Epoch 22/30\n",
      "1870/1870 [==============================] - 27s 14ms/step - loss: 0.0133 - accuracy: 0.8604 - val_loss: 0.0105 - val_accuracy: 0.8753\n",
      "Epoch 23/30\n",
      "1870/1870 [==============================] - 27s 14ms/step - loss: 0.0125 - accuracy: 0.8656 - val_loss: 0.0100 - val_accuracy: 0.8777\n",
      "Epoch 24/30\n",
      "1870/1870 [==============================] - 27s 15ms/step - loss: 0.0131 - accuracy: 0.8631 - val_loss: 0.0127 - val_accuracy: 0.8514\n",
      "Epoch 25/30\n",
      "1870/1870 [==============================] - 27s 15ms/step - loss: 0.0135 - accuracy: 0.8622 - val_loss: 0.0118 - val_accuracy: 0.8625\n",
      "Epoch 26/30\n",
      "1870/1870 [==============================] - 27s 15ms/step - loss: 0.0137 - accuracy: 0.8594 - val_loss: 0.0104 - val_accuracy: 0.8718\n",
      "Epoch 27/30\n",
      "1870/1870 [==============================] - 27s 14ms/step - loss: 0.0123 - accuracy: 0.8545 - val_loss: 0.0097 - val_accuracy: 0.8534\n",
      "Epoch 28/30\n",
      "1870/1870 [==============================] - 27s 15ms/step - loss: 0.0112 - accuracy: 0.8537 - val_loss: 0.0094 - val_accuracy: 0.8477\n",
      "Epoch 29/30\n",
      "1870/1870 [==============================] - 27s 14ms/step - loss: 0.0115 - accuracy: 0.8562 - val_loss: 0.0110 - val_accuracy: 0.8527\n",
      "Epoch 30/30\n",
      "1870/1870 [==============================] - 28s 15ms/step - loss: 0.0108 - accuracy: 0.8636 - val_loss: 0.0094 - val_accuracy: 0.8639\n"
     ]
    },
    {
     "data": {
      "text/plain": [
       "<tensorflow.python.keras.callbacks.History at 0x1dbabb6e0d0>"
      ]
     },
     "execution_count": 155,
     "metadata": {},
     "output_type": "execute_result"
    }
   ],
   "source": [
    "model_with_filter_LG_standard = LSTM_model(32)\n",
    "model_with_filter_LG_standard.fit(x_data_filter, y_data_filter, epochs=30, batch_size=64, validation_split=0.1)"
   ]
  },
  {
   "cell_type": "code",
   "execution_count": 156,
   "id": "ea52e830",
   "metadata": {},
   "outputs": [],
   "source": [
    "model_with_filter_LG_standard.save(\"modelop/LSTM/LSTM_with_filter_LR25_standard.h5\")"
   ]
  },
  {
   "cell_type": "markdown",
   "id": "5359e438",
   "metadata": {},
   "source": [
    "Evaluate"
   ]
  },
  {
   "cell_type": "code",
   "execution_count": 157,
   "id": "6d73b821",
   "metadata": {},
   "outputs": [
    {
     "name": "stdout",
     "output_type": "stream",
     "text": [
      "Model: \"sequential_5\"\n",
      "_________________________________________________________________\n",
      "Layer (type)                 Output Shape              Param #   \n",
      "=================================================================\n",
      "lstm_20 (LSTM)               (None, 20, 128)           82432     \n",
      "_________________________________________________________________\n",
      "dropout_15 (Dropout)         (None, 20, 128)           0         \n",
      "_________________________________________________________________\n",
      "lstm_21 (LSTM)               (None, 20, 128)           131584    \n",
      "_________________________________________________________________\n",
      "dropout_16 (Dropout)         (None, 20, 128)           0         \n",
      "_________________________________________________________________\n",
      "lstm_22 (LSTM)               (None, 20, 128)           131584    \n",
      "_________________________________________________________________\n",
      "dropout_17 (Dropout)         (None, 20, 128)           0         \n",
      "_________________________________________________________________\n",
      "lstm_23 (LSTM)               (None, 128)               131584    \n",
      "_________________________________________________________________\n",
      "dense_10 (Dense)             (None, 32)                4128      \n",
      "_________________________________________________________________\n",
      "dense_11 (Dense)             (None, 6)                 198       \n",
      "=================================================================\n",
      "Total params: 481,510\n",
      "Trainable params: 481,510\n",
      "Non-trainable params: 0\n",
      "_________________________________________________________________\n"
     ]
    }
   ],
   "source": [
    "model = load_model(\"modelop/LSTM/LSTM_with_filter_LR25_standard.h5\")\n",
    "model.summary()"
   ]
  },
  {
   "cell_type": "code",
   "execution_count": 158,
   "id": "f60e4b0b",
   "metadata": {},
   "outputs": [
    {
     "name": "stdout",
     "output_type": "stream",
     "text": [
      "1433/1433 [==============================] - 12s 8ms/step - loss: 1.0240 - accuracy: 0.6797\n"
     ]
    },
    {
     "data": {
      "text/plain": [
       "[1.0240312814712524, 0.6796544194221497]"
      ]
     },
     "execution_count": 158,
     "metadata": {},
     "output_type": "execute_result"
    }
   ],
   "source": [
    "model.evaluate(x_ts_data_filter, y_ts_data_filter)"
   ]
  },
  {
   "cell_type": "markdown",
   "id": "c379934f",
   "metadata": {},
   "source": [
    "# With linear regression and standardization (segment length = 25)"
   ]
  },
  {
   "cell_type": "markdown",
   "id": "091470c6",
   "metadata": {},
   "source": [
    "Training data with Linear regression and standardization"
   ]
  },
  {
   "cell_type": "code",
   "execution_count": 159,
   "id": "38a2838e",
   "metadata": {},
   "outputs": [],
   "source": [
    "x_train_filter_LR = linearregression_allsignal(x_data, 25)"
   ]
  },
  {
   "cell_type": "code",
   "execution_count": 160,
   "id": "b594360f",
   "metadata": {},
   "outputs": [
    {
     "data": {
      "text/plain": [
       "array([[-139.14153846,  276.70769231,  118.47384615, ...,  152.61230769,\n",
       "          84.88615385,  658.13230769],\n",
       "       [-126.03307692,  283.49538462,  131.31769231, ...,  151.65461538,\n",
       "          80.98230769,  651.87461538],\n",
       "       [-112.92461538,  290.28307692,  144.16153846, ...,  150.69692308,\n",
       "          77.07846154,  645.61692308],\n",
       "       ...,\n",
       "       [ 162.64822134,   72.71343874,  103.14130435, ..., -230.1284585 ,\n",
       "        -224.09288538, -272.30434783],\n",
       "       [ 161.58498024,   71.32411067,  100.32608696, ..., -236.29249012,\n",
       "        -228.7312253 , -274.82608696],\n",
       "       [ 160.52173913,   69.93478261,   97.51086957, ..., -242.45652174,\n",
       "        -233.36956522, -277.34782609]])"
      ]
     },
     "execution_count": 160,
     "metadata": {},
     "output_type": "execute_result"
    }
   ],
   "source": [
    "x_train_filter_LR"
   ]
  },
  {
   "cell_type": "code",
   "execution_count": 161,
   "id": "c5f0e028",
   "metadata": {},
   "outputs": [
    {
     "data": {
      "text/plain": [
       "(1185498, 32)"
      ]
     },
     "execution_count": 161,
     "metadata": {},
     "output_type": "execute_result"
    }
   ],
   "source": [
    "x_train_filter_LR.shape"
   ]
  },
  {
   "cell_type": "code",
   "execution_count": 162,
   "id": "1d3f586e",
   "metadata": {},
   "outputs": [],
   "source": [
    "x_train_filter_LR_st = StandardScaler().fit_transform(x_train_filter_LR)\n",
    "x_train_filter_LR_st = pd.DataFrame(x_train_filter_LR_st)\n",
    "y=pd.DataFrame(y_data)"
   ]
  },
  {
   "cell_type": "code",
   "execution_count": 163,
   "id": "547999a1",
   "metadata": {},
   "outputs": [
    {
     "data": {
      "text/plain": [
       "array([[-0.96331617, -0.14979838, -1.35793673, ...,  0.5597132 ,\n",
       "         0.55979967,  2.57589548],\n",
       "       [-0.92600963, -0.12662323, -1.29076557, ...,  0.55431427,\n",
       "         0.53958612,  2.54572443],\n",
       "       [-0.88870309, -0.10344809, -1.22359442, ...,  0.54891534,\n",
       "         0.51937257,  2.51555338],\n",
       "       ...,\n",
       "       [-0.10442579, -0.84629372, -1.43812335, ..., -1.59796487,\n",
       "        -1.04004929, -1.91014323],\n",
       "       [-0.10745176, -0.85103729, -1.45284646, ..., -1.63271423,\n",
       "        -1.06406595, -1.92230162],\n",
       "       [-0.11047773, -0.85578086, -1.46756958, ..., -1.66746359,\n",
       "        -1.08808261, -1.93446002]])"
      ]
     },
     "execution_count": 163,
     "metadata": {},
     "output_type": "execute_result"
    }
   ],
   "source": [
    "x_train_filter_LR_st.values"
   ]
  },
  {
   "cell_type": "code",
   "execution_count": 164,
   "id": "f10adae6",
   "metadata": {},
   "outputs": [
    {
     "data": {
      "text/plain": [
       "(1185498, 32)"
      ]
     },
     "execution_count": 164,
     "metadata": {},
     "output_type": "execute_result"
    }
   ],
   "source": [
    "x_train_filter_LR_st.shape"
   ]
  },
  {
   "cell_type": "markdown",
   "id": "0e550626",
   "metadata": {},
   "source": [
    "Testing data with Linear regression and standardization"
   ]
  },
  {
   "cell_type": "code",
   "execution_count": 165,
   "id": "10aacf8d",
   "metadata": {},
   "outputs": [],
   "source": [
    "x_test_filter_LR = linearregression_allsignal(x_ts_data, 25)"
   ]
  },
  {
   "cell_type": "code",
   "execution_count": 166,
   "id": "e39f5229",
   "metadata": {},
   "outputs": [
    {
     "data": {
      "text/plain": [
       "array([[-121.42769231,   72.37846154,  367.81230769, ..., -176.22769231,\n",
       "         -17.44307692,  -82.66461538],\n",
       "       [-120.86538462,   70.37692308,  366.40461538, ..., -176.37538462,\n",
       "         -15.83615385,  -81.13923077],\n",
       "       [-120.30307692,   68.37538462,  364.99692308, ..., -176.52307692,\n",
       "         -14.22923077,  -79.61384615],\n",
       "       ...,\n",
       "       [ 159.0122807 ,  336.66315789,  384.52105263, ...,  147.65087719,\n",
       "         257.8       ,  190.70877193],\n",
       "       [ 165.01403509,  349.54736842,  385.03157895, ...,  145.74385965,\n",
       "         259.67368421,  193.92280702],\n",
       "       [ 171.01578947,  362.43157895,  385.54210526, ...,  143.83684211,\n",
       "         261.54736842,  197.13684211]])"
      ]
     },
     "execution_count": 166,
     "metadata": {},
     "output_type": "execute_result"
    }
   ],
   "source": [
    "x_test_filter_LR"
   ]
  },
  {
   "cell_type": "code",
   "execution_count": 167,
   "id": "f7434bfb",
   "metadata": {},
   "outputs": [
    {
     "data": {
      "text/plain": [
       "(236894, 32)"
      ]
     },
     "execution_count": 167,
     "metadata": {},
     "output_type": "execute_result"
    }
   ],
   "source": [
    "x_test_filter_LR.shape"
   ]
  },
  {
   "cell_type": "code",
   "execution_count": 168,
   "id": "912e73ff",
   "metadata": {},
   "outputs": [],
   "source": [
    "x_test_filter_LR_st = StandardScaler().fit_transform(x_test_filter_LR)\n",
    "x_test_filter_LR_st = pd.DataFrame(x_test_filter_LR_st)\n",
    "y_test=pd.DataFrame(y_ts_data)"
   ]
  },
  {
   "cell_type": "code",
   "execution_count": 169,
   "id": "3fb2d01f",
   "metadata": {},
   "outputs": [
    {
     "data": {
      "text/plain": [
       "array([[-0.45899459, -0.53253635,  0.38580619, ..., -1.4041699 ,\n",
       "         0.18328048, -0.91059309],\n",
       "       [-0.45805108, -0.5423802 ,  0.37646818, ..., -1.40527315,\n",
       "         0.19293887, -0.90089577],\n",
       "       [-0.45710758, -0.55222406,  0.36713016, ..., -1.4063764 ,\n",
       "         0.20259726, -0.89119844],\n",
       "       ...,\n",
       "       [ 0.01155917,  0.76725384,  0.49664469, ...,  1.01517696,\n",
       "         1.8376255 ,  0.82732347],\n",
       "       [ 0.02162959,  0.83062024,  0.5000313 , ...,  1.00093169,\n",
       "         1.84888726,  0.84775605],\n",
       "       [ 0.03170001,  0.89398665,  0.50341791, ...,  0.98668643,\n",
       "         1.86014901,  0.86818863]])"
      ]
     },
     "execution_count": 169,
     "metadata": {},
     "output_type": "execute_result"
    }
   ],
   "source": [
    "x_test_filter_LR_st.values"
   ]
  },
  {
   "cell_type": "code",
   "execution_count": 170,
   "id": "e0b8fd50",
   "metadata": {},
   "outputs": [
    {
     "data": {
      "text/plain": [
       "(236894, 32)"
      ]
     },
     "execution_count": 170,
     "metadata": {},
     "output_type": "execute_result"
    }
   ],
   "source": [
    "x_test_filter_LR_st.shape"
   ]
  },
  {
   "cell_type": "markdown",
   "id": "e217ad3a",
   "metadata": {},
   "source": [
    "Filter [0 0 0 0 0 0] from the data"
   ]
  },
  {
   "cell_type": "code",
   "execution_count": 171,
   "id": "bb064a2c",
   "metadata": {},
   "outputs": [],
   "source": [
    "x_data_filter, y_data_filter = filter_dataset(x_train_filter_LR_st.values, y_data)"
   ]
  },
  {
   "cell_type": "code",
   "execution_count": 172,
   "id": "470d7d81",
   "metadata": {},
   "outputs": [
    {
     "data": {
      "text/plain": [
       "(132965, 20, 32)"
      ]
     },
     "execution_count": 172,
     "metadata": {},
     "output_type": "execute_result"
    }
   ],
   "source": [
    "x_data_filter.shape"
   ]
  },
  {
   "cell_type": "code",
   "execution_count": 173,
   "id": "5740f416",
   "metadata": {},
   "outputs": [
    {
     "data": {
      "text/plain": [
       "(132965, 6)"
      ]
     },
     "execution_count": 173,
     "metadata": {},
     "output_type": "execute_result"
    }
   ],
   "source": [
    "y_data_filter.shape"
   ]
  },
  {
   "cell_type": "code",
   "execution_count": 174,
   "id": "b2197856",
   "metadata": {},
   "outputs": [],
   "source": [
    "x_ts_data_filter, y_ts_data_filter = filter_dataset(x_test_filter_LR_st.values, y_ts_data)"
   ]
  },
  {
   "cell_type": "code",
   "execution_count": 175,
   "id": "b53ef405",
   "metadata": {},
   "outputs": [
    {
     "data": {
      "text/plain": [
       "(45838, 20, 32)"
      ]
     },
     "execution_count": 175,
     "metadata": {},
     "output_type": "execute_result"
    }
   ],
   "source": [
    "x_ts_data_filter.shape"
   ]
  },
  {
   "cell_type": "code",
   "execution_count": 176,
   "id": "7c13aac7",
   "metadata": {},
   "outputs": [
    {
     "data": {
      "text/plain": [
       "(45838, 6)"
      ]
     },
     "execution_count": 176,
     "metadata": {},
     "output_type": "execute_result"
    }
   ],
   "source": [
    "y_ts_data_filter.shape"
   ]
  },
  {
   "cell_type": "markdown",
   "id": "5070eab4",
   "metadata": {},
   "source": [
    "Shuffle"
   ]
  },
  {
   "cell_type": "code",
   "execution_count": 177,
   "id": "c418d9c2",
   "metadata": {},
   "outputs": [],
   "source": [
    "x_data_filter, y_data_filter = utils.shuffle(x_data_filter, y_data_filter)"
   ]
  },
  {
   "cell_type": "code",
   "execution_count": 178,
   "id": "b71e8dbd",
   "metadata": {},
   "outputs": [
    {
     "data": {
      "text/plain": [
       "(132965, 20, 32)"
      ]
     },
     "execution_count": 178,
     "metadata": {},
     "output_type": "execute_result"
    }
   ],
   "source": [
    "x_data_filter.shape"
   ]
  },
  {
   "cell_type": "code",
   "execution_count": 179,
   "id": "aa501ee2",
   "metadata": {},
   "outputs": [
    {
     "data": {
      "text/plain": [
       "(132965, 6)"
      ]
     },
     "execution_count": 179,
     "metadata": {},
     "output_type": "execute_result"
    }
   ],
   "source": [
    "y_data_filter.shape"
   ]
  },
  {
   "cell_type": "markdown",
   "id": "e56c0351",
   "metadata": {},
   "source": [
    "Model"
   ]
  },
  {
   "cell_type": "code",
   "execution_count": 180,
   "id": "0e7de87a",
   "metadata": {},
   "outputs": [
    {
     "name": "stderr",
     "output_type": "stream",
     "text": [
      "C:\\Users\\User\\anaconda3\\envs\\modelop_gpu\\lib\\site-packages\\tensorflow\\python\\keras\\optimizer_v2\\optimizer_v2.py:374: UserWarning: The `lr` argument is deprecated, use `learning_rate` instead.\n",
      "  warnings.warn(\n"
     ]
    },
    {
     "name": "stdout",
     "output_type": "stream",
     "text": [
      "Model: \"sequential_6\"\n",
      "_________________________________________________________________\n",
      "Layer (type)                 Output Shape              Param #   \n",
      "=================================================================\n",
      "lstm_24 (LSTM)               (None, 20, 128)           82432     \n",
      "_________________________________________________________________\n",
      "dropout_18 (Dropout)         (None, 20, 128)           0         \n",
      "_________________________________________________________________\n",
      "lstm_25 (LSTM)               (None, 20, 128)           131584    \n",
      "_________________________________________________________________\n",
      "dropout_19 (Dropout)         (None, 20, 128)           0         \n",
      "_________________________________________________________________\n",
      "lstm_26 (LSTM)               (None, 20, 128)           131584    \n",
      "_________________________________________________________________\n",
      "dropout_20 (Dropout)         (None, 20, 128)           0         \n",
      "_________________________________________________________________\n",
      "lstm_27 (LSTM)               (None, 128)               131584    \n",
      "_________________________________________________________________\n",
      "dense_12 (Dense)             (None, 32)                4128      \n",
      "_________________________________________________________________\n",
      "dense_13 (Dense)             (None, 6)                 198       \n",
      "=================================================================\n",
      "Total params: 481,510\n",
      "Trainable params: 481,510\n",
      "Non-trainable params: 0\n",
      "_________________________________________________________________\n",
      "Epoch 1/30\n",
      "1870/1870 [==============================] - 32s 15ms/step - loss: 0.1239 - accuracy: 0.7964 - val_loss: 0.0516 - val_accuracy: 0.8766\n",
      "Epoch 2/30\n",
      "1870/1870 [==============================] - 27s 14ms/step - loss: 0.0554 - accuracy: 0.8609 - val_loss: 0.0378 - val_accuracy: 0.8612\n",
      "Epoch 3/30\n",
      "1870/1870 [==============================] - 25s 13ms/step - loss: 0.0451 - accuracy: 0.8617 - val_loss: 0.0308 - val_accuracy: 0.8606\n",
      "Epoch 4/30\n",
      "1870/1870 [==============================] - 26s 14ms/step - loss: 0.0363 - accuracy: 0.8620 - val_loss: 0.0256 - val_accuracy: 0.8631\n",
      "Epoch 5/30\n",
      "1870/1870 [==============================] - 26s 14ms/step - loss: 0.0349 - accuracy: 0.8607 - val_loss: 0.0269 - val_accuracy: 0.8685\n",
      "Epoch 6/30\n",
      "1870/1870 [==============================] - 26s 14ms/step - loss: 0.0297 - accuracy: 0.8623 - val_loss: 0.0231 - val_accuracy: 0.8602\n",
      "Epoch 7/30\n",
      "1870/1870 [==============================] - 27s 14ms/step - loss: 0.0266 - accuracy: 0.8608 - val_loss: 0.0193 - val_accuracy: 0.8460\n",
      "Epoch 8/30\n",
      "1870/1870 [==============================] - 27s 15ms/step - loss: 0.0259 - accuracy: 0.8575 - val_loss: 0.0201 - val_accuracy: 0.8565\n",
      "Epoch 9/30\n",
      "1870/1870 [==============================] - 26s 14ms/step - loss: 0.0240 - accuracy: 0.8606 - val_loss: 0.0190 - val_accuracy: 0.8533\n",
      "Epoch 10/30\n",
      "1870/1870 [==============================] - 27s 15ms/step - loss: 0.0216 - accuracy: 0.8595 - val_loss: 0.0190 - val_accuracy: 0.8563\n",
      "Epoch 11/30\n",
      "1870/1870 [==============================] - 28s 15ms/step - loss: 0.0215 - accuracy: 0.8632 - val_loss: 0.0169 - val_accuracy: 0.8617\n",
      "Epoch 12/30\n",
      "1870/1870 [==============================] - 27s 15ms/step - loss: 0.0203 - accuracy: 0.8581 - val_loss: 0.0148 - val_accuracy: 0.8637\n",
      "Epoch 13/30\n",
      "1870/1870 [==============================] - 26s 14ms/step - loss: 0.0181 - accuracy: 0.8569 - val_loss: 0.0161 - val_accuracy: 0.8466\n",
      "Epoch 14/30\n",
      "1870/1870 [==============================] - 26s 14ms/step - loss: 0.0176 - accuracy: 0.8623 - val_loss: 0.0162 - val_accuracy: 0.8518\n",
      "Epoch 15/30\n",
      "1870/1870 [==============================] - 27s 14ms/step - loss: 0.0171 - accuracy: 0.8645 - val_loss: 0.0154 - val_accuracy: 0.8636\n",
      "Epoch 16/30\n",
      "1870/1870 [==============================] - 27s 15ms/step - loss: 0.0169 - accuracy: 0.8670 - val_loss: 0.0121 - val_accuracy: 0.8905\n",
      "Epoch 17/30\n",
      "1870/1870 [==============================] - 27s 14ms/step - loss: 0.0156 - accuracy: 0.8756 - val_loss: 0.0160 - val_accuracy: 0.8837\n",
      "Epoch 18/30\n",
      "1870/1870 [==============================] - 27s 14ms/step - loss: 0.0155 - accuracy: 0.8664 - val_loss: 0.0125 - val_accuracy: 0.8560\n",
      "Epoch 19/30\n",
      "1870/1870 [==============================] - 27s 15ms/step - loss: 0.0145 - accuracy: 0.8711 - val_loss: 0.0142 - val_accuracy: 0.8729\n",
      "Epoch 20/30\n",
      "1870/1870 [==============================] - 27s 14ms/step - loss: 0.0153 - accuracy: 0.8643 - val_loss: 0.0109 - val_accuracy: 0.8697\n",
      "Epoch 21/30\n",
      "1870/1870 [==============================] - 27s 15ms/step - loss: 0.0133 - accuracy: 0.8652 - val_loss: 0.0114 - val_accuracy: 0.8682\n",
      "Epoch 22/30\n",
      "1870/1870 [==============================] - 27s 14ms/step - loss: 0.0152 - accuracy: 0.8668 - val_loss: 0.0119 - val_accuracy: 0.8683\n",
      "Epoch 23/30\n",
      "1870/1870 [==============================] - 27s 15ms/step - loss: 0.0131 - accuracy: 0.8639 - val_loss: 0.0112 - val_accuracy: 0.8585\n",
      "Epoch 24/30\n",
      "1870/1870 [==============================] - 27s 14ms/step - loss: 0.0138 - accuracy: 0.8691 - val_loss: 0.0100 - val_accuracy: 0.8589\n",
      "Epoch 25/30\n",
      "1870/1870 [==============================] - 27s 15ms/step - loss: 0.0126 - accuracy: 0.8632 - val_loss: 0.0093 - val_accuracy: 0.8604\n",
      "Epoch 26/30\n",
      "1870/1870 [==============================] - 27s 14ms/step - loss: 0.0132 - accuracy: 0.8609 - val_loss: 0.0117 - val_accuracy: 0.8782\n",
      "Epoch 27/30\n",
      "1870/1870 [==============================] - 27s 14ms/step - loss: 0.0126 - accuracy: 0.8644 - val_loss: 0.0096 - val_accuracy: 0.8656\n",
      "Epoch 28/30\n",
      "1870/1870 [==============================] - 27s 14ms/step - loss: 0.0120 - accuracy: 0.8618 - val_loss: 0.0102 - val_accuracy: 0.8602\n",
      "Epoch 29/30\n",
      "1870/1870 [==============================] - 27s 14ms/step - loss: 0.0125 - accuracy: 0.8606 - val_loss: 0.0089 - val_accuracy: 0.8637\n",
      "Epoch 30/30\n",
      "1870/1870 [==============================] - 27s 14ms/step - loss: 0.0114 - accuracy: 0.8663 - val_loss: 0.0100 - val_accuracy: 0.8558\n"
     ]
    },
    {
     "data": {
      "text/plain": [
       "<tensorflow.python.keras.callbacks.History at 0x1dd56b938b0>"
      ]
     },
     "execution_count": 180,
     "metadata": {},
     "output_type": "execute_result"
    }
   ],
   "source": [
    "model_with_LG_standard = LSTM_model(32)\n",
    "model_with_LG_standard.fit(x_data_filter, y_data_filter, epochs=30, batch_size=64, validation_split=0.1)"
   ]
  },
  {
   "cell_type": "code",
   "execution_count": 181,
   "id": "482fa26e",
   "metadata": {},
   "outputs": [],
   "source": [
    "model_with_LG_standard.save(\"modelop/LSTM/LSTM_with_LR25_standard.h5\")"
   ]
  },
  {
   "cell_type": "markdown",
   "id": "f1aa53d4",
   "metadata": {},
   "source": [
    "Evaluate"
   ]
  },
  {
   "cell_type": "code",
   "execution_count": 182,
   "id": "423e1347",
   "metadata": {},
   "outputs": [
    {
     "name": "stdout",
     "output_type": "stream",
     "text": [
      "Model: \"sequential_6\"\n",
      "_________________________________________________________________\n",
      "Layer (type)                 Output Shape              Param #   \n",
      "=================================================================\n",
      "lstm_24 (LSTM)               (None, 20, 128)           82432     \n",
      "_________________________________________________________________\n",
      "dropout_18 (Dropout)         (None, 20, 128)           0         \n",
      "_________________________________________________________________\n",
      "lstm_25 (LSTM)               (None, 20, 128)           131584    \n",
      "_________________________________________________________________\n",
      "dropout_19 (Dropout)         (None, 20, 128)           0         \n",
      "_________________________________________________________________\n",
      "lstm_26 (LSTM)               (None, 20, 128)           131584    \n",
      "_________________________________________________________________\n",
      "dropout_20 (Dropout)         (None, 20, 128)           0         \n",
      "_________________________________________________________________\n",
      "lstm_27 (LSTM)               (None, 128)               131584    \n",
      "_________________________________________________________________\n",
      "dense_12 (Dense)             (None, 32)                4128      \n",
      "_________________________________________________________________\n",
      "dense_13 (Dense)             (None, 6)                 198       \n",
      "=================================================================\n",
      "Total params: 481,510\n",
      "Trainable params: 481,510\n",
      "Non-trainable params: 0\n",
      "_________________________________________________________________\n"
     ]
    }
   ],
   "source": [
    "model = load_model(\"modelop/LSTM/LSTM_with_LR25_standard.h5\")\n",
    "model.summary()"
   ]
  },
  {
   "cell_type": "code",
   "execution_count": 183,
   "id": "20c2d5d0",
   "metadata": {},
   "outputs": [
    {
     "name": "stdout",
     "output_type": "stream",
     "text": [
      "1433/1433 [==============================] - 12s 7ms/step - loss: 1.0909 - accuracy: 0.6679\n"
     ]
    },
    {
     "data": {
      "text/plain": [
       "[1.0909132957458496, 0.6678737998008728]"
      ]
     },
     "execution_count": 183,
     "metadata": {},
     "output_type": "execute_result"
    }
   ],
   "source": [
    "model.evaluate(x_ts_data_filter, y_ts_data_filter)"
   ]
  },
  {
   "cell_type": "markdown",
   "id": "80882441",
   "metadata": {},
   "source": [
    "# With linear regression and standardization (segment length = 50)"
   ]
  },
  {
   "cell_type": "markdown",
   "id": "520d320b",
   "metadata": {},
   "source": [
    "Training data with Linear regression and standardization"
   ]
  },
  {
   "cell_type": "code",
   "execution_count": 184,
   "id": "4cb74c36",
   "metadata": {},
   "outputs": [],
   "source": [
    "x_train_filter_LR = linearregression_allsignal(x_data, 50)"
   ]
  },
  {
   "cell_type": "code",
   "execution_count": 185,
   "id": "0f8507df",
   "metadata": {},
   "outputs": [
    {
     "data": {
      "text/plain": [
       "array([[ -32.08      ,  304.70588235,  235.83764706, ...,  133.62117647,\n",
       "          37.05882353,  585.42117647],\n",
       "       [ -28.16653061,  307.66890756,  238.19284514, ...,  134.65133253,\n",
       "          37.8972389 ,  586.19990396],\n",
       "       [ -24.25306122,  310.63193277,  240.54804322, ...,  135.6814886 ,\n",
       "          38.73565426,  586.97863145],\n",
       "       ...,\n",
       "       [ 159.4406933 ,   75.04409104,  100.83964756, ..., -203.14922565,\n",
       "        -202.30981329, -261.09634173],\n",
       "       [ 158.69568679,   73.87366117,   98.08606528, ..., -205.12903459,\n",
       "        -204.0248046 , -261.84791576],\n",
       "       [ 157.95068027,   72.70323129,   95.33248299, ..., -207.10884354,\n",
       "        -205.73979592, -262.5994898 ]])"
      ]
     },
     "execution_count": 185,
     "metadata": {},
     "output_type": "execute_result"
    }
   ],
   "source": [
    "x_train_filter_LR"
   ]
  },
  {
   "cell_type": "code",
   "execution_count": 186,
   "id": "38a3339e",
   "metadata": {},
   "outputs": [
    {
     "data": {
      "text/plain": [
       "(1185498, 32)"
      ]
     },
     "execution_count": 186,
     "metadata": {},
     "output_type": "execute_result"
    }
   ],
   "source": [
    "x_train_filter_LR.shape"
   ]
  },
  {
   "cell_type": "code",
   "execution_count": 187,
   "id": "db7cca59",
   "metadata": {},
   "outputs": [],
   "source": [
    "x_train_filter_LR_st = StandardScaler().fit_transform(x_train_filter_LR)\n",
    "x_train_filter_LR_st = pd.DataFrame(x_train_filter_LR_st)\n",
    "y=pd.DataFrame(y_data)"
   ]
  },
  {
   "cell_type": "code",
   "execution_count": 188,
   "id": "13177e04",
   "metadata": {},
   "outputs": [
    {
     "data": {
      "text/plain": [
       "array([[-0.66849868, -0.05511419, -0.75640357, ...,  0.46151682,\n",
       "         0.31750334,  2.26727874],\n",
       "       [-0.65719394, -0.04482777, -0.74388335, ...,  0.467438  ,\n",
       "         0.32191889,  2.27110411],\n",
       "       [-0.64588919, -0.03454136, -0.73136313, ...,  0.47335918,\n",
       "         0.32633444,  2.27492948],\n",
       "       ...,\n",
       "       [-0.11525755, -0.85240615, -1.47405208, ..., -1.47418779,\n",
       "        -0.94314201, -1.89109865],\n",
       "       [-0.11740963, -0.85646941, -1.4886901 , ..., -1.48556743,\n",
       "        -0.95217408, -1.89479064],\n",
       "       [-0.11956172, -0.86053266, -1.50332813, ..., -1.49694706,\n",
       "        -0.96120616, -1.89848262]])"
      ]
     },
     "execution_count": 188,
     "metadata": {},
     "output_type": "execute_result"
    }
   ],
   "source": [
    "x_train_filter_LR_st.values"
   ]
  },
  {
   "cell_type": "code",
   "execution_count": 189,
   "id": "035c4906",
   "metadata": {},
   "outputs": [
    {
     "data": {
      "text/plain": [
       "(1185498, 32)"
      ]
     },
     "execution_count": 189,
     "metadata": {},
     "output_type": "execute_result"
    }
   ],
   "source": [
    "x_train_filter_LR_st.shape"
   ]
  },
  {
   "cell_type": "markdown",
   "id": "d85808e0",
   "metadata": {},
   "source": [
    "Testing data with Linear regression and standardization"
   ]
  },
  {
   "cell_type": "code",
   "execution_count": 190,
   "id": "e218d800",
   "metadata": {},
   "outputs": [],
   "source": [
    "x_test_filter_LR = linearregression_allsignal(x_ts_data, 50)"
   ]
  },
  {
   "cell_type": "code",
   "execution_count": 191,
   "id": "f561ee46",
   "metadata": {},
   "outputs": [
    {
     "data": {
      "text/plain": [
       "array([[-139.97647059,   46.02823529,  339.86823529, ..., -183.43764706,\n",
       "         -17.55529412,  -84.72941176],\n",
       "       [-137.61498199,   47.4630012 ,  340.95116447, ..., -182.87529412,\n",
       "         -15.76364946,  -82.96494598],\n",
       "       [-135.2534934 ,   48.89776711,  342.03409364, ..., -182.31294118,\n",
       "         -13.9720048 ,  -81.20048019],\n",
       "       ...,\n",
       "       [ 134.23424947,  267.29915433,  392.08689218, ...,  165.32325581,\n",
       "         245.75877378,  194.27019027],\n",
       "       [ 135.82318534,  268.65715292,  394.22071882, ...,  168.57526427,\n",
       "         248.68696265,  197.93206483],\n",
       "       [ 137.41212121,  270.01515152,  396.35454545, ...,  171.82727273,\n",
       "         251.61515152,  201.59393939]])"
      ]
     },
     "execution_count": 191,
     "metadata": {},
     "output_type": "execute_result"
    }
   ],
   "source": [
    "x_test_filter_LR"
   ]
  },
  {
   "cell_type": "code",
   "execution_count": 192,
   "id": "d63be273",
   "metadata": {},
   "outputs": [
    {
     "data": {
      "text/plain": [
       "(236894, 32)"
      ]
     },
     "execution_count": 192,
     "metadata": {},
     "output_type": "execute_result"
    }
   ],
   "source": [
    "x_test_filter_LR.shape"
   ]
  },
  {
   "cell_type": "code",
   "execution_count": 193,
   "id": "805a248c",
   "metadata": {},
   "outputs": [],
   "source": [
    "x_test_filter_LR_st = StandardScaler().fit_transform(x_test_filter_LR)\n",
    "x_test_filter_LR_st = pd.DataFrame(x_test_filter_LR_st)\n",
    "y_test=pd.DataFrame(y_ts_data)"
   ]
  },
  {
   "cell_type": "code",
   "execution_count": 194,
   "id": "3cfe3324",
   "metadata": {},
   "outputs": [
    {
     "data": {
      "text/plain": [
       "array([[-0.49115883, -0.67318573,  0.20409822, ..., -1.50631671,\n",
       "         0.18647417, -0.94879425],\n",
       "       [-0.48718804, -0.66601153,  0.2114131 , ..., -1.50197685,\n",
       "         0.19747094, -0.93727252],\n",
       "       [-0.48321725, -0.65883732,  0.21872798, ..., -1.49763699,\n",
       "         0.20846771, -0.92575078],\n",
       "       ...,\n",
       "       [-0.03007995,  0.4332262 ,  0.55682049, ...,  1.18518241,\n",
       "         1.80264543,  0.87303699],\n",
       "       [-0.0274082 ,  0.44001654,  0.57123388, ...,  1.2102792 ,\n",
       "         1.82061809,  0.89694856],\n",
       "       [-0.02473644,  0.44680689,  0.58564728, ...,  1.23537598,\n",
       "         1.83859075,  0.92086012]])"
      ]
     },
     "execution_count": 194,
     "metadata": {},
     "output_type": "execute_result"
    }
   ],
   "source": [
    "x_test_filter_LR_st.values"
   ]
  },
  {
   "cell_type": "code",
   "execution_count": 195,
   "id": "25a3a540",
   "metadata": {},
   "outputs": [
    {
     "data": {
      "text/plain": [
       "(236894, 32)"
      ]
     },
     "execution_count": 195,
     "metadata": {},
     "output_type": "execute_result"
    }
   ],
   "source": [
    "x_test_filter_LR_st.shape"
   ]
  },
  {
   "cell_type": "markdown",
   "id": "ef5e78e8",
   "metadata": {},
   "source": [
    "Filter [0 0 0 0 0 0] from the data"
   ]
  },
  {
   "cell_type": "code",
   "execution_count": 196,
   "id": "b2f249b8",
   "metadata": {},
   "outputs": [],
   "source": [
    "x_data_filter, y_data_filter = filter_dataset(x_train_filter_LR_st.values, y_data)"
   ]
  },
  {
   "cell_type": "code",
   "execution_count": 197,
   "id": "e5054a1d",
   "metadata": {},
   "outputs": [
    {
     "data": {
      "text/plain": [
       "(132965, 20, 32)"
      ]
     },
     "execution_count": 197,
     "metadata": {},
     "output_type": "execute_result"
    }
   ],
   "source": [
    "x_data_filter.shape"
   ]
  },
  {
   "cell_type": "code",
   "execution_count": 198,
   "id": "3b9c6835",
   "metadata": {},
   "outputs": [
    {
     "data": {
      "text/plain": [
       "(132965, 6)"
      ]
     },
     "execution_count": 198,
     "metadata": {},
     "output_type": "execute_result"
    }
   ],
   "source": [
    "y_data_filter.shape"
   ]
  },
  {
   "cell_type": "code",
   "execution_count": 199,
   "id": "e7ebc2e3",
   "metadata": {},
   "outputs": [],
   "source": [
    "x_ts_data_filter, y_ts_data_filter = filter_dataset(x_test_filter_LR_st.values, y_ts_data)"
   ]
  },
  {
   "cell_type": "code",
   "execution_count": 200,
   "id": "495a4c90",
   "metadata": {},
   "outputs": [
    {
     "data": {
      "text/plain": [
       "(45838, 20, 32)"
      ]
     },
     "execution_count": 200,
     "metadata": {},
     "output_type": "execute_result"
    }
   ],
   "source": [
    "x_ts_data_filter.shape"
   ]
  },
  {
   "cell_type": "code",
   "execution_count": 201,
   "id": "becac952",
   "metadata": {},
   "outputs": [
    {
     "data": {
      "text/plain": [
       "(45838, 6)"
      ]
     },
     "execution_count": 201,
     "metadata": {},
     "output_type": "execute_result"
    }
   ],
   "source": [
    "y_ts_data_filter.shape"
   ]
  },
  {
   "cell_type": "markdown",
   "id": "312a0e75",
   "metadata": {},
   "source": [
    "Shuffle"
   ]
  },
  {
   "cell_type": "code",
   "execution_count": 202,
   "id": "8d95ecc7",
   "metadata": {},
   "outputs": [],
   "source": [
    "x_data_filter, y_data_filter = utils.shuffle(x_data_filter, y_data_filter)"
   ]
  },
  {
   "cell_type": "code",
   "execution_count": 203,
   "id": "ff50f623",
   "metadata": {},
   "outputs": [
    {
     "data": {
      "text/plain": [
       "(132965, 20, 32)"
      ]
     },
     "execution_count": 203,
     "metadata": {},
     "output_type": "execute_result"
    }
   ],
   "source": [
    "x_data_filter.shape"
   ]
  },
  {
   "cell_type": "code",
   "execution_count": 204,
   "id": "7efd29fb",
   "metadata": {},
   "outputs": [
    {
     "data": {
      "text/plain": [
       "(132965, 6)"
      ]
     },
     "execution_count": 204,
     "metadata": {},
     "output_type": "execute_result"
    }
   ],
   "source": [
    "y_data_filter.shape"
   ]
  },
  {
   "cell_type": "markdown",
   "id": "525a25c9",
   "metadata": {},
   "source": [
    "Model"
   ]
  },
  {
   "cell_type": "code",
   "execution_count": 205,
   "id": "d3e94235",
   "metadata": {},
   "outputs": [
    {
     "name": "stderr",
     "output_type": "stream",
     "text": [
      "C:\\Users\\User\\anaconda3\\envs\\modelop_gpu\\lib\\site-packages\\tensorflow\\python\\keras\\optimizer_v2\\optimizer_v2.py:374: UserWarning: The `lr` argument is deprecated, use `learning_rate` instead.\n",
      "  warnings.warn(\n"
     ]
    },
    {
     "name": "stdout",
     "output_type": "stream",
     "text": [
      "Model: \"sequential_7\"\n",
      "_________________________________________________________________\n",
      "Layer (type)                 Output Shape              Param #   \n",
      "=================================================================\n",
      "lstm_28 (LSTM)               (None, 20, 128)           82432     \n",
      "_________________________________________________________________\n",
      "dropout_21 (Dropout)         (None, 20, 128)           0         \n",
      "_________________________________________________________________\n",
      "lstm_29 (LSTM)               (None, 20, 128)           131584    \n",
      "_________________________________________________________________\n",
      "dropout_22 (Dropout)         (None, 20, 128)           0         \n",
      "_________________________________________________________________\n",
      "lstm_30 (LSTM)               (None, 20, 128)           131584    \n",
      "_________________________________________________________________\n",
      "dropout_23 (Dropout)         (None, 20, 128)           0         \n",
      "_________________________________________________________________\n",
      "lstm_31 (LSTM)               (None, 128)               131584    \n",
      "_________________________________________________________________\n",
      "dense_14 (Dense)             (None, 32)                4128      \n",
      "_________________________________________________________________\n",
      "dense_15 (Dense)             (None, 6)                 198       \n",
      "=================================================================\n",
      "Total params: 481,510\n",
      "Trainable params: 481,510\n",
      "Non-trainable params: 0\n",
      "_________________________________________________________________\n",
      "Epoch 1/30\n",
      "1870/1870 [==============================] - 31s 15ms/step - loss: 0.1343 - accuracy: 0.7702 - val_loss: 0.0639 - val_accuracy: 0.8434\n",
      "Epoch 2/30\n",
      "1870/1870 [==============================] - 26s 14ms/step - loss: 0.0530 - accuracy: 0.8535 - val_loss: 0.0408 - val_accuracy: 0.8688\n",
      "Epoch 3/30\n",
      "1870/1870 [==============================] - 27s 14ms/step - loss: 0.0429 - accuracy: 0.8577 - val_loss: 0.0320 - val_accuracy: 0.8327\n",
      "Epoch 4/30\n",
      "1870/1870 [==============================] - 26s 14ms/step - loss: 0.0368 - accuracy: 0.8553 - val_loss: 0.0393 - val_accuracy: 0.8767\n",
      "Epoch 5/30\n",
      "1870/1870 [==============================] - 26s 14ms/step - loss: 0.0316 - accuracy: 0.8588 - val_loss: 0.0351 - val_accuracy: 0.8356\n",
      "Epoch 6/30\n",
      "1870/1870 [==============================] - 26s 14ms/step - loss: 0.0302 - accuracy: 0.8611 - val_loss: 0.0234 - val_accuracy: 0.8457\n",
      "Epoch 7/30\n",
      "1870/1870 [==============================] - 26s 14ms/step - loss: 0.0264 - accuracy: 0.8639 - val_loss: 0.0251 - val_accuracy: 0.8559\n",
      "Epoch 8/30\n",
      "1870/1870 [==============================] - 26s 14ms/step - loss: 0.0263 - accuracy: 0.8645 - val_loss: 0.0206 - val_accuracy: 0.8593\n",
      "Epoch 9/30\n",
      "1870/1870 [==============================] - 26s 14ms/step - loss: 0.0239 - accuracy: 0.8657 - val_loss: 0.0187 - val_accuracy: 0.8679\n",
      "Epoch 10/30\n",
      "1870/1870 [==============================] - 26s 14ms/step - loss: 0.0222 - accuracy: 0.8674 - val_loss: 0.0218 - val_accuracy: 0.8676\n",
      "Epoch 11/30\n",
      "1870/1870 [==============================] - 26s 14ms/step - loss: 0.0224 - accuracy: 0.8717 - val_loss: 0.0193 - val_accuracy: 0.8468\n",
      "Epoch 12/30\n",
      "1870/1870 [==============================] - 27s 14ms/step - loss: 0.0197 - accuracy: 0.8651 - val_loss: 0.0172 - val_accuracy: 0.8531\n",
      "Epoch 13/30\n",
      "1870/1870 [==============================] - 26s 14ms/step - loss: 0.0195 - accuracy: 0.8668 - val_loss: 0.0168 - val_accuracy: 0.8506\n",
      "Epoch 14/30\n",
      "1870/1870 [==============================] - 27s 14ms/step - loss: 0.0187 - accuracy: 0.8702 - val_loss: 0.0157 - val_accuracy: 0.8831\n",
      "Epoch 15/30\n",
      "1870/1870 [==============================] - 26s 14ms/step - loss: 0.0178 - accuracy: 0.8681 - val_loss: 0.0182 - val_accuracy: 0.8431\n",
      "Epoch 16/30\n",
      "1870/1870 [==============================] - 27s 14ms/step - loss: 0.0196 - accuracy: 0.8698 - val_loss: 0.0174 - val_accuracy: 0.8793\n",
      "Epoch 17/30\n",
      "1870/1870 [==============================] - 26s 14ms/step - loss: 0.0178 - accuracy: 0.8733 - val_loss: 0.0176 - val_accuracy: 0.8564\n",
      "Epoch 18/30\n",
      "1870/1870 [==============================] - 26s 14ms/step - loss: 0.0170 - accuracy: 0.8728 - val_loss: 0.0132 - val_accuracy: 0.8642\n",
      "Epoch 19/30\n",
      "1870/1870 [==============================] - 26s 14ms/step - loss: 0.0169 - accuracy: 0.8726 - val_loss: 0.0145 - val_accuracy: 0.8637\n",
      "Epoch 20/30\n",
      "1870/1870 [==============================] - 26s 14ms/step - loss: 0.0156 - accuracy: 0.8719 - val_loss: 0.0148 - val_accuracy: 0.8788\n",
      "Epoch 21/30\n",
      "1870/1870 [==============================] - 27s 14ms/step - loss: 0.0153 - accuracy: 0.8707 - val_loss: 0.0117 - val_accuracy: 0.8582\n",
      "Epoch 22/30\n",
      "1870/1870 [==============================] - 26s 14ms/step - loss: 0.0151 - accuracy: 0.8664 - val_loss: 0.0133 - val_accuracy: 0.8683\n",
      "Epoch 23/30\n",
      "1870/1870 [==============================] - 27s 14ms/step - loss: 0.0161 - accuracy: 0.8733 - val_loss: 0.0128 - val_accuracy: 0.8758\n",
      "Epoch 24/30\n",
      "1870/1870 [==============================] - 26s 14ms/step - loss: 0.0143 - accuracy: 0.8752 - val_loss: 0.0129 - val_accuracy: 0.8590\n",
      "Epoch 25/30\n",
      "1870/1870 [==============================] - 26s 14ms/step - loss: 0.0148 - accuracy: 0.8735 - val_loss: 0.0133 - val_accuracy: 0.8606\n",
      "Epoch 26/30\n",
      "1870/1870 [==============================] - 26s 14ms/step - loss: 0.0141 - accuracy: 0.8748 - val_loss: 0.0137 - val_accuracy: 0.8595\n",
      "Epoch 27/30\n",
      "1870/1870 [==============================] - 26s 14ms/step - loss: 0.0138 - accuracy: 0.8721 - val_loss: 0.0120 - val_accuracy: 0.8664\n",
      "Epoch 28/30\n",
      "1870/1870 [==============================] - 26s 14ms/step - loss: 0.0133 - accuracy: 0.8662 - val_loss: 0.0122 - val_accuracy: 0.8837\n",
      "Epoch 29/30\n",
      "1870/1870 [==============================] - 26s 14ms/step - loss: 0.0144 - accuracy: 0.8762 - val_loss: 0.0107 - val_accuracy: 0.8678\n",
      "Epoch 30/30\n",
      "1870/1870 [==============================] - 26s 14ms/step - loss: 0.0126 - accuracy: 0.8780 - val_loss: 0.0116 - val_accuracy: 0.8750\n"
     ]
    },
    {
     "data": {
      "text/plain": [
       "<tensorflow.python.keras.callbacks.History at 0x1de2e48f280>"
      ]
     },
     "execution_count": 205,
     "metadata": {},
     "output_type": "execute_result"
    }
   ],
   "source": [
    "model_with_LG_standard = LSTM_model(32)\n",
    "model_with_LG_standard.fit(x_data_filter, y_data_filter, epochs=30, batch_size=64, validation_split=0.1)"
   ]
  },
  {
   "cell_type": "code",
   "execution_count": 206,
   "id": "5634ba26",
   "metadata": {},
   "outputs": [],
   "source": [
    "model_with_LG_standard.save(\"modelop/LSTM/LSTM_with_LR50_standard.h5\")"
   ]
  },
  {
   "cell_type": "markdown",
   "id": "7f68e0d9",
   "metadata": {},
   "source": [
    "Evaluate"
   ]
  },
  {
   "cell_type": "code",
   "execution_count": 207,
   "id": "b273aaa3",
   "metadata": {},
   "outputs": [
    {
     "name": "stdout",
     "output_type": "stream",
     "text": [
      "Model: \"sequential_7\"\n",
      "_________________________________________________________________\n",
      "Layer (type)                 Output Shape              Param #   \n",
      "=================================================================\n",
      "lstm_28 (LSTM)               (None, 20, 128)           82432     \n",
      "_________________________________________________________________\n",
      "dropout_21 (Dropout)         (None, 20, 128)           0         \n",
      "_________________________________________________________________\n",
      "lstm_29 (LSTM)               (None, 20, 128)           131584    \n",
      "_________________________________________________________________\n",
      "dropout_22 (Dropout)         (None, 20, 128)           0         \n",
      "_________________________________________________________________\n",
      "lstm_30 (LSTM)               (None, 20, 128)           131584    \n",
      "_________________________________________________________________\n",
      "dropout_23 (Dropout)         (None, 20, 128)           0         \n",
      "_________________________________________________________________\n",
      "lstm_31 (LSTM)               (None, 128)               131584    \n",
      "_________________________________________________________________\n",
      "dense_14 (Dense)             (None, 32)                4128      \n",
      "_________________________________________________________________\n",
      "dense_15 (Dense)             (None, 6)                 198       \n",
      "=================================================================\n",
      "Total params: 481,510\n",
      "Trainable params: 481,510\n",
      "Non-trainable params: 0\n",
      "_________________________________________________________________\n"
     ]
    }
   ],
   "source": [
    "model = load_model(\"modelop/LSTM/LSTM_with_LR50_standard.h5\")\n",
    "model.summary()"
   ]
  },
  {
   "cell_type": "code",
   "execution_count": 208,
   "id": "57a63e5d",
   "metadata": {},
   "outputs": [
    {
     "name": "stdout",
     "output_type": "stream",
     "text": [
      "1433/1433 [==============================] - 11s 7ms/step - loss: 1.1609 - accuracy: 0.6579\n"
     ]
    },
    {
     "data": {
      "text/plain": [
       "[1.1608740091323853, 0.657860279083252]"
      ]
     },
     "execution_count": 208,
     "metadata": {},
     "output_type": "execute_result"
    }
   ],
   "source": [
    "model.evaluate(x_ts_data_filter, y_ts_data_filter)"
   ]
  },
  {
   "cell_type": "markdown",
   "id": "c8be925f",
   "metadata": {},
   "source": [
    "# With linear regression and standardization (segment length = 100)"
   ]
  },
  {
   "cell_type": "markdown",
   "id": "4aea6abb",
   "metadata": {},
   "source": [
    "Training data with Linear regression and standardization"
   ]
  },
  {
   "cell_type": "code",
   "execution_count": 209,
   "id": "0b75fcb4",
   "metadata": {},
   "outputs": [],
   "source": [
    "x_train_filter_LR = linearregression_allsignal(x_data, 100)"
   ]
  },
  {
   "cell_type": "code",
   "execution_count": 210,
   "id": "66db2cc6",
   "metadata": {},
   "outputs": [
    {
     "data": {
      "text/plain": [
       "array([[  14.09584158,  344.24138614,  269.31425743, ...,  160.06752475,\n",
       "          62.17544554,  595.72178218],\n",
       "       [  15.55410741,  345.09428743,  269.72851485, ...,  160.10777678,\n",
       "          62.00119412,  595.87992799],\n",
       "       [  17.01237324,  345.94718872,  270.14277228, ...,  160.1480288 ,\n",
       "          61.82694269,  596.03807381],\n",
       "       ...,\n",
       "       [ 169.75592449,   95.35814701,  127.77021211, ..., -191.93141174,\n",
       "        -199.29141404, -275.07970086],\n",
       "       [ 169.65192638,   95.46942601,  126.71194588, ..., -192.94529771,\n",
       "        -200.40915785, -275.84968345],\n",
       "       [ 169.54792826,   95.58070501,  125.65367965, ..., -193.95918367,\n",
       "        -201.52690167, -276.61966605]])"
      ]
     },
     "execution_count": 210,
     "metadata": {},
     "output_type": "execute_result"
    }
   ],
   "source": [
    "x_train_filter_LR"
   ]
  },
  {
   "cell_type": "code",
   "execution_count": 211,
   "id": "c4ffbc4f",
   "metadata": {},
   "outputs": [
    {
     "data": {
      "text/plain": [
       "(1185498, 32)"
      ]
     },
     "execution_count": 211,
     "metadata": {},
     "output_type": "execute_result"
    }
   ],
   "source": [
    "x_train_filter_LR.shape"
   ]
  },
  {
   "cell_type": "code",
   "execution_count": 212,
   "id": "04e267c9",
   "metadata": {},
   "outputs": [],
   "source": [
    "x_train_filter_LR_st = StandardScaler().fit_transform(x_train_filter_LR)\n",
    "x_train_filter_LR_st = pd.DataFrame(x_train_filter_LR_st)\n",
    "y=pd.DataFrame(y_data)"
   ]
  },
  {
   "cell_type": "code",
   "execution_count": 213,
   "id": "58d3dd42",
   "metadata": {},
   "outputs": [
    {
     "data": {
      "text/plain": [
       "array([[-0.56510326,  0.08694816, -0.59439189, ...,  0.63099938,\n",
       "         0.46061807,  2.36964958],\n",
       "       [-0.56065471,  0.09008252, -0.59212898, ...,  0.63123734,\n",
       "         0.45967825,  2.3704438 ],\n",
       "       [-0.55620615,  0.09321688, -0.58986607, ...,  0.63147529,\n",
       "         0.45873844,  2.37123802],\n",
       "       ...,\n",
       "       [-0.09025002, -0.82768335, -1.36758687, ..., -1.44985754,\n",
       "        -0.94958636, -2.00356234],\n",
       "       [-0.09056727, -0.82727441, -1.37336773, ..., -1.45585117,\n",
       "        -0.95561484, -2.00742923],\n",
       "       [-0.09088452, -0.82686546, -1.37914859, ..., -1.4618448 ,\n",
       "        -0.96164332, -2.01129613]])"
      ]
     },
     "execution_count": 213,
     "metadata": {},
     "output_type": "execute_result"
    }
   ],
   "source": [
    "x_train_filter_LR_st.values"
   ]
  },
  {
   "cell_type": "code",
   "execution_count": 214,
   "id": "9143fa2f",
   "metadata": {},
   "outputs": [
    {
     "data": {
      "text/plain": [
       "(1185498, 32)"
      ]
     },
     "execution_count": 214,
     "metadata": {},
     "output_type": "execute_result"
    }
   ],
   "source": [
    "x_train_filter_LR_st.shape"
   ]
  },
  {
   "cell_type": "markdown",
   "id": "9b559f04",
   "metadata": {},
   "source": [
    "Testing data with Linear regression and standardization"
   ]
  },
  {
   "cell_type": "code",
   "execution_count": 215,
   "id": "63f1906e",
   "metadata": {},
   "outputs": [],
   "source": [
    "x_test_filter_LR = linearregression_allsignal(x_ts_data, 100)"
   ]
  },
  {
   "cell_type": "code",
   "execution_count": 216,
   "id": "c93b1e84",
   "metadata": {},
   "outputs": [
    {
     "data": {
      "text/plain": [
       "array([[ -77.97445545,  112.4170297 ,  372.1160396 , ..., -164.68811881,\n",
       "          28.92158416,  -34.72514851],\n",
       "       [ -78.31315332,  111.09708971,  371.97329133, ..., -165.21563156,\n",
       "          28.3849865 ,  -35.44605461],\n",
       "       [ -78.65185119,  109.77714971,  371.83054305, ..., -165.74314431,\n",
       "          27.84838884,  -36.1669607 ],\n",
       "       ...,\n",
       "       [ 109.88636347,  251.04984286,  369.17533504, ...,  113.86724705,\n",
       "         200.39159051,  128.66205252],\n",
       "       [ 110.01003504,  251.46310732,  370.1809486 , ...,  114.52096955,\n",
       "         201.04394755,  128.67884261],\n",
       "       [ 110.13370661,  251.87637178,  371.18656215, ...,  115.17469205,\n",
       "         201.69630459,  128.6956327 ]])"
      ]
     },
     "execution_count": 216,
     "metadata": {},
     "output_type": "execute_result"
    }
   ],
   "source": [
    "x_test_filter_LR"
   ]
  },
  {
   "cell_type": "code",
   "execution_count": 217,
   "id": "ac6e3c5f",
   "metadata": {},
   "outputs": [
    {
     "data": {
      "text/plain": [
       "(236894, 32)"
      ]
     },
     "execution_count": 217,
     "metadata": {},
     "output_type": "execute_result"
    }
   ],
   "source": [
    "x_test_filter_LR.shape"
   ]
  },
  {
   "cell_type": "code",
   "execution_count": 218,
   "id": "812bb5da",
   "metadata": {},
   "outputs": [],
   "source": [
    "x_test_filter_LR_st = StandardScaler().fit_transform(x_test_filter_LR)\n",
    "x_test_filter_LR_st = pd.DataFrame(x_test_filter_LR_st)\n",
    "y_test=pd.DataFrame(y_ts_data)"
   ]
  },
  {
   "cell_type": "code",
   "execution_count": 219,
   "id": "102a70a3",
   "metadata": {},
   "outputs": [
    {
     "data": {
      "text/plain": [
       "array([[-0.39116452, -0.3559009 ,  0.43362612, ..., -1.43346938,\n",
       "         0.48701929, -0.64448885],\n",
       "       [-0.3917403 , -0.36278482,  0.43263515, ..., -1.43775518,\n",
       "         0.48361909, -0.64936433],\n",
       "       [-0.39231609, -0.36966873,  0.43164418, ..., -1.44204098,\n",
       "         0.48021888, -0.65423982],\n",
       "       ...,\n",
       "       [-0.07180243,  0.36711418,  0.41321152, ...,  0.82966467,\n",
       "         1.57355659,  0.46049803],\n",
       "       [-0.07159219,  0.36926949,  0.42019257, ...,  0.83497587,\n",
       "         1.57769032,  0.46061158],\n",
       "       [-0.07138195,  0.3714248 ,  0.42717362, ...,  0.84028706,\n",
       "         1.58182405,  0.46072513]])"
      ]
     },
     "execution_count": 219,
     "metadata": {},
     "output_type": "execute_result"
    }
   ],
   "source": [
    "x_test_filter_LR_st.values"
   ]
  },
  {
   "cell_type": "code",
   "execution_count": 220,
   "id": "b70335ea",
   "metadata": {},
   "outputs": [
    {
     "data": {
      "text/plain": [
       "(236894, 32)"
      ]
     },
     "execution_count": 220,
     "metadata": {},
     "output_type": "execute_result"
    }
   ],
   "source": [
    "x_test_filter_LR_st.shape"
   ]
  },
  {
   "cell_type": "markdown",
   "id": "d336858c",
   "metadata": {},
   "source": [
    "Filter [0 0 0 0 0 0] from the data"
   ]
  },
  {
   "cell_type": "code",
   "execution_count": 221,
   "id": "db48a7fc",
   "metadata": {},
   "outputs": [],
   "source": [
    "x_data_filter, y_data_filter = filter_dataset(x_train_filter_LR_st.values, y_data)"
   ]
  },
  {
   "cell_type": "code",
   "execution_count": 222,
   "id": "66ed6127",
   "metadata": {},
   "outputs": [
    {
     "data": {
      "text/plain": [
       "(132965, 20, 32)"
      ]
     },
     "execution_count": 222,
     "metadata": {},
     "output_type": "execute_result"
    }
   ],
   "source": [
    "x_data_filter.shape"
   ]
  },
  {
   "cell_type": "code",
   "execution_count": 223,
   "id": "3c856ceb",
   "metadata": {},
   "outputs": [
    {
     "data": {
      "text/plain": [
       "(132965, 6)"
      ]
     },
     "execution_count": 223,
     "metadata": {},
     "output_type": "execute_result"
    }
   ],
   "source": [
    "y_data_filter.shape"
   ]
  },
  {
   "cell_type": "code",
   "execution_count": 224,
   "id": "116821ed",
   "metadata": {},
   "outputs": [],
   "source": [
    "x_ts_data_filter, y_ts_data_filter = filter_dataset(x_test_filter_LR_st.values, y_ts_data)"
   ]
  },
  {
   "cell_type": "code",
   "execution_count": 225,
   "id": "38c7af2f",
   "metadata": {},
   "outputs": [
    {
     "data": {
      "text/plain": [
       "(45838, 20, 32)"
      ]
     },
     "execution_count": 225,
     "metadata": {},
     "output_type": "execute_result"
    }
   ],
   "source": [
    "x_ts_data_filter.shape"
   ]
  },
  {
   "cell_type": "code",
   "execution_count": 226,
   "id": "ad6d656c",
   "metadata": {},
   "outputs": [
    {
     "data": {
      "text/plain": [
       "(45838, 6)"
      ]
     },
     "execution_count": 226,
     "metadata": {},
     "output_type": "execute_result"
    }
   ],
   "source": [
    "y_ts_data_filter.shape"
   ]
  },
  {
   "cell_type": "markdown",
   "id": "ed19086b",
   "metadata": {},
   "source": [
    "Shuffle"
   ]
  },
  {
   "cell_type": "code",
   "execution_count": 227,
   "id": "28318c19",
   "metadata": {},
   "outputs": [],
   "source": [
    "x_data_filter, y_data_filter = utils.shuffle(x_data_filter, y_data_filter)"
   ]
  },
  {
   "cell_type": "code",
   "execution_count": 228,
   "id": "53469e81",
   "metadata": {},
   "outputs": [
    {
     "data": {
      "text/plain": [
       "(132965, 20, 32)"
      ]
     },
     "execution_count": 228,
     "metadata": {},
     "output_type": "execute_result"
    }
   ],
   "source": [
    "x_data_filter.shape"
   ]
  },
  {
   "cell_type": "code",
   "execution_count": 229,
   "id": "c114640a",
   "metadata": {},
   "outputs": [
    {
     "data": {
      "text/plain": [
       "(132965, 6)"
      ]
     },
     "execution_count": 229,
     "metadata": {},
     "output_type": "execute_result"
    }
   ],
   "source": [
    "y_data_filter.shape"
   ]
  },
  {
   "cell_type": "markdown",
   "id": "a74cd9bf",
   "metadata": {},
   "source": [
    "Model"
   ]
  },
  {
   "cell_type": "code",
   "execution_count": 230,
   "id": "e62d0859",
   "metadata": {},
   "outputs": [
    {
     "name": "stderr",
     "output_type": "stream",
     "text": [
      "C:\\Users\\User\\anaconda3\\envs\\modelop_gpu\\lib\\site-packages\\tensorflow\\python\\keras\\optimizer_v2\\optimizer_v2.py:374: UserWarning: The `lr` argument is deprecated, use `learning_rate` instead.\n",
      "  warnings.warn(\n"
     ]
    },
    {
     "name": "stdout",
     "output_type": "stream",
     "text": [
      "Model: \"sequential_8\"\n",
      "_________________________________________________________________\n",
      "Layer (type)                 Output Shape              Param #   \n",
      "=================================================================\n",
      "lstm_32 (LSTM)               (None, 20, 128)           82432     \n",
      "_________________________________________________________________\n",
      "dropout_24 (Dropout)         (None, 20, 128)           0         \n",
      "_________________________________________________________________\n",
      "lstm_33 (LSTM)               (None, 20, 128)           131584    \n",
      "_________________________________________________________________\n",
      "dropout_25 (Dropout)         (None, 20, 128)           0         \n",
      "_________________________________________________________________\n",
      "lstm_34 (LSTM)               (None, 20, 128)           131584    \n",
      "_________________________________________________________________\n",
      "dropout_26 (Dropout)         (None, 20, 128)           0         \n",
      "_________________________________________________________________\n",
      "lstm_35 (LSTM)               (None, 128)               131584    \n",
      "_________________________________________________________________\n",
      "dense_16 (Dense)             (None, 32)                4128      \n",
      "_________________________________________________________________\n",
      "dense_17 (Dense)             (None, 6)                 198       \n",
      "=================================================================\n",
      "Total params: 481,510\n",
      "Trainable params: 481,510\n",
      "Non-trainable params: 0\n",
      "_________________________________________________________________\n",
      "Epoch 1/30\n",
      "1870/1870 [==============================] - 30s 14ms/step - loss: 0.1273 - accuracy: 0.7804 - val_loss: 0.0527 - val_accuracy: 0.8709\n",
      "Epoch 2/30\n",
      "1870/1870 [==============================] - 25s 13ms/step - loss: 0.0522 - accuracy: 0.8586 - val_loss: 0.0389 - val_accuracy: 0.8649\n",
      "Epoch 3/30\n",
      "1870/1870 [==============================] - 26s 14ms/step - loss: 0.0421 - accuracy: 0.8583 - val_loss: 0.0343 - val_accuracy: 0.8746\n",
      "Epoch 4/30\n",
      "1870/1870 [==============================] - 26s 14ms/step - loss: 0.0373 - accuracy: 0.8585 - val_loss: 0.0567 - val_accuracy: 0.8415\n",
      "Epoch 5/30\n",
      "1870/1870 [==============================] - 26s 14ms/step - loss: 0.0343 - accuracy: 0.8576 - val_loss: 0.0273 - val_accuracy: 0.8511\n",
      "Epoch 6/30\n",
      "1870/1870 [==============================] - 26s 14ms/step - loss: 0.0311 - accuracy: 0.8640 - val_loss: 0.0291 - val_accuracy: 0.8663\n",
      "Epoch 7/30\n",
      "1870/1870 [==============================] - 26s 14ms/step - loss: 0.0287 - accuracy: 0.8610 - val_loss: 0.0238 - val_accuracy: 0.8667\n",
      "Epoch 8/30\n",
      "1870/1870 [==============================] - 26s 14ms/step - loss: 0.0266 - accuracy: 0.8626 - val_loss: 0.0222 - val_accuracy: 0.8602\n",
      "Epoch 9/30\n",
      "1870/1870 [==============================] - 26s 14ms/step - loss: 0.0263 - accuracy: 0.8626 - val_loss: 0.0228 - val_accuracy: 0.8537\n",
      "Epoch 10/30\n",
      "1870/1870 [==============================] - 26s 14ms/step - loss: 0.0238 - accuracy: 0.8638 - val_loss: 0.0192 - val_accuracy: 0.8638\n",
      "Epoch 11/30\n",
      "1870/1870 [==============================] - 26s 14ms/step - loss: 0.0223 - accuracy: 0.8628 - val_loss: 0.0194 - val_accuracy: 0.8726\n",
      "Epoch 12/30\n",
      "1870/1870 [==============================] - 27s 14ms/step - loss: 0.0213 - accuracy: 0.8654 - val_loss: 0.0191 - val_accuracy: 0.8625\n",
      "Epoch 13/30\n",
      "1870/1870 [==============================] - 26s 14ms/step - loss: 0.0221 - accuracy: 0.8663 - val_loss: 0.0161 - val_accuracy: 0.8682\n",
      "Epoch 14/30\n",
      "1870/1870 [==============================] - 26s 14ms/step - loss: 0.0201 - accuracy: 0.8643 - val_loss: 0.0177 - val_accuracy: 0.8646\n",
      "Epoch 15/30\n",
      "1870/1870 [==============================] - 26s 14ms/step - loss: 0.0194 - accuracy: 0.8656 - val_loss: 0.0166 - val_accuracy: 0.8652\n",
      "Epoch 16/30\n",
      "1870/1870 [==============================] - 26s 14ms/step - loss: 0.0208 - accuracy: 0.8612 - val_loss: 0.0161 - val_accuracy: 0.8664\n",
      "Epoch 17/30\n",
      "1870/1870 [==============================] - 26s 14ms/step - loss: 0.0184 - accuracy: 0.8647 - val_loss: 0.0147 - val_accuracy: 0.8606\n",
      "Epoch 18/30\n",
      "1870/1870 [==============================] - 26s 14ms/step - loss: 0.0179 - accuracy: 0.8664 - val_loss: 0.0161 - val_accuracy: 0.8592\n",
      "Epoch 19/30\n",
      "1870/1870 [==============================] - 26s 14ms/step - loss: 0.0184 - accuracy: 0.8694 - val_loss: 0.0135 - val_accuracy: 0.8685\n",
      "Epoch 20/30\n",
      "1870/1870 [==============================] - 26s 14ms/step - loss: 0.0170 - accuracy: 0.8726 - val_loss: 0.0140 - val_accuracy: 0.8751\n",
      "Epoch 21/30\n",
      "1870/1870 [==============================] - 26s 14ms/step - loss: 0.0168 - accuracy: 0.8666 - val_loss: 0.0144 - val_accuracy: 0.8671\n",
      "Epoch 22/30\n",
      "1870/1870 [==============================] - 26s 14ms/step - loss: 0.0178 - accuracy: 0.8622 - val_loss: 0.0134 - val_accuracy: 0.8640\n",
      "Epoch 23/30\n",
      "1870/1870 [==============================] - 26s 14ms/step - loss: 0.0157 - accuracy: 0.8678 - val_loss: 0.0151 - val_accuracy: 0.8649\n",
      "Epoch 24/30\n",
      "1870/1870 [==============================] - 26s 14ms/step - loss: 0.0164 - accuracy: 0.8623 - val_loss: 0.0149 - val_accuracy: 0.8588\n",
      "Epoch 25/30\n",
      "1870/1870 [==============================] - 26s 14ms/step - loss: 0.0153 - accuracy: 0.8636 - val_loss: 0.0123 - val_accuracy: 0.8545\n",
      "Epoch 26/30\n",
      "1870/1870 [==============================] - 26s 14ms/step - loss: 0.0165 - accuracy: 0.8736 - val_loss: 0.0124 - val_accuracy: 0.8677\n",
      "Epoch 27/30\n",
      "1870/1870 [==============================] - 26s 14ms/step - loss: 0.0160 - accuracy: 0.8680 - val_loss: 0.0157 - val_accuracy: 0.8448\n",
      "Epoch 28/30\n",
      "1870/1870 [==============================] - 26s 14ms/step - loss: 0.0149 - accuracy: 0.8661 - val_loss: 0.0137 - val_accuracy: 0.8728\n",
      "Epoch 29/30\n",
      "1870/1870 [==============================] - 26s 14ms/step - loss: 0.0150 - accuracy: 0.8628 - val_loss: 0.0125 - val_accuracy: 0.8653\n",
      "Epoch 30/30\n",
      "1870/1870 [==============================] - 26s 14ms/step - loss: 0.0144 - accuracy: 0.8653 - val_loss: 0.0143 - val_accuracy: 0.8715\n"
     ]
    },
    {
     "data": {
      "text/plain": [
       "<tensorflow.python.keras.callbacks.History at 0x1de00c8f520>"
      ]
     },
     "execution_count": 230,
     "metadata": {},
     "output_type": "execute_result"
    }
   ],
   "source": [
    "model_with_LG_standard = LSTM_model(32)\n",
    "model_with_LG_standard.fit(x_data_filter, y_data_filter, epochs=30, batch_size=64, validation_split=0.1)"
   ]
  },
  {
   "cell_type": "code",
   "execution_count": 231,
   "id": "7b7f6c3a",
   "metadata": {},
   "outputs": [],
   "source": [
    "model_with_LG_standard.save(\"modelop/LSTM/LSTM_with_LR100_standard.h5\")"
   ]
  },
  {
   "cell_type": "markdown",
   "id": "68340b1a",
   "metadata": {},
   "source": [
    "Evaluate"
   ]
  },
  {
   "cell_type": "code",
   "execution_count": 232,
   "id": "06996954",
   "metadata": {},
   "outputs": [
    {
     "name": "stdout",
     "output_type": "stream",
     "text": [
      "Model: \"sequential_8\"\n",
      "_________________________________________________________________\n",
      "Layer (type)                 Output Shape              Param #   \n",
      "=================================================================\n",
      "lstm_32 (LSTM)               (None, 20, 128)           82432     \n",
      "_________________________________________________________________\n",
      "dropout_24 (Dropout)         (None, 20, 128)           0         \n",
      "_________________________________________________________________\n",
      "lstm_33 (LSTM)               (None, 20, 128)           131584    \n",
      "_________________________________________________________________\n",
      "dropout_25 (Dropout)         (None, 20, 128)           0         \n",
      "_________________________________________________________________\n",
      "lstm_34 (LSTM)               (None, 20, 128)           131584    \n",
      "_________________________________________________________________\n",
      "dropout_26 (Dropout)         (None, 20, 128)           0         \n",
      "_________________________________________________________________\n",
      "lstm_35 (LSTM)               (None, 128)               131584    \n",
      "_________________________________________________________________\n",
      "dense_16 (Dense)             (None, 32)                4128      \n",
      "_________________________________________________________________\n",
      "dense_17 (Dense)             (None, 6)                 198       \n",
      "=================================================================\n",
      "Total params: 481,510\n",
      "Trainable params: 481,510\n",
      "Non-trainable params: 0\n",
      "_________________________________________________________________\n"
     ]
    }
   ],
   "source": [
    "model = load_model(\"modelop/LSTM/LSTM_with_LR100_standard.h5\")\n",
    "model.summary()"
   ]
  },
  {
   "cell_type": "code",
   "execution_count": 233,
   "id": "d4095e65",
   "metadata": {},
   "outputs": [
    {
     "name": "stdout",
     "output_type": "stream",
     "text": [
      "1433/1433 [==============================] - 12s 7ms/step - loss: 1.1860 - accuracy: 0.6287\n"
     ]
    },
    {
     "data": {
      "text/plain": [
       "[1.18596351146698, 0.6287141442298889]"
      ]
     },
     "execution_count": 233,
     "metadata": {},
     "output_type": "execute_result"
    }
   ],
   "source": [
    "model.evaluate(x_ts_data_filter, y_ts_data_filter)"
   ]
  },
  {
   "cell_type": "markdown",
   "id": "f6659498",
   "metadata": {},
   "source": [
    "# With lowpass filter 、Polyregression and standardization (segment length = 100)"
   ]
  },
  {
   "cell_type": "markdown",
   "id": "b4e9e2e4",
   "metadata": {},
   "source": [
    "Training data with filter, Polyregression and standardization"
   ]
  },
  {
   "cell_type": "code",
   "execution_count": 234,
   "id": "456d25a6",
   "metadata": {},
   "outputs": [],
   "source": [
    "def polyregression_seg(signal):\n",
    "    y = signal\n",
    "    X = np.arange(0, len(signal), 1)\n",
    "    poly = PolynomialFeatures(degree = 4, include_bias=False)\n",
    "    X_poly = poly.fit_transform(X.reshape(-1, 1))\n",
    "\n",
    "    poly.fit(X_poly, y)\n",
    "    lin2 = LinearRegression()\n",
    "    lin2.fit(X_poly, y)\n",
    "    yfit = lin2.predict(X_poly)\n",
    "    \n",
    "    return yfit\n",
    "\n",
    "def polyregression_allsignal(signal, seg_length):\n",
    "    new_signal = []\n",
    "    for i in range((len(signal)//seg_length)+1):\n",
    "        if (i+1)*seg_length<=len(signal):\n",
    "            new_signal += polyregression_seg(signal[i*seg_length:(i+1)*seg_length]).tolist()\n",
    "        else:\n",
    "            new_signal += polyregression_seg(signal[i*seg_length:len(signal)]).tolist()\n",
    "    \n",
    "    return np.asarray(new_signal)"
   ]
  },
  {
   "cell_type": "code",
   "execution_count": 235,
   "id": "a4c5472f",
   "metadata": {},
   "outputs": [],
   "source": [
    "x_train_filter_PR = polyregression_allsignal(x_data_df.values, 100)"
   ]
  },
  {
   "cell_type": "code",
   "execution_count": 236,
   "id": "560b60ae",
   "metadata": {},
   "outputs": [
    {
     "data": {
      "text/plain": [
       "array([[-194.63415036,  248.07939244,   76.35780312, ...,  153.02754828,\n",
       "          92.7647288 ,  659.75294923],\n",
       "       [-162.98875898,  263.25326336,  108.78140152, ...,  152.99685686,\n",
       "          87.0360568 ,  651.06726616],\n",
       "       [-133.50778796,  277.32773351,  138.66922836, ...,  152.88079124,\n",
       "          81.64764265,  642.96174554],\n",
       "       ...,\n",
       "       [ 155.60260168,   33.95537961,   72.07643136, ..., -257.73274037,\n",
       "        -250.09217788, -308.68859111],\n",
       "       [ 149.85639555,   22.51537507,   59.18427285, ..., -275.02307928,\n",
       "        -265.43432204, -324.16776494],\n",
       "       [ 143.40729388,   10.05973726,   45.17276101, ..., -293.83441988,\n",
       "        -282.16250738, -341.22145943]])"
      ]
     },
     "execution_count": 236,
     "metadata": {},
     "output_type": "execute_result"
    }
   ],
   "source": [
    "x_train_filter_PR"
   ]
  },
  {
   "cell_type": "code",
   "execution_count": 237,
   "id": "f08e04f1",
   "metadata": {},
   "outputs": [
    {
     "data": {
      "text/plain": [
       "(1185498, 32)"
      ]
     },
     "execution_count": 237,
     "metadata": {},
     "output_type": "execute_result"
    }
   ],
   "source": [
    "x_train_filter_PR.shape"
   ]
  },
  {
   "cell_type": "code",
   "execution_count": 238,
   "id": "4e6de793",
   "metadata": {},
   "outputs": [],
   "source": [
    "x_train_filter_PR_st = StandardScaler().fit_transform(x_train_filter_PR)\n",
    "x_train_filter_PR_st = pd.DataFrame(x_train_filter_PR_st)\n",
    "y=pd.DataFrame(y_data)"
   ]
  },
  {
   "cell_type": "code",
   "execution_count": 239,
   "id": "3e1f9491",
   "metadata": {},
   "outputs": [
    {
     "data": {
      "text/plain": [
       "array([[-1.12662345, -0.2491049 , -1.59438656, ...,  0.56827353,\n",
       "         0.6064662 ,  2.61486383],\n",
       "       [-1.03612923, -0.19697015, -1.42307713, ...,  0.56809859,\n",
       "         0.57651393,  2.57248143],\n",
       "       [-0.95182445, -0.14861274, -1.26516539, ...,  0.56743704,\n",
       "         0.54834069,  2.53292997],\n",
       "       ...,\n",
       "       [-0.12507468, -0.98479743, -1.6170071 , ..., -1.77298714,\n",
       "        -1.18615582, -2.11071505],\n",
       "       [-0.14150673, -1.02410328, -1.68512256, ..., -1.87153899,\n",
       "        -1.26637199, -2.18624677],\n",
       "       [-0.1599488 , -1.06689867, -1.7591521 , ..., -1.97876029,\n",
       "        -1.35383505, -2.26946147]])"
      ]
     },
     "execution_count": 239,
     "metadata": {},
     "output_type": "execute_result"
    }
   ],
   "source": [
    "x_train_filter_PR_st.values"
   ]
  },
  {
   "cell_type": "code",
   "execution_count": 240,
   "id": "5a092d71",
   "metadata": {},
   "outputs": [
    {
     "data": {
      "text/plain": [
       "(1185498, 32)"
      ]
     },
     "execution_count": 240,
     "metadata": {},
     "output_type": "execute_result"
    }
   ],
   "source": [
    "x_train_filter_PR_st.shape"
   ]
  },
  {
   "cell_type": "markdown",
   "id": "9b6f48f8",
   "metadata": {},
   "source": [
    "Testing data with filter, Polyregression and standardization"
   ]
  },
  {
   "cell_type": "code",
   "execution_count": 241,
   "id": "68efcefb",
   "metadata": {},
   "outputs": [],
   "source": [
    "x_test_filter_PR = polyregression_allsignal(x_test_df.values, 100)"
   ]
  },
  {
   "cell_type": "code",
   "execution_count": 242,
   "id": "1186ddc0",
   "metadata": {},
   "outputs": [
    {
     "data": {
      "text/plain": [
       "array([[-131.87744271,   86.02050309,  377.46261801, ..., -191.9785745 ,\n",
       "         -31.23853061, -100.9945001 ],\n",
       "       [-129.05681003,   81.20066754,  372.53789844, ..., -190.91300356,\n",
       "         -27.67197978,  -96.77829444],\n",
       "       [-126.33840119,   76.94606832,  368.12751089, ..., -189.81987727,\n",
       "         -24.15432196,  -92.66935851],\n",
       "       ...,\n",
       "       [ 169.79552275,  312.35203877,  399.05147957, ...,  146.42609722,\n",
       "         260.33787849,  192.08395426],\n",
       "       [ 177.74932264,  323.37681506,  399.16407171, ...,  143.08138938,\n",
       "         264.46405068,  194.63982029],\n",
       "       [ 186.12345662,  335.17647771,  398.85744613, ...,  138.88860144,\n",
       "         268.47561166,  196.90752245]])"
      ]
     },
     "execution_count": 242,
     "metadata": {},
     "output_type": "execute_result"
    }
   ],
   "source": [
    "x_test_filter_PR"
   ]
  },
  {
   "cell_type": "code",
   "execution_count": 243,
   "id": "9f2bab37",
   "metadata": {},
   "outputs": [
    {
     "data": {
      "text/plain": [
       "(236894, 32)"
      ]
     },
     "execution_count": 243,
     "metadata": {},
     "output_type": "execute_result"
    }
   ],
   "source": [
    "x_test_filter_PR.shape"
   ]
  },
  {
   "cell_type": "code",
   "execution_count": 244,
   "id": "ab078f63",
   "metadata": {},
   "outputs": [],
   "source": [
    "x_test_filter_PR_st = StandardScaler().fit_transform(x_test_filter_PR)\n",
    "x_test_filter_PR_st = pd.DataFrame(x_test_filter_PR_st)\n",
    "y_test=pd.DataFrame(y_ts_data)"
   ]
  },
  {
   "cell_type": "code",
   "execution_count": 245,
   "id": "2087457b",
   "metadata": {},
   "outputs": [
    {
     "data": {
      "text/plain": [
       "array([[-0.47694873, -0.46986943,  0.45502745, ..., -1.55033144,\n",
       "         0.10155581, -1.04423858],\n",
       "       [-0.47221179, -0.49379948,  0.42198079, ..., -1.5422226 ,\n",
       "         0.12324678, -1.01698816],\n",
       "       [-0.46764652, -0.5149232 ,  0.39238549, ..., -1.53390406,\n",
       "         0.14464039, -0.99043104],\n",
       "       ...,\n",
       "       [ 0.02967812,  0.65384671,  0.59989658, ...,  1.02487994,\n",
       "         1.87485851,  0.85000306],\n",
       "       [ 0.04303566,  0.70858376,  0.60065211, ...,  0.99942719,\n",
       "         1.89995297,  0.86652228],\n",
       "       [ 0.05709911,  0.76716804,  0.59859454, ...,  0.96752067,\n",
       "         1.92435039,  0.88117903]])"
      ]
     },
     "execution_count": 245,
     "metadata": {},
     "output_type": "execute_result"
    }
   ],
   "source": [
    "x_test_filter_PR_st.values"
   ]
  },
  {
   "cell_type": "code",
   "execution_count": 246,
   "id": "712f30e2",
   "metadata": {},
   "outputs": [
    {
     "data": {
      "text/plain": [
       "(236894, 32)"
      ]
     },
     "execution_count": 246,
     "metadata": {},
     "output_type": "execute_result"
    }
   ],
   "source": [
    "x_test_filter_PR_st.shape"
   ]
  },
  {
   "cell_type": "markdown",
   "id": "5e4f7c40",
   "metadata": {},
   "source": [
    "Filter [0 0 0 0 0 0] from the data"
   ]
  },
  {
   "cell_type": "code",
   "execution_count": 247,
   "id": "46a90b05",
   "metadata": {},
   "outputs": [],
   "source": [
    "x_data_filter, y_data_filter = filter_dataset(x_train_filter_PR_st.values, y_data)"
   ]
  },
  {
   "cell_type": "code",
   "execution_count": 248,
   "id": "e9d1bf7e",
   "metadata": {},
   "outputs": [
    {
     "data": {
      "text/plain": [
       "(132965, 20, 32)"
      ]
     },
     "execution_count": 248,
     "metadata": {},
     "output_type": "execute_result"
    }
   ],
   "source": [
    "x_data_filter.shape"
   ]
  },
  {
   "cell_type": "code",
   "execution_count": 249,
   "id": "05bbf1a3",
   "metadata": {},
   "outputs": [
    {
     "data": {
      "text/plain": [
       "(132965, 6)"
      ]
     },
     "execution_count": 249,
     "metadata": {},
     "output_type": "execute_result"
    }
   ],
   "source": [
    "y_data_filter.shape"
   ]
  },
  {
   "cell_type": "code",
   "execution_count": 250,
   "id": "7f68333d",
   "metadata": {},
   "outputs": [],
   "source": [
    "x_ts_data_filter, y_ts_data_filter = filter_dataset(x_test_filter_PR_st.values, y_ts_data)"
   ]
  },
  {
   "cell_type": "code",
   "execution_count": 251,
   "id": "0fabfb1f",
   "metadata": {},
   "outputs": [
    {
     "data": {
      "text/plain": [
       "(45838, 20, 32)"
      ]
     },
     "execution_count": 251,
     "metadata": {},
     "output_type": "execute_result"
    }
   ],
   "source": [
    "x_ts_data_filter.shape"
   ]
  },
  {
   "cell_type": "code",
   "execution_count": 252,
   "id": "1d100c9e",
   "metadata": {},
   "outputs": [
    {
     "data": {
      "text/plain": [
       "(45838, 6)"
      ]
     },
     "execution_count": 252,
     "metadata": {},
     "output_type": "execute_result"
    }
   ],
   "source": [
    "y_ts_data_filter.shape"
   ]
  },
  {
   "cell_type": "markdown",
   "id": "ac39be23",
   "metadata": {},
   "source": [
    "Shuffle"
   ]
  },
  {
   "cell_type": "code",
   "execution_count": 253,
   "id": "4ef9b24a",
   "metadata": {},
   "outputs": [],
   "source": [
    "x_data_filter, y_data_filter = utils.shuffle(x_data_filter, y_data_filter)"
   ]
  },
  {
   "cell_type": "code",
   "execution_count": 254,
   "id": "12a73950",
   "metadata": {},
   "outputs": [
    {
     "data": {
      "text/plain": [
       "(132965, 20, 32)"
      ]
     },
     "execution_count": 254,
     "metadata": {},
     "output_type": "execute_result"
    }
   ],
   "source": [
    "x_data_filter.shape"
   ]
  },
  {
   "cell_type": "code",
   "execution_count": 255,
   "id": "c6b8c31e",
   "metadata": {},
   "outputs": [
    {
     "data": {
      "text/plain": [
       "(132965, 6)"
      ]
     },
     "execution_count": 255,
     "metadata": {},
     "output_type": "execute_result"
    }
   ],
   "source": [
    "y_data_filter.shape"
   ]
  },
  {
   "cell_type": "markdown",
   "id": "2745f70d",
   "metadata": {},
   "source": [
    "Model"
   ]
  },
  {
   "cell_type": "code",
   "execution_count": 256,
   "id": "88f9273f",
   "metadata": {},
   "outputs": [
    {
     "name": "stderr",
     "output_type": "stream",
     "text": [
      "C:\\Users\\User\\anaconda3\\envs\\modelop_gpu\\lib\\site-packages\\tensorflow\\python\\keras\\optimizer_v2\\optimizer_v2.py:374: UserWarning: The `lr` argument is deprecated, use `learning_rate` instead.\n",
      "  warnings.warn(\n"
     ]
    },
    {
     "name": "stdout",
     "output_type": "stream",
     "text": [
      "Model: \"sequential_9\"\n",
      "_________________________________________________________________\n",
      "Layer (type)                 Output Shape              Param #   \n",
      "=================================================================\n",
      "lstm_36 (LSTM)               (None, 20, 128)           82432     \n",
      "_________________________________________________________________\n",
      "dropout_27 (Dropout)         (None, 20, 128)           0         \n",
      "_________________________________________________________________\n",
      "lstm_37 (LSTM)               (None, 20, 128)           131584    \n",
      "_________________________________________________________________\n",
      "dropout_28 (Dropout)         (None, 20, 128)           0         \n",
      "_________________________________________________________________\n",
      "lstm_38 (LSTM)               (None, 20, 128)           131584    \n",
      "_________________________________________________________________\n",
      "dropout_29 (Dropout)         (None, 20, 128)           0         \n",
      "_________________________________________________________________\n",
      "lstm_39 (LSTM)               (None, 128)               131584    \n",
      "_________________________________________________________________\n",
      "dense_18 (Dense)             (None, 32)                4128      \n",
      "_________________________________________________________________\n",
      "dense_19 (Dense)             (None, 6)                 198       \n",
      "=================================================================\n",
      "Total params: 481,510\n",
      "Trainable params: 481,510\n",
      "Non-trainable params: 0\n",
      "_________________________________________________________________\n",
      "Epoch 1/30\n",
      "1870/1870 [==============================] - 31s 14ms/step - loss: 0.1372 - accuracy: 0.7733 - val_loss: 0.0582 - val_accuracy: 0.8500\n",
      "Epoch 2/30\n",
      "1870/1870 [==============================] - 25s 13ms/step - loss: 0.0579 - accuracy: 0.8598 - val_loss: 0.0442 - val_accuracy: 0.8547\n",
      "Epoch 3/30\n",
      "1870/1870 [==============================] - 25s 14ms/step - loss: 0.0482 - accuracy: 0.8583 - val_loss: 0.0365 - val_accuracy: 0.8770\n",
      "Epoch 4/30\n",
      "1870/1870 [==============================] - 25s 14ms/step - loss: 0.0371 - accuracy: 0.8595 - val_loss: 0.0310 - val_accuracy: 0.8633\n",
      "Epoch 5/30\n",
      "1870/1870 [==============================] - 26s 14ms/step - loss: 0.0342 - accuracy: 0.8571 - val_loss: 0.0258 - val_accuracy: 0.8550\n",
      "Epoch 6/30\n",
      "1870/1870 [==============================] - 26s 14ms/step - loss: 0.0317 - accuracy: 0.8561 - val_loss: 0.0256 - val_accuracy: 0.8582\n",
      "Epoch 7/30\n",
      "1870/1870 [==============================] - 26s 14ms/step - loss: 0.0265 - accuracy: 0.8584 - val_loss: 0.0195 - val_accuracy: 0.8571\n",
      "Epoch 8/30\n",
      "1870/1870 [==============================] - 26s 14ms/step - loss: 0.0253 - accuracy: 0.8573 - val_loss: 0.0201 - val_accuracy: 0.8712\n",
      "Epoch 9/30\n",
      "1870/1870 [==============================] - 26s 14ms/step - loss: 0.0248 - accuracy: 0.8559 - val_loss: 0.0208 - val_accuracy: 0.8585\n",
      "Epoch 10/30\n",
      "1870/1870 [==============================] - 26s 14ms/step - loss: 0.0224 - accuracy: 0.8542 - val_loss: 0.0171 - val_accuracy: 0.8521\n",
      "Epoch 11/30\n",
      "1870/1870 [==============================] - 26s 14ms/step - loss: 0.0213 - accuracy: 0.8562 - val_loss: 0.0286 - val_accuracy: 0.8699\n",
      "Epoch 12/30\n",
      "1870/1870 [==============================] - 26s 14ms/step - loss: 0.0208 - accuracy: 0.8616 - val_loss: 0.0167 - val_accuracy: 0.8656\n",
      "Epoch 13/30\n",
      "1870/1870 [==============================] - 26s 14ms/step - loss: 0.0190 - accuracy: 0.8630 - val_loss: 0.0155 - val_accuracy: 0.8666\n",
      "Epoch 14/30\n",
      "1870/1870 [==============================] - 26s 14ms/step - loss: 0.0187 - accuracy: 0.8637 - val_loss: 0.0158 - val_accuracy: 0.8800\n",
      "Epoch 15/30\n",
      "1870/1870 [==============================] - 26s 14ms/step - loss: 0.0181 - accuracy: 0.8633 - val_loss: 0.0154 - val_accuracy: 0.8682\n",
      "Epoch 16/30\n",
      "1870/1870 [==============================] - 26s 14ms/step - loss: 0.0170 - accuracy: 0.8584 - val_loss: 0.0142 - val_accuracy: 0.8497\n",
      "Epoch 17/30\n",
      "1870/1870 [==============================] - 26s 14ms/step - loss: 0.0162 - accuracy: 0.8605 - val_loss: 0.0158 - val_accuracy: 0.8742\n",
      "Epoch 18/30\n",
      "1870/1870 [==============================] - 26s 14ms/step - loss: 0.0158 - accuracy: 0.8605 - val_loss: 0.0128 - val_accuracy: 0.8591\n",
      "Epoch 19/30\n",
      "1870/1870 [==============================] - 26s 14ms/step - loss: 0.0166 - accuracy: 0.8623 - val_loss: 0.0112 - val_accuracy: 0.8540\n",
      "Epoch 20/30\n",
      "1870/1870 [==============================] - 26s 14ms/step - loss: 0.0148 - accuracy: 0.8590 - val_loss: 0.0118 - val_accuracy: 0.8546\n",
      "Epoch 21/30\n",
      "1870/1870 [==============================] - 26s 14ms/step - loss: 0.0143 - accuracy: 0.8580 - val_loss: 0.0116 - val_accuracy: 0.8631\n",
      "Epoch 22/30\n",
      "1870/1870 [==============================] - 26s 14ms/step - loss: 0.0142 - accuracy: 0.8662 - val_loss: 0.0125 - val_accuracy: 0.8639\n",
      "Epoch 23/30\n",
      "1870/1870 [==============================] - 26s 14ms/step - loss: 0.0139 - accuracy: 0.8688 - val_loss: 0.0121 - val_accuracy: 0.8647\n",
      "Epoch 24/30\n",
      "1870/1870 [==============================] - 26s 14ms/step - loss: 0.0131 - accuracy: 0.8675 - val_loss: 0.0118 - val_accuracy: 0.8631\n",
      "Epoch 25/30\n",
      "1870/1870 [==============================] - 26s 14ms/step - loss: 0.0137 - accuracy: 0.8597 - val_loss: 0.0114 - val_accuracy: 0.8476\n",
      "Epoch 26/30\n",
      "1870/1870 [==============================] - 26s 14ms/step - loss: 0.0125 - accuracy: 0.8578 - val_loss: 0.0108 - val_accuracy: 0.8642\n",
      "Epoch 27/30\n",
      "1870/1870 [==============================] - 26s 14ms/step - loss: 0.0128 - accuracy: 0.8597 - val_loss: 0.0110 - val_accuracy: 0.8544\n",
      "Epoch 28/30\n",
      "1870/1870 [==============================] - 26s 14ms/step - loss: 0.0125 - accuracy: 0.8658 - val_loss: 0.0113 - val_accuracy: 0.8564\n",
      "Epoch 29/30\n",
      "1870/1870 [==============================] - 26s 14ms/step - loss: 0.0126 - accuracy: 0.8673 - val_loss: 0.0105 - val_accuracy: 0.8500\n",
      "Epoch 30/30\n",
      "1870/1870 [==============================] - 26s 14ms/step - loss: 0.0115 - accuracy: 0.8597 - val_loss: 0.0092 - val_accuracy: 0.8573\n"
     ]
    },
    {
     "data": {
      "text/plain": [
       "<tensorflow.python.keras.callbacks.History at 0x1de305090a0>"
      ]
     },
     "execution_count": 256,
     "metadata": {},
     "output_type": "execute_result"
    }
   ],
   "source": [
    "model_with_filter_PR_standard = LSTM_model(32)\n",
    "model_with_filter_PR_standard.fit(x_data_filter, y_data_filter, epochs=30, batch_size=64, validation_split=0.1)"
   ]
  },
  {
   "cell_type": "code",
   "execution_count": 257,
   "id": "146a7b2b",
   "metadata": {},
   "outputs": [],
   "source": [
    "model_with_filter_PR_standard.save(\"modelop/LSTM/LSTM_with_filter_PR100_standard.h5\")"
   ]
  },
  {
   "cell_type": "markdown",
   "id": "8adf87ef",
   "metadata": {},
   "source": [
    "Evaluate"
   ]
  },
  {
   "cell_type": "code",
   "execution_count": 258,
   "id": "6a79ab47",
   "metadata": {},
   "outputs": [
    {
     "name": "stdout",
     "output_type": "stream",
     "text": [
      "Model: \"sequential_9\"\n",
      "_________________________________________________________________\n",
      "Layer (type)                 Output Shape              Param #   \n",
      "=================================================================\n",
      "lstm_36 (LSTM)               (None, 20, 128)           82432     \n",
      "_________________________________________________________________\n",
      "dropout_27 (Dropout)         (None, 20, 128)           0         \n",
      "_________________________________________________________________\n",
      "lstm_37 (LSTM)               (None, 20, 128)           131584    \n",
      "_________________________________________________________________\n",
      "dropout_28 (Dropout)         (None, 20, 128)           0         \n",
      "_________________________________________________________________\n",
      "lstm_38 (LSTM)               (None, 20, 128)           131584    \n",
      "_________________________________________________________________\n",
      "dropout_29 (Dropout)         (None, 20, 128)           0         \n",
      "_________________________________________________________________\n",
      "lstm_39 (LSTM)               (None, 128)               131584    \n",
      "_________________________________________________________________\n",
      "dense_18 (Dense)             (None, 32)                4128      \n",
      "_________________________________________________________________\n",
      "dense_19 (Dense)             (None, 6)                 198       \n",
      "=================================================================\n",
      "Total params: 481,510\n",
      "Trainable params: 481,510\n",
      "Non-trainable params: 0\n",
      "_________________________________________________________________\n"
     ]
    }
   ],
   "source": [
    "model = load_model(\"modelop/LSTM/LSTM_with_filter_PR100_standard.h5\")\n",
    "model.summary()"
   ]
  },
  {
   "cell_type": "code",
   "execution_count": 259,
   "id": "c7ee15c5",
   "metadata": {},
   "outputs": [
    {
     "name": "stdout",
     "output_type": "stream",
     "text": [
      "1433/1433 [==============================] - 12s 7ms/step - loss: 1.1425 - accuracy: 0.6776\n"
     ]
    },
    {
     "data": {
      "text/plain": [
       "[1.1425107717514038, 0.6776255369186401]"
      ]
     },
     "execution_count": 259,
     "metadata": {},
     "output_type": "execute_result"
    }
   ],
   "source": [
    "model.evaluate(x_ts_data_filter, y_ts_data_filter)"
   ]
  },
  {
   "cell_type": "markdown",
   "id": "f311e327",
   "metadata": {},
   "source": [
    "# With lowpass filter 、Polyregression and standardization (segment length = 50)"
   ]
  },
  {
   "cell_type": "markdown",
   "id": "d836c5f6",
   "metadata": {},
   "source": [
    "Training data with filter, Polyregression and standardization"
   ]
  },
  {
   "cell_type": "code",
   "execution_count": 260,
   "id": "ece9dadd",
   "metadata": {},
   "outputs": [],
   "source": [
    "x_train_filter_PR = polyregression_allsignal(x_data_df.values, 50)"
   ]
  },
  {
   "cell_type": "code",
   "execution_count": 261,
   "id": "182e6324",
   "metadata": {},
   "outputs": [
    {
     "data": {
      "text/plain": [
       "array([[-149.15209453,  243.84408155,  162.25531813, ...,  178.67621442,\n",
       "         127.94630512,  727.48839081],\n",
       "       [-130.6052143 ,  266.1716083 ,  164.70281968, ...,  176.81295921,\n",
       "         118.52016562,  705.91971525],\n",
       "       [-112.6260032 ,  285.40309868,  169.47535254, ...,  173.87970033,\n",
       "         108.51542132,  685.27415112],\n",
       "       ...,\n",
       "       [ 165.52922745,   40.86729369,   71.26795055, ..., -260.19066997,\n",
       "        -236.16410412, -285.71606837],\n",
       "       [ 155.26087392,   16.25215795,   44.43459385, ..., -297.24008868,\n",
       "        -256.96415749, -307.38397851],\n",
       "       [ 142.238801  ,  -14.03618528,   12.43476814, ..., -341.28573765,\n",
       "        -281.83588617, -334.19862031]])"
      ]
     },
     "execution_count": 261,
     "metadata": {},
     "output_type": "execute_result"
    }
   ],
   "source": [
    "x_train_filter_PR"
   ]
  },
  {
   "cell_type": "code",
   "execution_count": 262,
   "id": "3f37af9c",
   "metadata": {},
   "outputs": [
    {
     "data": {
      "text/plain": [
       "(1185498, 32)"
      ]
     },
     "execution_count": 262,
     "metadata": {},
     "output_type": "execute_result"
    }
   ],
   "source": [
    "x_train_filter_PR.shape"
   ]
  },
  {
   "cell_type": "code",
   "execution_count": 263,
   "id": "0a726d4e",
   "metadata": {},
   "outputs": [],
   "source": [
    "x_train_filter_PR_st = StandardScaler().fit_transform(x_train_filter_PR)\n",
    "x_train_filter_PR_st = pd.DataFrame(x_train_filter_PR_st)\n",
    "y=pd.DataFrame(y_data)"
   ]
  },
  {
   "cell_type": "code",
   "execution_count": 264,
   "id": "c0627ef3",
   "metadata": {},
   "outputs": [
    {
     "data": {
      "text/plain": [
       "array([[-0.98956647, -0.26133262, -1.12412743, ...,  0.70357078,\n",
       "         0.77974818,  2.89858106],\n",
       "       [-0.93690146, -0.18529537, -1.11138228, ...,  0.69311252,\n",
       "         0.73112871,  2.79500756],\n",
       "       [-0.88584839, -0.11980179, -1.08652975, ...,  0.67664843,\n",
       "         0.67952483,  2.69586687],\n",
       "       ...,\n",
       "       [-0.09600951, -0.9525779 , -1.59793593, ..., -1.75974527,\n",
       "        -1.09831188, -1.96686061],\n",
       "       [-0.12516713, -1.03640569, -1.73766821, ..., -1.96769996,\n",
       "        -1.20559733, -2.07091064],\n",
       "       [-0.16214411, -1.13955381, -1.90430442, ..., -2.2149238 ,\n",
       "        -1.33388424, -2.19967544]])"
      ]
     },
     "execution_count": 264,
     "metadata": {},
     "output_type": "execute_result"
    }
   ],
   "source": [
    "x_train_filter_PR_st.values"
   ]
  },
  {
   "cell_type": "code",
   "execution_count": 265,
   "id": "1e30fdd3",
   "metadata": {},
   "outputs": [
    {
     "data": {
      "text/plain": [
       "(1185498, 32)"
      ]
     },
     "execution_count": 265,
     "metadata": {},
     "output_type": "execute_result"
    }
   ],
   "source": [
    "x_train_filter_PR_st.shape"
   ]
  },
  {
   "cell_type": "markdown",
   "id": "28ccd44d",
   "metadata": {},
   "source": [
    "Testing data with filter, Polyregression and standardization"
   ]
  },
  {
   "cell_type": "code",
   "execution_count": 266,
   "id": "2637bce9",
   "metadata": {},
   "outputs": [],
   "source": [
    "x_test_filter_PR = polyregression_allsignal(x_test_df.values, 50)"
   ]
  },
  {
   "cell_type": "code",
   "execution_count": 267,
   "id": "01a3dc5b",
   "metadata": {},
   "outputs": [
    {
     "data": {
      "text/plain": [
       "array([[-117.25666166,  178.55345983,  368.85035401, ..., -152.39703946,\n",
       "          14.15222629,  -86.26703217],\n",
       "       [-119.55261623,  140.11857353,  365.20158319, ..., -165.77898604,\n",
       "           3.01304864,  -84.14484423],\n",
       "       [-121.00787694,  108.01055832,  362.28443203, ..., -176.56031973,\n",
       "          -5.86828492,  -82.15649428],\n",
       "       ...,\n",
       "       [ 184.31743207,  334.96914365,  406.74901342, ...,  121.85463031,\n",
       "         246.40357925,  200.79291338],\n",
       "       [ 209.04168347,  356.51002872,  415.92366585, ...,   89.24674356,\n",
       "         226.01467343,  215.95127952],\n",
       "       [ 238.23236257,  380.20874005,  427.03436115, ...,   49.33084447,\n",
       "         199.4949981 ,  233.96764452]])"
      ]
     },
     "execution_count": 267,
     "metadata": {},
     "output_type": "execute_result"
    }
   ],
   "source": [
    "x_test_filter_PR"
   ]
  },
  {
   "cell_type": "code",
   "execution_count": 268,
   "id": "69be6e4b",
   "metadata": {},
   "outputs": [
    {
     "data": {
      "text/plain": [
       "(236894, 32)"
      ]
     },
     "execution_count": 268,
     "metadata": {},
     "output_type": "execute_result"
    }
   ],
   "source": [
    "x_test_filter_PR.shape"
   ]
  },
  {
   "cell_type": "code",
   "execution_count": 269,
   "id": "6a2d93fc",
   "metadata": {},
   "outputs": [],
   "source": [
    "x_test_filter_PR_st = StandardScaler().fit_transform(x_test_filter_PR)\n",
    "x_test_filter_PR_st = pd.DataFrame(x_test_filter_PR_st)\n",
    "y_test=pd.DataFrame(y_ts_data)"
   ]
  },
  {
   "cell_type": "code",
   "execution_count": 270,
   "id": "20a39a6c",
   "metadata": {},
   "outputs": [
    {
     "data": {
      "text/plain": [
       "array([[-0.45179985, -0.01031917,  0.3906199 , ..., -1.21679709,\n",
       "         0.37131409, -0.9278203 ],\n",
       "       [-0.45565059, -0.19872987,  0.36654312, ..., -1.31599655,\n",
       "         0.30469803, -0.91441089],\n",
       "       [-0.45809132, -0.35612578,  0.347294  , ..., -1.39591783,\n",
       "         0.25158464, -0.90184716],\n",
       "       ...,\n",
       "       [ 0.05399499,  0.75644228,  0.640698  , ...,  0.81621172,\n",
       "         1.76025595,  0.88601702],\n",
       "       [ 0.09546208,  0.86203732,  0.70123787, ...,  0.57449169,\n",
       "         1.63832337,  0.98179774],\n",
       "       [ 0.14442018,  0.97821018,  0.7745529 , ...,  0.27859787,\n",
       "         1.47972672,  1.09563722]])"
      ]
     },
     "execution_count": 270,
     "metadata": {},
     "output_type": "execute_result"
    }
   ],
   "source": [
    "x_test_filter_PR_st.values"
   ]
  },
  {
   "cell_type": "code",
   "execution_count": 271,
   "id": "ca10f38e",
   "metadata": {},
   "outputs": [
    {
     "data": {
      "text/plain": [
       "(236894, 32)"
      ]
     },
     "execution_count": 271,
     "metadata": {},
     "output_type": "execute_result"
    }
   ],
   "source": [
    "x_test_filter_PR_st.shape"
   ]
  },
  {
   "cell_type": "markdown",
   "id": "05399efe",
   "metadata": {},
   "source": [
    "Filter [0 0 0 0 0 0] from the data"
   ]
  },
  {
   "cell_type": "code",
   "execution_count": 272,
   "id": "979af4f0",
   "metadata": {},
   "outputs": [],
   "source": [
    "x_data_filter, y_data_filter = filter_dataset(x_train_filter_PR_st.values, y_data)"
   ]
  },
  {
   "cell_type": "code",
   "execution_count": 273,
   "id": "f499afc7",
   "metadata": {},
   "outputs": [
    {
     "data": {
      "text/plain": [
       "(132965, 20, 32)"
      ]
     },
     "execution_count": 273,
     "metadata": {},
     "output_type": "execute_result"
    }
   ],
   "source": [
    "x_data_filter.shape"
   ]
  },
  {
   "cell_type": "code",
   "execution_count": 274,
   "id": "759c2aba",
   "metadata": {},
   "outputs": [
    {
     "data": {
      "text/plain": [
       "(132965, 6)"
      ]
     },
     "execution_count": 274,
     "metadata": {},
     "output_type": "execute_result"
    }
   ],
   "source": [
    "y_data_filter.shape"
   ]
  },
  {
   "cell_type": "code",
   "execution_count": 275,
   "id": "6627ae14",
   "metadata": {},
   "outputs": [],
   "source": [
    "x_ts_data_filter, y_ts_data_filter = filter_dataset(x_test_filter_PR_st.values, y_ts_data)"
   ]
  },
  {
   "cell_type": "code",
   "execution_count": 276,
   "id": "35b7e005",
   "metadata": {},
   "outputs": [
    {
     "data": {
      "text/plain": [
       "(45838, 20, 32)"
      ]
     },
     "execution_count": 276,
     "metadata": {},
     "output_type": "execute_result"
    }
   ],
   "source": [
    "x_ts_data_filter.shape"
   ]
  },
  {
   "cell_type": "code",
   "execution_count": 277,
   "id": "b27ca63c",
   "metadata": {},
   "outputs": [
    {
     "data": {
      "text/plain": [
       "(45838, 6)"
      ]
     },
     "execution_count": 277,
     "metadata": {},
     "output_type": "execute_result"
    }
   ],
   "source": [
    "y_ts_data_filter.shape"
   ]
  },
  {
   "cell_type": "markdown",
   "id": "6a3e2a69",
   "metadata": {},
   "source": [
    "Shuffle"
   ]
  },
  {
   "cell_type": "code",
   "execution_count": 278,
   "id": "958a56fb",
   "metadata": {},
   "outputs": [],
   "source": [
    "x_data_filter, y_data_filter = utils.shuffle(x_data_filter, y_data_filter)"
   ]
  },
  {
   "cell_type": "code",
   "execution_count": 279,
   "id": "fff84d58",
   "metadata": {},
   "outputs": [
    {
     "data": {
      "text/plain": [
       "(132965, 20, 32)"
      ]
     },
     "execution_count": 279,
     "metadata": {},
     "output_type": "execute_result"
    }
   ],
   "source": [
    "x_data_filter.shape"
   ]
  },
  {
   "cell_type": "code",
   "execution_count": 280,
   "id": "eeb26816",
   "metadata": {},
   "outputs": [
    {
     "data": {
      "text/plain": [
       "(132965, 6)"
      ]
     },
     "execution_count": 280,
     "metadata": {},
     "output_type": "execute_result"
    }
   ],
   "source": [
    "y_data_filter.shape"
   ]
  },
  {
   "cell_type": "markdown",
   "id": "b9fa4172",
   "metadata": {},
   "source": [
    "Model"
   ]
  },
  {
   "cell_type": "code",
   "execution_count": 281,
   "id": "d29b6027",
   "metadata": {},
   "outputs": [
    {
     "name": "stderr",
     "output_type": "stream",
     "text": [
      "C:\\Users\\User\\anaconda3\\envs\\modelop_gpu\\lib\\site-packages\\tensorflow\\python\\keras\\optimizer_v2\\optimizer_v2.py:374: UserWarning: The `lr` argument is deprecated, use `learning_rate` instead.\n",
      "  warnings.warn(\n"
     ]
    },
    {
     "name": "stdout",
     "output_type": "stream",
     "text": [
      "Model: \"sequential_10\"\n",
      "_________________________________________________________________\n",
      "Layer (type)                 Output Shape              Param #   \n",
      "=================================================================\n",
      "lstm_40 (LSTM)               (None, 20, 128)           82432     \n",
      "_________________________________________________________________\n",
      "dropout_30 (Dropout)         (None, 20, 128)           0         \n",
      "_________________________________________________________________\n",
      "lstm_41 (LSTM)               (None, 20, 128)           131584    \n",
      "_________________________________________________________________\n",
      "dropout_31 (Dropout)         (None, 20, 128)           0         \n",
      "_________________________________________________________________\n",
      "lstm_42 (LSTM)               (None, 20, 128)           131584    \n",
      "_________________________________________________________________\n",
      "dropout_32 (Dropout)         (None, 20, 128)           0         \n",
      "_________________________________________________________________\n",
      "lstm_43 (LSTM)               (None, 128)               131584    \n",
      "_________________________________________________________________\n",
      "dense_20 (Dense)             (None, 32)                4128      \n",
      "_________________________________________________________________\n",
      "dense_21 (Dense)             (None, 6)                 198       \n",
      "=================================================================\n",
      "Total params: 481,510\n",
      "Trainable params: 481,510\n",
      "Non-trainable params: 0\n",
      "_________________________________________________________________\n",
      "Epoch 1/30\n",
      "1870/1870 [==============================] - 32s 15ms/step - loss: 0.1362 - accuracy: 0.7664 - val_loss: 0.0608 - val_accuracy: 0.8455\n",
      "Epoch 2/30\n",
      "1870/1870 [==============================] - 25s 13ms/step - loss: 0.0587 - accuracy: 0.8553 - val_loss: 0.0449 - val_accuracy: 0.8626\n",
      "Epoch 3/30\n",
      "1870/1870 [==============================] - 26s 14ms/step - loss: 0.0460 - accuracy: 0.8609 - val_loss: 0.0359 - val_accuracy: 0.8633\n",
      "Epoch 4/30\n",
      "1870/1870 [==============================] - 25s 14ms/step - loss: 0.0393 - accuracy: 0.8623 - val_loss: 0.0296 - val_accuracy: 0.8639\n",
      "Epoch 5/30\n",
      "1870/1870 [==============================] - 26s 14ms/step - loss: 0.0331 - accuracy: 0.8615 - val_loss: 0.0251 - val_accuracy: 0.8653\n",
      "Epoch 6/30\n",
      "1870/1870 [==============================] - 26s 14ms/step - loss: 0.0294 - accuracy: 0.8595 - val_loss: 0.0229 - val_accuracy: 0.8705\n",
      "Epoch 7/30\n",
      "1870/1870 [==============================] - 25s 14ms/step - loss: 0.0276 - accuracy: 0.8634 - val_loss: 0.0267 - val_accuracy: 0.8791\n",
      "Epoch 8/30\n",
      "1870/1870 [==============================] - 26s 14ms/step - loss: 0.0250 - accuracy: 0.8613 - val_loss: 0.0244 - val_accuracy: 0.8570\n",
      "Epoch 9/30\n",
      "1870/1870 [==============================] - 26s 14ms/step - loss: 0.0233 - accuracy: 0.8620 - val_loss: 0.0230 - val_accuracy: 0.8622\n",
      "Epoch 10/30\n",
      "1870/1870 [==============================] - 26s 14ms/step - loss: 0.0214 - accuracy: 0.8612 - val_loss: 0.0184 - val_accuracy: 0.8699\n",
      "Epoch 11/30\n",
      "1870/1870 [==============================] - 26s 14ms/step - loss: 0.0199 - accuracy: 0.8609 - val_loss: 0.0169 - val_accuracy: 0.8510\n",
      "Epoch 12/30\n",
      "1870/1870 [==============================] - 26s 14ms/step - loss: 0.0191 - accuracy: 0.8652 - val_loss: 0.0156 - val_accuracy: 0.8613\n",
      "Epoch 13/30\n",
      "1870/1870 [==============================] - 26s 14ms/step - loss: 0.0182 - accuracy: 0.8582 - val_loss: 0.0136 - val_accuracy: 0.8573\n",
      "Epoch 14/30\n",
      "1870/1870 [==============================] - 26s 14ms/step - loss: 0.0172 - accuracy: 0.8550 - val_loss: 0.0120 - val_accuracy: 0.8446\n",
      "Epoch 15/30\n",
      "1870/1870 [==============================] - 26s 14ms/step - loss: 0.0169 - accuracy: 0.8606 - val_loss: 0.0140 - val_accuracy: 0.8623\n",
      "Epoch 16/30\n",
      "1870/1870 [==============================] - 26s 14ms/step - loss: 0.0161 - accuracy: 0.8629 - val_loss: 0.0119 - val_accuracy: 0.8625\n",
      "Epoch 17/30\n",
      "1870/1870 [==============================] - 26s 14ms/step - loss: 0.0152 - accuracy: 0.8670 - val_loss: 0.0170 - val_accuracy: 0.8709\n",
      "Epoch 18/30\n",
      "1870/1870 [==============================] - 26s 14ms/step - loss: 0.0147 - accuracy: 0.8583 - val_loss: 0.0108 - val_accuracy: 0.8637\n",
      "Epoch 19/30\n",
      "1870/1870 [==============================] - 26s 14ms/step - loss: 0.0146 - accuracy: 0.8640 - val_loss: 0.0133 - val_accuracy: 0.8608\n",
      "Epoch 20/30\n",
      "1870/1870 [==============================] - 26s 14ms/step - loss: 0.0141 - accuracy: 0.8582 - val_loss: 0.0107 - val_accuracy: 0.8533\n",
      "Epoch 21/30\n",
      "1870/1870 [==============================] - 26s 14ms/step - loss: 0.0133 - accuracy: 0.8572 - val_loss: 0.0106 - val_accuracy: 0.8606\n",
      "Epoch 22/30\n",
      "1870/1870 [==============================] - 26s 14ms/step - loss: 0.0130 - accuracy: 0.8669 - val_loss: 0.0103 - val_accuracy: 0.8740\n",
      "Epoch 23/30\n",
      "1870/1870 [==============================] - 26s 14ms/step - loss: 0.0133 - accuracy: 0.8685 - val_loss: 0.0110 - val_accuracy: 0.8670\n",
      "Epoch 24/30\n",
      "1870/1870 [==============================] - 26s 14ms/step - loss: 0.0132 - accuracy: 0.8601 - val_loss: 0.0116 - val_accuracy: 0.8527\n",
      "Epoch 25/30\n",
      "1870/1870 [==============================] - 26s 14ms/step - loss: 0.0123 - accuracy: 0.8619 - val_loss: 0.0097 - val_accuracy: 0.8562\n",
      "Epoch 26/30\n",
      "1870/1870 [==============================] - 26s 14ms/step - loss: 0.0116 - accuracy: 0.8596 - val_loss: 0.0092 - val_accuracy: 0.8466\n",
      "Epoch 27/30\n",
      "1870/1870 [==============================] - 26s 14ms/step - loss: 0.0114 - accuracy: 0.8534 - val_loss: 0.0087 - val_accuracy: 0.8415\n",
      "Epoch 28/30\n",
      "1870/1870 [==============================] - 26s 14ms/step - loss: 0.0125 - accuracy: 0.8599 - val_loss: 0.0089 - val_accuracy: 0.8535\n",
      "Epoch 29/30\n",
      "1870/1870 [==============================] - 26s 14ms/step - loss: 0.0107 - accuracy: 0.8570 - val_loss: 0.0084 - val_accuracy: 0.8509\n",
      "Epoch 30/30\n",
      "1870/1870 [==============================] - 26s 14ms/step - loss: 0.0118 - accuracy: 0.8571 - val_loss: 0.0093 - val_accuracy: 0.8487\n"
     ]
    },
    {
     "data": {
      "text/plain": [
       "<tensorflow.python.keras.callbacks.History at 0x1de49bf3190>"
      ]
     },
     "execution_count": 281,
     "metadata": {},
     "output_type": "execute_result"
    }
   ],
   "source": [
    "model_with_filter_PR_standard = LSTM_model(32)\n",
    "model_with_filter_PR_standard.fit(x_data_filter, y_data_filter, epochs=30, batch_size=64, validation_split=0.1)"
   ]
  },
  {
   "cell_type": "code",
   "execution_count": 282,
   "id": "28542f26",
   "metadata": {},
   "outputs": [],
   "source": [
    "model_with_filter_PR_standard.save(\"modelop/LSTM/LSTM_with_filter_PR50_standard.h5\")"
   ]
  },
  {
   "cell_type": "markdown",
   "id": "f8443b5a",
   "metadata": {},
   "source": [
    "Evaluate"
   ]
  },
  {
   "cell_type": "code",
   "execution_count": 283,
   "id": "8d3cbb65",
   "metadata": {},
   "outputs": [
    {
     "name": "stdout",
     "output_type": "stream",
     "text": [
      "Model: \"sequential_10\"\n",
      "_________________________________________________________________\n",
      "Layer (type)                 Output Shape              Param #   \n",
      "=================================================================\n",
      "lstm_40 (LSTM)               (None, 20, 128)           82432     \n",
      "_________________________________________________________________\n",
      "dropout_30 (Dropout)         (None, 20, 128)           0         \n",
      "_________________________________________________________________\n",
      "lstm_41 (LSTM)               (None, 20, 128)           131584    \n",
      "_________________________________________________________________\n",
      "dropout_31 (Dropout)         (None, 20, 128)           0         \n",
      "_________________________________________________________________\n",
      "lstm_42 (LSTM)               (None, 20, 128)           131584    \n",
      "_________________________________________________________________\n",
      "dropout_32 (Dropout)         (None, 20, 128)           0         \n",
      "_________________________________________________________________\n",
      "lstm_43 (LSTM)               (None, 128)               131584    \n",
      "_________________________________________________________________\n",
      "dense_20 (Dense)             (None, 32)                4128      \n",
      "_________________________________________________________________\n",
      "dense_21 (Dense)             (None, 6)                 198       \n",
      "=================================================================\n",
      "Total params: 481,510\n",
      "Trainable params: 481,510\n",
      "Non-trainable params: 0\n",
      "_________________________________________________________________\n"
     ]
    }
   ],
   "source": [
    "model = load_model(\"modelop/LSTM/LSTM_with_filter_PR50_standard.h5\")\n",
    "model.summary()"
   ]
  },
  {
   "cell_type": "code",
   "execution_count": 284,
   "id": "55135b07",
   "metadata": {},
   "outputs": [
    {
     "name": "stdout",
     "output_type": "stream",
     "text": [
      "1433/1433 [==============================] - 12s 7ms/step - loss: 0.9071 - accuracy: 0.6649\n"
     ]
    },
    {
     "data": {
      "text/plain": [
       "[0.9070791006088257, 0.6649068593978882]"
      ]
     },
     "execution_count": 284,
     "metadata": {},
     "output_type": "execute_result"
    }
   ],
   "source": [
    "model.evaluate(x_ts_data_filter, y_ts_data_filter)"
   ]
  },
  {
   "cell_type": "markdown",
   "id": "3e6084ef",
   "metadata": {},
   "source": [
    "# With lowpass filter 、Polyregression and standardization (segment length = 25)"
   ]
  },
  {
   "cell_type": "markdown",
   "id": "8a649a84",
   "metadata": {},
   "source": [
    "Training data with filter, Polyregression and standardization"
   ]
  },
  {
   "cell_type": "code",
   "execution_count": 285,
   "id": "d91d1b7c",
   "metadata": {},
   "outputs": [],
   "source": [
    "x_train_filter_PR = polyregression_allsignal(x_data_df.values, 25)"
   ]
  },
  {
   "cell_type": "code",
   "execution_count": 286,
   "id": "7c36d745",
   "metadata": {},
   "outputs": [
    {
     "data": {
      "text/plain": [
       "array([[  -8.15808281,  402.18043969,  220.83485424, ...,  166.65491726,\n",
       "         116.73089682,  698.9691818 ],\n",
       "       [ -87.09519195,  315.86814236,  183.02575721, ...,  175.25747129,\n",
       "         114.77153479,  695.54641678],\n",
       "       [-135.42628115,  259.98187132,  160.52877768, ...,  178.47066703,\n",
       "         109.56293107,  687.40068788],\n",
       "       ...,\n",
       "       [ 173.89480203,   47.73587669,   48.82333521, ..., -254.77305307,\n",
       "        -223.77679339, -267.91301841],\n",
       "       [ 166.17186658,   20.33014644,   67.20781592, ..., -277.34445446,\n",
       "        -243.06387083, -293.97510031],\n",
       "       [ 153.02328959,  -18.33096924,  104.71618207, ..., -304.67577894,\n",
       "        -271.09101127, -333.55331877]])"
      ]
     },
     "execution_count": 286,
     "metadata": {},
     "output_type": "execute_result"
    }
   ],
   "source": [
    "x_train_filter_PR"
   ]
  },
  {
   "cell_type": "code",
   "execution_count": 287,
   "id": "10ec2c78",
   "metadata": {},
   "outputs": [
    {
     "data": {
      "text/plain": [
       "(1185498, 32)"
      ]
     },
     "execution_count": 287,
     "metadata": {},
     "output_type": "execute_result"
    }
   ],
   "source": [
    "x_train_filter_PR.shape"
   ]
  },
  {
   "cell_type": "code",
   "execution_count": 288,
   "id": "39bec961",
   "metadata": {},
   "outputs": [],
   "source": [
    "x_train_filter_PR_st = StandardScaler().fit_transform(x_train_filter_PR)\n",
    "x_train_filter_PR_st = pd.DataFrame(x_train_filter_PR_st)\n",
    "y=pd.DataFrame(y_data)"
   ]
  },
  {
   "cell_type": "code",
   "execution_count": 289,
   "id": "0a8692c1",
   "metadata": {},
   "outputs": [
    {
     "data": {
      "text/plain": [
       "array([[-0.58664361,  0.27594309, -0.80555237, ...,  0.63058287,\n",
       "         0.71644902,  2.72790164],\n",
       "       [-0.80981587, -0.01593956, -0.99918816, ...,  0.67844962,\n",
       "         0.70641906,  2.71166616],\n",
       "       [-0.94645829, -0.2049304 , -1.11440435, ...,  0.69632864,\n",
       "         0.67975624,  2.67302784],\n",
       "       ...,\n",
       "       [-0.0719408 , -0.92268356, -1.68649343, ..., -1.71434715,\n",
       "        -1.02660842, -1.85839163],\n",
       "       [-0.09377521, -1.01536163, -1.59233902, ..., -1.83994004,\n",
       "        -1.12533889, -1.98201408],\n",
       "       [-0.13094907, -1.14610208, -1.40024339, ..., -1.99201833,\n",
       "        -1.2688097 , -2.16974876]])"
      ]
     },
     "execution_count": 289,
     "metadata": {},
     "output_type": "execute_result"
    }
   ],
   "source": [
    "x_train_filter_PR_st.values"
   ]
  },
  {
   "cell_type": "code",
   "execution_count": 290,
   "id": "5b70ccaf",
   "metadata": {},
   "outputs": [
    {
     "data": {
      "text/plain": [
       "(1185498, 32)"
      ]
     },
     "execution_count": 290,
     "metadata": {},
     "output_type": "execute_result"
    }
   ],
   "source": [
    "x_train_filter_PR_st.shape"
   ]
  },
  {
   "cell_type": "markdown",
   "id": "f8e7f279",
   "metadata": {},
   "source": [
    "Testing data with filter, Polyregression and standardization"
   ]
  },
  {
   "cell_type": "code",
   "execution_count": 291,
   "id": "55462e51",
   "metadata": {},
   "outputs": [],
   "source": [
    "x_test_filter_PR = polyregression_allsignal(x_test_df.values, 25)"
   ]
  },
  {
   "cell_type": "code",
   "execution_count": 292,
   "id": "f357b97a",
   "metadata": {},
   "outputs": [
    {
     "data": {
      "text/plain": [
       "array([[-180.45948892,  128.70655977,  354.00972009, ..., -190.49553232,\n",
       "         -17.47838827, -122.77697117],\n",
       "       [-145.38919613,  116.44937289,  351.22643641, ..., -174.60078493,\n",
       "          -3.6634511 ,  -91.58695444],\n",
       "       [-119.18662029,  105.62730099,  352.11442762, ..., -166.02514663,\n",
       "           3.67526957,  -70.92767511],\n",
       "       ...,\n",
       "       [ 225.08256076,  364.55340139,  424.67774224, ...,  125.57009352,\n",
       "         247.76076283,  212.49395251],\n",
       "       [ 194.51098178,  321.98915154,  415.45623862, ...,   95.84514743,\n",
       "         237.83574266,  228.75014103],\n",
       "       [ 134.99912163,  251.79379168,  395.68360017, ...,   57.87138621,\n",
       "         223.68445974,  241.54220433]])"
      ]
     },
     "execution_count": 292,
     "metadata": {},
     "output_type": "execute_result"
    }
   ],
   "source": [
    "x_test_filter_PR"
   ]
  },
  {
   "cell_type": "code",
   "execution_count": 293,
   "id": "0d25c85c",
   "metadata": {},
   "outputs": [
    {
     "data": {
      "text/plain": [
       "(236894, 32)"
      ]
     },
     "execution_count": 293,
     "metadata": {},
     "output_type": "execute_result"
    }
   ],
   "source": [
    "x_test_filter_PR.shape"
   ]
  },
  {
   "cell_type": "code",
   "execution_count": 294,
   "id": "3aae3321",
   "metadata": {},
   "outputs": [],
   "source": [
    "x_test_filter_PR_st = StandardScaler().fit_transform(x_test_filter_PR)\n",
    "x_test_filter_PR_st = pd.DataFrame(x_test_filter_PR_st)\n",
    "y_test=pd.DataFrame(y_ts_data)"
   ]
  },
  {
   "cell_type": "code",
   "execution_count": 295,
   "id": "aa7b3190",
   "metadata": {},
   "outputs": [
    {
     "data": {
      "text/plain": [
       "array([[-0.55710671, -0.25107101,  0.28797357, ..., -1.47791674,\n",
       "         0.180572  , -1.14086042],\n",
       "       [-0.4983608 , -0.31030697,  0.2699039 , ..., -1.36176423,\n",
       "         0.26247324, -0.94678419],\n",
       "       [-0.45446911, -0.36260737,  0.27566892, ..., -1.29909686,\n",
       "         0.30598053, -0.81823424],\n",
       "       ...,\n",
       "       [ 0.12221292,  0.88871856,  0.74676555, ...,  0.83176559,\n",
       "         1.75303061,  0.94532369],\n",
       "       [ 0.07100276,  0.68301605,  0.68689756, ...,  0.61454746,\n",
       "         1.69419057,  1.04647592],\n",
       "       [-0.028685  ,  0.3437792 ,  0.55852935, ...,  0.33705026,\n",
       "         1.61029531,  1.12607304]])"
      ]
     },
     "execution_count": 295,
     "metadata": {},
     "output_type": "execute_result"
    }
   ],
   "source": [
    "x_test_filter_PR_st.values"
   ]
  },
  {
   "cell_type": "code",
   "execution_count": 296,
   "id": "56807867",
   "metadata": {},
   "outputs": [
    {
     "data": {
      "text/plain": [
       "(236894, 32)"
      ]
     },
     "execution_count": 296,
     "metadata": {},
     "output_type": "execute_result"
    }
   ],
   "source": [
    "x_test_filter_PR_st.shape"
   ]
  },
  {
   "cell_type": "markdown",
   "id": "15a43476",
   "metadata": {},
   "source": [
    "Filter [0 0 0 0 0 0] from the data"
   ]
  },
  {
   "cell_type": "code",
   "execution_count": 297,
   "id": "f0d0b587",
   "metadata": {},
   "outputs": [],
   "source": [
    "x_data_filter, y_data_filter = filter_dataset(x_train_filter_PR_st.values, y_data)"
   ]
  },
  {
   "cell_type": "code",
   "execution_count": 298,
   "id": "f50df2b4",
   "metadata": {},
   "outputs": [
    {
     "data": {
      "text/plain": [
       "(132965, 20, 32)"
      ]
     },
     "execution_count": 298,
     "metadata": {},
     "output_type": "execute_result"
    }
   ],
   "source": [
    "x_data_filter.shape"
   ]
  },
  {
   "cell_type": "code",
   "execution_count": 299,
   "id": "ecafb1a7",
   "metadata": {},
   "outputs": [
    {
     "data": {
      "text/plain": [
       "(132965, 6)"
      ]
     },
     "execution_count": 299,
     "metadata": {},
     "output_type": "execute_result"
    }
   ],
   "source": [
    "y_data_filter.shape"
   ]
  },
  {
   "cell_type": "code",
   "execution_count": 300,
   "id": "fb7bfd23",
   "metadata": {},
   "outputs": [],
   "source": [
    "x_ts_data_filter, y_ts_data_filter = filter_dataset(x_test_filter_PR_st.values, y_ts_data)"
   ]
  },
  {
   "cell_type": "code",
   "execution_count": 301,
   "id": "a9949549",
   "metadata": {},
   "outputs": [
    {
     "data": {
      "text/plain": [
       "(45838, 20, 32)"
      ]
     },
     "execution_count": 301,
     "metadata": {},
     "output_type": "execute_result"
    }
   ],
   "source": [
    "x_ts_data_filter.shape"
   ]
  },
  {
   "cell_type": "code",
   "execution_count": 302,
   "id": "634e8c74",
   "metadata": {},
   "outputs": [
    {
     "data": {
      "text/plain": [
       "(45838, 6)"
      ]
     },
     "execution_count": 302,
     "metadata": {},
     "output_type": "execute_result"
    }
   ],
   "source": [
    "y_ts_data_filter.shape"
   ]
  },
  {
   "cell_type": "markdown",
   "id": "6661a4a0",
   "metadata": {},
   "source": [
    "Shuffle"
   ]
  },
  {
   "cell_type": "code",
   "execution_count": 303,
   "id": "4365815d",
   "metadata": {},
   "outputs": [],
   "source": [
    "x_data_filter, y_data_filter = utils.shuffle(x_data_filter, y_data_filter)"
   ]
  },
  {
   "cell_type": "code",
   "execution_count": 304,
   "id": "ee448fff",
   "metadata": {},
   "outputs": [
    {
     "data": {
      "text/plain": [
       "(132965, 20, 32)"
      ]
     },
     "execution_count": 304,
     "metadata": {},
     "output_type": "execute_result"
    }
   ],
   "source": [
    "x_data_filter.shape"
   ]
  },
  {
   "cell_type": "code",
   "execution_count": 305,
   "id": "c5f244e5",
   "metadata": {},
   "outputs": [
    {
     "data": {
      "text/plain": [
       "(132965, 6)"
      ]
     },
     "execution_count": 305,
     "metadata": {},
     "output_type": "execute_result"
    }
   ],
   "source": [
    "y_data_filter.shape"
   ]
  },
  {
   "cell_type": "markdown",
   "id": "5b119af4",
   "metadata": {},
   "source": [
    "Model"
   ]
  },
  {
   "cell_type": "code",
   "execution_count": 306,
   "id": "3c82ce6a",
   "metadata": {},
   "outputs": [
    {
     "name": "stderr",
     "output_type": "stream",
     "text": [
      "C:\\Users\\User\\anaconda3\\envs\\modelop_gpu\\lib\\site-packages\\tensorflow\\python\\keras\\optimizer_v2\\optimizer_v2.py:374: UserWarning: The `lr` argument is deprecated, use `learning_rate` instead.\n",
      "  warnings.warn(\n"
     ]
    },
    {
     "name": "stdout",
     "output_type": "stream",
     "text": [
      "Model: \"sequential_11\"\n",
      "_________________________________________________________________\n",
      "Layer (type)                 Output Shape              Param #   \n",
      "=================================================================\n",
      "lstm_44 (LSTM)               (None, 20, 128)           82432     \n",
      "_________________________________________________________________\n",
      "dropout_33 (Dropout)         (None, 20, 128)           0         \n",
      "_________________________________________________________________\n",
      "lstm_45 (LSTM)               (None, 20, 128)           131584    \n",
      "_________________________________________________________________\n",
      "dropout_34 (Dropout)         (None, 20, 128)           0         \n",
      "_________________________________________________________________\n",
      "lstm_46 (LSTM)               (None, 20, 128)           131584    \n",
      "_________________________________________________________________\n",
      "dropout_35 (Dropout)         (None, 20, 128)           0         \n",
      "_________________________________________________________________\n",
      "lstm_47 (LSTM)               (None, 128)               131584    \n",
      "_________________________________________________________________\n",
      "dense_22 (Dense)             (None, 32)                4128      \n",
      "_________________________________________________________________\n",
      "dense_23 (Dense)             (None, 6)                 198       \n",
      "=================================================================\n",
      "Total params: 481,510\n",
      "Trainable params: 481,510\n",
      "Non-trainable params: 0\n",
      "_________________________________________________________________\n",
      "Epoch 1/30\n",
      "1870/1870 [==============================] - 31s 15ms/step - loss: 0.1338 - accuracy: 0.7825 - val_loss: 0.0668 - val_accuracy: 0.8276\n",
      "Epoch 2/30\n",
      "1870/1870 [==============================] - 25s 13ms/step - loss: 0.0603 - accuracy: 0.8598 - val_loss: 0.0436 - val_accuracy: 0.8368\n",
      "Epoch 3/30\n",
      "1870/1870 [==============================] - 25s 13ms/step - loss: 0.0490 - accuracy: 0.8588 - val_loss: 0.0399 - val_accuracy: 0.8509\n",
      "Epoch 4/30\n",
      "1870/1870 [==============================] - 25s 14ms/step - loss: 0.0433 - accuracy: 0.8560 - val_loss: 0.0345 - val_accuracy: 0.8526\n",
      "Epoch 5/30\n",
      "1870/1870 [==============================] - 25s 14ms/step - loss: 0.0355 - accuracy: 0.8518 - val_loss: 0.0328 - val_accuracy: 0.8568\n",
      "Epoch 6/30\n",
      "1870/1870 [==============================] - 26s 14ms/step - loss: 0.0316 - accuracy: 0.8574 - val_loss: 0.0245 - val_accuracy: 0.8481\n",
      "Epoch 7/30\n",
      "1870/1870 [==============================] - 26s 14ms/step - loss: 0.0287 - accuracy: 0.8609 - val_loss: 0.0243 - val_accuracy: 0.8706\n",
      "Epoch 8/30\n",
      "1870/1870 [==============================] - 26s 14ms/step - loss: 0.0256 - accuracy: 0.8576 - val_loss: 0.0201 - val_accuracy: 0.8599\n",
      "Epoch 9/30\n",
      "1870/1870 [==============================] - 26s 14ms/step - loss: 0.0242 - accuracy: 0.8545 - val_loss: 0.0195 - val_accuracy: 0.8442\n",
      "Epoch 10/30\n",
      "1870/1870 [==============================] - 26s 14ms/step - loss: 0.0228 - accuracy: 0.8525 - val_loss: 0.0174 - val_accuracy: 0.8546\n",
      "Epoch 11/30\n",
      "1870/1870 [==============================] - 26s 14ms/step - loss: 0.0212 - accuracy: 0.8599 - val_loss: 0.0174 - val_accuracy: 0.8532\n",
      "Epoch 12/30\n",
      "1870/1870 [==============================] - 26s 14ms/step - loss: 0.0192 - accuracy: 0.8616 - val_loss: 0.0179 - val_accuracy: 0.8730\n",
      "Epoch 13/30\n",
      "1870/1870 [==============================] - 26s 14ms/step - loss: 0.0202 - accuracy: 0.8650 - val_loss: 0.0152 - val_accuracy: 0.8773\n",
      "Epoch 14/30\n",
      "1870/1870 [==============================] - 26s 14ms/step - loss: 0.0174 - accuracy: 0.8730 - val_loss: 0.0142 - val_accuracy: 0.8591\n",
      "Epoch 15/30\n",
      "1870/1870 [==============================] - 26s 14ms/step - loss: 0.0164 - accuracy: 0.8703 - val_loss: 0.0141 - val_accuracy: 0.8839\n",
      "Epoch 16/30\n",
      "1870/1870 [==============================] - 26s 14ms/step - loss: 0.0165 - accuracy: 0.8702 - val_loss: 0.0131 - val_accuracy: 0.8631\n",
      "Epoch 17/30\n",
      "1870/1870 [==============================] - 26s 14ms/step - loss: 0.0155 - accuracy: 0.8632 - val_loss: 0.0132 - val_accuracy: 0.8470\n",
      "Epoch 18/30\n",
      "1870/1870 [==============================] - 26s 14ms/step - loss: 0.0150 - accuracy: 0.8598 - val_loss: 0.0113 - val_accuracy: 0.8730\n",
      "Epoch 19/30\n",
      "1870/1870 [==============================] - 26s 14ms/step - loss: 0.0147 - accuracy: 0.8609 - val_loss: 0.0138 - val_accuracy: 0.8436\n",
      "Epoch 20/30\n",
      "1870/1870 [==============================] - 26s 14ms/step - loss: 0.0141 - accuracy: 0.8605 - val_loss: 0.0105 - val_accuracy: 0.8628\n",
      "Epoch 21/30\n",
      "1870/1870 [==============================] - 26s 14ms/step - loss: 0.0133 - accuracy: 0.8674 - val_loss: 0.0105 - val_accuracy: 0.8719\n",
      "Epoch 22/30\n",
      "1870/1870 [==============================] - 26s 14ms/step - loss: 0.0127 - accuracy: 0.8687 - val_loss: 0.0115 - val_accuracy: 0.8726\n",
      "Epoch 23/30\n",
      "1870/1870 [==============================] - 26s 14ms/step - loss: 0.0141 - accuracy: 0.8697 - val_loss: 0.0128 - val_accuracy: 0.8728\n",
      "Epoch 24/30\n",
      "1870/1870 [==============================] - 27s 14ms/step - loss: 0.0121 - accuracy: 0.8719 - val_loss: 0.0111 - val_accuracy: 0.8800\n",
      "Epoch 25/30\n",
      "1870/1870 [==============================] - 26s 14ms/step - loss: 0.0126 - accuracy: 0.8618 - val_loss: 0.0103 - val_accuracy: 0.8657\n",
      "Epoch 26/30\n",
      "1870/1870 [==============================] - 26s 14ms/step - loss: 0.0116 - accuracy: 0.8543 - val_loss: 0.0097 - val_accuracy: 0.8576\n",
      "Epoch 27/30\n",
      "1870/1870 [==============================] - 26s 14ms/step - loss: 0.0113 - accuracy: 0.8572 - val_loss: 0.0090 - val_accuracy: 0.8518\n",
      "Epoch 28/30\n",
      "1870/1870 [==============================] - 26s 14ms/step - loss: 0.0108 - accuracy: 0.8614 - val_loss: 0.0087 - val_accuracy: 0.8543\n",
      "Epoch 29/30\n",
      "1870/1870 [==============================] - 27s 14ms/step - loss: 0.0110 - accuracy: 0.8620 - val_loss: 0.0104 - val_accuracy: 0.8718\n",
      "Epoch 30/30\n",
      "1870/1870 [==============================] - 26s 14ms/step - loss: 0.0114 - accuracy: 0.8641 - val_loss: 0.0112 - val_accuracy: 0.8559\n"
     ]
    },
    {
     "data": {
      "text/plain": [
       "<tensorflow.python.keras.callbacks.History at 0x1dc4dfc49a0>"
      ]
     },
     "execution_count": 306,
     "metadata": {},
     "output_type": "execute_result"
    }
   ],
   "source": [
    "model_with_filter_PR_standard = LSTM_model(32)\n",
    "model_with_filter_PR_standard.fit(x_data_filter, y_data_filter, epochs=30, batch_size=64, validation_split=0.1)"
   ]
  },
  {
   "cell_type": "code",
   "execution_count": 307,
   "id": "5b07afc3",
   "metadata": {},
   "outputs": [],
   "source": [
    "model_with_filter_PR_standard.save(\"modelop/LSTM/LSTM_with_filter_PR25_standard.h5\")"
   ]
  },
  {
   "cell_type": "markdown",
   "id": "6d1192ac",
   "metadata": {},
   "source": [
    "Evaluate"
   ]
  },
  {
   "cell_type": "code",
   "execution_count": 308,
   "id": "05cabac1",
   "metadata": {},
   "outputs": [
    {
     "name": "stdout",
     "output_type": "stream",
     "text": [
      "Model: \"sequential_11\"\n",
      "_________________________________________________________________\n",
      "Layer (type)                 Output Shape              Param #   \n",
      "=================================================================\n",
      "lstm_44 (LSTM)               (None, 20, 128)           82432     \n",
      "_________________________________________________________________\n",
      "dropout_33 (Dropout)         (None, 20, 128)           0         \n",
      "_________________________________________________________________\n",
      "lstm_45 (LSTM)               (None, 20, 128)           131584    \n",
      "_________________________________________________________________\n",
      "dropout_34 (Dropout)         (None, 20, 128)           0         \n",
      "_________________________________________________________________\n",
      "lstm_46 (LSTM)               (None, 20, 128)           131584    \n",
      "_________________________________________________________________\n",
      "dropout_35 (Dropout)         (None, 20, 128)           0         \n",
      "_________________________________________________________________\n",
      "lstm_47 (LSTM)               (None, 128)               131584    \n",
      "_________________________________________________________________\n",
      "dense_22 (Dense)             (None, 32)                4128      \n",
      "_________________________________________________________________\n",
      "dense_23 (Dense)             (None, 6)                 198       \n",
      "=================================================================\n",
      "Total params: 481,510\n",
      "Trainable params: 481,510\n",
      "Non-trainable params: 0\n",
      "_________________________________________________________________\n"
     ]
    }
   ],
   "source": [
    "model = load_model(\"modelop/LSTM/LSTM_with_filter_PR25_standard.h5\")\n",
    "model.summary()"
   ]
  },
  {
   "cell_type": "code",
   "execution_count": 309,
   "id": "cad03a59",
   "metadata": {},
   "outputs": [
    {
     "name": "stdout",
     "output_type": "stream",
     "text": [
      "1433/1433 [==============================] - 12s 7ms/step - loss: 1.1459 - accuracy: 0.6321\n"
     ]
    },
    {
     "data": {
      "text/plain": [
       "[1.1459400653839111, 0.6320956349372864]"
      ]
     },
     "execution_count": 309,
     "metadata": {},
     "output_type": "execute_result"
    }
   ],
   "source": [
    "model.evaluate(x_ts_data_filter, y_ts_data_filter)"
   ]
  },
  {
   "cell_type": "markdown",
   "id": "c0352499",
   "metadata": {},
   "source": [
    "# With Polyregression and standardization (segment length = 100)"
   ]
  },
  {
   "cell_type": "markdown",
   "id": "9e40dda4",
   "metadata": {},
   "source": [
    "Training data with Polyregression and standardization"
   ]
  },
  {
   "cell_type": "code",
   "execution_count": 310,
   "id": "591602b2",
   "metadata": {},
   "outputs": [],
   "source": [
    "x_train_filter_PR = polyregression_allsignal(x_data, 100)"
   ]
  },
  {
   "cell_type": "code",
   "execution_count": 311,
   "id": "f755244a",
   "metadata": {},
   "outputs": [
    {
     "data": {
      "text/plain": [
       "array([[-217.1886914 ,  235.19179868,   35.00949464, ...,  139.14426238,\n",
       "          75.21272475,  650.01598845],\n",
       "       [-183.44793811,  252.22278879,   72.2717891 , ...,  140.93385922,\n",
       "          71.70523549,  642.79712269],\n",
       "       [-151.98333276,  267.998665  ,  106.65433306, ...,  142.49525109,\n",
       "          68.3689552 ,  636.03137103],\n",
       "       ...,\n",
       "       [ 152.08107755,   48.55604721,   75.93571694, ..., -253.54786669,\n",
       "        -243.95987108, -296.37637117],\n",
       "       [ 146.2101169 ,   39.08963309,   63.58656321, ..., -270.59557403,\n",
       "        -258.61463096, -310.12834891],\n",
       "       [ 139.65328014,   28.75452525,   50.15791007, ..., -289.16903172,\n",
       "        -274.61371322, -325.32175114]])"
      ]
     },
     "execution_count": 311,
     "metadata": {},
     "output_type": "execute_result"
    }
   ],
   "source": [
    "x_train_filter_PR"
   ]
  },
  {
   "cell_type": "code",
   "execution_count": 312,
   "id": "9efbf0c8",
   "metadata": {},
   "outputs": [
    {
     "data": {
      "text/plain": [
       "(1185498, 32)"
      ]
     },
     "execution_count": 312,
     "metadata": {},
     "output_type": "execute_result"
    }
   ],
   "source": [
    "x_train_filter_PR.shape"
   ]
  },
  {
   "cell_type": "code",
   "execution_count": 313,
   "id": "04346960",
   "metadata": {},
   "outputs": [],
   "source": [
    "x_train_filter_PR_st = StandardScaler().fit_transform(x_train_filter_PR)\n",
    "x_train_filter_PR_st = pd.DataFrame(x_train_filter_PR_st)\n",
    "y=pd.DataFrame(y_data)"
   ]
  },
  {
   "cell_type": "code",
   "execution_count": 314,
   "id": "21af41e2",
   "metadata": {},
   "outputs": [
    {
     "data": {
      "text/plain": [
       "array([[-1.1909424 , -0.29330257, -1.8118115 , ...,  0.48900912,\n",
       "         0.51457138,  2.56592472],\n",
       "       [-1.09447066, -0.23480343, -1.61504956, ...,  0.49920675,\n",
       "         0.49623696,  2.53071933],\n",
       "       [-1.0045069 , -0.18061543, -1.43349402, ...,  0.508104  ,\n",
       "         0.47879749,  2.49772371],\n",
       "       ...,\n",
       "       [-0.13512435, -0.93437108, -1.59570235, ..., -1.74866107,\n",
       "        -1.15381366, -2.04949727],\n",
       "       [-0.15191063, -0.96688693, -1.66091152, ..., -1.8458037 ,\n",
       "        -1.2304173 , -2.11656372],\n",
       "       [-0.17065797, -1.00238663, -1.73182094, ..., -1.95164049,\n",
       "        -1.314048  , -2.1906598 ]])"
      ]
     },
     "execution_count": 314,
     "metadata": {},
     "output_type": "execute_result"
    }
   ],
   "source": [
    "x_train_filter_PR_st.values"
   ]
  },
  {
   "cell_type": "code",
   "execution_count": 315,
   "id": "e71a046e",
   "metadata": {},
   "outputs": [
    {
     "data": {
      "text/plain": [
       "(1185498, 32)"
      ]
     },
     "execution_count": 315,
     "metadata": {},
     "output_type": "execute_result"
    }
   ],
   "source": [
    "x_train_filter_PR_st.shape"
   ]
  },
  {
   "cell_type": "markdown",
   "id": "e72f7cb6",
   "metadata": {},
   "source": [
    "Testing data with Polyregression and standardization"
   ]
  },
  {
   "cell_type": "code",
   "execution_count": 316,
   "id": "322dcdb2",
   "metadata": {},
   "outputs": [],
   "source": [
    "x_test_filter_PR = polyregression_allsignal(x_ts_data, 100)"
   ]
  },
  {
   "cell_type": "code",
   "execution_count": 317,
   "id": "8d631b93",
   "metadata": {},
   "outputs": [
    {
     "data": {
      "text/plain": [
       "array([[-141.74406082,   68.91580277,  370.38011449, ..., -163.56387837,\n",
       "         -18.69628414,  -94.08991868],\n",
       "       [-137.30750116,   66.52046219,  366.5781568 , ..., -166.19867183,\n",
       "         -16.63137689,  -90.35900813],\n",
       "       [-133.12030146,   64.48490079,  363.18968022, ..., -168.51791429,\n",
       "         -14.5070873 ,  -86.72423121],\n",
       "       ...,\n",
       "       [ 162.46215748,  319.74685495,  384.62611128, ...,  156.38749057,\n",
       "         266.23136713,  196.7246605 ],\n",
       "       [ 169.8702627 ,  332.36680385,  382.12563904, ...,  154.56309608,\n",
       "         271.14790862,  199.32510123],\n",
       "       [ 177.70058409,  345.92932605,  378.96449002, ...,  152.01669095,\n",
       "         276.0082662 ,  201.59682853]])"
      ]
     },
     "execution_count": 317,
     "metadata": {},
     "output_type": "execute_result"
    }
   ],
   "source": [
    "x_test_filter_PR"
   ]
  },
  {
   "cell_type": "code",
   "execution_count": 318,
   "id": "8a850d1a",
   "metadata": {},
   "outputs": [
    {
     "data": {
      "text/plain": [
       "(236894, 32)"
      ]
     },
     "execution_count": 318,
     "metadata": {},
     "output_type": "execute_result"
    }
   ],
   "source": [
    "x_test_filter_PR.shape"
   ]
  },
  {
   "cell_type": "code",
   "execution_count": 319,
   "id": "63b4d9c7",
   "metadata": {},
   "outputs": [],
   "source": [
    "x_test_filter_PR_st = StandardScaler().fit_transform(x_test_filter_PR)\n",
    "x_test_filter_PR_st = pd.DataFrame(x_test_filter_PR_st)\n",
    "y_test=pd.DataFrame(y_ts_data)"
   ]
  },
  {
   "cell_type": "code",
   "execution_count": 320,
   "id": "143518f0",
   "metadata": {},
   "outputs": [
    {
     "data": {
      "text/plain": [
       "array([[-0.493495  , -0.55447651,  0.40731532, ..., -1.33355748,\n",
       "         0.17779387, -0.99904665],\n",
       "       [-0.48604463, -0.5663624 ,  0.38181461, ..., -1.35359966,\n",
       "         0.19034944, -0.97494652],\n",
       "       [-0.47901302, -0.57646303,  0.35908722, ..., -1.37124152,\n",
       "         0.20326608, -0.95146737],\n",
       "       ...,\n",
       "       [ 0.01736223,  0.690169  ,  0.50286692, ...,  1.10022736,\n",
       "         1.91028268,  0.87949469],\n",
       "       [ 0.02980276,  0.75279028,  0.4860956 , ...,  1.08634968,\n",
       "         1.94017747,  0.89629246],\n",
       "       [ 0.04295231,  0.8200887 ,  0.46489295, ...,  1.06697985,\n",
       "         1.96973064,  0.91096687]])"
      ]
     },
     "execution_count": 320,
     "metadata": {},
     "output_type": "execute_result"
    }
   ],
   "source": [
    "x_test_filter_PR_st.values"
   ]
  },
  {
   "cell_type": "code",
   "execution_count": 321,
   "id": "bae6df23",
   "metadata": {},
   "outputs": [
    {
     "data": {
      "text/plain": [
       "(236894, 32)"
      ]
     },
     "execution_count": 321,
     "metadata": {},
     "output_type": "execute_result"
    }
   ],
   "source": [
    "x_test_filter_PR_st.shape"
   ]
  },
  {
   "cell_type": "markdown",
   "id": "34fff13d",
   "metadata": {},
   "source": [
    "Filter [0 0 0 0 0 0] from the data"
   ]
  },
  {
   "cell_type": "code",
   "execution_count": 322,
   "id": "3fbfd7f6",
   "metadata": {},
   "outputs": [],
   "source": [
    "x_data_filter, y_data_filter = filter_dataset(x_train_filter_PR_st.values, y_data)"
   ]
  },
  {
   "cell_type": "code",
   "execution_count": 323,
   "id": "a55b74dc",
   "metadata": {},
   "outputs": [
    {
     "data": {
      "text/plain": [
       "(132965, 20, 32)"
      ]
     },
     "execution_count": 323,
     "metadata": {},
     "output_type": "execute_result"
    }
   ],
   "source": [
    "x_data_filter.shape"
   ]
  },
  {
   "cell_type": "code",
   "execution_count": 324,
   "id": "5f61c655",
   "metadata": {},
   "outputs": [
    {
     "data": {
      "text/plain": [
       "(132965, 6)"
      ]
     },
     "execution_count": 324,
     "metadata": {},
     "output_type": "execute_result"
    }
   ],
   "source": [
    "y_data_filter.shape"
   ]
  },
  {
   "cell_type": "code",
   "execution_count": 325,
   "id": "1171f940",
   "metadata": {},
   "outputs": [],
   "source": [
    "x_ts_data_filter, y_ts_data_filter = filter_dataset(x_test_filter_PR_st.values, y_ts_data)"
   ]
  },
  {
   "cell_type": "code",
   "execution_count": 326,
   "id": "effa4884",
   "metadata": {},
   "outputs": [
    {
     "data": {
      "text/plain": [
       "(45838, 20, 32)"
      ]
     },
     "execution_count": 326,
     "metadata": {},
     "output_type": "execute_result"
    }
   ],
   "source": [
    "x_ts_data_filter.shape"
   ]
  },
  {
   "cell_type": "code",
   "execution_count": 327,
   "id": "67d1e722",
   "metadata": {},
   "outputs": [
    {
     "data": {
      "text/plain": [
       "(45838, 6)"
      ]
     },
     "execution_count": 327,
     "metadata": {},
     "output_type": "execute_result"
    }
   ],
   "source": [
    "y_ts_data_filter.shape"
   ]
  },
  {
   "cell_type": "markdown",
   "id": "ad36d8d4",
   "metadata": {},
   "source": [
    "Shuffle"
   ]
  },
  {
   "cell_type": "code",
   "execution_count": 328,
   "id": "53c7eb00",
   "metadata": {},
   "outputs": [],
   "source": [
    "x_data_filter, y_data_filter = utils.shuffle(x_data_filter, y_data_filter)"
   ]
  },
  {
   "cell_type": "code",
   "execution_count": 329,
   "id": "e2252b6b",
   "metadata": {},
   "outputs": [
    {
     "data": {
      "text/plain": [
       "(132965, 20, 32)"
      ]
     },
     "execution_count": 329,
     "metadata": {},
     "output_type": "execute_result"
    }
   ],
   "source": [
    "x_data_filter.shape"
   ]
  },
  {
   "cell_type": "code",
   "execution_count": 330,
   "id": "6a0eb3a2",
   "metadata": {},
   "outputs": [
    {
     "data": {
      "text/plain": [
       "(132965, 6)"
      ]
     },
     "execution_count": 330,
     "metadata": {},
     "output_type": "execute_result"
    }
   ],
   "source": [
    "y_data_filter.shape"
   ]
  },
  {
   "cell_type": "markdown",
   "id": "d4e8ae74",
   "metadata": {},
   "source": [
    "Model"
   ]
  },
  {
   "cell_type": "code",
   "execution_count": 331,
   "id": "3e1e5470",
   "metadata": {},
   "outputs": [
    {
     "name": "stderr",
     "output_type": "stream",
     "text": [
      "C:\\Users\\User\\anaconda3\\envs\\modelop_gpu\\lib\\site-packages\\tensorflow\\python\\keras\\optimizer_v2\\optimizer_v2.py:374: UserWarning: The `lr` argument is deprecated, use `learning_rate` instead.\n",
      "  warnings.warn(\n"
     ]
    },
    {
     "name": "stdout",
     "output_type": "stream",
     "text": [
      "Model: \"sequential_12\"\n",
      "_________________________________________________________________\n",
      "Layer (type)                 Output Shape              Param #   \n",
      "=================================================================\n",
      "lstm_48 (LSTM)               (None, 20, 128)           82432     \n",
      "_________________________________________________________________\n",
      "dropout_36 (Dropout)         (None, 20, 128)           0         \n",
      "_________________________________________________________________\n",
      "lstm_49 (LSTM)               (None, 20, 128)           131584    \n",
      "_________________________________________________________________\n",
      "dropout_37 (Dropout)         (None, 20, 128)           0         \n",
      "_________________________________________________________________\n",
      "lstm_50 (LSTM)               (None, 20, 128)           131584    \n",
      "_________________________________________________________________\n",
      "dropout_38 (Dropout)         (None, 20, 128)           0         \n",
      "_________________________________________________________________\n",
      "lstm_51 (LSTM)               (None, 128)               131584    \n",
      "_________________________________________________________________\n",
      "dense_24 (Dense)             (None, 32)                4128      \n",
      "_________________________________________________________________\n",
      "dense_25 (Dense)             (None, 6)                 198       \n",
      "=================================================================\n",
      "Total params: 481,510\n",
      "Trainable params: 481,510\n",
      "Non-trainable params: 0\n",
      "_________________________________________________________________\n",
      "Epoch 1/30\n",
      "3740/3740 [==============================] - 51s 13ms/step - loss: 0.1143 - accuracy: 0.8057 - val_loss: 0.0613 - val_accuracy: 0.8274\n",
      "Epoch 2/30\n",
      "3740/3740 [==============================] - 48s 13ms/step - loss: 0.0540 - accuracy: 0.8612 - val_loss: 0.0411 - val_accuracy: 0.8500\n",
      "Epoch 3/30\n",
      "3740/3740 [==============================] - 48s 13ms/step - loss: 0.0430 - accuracy: 0.8622 - val_loss: 0.0307 - val_accuracy: 0.8598\n",
      "Epoch 4/30\n",
      "3740/3740 [==============================] - 47s 13ms/step - loss: 0.0358 - accuracy: 0.8583 - val_loss: 0.0268 - val_accuracy: 0.8625\n",
      "Epoch 5/30\n",
      "3740/3740 [==============================] - 49s 13ms/step - loss: 0.0319 - accuracy: 0.8668 - val_loss: 0.0260 - val_accuracy: 0.8540\n",
      "Epoch 6/30\n",
      "3740/3740 [==============================] - 48s 13ms/step - loss: 0.0282 - accuracy: 0.8637 - val_loss: 0.0377 - val_accuracy: 0.8358\n",
      "Epoch 7/30\n",
      "3740/3740 [==============================] - 47s 13ms/step - loss: 0.0266 - accuracy: 0.8629 - val_loss: 0.0199 - val_accuracy: 0.8735\n",
      "Epoch 8/30\n",
      "3740/3740 [==============================] - 48s 13ms/step - loss: 0.0237 - accuracy: 0.8620 - val_loss: 0.0268 - val_accuracy: 0.8710\n",
      "Epoch 9/30\n",
      "3740/3740 [==============================] - 48s 13ms/step - loss: 0.0232 - accuracy: 0.8601 - val_loss: 0.0201 - val_accuracy: 0.8555\n",
      "Epoch 10/30\n",
      "3740/3740 [==============================] - 48s 13ms/step - loss: 0.0213 - accuracy: 0.8667 - val_loss: 0.0162 - val_accuracy: 0.8743\n",
      "Epoch 11/30\n",
      "3740/3740 [==============================] - 48s 13ms/step - loss: 0.0200 - accuracy: 0.8656 - val_loss: 0.0169 - val_accuracy: 0.8687\n",
      "Epoch 12/30\n",
      "3740/3740 [==============================] - 48s 13ms/step - loss: 0.0209 - accuracy: 0.8617 - val_loss: 0.0154 - val_accuracy: 0.8749\n",
      "Epoch 13/30\n",
      "3740/3740 [==============================] - 48s 13ms/step - loss: 0.0185 - accuracy: 0.8666 - val_loss: 0.0172 - val_accuracy: 0.8464\n",
      "Epoch 14/30\n",
      "3740/3740 [==============================] - 48s 13ms/step - loss: 0.0180 - accuracy: 0.8662 - val_loss: 0.0160 - val_accuracy: 0.8589\n",
      "Epoch 15/30\n",
      "3740/3740 [==============================] - 48s 13ms/step - loss: 0.0177 - accuracy: 0.8590 - val_loss: 0.0150 - val_accuracy: 0.8231\n",
      "Epoch 16/30\n",
      "3740/3740 [==============================] - 47s 13ms/step - loss: 0.0169 - accuracy: 0.8560 - val_loss: 0.0140 - val_accuracy: 0.8527\n",
      "Epoch 17/30\n",
      "3740/3740 [==============================] - 49s 13ms/step - loss: 0.0157 - accuracy: 0.8567 - val_loss: 0.0121 - val_accuracy: 0.8549\n",
      "Epoch 18/30\n",
      "3740/3740 [==============================] - 49s 13ms/step - loss: 0.0157 - accuracy: 0.8755 - val_loss: 0.0167 - val_accuracy: 0.8758\n",
      "Epoch 19/30\n",
      "3740/3740 [==============================] - 47s 13ms/step - loss: 0.0150 - accuracy: 0.8655 - val_loss: 0.0132 - val_accuracy: 0.8804\n",
      "Epoch 20/30\n",
      "3740/3740 [==============================] - 48s 13ms/step - loss: 0.0152 - accuracy: 0.8682 - val_loss: 0.0115 - val_accuracy: 0.8799\n",
      "Epoch 21/30\n",
      "3740/3740 [==============================] - 48s 13ms/step - loss: 0.0141 - accuracy: 0.8774 - val_loss: 0.0105 - val_accuracy: 0.8570\n",
      "Epoch 22/30\n",
      "3740/3740 [==============================] - 48s 13ms/step - loss: 0.0140 - accuracy: 0.8629 - val_loss: 0.0120 - val_accuracy: 0.8810\n",
      "Epoch 23/30\n",
      "3740/3740 [==============================] - 48s 13ms/step - loss: 0.0139 - accuracy: 0.8619 - val_loss: 0.0116 - val_accuracy: 0.8665\n",
      "Epoch 24/30\n",
      "3740/3740 [==============================] - 48s 13ms/step - loss: 0.0133 - accuracy: 0.8631 - val_loss: 0.0120 - val_accuracy: 0.8919\n",
      "Epoch 25/30\n",
      "3740/3740 [==============================] - 48s 13ms/step - loss: 0.0135 - accuracy: 0.8797 - val_loss: 0.0147 - val_accuracy: 0.8779\n",
      "Epoch 26/30\n",
      "3740/3740 [==============================] - 48s 13ms/step - loss: 0.0133 - accuracy: 0.8717 - val_loss: 0.0124 - val_accuracy: 0.8725\n",
      "Epoch 27/30\n",
      "3740/3740 [==============================] - 60s 16ms/step - loss: 0.0124 - accuracy: 0.8614 - val_loss: 0.0102 - val_accuracy: 0.8719\n",
      "Epoch 28/30\n",
      "3740/3740 [==============================] - 48s 13ms/step - loss: 0.0135 - accuracy: 0.8683 - val_loss: 0.0097 - val_accuracy: 0.8801\n",
      "Epoch 29/30\n",
      "3740/3740 [==============================] - 49s 13ms/step - loss: 0.0126 - accuracy: 0.8665 - val_loss: 0.0114 - val_accuracy: 0.8722\n",
      "Epoch 30/30\n",
      "3740/3740 [==============================] - 47s 13ms/step - loss: 0.0124 - accuracy: 0.8731 - val_loss: 0.0107 - val_accuracy: 0.8667\n"
     ]
    },
    {
     "data": {
      "text/plain": [
       "<tensorflow.python.keras.callbacks.History at 0x1de30501580>"
      ]
     },
     "execution_count": 331,
     "metadata": {},
     "output_type": "execute_result"
    }
   ],
   "source": [
    "model_with_PR_standard = LSTM_model(32)\n",
    "model_with_PR_standard.fit(x_data_filter, y_data_filter, epochs=30, batch_size=64, validation_split=0.1)"
   ]
  },
  {
   "cell_type": "code",
   "execution_count": 332,
   "id": "c6fc61e6",
   "metadata": {},
   "outputs": [],
   "source": [
    "model_with_PR_standard.save(\"modelop/LSTM/LSTM_with_PR100_standard.h5\")"
   ]
  },
  {
   "cell_type": "markdown",
   "id": "ffffed13",
   "metadata": {},
   "source": [
    "Evaluate"
   ]
  },
  {
   "cell_type": "code",
   "execution_count": 333,
   "id": "a02db60a",
   "metadata": {},
   "outputs": [
    {
     "name": "stdout",
     "output_type": "stream",
     "text": [
      "Model: \"sequential_12\"\n",
      "_________________________________________________________________\n",
      "Layer (type)                 Output Shape              Param #   \n",
      "=================================================================\n",
      "lstm_48 (LSTM)               (None, 20, 128)           82432     \n",
      "_________________________________________________________________\n",
      "dropout_36 (Dropout)         (None, 20, 128)           0         \n",
      "_________________________________________________________________\n",
      "lstm_49 (LSTM)               (None, 20, 128)           131584    \n",
      "_________________________________________________________________\n",
      "dropout_37 (Dropout)         (None, 20, 128)           0         \n",
      "_________________________________________________________________\n",
      "lstm_50 (LSTM)               (None, 20, 128)           131584    \n",
      "_________________________________________________________________\n",
      "dropout_38 (Dropout)         (None, 20, 128)           0         \n",
      "_________________________________________________________________\n",
      "lstm_51 (LSTM)               (None, 128)               131584    \n",
      "_________________________________________________________________\n",
      "dense_24 (Dense)             (None, 32)                4128      \n",
      "_________________________________________________________________\n",
      "dense_25 (Dense)             (None, 6)                 198       \n",
      "=================================================================\n",
      "Total params: 481,510\n",
      "Trainable params: 481,510\n",
      "Non-trainable params: 0\n",
      "_________________________________________________________________\n"
     ]
    }
   ],
   "source": [
    "model = load_model(\"modelop/LSTM/LSTM_with_PR100_standard.h5\")\n",
    "model.summary()"
   ]
  },
  {
   "cell_type": "code",
   "execution_count": 334,
   "id": "c5317cf5",
   "metadata": {},
   "outputs": [
    {
     "name": "stdout",
     "output_type": "stream",
     "text": [
      "1433/1433 [==============================] - 11s 7ms/step - loss: 0.8494 - accuracy: 0.6926\n"
     ]
    },
    {
     "data": {
      "text/plain": [
       "[0.8494438529014587, 0.6925694942474365]"
      ]
     },
     "execution_count": 334,
     "metadata": {},
     "output_type": "execute_result"
    }
   ],
   "source": [
    "model.evaluate(x_ts_data_filter, y_ts_data_filter)"
   ]
  },
  {
   "cell_type": "markdown",
   "id": "a2afb2b4",
   "metadata": {},
   "source": [
    "# With Polyregression and standardization (segment length = 50)"
   ]
  },
  {
   "cell_type": "markdown",
   "id": "c41cdaf6",
   "metadata": {},
   "source": [
    "Training data with Polyregression and standardization"
   ]
  },
  {
   "cell_type": "code",
   "execution_count": 335,
   "id": "c4f40aea",
   "metadata": {},
   "outputs": [],
   "source": [
    "x_train_filter_PR = polyregression_allsignal(x_data, 50)"
   ]
  },
  {
   "cell_type": "code",
   "execution_count": 336,
   "id": "44278875",
   "metadata": {},
   "outputs": [
    {
     "data": {
      "text/plain": [
       "array([[-199.68372179,  239.77176357,  104.84797518, ...,  159.17631407,\n",
       "         105.30727966,  720.22545889],\n",
       "       [-168.08090325,  259.40858305,  116.85107088, ...,  161.24834822,\n",
       "          99.62297017,  699.22534041],\n",
       "       [-139.19670778,  276.86193119,  130.27365408, ...,  161.74673923,\n",
       "          93.00494327,  679.18858742],\n",
       "       ...,\n",
       "       [ 158.93991722,   59.8075555 ,   77.66078287, ..., -253.861813  ,\n",
       "        -228.41550787, -270.84702495],\n",
       "       [ 146.38677088,   45.16487397,   56.34475024, ..., -291.04929126,\n",
       "        -249.79707426, -291.84516352],\n",
       "       [ 130.69073629,   27.09877643,   31.260004  , ..., -335.55768538,\n",
       "        -275.77862645, -318.49282367]])"
      ]
     },
     "execution_count": 336,
     "metadata": {},
     "output_type": "execute_result"
    }
   ],
   "source": [
    "x_train_filter_PR"
   ]
  },
  {
   "cell_type": "code",
   "execution_count": 337,
   "id": "21a283e4",
   "metadata": {},
   "outputs": [
    {
     "data": {
      "text/plain": [
       "(1185498, 32)"
      ]
     },
     "execution_count": 337,
     "metadata": {},
     "output_type": "execute_result"
    }
   ],
   "source": [
    "x_train_filter_PR.shape"
   ]
  },
  {
   "cell_type": "code",
   "execution_count": 338,
   "id": "a9cae324",
   "metadata": {},
   "outputs": [],
   "source": [
    "x_train_filter_PR_st = StandardScaler().fit_transform(x_train_filter_PR)\n",
    "x_train_filter_PR_st = pd.DataFrame(x_train_filter_PR_st)\n",
    "y=pd.DataFrame(y_data)"
   ]
  },
  {
   "cell_type": "code",
   "execution_count": 339,
   "id": "7f9464dd",
   "metadata": {},
   "outputs": [
    {
     "data": {
      "text/plain": [
       "array([[-1.13238934, -0.27489391, -1.41980208, ...,  0.59349507,\n",
       "         0.6623621 ,  2.85722834],\n",
       "       [-1.04270382, -0.20809463, -1.35744059, ...,  0.60511296,\n",
       "         0.63306998,  2.7566131 ],\n",
       "       [-0.96073347, -0.14872295, -1.28770422, ...,  0.60790744,\n",
       "         0.59896628,  2.66061352],\n",
       "       ...,\n",
       "       [-0.11465263, -0.88708465, -1.5610518 , ..., -1.72240858,\n",
       "        -1.05736244, -1.89117291],\n",
       "       [-0.15027715, -0.93689519, -1.67179819, ..., -1.93091867,\n",
       "        -1.16754492, -1.99177866],\n",
       "       [-0.19482087, -0.99835128, -1.80212475, ..., -2.18047711,\n",
       "        -1.30143183, -2.11945225]])"
      ]
     },
     "execution_count": 339,
     "metadata": {},
     "output_type": "execute_result"
    }
   ],
   "source": [
    "x_train_filter_PR_st.values"
   ]
  },
  {
   "cell_type": "code",
   "execution_count": 340,
   "id": "7b87f57c",
   "metadata": {},
   "outputs": [
    {
     "data": {
      "text/plain": [
       "(1185498, 32)"
      ]
     },
     "execution_count": 340,
     "metadata": {},
     "output_type": "execute_result"
    }
   ],
   "source": [
    "x_train_filter_PR_st.shape"
   ]
  },
  {
   "cell_type": "markdown",
   "id": "44aa6bb3",
   "metadata": {},
   "source": [
    "Testing data with Polyregression and standardization"
   ]
  },
  {
   "cell_type": "code",
   "execution_count": 341,
   "id": "11f294c6",
   "metadata": {},
   "outputs": [],
   "source": [
    "x_test_filter_PR = polyregression_allsignal(x_ts_data, 50)"
   ]
  },
  {
   "cell_type": "code",
   "execution_count": 342,
   "id": "2f228ee2",
   "metadata": {},
   "outputs": [
    {
     "data": {
      "text/plain": [
       "array([[-114.06463758,  161.79308746,  365.71714619, ..., -108.88806739,\n",
       "          35.46632232,  -73.76730698],\n",
       "       [-120.95996547,  125.5116798 ,  361.40974195, ..., -131.74719502,\n",
       "          19.58045424,  -73.44451   ],\n",
       "       [-125.78810152,   95.4387374 ,  358.12158251, ..., -150.72026564,\n",
       "           6.61172555,  -73.14562478],\n",
       "       ...,\n",
       "       [ 170.36424827,  340.78781017,  389.59064947, ...,  134.08036834,\n",
       "         254.16838838,  209.11724056],\n",
       "       [ 185.66899067,  360.96191195,  387.35204317, ...,  107.75177916,\n",
       "         237.9821502 ,  226.14249564],\n",
       "       [ 203.1903155 ,  382.55394136,  384.22922799, ...,   75.55514325,\n",
       "         216.64784291,  246.1715408 ]])"
      ]
     },
     "execution_count": 342,
     "metadata": {},
     "output_type": "execute_result"
    }
   ],
   "source": [
    "x_test_filter_PR"
   ]
  },
  {
   "cell_type": "code",
   "execution_count": 343,
   "id": "0a9815e7",
   "metadata": {},
   "outputs": [
    {
     "data": {
      "text/plain": [
       "(236894, 32)"
      ]
     },
     "execution_count": 343,
     "metadata": {},
     "output_type": "execute_result"
    }
   ],
   "source": [
    "x_test_filter_PR.shape"
   ]
  },
  {
   "cell_type": "code",
   "execution_count": 344,
   "id": "0489667d",
   "metadata": {},
   "outputs": [],
   "source": [
    "x_test_filter_PR_st = StandardScaler().fit_transform(x_test_filter_PR)\n",
    "x_test_filter_PR_st = pd.DataFrame(x_test_filter_PR_st)\n",
    "y_test=pd.DataFrame(y_ts_data)"
   ]
  },
  {
   "cell_type": "code",
   "execution_count": 345,
   "id": "75d4fd1d",
   "metadata": {},
   "outputs": [
    {
     "data": {
      "text/plain": [
       "array([[-0.44636759, -0.09224512,  0.36928548, ..., -0.89275865,\n",
       "         0.49832262, -0.84673956],\n",
       "       [-0.45793029, -0.26964913,  0.34091351, ..., -1.06192476,\n",
       "         0.40340635, -0.84470496],\n",
       "       [-0.46602654, -0.41669582,  0.3192551 , ..., -1.2023326 ,\n",
       "         0.32591965, -0.84282108],\n",
       "       ...,\n",
       "       [ 0.03058811,  0.78297952,  0.5265352 , ...,  0.90529884,\n",
       "         1.80504285,  0.93628989],\n",
       "       [ 0.05625247,  0.88162416,  0.51178998, ...,  0.71045741,\n",
       "         1.7083319 ,  1.04360056],\n",
       "       [ 0.08563379,  0.987202  ,  0.49122065, ...,  0.47219024,\n",
       "         1.58086181,  1.16984421]])"
      ]
     },
     "execution_count": 345,
     "metadata": {},
     "output_type": "execute_result"
    }
   ],
   "source": [
    "x_test_filter_PR_st.values"
   ]
  },
  {
   "cell_type": "code",
   "execution_count": 346,
   "id": "1667d0f9",
   "metadata": {},
   "outputs": [
    {
     "data": {
      "text/plain": [
       "(236894, 32)"
      ]
     },
     "execution_count": 346,
     "metadata": {},
     "output_type": "execute_result"
    }
   ],
   "source": [
    "x_test_filter_PR_st.shape"
   ]
  },
  {
   "cell_type": "markdown",
   "id": "0dfa6423",
   "metadata": {},
   "source": [
    "Filter [0 0 0 0 0 0] from the data"
   ]
  },
  {
   "cell_type": "code",
   "execution_count": 347,
   "id": "4ee21bc7",
   "metadata": {},
   "outputs": [],
   "source": [
    "x_data_filter, y_data_filter = filter_dataset(x_train_filter_PR_st.values, y_data)"
   ]
  },
  {
   "cell_type": "code",
   "execution_count": 348,
   "id": "604a058e",
   "metadata": {},
   "outputs": [
    {
     "data": {
      "text/plain": [
       "(132965, 20, 32)"
      ]
     },
     "execution_count": 348,
     "metadata": {},
     "output_type": "execute_result"
    }
   ],
   "source": [
    "x_data_filter.shape"
   ]
  },
  {
   "cell_type": "code",
   "execution_count": 349,
   "id": "4b641a9f",
   "metadata": {},
   "outputs": [
    {
     "data": {
      "text/plain": [
       "(132965, 6)"
      ]
     },
     "execution_count": 349,
     "metadata": {},
     "output_type": "execute_result"
    }
   ],
   "source": [
    "y_data_filter.shape"
   ]
  },
  {
   "cell_type": "code",
   "execution_count": 350,
   "id": "4529eca3",
   "metadata": {},
   "outputs": [],
   "source": [
    "x_ts_data_filter, y_ts_data_filter = filter_dataset(x_test_filter_PR_st.values, y_ts_data)"
   ]
  },
  {
   "cell_type": "code",
   "execution_count": 351,
   "id": "a8c6fba2",
   "metadata": {},
   "outputs": [
    {
     "data": {
      "text/plain": [
       "(45838, 20, 32)"
      ]
     },
     "execution_count": 351,
     "metadata": {},
     "output_type": "execute_result"
    }
   ],
   "source": [
    "x_ts_data_filter.shape"
   ]
  },
  {
   "cell_type": "code",
   "execution_count": 352,
   "id": "a0ad8844",
   "metadata": {},
   "outputs": [
    {
     "data": {
      "text/plain": [
       "(45838, 6)"
      ]
     },
     "execution_count": 352,
     "metadata": {},
     "output_type": "execute_result"
    }
   ],
   "source": [
    "y_ts_data_filter.shape"
   ]
  },
  {
   "cell_type": "markdown",
   "id": "aee1b8a7",
   "metadata": {},
   "source": [
    "Shuffle"
   ]
  },
  {
   "cell_type": "code",
   "execution_count": 353,
   "id": "9a245bd8",
   "metadata": {},
   "outputs": [],
   "source": [
    "x_data_filter, y_data_filter = utils.shuffle(x_data_filter, y_data_filter)"
   ]
  },
  {
   "cell_type": "code",
   "execution_count": 354,
   "id": "6f777e0c",
   "metadata": {},
   "outputs": [
    {
     "data": {
      "text/plain": [
       "(132965, 20, 32)"
      ]
     },
     "execution_count": 354,
     "metadata": {},
     "output_type": "execute_result"
    }
   ],
   "source": [
    "x_data_filter.shape"
   ]
  },
  {
   "cell_type": "code",
   "execution_count": 355,
   "id": "22cc6a94",
   "metadata": {},
   "outputs": [
    {
     "data": {
      "text/plain": [
       "(132965, 6)"
      ]
     },
     "execution_count": 355,
     "metadata": {},
     "output_type": "execute_result"
    }
   ],
   "source": [
    "y_data_filter.shape"
   ]
  },
  {
   "cell_type": "markdown",
   "id": "5f03aad2",
   "metadata": {},
   "source": [
    "Model"
   ]
  },
  {
   "cell_type": "code",
   "execution_count": 356,
   "id": "ace157bb",
   "metadata": {},
   "outputs": [
    {
     "name": "stderr",
     "output_type": "stream",
     "text": [
      "C:\\Users\\User\\anaconda3\\envs\\modelop_gpu\\lib\\site-packages\\tensorflow\\python\\keras\\optimizer_v2\\optimizer_v2.py:374: UserWarning: The `lr` argument is deprecated, use `learning_rate` instead.\n",
      "  warnings.warn(\n"
     ]
    },
    {
     "name": "stdout",
     "output_type": "stream",
     "text": [
      "Model: \"sequential_13\"\n",
      "_________________________________________________________________\n",
      "Layer (type)                 Output Shape              Param #   \n",
      "=================================================================\n",
      "lstm_52 (LSTM)               (None, 20, 128)           82432     \n",
      "_________________________________________________________________\n",
      "dropout_39 (Dropout)         (None, 20, 128)           0         \n",
      "_________________________________________________________________\n",
      "lstm_53 (LSTM)               (None, 20, 128)           131584    \n",
      "_________________________________________________________________\n",
      "dropout_40 (Dropout)         (None, 20, 128)           0         \n",
      "_________________________________________________________________\n",
      "lstm_54 (LSTM)               (None, 20, 128)           131584    \n",
      "_________________________________________________________________\n",
      "dropout_41 (Dropout)         (None, 20, 128)           0         \n",
      "_________________________________________________________________\n",
      "lstm_55 (LSTM)               (None, 128)               131584    \n",
      "_________________________________________________________________\n",
      "dense_26 (Dense)             (None, 32)                4128      \n",
      "_________________________________________________________________\n",
      "dense_27 (Dense)             (None, 6)                 198       \n",
      "=================================================================\n",
      "Total params: 481,510\n",
      "Trainable params: 481,510\n",
      "Non-trainable params: 0\n",
      "_________________________________________________________________\n",
      "Epoch 1/30\n",
      "1870/1870 [==============================] - 32s 15ms/step - loss: 0.1302 - accuracy: 0.7808 - val_loss: 0.0617 - val_accuracy: 0.8330\n",
      "Epoch 2/30\n",
      "1870/1870 [==============================] - 27s 14ms/step - loss: 0.0589 - accuracy: 0.8542 - val_loss: 0.0446 - val_accuracy: 0.8589\n",
      "Epoch 3/30\n",
      "1870/1870 [==============================] - 25s 14ms/step - loss: 0.0488 - accuracy: 0.8552 - val_loss: 0.0492 - val_accuracy: 0.8615\n",
      "Epoch 4/30\n",
      "1870/1870 [==============================] - 26s 14ms/step - loss: 0.0399 - accuracy: 0.8608 - val_loss: 0.0277 - val_accuracy: 0.8664\n",
      "Epoch 5/30\n",
      "1870/1870 [==============================] - 26s 14ms/step - loss: 0.0352 - accuracy: 0.8618 - val_loss: 0.0264 - val_accuracy: 0.8631\n",
      "Epoch 6/30\n",
      "1870/1870 [==============================] - 26s 14ms/step - loss: 0.0306 - accuracy: 0.8658 - val_loss: 0.0243 - val_accuracy: 0.8740\n",
      "Epoch 7/30\n",
      "1870/1870 [==============================] - 26s 14ms/step - loss: 0.0282 - accuracy: 0.8635 - val_loss: 0.0202 - val_accuracy: 0.8700\n",
      "Epoch 8/30\n",
      "1870/1870 [==============================] - 25s 14ms/step - loss: 0.0253 - accuracy: 0.8670 - val_loss: 0.0190 - val_accuracy: 0.8826\n",
      "Epoch 9/30\n",
      "1870/1870 [==============================] - 26s 14ms/step - loss: 0.0269 - accuracy: 0.8676 - val_loss: 0.0193 - val_accuracy: 0.8706\n",
      "Epoch 10/30\n",
      "1870/1870 [==============================] - 26s 14ms/step - loss: 0.0217 - accuracy: 0.8761 - val_loss: 0.0174 - val_accuracy: 0.8731\n",
      "Epoch 11/30\n",
      "1870/1870 [==============================] - 26s 14ms/step - loss: 0.0218 - accuracy: 0.8746 - val_loss: 0.0171 - val_accuracy: 0.8594\n",
      "Epoch 12/30\n",
      "1870/1870 [==============================] - 26s 14ms/step - loss: 0.0193 - accuracy: 0.8710 - val_loss: 0.0193 - val_accuracy: 0.8903\n",
      "Epoch 13/30\n",
      "1870/1870 [==============================] - 26s 14ms/step - loss: 0.0197 - accuracy: 0.8733 - val_loss: 0.0174 - val_accuracy: 0.8774\n",
      "Epoch 14/30\n",
      "1870/1870 [==============================] - 26s 14ms/step - loss: 0.0177 - accuracy: 0.8721 - val_loss: 0.0133 - val_accuracy: 0.8672\n",
      "Epoch 15/30\n",
      "1870/1870 [==============================] - 26s 14ms/step - loss: 0.0169 - accuracy: 0.8697 - val_loss: 0.0191 - val_accuracy: 0.8559\n",
      "Epoch 16/30\n",
      "1870/1870 [==============================] - 26s 14ms/step - loss: 0.0168 - accuracy: 0.8711 - val_loss: 0.0130 - val_accuracy: 0.8755\n",
      "Epoch 17/30\n",
      "1870/1870 [==============================] - 26s 14ms/step - loss: 0.0157 - accuracy: 0.8726 - val_loss: 0.0128 - val_accuracy: 0.8740\n",
      "Epoch 18/30\n",
      "1870/1870 [==============================] - 26s 14ms/step - loss: 0.0150 - accuracy: 0.8786 - val_loss: 0.0156 - val_accuracy: 0.8676\n",
      "Epoch 19/30\n",
      "1870/1870 [==============================] - 26s 14ms/step - loss: 0.0153 - accuracy: 0.8769 - val_loss: 0.0123 - val_accuracy: 0.8816\n",
      "Epoch 20/30\n",
      "1870/1870 [==============================] - 26s 14ms/step - loss: 0.0140 - accuracy: 0.8735 - val_loss: 0.0134 - val_accuracy: 0.8604\n",
      "Epoch 21/30\n",
      "1870/1870 [==============================] - 26s 14ms/step - loss: 0.0138 - accuracy: 0.8721 - val_loss: 0.0109 - val_accuracy: 0.8701\n",
      "Epoch 22/30\n",
      "1870/1870 [==============================] - 26s 14ms/step - loss: 0.0132 - accuracy: 0.8771 - val_loss: 0.0117 - val_accuracy: 0.8778\n",
      "Epoch 23/30\n",
      "1870/1870 [==============================] - 26s 14ms/step - loss: 0.0135 - accuracy: 0.8752 - val_loss: 0.0118 - val_accuracy: 0.8591\n",
      "Epoch 24/30\n",
      "1870/1870 [==============================] - 26s 14ms/step - loss: 0.0126 - accuracy: 0.8756 - val_loss: 0.0108 - val_accuracy: 0.8823\n",
      "Epoch 25/30\n",
      "1870/1870 [==============================] - 26s 14ms/step - loss: 0.0127 - accuracy: 0.8793 - val_loss: 0.0099 - val_accuracy: 0.8832\n",
      "Epoch 26/30\n",
      "1870/1870 [==============================] - 26s 14ms/step - loss: 0.0122 - accuracy: 0.8717 - val_loss: 0.0097 - val_accuracy: 0.8706\n",
      "Epoch 27/30\n",
      "1870/1870 [==============================] - 26s 14ms/step - loss: 0.0119 - accuracy: 0.8792 - val_loss: 0.0092 - val_accuracy: 0.8764\n",
      "Epoch 28/30\n",
      "1870/1870 [==============================] - 26s 14ms/step - loss: 0.0110 - accuracy: 0.8741 - val_loss: 0.0097 - val_accuracy: 0.8809\n",
      "Epoch 29/30\n",
      "1870/1870 [==============================] - 26s 14ms/step - loss: 0.0113 - accuracy: 0.8751 - val_loss: 0.0096 - val_accuracy: 0.8534\n",
      "Epoch 30/30\n",
      "1870/1870 [==============================] - 26s 14ms/step - loss: 0.0118 - accuracy: 0.8656 - val_loss: 0.0105 - val_accuracy: 0.8597\n"
     ]
    },
    {
     "data": {
      "text/plain": [
       "<tensorflow.python.keras.callbacks.History at 0x1de2f377eb0>"
      ]
     },
     "execution_count": 356,
     "metadata": {},
     "output_type": "execute_result"
    }
   ],
   "source": [
    "model_with_PR_standard = LSTM_model(32)\n",
    "model_with_PR_standard.fit(x_data_filter, y_data_filter, epochs=30, batch_size=64, validation_split=0.1)"
   ]
  },
  {
   "cell_type": "code",
   "execution_count": 357,
   "id": "034b7dd2",
   "metadata": {},
   "outputs": [],
   "source": [
    "model_with_PR_standard.save(\"modelop/LSTM/LSTM_with_PR50_standard.h5\")"
   ]
  },
  {
   "cell_type": "markdown",
   "id": "2b830c8e",
   "metadata": {},
   "source": [
    "Evaluate"
   ]
  },
  {
   "cell_type": "code",
   "execution_count": 358,
   "id": "f1891fff",
   "metadata": {},
   "outputs": [
    {
     "name": "stdout",
     "output_type": "stream",
     "text": [
      "Model: \"sequential_13\"\n",
      "_________________________________________________________________\n",
      "Layer (type)                 Output Shape              Param #   \n",
      "=================================================================\n",
      "lstm_52 (LSTM)               (None, 20, 128)           82432     \n",
      "_________________________________________________________________\n",
      "dropout_39 (Dropout)         (None, 20, 128)           0         \n",
      "_________________________________________________________________\n",
      "lstm_53 (LSTM)               (None, 20, 128)           131584    \n",
      "_________________________________________________________________\n",
      "dropout_40 (Dropout)         (None, 20, 128)           0         \n",
      "_________________________________________________________________\n",
      "lstm_54 (LSTM)               (None, 20, 128)           131584    \n",
      "_________________________________________________________________\n",
      "dropout_41 (Dropout)         (None, 20, 128)           0         \n",
      "_________________________________________________________________\n",
      "lstm_55 (LSTM)               (None, 128)               131584    \n",
      "_________________________________________________________________\n",
      "dense_26 (Dense)             (None, 32)                4128      \n",
      "_________________________________________________________________\n",
      "dense_27 (Dense)             (None, 6)                 198       \n",
      "=================================================================\n",
      "Total params: 481,510\n",
      "Trainable params: 481,510\n",
      "Non-trainable params: 0\n",
      "_________________________________________________________________\n"
     ]
    }
   ],
   "source": [
    "model = load_model(\"modelop/LSTM/LSTM_with_PR50_standard.h5\")\n",
    "model.summary()"
   ]
  },
  {
   "cell_type": "code",
   "execution_count": 359,
   "id": "f9237cb8",
   "metadata": {},
   "outputs": [
    {
     "name": "stdout",
     "output_type": "stream",
     "text": [
      "1433/1433 [==============================] - 11s 7ms/step - loss: 1.0684 - accuracy: 0.6543\n"
     ]
    },
    {
     "data": {
      "text/plain": [
       "[1.068359613418579, 0.6543478965759277]"
      ]
     },
     "execution_count": 359,
     "metadata": {},
     "output_type": "execute_result"
    }
   ],
   "source": [
    "model.evaluate(x_ts_data_filter, y_ts_data_filter)"
   ]
  },
  {
   "cell_type": "markdown",
   "id": "32f8284c",
   "metadata": {},
   "source": [
    "# With Polyregression and standardization (segment length = 25)"
   ]
  },
  {
   "cell_type": "markdown",
   "id": "06b260ad",
   "metadata": {},
   "source": [
    "Training data with Polyregression and standardization"
   ]
  },
  {
   "cell_type": "code",
   "execution_count": 360,
   "id": "41c50a9a",
   "metadata": {},
   "outputs": [],
   "source": [
    "x_train_filter_PR = polyregression_allsignal(x_data, 25)"
   ]
  },
  {
   "cell_type": "code",
   "execution_count": 361,
   "id": "8be7c7da",
   "metadata": {},
   "outputs": [
    {
     "data": {
      "text/plain": [
       "array([[ -50.2086649 ,  392.24827586,  176.18785735, ...,  142.46153846,\n",
       "          83.98956676,  694.49478338],\n",
       "       [-116.89204244,  303.38924256,  132.15723549, ...,  156.74444444,\n",
       "          91.16578249,  687.94143826],\n",
       "       [-156.80410948,  247.53922526,  110.25334897, ...,  165.23675214,\n",
       "          93.58675662,  678.64066556],\n",
       "       ...,\n",
       "       [ 175.74743083,   85.06029188,   45.15053208, ..., -245.26205534,\n",
       "        -210.73238066, -243.90434783],\n",
       "       [ 156.52627952,   43.64278909,   79.85305564, ..., -267.29184149,\n",
       "        -231.36223776, -271.84617412],\n",
       "       [ 123.85562988,  -25.1122631 ,  143.23210702, ..., -295.803233  ,\n",
       "        -264.15317726, -319.33534002]])"
      ]
     },
     "execution_count": 361,
     "metadata": {},
     "output_type": "execute_result"
    }
   ],
   "source": [
    "x_train_filter_PR"
   ]
  },
  {
   "cell_type": "code",
   "execution_count": 362,
   "id": "064fe395",
   "metadata": {},
   "outputs": [
    {
     "data": {
      "text/plain": [
       "(1185498, 32)"
      ]
     },
     "execution_count": 362,
     "metadata": {},
     "output_type": "execute_result"
    }
   ],
   "source": [
    "x_train_filter_PR.shape"
   ]
  },
  {
   "cell_type": "code",
   "execution_count": 363,
   "id": "bb6e8ffa",
   "metadata": {},
   "outputs": [],
   "source": [
    "x_train_filter_PR_st = StandardScaler().fit_transform(x_train_filter_PR)\n",
    "x_train_filter_PR_st = pd.DataFrame(x_train_filter_PR_st)\n",
    "y=pd.DataFrame(y_data)"
   ]
  },
  {
   "cell_type": "code",
   "execution_count": 364,
   "id": "5aee593a",
   "metadata": {},
   "outputs": [
    {
     "data": {
      "text/plain": [
       "array([[-0.70351937,  0.24107183, -1.02321551, ...,  0.49344563,\n",
       "         0.5463857 ,  2.67753487],\n",
       "       [-0.89151059, -0.05783174, -1.24631765, ...,  0.57251557,\n",
       "         0.58295602,  2.64678453],\n",
       "       [-1.00402915, -0.24569974, -1.35730414, ...,  0.61952884,\n",
       "         0.59529342,  2.60314241],\n",
       "       ...,\n",
       "       [-0.06651263, -0.79224555, -1.68717861, ..., -1.65298588,\n",
       "        -0.95553062, -1.72572631],\n",
       "       [-0.12070016, -0.93156553, -1.51134172, ..., -1.77494242,\n",
       "        -1.0606613 , -1.85683807],\n",
       "       [-0.212804  , -1.16284343, -1.19020153, ..., -1.93278102,\n",
       "        -1.22776541, -2.07967203]])"
      ]
     },
     "execution_count": 364,
     "metadata": {},
     "output_type": "execute_result"
    }
   ],
   "source": [
    "x_train_filter_PR_st.values"
   ]
  },
  {
   "cell_type": "code",
   "execution_count": 365,
   "id": "571ff8d9",
   "metadata": {},
   "outputs": [
    {
     "data": {
      "text/plain": [
       "(1185498, 32)"
      ]
     },
     "execution_count": 365,
     "metadata": {},
     "output_type": "execute_result"
    }
   ],
   "source": [
    "x_train_filter_PR_st.shape"
   ]
  },
  {
   "cell_type": "markdown",
   "id": "f97a855f",
   "metadata": {},
   "source": [
    "Testing data with Polyregression and standardization"
   ]
  },
  {
   "cell_type": "code",
   "execution_count": 366,
   "id": "c9e9df84",
   "metadata": {},
   "outputs": [],
   "source": [
    "x_test_filter_PR = polyregression_allsignal(x_ts_data, 25)"
   ]
  },
  {
   "cell_type": "code",
   "execution_count": 367,
   "id": "6ea18805",
   "metadata": {},
   "outputs": [
    {
     "data": {
      "text/plain": [
       "array([[-191.08582375,  103.50433245,  352.91900973, ..., -138.75060419,\n",
       "           5.60011789, -105.91058061],\n",
       "       [-154.43082818,  101.20456823,  345.18308282, ..., -135.5290893 ,\n",
       "          14.97409372,  -78.29991158],\n",
       "       [-126.41976063,   96.53072438,  343.89759479, ..., -138.38392342,\n",
       "          17.75148964,  -60.98167455],\n",
       "       ...,\n",
       "       [ 229.50172339,  375.39630115,  404.11092892, ...,  134.17170222,\n",
       "         252.08126221,  213.15616523],\n",
       "       [ 166.10235074,  320.09479232,  385.76471812, ...,  109.19686568,\n",
       "         245.68968865,  234.78136052],\n",
       "       [  56.29893905,  234.16122322,  359.48117329, ...,   80.92677346,\n",
       "         239.45787393,  260.72852091]])"
      ]
     },
     "execution_count": 367,
     "metadata": {},
     "output_type": "execute_result"
    }
   ],
   "source": [
    "x_test_filter_PR"
   ]
  },
  {
   "cell_type": "code",
   "execution_count": 368,
   "id": "129fea11",
   "metadata": {},
   "outputs": [
    {
     "data": {
      "text/plain": [
       "(236894, 32)"
      ]
     },
     "execution_count": 368,
     "metadata": {},
     "output_type": "execute_result"
    }
   ],
   "source": [
    "x_test_filter_PR.shape"
   ]
  },
  {
   "cell_type": "code",
   "execution_count": 369,
   "id": "11f97f8e",
   "metadata": {},
   "outputs": [],
   "source": [
    "x_test_filter_PR_st = StandardScaler().fit_transform(x_test_filter_PR)\n",
    "x_test_filter_PR_st = pd.DataFrame(x_test_filter_PR_st)\n",
    "y_test=pd.DataFrame(y_ts_data)"
   ]
  },
  {
   "cell_type": "code",
   "execution_count": 370,
   "id": "3368280a",
   "metadata": {},
   "outputs": [
    {
     "data": {
      "text/plain": [
       "array([[-0.57437857, -0.36850515,  0.27825736, ..., -1.0907054 ,\n",
       "         0.31592833, -1.02297433],\n",
       "       [-0.51303449, -0.37948934,  0.22850566, ..., -1.06735832,\n",
       "         0.37124566, -0.85331611],\n",
       "       [-0.46615649, -0.40181266,  0.22023836, ..., -1.08804798,\n",
       "         0.38763552, -0.7469014 ],\n",
       "       ...,\n",
       "       [ 0.12949695,  0.93011187,  0.60748554, ...,  0.88722714,\n",
       "         1.77045315,  0.93758294],\n",
       "       [ 0.02339474,  0.66597946,  0.48949642, ...,  0.70622859,\n",
       "         1.73273545,  1.07046245],\n",
       "       [-0.16036707,  0.25554146,  0.3204603 , ...,  0.50134854,\n",
       "         1.69596051,  1.22989898]])"
      ]
     },
     "execution_count": 370,
     "metadata": {},
     "output_type": "execute_result"
    }
   ],
   "source": [
    "x_test_filter_PR_st.values"
   ]
  },
  {
   "cell_type": "code",
   "execution_count": 371,
   "id": "d1f7a491",
   "metadata": {},
   "outputs": [
    {
     "data": {
      "text/plain": [
       "(236894, 32)"
      ]
     },
     "execution_count": 371,
     "metadata": {},
     "output_type": "execute_result"
    }
   ],
   "source": [
    "x_test_filter_PR_st.shape"
   ]
  },
  {
   "cell_type": "markdown",
   "id": "fa0b78f3",
   "metadata": {},
   "source": [
    "Filter [0 0 0 0 0 0] from the data"
   ]
  },
  {
   "cell_type": "code",
   "execution_count": 372,
   "id": "605bd507",
   "metadata": {},
   "outputs": [],
   "source": [
    "x_data_filter, y_data_filter = filter_dataset(x_train_filter_PR_st.values, y_data)"
   ]
  },
  {
   "cell_type": "code",
   "execution_count": 373,
   "id": "3ac14b00",
   "metadata": {},
   "outputs": [
    {
     "data": {
      "text/plain": [
       "(132965, 20, 32)"
      ]
     },
     "execution_count": 373,
     "metadata": {},
     "output_type": "execute_result"
    }
   ],
   "source": [
    "x_data_filter.shape"
   ]
  },
  {
   "cell_type": "code",
   "execution_count": 374,
   "id": "e3efb5a3",
   "metadata": {},
   "outputs": [
    {
     "data": {
      "text/plain": [
       "(132965, 6)"
      ]
     },
     "execution_count": 374,
     "metadata": {},
     "output_type": "execute_result"
    }
   ],
   "source": [
    "y_data_filter.shape"
   ]
  },
  {
   "cell_type": "code",
   "execution_count": 375,
   "id": "5b1a21ae",
   "metadata": {},
   "outputs": [],
   "source": [
    "x_ts_data_filter, y_ts_data_filter = filter_dataset(x_test_filter_PR_st.values, y_ts_data)"
   ]
  },
  {
   "cell_type": "code",
   "execution_count": 376,
   "id": "2dc48089",
   "metadata": {},
   "outputs": [
    {
     "data": {
      "text/plain": [
       "(45838, 20, 32)"
      ]
     },
     "execution_count": 376,
     "metadata": {},
     "output_type": "execute_result"
    }
   ],
   "source": [
    "x_ts_data_filter.shape"
   ]
  },
  {
   "cell_type": "code",
   "execution_count": 377,
   "id": "4cc8ae04",
   "metadata": {},
   "outputs": [
    {
     "data": {
      "text/plain": [
       "(45838, 6)"
      ]
     },
     "execution_count": 377,
     "metadata": {},
     "output_type": "execute_result"
    }
   ],
   "source": [
    "y_ts_data_filter.shape"
   ]
  },
  {
   "cell_type": "markdown",
   "id": "2655f757",
   "metadata": {},
   "source": [
    "Shuffle"
   ]
  },
  {
   "cell_type": "code",
   "execution_count": 378,
   "id": "4af2cf02",
   "metadata": {},
   "outputs": [],
   "source": [
    "x_data_filter, y_data_filter = utils.shuffle(x_data_filter, y_data_filter)"
   ]
  },
  {
   "cell_type": "code",
   "execution_count": 379,
   "id": "f7583df1",
   "metadata": {},
   "outputs": [
    {
     "data": {
      "text/plain": [
       "(132965, 20, 32)"
      ]
     },
     "execution_count": 379,
     "metadata": {},
     "output_type": "execute_result"
    }
   ],
   "source": [
    "x_data_filter.shape"
   ]
  },
  {
   "cell_type": "code",
   "execution_count": 380,
   "id": "7aeab08a",
   "metadata": {},
   "outputs": [
    {
     "data": {
      "text/plain": [
       "(132965, 6)"
      ]
     },
     "execution_count": 380,
     "metadata": {},
     "output_type": "execute_result"
    }
   ],
   "source": [
    "y_data_filter.shape"
   ]
  },
  {
   "cell_type": "markdown",
   "id": "fb494908",
   "metadata": {},
   "source": [
    "Model"
   ]
  },
  {
   "cell_type": "code",
   "execution_count": 381,
   "id": "4270257d",
   "metadata": {},
   "outputs": [
    {
     "name": "stderr",
     "output_type": "stream",
     "text": [
      "C:\\Users\\User\\anaconda3\\envs\\modelop_gpu\\lib\\site-packages\\tensorflow\\python\\keras\\optimizer_v2\\optimizer_v2.py:374: UserWarning: The `lr` argument is deprecated, use `learning_rate` instead.\n",
      "  warnings.warn(\n"
     ]
    },
    {
     "name": "stdout",
     "output_type": "stream",
     "text": [
      "Model: \"sequential_14\"\n",
      "_________________________________________________________________\n",
      "Layer (type)                 Output Shape              Param #   \n",
      "=================================================================\n",
      "lstm_56 (LSTM)               (None, 20, 128)           82432     \n",
      "_________________________________________________________________\n",
      "dropout_42 (Dropout)         (None, 20, 128)           0         \n",
      "_________________________________________________________________\n",
      "lstm_57 (LSTM)               (None, 20, 128)           131584    \n",
      "_________________________________________________________________\n",
      "dropout_43 (Dropout)         (None, 20, 128)           0         \n",
      "_________________________________________________________________\n",
      "lstm_58 (LSTM)               (None, 20, 128)           131584    \n",
      "_________________________________________________________________\n",
      "dropout_44 (Dropout)         (None, 20, 128)           0         \n",
      "_________________________________________________________________\n",
      "lstm_59 (LSTM)               (None, 128)               131584    \n",
      "_________________________________________________________________\n",
      "dense_28 (Dense)             (None, 32)                4128      \n",
      "_________________________________________________________________\n",
      "dense_29 (Dense)             (None, 6)                 198       \n",
      "=================================================================\n",
      "Total params: 481,510\n",
      "Trainable params: 481,510\n",
      "Non-trainable params: 0\n",
      "_________________________________________________________________\n",
      "Epoch 1/30\n",
      "1870/1870 [==============================] - 31s 15ms/step - loss: 0.1318 - accuracy: 0.7824 - val_loss: 0.0771 - val_accuracy: 0.8674\n",
      "Epoch 2/30\n",
      "1870/1870 [==============================] - 25s 13ms/step - loss: 0.0606 - accuracy: 0.8561 - val_loss: 0.0480 - val_accuracy: 0.8506\n",
      "Epoch 3/30\n",
      "1870/1870 [==============================] - 25s 13ms/step - loss: 0.0490 - accuracy: 0.8577 - val_loss: 0.0400 - val_accuracy: 0.8446\n",
      "Epoch 4/30\n",
      "1870/1870 [==============================] - 25s 14ms/step - loss: 0.0418 - accuracy: 0.8574 - val_loss: 0.0315 - val_accuracy: 0.8680\n",
      "Epoch 5/30\n",
      "1870/1870 [==============================] - 26s 14ms/step - loss: 0.0362 - accuracy: 0.8598 - val_loss: 0.0297 - val_accuracy: 0.8570\n",
      "Epoch 6/30\n",
      "1870/1870 [==============================] - 26s 14ms/step - loss: 0.0317 - accuracy: 0.8589 - val_loss: 0.0286 - val_accuracy: 0.8635\n",
      "Epoch 7/30\n",
      "1870/1870 [==============================] - 26s 14ms/step - loss: 0.0291 - accuracy: 0.8617 - val_loss: 0.0233 - val_accuracy: 0.8574\n",
      "Epoch 8/30\n",
      "1870/1870 [==============================] - 26s 14ms/step - loss: 0.0263 - accuracy: 0.8613 - val_loss: 0.0217 - val_accuracy: 0.8560\n",
      "Epoch 9/30\n",
      "1870/1870 [==============================] - 26s 14ms/step - loss: 0.0242 - accuracy: 0.8652 - val_loss: 0.0204 - val_accuracy: 0.8533\n",
      "Epoch 10/30\n",
      "1870/1870 [==============================] - 26s 14ms/step - loss: 0.0233 - accuracy: 0.8680 - val_loss: 0.0220 - val_accuracy: 0.8857\n",
      "Epoch 11/30\n",
      "1870/1870 [==============================] - 26s 14ms/step - loss: 0.0212 - accuracy: 0.8647 - val_loss: 0.0168 - val_accuracy: 0.8606\n",
      "Epoch 12/30\n",
      "1870/1870 [==============================] - 26s 14ms/step - loss: 0.0188 - accuracy: 0.8681 - val_loss: 0.0139 - val_accuracy: 0.8541\n",
      "Epoch 13/30\n",
      "1870/1870 [==============================] - 26s 14ms/step - loss: 0.0200 - accuracy: 0.8684 - val_loss: 0.0152 - val_accuracy: 0.8626\n",
      "Epoch 14/30\n",
      "1870/1870 [==============================] - 26s 14ms/step - loss: 0.0171 - accuracy: 0.8673 - val_loss: 0.0171 - val_accuracy: 0.8504\n",
      "Epoch 15/30\n",
      "1870/1870 [==============================] - 26s 14ms/step - loss: 0.0162 - accuracy: 0.8647 - val_loss: 0.0156 - val_accuracy: 0.8571\n",
      "Epoch 16/30\n",
      "1870/1870 [==============================] - 26s 14ms/step - loss: 0.0154 - accuracy: 0.8716 - val_loss: 0.0143 - val_accuracy: 0.8451\n",
      "Epoch 17/30\n",
      "1870/1870 [==============================] - 26s 14ms/step - loss: 0.0152 - accuracy: 0.8641 - val_loss: 0.0176 - val_accuracy: 0.8636\n",
      "Epoch 18/30\n",
      "1870/1870 [==============================] - 26s 14ms/step - loss: 0.0142 - accuracy: 0.8702 - val_loss: 0.0130 - val_accuracy: 0.8785\n",
      "Epoch 19/30\n",
      "1870/1870 [==============================] - 26s 14ms/step - loss: 0.0152 - accuracy: 0.8696 - val_loss: 0.0135 - val_accuracy: 0.8727\n",
      "Epoch 20/30\n",
      "1870/1870 [==============================] - 26s 14ms/step - loss: 0.0136 - accuracy: 0.8739 - val_loss: 0.0140 - val_accuracy: 0.8566\n",
      "Epoch 21/30\n",
      "1870/1870 [==============================] - 26s 14ms/step - loss: 0.0137 - accuracy: 0.8738 - val_loss: 0.0104 - val_accuracy: 0.8685\n",
      "Epoch 22/30\n",
      "1870/1870 [==============================] - 26s 14ms/step - loss: 0.0122 - accuracy: 0.8747 - val_loss: 0.0120 - val_accuracy: 0.8719\n",
      "Epoch 23/30\n",
      "1870/1870 [==============================] - 26s 14ms/step - loss: 0.0124 - accuracy: 0.8775 - val_loss: 0.0113 - val_accuracy: 0.8617\n",
      "Epoch 24/30\n",
      "1870/1870 [==============================] - 26s 14ms/step - loss: 0.0116 - accuracy: 0.8691 - val_loss: 0.0158 - val_accuracy: 0.8443\n",
      "Epoch 25/30\n",
      "1870/1870 [==============================] - 26s 14ms/step - loss: 0.0114 - accuracy: 0.8641 - val_loss: 0.0108 - val_accuracy: 0.8515\n",
      "Epoch 26/30\n",
      "1870/1870 [==============================] - 26s 14ms/step - loss: 0.0111 - accuracy: 0.8780 - val_loss: 0.0100 - val_accuracy: 0.8716\n",
      "Epoch 27/30\n",
      "1870/1870 [==============================] - 26s 14ms/step - loss: 0.0118 - accuracy: 0.8688 - val_loss: 0.0110 - val_accuracy: 0.8591\n",
      "Epoch 28/30\n",
      "1870/1870 [==============================] - 26s 14ms/step - loss: 0.0102 - accuracy: 0.8663 - val_loss: 0.0098 - val_accuracy: 0.8565\n",
      "Epoch 29/30\n",
      "1870/1870 [==============================] - 26s 14ms/step - loss: 0.0106 - accuracy: 0.8763 - val_loss: 0.0094 - val_accuracy: 0.8655\n",
      "Epoch 30/30\n",
      "1870/1870 [==============================] - 26s 14ms/step - loss: 0.0099 - accuracy: 0.8763 - val_loss: 0.0096 - val_accuracy: 0.8647\n"
     ]
    },
    {
     "data": {
      "text/plain": [
       "<tensorflow.python.keras.callbacks.History at 0x1de4c52d7f0>"
      ]
     },
     "execution_count": 381,
     "metadata": {},
     "output_type": "execute_result"
    }
   ],
   "source": [
    "model_with_PR_standard = LSTM_model(32)\n",
    "model_with_PR_standard.fit(x_data_filter, y_data_filter, epochs=30, batch_size=64, validation_split=0.1)"
   ]
  },
  {
   "cell_type": "code",
   "execution_count": 382,
   "id": "2d4bb8c1",
   "metadata": {},
   "outputs": [],
   "source": [
    "model_with_PR_standard.save(\"modelop/LSTM/LSTM_with_PR25_standard.h5\")"
   ]
  },
  {
   "cell_type": "markdown",
   "id": "95ba98ab",
   "metadata": {},
   "source": [
    "Evaluate"
   ]
  },
  {
   "cell_type": "code",
   "execution_count": 383,
   "id": "aaeb815f",
   "metadata": {},
   "outputs": [
    {
     "name": "stdout",
     "output_type": "stream",
     "text": [
      "Model: \"sequential_14\"\n",
      "_________________________________________________________________\n",
      "Layer (type)                 Output Shape              Param #   \n",
      "=================================================================\n",
      "lstm_56 (LSTM)               (None, 20, 128)           82432     \n",
      "_________________________________________________________________\n",
      "dropout_42 (Dropout)         (None, 20, 128)           0         \n",
      "_________________________________________________________________\n",
      "lstm_57 (LSTM)               (None, 20, 128)           131584    \n",
      "_________________________________________________________________\n",
      "dropout_43 (Dropout)         (None, 20, 128)           0         \n",
      "_________________________________________________________________\n",
      "lstm_58 (LSTM)               (None, 20, 128)           131584    \n",
      "_________________________________________________________________\n",
      "dropout_44 (Dropout)         (None, 20, 128)           0         \n",
      "_________________________________________________________________\n",
      "lstm_59 (LSTM)               (None, 128)               131584    \n",
      "_________________________________________________________________\n",
      "dense_28 (Dense)             (None, 32)                4128      \n",
      "_________________________________________________________________\n",
      "dense_29 (Dense)             (None, 6)                 198       \n",
      "=================================================================\n",
      "Total params: 481,510\n",
      "Trainable params: 481,510\n",
      "Non-trainable params: 0\n",
      "_________________________________________________________________\n"
     ]
    }
   ],
   "source": [
    "model = load_model(\"modelop/LSTM/LSTM_with_PR25_standard.h5\")\n",
    "model.summary()"
   ]
  },
  {
   "cell_type": "code",
   "execution_count": 384,
   "id": "3b928351",
   "metadata": {},
   "outputs": [
    {
     "name": "stdout",
     "output_type": "stream",
     "text": [
      "1433/1433 [==============================] - 12s 7ms/step - loss: 1.0191 - accuracy: 0.6218\n"
     ]
    },
    {
     "data": {
      "text/plain": [
       "[1.0190715789794922, 0.621820330619812]"
      ]
     },
     "execution_count": 384,
     "metadata": {},
     "output_type": "execute_result"
    }
   ],
   "source": [
    "model.evaluate(x_ts_data_filter, y_ts_data_filter)"
   ]
  },
  {
   "cell_type": "code",
   "execution_count": null,
   "id": "e7d983fb",
   "metadata": {},
   "outputs": [],
   "source": []
  }
 ],
 "metadata": {
  "kernelspec": {
   "display_name": "Python 3 (ipykernel)",
   "language": "python",
   "name": "python3"
  },
  "language_info": {
   "codemirror_mode": {
    "name": "ipython",
    "version": 3
   },
   "file_extension": ".py",
   "mimetype": "text/x-python",
   "name": "python",
   "nbconvert_exporter": "python",
   "pygments_lexer": "ipython3",
   "version": "3.8.13"
  }
 },
 "nbformat": 4,
 "nbformat_minor": 5
}
